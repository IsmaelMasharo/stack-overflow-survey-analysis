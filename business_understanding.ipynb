{
 "cells": [
  {
   "cell_type": "markdown",
   "metadata": {},
   "source": [
    "## Business Understanding"
   ]
  },
  {
   "cell_type": "markdown",
   "metadata": {},
   "source": [
    "Stack Overflow has been conducting developer surveys from about a decade. In this notebook we'll explore some of theses features. \n",
    "\n",
    "Lets start by inspecting the feature presence over years. "
   ]
  },
  {
   "cell_type": "markdown",
   "metadata": {},
   "source": [
    "### Feature summary\n",
    "One inmediate thing to point out is that over the years features have been changing. Some questions present in one year could be rephrased or leaved out the next year, furtheremore, feature types could change from one year to another. Bellow is a summary of some of the different features and its types over the years (build from [*features_exploration.ipynb* notebook)](./features_exploration.ipynb)."
   ]
  },
  {
   "cell_type": "markdown",
   "metadata": {},
   "source": [
    "**Multiple choice categorical features**  \n",
    "<pre>\n",
    "<b>dev_type</b>                    2017-onwards         categorical. Previous years: <b>occupation</b>\n",
    "<b>education</b>                   2015-2016\n",
    "<b>education_types</b>             2017-2018\n",
    "<b>job_factors</b>                 2019-2020\n",
    "<b>ethnicity</b>                   2018-onwards\n",
    "<b>gender</b>                      2017-onwards         From 2014 till 2016: categorical single choice\n",
    "<b>sexuality</b>                   2018-onwards\n",
    "<b>programming_languages</b>       2011-2020\n",
    "<b>want_work_language</b>          2013-onwards\n",
    "<b>database_desire_work</b>        2017-onwards\n",
    "<b>database_worked_with</b>        2017-onwards\n",
    "</pre>\n",
    "\n",
    "**Categorical**\n",
    "<pre>\n",
    "<b>country</b>                     2011-2020\n",
    "<b>occupation</b>                  2011-2016            Categorical. Forward years: <b>dev_type</b>. Multiple choice categorical\n",
    "<b>job_satisfaction</b>            2011-2020 but 2014\n",
    "<b>ed_level</b>                    2019-2020\n",
    "<b>undergrad_major</b>             2017-onwards\n",
    "<b>employment</b>                  2015-onwards\n",
    "<b>professional</b>                2017                 Forward years 2019-2020: <b>main_branch</b>\n",
    "<b>os</b>                          2011-2020 but 2017\n",
    "<b>industry</b>                    2011-2017\n",
    "<b>hobbyist</b>                    2018-onwards         Boolean\n",
    "<b>trans</b>                       2019-2020            Boolean\n",
    "<b>org_size</b>                    2017-onwards         Range\n",
    "<b>years_coded_job</b>             2017                 Range\n",
    "<b>years_coded_job_past</b>        2017                 Range\n",
    "<b>remote</b>                      2014-2017, 2019      Indicate frequency of remote working\n",
    "</pre>\n",
    "\n",
    "**Continuous**\n",
    "<pre>\n",
    "<b>work_week_hrs</b>               2019-2020\n",
    "<b>age</b>                         2019-2020            Before is defined as a categorical range\n",
    "<b>age1st_code</b>                 2019-2020            Continuous with exceptions\n",
    "<b>years_code</b>                  2019-2020            Continuous with exceptions\n",
    "<b>years_code_pro</b>              2019-2020            Continuous with exceptions\n",
    "</pre>\n",
    "\n",
    "**Others**\n",
    "<pre>\n",
    "<b>Learning related feature</b>    Inconsistent over years\n",
    "<b>years_experience</b>            Wrong format\n",
    "</pre>"
   ]
  },
  {
   "cell_type": "markdown",
   "metadata": {},
   "source": [
    "<br>"
   ]
  },
  {
   "cell_type": "markdown",
   "metadata": {},
   "source": [
    "As we can see there are many features that could be analized and further explore. `The goal of this analysis is however, not the analysis of every single feature but the ones that could potentially be analyzed over the years`. For this, one alternative would be to look if a feature is present in every single year. Unfortunately that's not the case for most features. Another approach would be to look for features continuously present over a subset of years.\n",
    "\n",
    "Considering both options the features analyzed will be: developers' **top programming languages, job satisfaction and compensation**.\n",
    "\n",
    "From these features we'll want to know the following:\n",
    "### Top Programming Languages\n",
    "* Over the 10 years surveys what have been the top 10 programming languages per year? \n",
    "* Is there any programming language that has remained on top over the years?\n",
    "\n",
    "### Job Satisfaction\n",
    "* How does developers' job satisfaction has evolved?\n",
    "* Do developers feel more satisfied at job on average?\n",
    "* What features could explained or be related to developers' satisfaction at job?\n",
    "\n",
    "### Compensation\n",
    "* From the last 3 years (2018-2020), how does developers' compensation has changed?\n",
    "* Which developer type has the highest compensation on average?\n",
    "\n",
    "These questions are related to a `descriptive` type of analysis, therefore, the question assesment can be met using tools like data visualization techniques and descriptive statistics. "
   ]
  }
 ],
 "metadata": {
  "kernelspec": {
   "display_name": "Python 3",
   "language": "python",
   "name": "python3"
  },
  "language_info": {
   "codemirror_mode": {
    "name": "ipython",
    "version": 3
   },
   "file_extension": ".py",
   "mimetype": "text/x-python",
   "name": "python",
   "nbconvert_exporter": "python",
   "pygments_lexer": "ipython3",
   "version": "3.8.5"
  }
 },
 "nbformat": 4,
 "nbformat_minor": 4
}
