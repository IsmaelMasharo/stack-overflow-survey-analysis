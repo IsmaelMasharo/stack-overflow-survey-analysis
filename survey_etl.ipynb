{
 "cells": [
  {
   "cell_type": "code",
   "execution_count": 1,
   "metadata": {},
   "outputs": [],
   "source": [
    "import pandas as pd\n",
    "import numpy as np\n",
    "import seaborn as sns \n",
    "import matplotlib.pyplot as plt\n",
    "\n",
    "from pprint import pprint\n",
    "\n",
    "import plotly.express as px\n",
    "import plotly\n",
    "import plotly.io as pio\n",
    "import plotly.graph_objects as go"
   ]
  },
  {
   "cell_type": "code",
   "execution_count": 2,
   "metadata": {},
   "outputs": [],
   "source": [
    "pd.set_option('display.max_rows', None)\n",
    "pd.set_option('display.max_columns', None)\n",
    "pd.set_option('display.width', None)\n",
    "pd.set_option('display.max_colwidth', None)"
   ]
  },
  {
   "cell_type": "markdown",
   "metadata": {},
   "source": [
    "### Chart Studio Credentials"
   ]
  },
  {
   "cell_type": "code",
   "execution_count": 21,
   "metadata": {},
   "outputs": [],
   "source": [
    "import chart_studio\n",
    "import chart_studio.plotly as py\n",
    "import os\n",
    "\n",
    "chart_studio_apikey = os.getenv('CHART_STUDIO_API_KEY')\n",
    "chart_studio.tools.set_credentials_file(username='masharo', api_key=chart_studio_apikey)"
   ]
  },
  {
   "cell_type": "markdown",
   "metadata": {},
   "source": [
    "### Load Dataset"
   ]
  },
  {
   "cell_type": "code",
   "execution_count": 4,
   "metadata": {},
   "outputs": [
    {
     "name": "stdout",
     "output_type": "stream",
     "text": [
      "<class 'pandas.core.frame.DataFrame'>\n",
      "RangeIndex: 412186 entries, 0 to 412185\n",
      "Data columns (total 19 columns):\n",
      " #   Column                                      Non-Null Count   Dtype         \n",
      "---  ------                                      --------------   -----         \n",
      " 0   year                                        412186 non-null  datetime64[ns]\n",
      " 1   original_missing_values_per_row_percentage  412186 non-null  object        \n",
      " 2   country                                     409905 non-null  object        \n",
      " 3   programming_languages                       353322 non-null  object        \n",
      " 4   programming_languages_other                 6955 non-null    object        \n",
      " 5   years_experience                            390424 non-null  object        \n",
      " 6   occupation                                  387781 non-null  object        \n",
      " 7   age                                         295531 non-null  object        \n",
      " 8   os                                          311465 non-null  object        \n",
      " 9   job_satisfaction                            297156 non-null  object        \n",
      " 10  company_size                                271252 non-null  object        \n",
      " 11  want_work_language                          325227 non-null  object        \n",
      " 12  gender                                      324155 non-null  object        \n",
      " 13  education                                   308139 non-null  object        \n",
      " 14  database_desire_work                        195824 non-null  object        \n",
      " 15  database_worked_with                        221285 non-null  object        \n",
      " 16  undergrad_major                             205645 non-null  object        \n",
      " 17  remote_status                               177781 non-null  object        \n",
      " 18  industry                                    81616 non-null   object        \n",
      "dtypes: datetime64[ns](1), object(18)\n",
      "memory usage: 59.7+ MB\n"
     ]
    }
   ],
   "source": [
    "dataset = 'survey_report_combined.csv'\n",
    "df = pd.read_csv(dataset, dtype=object)\n",
    "df['year'] = pd.to_datetime(df['year'], format='%Y')\n",
    "df.info()"
   ]
  },
  {
   "cell_type": "code",
   "execution_count": 5,
   "metadata": {},
   "outputs": [
    {
     "data": {
      "text/html": [
       "<div>\n",
       "<style scoped>\n",
       "    .dataframe tbody tr th:only-of-type {\n",
       "        vertical-align: middle;\n",
       "    }\n",
       "\n",
       "    .dataframe tbody tr th {\n",
       "        vertical-align: top;\n",
       "    }\n",
       "\n",
       "    .dataframe thead th {\n",
       "        text-align: right;\n",
       "    }\n",
       "</style>\n",
       "<table border=\"1\" class=\"dataframe\">\n",
       "  <thead>\n",
       "    <tr style=\"text-align: right;\">\n",
       "      <th></th>\n",
       "      <th>year</th>\n",
       "      <th>original_missing_values_per_row_percentage</th>\n",
       "      <th>country</th>\n",
       "      <th>programming_languages</th>\n",
       "      <th>programming_languages_other</th>\n",
       "      <th>years_experience</th>\n",
       "      <th>occupation</th>\n",
       "      <th>age</th>\n",
       "      <th>os</th>\n",
       "      <th>job_satisfaction</th>\n",
       "      <th>company_size</th>\n",
       "      <th>want_work_language</th>\n",
       "      <th>gender</th>\n",
       "      <th>education</th>\n",
       "      <th>database_desire_work</th>\n",
       "      <th>database_worked_with</th>\n",
       "      <th>undergrad_major</th>\n",
       "      <th>remote_status</th>\n",
       "      <th>industry</th>\n",
       "    </tr>\n",
       "  </thead>\n",
       "  <tbody>\n",
       "    <tr>\n",
       "      <th>0</th>\n",
       "      <td>2011-01-01</td>\n",
       "      <td>18.18</td>\n",
       "      <td>Africa</td>\n",
       "      <td>javascript</td>\n",
       "      <td>NaN</td>\n",
       "      <td>&lt;2</td>\n",
       "      <td>Web Application Developer</td>\n",
       "      <td>&lt; 20</td>\n",
       "      <td>Linux</td>\n",
       "      <td>FML</td>\n",
       "      <td>1-25</td>\n",
       "      <td>NaN</td>\n",
       "      <td>NaN</td>\n",
       "      <td>NaN</td>\n",
       "      <td>NaN</td>\n",
       "      <td>NaN</td>\n",
       "      <td>NaN</td>\n",
       "      <td>NaN</td>\n",
       "      <td>Consulting</td>\n",
       "    </tr>\n",
       "    <tr>\n",
       "      <th>1</th>\n",
       "      <td>2011-01-01</td>\n",
       "      <td>27.27</td>\n",
       "      <td>Other Europe</td>\n",
       "      <td>java;sql;c</td>\n",
       "      <td>NaN</td>\n",
       "      <td>41310</td>\n",
       "      <td>Server Programmer</td>\n",
       "      <td>25-29</td>\n",
       "      <td>Windows 7</td>\n",
       "      <td>So happy it hurts</td>\n",
       "      <td>25-100</td>\n",
       "      <td>NaN</td>\n",
       "      <td>NaN</td>\n",
       "      <td>NaN</td>\n",
       "      <td>NaN</td>\n",
       "      <td>NaN</td>\n",
       "      <td>NaN</td>\n",
       "      <td>NaN</td>\n",
       "      <td>Software Products</td>\n",
       "    </tr>\n",
       "    <tr>\n",
       "      <th>2</th>\n",
       "      <td>2011-01-01</td>\n",
       "      <td>45.45</td>\n",
       "      <td>India</td>\n",
       "      <td>java;javascript;sql</td>\n",
       "      <td>NaN</td>\n",
       "      <td>41435</td>\n",
       "      <td>Server Programmer</td>\n",
       "      <td>25-29</td>\n",
       "      <td>Linux</td>\n",
       "      <td>NaN</td>\n",
       "      <td>100-999</td>\n",
       "      <td>NaN</td>\n",
       "      <td>NaN</td>\n",
       "      <td>NaN</td>\n",
       "      <td>NaN</td>\n",
       "      <td>NaN</td>\n",
       "      <td>NaN</td>\n",
       "      <td>NaN</td>\n",
       "      <td>Software Products</td>\n",
       "    </tr>\n",
       "    <tr>\n",
       "      <th>3</th>\n",
       "      <td>2011-01-01</td>\n",
       "      <td>9.09</td>\n",
       "      <td>Germany</td>\n",
       "      <td>java</td>\n",
       "      <td>haskell</td>\n",
       "      <td>41310</td>\n",
       "      <td>Student</td>\n",
       "      <td>&lt; 20</td>\n",
       "      <td>Linux</td>\n",
       "      <td>I enjoy going to work</td>\n",
       "      <td>NaN</td>\n",
       "      <td>NaN</td>\n",
       "      <td>NaN</td>\n",
       "      <td>NaN</td>\n",
       "      <td>NaN</td>\n",
       "      <td>NaN</td>\n",
       "      <td>NaN</td>\n",
       "      <td>NaN</td>\n",
       "      <td>Foundation / Non-Profit</td>\n",
       "    </tr>\n",
       "    <tr>\n",
       "      <th>4</th>\n",
       "      <td>2011-01-01</td>\n",
       "      <td>13.64</td>\n",
       "      <td>Other Asia</td>\n",
       "      <td>java;javascript;css;php;sql;c++;c;perl</td>\n",
       "      <td>NaN</td>\n",
       "      <td>11</td>\n",
       "      <td>Executive (VP of Eng., CTO, CIO, etc.)</td>\n",
       "      <td>35-39</td>\n",
       "      <td>Linux</td>\n",
       "      <td>It pays the bills</td>\n",
       "      <td>1-25</td>\n",
       "      <td>NaN</td>\n",
       "      <td>NaN</td>\n",
       "      <td>NaN</td>\n",
       "      <td>NaN</td>\n",
       "      <td>NaN</td>\n",
       "      <td>NaN</td>\n",
       "      <td>NaN</td>\n",
       "      <td>Software Products</td>\n",
       "    </tr>\n",
       "  </tbody>\n",
       "</table>\n",
       "</div>"
      ],
      "text/plain": [
       "        year original_missing_values_per_row_percentage       country  \\\n",
       "0 2011-01-01                                      18.18        Africa   \n",
       "1 2011-01-01                                      27.27  Other Europe   \n",
       "2 2011-01-01                                      45.45         India   \n",
       "3 2011-01-01                                       9.09       Germany   \n",
       "4 2011-01-01                                      13.64    Other Asia   \n",
       "\n",
       "                    programming_languages programming_languages_other  \\\n",
       "0                              javascript                         NaN   \n",
       "1                              java;sql;c                         NaN   \n",
       "2                     java;javascript;sql                         NaN   \n",
       "3                                    java                     haskell   \n",
       "4  java;javascript;css;php;sql;c++;c;perl                         NaN   \n",
       "\n",
       "  years_experience                              occupation    age         os  \\\n",
       "0               <2               Web Application Developer   < 20      Linux   \n",
       "1            41310                       Server Programmer  25-29  Windows 7   \n",
       "2            41435                       Server Programmer  25-29      Linux   \n",
       "3            41310                                 Student   < 20      Linux   \n",
       "4               11  Executive (VP of Eng., CTO, CIO, etc.)  35-39      Linux   \n",
       "\n",
       "        job_satisfaction company_size want_work_language gender education  \\\n",
       "0                    FML         1-25                NaN    NaN       NaN   \n",
       "1      So happy it hurts       25-100                NaN    NaN       NaN   \n",
       "2                    NaN      100-999                NaN    NaN       NaN   \n",
       "3  I enjoy going to work          NaN                NaN    NaN       NaN   \n",
       "4      It pays the bills         1-25                NaN    NaN       NaN   \n",
       "\n",
       "  database_desire_work database_worked_with undergrad_major remote_status  \\\n",
       "0                  NaN                  NaN             NaN           NaN   \n",
       "1                  NaN                  NaN             NaN           NaN   \n",
       "2                  NaN                  NaN             NaN           NaN   \n",
       "3                  NaN                  NaN             NaN           NaN   \n",
       "4                  NaN                  NaN             NaN           NaN   \n",
       "\n",
       "                  industry  \n",
       "0               Consulting  \n",
       "1        Software Products  \n",
       "2        Software Products  \n",
       "3  Foundation / Non-Profit  \n",
       "4        Software Products  "
      ]
     },
     "execution_count": 5,
     "metadata": {},
     "output_type": "execute_result"
    }
   ],
   "source": [
    "df.head()"
   ]
  },
  {
   "cell_type": "markdown",
   "metadata": {},
   "source": [
    "### Exploding programming languages feature\n",
    "Two columns: `programming_languages` and `programming_languages_other`"
   ]
  },
  {
   "cell_type": "code",
   "execution_count": 6,
   "metadata": {},
   "outputs": [],
   "source": [
    "df['programming_languages']       = df.programming_languages.str.lower().str.split('/|;')\n",
    "df['programming_languages_other'] = df.programming_languages_other.str.lower().str.split('/|;')"
   ]
  },
  {
   "cell_type": "code",
   "execution_count": 7,
   "metadata": {},
   "outputs": [],
   "source": [
    "df_explode = df.explode('programming_languages')\n",
    "df_explode['programming_languages'] = df_explode.programming_languages.str.strip()"
   ]
  },
  {
   "cell_type": "code",
   "execution_count": 8,
   "metadata": {},
   "outputs": [],
   "source": [
    "df_explode = df_explode.explode('programming_languages_other')\n",
    "df_explode['programming_languages_other'] = df_explode.programming_languages_other.str.strip()"
   ]
  },
  {
   "cell_type": "code",
   "execution_count": 9,
   "metadata": {},
   "outputs": [],
   "source": [
    "df_explode.loc[df_explode.programming_languages.str.startswith('cloud', na=False), 'programming_languages'] = 'cloud'"
   ]
  },
  {
   "cell_type": "code",
   "execution_count": 10,
   "metadata": {},
   "outputs": [
    {
     "data": {
      "text/html": [
       "<div>\n",
       "<style scoped>\n",
       "    .dataframe tbody tr th:only-of-type {\n",
       "        vertical-align: middle;\n",
       "    }\n",
       "\n",
       "    .dataframe tbody tr th {\n",
       "        vertical-align: top;\n",
       "    }\n",
       "\n",
       "    .dataframe thead th {\n",
       "        text-align: right;\n",
       "    }\n",
       "</style>\n",
       "<table border=\"1\" class=\"dataframe\">\n",
       "  <thead>\n",
       "    <tr style=\"text-align: right;\">\n",
       "      <th></th>\n",
       "      <th>year</th>\n",
       "      <th>original_missing_values_per_row_percentage</th>\n",
       "      <th>country</th>\n",
       "      <th>programming_languages</th>\n",
       "      <th>programming_languages_other</th>\n",
       "      <th>years_experience</th>\n",
       "      <th>occupation</th>\n",
       "      <th>age</th>\n",
       "      <th>os</th>\n",
       "      <th>job_satisfaction</th>\n",
       "      <th>company_size</th>\n",
       "      <th>want_work_language</th>\n",
       "      <th>gender</th>\n",
       "      <th>education</th>\n",
       "      <th>database_desire_work</th>\n",
       "      <th>database_worked_with</th>\n",
       "      <th>undergrad_major</th>\n",
       "      <th>remote_status</th>\n",
       "      <th>industry</th>\n",
       "    </tr>\n",
       "  </thead>\n",
       "  <tbody>\n",
       "    <tr>\n",
       "      <th>0</th>\n",
       "      <td>2011-01-01</td>\n",
       "      <td>18.18</td>\n",
       "      <td>Africa</td>\n",
       "      <td>javascript</td>\n",
       "      <td>NaN</td>\n",
       "      <td>&lt;2</td>\n",
       "      <td>Web Application Developer</td>\n",
       "      <td>&lt; 20</td>\n",
       "      <td>Linux</td>\n",
       "      <td>FML</td>\n",
       "      <td>1-25</td>\n",
       "      <td>NaN</td>\n",
       "      <td>NaN</td>\n",
       "      <td>NaN</td>\n",
       "      <td>NaN</td>\n",
       "      <td>NaN</td>\n",
       "      <td>NaN</td>\n",
       "      <td>NaN</td>\n",
       "      <td>Consulting</td>\n",
       "    </tr>\n",
       "    <tr>\n",
       "      <th>1</th>\n",
       "      <td>2011-01-01</td>\n",
       "      <td>27.27</td>\n",
       "      <td>Other Europe</td>\n",
       "      <td>java</td>\n",
       "      <td>NaN</td>\n",
       "      <td>41310</td>\n",
       "      <td>Server Programmer</td>\n",
       "      <td>25-29</td>\n",
       "      <td>Windows 7</td>\n",
       "      <td>So happy it hurts</td>\n",
       "      <td>25-100</td>\n",
       "      <td>NaN</td>\n",
       "      <td>NaN</td>\n",
       "      <td>NaN</td>\n",
       "      <td>NaN</td>\n",
       "      <td>NaN</td>\n",
       "      <td>NaN</td>\n",
       "      <td>NaN</td>\n",
       "      <td>Software Products</td>\n",
       "    </tr>\n",
       "    <tr>\n",
       "      <th>1</th>\n",
       "      <td>2011-01-01</td>\n",
       "      <td>27.27</td>\n",
       "      <td>Other Europe</td>\n",
       "      <td>sql</td>\n",
       "      <td>NaN</td>\n",
       "      <td>41310</td>\n",
       "      <td>Server Programmer</td>\n",
       "      <td>25-29</td>\n",
       "      <td>Windows 7</td>\n",
       "      <td>So happy it hurts</td>\n",
       "      <td>25-100</td>\n",
       "      <td>NaN</td>\n",
       "      <td>NaN</td>\n",
       "      <td>NaN</td>\n",
       "      <td>NaN</td>\n",
       "      <td>NaN</td>\n",
       "      <td>NaN</td>\n",
       "      <td>NaN</td>\n",
       "      <td>Software Products</td>\n",
       "    </tr>\n",
       "    <tr>\n",
       "      <th>1</th>\n",
       "      <td>2011-01-01</td>\n",
       "      <td>27.27</td>\n",
       "      <td>Other Europe</td>\n",
       "      <td>c</td>\n",
       "      <td>NaN</td>\n",
       "      <td>41310</td>\n",
       "      <td>Server Programmer</td>\n",
       "      <td>25-29</td>\n",
       "      <td>Windows 7</td>\n",
       "      <td>So happy it hurts</td>\n",
       "      <td>25-100</td>\n",
       "      <td>NaN</td>\n",
       "      <td>NaN</td>\n",
       "      <td>NaN</td>\n",
       "      <td>NaN</td>\n",
       "      <td>NaN</td>\n",
       "      <td>NaN</td>\n",
       "      <td>NaN</td>\n",
       "      <td>Software Products</td>\n",
       "    </tr>\n",
       "    <tr>\n",
       "      <th>2</th>\n",
       "      <td>2011-01-01</td>\n",
       "      <td>45.45</td>\n",
       "      <td>India</td>\n",
       "      <td>java</td>\n",
       "      <td>NaN</td>\n",
       "      <td>41435</td>\n",
       "      <td>Server Programmer</td>\n",
       "      <td>25-29</td>\n",
       "      <td>Linux</td>\n",
       "      <td>NaN</td>\n",
       "      <td>100-999</td>\n",
       "      <td>NaN</td>\n",
       "      <td>NaN</td>\n",
       "      <td>NaN</td>\n",
       "      <td>NaN</td>\n",
       "      <td>NaN</td>\n",
       "      <td>NaN</td>\n",
       "      <td>NaN</td>\n",
       "      <td>Software Products</td>\n",
       "    </tr>\n",
       "  </tbody>\n",
       "</table>\n",
       "</div>"
      ],
      "text/plain": [
       "        year original_missing_values_per_row_percentage       country  \\\n",
       "0 2011-01-01                                      18.18        Africa   \n",
       "1 2011-01-01                                      27.27  Other Europe   \n",
       "1 2011-01-01                                      27.27  Other Europe   \n",
       "1 2011-01-01                                      27.27  Other Europe   \n",
       "2 2011-01-01                                      45.45         India   \n",
       "\n",
       "  programming_languages programming_languages_other years_experience  \\\n",
       "0            javascript                         NaN               <2   \n",
       "1                  java                         NaN            41310   \n",
       "1                   sql                         NaN            41310   \n",
       "1                     c                         NaN            41310   \n",
       "2                  java                         NaN            41435   \n",
       "\n",
       "                  occupation    age         os   job_satisfaction  \\\n",
       "0  Web Application Developer   < 20      Linux                FML   \n",
       "1          Server Programmer  25-29  Windows 7  So happy it hurts   \n",
       "1          Server Programmer  25-29  Windows 7  So happy it hurts   \n",
       "1          Server Programmer  25-29  Windows 7  So happy it hurts   \n",
       "2          Server Programmer  25-29      Linux                NaN   \n",
       "\n",
       "  company_size want_work_language gender education database_desire_work  \\\n",
       "0         1-25                NaN    NaN       NaN                  NaN   \n",
       "1       25-100                NaN    NaN       NaN                  NaN   \n",
       "1       25-100                NaN    NaN       NaN                  NaN   \n",
       "1       25-100                NaN    NaN       NaN                  NaN   \n",
       "2      100-999                NaN    NaN       NaN                  NaN   \n",
       "\n",
       "  database_worked_with undergrad_major remote_status           industry  \n",
       "0                  NaN             NaN           NaN         Consulting  \n",
       "1                  NaN             NaN           NaN  Software Products  \n",
       "1                  NaN             NaN           NaN  Software Products  \n",
       "1                  NaN             NaN           NaN  Software Products  \n",
       "2                  NaN             NaN           NaN  Software Products  "
      ]
     },
     "execution_count": 10,
     "metadata": {},
     "output_type": "execute_result"
    }
   ],
   "source": [
    "df_explode.head()"
   ]
  },
  {
   "cell_type": "code",
   "execution_count": 11,
   "metadata": {},
   "outputs": [
    {
     "data": {
      "text/plain": [
       "(2060544, 19)"
      ]
     },
     "execution_count": 11,
     "metadata": {},
     "output_type": "execute_result"
    }
   ],
   "source": [
    "df_explode.shape"
   ]
  },
  {
   "cell_type": "markdown",
   "metadata": {},
   "source": [
    "### Languages and technologies labeling"
   ]
  },
  {
   "cell_type": "code",
   "execution_count": 12,
   "metadata": {
    "scrolled": true
   },
   "outputs": [],
   "source": [
    "from tech_labeling import tech_labeling "
   ]
  },
  {
   "cell_type": "markdown",
   "metadata": {},
   "source": [
    "### JS related technology"
   ]
  },
  {
   "cell_type": "code",
   "execution_count": 83,
   "metadata": {},
   "outputs": [
    {
     "data": {
      "text/plain": [
       "array(['jquery', 'node js', 'angular js', 'react js'], dtype=object)"
      ]
     },
     "metadata": {},
     "output_type": "display_data"
    },
    {
     "data": {
      "text/html": [
       "<div>\n",
       "<style scoped>\n",
       "    .dataframe tbody tr th:only-of-type {\n",
       "        vertical-align: middle;\n",
       "    }\n",
       "\n",
       "    .dataframe tbody tr th {\n",
       "        vertical-align: top;\n",
       "    }\n",
       "\n",
       "    .dataframe thead th {\n",
       "        text-align: right;\n",
       "    }\n",
       "</style>\n",
       "<table border=\"1\" class=\"dataframe\">\n",
       "  <thead>\n",
       "    <tr style=\"text-align: right;\">\n",
       "      <th></th>\n",
       "      <th>year</th>\n",
       "      <th>language</th>\n",
       "    </tr>\n",
       "  </thead>\n",
       "  <tbody>\n",
       "    <tr>\n",
       "      <th>9057</th>\n",
       "      <td>2013-01-01</td>\n",
       "      <td>jquery</td>\n",
       "    </tr>\n",
       "    <tr>\n",
       "      <th>9057</th>\n",
       "      <td>2013-01-01</td>\n",
       "      <td>jquery</td>\n",
       "    </tr>\n",
       "    <tr>\n",
       "      <th>9058</th>\n",
       "      <td>2013-01-01</td>\n",
       "      <td>jquery</td>\n",
       "    </tr>\n",
       "    <tr>\n",
       "      <th>9058</th>\n",
       "      <td>2013-01-01</td>\n",
       "      <td>jquery</td>\n",
       "    </tr>\n",
       "    <tr>\n",
       "      <th>9058</th>\n",
       "      <td>2013-01-01</td>\n",
       "      <td>jquery</td>\n",
       "    </tr>\n",
       "  </tbody>\n",
       "</table>\n",
       "</div>"
      ],
      "text/plain": [
       "           year language\n",
       "9057 2013-01-01   jquery\n",
       "9057 2013-01-01   jquery\n",
       "9058 2013-01-01   jquery\n",
       "9058 2013-01-01   jquery\n",
       "9058 2013-01-01   jquery"
      ]
     },
     "execution_count": 83,
     "metadata": {},
     "output_type": "execute_result"
    }
   ],
   "source": [
    "js_lang_survey = df_explode.loc[df_explode.tech_type.str.contains('js'), ['year', 'programming_languages']]\n",
    "js_lang_survey.columns = ['year', 'language']\n",
    "display(js_lang_survey.language.unique())\n",
    "\n",
    "js_langs_others = df_explode.loc[df_explode.programming_languages_other.str.endswith('js', na=False), ['year', 'programming_languages_other']]\n",
    "js_langs_others.columns = ['year', 'language']\n",
    "\n",
    "js_langs = pd.concat([js_lang_survey, js_langs_others])\n",
    "js_langs.head()"
   ]
  },
  {
   "cell_type": "code",
   "execution_count": 88,
   "metadata": {},
   "outputs": [],
   "source": [
    "js_lang_other_bool = df_explode.programming_languages_other.str.endswith('js', na=False)\n",
    "\n",
    "common_js_tech = ['jquery', 'node js', 'angular js', 'react js']\n",
    "js_remove_common_bool = ~df_explode.programming_languages_other.isin(common_js_tech)\n",
    "\n",
    "js_lang_filter = js_lang_other_bool & js_remove_common_bool"
   ]
  },
  {
   "cell_type": "code",
   "execution_count": 141,
   "metadata": {},
   "outputs": [
    {
     "data": {
      "text/html": [
       "<div>\n",
       "<style scoped>\n",
       "    .dataframe tbody tr th:only-of-type {\n",
       "        vertical-align: middle;\n",
       "    }\n",
       "\n",
       "    .dataframe tbody tr th {\n",
       "        vertical-align: top;\n",
       "    }\n",
       "\n",
       "    .dataframe thead th {\n",
       "        text-align: right;\n",
       "    }\n",
       "</style>\n",
       "<table border=\"1\" class=\"dataframe\">\n",
       "  <thead>\n",
       "    <tr style=\"text-align: right;\">\n",
       "      <th></th>\n",
       "      <th></th>\n",
       "      <th>count</th>\n",
       "      <th>percentage</th>\n",
       "    </tr>\n",
       "    <tr>\n",
       "      <th>year</th>\n",
       "      <th>language</th>\n",
       "      <th></th>\n",
       "      <th></th>\n",
       "    </tr>\n",
       "  </thead>\n",
       "  <tbody>\n",
       "    <tr>\n",
       "      <th rowspan=\"5\" valign=\"top\">2013-01-01</th>\n",
       "      <th>backbone js</th>\n",
       "      <td>41</td>\n",
       "      <td>0.2426</td>\n",
       "    </tr>\n",
       "    <tr>\n",
       "      <th>d3 js</th>\n",
       "      <td>10</td>\n",
       "      <td>0.0592</td>\n",
       "    </tr>\n",
       "    <tr>\n",
       "      <th>ember js</th>\n",
       "      <td>4</td>\n",
       "      <td>0.0237</td>\n",
       "    </tr>\n",
       "    <tr>\n",
       "      <th>ext js</th>\n",
       "      <td>37</td>\n",
       "      <td>0.2189</td>\n",
       "    </tr>\n",
       "    <tr>\n",
       "      <th>knockout js</th>\n",
       "      <td>41</td>\n",
       "      <td>0.2426</td>\n",
       "    </tr>\n",
       "  </tbody>\n",
       "</table>\n",
       "</div>"
      ],
      "text/plain": [
       "                        count  percentage\n",
       "year       language                      \n",
       "2013-01-01 backbone js     41      0.2426\n",
       "           d3 js           10      0.0592\n",
       "           ember js         4      0.0237\n",
       "           ext js          37      0.2189\n",
       "           knockout js     41      0.2426"
      ]
     },
     "metadata": {},
     "output_type": "display_data"
    },
    {
     "data": {
      "text/html": [
       "<div>\n",
       "<style scoped>\n",
       "    .dataframe tbody tr th:only-of-type {\n",
       "        vertical-align: middle;\n",
       "    }\n",
       "\n",
       "    .dataframe tbody tr th {\n",
       "        vertical-align: top;\n",
       "    }\n",
       "\n",
       "    .dataframe thead th {\n",
       "        text-align: right;\n",
       "    }\n",
       "</style>\n",
       "<table border=\"1\" class=\"dataframe\">\n",
       "  <thead>\n",
       "    <tr style=\"text-align: right;\">\n",
       "      <th></th>\n",
       "      <th>year</th>\n",
       "      <th>language</th>\n",
       "      <th>count</th>\n",
       "      <th>percentage</th>\n",
       "    </tr>\n",
       "  </thead>\n",
       "  <tbody>\n",
       "    <tr>\n",
       "      <th>2</th>\n",
       "      <td>2013</td>\n",
       "      <td>Ember</td>\n",
       "      <td>4</td>\n",
       "      <td>0.0237</td>\n",
       "    </tr>\n",
       "    <tr>\n",
       "      <th>5</th>\n",
       "      <td>2013</td>\n",
       "      <td>Meteor</td>\n",
       "      <td>4</td>\n",
       "      <td>0.0237</td>\n",
       "    </tr>\n",
       "    <tr>\n",
       "      <th>8</th>\n",
       "      <td>2013</td>\n",
       "      <td>Require</td>\n",
       "      <td>4</td>\n",
       "      <td>0.0237</td>\n",
       "    </tr>\n",
       "    <tr>\n",
       "      <th>6</th>\n",
       "      <td>2013</td>\n",
       "      <td>Prototype</td>\n",
       "      <td>5</td>\n",
       "      <td>0.0296</td>\n",
       "    </tr>\n",
       "    <tr>\n",
       "      <th>7</th>\n",
       "      <td>2013</td>\n",
       "      <td>Raphael</td>\n",
       "      <td>5</td>\n",
       "      <td>0.0296</td>\n",
       "    </tr>\n",
       "  </tbody>\n",
       "</table>\n",
       "</div>"
      ],
      "text/plain": [
       "   year   language  count  percentage\n",
       "2  2013      Ember      4      0.0237\n",
       "5  2013     Meteor      4      0.0237\n",
       "8  2013    Require      4      0.0237\n",
       "6  2013  Prototype      5      0.0296\n",
       "7  2013    Raphael      5      0.0296"
      ]
     },
     "metadata": {},
     "output_type": "display_data"
    }
   ],
   "source": [
    "js_langs = df_explode.loc[js_lang_filter , ['year', 'programming_languages_other']]\n",
    "js_langs.columns = ['year', 'language']\n",
    "\n",
    "js_langs_year = js_langs.groupby(['year', 'language']).language.count().to_frame()\n",
    "js_langs_year['percentage'] = js_langs_year.groupby(level=0).apply(lambda x: x / float(x.sum())).round(4)\n",
    "\n",
    "js_langs_year.columns = ['count', 'percentage']\n",
    "js_langs_year = js_langs_year[js_langs_year.percentage<0.9]\n",
    "display(js_langs_year.head())\n",
    "\n",
    "js_langs_year.reset_index(inplace=True)\n",
    "js_langs_year.year = js_langs_year.year.dt.year.astype(str)\n",
    "js_langs_year.sort_values(['year', 'count'], ascending=True, inplace=True)\n",
    "js_langs_year.language = js_langs_year.language.str.split().str[0].str.title()\n",
    "display(js_langs_year.head())"
   ]
  },
  {
   "cell_type": "code",
   "execution_count": 167,
   "metadata": {},
   "outputs": [
    {
     "data": {
      "application/vnd.plotly.v1+json": {
       "config": {
        "plotlyServerURL": "https://plotly.com"
       },
       "data": [
        {
         "alignmentgroup": "True",
         "customdata": [
          [
           "2013",
           "Ember",
           4,
           0.0237
          ],
          [
           "2013",
           "Meteor",
           4,
           0.0237
          ],
          [
           "2013",
           "Require",
           4,
           0.0237
          ],
          [
           "2013",
           "Prototype",
           5,
           0.0296
          ],
          [
           "2013",
           "Raphael",
           5,
           0.0296
          ],
          [
           "2013",
           "D3",
           10,
           0.0592
          ],
          [
           "2013",
           "Underscore",
           18,
           0.1065
          ],
          [
           "2013",
           "Ext",
           37,
           0.2189
          ],
          [
           "2013",
           "Backbone",
           41,
           0.2426
          ],
          [
           "2013",
           "Knockout",
           41,
           0.2426
          ]
         ],
         "hovertemplate": "<b>%{hovertext}</b><br><br>year=%{customdata[0]}<br>percentage=%{customdata[3]:.2%}<br>count=%{customdata[2]}<extra></extra>",
         "hovertext": [
          "Ember",
          "Meteor",
          "Require",
          "Prototype",
          "Raphael",
          "D3",
          "Underscore",
          "Ext",
          "Backbone",
          "Knockout"
         ],
         "legendgroup": "2013",
         "marker": {
          "color": "#636efa"
         },
         "name": "2013",
         "offsetgroup": "2013",
         "orientation": "h",
         "showlegend": true,
         "textposition": "auto",
         "type": "bar",
         "x": [
          0.0237,
          0.0237,
          0.0237,
          0.0296,
          0.0296,
          0.0592,
          0.1065,
          0.2189,
          0.2426,
          0.2426
         ],
         "xaxis": "x",
         "y": [
          "Ember",
          "Meteor",
          "Require",
          "Prototype",
          "Raphael",
          "D3",
          "Underscore",
          "Ext",
          "Backbone",
          "Knockout"
         ],
         "yaxis": "y"
        },
        {
         "alignmentgroup": "True",
         "customdata": [
          [
           "2014",
           "D3",
           2,
           0.0426
          ],
          [
           "2014",
           "G",
           2,
           0.0426
          ],
          [
           "2014",
           "Meteor",
           2,
           0.0426
          ],
          [
           "2014",
           "Asm",
           3,
           0.0638
          ],
          [
           "2014",
           "Extension",
           3,
           0.0638
          ],
          [
           "2014",
           "Grunt",
           3,
           0.0638
          ],
          [
           "2014",
           "Backbone",
           8,
           0.1702
          ],
          [
           "2014",
           "Knockout",
           11,
           0.234
          ],
          [
           "2014",
           "Ext",
           13,
           0.2766
          ]
         ],
         "hovertemplate": "<b>%{hovertext}</b><br><br>year=%{customdata[0]}<br>percentage=%{customdata[3]:.2%}<br>count=%{customdata[2]}<extra></extra>",
         "hovertext": [
          "D3",
          "G",
          "Meteor",
          "Asm",
          "Extension",
          "Grunt",
          "Backbone",
          "Knockout",
          "Ext"
         ],
         "legendgroup": "2014",
         "marker": {
          "color": "#EF553B"
         },
         "name": "2014",
         "offsetgroup": "2014",
         "orientation": "h",
         "showlegend": true,
         "textposition": "auto",
         "type": "bar",
         "x": [
          0.0426,
          0.0426,
          0.0426,
          0.0638,
          0.0638,
          0.0638,
          0.1702,
          0.234,
          0.2766
         ],
         "xaxis": "x",
         "y": [
          "D3",
          "G",
          "Meteor",
          "Asm",
          "Extension",
          "Grunt",
          "Backbone",
          "Knockout",
          "Ext"
         ],
         "yaxis": "y"
        },
        {
         "alignmentgroup": "True",
         "customdata": [
          [
           "2015",
           "Three",
           4,
           0.0067
          ],
          [
           "2015",
           "Kraken",
           5,
           0.0083
          ],
          [
           "2015",
           "Ractive",
           8,
           0.0133
          ],
          [
           "2015",
           "D3",
           10,
           0.0166
          ],
          [
           "2015",
           "Expression",
           10,
           0.0166
          ],
          [
           "2015",
           "Durandal",
           15,
           0.025
          ],
          [
           "2015",
           "Ext",
           39,
           0.0649
          ],
          [
           "2015",
           "Meteor",
           98,
           0.1631
          ],
          [
           "2015",
           "Backbone",
           99,
           0.1647
          ],
          [
           "2015",
           "Knockout",
           118,
           0.1963
          ],
          [
           "2015",
           "Ember",
           195,
           0.3245
          ]
         ],
         "hovertemplate": "<b>%{hovertext}</b><br><br>year=%{customdata[0]}<br>percentage=%{customdata[3]:.2%}<br>count=%{customdata[2]}<extra></extra>",
         "hovertext": [
          "Three",
          "Kraken",
          "Ractive",
          "D3",
          "Expression",
          "Durandal",
          "Ext",
          "Meteor",
          "Backbone",
          "Knockout",
          "Ember"
         ],
         "legendgroup": "2015",
         "marker": {
          "color": "#00cc96"
         },
         "name": "2015",
         "offsetgroup": "2015",
         "orientation": "h",
         "showlegend": true,
         "textposition": "auto",
         "type": "bar",
         "x": [
          0.0067,
          0.0083,
          0.0133,
          0.0166,
          0.0166,
          0.025,
          0.0649,
          0.1631,
          0.1647,
          0.1963,
          0.3245
         ],
         "xaxis": "x",
         "y": [
          "Three",
          "Kraken",
          "Ractive",
          "D3",
          "Expression",
          "Durandal",
          "Ext",
          "Meteor",
          "Backbone",
          "Knockout",
          "Ember"
         ],
         "yaxis": "y"
        }
       ],
       "layout": {
        "autosize": true,
        "barmode": "relative",
        "hoverlabel": {
         "font": {
          "color": "white"
         }
        },
        "legend": {
         "title": {
          "text": ""
         },
         "tracegroupgap": 0,
         "x": 1,
         "y": 1
        },
        "margin": {
         "t": 60
        },
        "template": {
         "data": {
          "bar": [
           {
            "error_x": {
             "color": "#2a3f5f"
            },
            "error_y": {
             "color": "#2a3f5f"
            },
            "marker": {
             "line": {
              "color": "#E5ECF6",
              "width": 0.5
             }
            },
            "type": "bar"
           }
          ],
          "barpolar": [
           {
            "marker": {
             "line": {
              "color": "#E5ECF6",
              "width": 0.5
             }
            },
            "type": "barpolar"
           }
          ],
          "carpet": [
           {
            "aaxis": {
             "endlinecolor": "#2a3f5f",
             "gridcolor": "white",
             "linecolor": "white",
             "minorgridcolor": "white",
             "startlinecolor": "#2a3f5f"
            },
            "baxis": {
             "endlinecolor": "#2a3f5f",
             "gridcolor": "white",
             "linecolor": "white",
             "minorgridcolor": "white",
             "startlinecolor": "#2a3f5f"
            },
            "type": "carpet"
           }
          ],
          "choropleth": [
           {
            "colorbar": {
             "outlinewidth": 0,
             "ticks": ""
            },
            "type": "choropleth"
           }
          ],
          "contour": [
           {
            "colorbar": {
             "outlinewidth": 0,
             "ticks": ""
            },
            "colorscale": [
             [
              0,
              "#0d0887"
             ],
             [
              0.1111111111111111,
              "#46039f"
             ],
             [
              0.2222222222222222,
              "#7201a8"
             ],
             [
              0.3333333333333333,
              "#9c179e"
             ],
             [
              0.4444444444444444,
              "#bd3786"
             ],
             [
              0.5555555555555556,
              "#d8576b"
             ],
             [
              0.6666666666666666,
              "#ed7953"
             ],
             [
              0.7777777777777778,
              "#fb9f3a"
             ],
             [
              0.8888888888888888,
              "#fdca26"
             ],
             [
              1,
              "#f0f921"
             ]
            ],
            "type": "contour"
           }
          ],
          "contourcarpet": [
           {
            "colorbar": {
             "outlinewidth": 0,
             "ticks": ""
            },
            "type": "contourcarpet"
           }
          ],
          "heatmap": [
           {
            "colorbar": {
             "outlinewidth": 0,
             "ticks": ""
            },
            "colorscale": [
             [
              0,
              "#0d0887"
             ],
             [
              0.1111111111111111,
              "#46039f"
             ],
             [
              0.2222222222222222,
              "#7201a8"
             ],
             [
              0.3333333333333333,
              "#9c179e"
             ],
             [
              0.4444444444444444,
              "#bd3786"
             ],
             [
              0.5555555555555556,
              "#d8576b"
             ],
             [
              0.6666666666666666,
              "#ed7953"
             ],
             [
              0.7777777777777778,
              "#fb9f3a"
             ],
             [
              0.8888888888888888,
              "#fdca26"
             ],
             [
              1,
              "#f0f921"
             ]
            ],
            "type": "heatmap"
           }
          ],
          "heatmapgl": [
           {
            "colorbar": {
             "outlinewidth": 0,
             "ticks": ""
            },
            "colorscale": [
             [
              0,
              "#0d0887"
             ],
             [
              0.1111111111111111,
              "#46039f"
             ],
             [
              0.2222222222222222,
              "#7201a8"
             ],
             [
              0.3333333333333333,
              "#9c179e"
             ],
             [
              0.4444444444444444,
              "#bd3786"
             ],
             [
              0.5555555555555556,
              "#d8576b"
             ],
             [
              0.6666666666666666,
              "#ed7953"
             ],
             [
              0.7777777777777778,
              "#fb9f3a"
             ],
             [
              0.8888888888888888,
              "#fdca26"
             ],
             [
              1,
              "#f0f921"
             ]
            ],
            "type": "heatmapgl"
           }
          ],
          "histogram": [
           {
            "marker": {
             "colorbar": {
              "outlinewidth": 0,
              "ticks": ""
             }
            },
            "type": "histogram"
           }
          ],
          "histogram2d": [
           {
            "colorbar": {
             "outlinewidth": 0,
             "ticks": ""
            },
            "colorscale": [
             [
              0,
              "#0d0887"
             ],
             [
              0.1111111111111111,
              "#46039f"
             ],
             [
              0.2222222222222222,
              "#7201a8"
             ],
             [
              0.3333333333333333,
              "#9c179e"
             ],
             [
              0.4444444444444444,
              "#bd3786"
             ],
             [
              0.5555555555555556,
              "#d8576b"
             ],
             [
              0.6666666666666666,
              "#ed7953"
             ],
             [
              0.7777777777777778,
              "#fb9f3a"
             ],
             [
              0.8888888888888888,
              "#fdca26"
             ],
             [
              1,
              "#f0f921"
             ]
            ],
            "type": "histogram2d"
           }
          ],
          "histogram2dcontour": [
           {
            "colorbar": {
             "outlinewidth": 0,
             "ticks": ""
            },
            "colorscale": [
             [
              0,
              "#0d0887"
             ],
             [
              0.1111111111111111,
              "#46039f"
             ],
             [
              0.2222222222222222,
              "#7201a8"
             ],
             [
              0.3333333333333333,
              "#9c179e"
             ],
             [
              0.4444444444444444,
              "#bd3786"
             ],
             [
              0.5555555555555556,
              "#d8576b"
             ],
             [
              0.6666666666666666,
              "#ed7953"
             ],
             [
              0.7777777777777778,
              "#fb9f3a"
             ],
             [
              0.8888888888888888,
              "#fdca26"
             ],
             [
              1,
              "#f0f921"
             ]
            ],
            "type": "histogram2dcontour"
           }
          ],
          "mesh3d": [
           {
            "colorbar": {
             "outlinewidth": 0,
             "ticks": ""
            },
            "type": "mesh3d"
           }
          ],
          "parcoords": [
           {
            "line": {
             "colorbar": {
              "outlinewidth": 0,
              "ticks": ""
             }
            },
            "type": "parcoords"
           }
          ],
          "pie": [
           {
            "automargin": true,
            "type": "pie"
           }
          ],
          "scatter": [
           {
            "marker": {
             "colorbar": {
              "outlinewidth": 0,
              "ticks": ""
             }
            },
            "type": "scatter"
           }
          ],
          "scatter3d": [
           {
            "line": {
             "colorbar": {
              "outlinewidth": 0,
              "ticks": ""
             }
            },
            "marker": {
             "colorbar": {
              "outlinewidth": 0,
              "ticks": ""
             }
            },
            "type": "scatter3d"
           }
          ],
          "scattercarpet": [
           {
            "marker": {
             "colorbar": {
              "outlinewidth": 0,
              "ticks": ""
             }
            },
            "type": "scattercarpet"
           }
          ],
          "scattergeo": [
           {
            "marker": {
             "colorbar": {
              "outlinewidth": 0,
              "ticks": ""
             }
            },
            "type": "scattergeo"
           }
          ],
          "scattergl": [
           {
            "marker": {
             "colorbar": {
              "outlinewidth": 0,
              "ticks": ""
             }
            },
            "type": "scattergl"
           }
          ],
          "scattermapbox": [
           {
            "marker": {
             "colorbar": {
              "outlinewidth": 0,
              "ticks": ""
             }
            },
            "type": "scattermapbox"
           }
          ],
          "scatterpolar": [
           {
            "marker": {
             "colorbar": {
              "outlinewidth": 0,
              "ticks": ""
             }
            },
            "type": "scatterpolar"
           }
          ],
          "scatterpolargl": [
           {
            "marker": {
             "colorbar": {
              "outlinewidth": 0,
              "ticks": ""
             }
            },
            "type": "scatterpolargl"
           }
          ],
          "scatterternary": [
           {
            "marker": {
             "colorbar": {
              "outlinewidth": 0,
              "ticks": ""
             }
            },
            "type": "scatterternary"
           }
          ],
          "surface": [
           {
            "colorbar": {
             "outlinewidth": 0,
             "ticks": ""
            },
            "colorscale": [
             [
              0,
              "#0d0887"
             ],
             [
              0.1111111111111111,
              "#46039f"
             ],
             [
              0.2222222222222222,
              "#7201a8"
             ],
             [
              0.3333333333333333,
              "#9c179e"
             ],
             [
              0.4444444444444444,
              "#bd3786"
             ],
             [
              0.5555555555555556,
              "#d8576b"
             ],
             [
              0.6666666666666666,
              "#ed7953"
             ],
             [
              0.7777777777777778,
              "#fb9f3a"
             ],
             [
              0.8888888888888888,
              "#fdca26"
             ],
             [
              1,
              "#f0f921"
             ]
            ],
            "type": "surface"
           }
          ],
          "table": [
           {
            "cells": {
             "fill": {
              "color": "#EBF0F8"
             },
             "line": {
              "color": "white"
             }
            },
            "header": {
             "fill": {
              "color": "#C8D4E3"
             },
             "line": {
              "color": "white"
             }
            },
            "type": "table"
           }
          ]
         },
         "layout": {
          "annotationdefaults": {
           "arrowcolor": "#2a3f5f",
           "arrowhead": 0,
           "arrowwidth": 1
          },
          "coloraxis": {
           "colorbar": {
            "outlinewidth": 0,
            "ticks": ""
           }
          },
          "colorscale": {
           "diverging": [
            [
             0,
             "#8e0152"
            ],
            [
             0.1,
             "#c51b7d"
            ],
            [
             0.2,
             "#de77ae"
            ],
            [
             0.3,
             "#f1b6da"
            ],
            [
             0.4,
             "#fde0ef"
            ],
            [
             0.5,
             "#f7f7f7"
            ],
            [
             0.6,
             "#e6f5d0"
            ],
            [
             0.7,
             "#b8e186"
            ],
            [
             0.8,
             "#7fbc41"
            ],
            [
             0.9,
             "#4d9221"
            ],
            [
             1,
             "#276419"
            ]
           ],
           "sequential": [
            [
             0,
             "#0d0887"
            ],
            [
             0.1111111111111111,
             "#46039f"
            ],
            [
             0.2222222222222222,
             "#7201a8"
            ],
            [
             0.3333333333333333,
             "#9c179e"
            ],
            [
             0.4444444444444444,
             "#bd3786"
            ],
            [
             0.5555555555555556,
             "#d8576b"
            ],
            [
             0.6666666666666666,
             "#ed7953"
            ],
            [
             0.7777777777777778,
             "#fb9f3a"
            ],
            [
             0.8888888888888888,
             "#fdca26"
            ],
            [
             1,
             "#f0f921"
            ]
           ],
           "sequentialminus": [
            [
             0,
             "#0d0887"
            ],
            [
             0.1111111111111111,
             "#46039f"
            ],
            [
             0.2222222222222222,
             "#7201a8"
            ],
            [
             0.3333333333333333,
             "#9c179e"
            ],
            [
             0.4444444444444444,
             "#bd3786"
            ],
            [
             0.5555555555555556,
             "#d8576b"
            ],
            [
             0.6666666666666666,
             "#ed7953"
            ],
            [
             0.7777777777777778,
             "#fb9f3a"
            ],
            [
             0.8888888888888888,
             "#fdca26"
            ],
            [
             1,
             "#f0f921"
            ]
           ]
          },
          "colorway": [
           "#636efa",
           "#EF553B",
           "#00cc96",
           "#ab63fa",
           "#FFA15A",
           "#19d3f3",
           "#FF6692",
           "#B6E880",
           "#FF97FF",
           "#FECB52"
          ],
          "font": {
           "color": "#2a3f5f"
          },
          "geo": {
           "bgcolor": "white",
           "lakecolor": "white",
           "landcolor": "#E5ECF6",
           "showlakes": true,
           "showland": true,
           "subunitcolor": "white"
          },
          "hoverlabel": {
           "align": "left"
          },
          "hovermode": "closest",
          "mapbox": {
           "style": "light"
          },
          "paper_bgcolor": "white",
          "plot_bgcolor": "#E5ECF6",
          "polar": {
           "angularaxis": {
            "gridcolor": "white",
            "linecolor": "white",
            "ticks": ""
           },
           "bgcolor": "#E5ECF6",
           "radialaxis": {
            "gridcolor": "white",
            "linecolor": "white",
            "ticks": ""
           }
          },
          "scene": {
           "xaxis": {
            "backgroundcolor": "#E5ECF6",
            "gridcolor": "white",
            "gridwidth": 2,
            "linecolor": "white",
            "showbackground": true,
            "ticks": "",
            "zerolinecolor": "white"
           },
           "yaxis": {
            "backgroundcolor": "#E5ECF6",
            "gridcolor": "white",
            "gridwidth": 2,
            "linecolor": "white",
            "showbackground": true,
            "ticks": "",
            "zerolinecolor": "white"
           },
           "zaxis": {
            "backgroundcolor": "#E5ECF6",
            "gridcolor": "white",
            "gridwidth": 2,
            "linecolor": "white",
            "showbackground": true,
            "ticks": "",
            "zerolinecolor": "white"
           }
          },
          "shapedefaults": {
           "line": {
            "color": "#2a3f5f"
           }
          },
          "ternary": {
           "aaxis": {
            "gridcolor": "white",
            "linecolor": "white",
            "ticks": ""
           },
           "baxis": {
            "gridcolor": "white",
            "linecolor": "white",
            "ticks": ""
           },
           "bgcolor": "#E5ECF6",
           "caxis": {
            "gridcolor": "white",
            "linecolor": "white",
            "ticks": ""
           }
          },
          "title": {
           "x": 0.05
          },
          "xaxis": {
           "automargin": true,
           "gridcolor": "white",
           "linecolor": "white",
           "ticks": "",
           "title": {
            "standoff": 15
           },
           "zerolinecolor": "white",
           "zerolinewidth": 2
          },
          "yaxis": {
           "automargin": true,
           "gridcolor": "white",
           "linecolor": "white",
           "ticks": "",
           "title": {
            "standoff": 15
           },
           "zerolinecolor": "white",
           "zerolinewidth": 2
          }
         }
        },
        "title": {
         "text": "JS related Tech by Year",
         "x": 0.5,
         "xanchor": "center",
         "yanchor": "top"
        },
        "xaxis": {
         "anchor": "y",
         "autorange": true,
         "domain": [
          0,
          1
         ],
         "range": [
          0,
          0.7083157894736842
         ],
         "title": {
          "text": "percentage"
         },
         "type": "linear",
         "visible": false
        },
        "yaxis": {
         "anchor": "x",
         "autorange": true,
         "domain": [
          0,
          1
         ],
         "range": [
          -0.5,
          18.5
         ],
         "tickcolor": "white",
         "ticklen": 8,
         "ticks": "outside",
         "title": {
          "text": ""
         },
         "type": "category"
        }
       }
      },
      "image/png": "[encoded data removed]",
      "text/html": [
       "<div>\n",
       "        \n",
       "        \n",
       "            <div id=\"72d07a5c-3cc1-45d9-8ec5-cab161b7c446\" class=\"plotly-graph-div\" style=\"height:525px; width:100%;\"></div>\n",
       "            <script type=\"text/javascript\">\n",
       "                require([\"plotly\"], function(Plotly) {\n",
       "                    window.PLOTLYENV=window.PLOTLYENV || {};\n",
       "                    \n",
       "                if (document.getElementById(\"72d07a5c-3cc1-45d9-8ec5-cab161b7c446\")) {\n",
       "                    Plotly.newPlot(\n",
       "                        '72d07a5c-3cc1-45d9-8ec5-cab161b7c446',\n",
       "                        [{\"alignmentgroup\": \"True\", \"customdata\": [[\"2013\", \"Ember\", 4, 0.0237], [\"2013\", \"Meteor\", 4, 0.0237], [\"2013\", \"Require\", 4, 0.0237], [\"2013\", \"Prototype\", 5, 0.0296], [\"2013\", \"Raphael\", 5, 0.0296], [\"2013\", \"D3\", 10, 0.0592], [\"2013\", \"Underscore\", 18, 0.1065], [\"2013\", \"Ext\", 37, 0.2189], [\"2013\", \"Backbone\", 41, 0.2426], [\"2013\", \"Knockout\", 41, 0.2426]], \"hovertemplate\": \"<b>%{hovertext}</b><br><br>year=%{customdata[0]}<br>percentage=%{customdata[3]:.2%}<br>count=%{customdata[2]}<extra></extra>\", \"hovertext\": [\"Ember\", \"Meteor\", \"Require\", \"Prototype\", \"Raphael\", \"D3\", \"Underscore\", \"Ext\", \"Backbone\", \"Knockout\"], \"legendgroup\": \"2013\", \"marker\": {\"color\": \"#636efa\"}, \"name\": \"2013\", \"offsetgroup\": \"2013\", \"orientation\": \"h\", \"showlegend\": true, \"textposition\": \"auto\", \"type\": \"bar\", \"x\": [0.0237, 0.0237, 0.0237, 0.0296, 0.0296, 0.0592, 0.1065, 0.2189, 0.2426, 0.2426], \"xaxis\": \"x\", \"y\": [\"Ember\", \"Meteor\", \"Require\", \"Prototype\", \"Raphael\", \"D3\", \"Underscore\", \"Ext\", \"Backbone\", \"Knockout\"], \"yaxis\": \"y\"}, {\"alignmentgroup\": \"True\", \"customdata\": [[\"2014\", \"D3\", 2, 0.0426], [\"2014\", \"G\", 2, 0.0426], [\"2014\", \"Meteor\", 2, 0.0426], [\"2014\", \"Asm\", 3, 0.0638], [\"2014\", \"Extension\", 3, 0.0638], [\"2014\", \"Grunt\", 3, 0.0638], [\"2014\", \"Backbone\", 8, 0.1702], [\"2014\", \"Knockout\", 11, 0.234], [\"2014\", \"Ext\", 13, 0.2766]], \"hovertemplate\": \"<b>%{hovertext}</b><br><br>year=%{customdata[0]}<br>percentage=%{customdata[3]:.2%}<br>count=%{customdata[2]}<extra></extra>\", \"hovertext\": [\"D3\", \"G\", \"Meteor\", \"Asm\", \"Extension\", \"Grunt\", \"Backbone\", \"Knockout\", \"Ext\"], \"legendgroup\": \"2014\", \"marker\": {\"color\": \"#EF553B\"}, \"name\": \"2014\", \"offsetgroup\": \"2014\", \"orientation\": \"h\", \"showlegend\": true, \"textposition\": \"auto\", \"type\": \"bar\", \"x\": [0.0426, 0.0426, 0.0426, 0.0638, 0.0638, 0.0638, 0.1702, 0.234, 0.2766], \"xaxis\": \"x\", \"y\": [\"D3\", \"G\", \"Meteor\", \"Asm\", \"Extension\", \"Grunt\", \"Backbone\", \"Knockout\", \"Ext\"], \"yaxis\": \"y\"}, {\"alignmentgroup\": \"True\", \"customdata\": [[\"2015\", \"Three\", 4, 0.0067], [\"2015\", \"Kraken\", 5, 0.0083], [\"2015\", \"Ractive\", 8, 0.0133], [\"2015\", \"D3\", 10, 0.0166], [\"2015\", \"Expression\", 10, 0.0166], [\"2015\", \"Durandal\", 15, 0.025], [\"2015\", \"Ext\", 39, 0.0649], [\"2015\", \"Meteor\", 98, 0.1631], [\"2015\", \"Backbone\", 99, 0.1647], [\"2015\", \"Knockout\", 118, 0.1963], [\"2015\", \"Ember\", 195, 0.3245]], \"hovertemplate\": \"<b>%{hovertext}</b><br><br>year=%{customdata[0]}<br>percentage=%{customdata[3]:.2%}<br>count=%{customdata[2]}<extra></extra>\", \"hovertext\": [\"Three\", \"Kraken\", \"Ractive\", \"D3\", \"Expression\", \"Durandal\", \"Ext\", \"Meteor\", \"Backbone\", \"Knockout\", \"Ember\"], \"legendgroup\": \"2015\", \"marker\": {\"color\": \"#00cc96\"}, \"name\": \"2015\", \"offsetgroup\": \"2015\", \"orientation\": \"h\", \"showlegend\": true, \"textposition\": \"auto\", \"type\": \"bar\", \"x\": [0.0067, 0.0083, 0.0133, 0.0166, 0.0166, 0.025, 0.0649, 0.1631, 0.1647, 0.1963, 0.3245], \"xaxis\": \"x\", \"y\": [\"Three\", \"Kraken\", \"Ractive\", \"D3\", \"Expression\", \"Durandal\", \"Ext\", \"Meteor\", \"Backbone\", \"Knockout\", \"Ember\"], \"yaxis\": \"y\"}],\n",
       "                        {\"barmode\": \"relative\", \"hoverlabel\": {\"font\": {\"color\": \"white\"}}, \"legend\": {\"title\": {\"text\": \"\"}, \"tracegroupgap\": 0, \"x\": 1, \"y\": 1}, \"margin\": {\"t\": 60}, \"template\": {\"data\": {\"bar\": [{\"error_x\": {\"color\": \"#2a3f5f\"}, \"error_y\": {\"color\": \"#2a3f5f\"}, \"marker\": {\"line\": {\"color\": \"#E5ECF6\", \"width\": 0.5}}, \"type\": \"bar\"}], \"barpolar\": [{\"marker\": {\"line\": {\"color\": \"#E5ECF6\", \"width\": 0.5}}, \"type\": \"barpolar\"}], \"carpet\": [{\"aaxis\": {\"endlinecolor\": \"#2a3f5f\", \"gridcolor\": \"white\", \"linecolor\": \"white\", \"minorgridcolor\": \"white\", \"startlinecolor\": \"#2a3f5f\"}, \"baxis\": {\"endlinecolor\": \"#2a3f5f\", \"gridcolor\": \"white\", \"linecolor\": \"white\", \"minorgridcolor\": \"white\", \"startlinecolor\": \"#2a3f5f\"}, \"type\": \"carpet\"}], \"choropleth\": [{\"colorbar\": {\"outlinewidth\": 0, \"ticks\": \"\"}, \"type\": \"choropleth\"}], \"contour\": [{\"colorbar\": {\"outlinewidth\": 0, \"ticks\": \"\"}, \"colorscale\": [[0.0, \"#0d0887\"], [0.1111111111111111, \"#46039f\"], [0.2222222222222222, \"#7201a8\"], [0.3333333333333333, \"#9c179e\"], [0.4444444444444444, \"#bd3786\"], [0.5555555555555556, \"#d8576b\"], [0.6666666666666666, \"#ed7953\"], [0.7777777777777778, \"#fb9f3a\"], [0.8888888888888888, \"#fdca26\"], [1.0, \"#f0f921\"]], \"type\": \"contour\"}], \"contourcarpet\": [{\"colorbar\": {\"outlinewidth\": 0, \"ticks\": \"\"}, \"type\": \"contourcarpet\"}], \"heatmap\": [{\"colorbar\": {\"outlinewidth\": 0, \"ticks\": \"\"}, \"colorscale\": [[0.0, \"#0d0887\"], [0.1111111111111111, \"#46039f\"], [0.2222222222222222, \"#7201a8\"], [0.3333333333333333, \"#9c179e\"], [0.4444444444444444, \"#bd3786\"], [0.5555555555555556, \"#d8576b\"], [0.6666666666666666, \"#ed7953\"], [0.7777777777777778, \"#fb9f3a\"], [0.8888888888888888, \"#fdca26\"], [1.0, \"#f0f921\"]], \"type\": \"heatmap\"}], \"heatmapgl\": [{\"colorbar\": {\"outlinewidth\": 0, \"ticks\": \"\"}, \"colorscale\": [[0.0, \"#0d0887\"], [0.1111111111111111, \"#46039f\"], [0.2222222222222222, \"#7201a8\"], [0.3333333333333333, \"#9c179e\"], [0.4444444444444444, \"#bd3786\"], [0.5555555555555556, \"#d8576b\"], [0.6666666666666666, \"#ed7953\"], [0.7777777777777778, \"#fb9f3a\"], [0.8888888888888888, \"#fdca26\"], [1.0, \"#f0f921\"]], \"type\": \"heatmapgl\"}], \"histogram\": [{\"marker\": {\"colorbar\": {\"outlinewidth\": 0, \"ticks\": \"\"}}, \"type\": \"histogram\"}], \"histogram2d\": [{\"colorbar\": {\"outlinewidth\": 0, \"ticks\": \"\"}, \"colorscale\": [[0.0, \"#0d0887\"], [0.1111111111111111, \"#46039f\"], [0.2222222222222222, \"#7201a8\"], [0.3333333333333333, \"#9c179e\"], [0.4444444444444444, \"#bd3786\"], [0.5555555555555556, \"#d8576b\"], [0.6666666666666666, \"#ed7953\"], [0.7777777777777778, \"#fb9f3a\"], [0.8888888888888888, \"#fdca26\"], [1.0, \"#f0f921\"]], \"type\": \"histogram2d\"}], \"histogram2dcontour\": [{\"colorbar\": {\"outlinewidth\": 0, \"ticks\": \"\"}, \"colorscale\": [[0.0, \"#0d0887\"], [0.1111111111111111, \"#46039f\"], [0.2222222222222222, \"#7201a8\"], [0.3333333333333333, \"#9c179e\"], [0.4444444444444444, \"#bd3786\"], [0.5555555555555556, \"#d8576b\"], [0.6666666666666666, \"#ed7953\"], [0.7777777777777778, \"#fb9f3a\"], [0.8888888888888888, \"#fdca26\"], [1.0, \"#f0f921\"]], \"type\": \"histogram2dcontour\"}], \"mesh3d\": [{\"colorbar\": {\"outlinewidth\": 0, \"ticks\": \"\"}, \"type\": \"mesh3d\"}], \"parcoords\": [{\"line\": {\"colorbar\": {\"outlinewidth\": 0, \"ticks\": \"\"}}, \"type\": \"parcoords\"}], \"pie\": [{\"automargin\": true, \"type\": \"pie\"}], \"scatter\": [{\"marker\": {\"colorbar\": {\"outlinewidth\": 0, \"ticks\": \"\"}}, \"type\": \"scatter\"}], \"scatter3d\": [{\"line\": {\"colorbar\": {\"outlinewidth\": 0, \"ticks\": \"\"}}, \"marker\": {\"colorbar\": {\"outlinewidth\": 0, \"ticks\": \"\"}}, \"type\": \"scatter3d\"}], \"scattercarpet\": [{\"marker\": {\"colorbar\": {\"outlinewidth\": 0, \"ticks\": \"\"}}, \"type\": \"scattercarpet\"}], \"scattergeo\": [{\"marker\": {\"colorbar\": {\"outlinewidth\": 0, \"ticks\": \"\"}}, \"type\": \"scattergeo\"}], \"scattergl\": [{\"marker\": {\"colorbar\": {\"outlinewidth\": 0, \"ticks\": \"\"}}, \"type\": \"scattergl\"}], \"scattermapbox\": [{\"marker\": {\"colorbar\": {\"outlinewidth\": 0, \"ticks\": \"\"}}, \"type\": \"scattermapbox\"}], \"scatterpolar\": [{\"marker\": {\"colorbar\": {\"outlinewidth\": 0, \"ticks\": \"\"}}, \"type\": \"scatterpolar\"}], \"scatterpolargl\": [{\"marker\": {\"colorbar\": {\"outlinewidth\": 0, \"ticks\": \"\"}}, \"type\": \"scatterpolargl\"}], \"scatterternary\": [{\"marker\": {\"colorbar\": {\"outlinewidth\": 0, \"ticks\": \"\"}}, \"type\": \"scatterternary\"}], \"surface\": [{\"colorbar\": {\"outlinewidth\": 0, \"ticks\": \"\"}, \"colorscale\": [[0.0, \"#0d0887\"], [0.1111111111111111, \"#46039f\"], [0.2222222222222222, \"#7201a8\"], [0.3333333333333333, \"#9c179e\"], [0.4444444444444444, \"#bd3786\"], [0.5555555555555556, \"#d8576b\"], [0.6666666666666666, \"#ed7953\"], [0.7777777777777778, \"#fb9f3a\"], [0.8888888888888888, \"#fdca26\"], [1.0, \"#f0f921\"]], \"type\": \"surface\"}], \"table\": [{\"cells\": {\"fill\": {\"color\": \"#EBF0F8\"}, \"line\": {\"color\": \"white\"}}, \"header\": {\"fill\": {\"color\": \"#C8D4E3\"}, \"line\": {\"color\": \"white\"}}, \"type\": \"table\"}]}, \"layout\": {\"annotationdefaults\": {\"arrowcolor\": \"#2a3f5f\", \"arrowhead\": 0, \"arrowwidth\": 1}, \"coloraxis\": {\"colorbar\": {\"outlinewidth\": 0, \"ticks\": \"\"}}, \"colorscale\": {\"diverging\": [[0, \"#8e0152\"], [0.1, \"#c51b7d\"], [0.2, \"#de77ae\"], [0.3, \"#f1b6da\"], [0.4, \"#fde0ef\"], [0.5, \"#f7f7f7\"], [0.6, \"#e6f5d0\"], [0.7, \"#b8e186\"], [0.8, \"#7fbc41\"], [0.9, \"#4d9221\"], [1, \"#276419\"]], \"sequential\": [[0.0, \"#0d0887\"], [0.1111111111111111, \"#46039f\"], [0.2222222222222222, \"#7201a8\"], [0.3333333333333333, \"#9c179e\"], [0.4444444444444444, \"#bd3786\"], [0.5555555555555556, \"#d8576b\"], [0.6666666666666666, \"#ed7953\"], [0.7777777777777778, \"#fb9f3a\"], [0.8888888888888888, \"#fdca26\"], [1.0, \"#f0f921\"]], \"sequentialminus\": [[0.0, \"#0d0887\"], [0.1111111111111111, \"#46039f\"], [0.2222222222222222, \"#7201a8\"], [0.3333333333333333, \"#9c179e\"], [0.4444444444444444, \"#bd3786\"], [0.5555555555555556, \"#d8576b\"], [0.6666666666666666, \"#ed7953\"], [0.7777777777777778, \"#fb9f3a\"], [0.8888888888888888, \"#fdca26\"], [1.0, \"#f0f921\"]]}, \"colorway\": [\"#636efa\", \"#EF553B\", \"#00cc96\", \"#ab63fa\", \"#FFA15A\", \"#19d3f3\", \"#FF6692\", \"#B6E880\", \"#FF97FF\", \"#FECB52\"], \"font\": {\"color\": \"#2a3f5f\"}, \"geo\": {\"bgcolor\": \"white\", \"lakecolor\": \"white\", \"landcolor\": \"#E5ECF6\", \"showlakes\": true, \"showland\": true, \"subunitcolor\": \"white\"}, \"hoverlabel\": {\"align\": \"left\"}, \"hovermode\": \"closest\", \"mapbox\": {\"style\": \"light\"}, \"paper_bgcolor\": \"white\", \"plot_bgcolor\": \"#E5ECF6\", \"polar\": {\"angularaxis\": {\"gridcolor\": \"white\", \"linecolor\": \"white\", \"ticks\": \"\"}, \"bgcolor\": \"#E5ECF6\", \"radialaxis\": {\"gridcolor\": \"white\", \"linecolor\": \"white\", \"ticks\": \"\"}}, \"scene\": {\"xaxis\": {\"backgroundcolor\": \"#E5ECF6\", \"gridcolor\": \"white\", \"gridwidth\": 2, \"linecolor\": \"white\", \"showbackground\": true, \"ticks\": \"\", \"zerolinecolor\": \"white\"}, \"yaxis\": {\"backgroundcolor\": \"#E5ECF6\", \"gridcolor\": \"white\", \"gridwidth\": 2, \"linecolor\": \"white\", \"showbackground\": true, \"ticks\": \"\", \"zerolinecolor\": \"white\"}, \"zaxis\": {\"backgroundcolor\": \"#E5ECF6\", \"gridcolor\": \"white\", \"gridwidth\": 2, \"linecolor\": \"white\", \"showbackground\": true, \"ticks\": \"\", \"zerolinecolor\": \"white\"}}, \"shapedefaults\": {\"line\": {\"color\": \"#2a3f5f\"}}, \"ternary\": {\"aaxis\": {\"gridcolor\": \"white\", \"linecolor\": \"white\", \"ticks\": \"\"}, \"baxis\": {\"gridcolor\": \"white\", \"linecolor\": \"white\", \"ticks\": \"\"}, \"bgcolor\": \"#E5ECF6\", \"caxis\": {\"gridcolor\": \"white\", \"linecolor\": \"white\", \"ticks\": \"\"}}, \"title\": {\"x\": 0.05}, \"xaxis\": {\"automargin\": true, \"gridcolor\": \"white\", \"linecolor\": \"white\", \"ticks\": \"\", \"title\": {\"standoff\": 15}, \"zerolinecolor\": \"white\", \"zerolinewidth\": 2}, \"yaxis\": {\"automargin\": true, \"gridcolor\": \"white\", \"linecolor\": \"white\", \"ticks\": \"\", \"title\": {\"standoff\": 15}, \"zerolinecolor\": \"white\", \"zerolinewidth\": 2}}}, \"title\": {\"text\": \"JS related Tech by Year\", \"x\": 0.5, \"xanchor\": \"center\", \"yanchor\": \"top\"}, \"xaxis\": {\"anchor\": \"y\", \"domain\": [0.0, 1.0], \"title\": {\"text\": \"percentage\"}, \"visible\": false}, \"yaxis\": {\"anchor\": \"x\", \"domain\": [0.0, 1.0], \"tickcolor\": \"white\", \"ticklen\": 8, \"ticks\": \"outside\", \"title\": {\"text\": \"\"}}},\n",
       "                        {\"responsive\": true}\n",
       "                    ).then(function(){\n",
       "                            \n",
       "var gd = document.getElementById('72d07a5c-3cc1-45d9-8ec5-cab161b7c446');\n",
       "var x = new MutationObserver(function (mutations, observer) {{\n",
       "        var display = window.getComputedStyle(gd).display;\n",
       "        if (!display || display === 'none') {{\n",
       "            console.log([gd, 'removed!']);\n",
       "            Plotly.purge(gd);\n",
       "            observer.disconnect();\n",
       "        }}\n",
       "}});\n",
       "\n",
       "// Listen for the removal of the full notebook cells\n",
       "var notebookContainer = gd.closest('#notebook-container');\n",
       "if (notebookContainer) {{\n",
       "    x.observe(notebookContainer, {childList: true});\n",
       "}}\n",
       "\n",
       "// Listen for the clearing of the current output cell\n",
       "var outputEl = gd.closest('.output');\n",
       "if (outputEl) {{\n",
       "    x.observe(outputEl, {childList: true});\n",
       "}}\n",
       "\n",
       "                        })\n",
       "                };\n",
       "                });\n",
       "            </script>\n",
       "        </div>"
      ]
     },
     "metadata": {},
     "output_type": "display_data"
    }
   ],
   "source": [
    "fig = px.bar(\n",
    "    js_langs_year, y=\"language\", x=\"percentage\",\n",
    "    color='year', \n",
    "    orientation='h',\n",
    "    hover_name='language',\n",
    "    hover_data={\n",
    "        'year': True,\n",
    "        'language': False,\n",
    "        'count': True,\n",
    "        'percentage':':.2%',\n",
    "    }\n",
    ")\n",
    "\n",
    "fig.update_layout(\n",
    "    legend=dict(\n",
    "        title='',\n",
    "        y=1, x=1\n",
    "    ),\n",
    "    xaxis={'visible': False},\n",
    "    yaxis={'title': '', 'ticks': \"outside\", 'tickcolor':'white', 'ticklen':8},\n",
    "    title={\n",
    "        'text': \"JS related Tech by Year\",\n",
    "        'x':0.5,\n",
    "        'xanchor': 'center',\n",
    "        'yanchor': 'top'\n",
    "    },\n",
    "    hoverlabel = dict(\n",
    "        font=dict(color='white')\n",
    "    )\n",
    ")\n",
    "\n",
    "# https://chart-studio.plotly.com/~empet/15366/customdata-for-a-few-plotly-chart-types/#/\n",
    "# new_customdatadf  = np.stack((js_langs_year['year'], js_langs_year['count']), axis=-1)\n",
    "\n",
    "#NB: The following causes wrong labeling values - wach out\n",
    "# fig.update_traces(\n",
    "#     customdata=new_customdatadf,\n",
    "#     hovertemplate =\n",
    "#         '<b>%{y}</b><br><br>'+\n",
    "#         'Year: %{customdata[0]} <br>'+ \n",
    "#         'Total: %{customdata[1]:.d} <br>'+ \n",
    "#         'Percentage: %{x:.2%}<br>'+\n",
    "#         \"<extra></extra>\"\n",
    "# )\n",
    "\n",
    "fig.show()"
   ]
  },
  {
   "cell_type": "code",
   "execution_count": 213,
   "metadata": {},
   "outputs": [
    {
     "data": {
      "application/vnd.plotly.v1+json": {
       "config": {
        "plotlyServerURL": "https://plotly.com"
       },
       "data": [
        {
         "alignmentgroup": "True",
         "customdata": [
          [
           "2013",
           "Ember",
           4,
           0.0237
          ],
          [
           "2013",
           "Meteor",
           4,
           0.0237
          ],
          [
           "2013",
           "Require",
           4,
           0.0237
          ],
          [
           "2013",
           "Prototype",
           5,
           0.0296
          ],
          [
           "2013",
           "Raphael",
           5,
           0.0296
          ],
          [
           "2013",
           "D3",
           10,
           0.0592
          ],
          [
           "2013",
           "Underscore",
           18,
           0.1065
          ],
          [
           "2013",
           "Ext",
           37,
           0.2189
          ],
          [
           "2013",
           "Backbone",
           41,
           0.2426
          ],
          [
           "2013",
           "Knockout",
           41,
           0.2426
          ],
          [
           "2014",
           "D3",
           2,
           0.0426
          ],
          [
           "2014",
           "G",
           2,
           0.0426
          ],
          [
           "2014",
           "Meteor",
           2,
           0.0426
          ],
          [
           "2014",
           "Asm",
           3,
           0.0638
          ],
          [
           "2014",
           "Extension",
           3,
           0.0638
          ],
          [
           "2014",
           "Grunt",
           3,
           0.0638
          ],
          [
           "2014",
           "Backbone",
           8,
           0.1702
          ],
          [
           "2014",
           "Knockout",
           11,
           0.234
          ],
          [
           "2014",
           "Ext",
           13,
           0.2766
          ],
          [
           "2015",
           "Three",
           4,
           0.0067
          ],
          [
           "2015",
           "Kraken",
           5,
           0.0083
          ],
          [
           "2015",
           "Ractive",
           8,
           0.0133
          ],
          [
           "2015",
           "D3",
           10,
           0.0166
          ],
          [
           "2015",
           "Expression",
           10,
           0.0166
          ],
          [
           "2015",
           "Durandal",
           15,
           0.025
          ],
          [
           "2015",
           "Ext",
           39,
           0.0649
          ],
          [
           "2015",
           "Meteor",
           98,
           0.1631
          ],
          [
           "2015",
           "Backbone",
           99,
           0.1647
          ],
          [
           "2015",
           "Knockout",
           118,
           0.1963
          ],
          [
           "2015",
           "Ember",
           195,
           0.3245
          ]
         ],
         "hovertemplate": "<b>%{hovertext}</b><br><br>percentage=%{marker.color:.2%}<br>count=%{customdata[2]}<extra></extra>",
         "hovertext": [
          "Ember",
          "Meteor",
          "Require",
          "Prototype",
          "Raphael",
          "D3",
          "Underscore",
          "Ext",
          "Backbone",
          "Knockout",
          "D3",
          "G",
          "Meteor",
          "Asm",
          "Extension",
          "Grunt",
          "Backbone",
          "Knockout",
          "Ext",
          "Three",
          "Kraken",
          "Ractive",
          "D3",
          "Expression",
          "Durandal",
          "Ext",
          "Meteor",
          "Backbone",
          "Knockout",
          "Ember"
         ],
         "legendgroup": "",
         "marker": {
          "color": [
           0.0237,
           0.0237,
           0.0237,
           0.0296,
           0.0296,
           0.0592,
           0.1065,
           0.2189,
           0.2426,
           0.2426,
           0.0426,
           0.0426,
           0.0426,
           0.0638,
           0.0638,
           0.0638,
           0.1702,
           0.234,
           0.2766,
           0.0067,
           0.0083,
           0.0133,
           0.0166,
           0.0166,
           0.025,
           0.0649,
           0.1631,
           0.1647,
           0.1963,
           0.3245
          ],
          "coloraxis": "coloraxis"
         },
         "name": "",
         "offsetgroup": "",
         "orientation": "h",
         "showlegend": false,
         "text": [
          "Ember",
          "Meteor",
          "Require",
          "Prototype",
          "Raphael",
          "D3",
          "Underscore",
          "Ext",
          "Backbone",
          "Knockout",
          "D3",
          "G",
          "Meteor",
          "Asm",
          "Extension",
          "Grunt",
          "Backbone",
          "Knockout",
          "Ext",
          "Three",
          "Kraken",
          "Ractive",
          "D3",
          "Expression",
          "Durandal",
          "Ext",
          "Meteor",
          "Backbone",
          "Knockout",
          "Ember"
         ],
         "textposition": "auto",
         "type": "bar",
         "x": [
          0.0237,
          0.0237,
          0.0237,
          0.0296,
          0.0296,
          0.0592,
          0.1065,
          0.2189,
          0.2426,
          0.2426,
          0.0426,
          0.0426,
          0.0426,
          0.0638,
          0.0638,
          0.0638,
          0.1702,
          0.234,
          0.2766,
          0.0067,
          0.0083,
          0.0133,
          0.0166,
          0.0166,
          0.025,
          0.0649,
          0.1631,
          0.1647,
          0.1963,
          0.3245
         ],
         "xaxis": "x",
         "y": [
          "2013",
          "2013",
          "2013",
          "2013",
          "2013",
          "2013",
          "2013",
          "2013",
          "2013",
          "2013",
          "2014",
          "2014",
          "2014",
          "2014",
          "2014",
          "2014",
          "2014",
          "2014",
          "2014",
          "2015",
          "2015",
          "2015",
          "2015",
          "2015",
          "2015",
          "2015",
          "2015",
          "2015",
          "2015",
          "2015"
         ],
         "yaxis": "y"
        }
       ],
       "layout": {
        "autosize": true,
        "barmode": "stack",
        "coloraxis": {
         "colorbar": {
          "title": {
           "text": "percentage"
          }
         },
         "colorscale": [
          [
           0,
           "#0d0887"
          ],
          [
           0.1111111111111111,
           "#46039f"
          ],
          [
           0.2222222222222222,
           "#7201a8"
          ],
          [
           0.3333333333333333,
           "#9c179e"
          ],
          [
           0.4444444444444444,
           "#bd3786"
          ],
          [
           0.5555555555555556,
           "#d8576b"
          ],
          [
           0.6666666666666666,
           "#ed7953"
          ],
          [
           0.7777777777777778,
           "#fb9f3a"
          ],
          [
           0.8888888888888888,
           "#fdca26"
          ],
          [
           1,
           "#f0f921"
          ]
         ]
        },
        "legend": {
         "tracegroupgap": 0
        },
        "margin": {
         "t": 60
        },
        "showlegend": false,
        "template": {
         "data": {
          "bar": [
           {
            "error_x": {
             "color": "#2a3f5f"
            },
            "error_y": {
             "color": "#2a3f5f"
            },
            "marker": {
             "line": {
              "color": "#E5ECF6",
              "width": 0.5
             }
            },
            "type": "bar"
           }
          ],
          "barpolar": [
           {
            "marker": {
             "line": {
              "color": "#E5ECF6",
              "width": 0.5
             }
            },
            "type": "barpolar"
           }
          ],
          "carpet": [
           {
            "aaxis": {
             "endlinecolor": "#2a3f5f",
             "gridcolor": "white",
             "linecolor": "white",
             "minorgridcolor": "white",
             "startlinecolor": "#2a3f5f"
            },
            "baxis": {
             "endlinecolor": "#2a3f5f",
             "gridcolor": "white",
             "linecolor": "white",
             "minorgridcolor": "white",
             "startlinecolor": "#2a3f5f"
            },
            "type": "carpet"
           }
          ],
          "choropleth": [
           {
            "colorbar": {
             "outlinewidth": 0,
             "ticks": ""
            },
            "type": "choropleth"
           }
          ],
          "contour": [
           {
            "colorbar": {
             "outlinewidth": 0,
             "ticks": ""
            },
            "colorscale": [
             [
              0,
              "#0d0887"
             ],
             [
              0.1111111111111111,
              "#46039f"
             ],
             [
              0.2222222222222222,
              "#7201a8"
             ],
             [
              0.3333333333333333,
              "#9c179e"
             ],
             [
              0.4444444444444444,
              "#bd3786"
             ],
             [
              0.5555555555555556,
              "#d8576b"
             ],
             [
              0.6666666666666666,
              "#ed7953"
             ],
             [
              0.7777777777777778,
              "#fb9f3a"
             ],
             [
              0.8888888888888888,
              "#fdca26"
             ],
             [
              1,
              "#f0f921"
             ]
            ],
            "type": "contour"
           }
          ],
          "contourcarpet": [
           {
            "colorbar": {
             "outlinewidth": 0,
             "ticks": ""
            },
            "type": "contourcarpet"
           }
          ],
          "heatmap": [
           {
            "colorbar": {
             "outlinewidth": 0,
             "ticks": ""
            },
            "colorscale": [
             [
              0,
              "#0d0887"
             ],
             [
              0.1111111111111111,
              "#46039f"
             ],
             [
              0.2222222222222222,
              "#7201a8"
             ],
             [
              0.3333333333333333,
              "#9c179e"
             ],
             [
              0.4444444444444444,
              "#bd3786"
             ],
             [
              0.5555555555555556,
              "#d8576b"
             ],
             [
              0.6666666666666666,
              "#ed7953"
             ],
             [
              0.7777777777777778,
              "#fb9f3a"
             ],
             [
              0.8888888888888888,
              "#fdca26"
             ],
             [
              1,
              "#f0f921"
             ]
            ],
            "type": "heatmap"
           }
          ],
          "heatmapgl": [
           {
            "colorbar": {
             "outlinewidth": 0,
             "ticks": ""
            },
            "colorscale": [
             [
              0,
              "#0d0887"
             ],
             [
              0.1111111111111111,
              "#46039f"
             ],
             [
              0.2222222222222222,
              "#7201a8"
             ],
             [
              0.3333333333333333,
              "#9c179e"
             ],
             [
              0.4444444444444444,
              "#bd3786"
             ],
             [
              0.5555555555555556,
              "#d8576b"
             ],
             [
              0.6666666666666666,
              "#ed7953"
             ],
             [
              0.7777777777777778,
              "#fb9f3a"
             ],
             [
              0.8888888888888888,
              "#fdca26"
             ],
             [
              1,
              "#f0f921"
             ]
            ],
            "type": "heatmapgl"
           }
          ],
          "histogram": [
           {
            "marker": {
             "colorbar": {
              "outlinewidth": 0,
              "ticks": ""
             }
            },
            "type": "histogram"
           }
          ],
          "histogram2d": [
           {
            "colorbar": {
             "outlinewidth": 0,
             "ticks": ""
            },
            "colorscale": [
             [
              0,
              "#0d0887"
             ],
             [
              0.1111111111111111,
              "#46039f"
             ],
             [
              0.2222222222222222,
              "#7201a8"
             ],
             [
              0.3333333333333333,
              "#9c179e"
             ],
             [
              0.4444444444444444,
              "#bd3786"
             ],
             [
              0.5555555555555556,
              "#d8576b"
             ],
             [
              0.6666666666666666,
              "#ed7953"
             ],
             [
              0.7777777777777778,
              "#fb9f3a"
             ],
             [
              0.8888888888888888,
              "#fdca26"
             ],
             [
              1,
              "#f0f921"
             ]
            ],
            "type": "histogram2d"
           }
          ],
          "histogram2dcontour": [
           {
            "colorbar": {
             "outlinewidth": 0,
             "ticks": ""
            },
            "colorscale": [
             [
              0,
              "#0d0887"
             ],
             [
              0.1111111111111111,
              "#46039f"
             ],
             [
              0.2222222222222222,
              "#7201a8"
             ],
             [
              0.3333333333333333,
              "#9c179e"
             ],
             [
              0.4444444444444444,
              "#bd3786"
             ],
             [
              0.5555555555555556,
              "#d8576b"
             ],
             [
              0.6666666666666666,
              "#ed7953"
             ],
             [
              0.7777777777777778,
              "#fb9f3a"
             ],
             [
              0.8888888888888888,
              "#fdca26"
             ],
             [
              1,
              "#f0f921"
             ]
            ],
            "type": "histogram2dcontour"
           }
          ],
          "mesh3d": [
           {
            "colorbar": {
             "outlinewidth": 0,
             "ticks": ""
            },
            "type": "mesh3d"
           }
          ],
          "parcoords": [
           {
            "line": {
             "colorbar": {
              "outlinewidth": 0,
              "ticks": ""
             }
            },
            "type": "parcoords"
           }
          ],
          "pie": [
           {
            "automargin": true,
            "type": "pie"
           }
          ],
          "scatter": [
           {
            "marker": {
             "colorbar": {
              "outlinewidth": 0,
              "ticks": ""
             }
            },
            "type": "scatter"
           }
          ],
          "scatter3d": [
           {
            "line": {
             "colorbar": {
              "outlinewidth": 0,
              "ticks": ""
             }
            },
            "marker": {
             "colorbar": {
              "outlinewidth": 0,
              "ticks": ""
             }
            },
            "type": "scatter3d"
           }
          ],
          "scattercarpet": [
           {
            "marker": {
             "colorbar": {
              "outlinewidth": 0,
              "ticks": ""
             }
            },
            "type": "scattercarpet"
           }
          ],
          "scattergeo": [
           {
            "marker": {
             "colorbar": {
              "outlinewidth": 0,
              "ticks": ""
             }
            },
            "type": "scattergeo"
           }
          ],
          "scattergl": [
           {
            "marker": {
             "colorbar": {
              "outlinewidth": 0,
              "ticks": ""
             }
            },
            "type": "scattergl"
           }
          ],
          "scattermapbox": [
           {
            "marker": {
             "colorbar": {
              "outlinewidth": 0,
              "ticks": ""
             }
            },
            "type": "scattermapbox"
           }
          ],
          "scatterpolar": [
           {
            "marker": {
             "colorbar": {
              "outlinewidth": 0,
              "ticks": ""
             }
            },
            "type": "scatterpolar"
           }
          ],
          "scatterpolargl": [
           {
            "marker": {
             "colorbar": {
              "outlinewidth": 0,
              "ticks": ""
             }
            },
            "type": "scatterpolargl"
           }
          ],
          "scatterternary": [
           {
            "marker": {
             "colorbar": {
              "outlinewidth": 0,
              "ticks": ""
             }
            },
            "type": "scatterternary"
           }
          ],
          "surface": [
           {
            "colorbar": {
             "outlinewidth": 0,
             "ticks": ""
            },
            "colorscale": [
             [
              0,
              "#0d0887"
             ],
             [
              0.1111111111111111,
              "#46039f"
             ],
             [
              0.2222222222222222,
              "#7201a8"
             ],
             [
              0.3333333333333333,
              "#9c179e"
             ],
             [
              0.4444444444444444,
              "#bd3786"
             ],
             [
              0.5555555555555556,
              "#d8576b"
             ],
             [
              0.6666666666666666,
              "#ed7953"
             ],
             [
              0.7777777777777778,
              "#fb9f3a"
             ],
             [
              0.8888888888888888,
              "#fdca26"
             ],
             [
              1,
              "#f0f921"
             ]
            ],
            "type": "surface"
           }
          ],
          "table": [
           {
            "cells": {
             "fill": {
              "color": "#EBF0F8"
             },
             "line": {
              "color": "white"
             }
            },
            "header": {
             "fill": {
              "color": "#C8D4E3"
             },
             "line": {
              "color": "white"
             }
            },
            "type": "table"
           }
          ]
         },
         "layout": {
          "annotationdefaults": {
           "arrowcolor": "#2a3f5f",
           "arrowhead": 0,
           "arrowwidth": 1
          },
          "coloraxis": {
           "colorbar": {
            "outlinewidth": 0,
            "ticks": ""
           }
          },
          "colorscale": {
           "diverging": [
            [
             0,
             "#8e0152"
            ],
            [
             0.1,
             "#c51b7d"
            ],
            [
             0.2,
             "#de77ae"
            ],
            [
             0.3,
             "#f1b6da"
            ],
            [
             0.4,
             "#fde0ef"
            ],
            [
             0.5,
             "#f7f7f7"
            ],
            [
             0.6,
             "#e6f5d0"
            ],
            [
             0.7,
             "#b8e186"
            ],
            [
             0.8,
             "#7fbc41"
            ],
            [
             0.9,
             "#4d9221"
            ],
            [
             1,
             "#276419"
            ]
           ],
           "sequential": [
            [
             0,
             "#0d0887"
            ],
            [
             0.1111111111111111,
             "#46039f"
            ],
            [
             0.2222222222222222,
             "#7201a8"
            ],
            [
             0.3333333333333333,
             "#9c179e"
            ],
            [
             0.4444444444444444,
             "#bd3786"
            ],
            [
             0.5555555555555556,
             "#d8576b"
            ],
            [
             0.6666666666666666,
             "#ed7953"
            ],
            [
             0.7777777777777778,
             "#fb9f3a"
            ],
            [
             0.8888888888888888,
             "#fdca26"
            ],
            [
             1,
             "#f0f921"
            ]
           ],
           "sequentialminus": [
            [
             0,
             "#0d0887"
            ],
            [
             0.1111111111111111,
             "#46039f"
            ],
            [
             0.2222222222222222,
             "#7201a8"
            ],
            [
             0.3333333333333333,
             "#9c179e"
            ],
            [
             0.4444444444444444,
             "#bd3786"
            ],
            [
             0.5555555555555556,
             "#d8576b"
            ],
            [
             0.6666666666666666,
             "#ed7953"
            ],
            [
             0.7777777777777778,
             "#fb9f3a"
            ],
            [
             0.8888888888888888,
             "#fdca26"
            ],
            [
             1,
             "#f0f921"
            ]
           ]
          },
          "colorway": [
           "#636efa",
           "#EF553B",
           "#00cc96",
           "#ab63fa",
           "#FFA15A",
           "#19d3f3",
           "#FF6692",
           "#B6E880",
           "#FF97FF",
           "#FECB52"
          ],
          "font": {
           "color": "#2a3f5f"
          },
          "geo": {
           "bgcolor": "white",
           "lakecolor": "white",
           "landcolor": "#E5ECF6",
           "showlakes": true,
           "showland": true,
           "subunitcolor": "white"
          },
          "hoverlabel": {
           "align": "left"
          },
          "hovermode": "closest",
          "mapbox": {
           "style": "light"
          },
          "paper_bgcolor": "white",
          "plot_bgcolor": "#E5ECF6",
          "polar": {
           "angularaxis": {
            "gridcolor": "white",
            "linecolor": "white",
            "ticks": ""
           },
           "bgcolor": "#E5ECF6",
           "radialaxis": {
            "gridcolor": "white",
            "linecolor": "white",
            "ticks": ""
           }
          },
          "scene": {
           "xaxis": {
            "backgroundcolor": "#E5ECF6",
            "gridcolor": "white",
            "gridwidth": 2,
            "linecolor": "white",
            "showbackground": true,
            "ticks": "",
            "zerolinecolor": "white"
           },
           "yaxis": {
            "backgroundcolor": "#E5ECF6",
            "gridcolor": "white",
            "gridwidth": 2,
            "linecolor": "white",
            "showbackground": true,
            "ticks": "",
            "zerolinecolor": "white"
           },
           "zaxis": {
            "backgroundcolor": "#E5ECF6",
            "gridcolor": "white",
            "gridwidth": 2,
            "linecolor": "white",
            "showbackground": true,
            "ticks": "",
            "zerolinecolor": "white"
           }
          },
          "shapedefaults": {
           "line": {
            "color": "#2a3f5f"
           }
          },
          "ternary": {
           "aaxis": {
            "gridcolor": "white",
            "linecolor": "white",
            "ticks": ""
           },
           "baxis": {
            "gridcolor": "white",
            "linecolor": "white",
            "ticks": ""
           },
           "bgcolor": "#E5ECF6",
           "caxis": {
            "gridcolor": "white",
            "linecolor": "white",
            "ticks": ""
           }
          },
          "title": {
           "x": 0.05
          },
          "xaxis": {
           "automargin": true,
           "gridcolor": "white",
           "linecolor": "white",
           "ticks": "",
           "title": {
            "standoff": 15
           },
           "zerolinecolor": "white",
           "zerolinewidth": 2
          },
          "yaxis": {
           "automargin": true,
           "gridcolor": "white",
           "linecolor": "white",
           "ticks": "",
           "title": {
            "standoff": 15
           },
           "zerolinecolor": "white",
           "zerolinewidth": 2
          }
         }
        },
        "title": {
         "text": "Other JS related Tech",
         "x": 0.5,
         "xanchor": "center",
         "yanchor": "top"
        },
        "xaxis": {
         "anchor": "y",
         "autorange": true,
         "domain": [
          0,
          1
         ],
         "range": [
          0,
          1.0527368421052632
         ],
         "title": {
          "text": "percentage"
         },
         "type": "linear",
         "visible": false
        },
        "yaxis": {
         "anchor": "x",
         "autorange": true,
         "categoryorder": "category descending",
         "domain": [
          0,
          1
         ],
         "range": [
          -0.5,
          2.5
         ],
         "tickcolor": "white",
         "ticklen": 8,
         "ticks": "outside",
         "title": {
          "text": ""
         },
         "type": "category"
        }
       }
      },
      "image/png": "[encoded data removed]",
      "text/html": [
       "<div>\n",
       "        \n",
       "        \n",
       "            <div id=\"9cf81382-677f-4b1a-8d36-b6b6a6f3a9e1\" class=\"plotly-graph-div\" style=\"height:525px; width:100%;\"></div>\n",
       "            <script type=\"text/javascript\">\n",
       "                require([\"plotly\"], function(Plotly) {\n",
       "                    window.PLOTLYENV=window.PLOTLYENV || {};\n",
       "                    \n",
       "                if (document.getElementById(\"9cf81382-677f-4b1a-8d36-b6b6a6f3a9e1\")) {\n",
       "                    Plotly.newPlot(\n",
       "                        '9cf81382-677f-4b1a-8d36-b6b6a6f3a9e1',\n",
       "                        [{\"alignmentgroup\": \"True\", \"customdata\": [[\"2013\", \"Ember\", 4, 0.0237], [\"2013\", \"Meteor\", 4, 0.0237], [\"2013\", \"Require\", 4, 0.0237], [\"2013\", \"Prototype\", 5, 0.0296], [\"2013\", \"Raphael\", 5, 0.0296], [\"2013\", \"D3\", 10, 0.0592], [\"2013\", \"Underscore\", 18, 0.1065], [\"2013\", \"Ext\", 37, 0.2189], [\"2013\", \"Backbone\", 41, 0.2426], [\"2013\", \"Knockout\", 41, 0.2426], [\"2014\", \"D3\", 2, 0.0426], [\"2014\", \"G\", 2, 0.0426], [\"2014\", \"Meteor\", 2, 0.0426], [\"2014\", \"Asm\", 3, 0.0638], [\"2014\", \"Extension\", 3, 0.0638], [\"2014\", \"Grunt\", 3, 0.0638], [\"2014\", \"Backbone\", 8, 0.1702], [\"2014\", \"Knockout\", 11, 0.234], [\"2014\", \"Ext\", 13, 0.2766], [\"2015\", \"Three\", 4, 0.0067], [\"2015\", \"Kraken\", 5, 0.0083], [\"2015\", \"Ractive\", 8, 0.0133], [\"2015\", \"D3\", 10, 0.0166], [\"2015\", \"Expression\", 10, 0.0166], [\"2015\", \"Durandal\", 15, 0.025], [\"2015\", \"Ext\", 39, 0.0649], [\"2015\", \"Meteor\", 98, 0.1631], [\"2015\", \"Backbone\", 99, 0.1647], [\"2015\", \"Knockout\", 118, 0.1963], [\"2015\", \"Ember\", 195, 0.3245]], \"hovertemplate\": \"<b>%{hovertext}</b><br><br>percentage=%{marker.color:.2%}<br>count=%{customdata[2]}<extra></extra>\", \"hovertext\": [\"Ember\", \"Meteor\", \"Require\", \"Prototype\", \"Raphael\", \"D3\", \"Underscore\", \"Ext\", \"Backbone\", \"Knockout\", \"D3\", \"G\", \"Meteor\", \"Asm\", \"Extension\", \"Grunt\", \"Backbone\", \"Knockout\", \"Ext\", \"Three\", \"Kraken\", \"Ractive\", \"D3\", \"Expression\", \"Durandal\", \"Ext\", \"Meteor\", \"Backbone\", \"Knockout\", \"Ember\"], \"legendgroup\": \"\", \"marker\": {\"color\": [0.0237, 0.0237, 0.0237, 0.0296, 0.0296, 0.0592, 0.1065, 0.2189, 0.2426, 0.2426, 0.0426, 0.0426, 0.0426, 0.0638, 0.0638, 0.0638, 0.1702, 0.234, 0.2766, 0.0067, 0.0083, 0.0133, 0.0166, 0.0166, 0.025, 0.0649, 0.1631, 0.1647, 0.1963, 0.3245], \"coloraxis\": \"coloraxis\"}, \"name\": \"\", \"offsetgroup\": \"\", \"orientation\": \"h\", \"showlegend\": false, \"text\": [\"Ember\", \"Meteor\", \"Require\", \"Prototype\", \"Raphael\", \"D3\", \"Underscore\", \"Ext\", \"Backbone\", \"Knockout\", \"D3\", \"G\", \"Meteor\", \"Asm\", \"Extension\", \"Grunt\", \"Backbone\", \"Knockout\", \"Ext\", \"Three\", \"Kraken\", \"Ractive\", \"D3\", \"Expression\", \"Durandal\", \"Ext\", \"Meteor\", \"Backbone\", \"Knockout\", \"Ember\"], \"textposition\": \"auto\", \"type\": \"bar\", \"x\": [0.0237, 0.0237, 0.0237, 0.0296, 0.0296, 0.0592, 0.1065, 0.2189, 0.2426, 0.2426, 0.0426, 0.0426, 0.0426, 0.0638, 0.0638, 0.0638, 0.1702, 0.234, 0.2766, 0.0067, 0.0083, 0.0133, 0.0166, 0.0166, 0.025, 0.0649, 0.1631, 0.1647, 0.1963, 0.3245], \"xaxis\": \"x\", \"y\": [\"2013\", \"2013\", \"2013\", \"2013\", \"2013\", \"2013\", \"2013\", \"2013\", \"2013\", \"2013\", \"2014\", \"2014\", \"2014\", \"2014\", \"2014\", \"2014\", \"2014\", \"2014\", \"2014\", \"2015\", \"2015\", \"2015\", \"2015\", \"2015\", \"2015\", \"2015\", \"2015\", \"2015\", \"2015\", \"2015\"], \"yaxis\": \"y\"}],\n",
       "                        {\"barmode\": \"stack\", \"coloraxis\": {\"colorbar\": {\"title\": {\"text\": \"percentage\"}}, \"colorscale\": [[0.0, \"#0d0887\"], [0.1111111111111111, \"#46039f\"], [0.2222222222222222, \"#7201a8\"], [0.3333333333333333, \"#9c179e\"], [0.4444444444444444, \"#bd3786\"], [0.5555555555555556, \"#d8576b\"], [0.6666666666666666, \"#ed7953\"], [0.7777777777777778, \"#fb9f3a\"], [0.8888888888888888, \"#fdca26\"], [1.0, \"#f0f921\"]]}, \"legend\": {\"tracegroupgap\": 0}, \"margin\": {\"t\": 60}, \"showlegend\": false, \"template\": {\"data\": {\"bar\": [{\"error_x\": {\"color\": \"#2a3f5f\"}, \"error_y\": {\"color\": \"#2a3f5f\"}, \"marker\": {\"line\": {\"color\": \"#E5ECF6\", \"width\": 0.5}}, \"type\": \"bar\"}], \"barpolar\": [{\"marker\": {\"line\": {\"color\": \"#E5ECF6\", \"width\": 0.5}}, \"type\": \"barpolar\"}], \"carpet\": [{\"aaxis\": {\"endlinecolor\": \"#2a3f5f\", \"gridcolor\": \"white\", \"linecolor\": \"white\", \"minorgridcolor\": \"white\", \"startlinecolor\": \"#2a3f5f\"}, \"baxis\": {\"endlinecolor\": \"#2a3f5f\", \"gridcolor\": \"white\", \"linecolor\": \"white\", \"minorgridcolor\": \"white\", \"startlinecolor\": \"#2a3f5f\"}, \"type\": \"carpet\"}], \"choropleth\": [{\"colorbar\": {\"outlinewidth\": 0, \"ticks\": \"\"}, \"type\": \"choropleth\"}], \"contour\": [{\"colorbar\": {\"outlinewidth\": 0, \"ticks\": \"\"}, \"colorscale\": [[0.0, \"#0d0887\"], [0.1111111111111111, \"#46039f\"], [0.2222222222222222, \"#7201a8\"], [0.3333333333333333, \"#9c179e\"], [0.4444444444444444, \"#bd3786\"], [0.5555555555555556, \"#d8576b\"], [0.6666666666666666, \"#ed7953\"], [0.7777777777777778, \"#fb9f3a\"], [0.8888888888888888, \"#fdca26\"], [1.0, \"#f0f921\"]], \"type\": \"contour\"}], \"contourcarpet\": [{\"colorbar\": {\"outlinewidth\": 0, \"ticks\": \"\"}, \"type\": \"contourcarpet\"}], \"heatmap\": [{\"colorbar\": {\"outlinewidth\": 0, \"ticks\": \"\"}, \"colorscale\": [[0.0, \"#0d0887\"], [0.1111111111111111, \"#46039f\"], [0.2222222222222222, \"#7201a8\"], [0.3333333333333333, \"#9c179e\"], [0.4444444444444444, \"#bd3786\"], [0.5555555555555556, \"#d8576b\"], [0.6666666666666666, \"#ed7953\"], [0.7777777777777778, \"#fb9f3a\"], [0.8888888888888888, \"#fdca26\"], [1.0, \"#f0f921\"]], \"type\": \"heatmap\"}], \"heatmapgl\": [{\"colorbar\": {\"outlinewidth\": 0, \"ticks\": \"\"}, \"colorscale\": [[0.0, \"#0d0887\"], [0.1111111111111111, \"#46039f\"], [0.2222222222222222, \"#7201a8\"], [0.3333333333333333, \"#9c179e\"], [0.4444444444444444, \"#bd3786\"], [0.5555555555555556, \"#d8576b\"], [0.6666666666666666, \"#ed7953\"], [0.7777777777777778, \"#fb9f3a\"], [0.8888888888888888, \"#fdca26\"], [1.0, \"#f0f921\"]], \"type\": \"heatmapgl\"}], \"histogram\": [{\"marker\": {\"colorbar\": {\"outlinewidth\": 0, \"ticks\": \"\"}}, \"type\": \"histogram\"}], \"histogram2d\": [{\"colorbar\": {\"outlinewidth\": 0, \"ticks\": \"\"}, \"colorscale\": [[0.0, \"#0d0887\"], [0.1111111111111111, \"#46039f\"], [0.2222222222222222, \"#7201a8\"], [0.3333333333333333, \"#9c179e\"], [0.4444444444444444, \"#bd3786\"], [0.5555555555555556, \"#d8576b\"], [0.6666666666666666, \"#ed7953\"], [0.7777777777777778, \"#fb9f3a\"], [0.8888888888888888, \"#fdca26\"], [1.0, \"#f0f921\"]], \"type\": \"histogram2d\"}], \"histogram2dcontour\": [{\"colorbar\": {\"outlinewidth\": 0, \"ticks\": \"\"}, \"colorscale\": [[0.0, \"#0d0887\"], [0.1111111111111111, \"#46039f\"], [0.2222222222222222, \"#7201a8\"], [0.3333333333333333, \"#9c179e\"], [0.4444444444444444, \"#bd3786\"], [0.5555555555555556, \"#d8576b\"], [0.6666666666666666, \"#ed7953\"], [0.7777777777777778, \"#fb9f3a\"], [0.8888888888888888, \"#fdca26\"], [1.0, \"#f0f921\"]], \"type\": \"histogram2dcontour\"}], \"mesh3d\": [{\"colorbar\": {\"outlinewidth\": 0, \"ticks\": \"\"}, \"type\": \"mesh3d\"}], \"parcoords\": [{\"line\": {\"colorbar\": {\"outlinewidth\": 0, \"ticks\": \"\"}}, \"type\": \"parcoords\"}], \"pie\": [{\"automargin\": true, \"type\": \"pie\"}], \"scatter\": [{\"marker\": {\"colorbar\": {\"outlinewidth\": 0, \"ticks\": \"\"}}, \"type\": \"scatter\"}], \"scatter3d\": [{\"line\": {\"colorbar\": {\"outlinewidth\": 0, \"ticks\": \"\"}}, \"marker\": {\"colorbar\": {\"outlinewidth\": 0, \"ticks\": \"\"}}, \"type\": \"scatter3d\"}], \"scattercarpet\": [{\"marker\": {\"colorbar\": {\"outlinewidth\": 0, \"ticks\": \"\"}}, \"type\": \"scattercarpet\"}], \"scattergeo\": [{\"marker\": {\"colorbar\": {\"outlinewidth\": 0, \"ticks\": \"\"}}, \"type\": \"scattergeo\"}], \"scattergl\": [{\"marker\": {\"colorbar\": {\"outlinewidth\": 0, \"ticks\": \"\"}}, \"type\": \"scattergl\"}], \"scattermapbox\": [{\"marker\": {\"colorbar\": {\"outlinewidth\": 0, \"ticks\": \"\"}}, \"type\": \"scattermapbox\"}], \"scatterpolar\": [{\"marker\": {\"colorbar\": {\"outlinewidth\": 0, \"ticks\": \"\"}}, \"type\": \"scatterpolar\"}], \"scatterpolargl\": [{\"marker\": {\"colorbar\": {\"outlinewidth\": 0, \"ticks\": \"\"}}, \"type\": \"scatterpolargl\"}], \"scatterternary\": [{\"marker\": {\"colorbar\": {\"outlinewidth\": 0, \"ticks\": \"\"}}, \"type\": \"scatterternary\"}], \"surface\": [{\"colorbar\": {\"outlinewidth\": 0, \"ticks\": \"\"}, \"colorscale\": [[0.0, \"#0d0887\"], [0.1111111111111111, \"#46039f\"], [0.2222222222222222, \"#7201a8\"], [0.3333333333333333, \"#9c179e\"], [0.4444444444444444, \"#bd3786\"], [0.5555555555555556, \"#d8576b\"], [0.6666666666666666, \"#ed7953\"], [0.7777777777777778, \"#fb9f3a\"], [0.8888888888888888, \"#fdca26\"], [1.0, \"#f0f921\"]], \"type\": \"surface\"}], \"table\": [{\"cells\": {\"fill\": {\"color\": \"#EBF0F8\"}, \"line\": {\"color\": \"white\"}}, \"header\": {\"fill\": {\"color\": \"#C8D4E3\"}, \"line\": {\"color\": \"white\"}}, \"type\": \"table\"}]}, \"layout\": {\"annotationdefaults\": {\"arrowcolor\": \"#2a3f5f\", \"arrowhead\": 0, \"arrowwidth\": 1}, \"coloraxis\": {\"colorbar\": {\"outlinewidth\": 0, \"ticks\": \"\"}}, \"colorscale\": {\"diverging\": [[0, \"#8e0152\"], [0.1, \"#c51b7d\"], [0.2, \"#de77ae\"], [0.3, \"#f1b6da\"], [0.4, \"#fde0ef\"], [0.5, \"#f7f7f7\"], [0.6, \"#e6f5d0\"], [0.7, \"#b8e186\"], [0.8, \"#7fbc41\"], [0.9, \"#4d9221\"], [1, \"#276419\"]], \"sequential\": [[0.0, \"#0d0887\"], [0.1111111111111111, \"#46039f\"], [0.2222222222222222, \"#7201a8\"], [0.3333333333333333, \"#9c179e\"], [0.4444444444444444, \"#bd3786\"], [0.5555555555555556, \"#d8576b\"], [0.6666666666666666, \"#ed7953\"], [0.7777777777777778, \"#fb9f3a\"], [0.8888888888888888, \"#fdca26\"], [1.0, \"#f0f921\"]], \"sequentialminus\": [[0.0, \"#0d0887\"], [0.1111111111111111, \"#46039f\"], [0.2222222222222222, \"#7201a8\"], [0.3333333333333333, \"#9c179e\"], [0.4444444444444444, \"#bd3786\"], [0.5555555555555556, \"#d8576b\"], [0.6666666666666666, \"#ed7953\"], [0.7777777777777778, \"#fb9f3a\"], [0.8888888888888888, \"#fdca26\"], [1.0, \"#f0f921\"]]}, \"colorway\": [\"#636efa\", \"#EF553B\", \"#00cc96\", \"#ab63fa\", \"#FFA15A\", \"#19d3f3\", \"#FF6692\", \"#B6E880\", \"#FF97FF\", \"#FECB52\"], \"font\": {\"color\": \"#2a3f5f\"}, \"geo\": {\"bgcolor\": \"white\", \"lakecolor\": \"white\", \"landcolor\": \"#E5ECF6\", \"showlakes\": true, \"showland\": true, \"subunitcolor\": \"white\"}, \"hoverlabel\": {\"align\": \"left\"}, \"hovermode\": \"closest\", \"mapbox\": {\"style\": \"light\"}, \"paper_bgcolor\": \"white\", \"plot_bgcolor\": \"#E5ECF6\", \"polar\": {\"angularaxis\": {\"gridcolor\": \"white\", \"linecolor\": \"white\", \"ticks\": \"\"}, \"bgcolor\": \"#E5ECF6\", \"radialaxis\": {\"gridcolor\": \"white\", \"linecolor\": \"white\", \"ticks\": \"\"}}, \"scene\": {\"xaxis\": {\"backgroundcolor\": \"#E5ECF6\", \"gridcolor\": \"white\", \"gridwidth\": 2, \"linecolor\": \"white\", \"showbackground\": true, \"ticks\": \"\", \"zerolinecolor\": \"white\"}, \"yaxis\": {\"backgroundcolor\": \"#E5ECF6\", \"gridcolor\": \"white\", \"gridwidth\": 2, \"linecolor\": \"white\", \"showbackground\": true, \"ticks\": \"\", \"zerolinecolor\": \"white\"}, \"zaxis\": {\"backgroundcolor\": \"#E5ECF6\", \"gridcolor\": \"white\", \"gridwidth\": 2, \"linecolor\": \"white\", \"showbackground\": true, \"ticks\": \"\", \"zerolinecolor\": \"white\"}}, \"shapedefaults\": {\"line\": {\"color\": \"#2a3f5f\"}}, \"ternary\": {\"aaxis\": {\"gridcolor\": \"white\", \"linecolor\": \"white\", \"ticks\": \"\"}, \"baxis\": {\"gridcolor\": \"white\", \"linecolor\": \"white\", \"ticks\": \"\"}, \"bgcolor\": \"#E5ECF6\", \"caxis\": {\"gridcolor\": \"white\", \"linecolor\": \"white\", \"ticks\": \"\"}}, \"title\": {\"x\": 0.05}, \"xaxis\": {\"automargin\": true, \"gridcolor\": \"white\", \"linecolor\": \"white\", \"ticks\": \"\", \"title\": {\"standoff\": 15}, \"zerolinecolor\": \"white\", \"zerolinewidth\": 2}, \"yaxis\": {\"automargin\": true, \"gridcolor\": \"white\", \"linecolor\": \"white\", \"ticks\": \"\", \"title\": {\"standoff\": 15}, \"zerolinecolor\": \"white\", \"zerolinewidth\": 2}}}, \"title\": {\"text\": \"Other JS related Tech\", \"x\": 0.5, \"xanchor\": \"center\", \"yanchor\": \"top\"}, \"xaxis\": {\"anchor\": \"y\", \"domain\": [0.0, 1.0], \"title\": {\"text\": \"percentage\"}, \"visible\": false}, \"yaxis\": {\"anchor\": \"x\", \"categoryorder\": \"category descending\", \"domain\": [0.0, 1.0], \"tickcolor\": \"white\", \"ticklen\": 8, \"ticks\": \"outside\", \"title\": {\"text\": \"\"}, \"type\": \"category\"}},\n",
       "                        {\"responsive\": true}\n",
       "                    ).then(function(){\n",
       "                            \n",
       "var gd = document.getElementById('9cf81382-677f-4b1a-8d36-b6b6a6f3a9e1');\n",
       "var x = new MutationObserver(function (mutations, observer) {{\n",
       "        var display = window.getComputedStyle(gd).display;\n",
       "        if (!display || display === 'none') {{\n",
       "            console.log([gd, 'removed!']);\n",
       "            Plotly.purge(gd);\n",
       "            observer.disconnect();\n",
       "        }}\n",
       "}});\n",
       "\n",
       "// Listen for the removal of the full notebook cells\n",
       "var notebookContainer = gd.closest('#notebook-container');\n",
       "if (notebookContainer) {{\n",
       "    x.observe(notebookContainer, {childList: true});\n",
       "}}\n",
       "\n",
       "// Listen for the clearing of the current output cell\n",
       "var outputEl = gd.closest('.output');\n",
       "if (outputEl) {{\n",
       "    x.observe(outputEl, {childList: true});\n",
       "}}\n",
       "\n",
       "                        })\n",
       "                };\n",
       "                });\n",
       "            </script>\n",
       "        </div>"
      ]
     },
     "metadata": {},
     "output_type": "display_data"
    }
   ],
   "source": [
    "fig = px.bar(\n",
    "    js_langs_year, x=\"percentage\", y\n",
    "    =\"year\",\n",
    "    text='language',\n",
    "    color='percentage', \n",
    "    barmode='stack',\n",
    "    hover_name='language',\n",
    "    hover_data={\n",
    "        'year': False,\n",
    "        'language': False,\n",
    "        'count': True,\n",
    "        'percentage':':.2%',\n",
    "    }\n",
    ")\n",
    "\n",
    "fig.update_layout(\n",
    "    showlegend=False,\n",
    "    xaxis={'visible': False},\n",
    "    yaxis={\n",
    "        'title': '', \n",
    "        'ticks': \"outside\", \n",
    "        'tickcolor': 'white', \n",
    "        'ticklen': 8, \n",
    "        'type': 'category',\n",
    "        'categoryorder':'category descending'\n",
    "    },\n",
    "    title={\n",
    "        'text': \"Other JS related Tech\",\n",
    "        'x':0.5,\n",
    "        'xanchor': 'center',\n",
    "        'yanchor': 'top'\n",
    "    },\n",
    ")\n",
    "\n",
    "fig.show()\n",
    "\n"
   ]
  },
  {
   "cell_type": "markdown",
   "metadata": {},
   "source": [
    "### Common languages evolution"
   ]
  },
  {
   "cell_type": "code",
   "execution_count": 17,
   "metadata": {},
   "outputs": [
    {
     "data": {
      "text/html": [
       "<div>\n",
       "<style scoped>\n",
       "    .dataframe tbody tr th:only-of-type {\n",
       "        vertical-align: middle;\n",
       "    }\n",
       "\n",
       "    .dataframe tbody tr th {\n",
       "        vertical-align: top;\n",
       "    }\n",
       "\n",
       "    .dataframe thead th {\n",
       "        text-align: right;\n",
       "    }\n",
       "</style>\n",
       "<table border=\"1\" class=\"dataframe\">\n",
       "  <thead>\n",
       "    <tr style=\"text-align: right;\">\n",
       "      <th></th>\n",
       "      <th></th>\n",
       "      <th>Count</th>\n",
       "      <th>Percentage</th>\n",
       "    </tr>\n",
       "    <tr>\n",
       "      <th>year</th>\n",
       "      <th>programming_languages</th>\n",
       "      <th></th>\n",
       "      <th></th>\n",
       "    </tr>\n",
       "  </thead>\n",
       "  <tbody>\n",
       "    <tr>\n",
       "      <th rowspan=\"5\" valign=\"top\">2011-01-01</th>\n",
       "      <th>c</th>\n",
       "      <td>830</td>\n",
       "      <td>0.0759</td>\n",
       "    </tr>\n",
       "    <tr>\n",
       "      <th>c#</th>\n",
       "      <td>1464</td>\n",
       "      <td>0.1338</td>\n",
       "    </tr>\n",
       "    <tr>\n",
       "      <th>c++</th>\n",
       "      <td>813</td>\n",
       "      <td>0.0743</td>\n",
       "    </tr>\n",
       "    <tr>\n",
       "      <th>css</th>\n",
       "      <td>1486</td>\n",
       "      <td>0.1358</td>\n",
       "    </tr>\n",
       "    <tr>\n",
       "      <th>java</th>\n",
       "      <td>926</td>\n",
       "      <td>0.0847</td>\n",
       "    </tr>\n",
       "  </tbody>\n",
       "</table>\n",
       "</div>"
      ],
      "text/plain": [
       "                                  Count  Percentage\n",
       "year       programming_languages                   \n",
       "2011-01-01 c                        830      0.0759\n",
       "           c#                      1464      0.1338\n",
       "           c++                      813      0.0743\n",
       "           css                     1486      0.1358\n",
       "           java                     926      0.0847"
      ]
     },
     "metadata": {},
     "output_type": "display_data"
    }
   ],
   "source": [
    "languages_df = df_explode[df_explode.tech_type.str.contains('language')]\n",
    "langs_year = languages.groupby(['year', 'programming_languages']).agg({'programming_languages': 'count'})\n",
    "langs_year['Percentage'] = langs_year.groupby(level=0).programming_languages.apply(lambda x: x / float(x.sum())).round(4)\n",
    "langs_year.columns = ['Count', 'Percentage']\n",
    "display(langs_year.head())\n",
    "\n",
    "langs_year.index.names = ['Year','Language']\n",
    "langs_year.reset_index(inplace=True)\n",
    "langs_year.sort_values(['Year', 'Count'], ascending=True, inplace=True)"
   ]
  },
  {
   "cell_type": "code",
   "execution_count": 137,
   "metadata": {},
   "outputs": [
    {
     "data": {
      "application/vnd.plotly.v1+json": {
       "config": {
        "plotlyServerURL": "https://plotly.com"
       },
       "data": [
        {
         "hovertemplate": "<b>%{y}</b><br><br>Count: %{x:.d} <br>Percentage: %{text:.2%}<br><extra></extra>",
         "insidetextanchor": "end",
         "marker": {
          "color": "rgb(255, 231, 169)"
         },
         "name": "2011",
         "orientation": "h",
         "text": [
          0.0293,
          0.0307,
          0.0571,
          0.0743,
          0.0759,
          0.0772,
          0.0847,
          0.1338,
          0.1358,
          0.1404,
          0.1608
         ],
         "textposition": "outside",
         "texttemplate": "%{text:.2%}",
         "type": "bar",
         "visible": true,
         "width": 0.9,
         "x": [
          320,
          336,
          625,
          813,
          830,
          844,
          926,
          1464,
          1486,
          1536,
          1759
         ],
         "y": [
          "Perl",
          "Ruby",
          "Python",
          "C++",
          "C",
          "Php",
          "Java",
          "C#",
          "Css",
          "Javascript",
          "Sql"
         ]
        },
        {
         "hovertemplate": "<b>%{y}</b><br><br>Count: %{x:.d} <br>Percentage: %{text:.2%}<br><extra></extra>",
         "insidetextanchor": "end",
         "marker": {
          "color": "rgb(255, 231, 169)"
         },
         "name": "2012",
         "orientation": "h",
         "text": [
          0.0208,
          0.0245,
          0.0246,
          0.051,
          0.0638,
          0.0648,
          0.0791,
          0.0888,
          0.0969,
          0.1023,
          0.1174,
          0.1292,
          0.1368
         ],
         "textposition": "outside",
         "texttemplate": "%{text:.2%}",
         "type": "bar",
         "visible": false,
         "width": 0.9,
         "x": [
          544,
          639,
          643,
          1332,
          1667,
          1692,
          2068,
          2321,
          2532,
          2674,
          3069,
          3376,
          3574
         ],
         "y": [
          "Perl",
          "Ruby",
          "Objective-C",
          "Python",
          "C",
          "C++",
          "Php",
          "Html5",
          "Java",
          "C#",
          "Css",
          "Javascript",
          "Sql"
         ]
        },
        {
         "hovertemplate": "<b>%{y}</b><br><br>Count: %{x:.d} <br>Percentage: %{text:.2%}<br><extra></extra>",
         "insidetextanchor": "end",
         "marker": {
          "color": "rgb(255, 231, 169)"
         },
         "name": "2013",
         "orientation": "h",
         "text": [
          0.0327,
          0.0374,
          0.0597,
          0.0695,
          0.0765,
          0.0951,
          0.122,
          0.1241,
          0.1893,
          0.1936
         ],
         "textposition": "outside",
         "texttemplate": "%{text:.2%}",
         "type": "bar",
         "visible": false,
         "width": 0.9,
         "x": [
          873,
          998,
          1593,
          1855,
          2041,
          2538,
          3256,
          3310,
          5052,
          5166
         ],
         "y": [
          "Ruby",
          "Objective-C",
          "C",
          "C++",
          "Python",
          "Php",
          "C#",
          "Java",
          "Sql",
          "Javascript"
         ]
        },
        {
         "hovertemplate": "<b>%{y}</b><br><br>Count: %{x:.d} <br>Percentage: %{text:.2%}<br><extra></extra>",
         "insidetextanchor": "end",
         "marker": {
          "color": "rgb(255, 231, 169)"
         },
         "name": "2014",
         "orientation": "h",
         "text": [
          0.0305,
          0.0344,
          0.0622,
          0.0737,
          0.0776,
          0.0896,
          0.1232,
          0.1294,
          0.1817,
          0.1978
         ],
         "textposition": "outside",
         "texttemplate": "%{text:.2%}",
         "type": "bar",
         "visible": false,
         "width": 0.9,
         "x": [
          633,
          713,
          1290,
          1529,
          1611,
          1860,
          2556,
          2686,
          3772,
          4105
         ],
         "y": [
          "Ruby",
          "Objective-C",
          "C",
          "C++",
          "Python",
          "Php",
          "C#",
          "Java",
          "Sql",
          "Javascript"
         ]
        },
        {
         "hovertemplate": "<b>%{y}</b><br><br>Count: %{x:.d} <br>Percentage: %{text:.2%}<br><extra></extra>",
         "insidetextanchor": "end",
         "marker": {
          "color": "rgb(255, 231, 169)"
         },
         "name": "2015",
         "orientation": "h",
         "text": [
          0.0015,
          0.0015,
          0.0025,
          0.0025,
          0.0052,
          0.0068,
          0.0079,
          0.0108,
          0.0109,
          0.0109,
          0.0114,
          0.0126,
          0.0242,
          0.0245,
          0.0253,
          0.0269,
          0.0524,
          0.0652,
          0.0751,
          0.0942,
          0.0995,
          0.1179,
          0.1369,
          0.1733
         ],
         "textposition": "outside",
         "texttemplate": "%{text:.2%}",
         "type": "bar",
         "visible": false,
         "width": 0.9,
         "x": [
          107,
          111,
          181,
          181,
          371,
          486,
          566,
          772,
          784,
          785,
          818,
          904,
          1739,
          1762,
          1814,
          1929,
          3761,
          4685,
          5389,
          6766,
          7148,
          8469,
          9830,
          12447
         ],
         "y": [
          "Rust",
          "Dart",
          "Clojure",
          "F#",
          "Haskell",
          "Go",
          "Scala",
          "Swift",
          "R",
          "Perl",
          "Coffeescript",
          "Matlab",
          "Objective-C",
          "Visual Basic",
          "Ruby",
          "C++11",
          "C",
          "C++",
          "Python",
          "Php",
          "C#",
          "Java",
          "Sql",
          "Javascript"
         ]
        },
        {
         "hovertemplate": "<b>%{y}</b><br><br>Count: %{x:.d} <br>Percentage: %{text:.2%}<br><extra></extra>",
         "insidetextanchor": "end",
         "marker": {
          "color": "rgb(255, 231, 169)"
         },
         "name": "2016",
         "orientation": "h",
         "text": [
          0.0015,
          0.0029,
          0.0032,
          0.0037,
          0.0054,
          0.0103,
          0.0106,
          0.0106,
          0.0108,
          0.0108,
          0.011,
          0.0182,
          0.0212,
          0.022,
          0.0291,
          0.0509,
          0.0636,
          0.0815,
          0.0848,
          0.1014,
          0.119,
          0.1458,
          0.1817
         ],
         "textposition": "outside",
         "texttemplate": "%{text:.2%}",
         "type": "bar",
         "visible": false,
         "width": 0.9,
         "x": [
          222,
          436,
          484,
          556,
          813,
          1547,
          1602,
          1602,
          1624,
          1632,
          1662,
          2746,
          3202,
          3312,
          4383,
          7678,
          9589,
          12282,
          12780,
          15283,
          17942,
          21976,
          27385
         ],
         "y": [
          "Dart",
          "Rust",
          "F#",
          "Clojure",
          "Haskell",
          "Go",
          "Matlab",
          "Scala",
          "Perl",
          "R",
          "Coffeescript",
          "Swift",
          "Objective-C",
          "Visual Basic",
          "Ruby",
          "C",
          "C++",
          "Python",
          "Php",
          "C#",
          "Java",
          "Sql",
          "Javascript"
         ]
        },
        {
         "hovertemplate": "<b>%{y}</b><br><br>Count: %{x:.d} <br>Percentage: %{text:.2%}<br><extra></extra>",
         "insidetextanchor": "end",
         "marker": {
          "color": "rgb(255, 231, 169)"
         },
         "name": "2017",
         "orientation": "h",
         "text": [
          0.0008,
          0.001,
          0.001,
          0.002,
          0.002,
          0.0024,
          0.0027,
          0.0028,
          0.003,
          0.0033,
          0.0047,
          0.0075,
          0.0077,
          0.0086,
          0.0086,
          0.0094,
          0.0112,
          0.0113,
          0.0114,
          0.0114,
          0.0118,
          0.0131,
          0.0164,
          0.0169,
          0.0171,
          0.024,
          0.0252,
          0.0503,
          0.0588,
          0.0742,
          0.0844,
          0.09,
          0.1047,
          0.1352,
          0.165
         ],
         "textposition": "outside",
         "texttemplate": "%{text:.2%}",
         "type": "bar",
         "visible": false,
         "width": 0.9,
         "x": [
          107,
          138,
          145,
          273,
          281,
          327,
          380,
          391,
          416,
          457,
          649,
          1039,
          1071,
          1192,
          1193,
          1309,
          1557,
          1569,
          1574,
          1585,
          1634,
          1823,
          2273,
          2349,
          2368,
          3324,
          3488,
          6974,
          8155,
          10290,
          11704,
          12476,
          14524,
          18754,
          22875
         ],
         "y": [
          "Hack",
          "Julia",
          "Dart",
          "Common Lisp",
          "Erlang",
          "Smalltalk",
          "Elixir",
          "Clojure",
          "Rust",
          "F#",
          "Haskell",
          "Lua",
          "Visual Basic 6",
          "Coffeescript",
          "Groovy",
          "Scala",
          "Go",
          "Matlab",
          "Vba",
          "Perl",
          "R",
          "Assembly",
          "Vb.Net",
          "Objective-C",
          "Swift",
          "Ruby",
          "Typescript",
          "C",
          "C++",
          "Php",
          "Python",
          "C#",
          "Java",
          "Sql",
          "Javascript"
         ]
        },
        {
         "hovertemplate": "<b>%{y}</b><br><br>Count: %{x:.d} <br>Percentage: %{text:.2%}<br><extra></extra>",
         "insidetextanchor": "end",
         "marker": {
          "color": "rgb(255, 231, 169)"
         },
         "name": "2018",
         "orientation": "h",
         "text": [
          0.0005,
          0.0008,
          0.0009,
          0.0011,
          0.0017,
          0.002,
          0.0021,
          0.0036,
          0.0038,
          0.0039,
          0.0039,
          0.005,
          0.0053,
          0.0059,
          0.0063,
          0.0065,
          0.0066,
          0.0068,
          0.0073,
          0.0088,
          0.0093,
          0.0101,
          0.0106,
          0.0107,
          0.0111,
          0.0122,
          0.0152,
          0.0263,
          0.0348,
          0.0383,
          0.0464,
          0.0519,
          0.0585,
          0.0601,
          0.0601,
          0.0685,
          0.0861,
          0.0983,
          0.1034,
          0.1054
         ],
         "textposition": "outside",
         "texttemplate": "%{text:.2%}",
         "type": "bar",
         "visible": false,
         "width": 0.9,
         "x": [
          254,
          430,
          470,
          590,
          886,
          1032,
          1115,
          1857,
          1961,
          2025,
          2025,
          2603,
          2733,
          3087,
          3280,
          3373,
          3420,
          3508,
          3810,
          4564,
          4813,
          5254,
          5510,
          5532,
          5760,
          6310,
          7911,
          13626,
          18042,
          19872,
          24071,
          26954,
          30359,
          31172,
          31172,
          35521,
          44670,
          50979,
          53628,
          54686
         ],
         "y": [
          "Hack",
          "Julia",
          "Ocaml",
          "Cobol",
          "Erlang",
          "Clojure",
          "F#",
          "Rust",
          "Haskell",
          "Delphi",
          "Object Pascal",
          "Coffeescript",
          "Lua",
          "Visual Basic 6",
          "Perl",
          "Groovy",
          "Scala",
          "Kotlin",
          "Vba",
          "Matlab",
          "R",
          "Vb.Net",
          "Objective-C",
          "Go",
          "Assembly",
          "Swift",
          "Ruby",
          "Typescript",
          "C",
          "C++",
          "Php",
          "C#",
          "Python",
          "Bash",
          "Shell",
          "Java",
          "Sql",
          "Css",
          "Html",
          "Javascript"
         ]
        },
        {
         "hovertemplate": "<b>%{y}</b><br><br>Count: %{x:.d} <br>Percentage: %{text:.2%}<br><extra></extra>",
         "insidetextanchor": "end",
         "marker": {
          "color": "rgb(255, 231, 169)"
         },
         "name": "2019",
         "orientation": "h",
         "text": [
          0.0015,
          0.0019,
          0.002,
          0.0024,
          0.0024,
          0.0032,
          0.0054,
          0.0064,
          0.0081,
          0.0092,
          0.0097,
          0.0108,
          0.011,
          0.0112,
          0.0138,
          0.0141,
          0.0346,
          0.0356,
          0.0395,
          0.0443,
          0.0521,
          0.0615,
          0.0615,
          0.0691,
          0.0701,
          0.0914,
          0.1067,
          0.1067,
          0.1139
         ],
         "textposition": "outside",
         "texttemplate": "%{text:.2%}",
         "type": "bar",
         "visible": false,
         "width": 0.9,
         "x": [
          777,
          973,
          1015,
          1254,
          1260,
          1683,
          2794,
          3309,
          4191,
          4781,
          5048,
          5620,
          5744,
          5833,
          7201,
          7331,
          18017,
          18523,
          20524,
          23030,
          27097,
          31991,
          31991,
          35917,
          36443,
          47544,
          55466,
          55466,
          59219
         ],
         "y": [
          "Erlang",
          "F#",
          "Webassembly",
          "Clojure",
          "Elixir",
          "Dart",
          "Rust",
          "Scala",
          "Objective-C",
          "Vba",
          "R",
          "Kotlin",
          "Swift",
          "Assembly",
          "Go",
          "Ruby",
          "C",
          "Typescript",
          "C++",
          "Php",
          "C#",
          "Bash",
          "Shell",
          "Java",
          "Python",
          "Sql",
          "Css",
          "Html",
          "Javascript"
         ]
        },
        {
         "hovertemplate": "<b>%{y}</b><br><br>Count: %{x:.d} <br>Percentage: %{text:.2%}<br><extra></extra>",
         "insidetextanchor": "end",
         "marker": {
          "color": "rgb(255, 231, 169)"
         },
         "name": "2020",
         "orientation": "h",
         "text": [
          0.0015,
          0.0036,
          0.0052,
          0.006,
          0.0066,
          0.0068,
          0.0085,
          0.0096,
          0.0099,
          0.0102,
          0.0104,
          0.0118,
          0.013,
          0.0147,
          0.0364,
          0.0399,
          0.0425,
          0.0437,
          0.0526,
          0.0553,
          0.0553,
          0.0672,
          0.0737,
          0.0915,
          0.1054,
          0.1054,
          0.1131
         ],
         "textposition": "outside",
         "texttemplate": "%{text:.2%}",
         "type": "bar",
         "visible": false,
         "width": 0.9,
         "x": [
          519,
          1222,
          1796,
          2052,
          2280,
          2340,
          2929,
          3288,
          3397,
          3499,
          3553,
          4046,
          4468,
          5038,
          12487,
          13707,
          14578,
          15007,
          18041,
          18980,
          18980,
          23074,
          25287,
          31413,
          36181,
          36181,
          38822
         ],
         "y": [
          "Julia",
          "Haskell",
          "Perl",
          "Scala",
          "Dart",
          "Objective-C",
          "Rust",
          "R",
          "Swift",
          "Vba",
          "Assembly",
          "Ruby",
          "Kotlin",
          "Go",
          "C",
          "C++",
          "Typescript",
          "Php",
          "C#",
          "Bash",
          "Shell",
          "Java",
          "Python",
          "Sql",
          "Css",
          "Html",
          "Javascript"
         ]
        }
       ],
       "layout": {
        "autosize": true,
        "plot_bgcolor": "rgba(0, 0, 0, 0)",
        "sliders": [
         {
          "active": 0,
          "currentvalue": {
           "prefix": "Year: "
          },
          "pad": {
           "b": 10
          },
          "steps": [
           {
            "args": [
             {
              "visible": [
               true,
               false,
               false,
               false,
               false,
               false,
               false,
               false,
               false,
               false
              ]
             },
             {
              "title.text": "Programming Languages Distribution - 2011"
             },
             {
              "frame": {
               "duration": 300,
               "redraw": false
              },
              "mode": "immediate",
              "transition": {
               "duration": 300
              }
             }
            ],
            "label": "2011",
            "method": "update"
           },
           {
            "args": [
             {
              "visible": [
               false,
               true,
               false,
               false,
               false,
               false,
               false,
               false,
               false,
               false
              ]
             },
             {
              "title.text": "Programming Languages Distribution - 2012"
             },
             {
              "frame": {
               "duration": 300,
               "redraw": false
              },
              "mode": "immediate",
              "transition": {
               "duration": 300
              }
             }
            ],
            "label": "2012",
            "method": "update"
           },
           {
            "args": [
             {
              "visible": [
               false,
               false,
               true,
               false,
               false,
               false,
               false,
               false,
               false,
               false
              ]
             },
             {
              "title.text": "Programming Languages Distribution - 2013"
             },
             {
              "frame": {
               "duration": 300,
               "redraw": false
              },
              "mode": "immediate",
              "transition": {
               "duration": 300
              }
             }
            ],
            "label": "2013",
            "method": "update"
           },
           {
            "args": [
             {
              "visible": [
               false,
               false,
               false,
               true,
               false,
               false,
               false,
               false,
               false,
               false
              ]
             },
             {
              "title.text": "Programming Languages Distribution - 2014"
             },
             {
              "frame": {
               "duration": 300,
               "redraw": false
              },
              "mode": "immediate",
              "transition": {
               "duration": 300
              }
             }
            ],
            "label": "2014",
            "method": "update"
           },
           {
            "args": [
             {
              "visible": [
               false,
               false,
               false,
               false,
               true,
               false,
               false,
               false,
               false,
               false
              ]
             },
             {
              "title.text": "Programming Languages Distribution - 2015"
             },
             {
              "frame": {
               "duration": 300,
               "redraw": false
              },
              "mode": "immediate",
              "transition": {
               "duration": 300
              }
             }
            ],
            "label": "2015",
            "method": "update"
           },
           {
            "args": [
             {
              "visible": [
               false,
               false,
               false,
               false,
               false,
               true,
               false,
               false,
               false,
               false
              ]
             },
             {
              "title.text": "Programming Languages Distribution - 2016"
             },
             {
              "frame": {
               "duration": 300,
               "redraw": false
              },
              "mode": "immediate",
              "transition": {
               "duration": 300
              }
             }
            ],
            "label": "2016",
            "method": "update"
           },
           {
            "args": [
             {
              "visible": [
               false,
               false,
               false,
               false,
               false,
               false,
               true,
               false,
               false,
               false
              ]
             },
             {
              "title.text": "Programming Languages Distribution - 2017"
             },
             {
              "frame": {
               "duration": 300,
               "redraw": false
              },
              "mode": "immediate",
              "transition": {
               "duration": 300
              }
             }
            ],
            "label": "2017",
            "method": "update"
           },
           {
            "args": [
             {
              "visible": [
               false,
               false,
               false,
               false,
               false,
               false,
               false,
               true,
               false,
               false
              ]
             },
             {
              "title.text": "Programming Languages Distribution - 2018"
             },
             {
              "frame": {
               "duration": 300,
               "redraw": false
              },
              "mode": "immediate",
              "transition": {
               "duration": 300
              }
             }
            ],
            "label": "2018",
            "method": "update"
           },
           {
            "args": [
             {
              "visible": [
               false,
               false,
               false,
               false,
               false,
               false,
               false,
               false,
               true,
               false
              ]
             },
             {
              "title.text": "Programming Languages Distribution - 2019"
             },
             {
              "frame": {
               "duration": 300,
               "redraw": false
              },
              "mode": "immediate",
              "transition": {
               "duration": 300
              }
             }
            ],
            "label": "2019",
            "method": "update"
           },
           {
            "args": [
             {
              "visible": [
               false,
               false,
               false,
               false,
               false,
               false,
               false,
               false,
               false,
               true
              ]
             },
             {
              "title.text": "Programming Languages Distribution - 2020"
             },
             {
              "frame": {
               "duration": 300,
               "redraw": false
              },
              "mode": "immediate",
              "transition": {
               "duration": 300
              }
             }
            ],
            "label": "2020",
            "method": "update"
           }
          ],
          "transition": {
           "duration": 300,
           "easing": "cubic-in-out"
          }
         }
        ],
        "template": {
         "data": {
          "bar": [
           {
            "error_x": {
             "color": "#2a3f5f"
            },
            "error_y": {
             "color": "#2a3f5f"
            },
            "marker": {
             "line": {
              "color": "#E5ECF6",
              "width": 0.5
             }
            },
            "type": "bar"
           }
          ],
          "barpolar": [
           {
            "marker": {
             "line": {
              "color": "#E5ECF6",
              "width": 0.5
             }
            },
            "type": "barpolar"
           }
          ],
          "carpet": [
           {
            "aaxis": {
             "endlinecolor": "#2a3f5f",
             "gridcolor": "white",
             "linecolor": "white",
             "minorgridcolor": "white",
             "startlinecolor": "#2a3f5f"
            },
            "baxis": {
             "endlinecolor": "#2a3f5f",
             "gridcolor": "white",
             "linecolor": "white",
             "minorgridcolor": "white",
             "startlinecolor": "#2a3f5f"
            },
            "type": "carpet"
           }
          ],
          "choropleth": [
           {
            "colorbar": {
             "outlinewidth": 0,
             "ticks": ""
            },
            "type": "choropleth"
           }
          ],
          "contour": [
           {
            "colorbar": {
             "outlinewidth": 0,
             "ticks": ""
            },
            "colorscale": [
             [
              0,
              "#0d0887"
             ],
             [
              0.1111111111111111,
              "#46039f"
             ],
             [
              0.2222222222222222,
              "#7201a8"
             ],
             [
              0.3333333333333333,
              "#9c179e"
             ],
             [
              0.4444444444444444,
              "#bd3786"
             ],
             [
              0.5555555555555556,
              "#d8576b"
             ],
             [
              0.6666666666666666,
              "#ed7953"
             ],
             [
              0.7777777777777778,
              "#fb9f3a"
             ],
             [
              0.8888888888888888,
              "#fdca26"
             ],
             [
              1,
              "#f0f921"
             ]
            ],
            "type": "contour"
           }
          ],
          "contourcarpet": [
           {
            "colorbar": {
             "outlinewidth": 0,
             "ticks": ""
            },
            "type": "contourcarpet"
           }
          ],
          "heatmap": [
           {
            "colorbar": {
             "outlinewidth": 0,
             "ticks": ""
            },
            "colorscale": [
             [
              0,
              "#0d0887"
             ],
             [
              0.1111111111111111,
              "#46039f"
             ],
             [
              0.2222222222222222,
              "#7201a8"
             ],
             [
              0.3333333333333333,
              "#9c179e"
             ],
             [
              0.4444444444444444,
              "#bd3786"
             ],
             [
              0.5555555555555556,
              "#d8576b"
             ],
             [
              0.6666666666666666,
              "#ed7953"
             ],
             [
              0.7777777777777778,
              "#fb9f3a"
             ],
             [
              0.8888888888888888,
              "#fdca26"
             ],
             [
              1,
              "#f0f921"
             ]
            ],
            "type": "heatmap"
           }
          ],
          "heatmapgl": [
           {
            "colorbar": {
             "outlinewidth": 0,
             "ticks": ""
            },
            "colorscale": [
             [
              0,
              "#0d0887"
             ],
             [
              0.1111111111111111,
              "#46039f"
             ],
             [
              0.2222222222222222,
              "#7201a8"
             ],
             [
              0.3333333333333333,
              "#9c179e"
             ],
             [
              0.4444444444444444,
              "#bd3786"
             ],
             [
              0.5555555555555556,
              "#d8576b"
             ],
             [
              0.6666666666666666,
              "#ed7953"
             ],
             [
              0.7777777777777778,
              "#fb9f3a"
             ],
             [
              0.8888888888888888,
              "#fdca26"
             ],
             [
              1,
              "#f0f921"
             ]
            ],
            "type": "heatmapgl"
           }
          ],
          "histogram": [
           {
            "marker": {
             "colorbar": {
              "outlinewidth": 0,
              "ticks": ""
             }
            },
            "type": "histogram"
           }
          ],
          "histogram2d": [
           {
            "colorbar": {
             "outlinewidth": 0,
             "ticks": ""
            },
            "colorscale": [
             [
              0,
              "#0d0887"
             ],
             [
              0.1111111111111111,
              "#46039f"
             ],
             [
              0.2222222222222222,
              "#7201a8"
             ],
             [
              0.3333333333333333,
              "#9c179e"
             ],
             [
              0.4444444444444444,
              "#bd3786"
             ],
             [
              0.5555555555555556,
              "#d8576b"
             ],
             [
              0.6666666666666666,
              "#ed7953"
             ],
             [
              0.7777777777777778,
              "#fb9f3a"
             ],
             [
              0.8888888888888888,
              "#fdca26"
             ],
             [
              1,
              "#f0f921"
             ]
            ],
            "type": "histogram2d"
           }
          ],
          "histogram2dcontour": [
           {
            "colorbar": {
             "outlinewidth": 0,
             "ticks": ""
            },
            "colorscale": [
             [
              0,
              "#0d0887"
             ],
             [
              0.1111111111111111,
              "#46039f"
             ],
             [
              0.2222222222222222,
              "#7201a8"
             ],
             [
              0.3333333333333333,
              "#9c179e"
             ],
             [
              0.4444444444444444,
              "#bd3786"
             ],
             [
              0.5555555555555556,
              "#d8576b"
             ],
             [
              0.6666666666666666,
              "#ed7953"
             ],
             [
              0.7777777777777778,
              "#fb9f3a"
             ],
             [
              0.8888888888888888,
              "#fdca26"
             ],
             [
              1,
              "#f0f921"
             ]
            ],
            "type": "histogram2dcontour"
           }
          ],
          "mesh3d": [
           {
            "colorbar": {
             "outlinewidth": 0,
             "ticks": ""
            },
            "type": "mesh3d"
           }
          ],
          "parcoords": [
           {
            "line": {
             "colorbar": {
              "outlinewidth": 0,
              "ticks": ""
             }
            },
            "type": "parcoords"
           }
          ],
          "pie": [
           {
            "automargin": true,
            "type": "pie"
           }
          ],
          "scatter": [
           {
            "marker": {
             "colorbar": {
              "outlinewidth": 0,
              "ticks": ""
             }
            },
            "type": "scatter"
           }
          ],
          "scatter3d": [
           {
            "line": {
             "colorbar": {
              "outlinewidth": 0,
              "ticks": ""
             }
            },
            "marker": {
             "colorbar": {
              "outlinewidth": 0,
              "ticks": ""
             }
            },
            "type": "scatter3d"
           }
          ],
          "scattercarpet": [
           {
            "marker": {
             "colorbar": {
              "outlinewidth": 0,
              "ticks": ""
             }
            },
            "type": "scattercarpet"
           }
          ],
          "scattergeo": [
           {
            "marker": {
             "colorbar": {
              "outlinewidth": 0,
              "ticks": ""
             }
            },
            "type": "scattergeo"
           }
          ],
          "scattergl": [
           {
            "marker": {
             "colorbar": {
              "outlinewidth": 0,
              "ticks": ""
             }
            },
            "type": "scattergl"
           }
          ],
          "scattermapbox": [
           {
            "marker": {
             "colorbar": {
              "outlinewidth": 0,
              "ticks": ""
             }
            },
            "type": "scattermapbox"
           }
          ],
          "scatterpolar": [
           {
            "marker": {
             "colorbar": {
              "outlinewidth": 0,
              "ticks": ""
             }
            },
            "type": "scatterpolar"
           }
          ],
          "scatterpolargl": [
           {
            "marker": {
             "colorbar": {
              "outlinewidth": 0,
              "ticks": ""
             }
            },
            "type": "scatterpolargl"
           }
          ],
          "scatterternary": [
           {
            "marker": {
             "colorbar": {
              "outlinewidth": 0,
              "ticks": ""
             }
            },
            "type": "scatterternary"
           }
          ],
          "surface": [
           {
            "colorbar": {
             "outlinewidth": 0,
             "ticks": ""
            },
            "colorscale": [
             [
              0,
              "#0d0887"
             ],
             [
              0.1111111111111111,
              "#46039f"
             ],
             [
              0.2222222222222222,
              "#7201a8"
             ],
             [
              0.3333333333333333,
              "#9c179e"
             ],
             [
              0.4444444444444444,
              "#bd3786"
             ],
             [
              0.5555555555555556,
              "#d8576b"
             ],
             [
              0.6666666666666666,
              "#ed7953"
             ],
             [
              0.7777777777777778,
              "#fb9f3a"
             ],
             [
              0.8888888888888888,
              "#fdca26"
             ],
             [
              1,
              "#f0f921"
             ]
            ],
            "type": "surface"
           }
          ],
          "table": [
           {
            "cells": {
             "fill": {
              "color": "#EBF0F8"
             },
             "line": {
              "color": "white"
             }
            },
            "header": {
             "fill": {
              "color": "#C8D4E3"
             },
             "line": {
              "color": "white"
             }
            },
            "type": "table"
           }
          ]
         },
         "layout": {
          "annotationdefaults": {
           "arrowcolor": "#2a3f5f",
           "arrowhead": 0,
           "arrowwidth": 1
          },
          "coloraxis": {
           "colorbar": {
            "outlinewidth": 0,
            "ticks": ""
           }
          },
          "colorscale": {
           "diverging": [
            [
             0,
             "#8e0152"
            ],
            [
             0.1,
             "#c51b7d"
            ],
            [
             0.2,
             "#de77ae"
            ],
            [
             0.3,
             "#f1b6da"
            ],
            [
             0.4,
             "#fde0ef"
            ],
            [
             0.5,
             "#f7f7f7"
            ],
            [
             0.6,
             "#e6f5d0"
            ],
            [
             0.7,
             "#b8e186"
            ],
            [
             0.8,
             "#7fbc41"
            ],
            [
             0.9,
             "#4d9221"
            ],
            [
             1,
             "#276419"
            ]
           ],
           "sequential": [
            [
             0,
             "#0d0887"
            ],
            [
             0.1111111111111111,
             "#46039f"
            ],
            [
             0.2222222222222222,
             "#7201a8"
            ],
            [
             0.3333333333333333,
             "#9c179e"
            ],
            [
             0.4444444444444444,
             "#bd3786"
            ],
            [
             0.5555555555555556,
             "#d8576b"
            ],
            [
             0.6666666666666666,
             "#ed7953"
            ],
            [
             0.7777777777777778,
             "#fb9f3a"
            ],
            [
             0.8888888888888888,
             "#fdca26"
            ],
            [
             1,
             "#f0f921"
            ]
           ],
           "sequentialminus": [
            [
             0,
             "#0d0887"
            ],
            [
             0.1111111111111111,
             "#46039f"
            ],
            [
             0.2222222222222222,
             "#7201a8"
            ],
            [
             0.3333333333333333,
             "#9c179e"
            ],
            [
             0.4444444444444444,
             "#bd3786"
            ],
            [
             0.5555555555555556,
             "#d8576b"
            ],
            [
             0.6666666666666666,
             "#ed7953"
            ],
            [
             0.7777777777777778,
             "#fb9f3a"
            ],
            [
             0.8888888888888888,
             "#fdca26"
            ],
            [
             1,
             "#f0f921"
            ]
           ]
          },
          "colorway": [
           "#636efa",
           "#EF553B",
           "#00cc96",
           "#ab63fa",
           "#FFA15A",
           "#19d3f3",
           "#FF6692",
           "#B6E880",
           "#FF97FF",
           "#FECB52"
          ],
          "font": {
           "color": "#2a3f5f"
          },
          "geo": {
           "bgcolor": "white",
           "lakecolor": "white",
           "landcolor": "#E5ECF6",
           "showlakes": true,
           "showland": true,
           "subunitcolor": "white"
          },
          "hoverlabel": {
           "align": "left"
          },
          "hovermode": "closest",
          "mapbox": {
           "style": "light"
          },
          "paper_bgcolor": "white",
          "plot_bgcolor": "#E5ECF6",
          "polar": {
           "angularaxis": {
            "gridcolor": "white",
            "linecolor": "white",
            "ticks": ""
           },
           "bgcolor": "#E5ECF6",
           "radialaxis": {
            "gridcolor": "white",
            "linecolor": "white",
            "ticks": ""
           }
          },
          "scene": {
           "xaxis": {
            "backgroundcolor": "#E5ECF6",
            "gridcolor": "white",
            "gridwidth": 2,
            "linecolor": "white",
            "showbackground": true,
            "ticks": "",
            "zerolinecolor": "white"
           },
           "yaxis": {
            "backgroundcolor": "#E5ECF6",
            "gridcolor": "white",
            "gridwidth": 2,
            "linecolor": "white",
            "showbackground": true,
            "ticks": "",
            "zerolinecolor": "white"
           },
           "zaxis": {
            "backgroundcolor": "#E5ECF6",
            "gridcolor": "white",
            "gridwidth": 2,
            "linecolor": "white",
            "showbackground": true,
            "ticks": "",
            "zerolinecolor": "white"
           }
          },
          "shapedefaults": {
           "line": {
            "color": "#2a3f5f"
           }
          },
          "ternary": {
           "aaxis": {
            "gridcolor": "white",
            "linecolor": "white",
            "ticks": ""
           },
           "baxis": {
            "gridcolor": "white",
            "linecolor": "white",
            "ticks": ""
           },
           "bgcolor": "#E5ECF6",
           "caxis": {
            "gridcolor": "white",
            "linecolor": "white",
            "ticks": ""
           }
          },
          "title": {
           "x": 0.05
          },
          "xaxis": {
           "automargin": true,
           "gridcolor": "white",
           "linecolor": "white",
           "ticks": "",
           "title": {
            "standoff": 15
           },
           "zerolinecolor": "white",
           "zerolinewidth": 2
          },
          "yaxis": {
           "automargin": true,
           "gridcolor": "white",
           "linecolor": "white",
           "ticks": "",
           "title": {
            "standoff": 15
           },
           "zerolinecolor": "white",
           "zerolinewidth": 2
          }
         }
        },
        "title": {
         "text": "Programming Languages Distribution - 2011",
         "x": 0.5,
         "xanchor": "center",
         "yanchor": "top"
        },
        "xaxis": {
         "autorange": true,
         "range": [
          0,
          1851.578947368421
         ],
         "tickformat": "digit",
         "type": "linear",
         "visible": false
        },
        "yaxis": {
         "autorange": true,
         "range": [
          -0.5,
          10.5
         ],
         "tickcolor": "white",
         "ticklen": 8,
         "ticks": "outside",
         "type": "category"
        }
       }
      },
      "image/png": "[encoded data removed]",
      "text/html": [
       "<div>\n",
       "        \n",
       "        \n",
       "            <div id=\"e7ea8596-5a7b-4455-bf89-473a4472133b\" class=\"plotly-graph-div\" style=\"height:525px; width:100%;\"></div>\n",
       "            <script type=\"text/javascript\">\n",
       "                require([\"plotly\"], function(Plotly) {\n",
       "                    window.PLOTLYENV=window.PLOTLYENV || {};\n",
       "                    \n",
       "                if (document.getElementById(\"e7ea8596-5a7b-4455-bf89-473a4472133b\")) {\n",
       "                    Plotly.newPlot(\n",
       "                        'e7ea8596-5a7b-4455-bf89-473a4472133b',\n",
       "                        [{\"hovertemplate\": \"<b>%{y}</b><br><br>Count: %{x:.d} <br>Percentage: %{text:.2%}<br><extra></extra>\", \"insidetextanchor\": \"end\", \"marker\": {\"color\": \"rgb(255, 231, 169)\"}, \"name\": \"2011\", \"orientation\": \"h\", \"text\": [0.0293, 0.0307, 0.0571, 0.0743, 0.0759, 0.0772, 0.0847, 0.1338, 0.1358, 0.1404, 0.1608], \"textposition\": \"outside\", \"texttemplate\": \"%{text:.2%}\", \"type\": \"bar\", \"visible\": true, \"width\": 0.9, \"x\": [320, 336, 625, 813, 830, 844, 926, 1464, 1486, 1536, 1759], \"y\": [\"Perl\", \"Ruby\", \"Python\", \"C++\", \"C\", \"Php\", \"Java\", \"C#\", \"Css\", \"Javascript\", \"Sql\"]}, {\"hovertemplate\": \"<b>%{y}</b><br><br>Count: %{x:.d} <br>Percentage: %{text:.2%}<br><extra></extra>\", \"insidetextanchor\": \"end\", \"marker\": {\"color\": \"rgb(255, 231, 169)\"}, \"name\": \"2012\", \"orientation\": \"h\", \"text\": [0.0208, 0.0245, 0.0246, 0.051, 0.0638, 0.0648, 0.0791, 0.0888, 0.0969, 0.1023, 0.1174, 0.1292, 0.1368], \"textposition\": \"outside\", \"texttemplate\": \"%{text:.2%}\", \"type\": \"bar\", \"visible\": false, \"width\": 0.9, \"x\": [544, 639, 643, 1332, 1667, 1692, 2068, 2321, 2532, 2674, 3069, 3376, 3574], \"y\": [\"Perl\", \"Ruby\", \"Objective-C\", \"Python\", \"C\", \"C++\", \"Php\", \"Html5\", \"Java\", \"C#\", \"Css\", \"Javascript\", \"Sql\"]}, {\"hovertemplate\": \"<b>%{y}</b><br><br>Count: %{x:.d} <br>Percentage: %{text:.2%}<br><extra></extra>\", \"insidetextanchor\": \"end\", \"marker\": {\"color\": \"rgb(255, 231, 169)\"}, \"name\": \"2013\", \"orientation\": \"h\", \"text\": [0.0327, 0.0374, 0.0597, 0.0695, 0.0765, 0.0951, 0.122, 0.1241, 0.1893, 0.1936], \"textposition\": \"outside\", \"texttemplate\": \"%{text:.2%}\", \"type\": \"bar\", \"visible\": false, \"width\": 0.9, \"x\": [873, 998, 1593, 1855, 2041, 2538, 3256, 3310, 5052, 5166], \"y\": [\"Ruby\", \"Objective-C\", \"C\", \"C++\", \"Python\", \"Php\", \"C#\", \"Java\", \"Sql\", \"Javascript\"]}, {\"hovertemplate\": \"<b>%{y}</b><br><br>Count: %{x:.d} <br>Percentage: %{text:.2%}<br><extra></extra>\", \"insidetextanchor\": \"end\", \"marker\": {\"color\": \"rgb(255, 231, 169)\"}, \"name\": \"2014\", \"orientation\": \"h\", \"text\": [0.0305, 0.0344, 0.0622, 0.0737, 0.0776, 0.0896, 0.1232, 0.1294, 0.1817, 0.1978], \"textposition\": \"outside\", \"texttemplate\": \"%{text:.2%}\", \"type\": \"bar\", \"visible\": false, \"width\": 0.9, \"x\": [633, 713, 1290, 1529, 1611, 1860, 2556, 2686, 3772, 4105], \"y\": [\"Ruby\", \"Objective-C\", \"C\", \"C++\", \"Python\", \"Php\", \"C#\", \"Java\", \"Sql\", \"Javascript\"]}, {\"hovertemplate\": \"<b>%{y}</b><br><br>Count: %{x:.d} <br>Percentage: %{text:.2%}<br><extra></extra>\", \"insidetextanchor\": \"end\", \"marker\": {\"color\": \"rgb(255, 231, 169)\"}, \"name\": \"2015\", \"orientation\": \"h\", \"text\": [0.0015, 0.0015, 0.0025, 0.0025, 0.0052, 0.0068, 0.0079, 0.0108, 0.0109, 0.0109, 0.0114, 0.0126, 0.0242, 0.0245, 0.0253, 0.0269, 0.0524, 0.0652, 0.0751, 0.0942, 0.0995, 0.1179, 0.1369, 0.1733], \"textposition\": \"outside\", \"texttemplate\": \"%{text:.2%}\", \"type\": \"bar\", \"visible\": false, \"width\": 0.9, \"x\": [107, 111, 181, 181, 371, 486, 566, 772, 784, 785, 818, 904, 1739, 1762, 1814, 1929, 3761, 4685, 5389, 6766, 7148, 8469, 9830, 12447], \"y\": [\"Rust\", \"Dart\", \"Clojure\", \"F#\", \"Haskell\", \"Go\", \"Scala\", \"Swift\", \"R\", \"Perl\", \"Coffeescript\", \"Matlab\", \"Objective-C\", \"Visual Basic\", \"Ruby\", \"C++11\", \"C\", \"C++\", \"Python\", \"Php\", \"C#\", \"Java\", \"Sql\", \"Javascript\"]}, {\"hovertemplate\": \"<b>%{y}</b><br><br>Count: %{x:.d} <br>Percentage: %{text:.2%}<br><extra></extra>\", \"insidetextanchor\": \"end\", \"marker\": {\"color\": \"rgb(255, 231, 169)\"}, \"name\": \"2016\", \"orientation\": \"h\", \"text\": [0.0015, 0.0029, 0.0032, 0.0037, 0.0054, 0.0103, 0.0106, 0.0106, 0.0108, 0.0108, 0.011, 0.0182, 0.0212, 0.022, 0.0291, 0.0509, 0.0636, 0.0815, 0.0848, 0.1014, 0.119, 0.1458, 0.1817], \"textposition\": \"outside\", \"texttemplate\": \"%{text:.2%}\", \"type\": \"bar\", \"visible\": false, \"width\": 0.9, \"x\": [222, 436, 484, 556, 813, 1547, 1602, 1602, 1624, 1632, 1662, 2746, 3202, 3312, 4383, 7678, 9589, 12282, 12780, 15283, 17942, 21976, 27385], \"y\": [\"Dart\", \"Rust\", \"F#\", \"Clojure\", \"Haskell\", \"Go\", \"Matlab\", \"Scala\", \"Perl\", \"R\", \"Coffeescript\", \"Swift\", \"Objective-C\", \"Visual Basic\", \"Ruby\", \"C\", \"C++\", \"Python\", \"Php\", \"C#\", \"Java\", \"Sql\", \"Javascript\"]}, {\"hovertemplate\": \"<b>%{y}</b><br><br>Count: %{x:.d} <br>Percentage: %{text:.2%}<br><extra></extra>\", \"insidetextanchor\": \"end\", \"marker\": {\"color\": \"rgb(255, 231, 169)\"}, \"name\": \"2017\", \"orientation\": \"h\", \"text\": [0.0008, 0.001, 0.001, 0.002, 0.002, 0.0024, 0.0027, 0.0028, 0.003, 0.0033, 0.0047, 0.0075, 0.0077, 0.0086, 0.0086, 0.0094, 0.0112, 0.0113, 0.0114, 0.0114, 0.0118, 0.0131, 0.0164, 0.0169, 0.0171, 0.024, 0.0252, 0.0503, 0.0588, 0.0742, 0.0844, 0.09, 0.1047, 0.1352, 0.165], \"textposition\": \"outside\", \"texttemplate\": \"%{text:.2%}\", \"type\": \"bar\", \"visible\": false, \"width\": 0.9, \"x\": [107, 138, 145, 273, 281, 327, 380, 391, 416, 457, 649, 1039, 1071, 1192, 1193, 1309, 1557, 1569, 1574, 1585, 1634, 1823, 2273, 2349, 2368, 3324, 3488, 6974, 8155, 10290, 11704, 12476, 14524, 18754, 22875], \"y\": [\"Hack\", \"Julia\", \"Dart\", \"Common Lisp\", \"Erlang\", \"Smalltalk\", \"Elixir\", \"Clojure\", \"Rust\", \"F#\", \"Haskell\", \"Lua\", \"Visual Basic 6\", \"Coffeescript\", \"Groovy\", \"Scala\", \"Go\", \"Matlab\", \"Vba\", \"Perl\", \"R\", \"Assembly\", \"Vb.Net\", \"Objective-C\", \"Swift\", \"Ruby\", \"Typescript\", \"C\", \"C++\", \"Php\", \"Python\", \"C#\", \"Java\", \"Sql\", \"Javascript\"]}, {\"hovertemplate\": \"<b>%{y}</b><br><br>Count: %{x:.d} <br>Percentage: %{text:.2%}<br><extra></extra>\", \"insidetextanchor\": \"end\", \"marker\": {\"color\": \"rgb(255, 231, 169)\"}, \"name\": \"2018\", \"orientation\": \"h\", \"text\": [0.0005, 0.0008, 0.0009, 0.0011, 0.0017, 0.002, 0.0021, 0.0036, 0.0038, 0.0039, 0.0039, 0.005, 0.0053, 0.0059, 0.0063, 0.0065, 0.0066, 0.0068, 0.0073, 0.0088, 0.0093, 0.0101, 0.0106, 0.0107, 0.0111, 0.0122, 0.0152, 0.0263, 0.0348, 0.0383, 0.0464, 0.0519, 0.0585, 0.0601, 0.0601, 0.0685, 0.0861, 0.0983, 0.1034, 0.1054], \"textposition\": \"outside\", \"texttemplate\": \"%{text:.2%}\", \"type\": \"bar\", \"visible\": false, \"width\": 0.9, \"x\": [254, 430, 470, 590, 886, 1032, 1115, 1857, 1961, 2025, 2025, 2603, 2733, 3087, 3280, 3373, 3420, 3508, 3810, 4564, 4813, 5254, 5510, 5532, 5760, 6310, 7911, 13626, 18042, 19872, 24071, 26954, 30359, 31172, 31172, 35521, 44670, 50979, 53628, 54686], \"y\": [\"Hack\", \"Julia\", \"Ocaml\", \"Cobol\", \"Erlang\", \"Clojure\", \"F#\", \"Rust\", \"Haskell\", \"Delphi\", \"Object Pascal\", \"Coffeescript\", \"Lua\", \"Visual Basic 6\", \"Perl\", \"Groovy\", \"Scala\", \"Kotlin\", \"Vba\", \"Matlab\", \"R\", \"Vb.Net\", \"Objective-C\", \"Go\", \"Assembly\", \"Swift\", \"Ruby\", \"Typescript\", \"C\", \"C++\", \"Php\", \"C#\", \"Python\", \"Bash\", \"Shell\", \"Java\", \"Sql\", \"Css\", \"Html\", \"Javascript\"]}, {\"hovertemplate\": \"<b>%{y}</b><br><br>Count: %{x:.d} <br>Percentage: %{text:.2%}<br><extra></extra>\", \"insidetextanchor\": \"end\", \"marker\": {\"color\": \"rgb(255, 231, 169)\"}, \"name\": \"2019\", \"orientation\": \"h\", \"text\": [0.0015, 0.0019, 0.002, 0.0024, 0.0024, 0.0032, 0.0054, 0.0064, 0.0081, 0.0092, 0.0097, 0.0108, 0.011, 0.0112, 0.0138, 0.0141, 0.0346, 0.0356, 0.0395, 0.0443, 0.0521, 0.0615, 0.0615, 0.0691, 0.0701, 0.0914, 0.1067, 0.1067, 0.1139], \"textposition\": \"outside\", \"texttemplate\": \"%{text:.2%}\", \"type\": \"bar\", \"visible\": false, \"width\": 0.9, \"x\": [777, 973, 1015, 1254, 1260, 1683, 2794, 3309, 4191, 4781, 5048, 5620, 5744, 5833, 7201, 7331, 18017, 18523, 20524, 23030, 27097, 31991, 31991, 35917, 36443, 47544, 55466, 55466, 59219], \"y\": [\"Erlang\", \"F#\", \"Webassembly\", \"Clojure\", \"Elixir\", \"Dart\", \"Rust\", \"Scala\", \"Objective-C\", \"Vba\", \"R\", \"Kotlin\", \"Swift\", \"Assembly\", \"Go\", \"Ruby\", \"C\", \"Typescript\", \"C++\", \"Php\", \"C#\", \"Bash\", \"Shell\", \"Java\", \"Python\", \"Sql\", \"Css\", \"Html\", \"Javascript\"]}, {\"hovertemplate\": \"<b>%{y}</b><br><br>Count: %{x:.d} <br>Percentage: %{text:.2%}<br><extra></extra>\", \"insidetextanchor\": \"end\", \"marker\": {\"color\": \"rgb(255, 231, 169)\"}, \"name\": \"2020\", \"orientation\": \"h\", \"text\": [0.0015, 0.0036, 0.0052, 0.006, 0.0066, 0.0068, 0.0085, 0.0096, 0.0099, 0.0102, 0.0104, 0.0118, 0.013, 0.0147, 0.0364, 0.0399, 0.0425, 0.0437, 0.0526, 0.0553, 0.0553, 0.0672, 0.0737, 0.0915, 0.1054, 0.1054, 0.1131], \"textposition\": \"outside\", \"texttemplate\": \"%{text:.2%}\", \"type\": \"bar\", \"visible\": false, \"width\": 0.9, \"x\": [519, 1222, 1796, 2052, 2280, 2340, 2929, 3288, 3397, 3499, 3553, 4046, 4468, 5038, 12487, 13707, 14578, 15007, 18041, 18980, 18980, 23074, 25287, 31413, 36181, 36181, 38822], \"y\": [\"Julia\", \"Haskell\", \"Perl\", \"Scala\", \"Dart\", \"Objective-C\", \"Rust\", \"R\", \"Swift\", \"Vba\", \"Assembly\", \"Ruby\", \"Kotlin\", \"Go\", \"C\", \"C++\", \"Typescript\", \"Php\", \"C#\", \"Bash\", \"Shell\", \"Java\", \"Python\", \"Sql\", \"Css\", \"Html\", \"Javascript\"]}],\n",
       "                        {\"plot_bgcolor\": \"rgba(0,0,0,0)\", \"sliders\": [{\"active\": 0, \"currentvalue\": {\"prefix\": \"Year: \"}, \"pad\": {\"b\": 10}, \"steps\": [{\"args\": [{\"visible\": [true, false, false, false, false, false, false, false, false, false]}, {\"title.text\": \"Programming Languages Distribution - 2011\"}, {\"frame\": {\"duration\": 300, \"redraw\": false}, \"mode\": \"immediate\", \"transition\": {\"duration\": 300}}], \"label\": \"2011\", \"method\": \"update\"}, {\"args\": [{\"visible\": [false, true, false, false, false, false, false, false, false, false]}, {\"title.text\": \"Programming Languages Distribution - 2012\"}, {\"frame\": {\"duration\": 300, \"redraw\": false}, \"mode\": \"immediate\", \"transition\": {\"duration\": 300}}], \"label\": \"2012\", \"method\": \"update\"}, {\"args\": [{\"visible\": [false, false, true, false, false, false, false, false, false, false]}, {\"title.text\": \"Programming Languages Distribution - 2013\"}, {\"frame\": {\"duration\": 300, \"redraw\": false}, \"mode\": \"immediate\", \"transition\": {\"duration\": 300}}], \"label\": \"2013\", \"method\": \"update\"}, {\"args\": [{\"visible\": [false, false, false, true, false, false, false, false, false, false]}, {\"title.text\": \"Programming Languages Distribution - 2014\"}, {\"frame\": {\"duration\": 300, \"redraw\": false}, \"mode\": \"immediate\", \"transition\": {\"duration\": 300}}], \"label\": \"2014\", \"method\": \"update\"}, {\"args\": [{\"visible\": [false, false, false, false, true, false, false, false, false, false]}, {\"title.text\": \"Programming Languages Distribution - 2015\"}, {\"frame\": {\"duration\": 300, \"redraw\": false}, \"mode\": \"immediate\", \"transition\": {\"duration\": 300}}], \"label\": \"2015\", \"method\": \"update\"}, {\"args\": [{\"visible\": [false, false, false, false, false, true, false, false, false, false]}, {\"title.text\": \"Programming Languages Distribution - 2016\"}, {\"frame\": {\"duration\": 300, \"redraw\": false}, \"mode\": \"immediate\", \"transition\": {\"duration\": 300}}], \"label\": \"2016\", \"method\": \"update\"}, {\"args\": [{\"visible\": [false, false, false, false, false, false, true, false, false, false]}, {\"title.text\": \"Programming Languages Distribution - 2017\"}, {\"frame\": {\"duration\": 300, \"redraw\": false}, \"mode\": \"immediate\", \"transition\": {\"duration\": 300}}], \"label\": \"2017\", \"method\": \"update\"}, {\"args\": [{\"visible\": [false, false, false, false, false, false, false, true, false, false]}, {\"title.text\": \"Programming Languages Distribution - 2018\"}, {\"frame\": {\"duration\": 300, \"redraw\": false}, \"mode\": \"immediate\", \"transition\": {\"duration\": 300}}], \"label\": \"2018\", \"method\": \"update\"}, {\"args\": [{\"visible\": [false, false, false, false, false, false, false, false, true, false]}, {\"title.text\": \"Programming Languages Distribution - 2019\"}, {\"frame\": {\"duration\": 300, \"redraw\": false}, \"mode\": \"immediate\", \"transition\": {\"duration\": 300}}], \"label\": \"2019\", \"method\": \"update\"}, {\"args\": [{\"visible\": [false, false, false, false, false, false, false, false, false, true]}, {\"title.text\": \"Programming Languages Distribution - 2020\"}, {\"frame\": {\"duration\": 300, \"redraw\": false}, \"mode\": \"immediate\", \"transition\": {\"duration\": 300}}], \"label\": \"2020\", \"method\": \"update\"}], \"transition\": {\"duration\": 300, \"easing\": \"cubic-in-out\"}}], \"template\": {\"data\": {\"bar\": [{\"error_x\": {\"color\": \"#2a3f5f\"}, \"error_y\": {\"color\": \"#2a3f5f\"}, \"marker\": {\"line\": {\"color\": \"#E5ECF6\", \"width\": 0.5}}, \"type\": \"bar\"}], \"barpolar\": [{\"marker\": {\"line\": {\"color\": \"#E5ECF6\", \"width\": 0.5}}, \"type\": \"barpolar\"}], \"carpet\": [{\"aaxis\": {\"endlinecolor\": \"#2a3f5f\", \"gridcolor\": \"white\", \"linecolor\": \"white\", \"minorgridcolor\": \"white\", \"startlinecolor\": \"#2a3f5f\"}, \"baxis\": {\"endlinecolor\": \"#2a3f5f\", \"gridcolor\": \"white\", \"linecolor\": \"white\", \"minorgridcolor\": \"white\", \"startlinecolor\": \"#2a3f5f\"}, \"type\": \"carpet\"}], \"choropleth\": [{\"colorbar\": {\"outlinewidth\": 0, \"ticks\": \"\"}, \"type\": \"choropleth\"}], \"contour\": [{\"colorbar\": {\"outlinewidth\": 0, \"ticks\": \"\"}, \"colorscale\": [[0.0, \"#0d0887\"], [0.1111111111111111, \"#46039f\"], [0.2222222222222222, \"#7201a8\"], [0.3333333333333333, \"#9c179e\"], [0.4444444444444444, \"#bd3786\"], [0.5555555555555556, \"#d8576b\"], [0.6666666666666666, \"#ed7953\"], [0.7777777777777778, \"#fb9f3a\"], [0.8888888888888888, \"#fdca26\"], [1.0, \"#f0f921\"]], \"type\": \"contour\"}], \"contourcarpet\": [{\"colorbar\": {\"outlinewidth\": 0, \"ticks\": \"\"}, \"type\": \"contourcarpet\"}], \"heatmap\": [{\"colorbar\": {\"outlinewidth\": 0, \"ticks\": \"\"}, \"colorscale\": [[0.0, \"#0d0887\"], [0.1111111111111111, \"#46039f\"], [0.2222222222222222, \"#7201a8\"], [0.3333333333333333, \"#9c179e\"], [0.4444444444444444, \"#bd3786\"], [0.5555555555555556, \"#d8576b\"], [0.6666666666666666, \"#ed7953\"], [0.7777777777777778, \"#fb9f3a\"], [0.8888888888888888, \"#fdca26\"], [1.0, \"#f0f921\"]], \"type\": \"heatmap\"}], \"heatmapgl\": [{\"colorbar\": {\"outlinewidth\": 0, \"ticks\": \"\"}, \"colorscale\": [[0.0, \"#0d0887\"], [0.1111111111111111, \"#46039f\"], [0.2222222222222222, \"#7201a8\"], [0.3333333333333333, \"#9c179e\"], [0.4444444444444444, \"#bd3786\"], [0.5555555555555556, \"#d8576b\"], [0.6666666666666666, \"#ed7953\"], [0.7777777777777778, \"#fb9f3a\"], [0.8888888888888888, \"#fdca26\"], [1.0, \"#f0f921\"]], \"type\": \"heatmapgl\"}], \"histogram\": [{\"marker\": {\"colorbar\": {\"outlinewidth\": 0, \"ticks\": \"\"}}, \"type\": \"histogram\"}], \"histogram2d\": [{\"colorbar\": {\"outlinewidth\": 0, \"ticks\": \"\"}, \"colorscale\": [[0.0, \"#0d0887\"], [0.1111111111111111, \"#46039f\"], [0.2222222222222222, \"#7201a8\"], [0.3333333333333333, \"#9c179e\"], [0.4444444444444444, \"#bd3786\"], [0.5555555555555556, \"#d8576b\"], [0.6666666666666666, \"#ed7953\"], [0.7777777777777778, \"#fb9f3a\"], [0.8888888888888888, \"#fdca26\"], [1.0, \"#f0f921\"]], \"type\": \"histogram2d\"}], \"histogram2dcontour\": [{\"colorbar\": {\"outlinewidth\": 0, \"ticks\": \"\"}, \"colorscale\": [[0.0, \"#0d0887\"], [0.1111111111111111, \"#46039f\"], [0.2222222222222222, \"#7201a8\"], [0.3333333333333333, \"#9c179e\"], [0.4444444444444444, \"#bd3786\"], [0.5555555555555556, \"#d8576b\"], [0.6666666666666666, \"#ed7953\"], [0.7777777777777778, \"#fb9f3a\"], [0.8888888888888888, \"#fdca26\"], [1.0, \"#f0f921\"]], \"type\": \"histogram2dcontour\"}], \"mesh3d\": [{\"colorbar\": {\"outlinewidth\": 0, \"ticks\": \"\"}, \"type\": \"mesh3d\"}], \"parcoords\": [{\"line\": {\"colorbar\": {\"outlinewidth\": 0, \"ticks\": \"\"}}, \"type\": \"parcoords\"}], \"pie\": [{\"automargin\": true, \"type\": \"pie\"}], \"scatter\": [{\"marker\": {\"colorbar\": {\"outlinewidth\": 0, \"ticks\": \"\"}}, \"type\": \"scatter\"}], \"scatter3d\": [{\"line\": {\"colorbar\": {\"outlinewidth\": 0, \"ticks\": \"\"}}, \"marker\": {\"colorbar\": {\"outlinewidth\": 0, \"ticks\": \"\"}}, \"type\": \"scatter3d\"}], \"scattercarpet\": [{\"marker\": {\"colorbar\": {\"outlinewidth\": 0, \"ticks\": \"\"}}, \"type\": \"scattercarpet\"}], \"scattergeo\": [{\"marker\": {\"colorbar\": {\"outlinewidth\": 0, \"ticks\": \"\"}}, \"type\": \"scattergeo\"}], \"scattergl\": [{\"marker\": {\"colorbar\": {\"outlinewidth\": 0, \"ticks\": \"\"}}, \"type\": \"scattergl\"}], \"scattermapbox\": [{\"marker\": {\"colorbar\": {\"outlinewidth\": 0, \"ticks\": \"\"}}, \"type\": \"scattermapbox\"}], \"scatterpolar\": [{\"marker\": {\"colorbar\": {\"outlinewidth\": 0, \"ticks\": \"\"}}, \"type\": \"scatterpolar\"}], \"scatterpolargl\": [{\"marker\": {\"colorbar\": {\"outlinewidth\": 0, \"ticks\": \"\"}}, \"type\": \"scatterpolargl\"}], \"scatterternary\": [{\"marker\": {\"colorbar\": {\"outlinewidth\": 0, \"ticks\": \"\"}}, \"type\": \"scatterternary\"}], \"surface\": [{\"colorbar\": {\"outlinewidth\": 0, \"ticks\": \"\"}, \"colorscale\": [[0.0, \"#0d0887\"], [0.1111111111111111, \"#46039f\"], [0.2222222222222222, \"#7201a8\"], [0.3333333333333333, \"#9c179e\"], [0.4444444444444444, \"#bd3786\"], [0.5555555555555556, \"#d8576b\"], [0.6666666666666666, \"#ed7953\"], [0.7777777777777778, \"#fb9f3a\"], [0.8888888888888888, \"#fdca26\"], [1.0, \"#f0f921\"]], \"type\": \"surface\"}], \"table\": [{\"cells\": {\"fill\": {\"color\": \"#EBF0F8\"}, \"line\": {\"color\": \"white\"}}, \"header\": {\"fill\": {\"color\": \"#C8D4E3\"}, \"line\": {\"color\": \"white\"}}, \"type\": \"table\"}]}, \"layout\": {\"annotationdefaults\": {\"arrowcolor\": \"#2a3f5f\", \"arrowhead\": 0, \"arrowwidth\": 1}, \"coloraxis\": {\"colorbar\": {\"outlinewidth\": 0, \"ticks\": \"\"}}, \"colorscale\": {\"diverging\": [[0, \"#8e0152\"], [0.1, \"#c51b7d\"], [0.2, \"#de77ae\"], [0.3, \"#f1b6da\"], [0.4, \"#fde0ef\"], [0.5, \"#f7f7f7\"], [0.6, \"#e6f5d0\"], [0.7, \"#b8e186\"], [0.8, \"#7fbc41\"], [0.9, \"#4d9221\"], [1, \"#276419\"]], \"sequential\": [[0.0, \"#0d0887\"], [0.1111111111111111, \"#46039f\"], [0.2222222222222222, \"#7201a8\"], [0.3333333333333333, \"#9c179e\"], [0.4444444444444444, \"#bd3786\"], [0.5555555555555556, \"#d8576b\"], [0.6666666666666666, \"#ed7953\"], [0.7777777777777778, \"#fb9f3a\"], [0.8888888888888888, \"#fdca26\"], [1.0, \"#f0f921\"]], \"sequentialminus\": [[0.0, \"#0d0887\"], [0.1111111111111111, \"#46039f\"], [0.2222222222222222, \"#7201a8\"], [0.3333333333333333, \"#9c179e\"], [0.4444444444444444, \"#bd3786\"], [0.5555555555555556, \"#d8576b\"], [0.6666666666666666, \"#ed7953\"], [0.7777777777777778, \"#fb9f3a\"], [0.8888888888888888, \"#fdca26\"], [1.0, \"#f0f921\"]]}, \"colorway\": [\"#636efa\", \"#EF553B\", \"#00cc96\", \"#ab63fa\", \"#FFA15A\", \"#19d3f3\", \"#FF6692\", \"#B6E880\", \"#FF97FF\", \"#FECB52\"], \"font\": {\"color\": \"#2a3f5f\"}, \"geo\": {\"bgcolor\": \"white\", \"lakecolor\": \"white\", \"landcolor\": \"#E5ECF6\", \"showlakes\": true, \"showland\": true, \"subunitcolor\": \"white\"}, \"hoverlabel\": {\"align\": \"left\"}, \"hovermode\": \"closest\", \"mapbox\": {\"style\": \"light\"}, \"paper_bgcolor\": \"white\", \"plot_bgcolor\": \"#E5ECF6\", \"polar\": {\"angularaxis\": {\"gridcolor\": \"white\", \"linecolor\": \"white\", \"ticks\": \"\"}, \"bgcolor\": \"#E5ECF6\", \"radialaxis\": {\"gridcolor\": \"white\", \"linecolor\": \"white\", \"ticks\": \"\"}}, \"scene\": {\"xaxis\": {\"backgroundcolor\": \"#E5ECF6\", \"gridcolor\": \"white\", \"gridwidth\": 2, \"linecolor\": \"white\", \"showbackground\": true, \"ticks\": \"\", \"zerolinecolor\": \"white\"}, \"yaxis\": {\"backgroundcolor\": \"#E5ECF6\", \"gridcolor\": \"white\", \"gridwidth\": 2, \"linecolor\": \"white\", \"showbackground\": true, \"ticks\": \"\", \"zerolinecolor\": \"white\"}, \"zaxis\": {\"backgroundcolor\": \"#E5ECF6\", \"gridcolor\": \"white\", \"gridwidth\": 2, \"linecolor\": \"white\", \"showbackground\": true, \"ticks\": \"\", \"zerolinecolor\": \"white\"}}, \"shapedefaults\": {\"line\": {\"color\": \"#2a3f5f\"}}, \"ternary\": {\"aaxis\": {\"gridcolor\": \"white\", \"linecolor\": \"white\", \"ticks\": \"\"}, \"baxis\": {\"gridcolor\": \"white\", \"linecolor\": \"white\", \"ticks\": \"\"}, \"bgcolor\": \"#E5ECF6\", \"caxis\": {\"gridcolor\": \"white\", \"linecolor\": \"white\", \"ticks\": \"\"}}, \"title\": {\"x\": 0.05}, \"xaxis\": {\"automargin\": true, \"gridcolor\": \"white\", \"linecolor\": \"white\", \"ticks\": \"\", \"title\": {\"standoff\": 15}, \"zerolinecolor\": \"white\", \"zerolinewidth\": 2}, \"yaxis\": {\"automargin\": true, \"gridcolor\": \"white\", \"linecolor\": \"white\", \"ticks\": \"\", \"title\": {\"standoff\": 15}, \"zerolinecolor\": \"white\", \"zerolinewidth\": 2}}}, \"title\": {\"text\": \"Programming Languages Distribution - 2011\", \"x\": 0.5, \"xanchor\": \"center\", \"yanchor\": \"top\"}, \"xaxis\": {\"tickformat\": \"digit\", \"visible\": false}, \"yaxis\": {\"tickcolor\": \"white\", \"ticklen\": 8, \"ticks\": \"outside\"}},\n",
       "                        {\"responsive\": true}\n",
       "                    ).then(function(){\n",
       "                            \n",
       "var gd = document.getElementById('e7ea8596-5a7b-4455-bf89-473a4472133b');\n",
       "var x = new MutationObserver(function (mutations, observer) {{\n",
       "        var display = window.getComputedStyle(gd).display;\n",
       "        if (!display || display === 'none') {{\n",
       "            console.log([gd, 'removed!']);\n",
       "            Plotly.purge(gd);\n",
       "            observer.disconnect();\n",
       "        }}\n",
       "}});\n",
       "\n",
       "// Listen for the removal of the full notebook cells\n",
       "var notebookContainer = gd.closest('#notebook-container');\n",
       "if (notebookContainer) {{\n",
       "    x.observe(notebookContainer, {childList: true});\n",
       "}}\n",
       "\n",
       "// Listen for the clearing of the current output cell\n",
       "var outputEl = gd.closest('.output');\n",
       "if (outputEl) {{\n",
       "    x.observe(outputEl, {childList: true});\n",
       "}}\n",
       "\n",
       "                        })\n",
       "                };\n",
       "                });\n",
       "            </script>\n",
       "        </div>"
      ]
     },
     "metadata": {},
     "output_type": "display_data"
    }
   ],
   "source": [
    "dataset_years = list(range(2011,2021))\n",
    "\n",
    "dfs = {}\n",
    "for year in dataset_years:\n",
    "    dfs[year] = langs_year[langs_year['Year'].dt.year==year]\n",
    "\n",
    "start_index = 0\n",
    "\n",
    "data=[\n",
    "    go.Bar(\n",
    "        x=dfs[year]['Count'], \n",
    "        y=dfs[year]['Language'].str.title(), \n",
    "        orientation='h',\n",
    "        text=dfs[year]['Percentage'],\n",
    "        texttemplate='%{text:.2%}',\n",
    "        textposition='outside', \n",
    "        insidetextanchor='end',\n",
    "        visible = False,\n",
    "        width=0.9,\n",
    "        name=str(year),\n",
    "        marker=dict(\n",
    "            color='rgb(255, 231, 169)'\n",
    "        ),\n",
    "        hovertemplate = # https://github.com/d3/d3-format\n",
    "            '<b>%{y}</b><br><br>'+\n",
    "            'Count: %{x:.d} <br>'+ \n",
    "            'Percentage: %{text:.2%}<br>'+\n",
    "            \"<extra></extra>\"\n",
    "    )\n",
    "    for year in dataset_years\n",
    "]\n",
    "\n",
    "data[start_index]['visible'] = True\n",
    "\n",
    "\n",
    "steps = []\n",
    "for i in range(len(data)):\n",
    "    year = (i+2011)\n",
    "    step = dict(\n",
    "        # Update method allows us to update both trace and layout properties\n",
    "        method = 'update',  \n",
    "        args = [\n",
    "            # Make the ith trace visible\n",
    "            {'visible': [t == i for t in range(len(data))]},\n",
    "            \n",
    "            # Set the title for the ith trace\n",
    "            {'title.text': 'Programming Languages Distribution - %d' % year},\n",
    "            \n",
    "            {\n",
    "                \"frame\": {\"duration\": 300, \"redraw\": False},\n",
    "                 \"mode\": \"immediate\",\n",
    "                 \"transition\": {\"duration\": 300}\n",
    "            }\n",
    "        ],\n",
    "        label=year\n",
    "    )\n",
    "    steps.append(step)\n",
    "    \n",
    "sliders = [go.layout.Slider(\n",
    "    active = 0,\n",
    "    currentvalue = {\"prefix\": \"Year: \"},\n",
    "    transition={\"duration\": 300, \"easing\": \"cubic-in-out\"},\n",
    "    pad = {\"b\": 10},\n",
    "    steps = steps,\n",
    ")]\n",
    "\n",
    "layout = go.Layout(\n",
    "    sliders=sliders,\n",
    "    title={\n",
    "        'text': \"Programming Languages Distribution - 2011\",\n",
    "        'x': 0.5,\n",
    "        'xanchor': 'center',\n",
    "        'yanchor': 'top'\n",
    "    },\n",
    "    plot_bgcolor='rgba(0,0,0,0)',\n",
    "    xaxis={'visible': False,  'tickformat': \"digit\" },\n",
    "    yaxis={'ticks': \"outside\", 'tickcolor':'white', 'ticklen':8},\n",
    ")\n",
    "\n",
    "fig = go.Figure(data=data, layout=layout)\n",
    "\n",
    "fig.show()"
   ]
  },
  {
   "cell_type": "code",
   "execution_count": 138,
   "metadata": {},
   "outputs": [
    {
     "data": {
      "text/plain": [
       "'https://plotly.com/~masharo/56/'"
      ]
     },
     "execution_count": 138,
     "metadata": {},
     "output_type": "execute_result"
    }
   ],
   "source": [
    "py.plot(fig, filename = 'stack-overflow-languages-over-year', auto_open=True)"
   ]
  },
  {
   "cell_type": "code",
   "execution_count": null,
   "metadata": {},
   "outputs": [],
   "source": []
  }
 ],
 "metadata": {
  "kernelspec": {
   "display_name": "Python 3",
   "language": "python",
   "name": "python3"
  },
  "language_info": {
   "codemirror_mode": {
    "name": "ipython",
    "version": 3
   },
   "file_extension": ".py",
   "mimetype": "text/x-python",
   "name": "python",
   "nbconvert_exporter": "python",
   "pygments_lexer": "ipython3",
   "version": "3.8.5"
  }
 },
 "nbformat": 4,
 "nbformat_minor": 4
}
