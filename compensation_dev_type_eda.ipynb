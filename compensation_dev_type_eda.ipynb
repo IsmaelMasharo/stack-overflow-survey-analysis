{
 "cells": [
  {
   "cell_type": "code",
   "execution_count": 1,
   "metadata": {},
   "outputs": [],
   "source": [
    "%load_ext autoreload\n",
    "%autoreload 2"
   ]
  },
  {
   "cell_type": "code",
   "execution_count": 54,
   "metadata": {},
   "outputs": [],
   "source": [
    "import pandas as pd\n",
    "import numpy as np\n",
    "import seaborn as sns \n",
    "import matplotlib.pyplot as plt\n",
    "\n",
    "from scripts.dataset_explorer import SODataSetExplorer\n",
    "from scripts.feature_handler import DevTypeHandler, CompensationHandler\n",
    "from scripts.developer_type_labeling import selected_dev_type_columns"
   ]
  },
  {
   "cell_type": "code",
   "execution_count": 3,
   "metadata": {},
   "outputs": [],
   "source": [
    "import plotly.express as px\n",
    "import plotly\n",
    "import plotly.io as pio\n",
    "import plotly.graph_objects as go\n",
    "import plotly.figure_factory as ff"
   ]
  },
  {
   "cell_type": "code",
   "execution_count": 4,
   "metadata": {},
   "outputs": [],
   "source": [
    "import chart_studio\n",
    "import chart_studio.plotly as py\n",
    "import os\n",
    "\n",
    "chart_studio_apikey = os.getenv('CHART_STUDIO_API_KEY')\n",
    "chart_studio.tools.set_credentials_file(username='masharo', api_key=chart_studio_apikey)"
   ]
  },
  {
   "cell_type": "code",
   "execution_count": 5,
   "metadata": {},
   "outputs": [],
   "source": [
    "pd.set_option('display.max_rows', None)\n",
    "pd.set_option('display.max_columns', None)\n",
    "pd.set_option('display.width', None)\n",
    "pd.set_option('display.max_colwidth', None)"
   ]
  },
  {
   "cell_type": "markdown",
   "metadata": {},
   "source": [
    "## Load datasets"
   ]
  },
  {
   "cell_type": "code",
   "execution_count": 6,
   "metadata": {},
   "outputs": [],
   "source": [
    "year_range = list(range(2018, 2021))\n",
    "df_explorer = SODataSetExplorer(year_range)"
   ]
  },
  {
   "cell_type": "markdown",
   "metadata": {},
   "source": [
    "## Business Understanding Questions\n",
    "* From the last 3 years (2018-2020), how does developers' compensation has changed?\n",
    "* Which developer type has the highest compensation on average?"
   ]
  },
  {
   "cell_type": "markdown",
   "metadata": {},
   "source": [
    "## Data Understanding"
   ]
  },
  {
   "cell_type": "markdown",
   "metadata": {},
   "source": [
    "### Developer Type"
   ]
  },
  {
   "cell_type": "markdown",
   "metadata": {},
   "source": [
    "* Display similar columns"
   ]
  },
  {
   "cell_type": "code",
   "execution_count": 115,
   "metadata": {},
   "outputs": [
    {
     "name": "stdout",
     "output_type": "stream",
     "text": [
      "2018\n",
      "{'dev_type'}\n",
      "\n",
      "\n",
      "2019\n",
      "{'dev_type'}\n",
      "\n",
      "\n",
      "2020\n",
      "{'dev_type'}\n",
      "\n",
      "\n"
     ]
    }
   ],
   "source": [
    "df_explorer.similar_columns(['occupation', 'dev_type', 'developer_type'], years=[2018,2019,2020]);"
   ]
  },
  {
   "cell_type": "markdown",
   "metadata": {},
   "source": [
    "Since we'll be analysing the last three year compensation evolution we'll use the `dev_type` feature without merging the other years."
   ]
  },
  {
   "cell_type": "markdown",
   "metadata": {},
   "source": [
    "* Feature type"
   ]
  },
  {
   "cell_type": "code",
   "execution_count": 112,
   "metadata": {},
   "outputs": [
    {
     "data": {
      "text/html": [
       "<div>\n",
       "<style scoped>\n",
       "    .dataframe tbody tr th:only-of-type {\n",
       "        vertical-align: middle;\n",
       "    }\n",
       "\n",
       "    .dataframe tbody tr th {\n",
       "        vertical-align: top;\n",
       "    }\n",
       "\n",
       "    .dataframe thead th {\n",
       "        text-align: right;\n",
       "    }\n",
       "</style>\n",
       "<table border=\"1\" class=\"dataframe\">\n",
       "  <thead>\n",
       "    <tr style=\"text-align: right;\">\n",
       "      <th></th>\n",
       "      <th>dev_type</th>\n",
       "    </tr>\n",
       "  </thead>\n",
       "  <tbody>\n",
       "    <tr>\n",
       "      <th>0</th>\n",
       "      <td>Developer, desktop or enterprise applications;Developer, full-stack</td>\n",
       "    </tr>\n",
       "    <tr>\n",
       "      <th>1</th>\n",
       "      <td>Developer, full-stack;Developer, mobile</td>\n",
       "    </tr>\n",
       "    <tr>\n",
       "      <th>2</th>\n",
       "      <td>NaN</td>\n",
       "    </tr>\n",
       "    <tr>\n",
       "      <th>3</th>\n",
       "      <td>NaN</td>\n",
       "    </tr>\n",
       "    <tr>\n",
       "      <th>4</th>\n",
       "      <td>NaN</td>\n",
       "    </tr>\n",
       "  </tbody>\n",
       "</table>\n",
       "</div>"
      ],
      "text/plain": [
       "                                                              dev_type\n",
       "0  Developer, desktop or enterprise applications;Developer, full-stack\n",
       "1                              Developer, full-stack;Developer, mobile\n",
       "2                                                                  NaN\n",
       "3                                                                  NaN\n",
       "4                                                                  NaN"
      ]
     },
     "execution_count": 112,
     "metadata": {},
     "output_type": "execute_result"
    }
   ],
   "source": [
    "df_explorer.datasets[2020][['dev_type']].head()"
   ]
  },
  {
   "cell_type": "markdown",
   "metadata": {},
   "source": [
    "* Missing values"
   ]
  },
  {
   "cell_type": "code",
   "execution_count": 113,
   "metadata": {},
   "outputs": [
    {
     "data": {
      "text/html": [
       "<div>\n",
       "<style scoped>\n",
       "    .dataframe tbody tr th:only-of-type {\n",
       "        vertical-align: middle;\n",
       "    }\n",
       "\n",
       "    .dataframe tbody tr th {\n",
       "        vertical-align: top;\n",
       "    }\n",
       "\n",
       "    .dataframe thead th {\n",
       "        text-align: right;\n",
       "    }\n",
       "</style>\n",
       "<table border=\"1\" class=\"dataframe\">\n",
       "  <thead>\n",
       "    <tr style=\"text-align: right;\">\n",
       "      <th></th>\n",
       "      <th>year</th>\n",
       "      <th>dev_type</th>\n",
       "    </tr>\n",
       "  </thead>\n",
       "  <tbody>\n",
       "    <tr>\n",
       "      <th>0</th>\n",
       "      <td>2018</td>\n",
       "      <td>0.068353</td>\n",
       "    </tr>\n",
       "    <tr>\n",
       "      <th>1</th>\n",
       "      <td>2019</td>\n",
       "      <td>0.084921</td>\n",
       "    </tr>\n",
       "    <tr>\n",
       "      <th>2</th>\n",
       "      <td>2020</td>\n",
       "      <td>0.234111</td>\n",
       "    </tr>\n",
       "  </tbody>\n",
       "</table>\n",
       "</div>"
      ],
      "text/plain": [
       "   year  dev_type\n",
       "0  2018  0.068353\n",
       "1  2019  0.084921\n",
       "2  2020  0.234111"
      ]
     },
     "execution_count": 113,
     "metadata": {},
     "output_type": "execute_result"
    }
   ],
   "source": [
    "df_explorer.missing_values_percentage('dev_type')"
   ]
  },
  {
   "cell_type": "markdown",
   "metadata": {},
   "source": [
    "### Compensation"
   ]
  },
  {
   "cell_type": "markdown",
   "metadata": {},
   "source": [
    "* Display similar columns"
   ]
  },
  {
   "cell_type": "code",
   "execution_count": 116,
   "metadata": {},
   "outputs": [
    {
     "name": "stdout",
     "output_type": "stream",
     "text": [
      "2018\n",
      "{'company_size', 'salary_type', 'compensation', 'salary', 'hours_computer'}\n",
      "\n",
      "\n",
      "2019\n",
      "{'comp_freq', 'comp_total', 'compensation'}\n",
      "\n",
      "\n",
      "2020\n",
      "{'comp_freq', 'comp_total', 'compensation'}\n",
      "\n",
      "\n"
     ]
    }
   ],
   "source": [
    "df_explorer.similar_columns(['comp', 'salary'], years=[2018,2019,2020]);"
   ]
  },
  {
   "cell_type": "markdown",
   "metadata": {},
   "source": [
    "* Rename feature into `compensation`"
   ]
  },
  {
   "cell_type": "code",
   "execution_count": 11,
   "metadata": {},
   "outputs": [],
   "source": [
    "compensation_feature = 'compensation'\n",
    "by_year_col_rename = {\n",
    "    'new_column_name': compensation_feature,\n",
    "    'year_map': {\n",
    "        2018: 'converted_salary',\n",
    "        2019: 'converted_comp',\n",
    "        2020: 'converted_comp'\n",
    "    }\n",
    "}\n",
    "\n",
    "df_explorer.rename_columns(by_year_col_rename, by_year=True)"
   ]
  },
  {
   "cell_type": "markdown",
   "metadata": {},
   "source": [
    "* Summarize missing values"
   ]
  },
  {
   "cell_type": "code",
   "execution_count": 117,
   "metadata": {},
   "outputs": [
    {
     "data": {
      "text/html": [
       "<div>\n",
       "<style scoped>\n",
       "    .dataframe tbody tr th:only-of-type {\n",
       "        vertical-align: middle;\n",
       "    }\n",
       "\n",
       "    .dataframe tbody tr th {\n",
       "        vertical-align: top;\n",
       "    }\n",
       "\n",
       "    .dataframe thead th {\n",
       "        text-align: right;\n",
       "    }\n",
       "</style>\n",
       "<table border=\"1\" class=\"dataframe\">\n",
       "  <thead>\n",
       "    <tr style=\"text-align: right;\">\n",
       "      <th></th>\n",
       "      <th>year</th>\n",
       "      <th>compensation</th>\n",
       "    </tr>\n",
       "  </thead>\n",
       "  <tbody>\n",
       "    <tr>\n",
       "      <th>0</th>\n",
       "      <td>2018</td>\n",
       "      <td>0.517455</td>\n",
       "    </tr>\n",
       "    <tr>\n",
       "      <th>1</th>\n",
       "      <td>2019</td>\n",
       "      <td>0.371950</td>\n",
       "    </tr>\n",
       "    <tr>\n",
       "      <th>2</th>\n",
       "      <td>2020</td>\n",
       "      <td>0.460821</td>\n",
       "    </tr>\n",
       "  </tbody>\n",
       "</table>\n",
       "</div>"
      ],
      "text/plain": [
       "   year  compensation\n",
       "0  2018      0.517455\n",
       "1  2019      0.371950\n",
       "2  2020      0.460821"
      ]
     },
     "execution_count": 117,
     "metadata": {},
     "output_type": "execute_result"
    }
   ],
   "source": [
    "df_explorer.missing_values_percentage('compensation')"
   ]
  },
  {
   "cell_type": "markdown",
   "metadata": {},
   "source": [
    "* Feature type"
   ]
  },
  {
   "cell_type": "code",
   "execution_count": 122,
   "metadata": {},
   "outputs": [
    {
     "data": {
      "text/plain": [
       "[dtype('float64'), dtype('float64'), dtype('float64')]"
      ]
     },
     "execution_count": 122,
     "metadata": {},
     "output_type": "execute_result"
    }
   ],
   "source": [
    "[df_explorer.datasets[year]['compensation'].dtype for year in range(2018, 2021)]"
   ]
  },
  {
   "cell_type": "markdown",
   "metadata": {},
   "source": [
    "* Descriptive statistics"
   ]
  },
  {
   "cell_type": "code",
   "execution_count": 127,
   "metadata": {},
   "outputs": [
    {
     "data": {
      "text/plain": [
       "2018"
      ]
     },
     "metadata": {},
     "output_type": "display_data"
    },
    {
     "data": {
      "text/html": [
       "<div>\n",
       "<style scoped>\n",
       "    .dataframe tbody tr th:only-of-type {\n",
       "        vertical-align: middle;\n",
       "    }\n",
       "\n",
       "    .dataframe tbody tr th {\n",
       "        vertical-align: top;\n",
       "    }\n",
       "\n",
       "    .dataframe thead th {\n",
       "        text-align: right;\n",
       "    }\n",
       "</style>\n",
       "<table border=\"1\" class=\"dataframe\">\n",
       "  <thead>\n",
       "    <tr style=\"text-align: right;\">\n",
       "      <th></th>\n",
       "      <th>compensation</th>\n",
       "    </tr>\n",
       "  </thead>\n",
       "  <tbody>\n",
       "    <tr>\n",
       "      <th>count</th>\n",
       "      <td>4.770200e+04</td>\n",
       "    </tr>\n",
       "    <tr>\n",
       "      <th>mean</th>\n",
       "      <td>9.578086e+04</td>\n",
       "    </tr>\n",
       "    <tr>\n",
       "      <th>std</th>\n",
       "      <td>2.023482e+05</td>\n",
       "    </tr>\n",
       "    <tr>\n",
       "      <th>min</th>\n",
       "      <td>0.000000e+00</td>\n",
       "    </tr>\n",
       "    <tr>\n",
       "      <th>25%</th>\n",
       "      <td>2.384400e+04</td>\n",
       "    </tr>\n",
       "    <tr>\n",
       "      <th>50%</th>\n",
       "      <td>5.507500e+04</td>\n",
       "    </tr>\n",
       "    <tr>\n",
       "      <th>75%</th>\n",
       "      <td>9.300000e+04</td>\n",
       "    </tr>\n",
       "    <tr>\n",
       "      <th>max</th>\n",
       "      <td>2.000000e+06</td>\n",
       "    </tr>\n",
       "  </tbody>\n",
       "</table>\n",
       "</div>"
      ],
      "text/plain": [
       "       compensation\n",
       "count  4.770200e+04\n",
       "mean   9.578086e+04\n",
       "std    2.023482e+05\n",
       "min    0.000000e+00\n",
       "25%    2.384400e+04\n",
       "50%    5.507500e+04\n",
       "75%    9.300000e+04\n",
       "max    2.000000e+06"
      ]
     },
     "metadata": {},
     "output_type": "display_data"
    },
    {
     "data": {
      "text/plain": [
       "2019"
      ]
     },
     "metadata": {},
     "output_type": "display_data"
    },
    {
     "data": {
      "text/html": [
       "<div>\n",
       "<style scoped>\n",
       "    .dataframe tbody tr th:only-of-type {\n",
       "        vertical-align: middle;\n",
       "    }\n",
       "\n",
       "    .dataframe tbody tr th {\n",
       "        vertical-align: top;\n",
       "    }\n",
       "\n",
       "    .dataframe thead th {\n",
       "        text-align: right;\n",
       "    }\n",
       "</style>\n",
       "<table border=\"1\" class=\"dataframe\">\n",
       "  <thead>\n",
       "    <tr style=\"text-align: right;\">\n",
       "      <th></th>\n",
       "      <th>compensation</th>\n",
       "    </tr>\n",
       "  </thead>\n",
       "  <tbody>\n",
       "    <tr>\n",
       "      <th>count</th>\n",
       "      <td>5.582300e+04</td>\n",
       "    </tr>\n",
       "    <tr>\n",
       "      <th>mean</th>\n",
       "      <td>1.271107e+05</td>\n",
       "    </tr>\n",
       "    <tr>\n",
       "      <th>std</th>\n",
       "      <td>2.841523e+05</td>\n",
       "    </tr>\n",
       "    <tr>\n",
       "      <th>min</th>\n",
       "      <td>0.000000e+00</td>\n",
       "    </tr>\n",
       "    <tr>\n",
       "      <th>25%</th>\n",
       "      <td>2.577750e+04</td>\n",
       "    </tr>\n",
       "    <tr>\n",
       "      <th>50%</th>\n",
       "      <td>5.728700e+04</td>\n",
       "    </tr>\n",
       "    <tr>\n",
       "      <th>75%</th>\n",
       "      <td>1.000000e+05</td>\n",
       "    </tr>\n",
       "    <tr>\n",
       "      <th>max</th>\n",
       "      <td>2.000000e+06</td>\n",
       "    </tr>\n",
       "  </tbody>\n",
       "</table>\n",
       "</div>"
      ],
      "text/plain": [
       "       compensation\n",
       "count  5.582300e+04\n",
       "mean   1.271107e+05\n",
       "std    2.841523e+05\n",
       "min    0.000000e+00\n",
       "25%    2.577750e+04\n",
       "50%    5.728700e+04\n",
       "75%    1.000000e+05\n",
       "max    2.000000e+06"
      ]
     },
     "metadata": {},
     "output_type": "display_data"
    },
    {
     "data": {
      "text/plain": [
       "2020"
      ]
     },
     "metadata": {},
     "output_type": "display_data"
    },
    {
     "data": {
      "text/html": [
       "<div>\n",
       "<style scoped>\n",
       "    .dataframe tbody tr th:only-of-type {\n",
       "        vertical-align: middle;\n",
       "    }\n",
       "\n",
       "    .dataframe tbody tr th {\n",
       "        vertical-align: top;\n",
       "    }\n",
       "\n",
       "    .dataframe thead th {\n",
       "        text-align: right;\n",
       "    }\n",
       "</style>\n",
       "<table border=\"1\" class=\"dataframe\">\n",
       "  <thead>\n",
       "    <tr style=\"text-align: right;\">\n",
       "      <th></th>\n",
       "      <th>compensation</th>\n",
       "    </tr>\n",
       "  </thead>\n",
       "  <tbody>\n",
       "    <tr>\n",
       "      <th>count</th>\n",
       "      <td>3.475600e+04</td>\n",
       "    </tr>\n",
       "    <tr>\n",
       "      <th>mean</th>\n",
       "      <td>1.037561e+05</td>\n",
       "    </tr>\n",
       "    <tr>\n",
       "      <th>std</th>\n",
       "      <td>2.268853e+05</td>\n",
       "    </tr>\n",
       "    <tr>\n",
       "      <th>min</th>\n",
       "      <td>0.000000e+00</td>\n",
       "    </tr>\n",
       "    <tr>\n",
       "      <th>25%</th>\n",
       "      <td>2.464800e+04</td>\n",
       "    </tr>\n",
       "    <tr>\n",
       "      <th>50%</th>\n",
       "      <td>5.404900e+04</td>\n",
       "    </tr>\n",
       "    <tr>\n",
       "      <th>75%</th>\n",
       "      <td>9.500000e+04</td>\n",
       "    </tr>\n",
       "    <tr>\n",
       "      <th>max</th>\n",
       "      <td>2.000000e+06</td>\n",
       "    </tr>\n",
       "  </tbody>\n",
       "</table>\n",
       "</div>"
      ],
      "text/plain": [
       "       compensation\n",
       "count  3.475600e+04\n",
       "mean   1.037561e+05\n",
       "std    2.268853e+05\n",
       "min    0.000000e+00\n",
       "25%    2.464800e+04\n",
       "50%    5.404900e+04\n",
       "75%    9.500000e+04\n",
       "max    2.000000e+06"
      ]
     },
     "metadata": {},
     "output_type": "display_data"
    }
   ],
   "source": [
    "[(display(year), display(df_explorer.datasets[year][['compensation']].describe())) for year in range(2018, 2021)];"
   ]
  },
  {
   "cell_type": "markdown",
   "metadata": {},
   "source": [
    "Feature summary:\n",
    "* There's a high proportion of missing values. We'll take into account only the developers with a compensation value different than null.\n",
    "* Values are numeric (float64)\n",
    "* There's an upper bound of 2000000$"
   ]
  },
  {
   "cell_type": "markdown",
   "metadata": {},
   "source": [
    "## Data Preparation"
   ]
  },
  {
   "cell_type": "markdown",
   "metadata": {},
   "source": [
    "### Developer Type"
   ]
  },
  {
   "cell_type": "markdown",
   "metadata": {},
   "source": [
    "* Getting dummy variables from developer type multiple choice feature to ease filtering by specific developer type."
   ]
  },
  {
   "cell_type": "code",
   "execution_count": 7,
   "metadata": {},
   "outputs": [],
   "source": [
    "dev_type_per_year_dummies = df_explorer.get_feature_dummies_per_year('dev_type', keep_features = ['respondent', 'year'])"
   ]
  },
  {
   "cell_type": "markdown",
   "metadata": {},
   "source": [
    "* For this analysis only a group of developer types are being analyzed. "
   ]
  },
  {
   "cell_type": "code",
   "execution_count": 8,
   "metadata": {},
   "outputs": [],
   "source": [
    "dev_type_dfs = DevTypeHandler.rename_and_extract_selected_dev_type_columns(dev_type_per_year_dummies, ['respondent', 'year'])"
   ]
  },
  {
   "cell_type": "markdown",
   "metadata": {},
   "source": [
    "* Merging the dataset with the feature values of interest:"
   ]
  },
  {
   "cell_type": "code",
   "execution_count": 9,
   "metadata": {},
   "outputs": [],
   "source": [
    "concat_dev_type_encode_feature = pd.concat(dev_type_dfs.values())"
   ]
  },
  {
   "cell_type": "code",
   "execution_count": 10,
   "metadata": {},
   "outputs": [
    {
     "data": {
      "text/html": [
       "<div>\n",
       "<style scoped>\n",
       "    .dataframe tbody tr th:only-of-type {\n",
       "        vertical-align: middle;\n",
       "    }\n",
       "\n",
       "    .dataframe tbody tr th {\n",
       "        vertical-align: top;\n",
       "    }\n",
       "\n",
       "    .dataframe thead th {\n",
       "        text-align: right;\n",
       "    }\n",
       "</style>\n",
       "<table border=\"1\" class=\"dataframe\">\n",
       "  <thead>\n",
       "    <tr style=\"text-align: right;\">\n",
       "      <th></th>\n",
       "      <th>respondent</th>\n",
       "      <th>year</th>\n",
       "      <th>Developer, back-end</th>\n",
       "      <th>Developer, front-end</th>\n",
       "      <th>Developer, full-stack</th>\n",
       "      <th>Developer, mobile</th>\n",
       "      <th>Developer, desktop or enterprise applications</th>\n",
       "      <th>DevOps specialist</th>\n",
       "      <th>Database administrator</th>\n",
       "      <th>System administrator</th>\n",
       "      <th>Data scientist or machine learning specialist</th>\n",
       "      <th>Data or business analyst</th>\n",
       "      <th>Engineering manager</th>\n",
       "      <th>Product manager</th>\n",
       "      <th>Designer</th>\n",
       "    </tr>\n",
       "  </thead>\n",
       "  <tbody>\n",
       "    <tr>\n",
       "      <th>0</th>\n",
       "      <td>1</td>\n",
       "      <td>2018</td>\n",
       "      <td>0</td>\n",
       "      <td>0</td>\n",
       "      <td>1</td>\n",
       "      <td>0</td>\n",
       "      <td>0</td>\n",
       "      <td>0</td>\n",
       "      <td>0</td>\n",
       "      <td>0</td>\n",
       "      <td>0</td>\n",
       "      <td>0</td>\n",
       "      <td>0</td>\n",
       "      <td>0</td>\n",
       "      <td>0</td>\n",
       "    </tr>\n",
       "    <tr>\n",
       "      <th>1</th>\n",
       "      <td>3</td>\n",
       "      <td>2018</td>\n",
       "      <td>0</td>\n",
       "      <td>0</td>\n",
       "      <td>1</td>\n",
       "      <td>0</td>\n",
       "      <td>0</td>\n",
       "      <td>1</td>\n",
       "      <td>1</td>\n",
       "      <td>1</td>\n",
       "      <td>0</td>\n",
       "      <td>0</td>\n",
       "      <td>0</td>\n",
       "      <td>0</td>\n",
       "      <td>0</td>\n",
       "    </tr>\n",
       "    <tr>\n",
       "      <th>2</th>\n",
       "      <td>4</td>\n",
       "      <td>2018</td>\n",
       "      <td>0</td>\n",
       "      <td>0</td>\n",
       "      <td>1</td>\n",
       "      <td>0</td>\n",
       "      <td>0</td>\n",
       "      <td>0</td>\n",
       "      <td>0</td>\n",
       "      <td>0</td>\n",
       "      <td>0</td>\n",
       "      <td>0</td>\n",
       "      <td>1</td>\n",
       "      <td>0</td>\n",
       "      <td>0</td>\n",
       "    </tr>\n",
       "    <tr>\n",
       "      <th>3</th>\n",
       "      <td>5</td>\n",
       "      <td>2018</td>\n",
       "      <td>0</td>\n",
       "      <td>0</td>\n",
       "      <td>1</td>\n",
       "      <td>0</td>\n",
       "      <td>0</td>\n",
       "      <td>0</td>\n",
       "      <td>0</td>\n",
       "      <td>0</td>\n",
       "      <td>0</td>\n",
       "      <td>0</td>\n",
       "      <td>0</td>\n",
       "      <td>0</td>\n",
       "      <td>0</td>\n",
       "    </tr>\n",
       "    <tr>\n",
       "      <th>4</th>\n",
       "      <td>7</td>\n",
       "      <td>2018</td>\n",
       "      <td>0</td>\n",
       "      <td>0</td>\n",
       "      <td>0</td>\n",
       "      <td>0</td>\n",
       "      <td>1</td>\n",
       "      <td>0</td>\n",
       "      <td>0</td>\n",
       "      <td>0</td>\n",
       "      <td>0</td>\n",
       "      <td>1</td>\n",
       "      <td>0</td>\n",
       "      <td>0</td>\n",
       "      <td>0</td>\n",
       "    </tr>\n",
       "  </tbody>\n",
       "</table>\n",
       "</div>"
      ],
      "text/plain": [
       "  respondent  year  Developer, back-end  Developer, front-end  \\\n",
       "0          1  2018                    0                     0   \n",
       "1          3  2018                    0                     0   \n",
       "2          4  2018                    0                     0   \n",
       "3          5  2018                    0                     0   \n",
       "4          7  2018                    0                     0   \n",
       "\n",
       "   Developer, full-stack  Developer, mobile  \\\n",
       "0                      1                  0   \n",
       "1                      1                  0   \n",
       "2                      1                  0   \n",
       "3                      1                  0   \n",
       "4                      0                  0   \n",
       "\n",
       "   Developer, desktop or enterprise applications  DevOps specialist  \\\n",
       "0                                              0                  0   \n",
       "1                                              0                  1   \n",
       "2                                              0                  0   \n",
       "3                                              0                  0   \n",
       "4                                              1                  0   \n",
       "\n",
       "   Database administrator  System administrator  \\\n",
       "0                       0                     0   \n",
       "1                       1                     1   \n",
       "2                       0                     0   \n",
       "3                       0                     0   \n",
       "4                       0                     0   \n",
       "\n",
       "   Data scientist or machine learning specialist  Data or business analyst  \\\n",
       "0                                              0                         0   \n",
       "1                                              0                         0   \n",
       "2                                              0                         0   \n",
       "3                                              0                         0   \n",
       "4                                              0                         1   \n",
       "\n",
       "   Engineering manager  Product manager  Designer  \n",
       "0                    0                0         0  \n",
       "1                    0                0         0  \n",
       "2                    1                0         0  \n",
       "3                    0                0         0  \n",
       "4                    0                0         0  "
      ]
     },
     "execution_count": 10,
     "metadata": {},
     "output_type": "execute_result"
    }
   ],
   "source": [
    "concat_dev_type_encode_feature.head()"
   ]
  },
  {
   "cell_type": "markdown",
   "metadata": {},
   "source": [
    "### Compensation feature"
   ]
  },
  {
   "cell_type": "markdown",
   "metadata": {},
   "source": [
    "* Cleaning compensation feature and extracting only selected columns"
   ]
  },
  {
   "cell_type": "code",
   "execution_count": 91,
   "metadata": {},
   "outputs": [],
   "source": [
    "keep_columns = ['respondent', 'year','country']\n",
    "compensation_datasets = CompensationHandler.extract_and_clean(df_explorer, compensation_feature, keep_columns)"
   ]
  },
  {
   "cell_type": "markdown",
   "metadata": {},
   "source": [
    "* Concatenate compensation across years into one dataframe"
   ]
  },
  {
   "cell_type": "code",
   "execution_count": 92,
   "metadata": {},
   "outputs": [],
   "source": [
    "concat_compensation_df = pd.concat([df for df in compensation_datasets.values()], ignore_index=True)"
   ]
  },
  {
   "cell_type": "code",
   "execution_count": 93,
   "metadata": {},
   "outputs": [
    {
     "data": {
      "text/html": [
       "<div>\n",
       "<style scoped>\n",
       "    .dataframe tbody tr th:only-of-type {\n",
       "        vertical-align: middle;\n",
       "    }\n",
       "\n",
       "    .dataframe tbody tr th {\n",
       "        vertical-align: top;\n",
       "    }\n",
       "\n",
       "    .dataframe thead th {\n",
       "        text-align: right;\n",
       "    }\n",
       "</style>\n",
       "<table border=\"1\" class=\"dataframe\">\n",
       "  <thead>\n",
       "    <tr style=\"text-align: right;\">\n",
       "      <th></th>\n",
       "      <th>respondent</th>\n",
       "      <th>year</th>\n",
       "      <th>country</th>\n",
       "      <th>compensation</th>\n",
       "    </tr>\n",
       "  </thead>\n",
       "  <tbody>\n",
       "    <tr>\n",
       "      <th>0</th>\n",
       "      <td>3</td>\n",
       "      <td>2018</td>\n",
       "      <td>United Kingdom</td>\n",
       "      <td>70841.0</td>\n",
       "    </tr>\n",
       "    <tr>\n",
       "      <th>1</th>\n",
       "      <td>7</td>\n",
       "      <td>2018</td>\n",
       "      <td>South Africa</td>\n",
       "      <td>21426.0</td>\n",
       "    </tr>\n",
       "    <tr>\n",
       "      <th>2</th>\n",
       "      <td>8</td>\n",
       "      <td>2018</td>\n",
       "      <td>United Kingdom</td>\n",
       "      <td>41671.0</td>\n",
       "    </tr>\n",
       "    <tr>\n",
       "      <th>3</th>\n",
       "      <td>9</td>\n",
       "      <td>2018</td>\n",
       "      <td>United States</td>\n",
       "      <td>120000.0</td>\n",
       "    </tr>\n",
       "    <tr>\n",
       "      <th>4</th>\n",
       "      <td>11</td>\n",
       "      <td>2018</td>\n",
       "      <td>United States</td>\n",
       "      <td>250000.0</td>\n",
       "    </tr>\n",
       "  </tbody>\n",
       "</table>\n",
       "</div>"
      ],
      "text/plain": [
       "  respondent  year         country  compensation\n",
       "0          3  2018  United Kingdom       70841.0\n",
       "1          7  2018    South Africa       21426.0\n",
       "2          8  2018  United Kingdom       41671.0\n",
       "3          9  2018   United States      120000.0\n",
       "4         11  2018   United States      250000.0"
      ]
     },
     "execution_count": 93,
     "metadata": {},
     "output_type": "execute_result"
    }
   ],
   "source": [
    "concat_compensation_df.head()"
   ]
  },
  {
   "cell_type": "markdown",
   "metadata": {},
   "source": [
    "### Merging developer type and compensation features "
   ]
  },
  {
   "cell_type": "code",
   "execution_count": 94,
   "metadata": {},
   "outputs": [],
   "source": [
    "compensation_dev_type_df = pd.merge(\n",
    "    concat_compensation_df, concat_dev_type_encode_feature, \n",
    "    on=['respondent', 'year'], \n",
    "    how='inner'\n",
    ")"
   ]
  },
  {
   "cell_type": "code",
   "execution_count": 95,
   "metadata": {},
   "outputs": [
    {
     "data": {
      "text/html": [
       "<div>\n",
       "<style scoped>\n",
       "    .dataframe tbody tr th:only-of-type {\n",
       "        vertical-align: middle;\n",
       "    }\n",
       "\n",
       "    .dataframe tbody tr th {\n",
       "        vertical-align: top;\n",
       "    }\n",
       "\n",
       "    .dataframe thead th {\n",
       "        text-align: right;\n",
       "    }\n",
       "</style>\n",
       "<table border=\"1\" class=\"dataframe\">\n",
       "  <thead>\n",
       "    <tr style=\"text-align: right;\">\n",
       "      <th></th>\n",
       "      <th>respondent</th>\n",
       "      <th>year</th>\n",
       "      <th>country</th>\n",
       "      <th>compensation</th>\n",
       "      <th>Developer, back-end</th>\n",
       "      <th>Developer, front-end</th>\n",
       "      <th>Developer, full-stack</th>\n",
       "      <th>Developer, mobile</th>\n",
       "      <th>Developer, desktop or enterprise applications</th>\n",
       "      <th>DevOps specialist</th>\n",
       "      <th>Database administrator</th>\n",
       "      <th>System administrator</th>\n",
       "      <th>Data scientist or machine learning specialist</th>\n",
       "      <th>Data or business analyst</th>\n",
       "      <th>Engineering manager</th>\n",
       "      <th>Product manager</th>\n",
       "      <th>Designer</th>\n",
       "    </tr>\n",
       "  </thead>\n",
       "  <tbody>\n",
       "    <tr>\n",
       "      <th>0</th>\n",
       "      <td>3</td>\n",
       "      <td>2018</td>\n",
       "      <td>United Kingdom</td>\n",
       "      <td>70841.0</td>\n",
       "      <td>0</td>\n",
       "      <td>0</td>\n",
       "      <td>1</td>\n",
       "      <td>0</td>\n",
       "      <td>0</td>\n",
       "      <td>1</td>\n",
       "      <td>1</td>\n",
       "      <td>1</td>\n",
       "      <td>0</td>\n",
       "      <td>0</td>\n",
       "      <td>0</td>\n",
       "      <td>0</td>\n",
       "      <td>0</td>\n",
       "    </tr>\n",
       "    <tr>\n",
       "      <th>1</th>\n",
       "      <td>7</td>\n",
       "      <td>2018</td>\n",
       "      <td>South Africa</td>\n",
       "      <td>21426.0</td>\n",
       "      <td>0</td>\n",
       "      <td>0</td>\n",
       "      <td>0</td>\n",
       "      <td>0</td>\n",
       "      <td>1</td>\n",
       "      <td>0</td>\n",
       "      <td>0</td>\n",
       "      <td>0</td>\n",
       "      <td>0</td>\n",
       "      <td>1</td>\n",
       "      <td>0</td>\n",
       "      <td>0</td>\n",
       "      <td>0</td>\n",
       "    </tr>\n",
       "    <tr>\n",
       "      <th>2</th>\n",
       "      <td>8</td>\n",
       "      <td>2018</td>\n",
       "      <td>United Kingdom</td>\n",
       "      <td>41671.0</td>\n",
       "      <td>1</td>\n",
       "      <td>1</td>\n",
       "      <td>1</td>\n",
       "      <td>0</td>\n",
       "      <td>0</td>\n",
       "      <td>0</td>\n",
       "      <td>1</td>\n",
       "      <td>0</td>\n",
       "      <td>0</td>\n",
       "      <td>0</td>\n",
       "      <td>0</td>\n",
       "      <td>0</td>\n",
       "      <td>0</td>\n",
       "    </tr>\n",
       "    <tr>\n",
       "      <th>3</th>\n",
       "      <td>9</td>\n",
       "      <td>2018</td>\n",
       "      <td>United States</td>\n",
       "      <td>120000.0</td>\n",
       "      <td>1</td>\n",
       "      <td>1</td>\n",
       "      <td>1</td>\n",
       "      <td>0</td>\n",
       "      <td>0</td>\n",
       "      <td>0</td>\n",
       "      <td>0</td>\n",
       "      <td>0</td>\n",
       "      <td>0</td>\n",
       "      <td>0</td>\n",
       "      <td>0</td>\n",
       "      <td>0</td>\n",
       "      <td>0</td>\n",
       "    </tr>\n",
       "    <tr>\n",
       "      <th>4</th>\n",
       "      <td>11</td>\n",
       "      <td>2018</td>\n",
       "      <td>United States</td>\n",
       "      <td>250000.0</td>\n",
       "      <td>1</td>\n",
       "      <td>0</td>\n",
       "      <td>1</td>\n",
       "      <td>0</td>\n",
       "      <td>0</td>\n",
       "      <td>1</td>\n",
       "      <td>1</td>\n",
       "      <td>1</td>\n",
       "      <td>0</td>\n",
       "      <td>1</td>\n",
       "      <td>1</td>\n",
       "      <td>0</td>\n",
       "      <td>0</td>\n",
       "    </tr>\n",
       "  </tbody>\n",
       "</table>\n",
       "</div>"
      ],
      "text/plain": [
       "  respondent  year         country  compensation  Developer, back-end  \\\n",
       "0          3  2018  United Kingdom       70841.0                    0   \n",
       "1          7  2018    South Africa       21426.0                    0   \n",
       "2          8  2018  United Kingdom       41671.0                    1   \n",
       "3          9  2018   United States      120000.0                    1   \n",
       "4         11  2018   United States      250000.0                    1   \n",
       "\n",
       "   Developer, front-end  Developer, full-stack  Developer, mobile  \\\n",
       "0                     0                      1                  0   \n",
       "1                     0                      0                  0   \n",
       "2                     1                      1                  0   \n",
       "3                     1                      1                  0   \n",
       "4                     0                      1                  0   \n",
       "\n",
       "   Developer, desktop or enterprise applications  DevOps specialist  \\\n",
       "0                                              0                  1   \n",
       "1                                              1                  0   \n",
       "2                                              0                  0   \n",
       "3                                              0                  0   \n",
       "4                                              0                  1   \n",
       "\n",
       "   Database administrator  System administrator  \\\n",
       "0                       1                     1   \n",
       "1                       0                     0   \n",
       "2                       1                     0   \n",
       "3                       0                     0   \n",
       "4                       1                     1   \n",
       "\n",
       "   Data scientist or machine learning specialist  Data or business analyst  \\\n",
       "0                                              0                         0   \n",
       "1                                              0                         1   \n",
       "2                                              0                         0   \n",
       "3                                              0                         0   \n",
       "4                                              0                         1   \n",
       "\n",
       "   Engineering manager  Product manager  Designer  \n",
       "0                    0                0         0  \n",
       "1                    0                0         0  \n",
       "2                    0                0         0  \n",
       "3                    0                0         0  \n",
       "4                    1                0         0  "
      ]
     },
     "execution_count": 95,
     "metadata": {},
     "output_type": "execute_result"
    }
   ],
   "source": [
    "compensation_dev_type_df.head()"
   ]
  },
  {
   "cell_type": "markdown",
   "metadata": {},
   "source": [
    "### Viz - Compensation per DevType Density Estimation"
   ]
  },
  {
   "cell_type": "code",
   "execution_count": 18,
   "metadata": {},
   "outputs": [],
   "source": [
    "compensation_dev_type_df['compensation_k'] = compensation_dev_type_df.compensation / 1000"
   ]
  },
  {
   "cell_type": "code",
   "execution_count": 47,
   "metadata": {},
   "outputs": [],
   "source": [
    "dash_type = ['longdashdot', 'dash', 'dashdot', 'longdash']\n",
    "years = year_range\n",
    "\n",
    "def create_kde_per_devtype(dev_type_compensation_df):\n",
    "    fig, ax = plt.subplots()\n",
    "    dev_type_compensation_df.groupby('year').compensation_k.plot.kde(ax=ax);\n",
    "    # prevent from displaying plot\n",
    "    plt.close();\n",
    "\n",
    "    # create fig \n",
    "    fig = go.Figure()\n",
    "    for i, line in enumerate(ax.get_lines()):\n",
    "        x, y = line.get_data()\n",
    "        x_in_range = np.round(x[(x>0) & (x<200)], 1)\n",
    "        y_in_range = np.round(y[(x>0) & (x<200)], 4)\n",
    "\n",
    "        fig.add_trace(go.Scatter(\n",
    "            x=x_in_range, y=y_in_range, name=years[i],\n",
    "            line=dict(dash=dash_type[i]), \n",
    "        ))\n",
    "\n",
    "    return fig\n",
    "\n",
    "def update_kde_layout(fig, devtype):\n",
    "    fig.update_layout(\n",
    "        yaxis=dict(\n",
    "            title='Probability Density',\n",
    "            zeroline=False,\n",
    "            ticks=\"outside\", \n",
    "            tickcolor='white', \n",
    "            ticklen=8,\n",
    "            range=[0, 0.012]\n",
    "        ),\n",
    "        xaxis=dict(\n",
    "            title='Compensation (USD)',\n",
    "            ticksuffix=\"k\",\n",
    "        ),\n",
    "        title=dict(\n",
    "            text= f\"Annual Compensation Density Estimation:<br>{selected_dev_type_columns[devtype]}\",\n",
    "            x=0.5,\n",
    "            xanchor='center',\n",
    "            yanchor='top'\n",
    "        ),\n",
    "    )\n",
    "    \n",
    "    fig.update_traces(\n",
    "        hovertemplate='Compensation: %{x}'\n",
    "    )\n",
    "    \n",
    "    return fig"
   ]
  },
  {
   "cell_type": "code",
   "execution_count": 56,
   "metadata": {},
   "outputs": [
    {
     "data": {
      "application/vnd.plotly.v1+json": {
       "config": {
        "plotlyServerURL": "https://plotly.com"
       },
       "data": [
        {
         "hovertemplate": "Compensation: %{x}",
         "line": {
          "dash": "longdashdot"
         },
         "name": "2018",
         "type": "scatter",
         "x": [
          0.2,
          0.9,
          1.5,
          2.2,
          2.9,
          3.6,
          4.3,
          4.9,
          5.6,
          6.3,
          7,
          7.7,
          8.3,
          9,
          9.7,
          10.4,
          11.1,
          11.7,
          12.4,
          13.1,
          13.8,
          14.5,
          15.1,
          15.8,
          16.5,
          17.2,
          17.9,
          18.5,
          19.2,
          19.9,
          20.6,
          21.3,
          21.9,
          22.6,
          23.3,
          24,
          24.7,
          25.3,
          26,
          26.7,
          27.4,
          28.1,
          28.7,
          29.4,
          30.1,
          30.8,
          31.5,
          32.1,
          32.8,
          33.5,
          34.2,
          34.9,
          35.5,
          36.2,
          36.9,
          37.6,
          38.3,
          38.9,
          39.6,
          40.3,
          41,
          41.7,
          42.3,
          43,
          43.7,
          44.4,
          45.1,
          45.7,
          46.4,
          47.1,
          47.8,
          48.5,
          49.1,
          49.8,
          50.5,
          51.2,
          51.9,
          52.5,
          53.2,
          53.9,
          54.6,
          55.3,
          55.9,
          56.6,
          57.3,
          58,
          58.7,
          59.3,
          60,
          60.7,
          61.4,
          62.1,
          62.7,
          63.4,
          64.1,
          64.8,
          65.5,
          66.1,
          66.8,
          67.5,
          68.2,
          68.9,
          69.5,
          70.2,
          70.9,
          71.6,
          72.3,
          72.9,
          73.6,
          74.3,
          75,
          75.7,
          76.3,
          77,
          77.7,
          78.4,
          79.1,
          79.7,
          80.4,
          81.1,
          81.8,
          82.5,
          83.1,
          83.8,
          84.5,
          85.2,
          85.9,
          86.5,
          87.2,
          87.9,
          88.6,
          89.3,
          89.9,
          90.6,
          91.3,
          92,
          92.7,
          93.3,
          94,
          94.7,
          95.4,
          96.1,
          96.7,
          97.4,
          98.1,
          98.8,
          99.5,
          100.1,
          100.8,
          101.5,
          102.2,
          102.9,
          103.5,
          104.2,
          104.9,
          105.6,
          106.3,
          106.9,
          107.6,
          108.3,
          109,
          109.7,
          110.3,
          111,
          111.7,
          112.4,
          113.1,
          113.7,
          114.4,
          115.1,
          115.8,
          116.5,
          117.1,
          117.8,
          118.5,
          119.2,
          119.9,
          120.5,
          121.2,
          121.9,
          122.6,
          123.3,
          123.9,
          124.6,
          125.3,
          126,
          126.7,
          127.3,
          128,
          128.7,
          129.4,
          130.1,
          130.7,
          131.4,
          132.1,
          132.8,
          133.5,
          134.1,
          134.8,
          135.5,
          136.2,
          136.9,
          137.5,
          138.2,
          138.9,
          139.6,
          140.3,
          140.9,
          141.6,
          142.3,
          143,
          143.7,
          144.3,
          145,
          145.7,
          146.4,
          147.1,
          147.7,
          148.4,
          149.1,
          149.8,
          150.5,
          151.1,
          151.8,
          152.5,
          153.2,
          153.9,
          154.5,
          155.2,
          155.9,
          156.6,
          157.3,
          157.9,
          158.6,
          159.3,
          160,
          160.7,
          161.3,
          162,
          162.7,
          163.4,
          164.1,
          164.7,
          165.4,
          166.1,
          166.8,
          167.5,
          168.1,
          168.8,
          169.5,
          170.2,
          170.9,
          171.5,
          172.2,
          172.9,
          173.6,
          174.3,
          174.9,
          175.6,
          176.3,
          177,
          177.7,
          178.3,
          179,
          179.7,
          180.4,
          181.1,
          181.7,
          182.4,
          183.1,
          183.8,
          184.5,
          185.1,
          185.8,
          186.5,
          187.2,
          187.9,
          188.5,
          189.2,
          189.9,
          190.6,
          191.3,
          191.9,
          192.6,
          193.3,
          194,
          194.7,
          195.3,
          196,
          196.7,
          197.4,
          198.1,
          198.7,
          199.4
         ],
         "y": [
          0.0029,
          0.003,
          0.0032,
          0.0034,
          0.0036,
          0.0038,
          0.004,
          0.0041,
          0.0043,
          0.0045,
          0.0046,
          0.0048,
          0.0049,
          0.005,
          0.0052,
          0.0053,
          0.0054,
          0.0055,
          0.0056,
          0.0057,
          0.0058,
          0.0058,
          0.0059,
          0.006,
          0.006,
          0.0061,
          0.0061,
          0.0062,
          0.0062,
          0.0063,
          0.0063,
          0.0063,
          0.0064,
          0.0064,
          0.0064,
          0.0065,
          0.0065,
          0.0065,
          0.0066,
          0.0066,
          0.0066,
          0.0067,
          0.0067,
          0.0068,
          0.0068,
          0.0068,
          0.0069,
          0.0069,
          0.0069,
          0.007,
          0.007,
          0.0071,
          0.0071,
          0.0072,
          0.0072,
          0.0072,
          0.0073,
          0.0073,
          0.0074,
          0.0074,
          0.0075,
          0.0075,
          0.0076,
          0.0076,
          0.0077,
          0.0077,
          0.0078,
          0.0078,
          0.0079,
          0.0079,
          0.008,
          0.008,
          0.0081,
          0.0082,
          0.0082,
          0.0083,
          0.0083,
          0.0084,
          0.0084,
          0.0084,
          0.0085,
          0.0085,
          0.0086,
          0.0086,
          0.0086,
          0.0087,
          0.0087,
          0.0087,
          0.0087,
          0.0087,
          0.0087,
          0.0088,
          0.0088,
          0.0088,
          0.0088,
          0.0087,
          0.0087,
          0.0087,
          0.0087,
          0.0087,
          0.0087,
          0.0087,
          0.0086,
          0.0086,
          0.0086,
          0.0085,
          0.0085,
          0.0085,
          0.0084,
          0.0084,
          0.0083,
          0.0083,
          0.0082,
          0.0082,
          0.0081,
          0.0081,
          0.008,
          0.008,
          0.0079,
          0.0078,
          0.0077,
          0.0077,
          0.0076,
          0.0075,
          0.0075,
          0.0074,
          0.0073,
          0.0072,
          0.0071,
          0.0071,
          0.007,
          0.0069,
          0.0068,
          0.0068,
          0.0067,
          0.0066,
          0.0065,
          0.0065,
          0.0064,
          0.0063,
          0.0062,
          0.0062,
          0.0061,
          0.006,
          0.006,
          0.0059,
          0.0058,
          0.0058,
          0.0057,
          0.0057,
          0.0056,
          0.0055,
          0.0055,
          0.0054,
          0.0054,
          0.0053,
          0.0053,
          0.0052,
          0.0052,
          0.0051,
          0.0051,
          0.005,
          0.005,
          0.0049,
          0.0049,
          0.0048,
          0.0048,
          0.0047,
          0.0047,
          0.0047,
          0.0046,
          0.0046,
          0.0045,
          0.0045,
          0.0044,
          0.0044,
          0.0043,
          0.0042,
          0.0042,
          0.0041,
          0.0041,
          0.004,
          0.0039,
          0.0039,
          0.0038,
          0.0038,
          0.0037,
          0.0036,
          0.0036,
          0.0035,
          0.0034,
          0.0034,
          0.0033,
          0.0033,
          0.0032,
          0.0032,
          0.0031,
          0.0031,
          0.003,
          0.003,
          0.0029,
          0.0029,
          0.0029,
          0.0028,
          0.0028,
          0.0028,
          0.0027,
          0.0027,
          0.0027,
          0.0027,
          0.0026,
          0.0026,
          0.0026,
          0.0026,
          0.0025,
          0.0025,
          0.0025,
          0.0025,
          0.0024,
          0.0024,
          0.0024,
          0.0023,
          0.0023,
          0.0022,
          0.0022,
          0.0022,
          0.0021,
          0.0021,
          0.002,
          0.002,
          0.0019,
          0.0019,
          0.0019,
          0.0018,
          0.0018,
          0.0017,
          0.0017,
          0.0016,
          0.0016,
          0.0016,
          0.0015,
          0.0015,
          0.0014,
          0.0014,
          0.0014,
          0.0013,
          0.0013,
          0.0013,
          0.0013,
          0.0012,
          0.0012,
          0.0012,
          0.0012,
          0.0012,
          0.0011,
          0.0011,
          0.0011,
          0.0011,
          0.0011,
          0.0011,
          0.001,
          0.001,
          0.001,
          0.001,
          0.001,
          0.0009,
          0.0009,
          0.0009,
          0.0009,
          0.0009,
          0.0008,
          0.0008,
          0.0008,
          0.0008,
          0.0008,
          0.0008,
          0.0007,
          0.0007,
          0.0007,
          0.0007,
          0.0007,
          0.0006,
          0.0006,
          0.0006,
          0.0006,
          0.0006,
          0.0006,
          0.0006,
          0.0006,
          0.0005,
          0.0005,
          0.0005,
          0.0005,
          0.0005
         ]
        },
        {
         "hovertemplate": "Compensation: %{x}",
         "line": {
          "dash": "dash"
         },
         "name": "2019",
         "type": "scatter",
         "x": [
          0.2,
          1.1,
          1.9,
          2.8,
          3.6,
          4.5,
          5.3,
          6.2,
          7,
          7.9,
          8.7,
          9.6,
          10.5,
          11.3,
          12.2,
          13,
          13.9,
          14.7,
          15.6,
          16.4,
          17.3,
          18.1,
          19,
          19.8,
          20.7,
          21.5,
          22.4,
          23.3,
          24.1,
          25,
          25.8,
          26.7,
          27.5,
          28.4,
          29.2,
          30.1,
          30.9,
          31.8,
          32.6,
          33.5,
          34.3,
          35.2,
          36.1,
          36.9,
          37.8,
          38.6,
          39.5,
          40.3,
          41.2,
          42,
          42.9,
          43.7,
          44.6,
          45.4,
          46.3,
          47.1,
          48,
          48.9,
          49.7,
          50.6,
          51.4,
          52.3,
          53.1,
          54,
          54.8,
          55.7,
          56.5,
          57.4,
          58.2,
          59.1,
          59.9,
          60.8,
          61.6,
          62.5,
          63.4,
          64.2,
          65.1,
          65.9,
          66.8,
          67.6,
          68.5,
          69.3,
          70.2,
          71,
          71.9,
          72.7,
          73.6,
          74.4,
          75.3,
          76.2,
          77,
          77.9,
          78.7,
          79.6,
          80.4,
          81.3,
          82.1,
          83,
          83.8,
          84.7,
          85.5,
          86.4,
          87.2,
          88.1,
          89,
          89.8,
          90.7,
          91.5,
          92.4,
          93.2,
          94.1,
          94.9,
          95.8,
          96.6,
          97.5,
          98.3,
          99.2,
          100,
          100.9,
          101.8,
          102.6,
          103.5,
          104.3,
          105.2,
          106,
          106.9,
          107.7,
          108.6,
          109.4,
          110.3,
          111.1,
          112,
          112.8,
          113.7,
          114.6,
          115.4,
          116.3,
          117.1,
          118,
          118.8,
          119.7,
          120.5,
          121.4,
          122.2,
          123.1,
          123.9,
          124.8,
          125.6,
          126.5,
          127.4,
          128.2,
          129.1,
          129.9,
          130.8,
          131.6,
          132.5,
          133.3,
          134.2,
          135,
          135.9,
          136.7,
          137.6,
          138.4,
          139.3,
          140.2,
          141,
          141.9,
          142.7,
          143.6,
          144.4,
          145.3,
          146.1,
          147,
          147.8,
          148.7,
          149.5,
          150.4,
          151.2,
          152.1,
          153,
          153.8,
          154.7,
          155.5,
          156.4,
          157.2,
          158.1,
          158.9,
          159.8,
          160.6,
          161.5,
          162.3,
          163.2,
          164,
          164.9,
          165.8,
          166.6,
          167.5,
          168.3,
          169.2,
          170,
          170.9,
          171.7,
          172.6,
          173.4,
          174.3,
          175.1,
          176,
          176.8,
          177.7,
          178.5,
          179.4,
          180.3,
          181.1,
          182,
          182.8,
          183.7,
          184.5,
          185.4,
          186.2,
          187.1,
          187.9,
          188.8,
          189.6,
          190.5,
          191.3,
          192.2,
          193.1,
          193.9,
          194.8,
          195.6,
          196.5,
          197.3,
          198.2,
          199,
          199.9
         ],
         "y": [
          0.0032,
          0.0034,
          0.0036,
          0.0039,
          0.0041,
          0.0043,
          0.0046,
          0.0048,
          0.005,
          0.0052,
          0.0054,
          0.0056,
          0.0058,
          0.006,
          0.0061,
          0.0063,
          0.0064,
          0.0065,
          0.0067,
          0.0068,
          0.0069,
          0.0069,
          0.007,
          0.0071,
          0.0071,
          0.0072,
          0.0072,
          0.0073,
          0.0073,
          0.0073,
          0.0073,
          0.0074,
          0.0074,
          0.0074,
          0.0074,
          0.0074,
          0.0075,
          0.0075,
          0.0075,
          0.0075,
          0.0075,
          0.0076,
          0.0076,
          0.0076,
          0.0076,
          0.0077,
          0.0077,
          0.0077,
          0.0078,
          0.0078,
          0.0079,
          0.0079,
          0.0079,
          0.008,
          0.008,
          0.008,
          0.0081,
          0.0081,
          0.0081,
          0.0082,
          0.0082,
          0.0082,
          0.0082,
          0.0082,
          0.0083,
          0.0083,
          0.0083,
          0.0083,
          0.0083,
          0.0083,
          0.0083,
          0.0083,
          0.0082,
          0.0082,
          0.0082,
          0.0082,
          0.0082,
          0.0081,
          0.0081,
          0.0081,
          0.0081,
          0.008,
          0.008,
          0.008,
          0.0079,
          0.0079,
          0.0078,
          0.0078,
          0.0077,
          0.0076,
          0.0076,
          0.0075,
          0.0075,
          0.0074,
          0.0073,
          0.0072,
          0.0071,
          0.0071,
          0.007,
          0.0069,
          0.0068,
          0.0067,
          0.0066,
          0.0065,
          0.0064,
          0.0063,
          0.0062,
          0.0061,
          0.006,
          0.0059,
          0.0058,
          0.0057,
          0.0056,
          0.0055,
          0.0054,
          0.0054,
          0.0053,
          0.0052,
          0.0051,
          0.005,
          0.005,
          0.0049,
          0.0048,
          0.0047,
          0.0047,
          0.0046,
          0.0045,
          0.0045,
          0.0044,
          0.0044,
          0.0043,
          0.0043,
          0.0042,
          0.0042,
          0.0041,
          0.0041,
          0.004,
          0.004,
          0.0039,
          0.0039,
          0.0038,
          0.0038,
          0.0037,
          0.0037,
          0.0036,
          0.0036,
          0.0035,
          0.0035,
          0.0034,
          0.0034,
          0.0033,
          0.0033,
          0.0032,
          0.0032,
          0.0031,
          0.0031,
          0.003,
          0.003,
          0.0029,
          0.0029,
          0.0028,
          0.0028,
          0.0027,
          0.0027,
          0.0026,
          0.0026,
          0.0025,
          0.0025,
          0.0024,
          0.0024,
          0.0023,
          0.0023,
          0.0023,
          0.0022,
          0.0022,
          0.0021,
          0.0021,
          0.002,
          0.002,
          0.002,
          0.0019,
          0.0019,
          0.0018,
          0.0018,
          0.0017,
          0.0017,
          0.0017,
          0.0016,
          0.0016,
          0.0015,
          0.0015,
          0.0015,
          0.0014,
          0.0014,
          0.0014,
          0.0014,
          0.0013,
          0.0013,
          0.0013,
          0.0013,
          0.0012,
          0.0012,
          0.0012,
          0.0012,
          0.0011,
          0.0011,
          0.0011,
          0.0011,
          0.0011,
          0.001,
          0.001,
          0.001,
          0.001,
          0.001,
          0.0009,
          0.0009,
          0.0009,
          0.0009,
          0.0009,
          0.0008,
          0.0008,
          0.0008,
          0.0008,
          0.0008,
          0.0008,
          0.0008,
          0.0007,
          0.0007,
          0.0007,
          0.0007,
          0.0007,
          0.0007,
          0.0007,
          0.0007,
          0.0007
         ]
        },
        {
         "hovertemplate": "Compensation: %{x}",
         "line": {
          "dash": "dashdot"
         },
         "name": "2020",
         "type": "scatter",
         "x": [
          0.2,
          0.9,
          1.7,
          2.5,
          3.2,
          4,
          4.7,
          5.5,
          6.2,
          7,
          7.8,
          8.5,
          9.3,
          10,
          10.8,
          11.6,
          12.3,
          13.1,
          13.8,
          14.6,
          15.3,
          16.1,
          16.9,
          17.6,
          18.4,
          19.1,
          19.9,
          20.6,
          21.4,
          22.2,
          22.9,
          23.7,
          24.4,
          25.2,
          25.9,
          26.7,
          27.5,
          28.2,
          29,
          29.7,
          30.5,
          31.2,
          32,
          32.8,
          33.5,
          34.3,
          35,
          35.8,
          36.5,
          37.3,
          38.1,
          38.8,
          39.6,
          40.3,
          41.1,
          41.8,
          42.6,
          43.4,
          44.1,
          44.9,
          45.6,
          46.4,
          47.2,
          47.9,
          48.7,
          49.4,
          50.2,
          50.9,
          51.7,
          52.5,
          53.2,
          54,
          54.7,
          55.5,
          56.2,
          57,
          57.8,
          58.5,
          59.3,
          60,
          60.8,
          61.5,
          62.3,
          63.1,
          63.8,
          64.6,
          65.3,
          66.1,
          66.8,
          67.6,
          68.4,
          69.1,
          69.9,
          70.6,
          71.4,
          72.1,
          72.9,
          73.7,
          74.4,
          75.2,
          75.9,
          76.7,
          77.4,
          78.2,
          79,
          79.7,
          80.5,
          81.2,
          82,
          82.8,
          83.5,
          84.3,
          85,
          85.8,
          86.5,
          87.3,
          88.1,
          88.8,
          89.6,
          90.3,
          91.1,
          91.8,
          92.6,
          93.4,
          94.1,
          94.9,
          95.6,
          96.4,
          97.1,
          97.9,
          98.7,
          99.4,
          100.2,
          100.9,
          101.7,
          102.4,
          103.2,
          104,
          104.7,
          105.5,
          106.2,
          107,
          107.7,
          108.5,
          109.3,
          110,
          110.8,
          111.5,
          112.3,
          113,
          113.8,
          114.6,
          115.3,
          116.1,
          116.8,
          117.6,
          118.4,
          119.1,
          119.9,
          120.6,
          121.4,
          122.1,
          122.9,
          123.7,
          124.4,
          125.2,
          125.9,
          126.7,
          127.4,
          128.2,
          129,
          129.7,
          130.5,
          131.2,
          132,
          132.7,
          133.5,
          134.3,
          135,
          135.8,
          136.5,
          137.3,
          138,
          138.8,
          139.6,
          140.3,
          141.1,
          141.8,
          142.6,
          143.3,
          144.1,
          144.9,
          145.6,
          146.4,
          147.1,
          147.9,
          148.6,
          149.4,
          150.2,
          150.9,
          151.7,
          152.4,
          153.2,
          154,
          154.7,
          155.5,
          156.2,
          157,
          157.7,
          158.5,
          159.3,
          160,
          160.8,
          161.5,
          162.3,
          163,
          163.8,
          164.6,
          165.3,
          166.1,
          166.8,
          167.6,
          168.3,
          169.1,
          169.9,
          170.6,
          171.4,
          172.1,
          172.9,
          173.6,
          174.4,
          175.2,
          175.9,
          176.7,
          177.4,
          178.2,
          178.9,
          179.7,
          180.5,
          181.2,
          182,
          182.7,
          183.5,
          184.2,
          185,
          185.8,
          186.5,
          187.3,
          188,
          188.8,
          189.6,
          190.3,
          191.1,
          191.8,
          192.6,
          193.3,
          194.1,
          194.9,
          195.6,
          196.4,
          197.1,
          197.9,
          198.6,
          199.4
         ],
         "y": [
          0.0031,
          0.0033,
          0.0035,
          0.0037,
          0.0039,
          0.0041,
          0.0043,
          0.0045,
          0.0047,
          0.0049,
          0.0051,
          0.0052,
          0.0054,
          0.0055,
          0.0057,
          0.0058,
          0.006,
          0.0061,
          0.0062,
          0.0063,
          0.0064,
          0.0065,
          0.0066,
          0.0066,
          0.0067,
          0.0068,
          0.0068,
          0.0069,
          0.0069,
          0.007,
          0.007,
          0.0071,
          0.0071,
          0.0072,
          0.0072,
          0.0072,
          0.0073,
          0.0073,
          0.0074,
          0.0074,
          0.0074,
          0.0075,
          0.0075,
          0.0076,
          0.0076,
          0.0077,
          0.0077,
          0.0078,
          0.0079,
          0.0079,
          0.008,
          0.008,
          0.0081,
          0.0081,
          0.0082,
          0.0082,
          0.0083,
          0.0083,
          0.0083,
          0.0084,
          0.0084,
          0.0084,
          0.0085,
          0.0085,
          0.0085,
          0.0085,
          0.0085,
          0.0086,
          0.0086,
          0.0086,
          0.0086,
          0.0086,
          0.0086,
          0.0086,
          0.0085,
          0.0085,
          0.0085,
          0.0085,
          0.0085,
          0.0085,
          0.0084,
          0.0084,
          0.0084,
          0.0083,
          0.0083,
          0.0082,
          0.0082,
          0.0082,
          0.0081,
          0.0081,
          0.008,
          0.008,
          0.0079,
          0.0078,
          0.0078,
          0.0077,
          0.0077,
          0.0076,
          0.0075,
          0.0075,
          0.0074,
          0.0073,
          0.0073,
          0.0072,
          0.0071,
          0.0071,
          0.007,
          0.0069,
          0.0069,
          0.0068,
          0.0067,
          0.0067,
          0.0066,
          0.0065,
          0.0064,
          0.0064,
          0.0063,
          0.0062,
          0.0061,
          0.006,
          0.006,
          0.0059,
          0.0058,
          0.0057,
          0.0056,
          0.0056,
          0.0055,
          0.0054,
          0.0053,
          0.0053,
          0.0052,
          0.0051,
          0.005,
          0.005,
          0.0049,
          0.0048,
          0.0048,
          0.0047,
          0.0046,
          0.0046,
          0.0045,
          0.0045,
          0.0044,
          0.0044,
          0.0043,
          0.0043,
          0.0042,
          0.0042,
          0.0042,
          0.0041,
          0.0041,
          0.0041,
          0.004,
          0.004,
          0.004,
          0.0039,
          0.0039,
          0.0039,
          0.0038,
          0.0038,
          0.0038,
          0.0037,
          0.0037,
          0.0037,
          0.0036,
          0.0036,
          0.0035,
          0.0035,
          0.0035,
          0.0034,
          0.0034,
          0.0033,
          0.0032,
          0.0032,
          0.0031,
          0.0031,
          0.003,
          0.003,
          0.0029,
          0.0029,
          0.0028,
          0.0028,
          0.0027,
          0.0027,
          0.0026,
          0.0026,
          0.0025,
          0.0025,
          0.0024,
          0.0024,
          0.0024,
          0.0023,
          0.0023,
          0.0023,
          0.0022,
          0.0022,
          0.0022,
          0.0022,
          0.0021,
          0.0021,
          0.0021,
          0.002,
          0.002,
          0.002,
          0.002,
          0.0019,
          0.0019,
          0.0019,
          0.0019,
          0.0018,
          0.0018,
          0.0018,
          0.0017,
          0.0017,
          0.0017,
          0.0017,
          0.0016,
          0.0016,
          0.0016,
          0.0015,
          0.0015,
          0.0015,
          0.0014,
          0.0014,
          0.0014,
          0.0013,
          0.0013,
          0.0013,
          0.0012,
          0.0012,
          0.0012,
          0.0012,
          0.0011,
          0.0011,
          0.0011,
          0.0011,
          0.001,
          0.001,
          0.001,
          0.001,
          0.0009,
          0.0009,
          0.0009,
          0.0009,
          0.0009,
          0.0009,
          0.0009,
          0.0008,
          0.0008,
          0.0008,
          0.0008,
          0.0008,
          0.0008,
          0.0008,
          0.0008,
          0.0008,
          0.0008,
          0.0008,
          0.0008,
          0.0008,
          0.0008,
          0.0007,
          0.0007,
          0.0007
         ]
        }
       ],
       "frames": [
        {
         "data": [
          {
           "hovertemplate": "Compensation: %{x}",
           "line": {
            "dash": "longdashdot"
           },
           "name": "2018",
           "type": "scatter",
           "x": [
            0.2,
            0.9,
            1.5,
            2.2,
            2.9,
            3.6,
            4.3,
            4.9,
            5.6,
            6.3,
            7,
            7.7,
            8.3,
            9,
            9.7,
            10.4,
            11.1,
            11.7,
            12.4,
            13.1,
            13.8,
            14.5,
            15.1,
            15.8,
            16.5,
            17.2,
            17.9,
            18.5,
            19.2,
            19.9,
            20.6,
            21.3,
            22,
            22.6,
            23.3,
            24,
            24.7,
            25.4,
            26,
            26.7,
            27.4,
            28.1,
            28.8,
            29.4,
            30.1,
            30.8,
            31.5,
            32.2,
            32.8,
            33.5,
            34.2,
            34.9,
            35.6,
            36.2,
            36.9,
            37.6,
            38.3,
            39,
            39.6,
            40.3,
            41,
            41.7,
            42.4,
            43.1,
            43.7,
            44.4,
            45.1,
            45.8,
            46.5,
            47.1,
            47.8,
            48.5,
            49.2,
            49.9,
            50.5,
            51.2,
            51.9,
            52.6,
            53.3,
            53.9,
            54.6,
            55.3,
            56,
            56.7,
            57.3,
            58,
            58.7,
            59.4,
            60.1,
            60.8,
            61.4,
            62.1,
            62.8,
            63.5,
            64.2,
            64.8,
            65.5,
            66.2,
            66.9,
            67.6,
            68.2,
            68.9,
            69.6,
            70.3,
            71,
            71.6,
            72.3,
            73,
            73.7,
            74.4,
            75,
            75.7,
            76.4,
            77.1,
            77.8,
            78.4,
            79.1,
            79.8,
            80.5,
            81.2,
            81.9,
            82.5,
            83.2,
            83.9,
            84.6,
            85.3,
            85.9,
            86.6,
            87.3,
            88,
            88.7,
            89.3,
            90,
            90.7,
            91.4,
            92.1,
            92.7,
            93.4,
            94.1,
            94.8,
            95.5,
            96.1,
            96.8,
            97.5,
            98.2,
            98.9,
            99.5,
            100.2,
            100.9,
            101.6,
            102.3,
            103,
            103.6,
            104.3,
            105,
            105.7,
            106.4,
            107,
            107.7,
            108.4,
            109.1,
            109.8,
            110.4,
            111.1,
            111.8,
            112.5,
            113.2,
            113.8,
            114.5,
            115.2,
            115.9,
            116.6,
            117.2,
            117.9,
            118.6,
            119.3,
            120,
            120.7,
            121.3,
            122,
            122.7,
            123.4,
            124.1,
            124.7,
            125.4,
            126.1,
            126.8,
            127.5,
            128.1,
            128.8,
            129.5,
            130.2,
            130.9,
            131.5,
            132.2,
            132.9,
            133.6,
            134.3,
            134.9,
            135.6,
            136.3,
            137,
            137.7,
            138.3,
            139,
            139.7,
            140.4,
            141.1,
            141.8,
            142.4,
            143.1,
            143.8,
            144.5,
            145.2,
            145.8,
            146.5,
            147.2,
            147.9,
            148.6,
            149.2,
            149.9,
            150.6,
            151.3,
            152,
            152.6,
            153.3,
            154,
            154.7,
            155.4,
            156,
            156.7,
            157.4,
            158.1,
            158.8,
            159.4,
            160.1,
            160.8,
            161.5,
            162.2,
            162.9,
            163.5,
            164.2,
            164.9,
            165.6,
            166.3,
            166.9,
            167.6,
            168.3,
            169,
            169.7,
            170.3,
            171,
            171.7,
            172.4,
            173.1,
            173.7,
            174.4,
            175.1,
            175.8,
            176.5,
            177.1,
            177.8,
            178.5,
            179.2,
            179.9,
            180.6,
            181.2,
            181.9,
            182.6,
            183.3,
            184,
            184.6,
            185.3,
            186,
            186.7,
            187.4,
            188,
            188.7,
            189.4,
            190.1,
            190.8,
            191.4,
            192.1,
            192.8,
            193.5,
            194.2,
            194.8,
            195.5,
            196.2,
            196.9,
            197.6,
            198.2,
            198.9,
            199.6
           ],
           "y": [
            0.0062,
            0.0067,
            0.0072,
            0.0076,
            0.008,
            0.0084,
            0.0088,
            0.0091,
            0.0094,
            0.0096,
            0.0098,
            0.01,
            0.0101,
            0.0102,
            0.0103,
            0.0103,
            0.0103,
            0.0102,
            0.0102,
            0.0101,
            0.01,
            0.0099,
            0.0098,
            0.0097,
            0.0096,
            0.0095,
            0.0094,
            0.0093,
            0.0092,
            0.0091,
            0.009,
            0.0089,
            0.0088,
            0.0087,
            0.0087,
            0.0086,
            0.0086,
            0.0085,
            0.0085,
            0.0085,
            0.0085,
            0.0084,
            0.0084,
            0.0084,
            0.0084,
            0.0084,
            0.0084,
            0.0084,
            0.0084,
            0.0084,
            0.0084,
            0.0084,
            0.0084,
            0.0084,
            0.0084,
            0.0085,
            0.0085,
            0.0085,
            0.0085,
            0.0085,
            0.0085,
            0.0085,
            0.0085,
            0.0085,
            0.0085,
            0.0085,
            0.0085,
            0.0085,
            0.0085,
            0.0085,
            0.0085,
            0.0085,
            0.0085,
            0.0084,
            0.0084,
            0.0084,
            0.0084,
            0.0084,
            0.0084,
            0.0084,
            0.0084,
            0.0084,
            0.0084,
            0.0084,
            0.0083,
            0.0083,
            0.0083,
            0.0083,
            0.0083,
            0.0082,
            0.0082,
            0.0081,
            0.0081,
            0.008,
            0.008,
            0.0079,
            0.0079,
            0.0078,
            0.0077,
            0.0077,
            0.0076,
            0.0075,
            0.0075,
            0.0074,
            0.0073,
            0.0072,
            0.0072,
            0.0071,
            0.007,
            0.0069,
            0.0068,
            0.0067,
            0.0066,
            0.0065,
            0.0064,
            0.0063,
            0.0062,
            0.0061,
            0.006,
            0.0059,
            0.0058,
            0.0057,
            0.0056,
            0.0056,
            0.0055,
            0.0054,
            0.0053,
            0.0052,
            0.0052,
            0.0051,
            0.005,
            0.005,
            0.0049,
            0.0049,
            0.0048,
            0.0048,
            0.0048,
            0.0047,
            0.0047,
            0.0047,
            0.0046,
            0.0046,
            0.0046,
            0.0045,
            0.0045,
            0.0045,
            0.0044,
            0.0044,
            0.0043,
            0.0043,
            0.0042,
            0.0042,
            0.0041,
            0.0041,
            0.004,
            0.004,
            0.0039,
            0.0039,
            0.0038,
            0.0038,
            0.0037,
            0.0037,
            0.0036,
            0.0036,
            0.0036,
            0.0035,
            0.0035,
            0.0035,
            0.0035,
            0.0034,
            0.0034,
            0.0034,
            0.0034,
            0.0034,
            0.0033,
            0.0033,
            0.0033,
            0.0033,
            0.0032,
            0.0032,
            0.0031,
            0.0031,
            0.003,
            0.003,
            0.0029,
            0.0029,
            0.0028,
            0.0027,
            0.0027,
            0.0026,
            0.0025,
            0.0025,
            0.0024,
            0.0024,
            0.0023,
            0.0023,
            0.0022,
            0.0022,
            0.0021,
            0.0021,
            0.002,
            0.002,
            0.002,
            0.0019,
            0.0019,
            0.0019,
            0.0019,
            0.0018,
            0.0018,
            0.0018,
            0.0018,
            0.0018,
            0.0017,
            0.0017,
            0.0017,
            0.0017,
            0.0016,
            0.0016,
            0.0016,
            0.0016,
            0.0015,
            0.0015,
            0.0015,
            0.0015,
            0.0014,
            0.0014,
            0.0014,
            0.0013,
            0.0013,
            0.0012,
            0.0012,
            0.0012,
            0.0011,
            0.0011,
            0.0011,
            0.001,
            0.001,
            0.001,
            0.001,
            0.0009,
            0.0009,
            0.0009,
            0.0009,
            0.0008,
            0.0008,
            0.0008,
            0.0008,
            0.0008,
            0.0008,
            0.0007,
            0.0007,
            0.0007,
            0.0007,
            0.0007,
            0.0007,
            0.0007,
            0.0007,
            0.0007,
            0.0007,
            0.0007,
            0.0007,
            0.0006,
            0.0006,
            0.0006,
            0.0006,
            0.0006,
            0.0006,
            0.0006,
            0.0006,
            0.0005,
            0.0005,
            0.0005,
            0.0005,
            0.0005,
            0.0005,
            0.0004,
            0.0004,
            0.0004,
            0.0004,
            0.0004,
            0.0004,
            0.0004,
            0.0004,
            0.0004,
            0.0004,
            0.0004,
            0.0004,
            0.0004,
            0.0004,
            0.0003,
            0.0003,
            0.0003,
            0.0003,
            0.0003
           ]
          },
          {
           "hovertemplate": "Compensation: %{x}",
           "line": {
            "dash": "dash"
           },
           "name": "2019",
           "type": "scatter",
           "x": [
            0.2,
            1.1,
            2,
            2.8,
            3.7,
            4.6,
            5.4,
            6.3,
            7.2,
            8.1,
            8.9,
            9.8,
            10.7,
            11.5,
            12.4,
            13.3,
            14.2,
            15,
            15.9,
            16.8,
            17.6,
            18.5,
            19.4,
            20.3,
            21.1,
            22,
            22.9,
            23.7,
            24.6,
            25.5,
            26.4,
            27.2,
            28.1,
            29,
            29.8,
            30.7,
            31.6,
            32.5,
            33.3,
            34.2,
            35.1,
            35.9,
            36.8,
            37.7,
            38.6,
            39.4,
            40.3,
            41.2,
            42,
            42.9,
            43.8,
            44.7,
            45.5,
            46.4,
            47.3,
            48.1,
            49,
            49.9,
            50.7,
            51.6,
            52.5,
            53.4,
            54.2,
            55.1,
            56,
            56.8,
            57.7,
            58.6,
            59.5,
            60.3,
            61.2,
            62.1,
            62.9,
            63.8,
            64.7,
            65.6,
            66.4,
            67.3,
            68.2,
            69,
            69.9,
            70.8,
            71.7,
            72.5,
            73.4,
            74.3,
            75.1,
            76,
            76.9,
            77.8,
            78.6,
            79.5,
            80.4,
            81.2,
            82.1,
            83,
            83.9,
            84.7,
            85.6,
            86.5,
            87.3,
            88.2,
            89.1,
            90,
            90.8,
            91.7,
            92.6,
            93.4,
            94.3,
            95.2,
            96.1,
            96.9,
            97.8,
            98.7,
            99.5,
            100.4,
            101.3,
            102.2,
            103,
            103.9,
            104.8,
            105.6,
            106.5,
            107.4,
            108.3,
            109.1,
            110,
            110.9,
            111.7,
            112.6,
            113.5,
            114.3,
            115.2,
            116.1,
            117,
            117.8,
            118.7,
            119.6,
            120.4,
            121.3,
            122.2,
            123.1,
            123.9,
            124.8,
            125.7,
            126.5,
            127.4,
            128.3,
            129.2,
            130,
            130.9,
            131.8,
            132.6,
            133.5,
            134.4,
            135.3,
            136.1,
            137,
            137.9,
            138.7,
            139.6,
            140.5,
            141.4,
            142.2,
            143.1,
            144,
            144.8,
            145.7,
            146.6,
            147.5,
            148.3,
            149.2,
            150.1,
            150.9,
            151.8,
            152.7,
            153.6,
            154.4,
            155.3,
            156.2,
            157,
            157.9,
            158.8,
            159.7,
            160.5,
            161.4,
            162.3,
            163.1,
            164,
            164.9,
            165.8,
            166.6,
            167.5,
            168.4,
            169.2,
            170.1,
            171,
            171.9,
            172.7,
            173.6,
            174.5,
            175.3,
            176.2,
            177.1,
            177.9,
            178.8,
            179.7,
            180.6,
            181.4,
            182.3,
            183.2,
            184,
            184.9,
            185.8,
            186.7,
            187.5,
            188.4,
            189.3,
            190.1,
            191,
            191.9,
            192.8,
            193.6,
            194.5,
            195.4,
            196.2,
            197.1,
            198,
            198.9,
            199.7
           ],
           "y": [
            0.0058,
            0.0063,
            0.0068,
            0.0073,
            0.0078,
            0.0083,
            0.0087,
            0.0091,
            0.0094,
            0.0097,
            0.0099,
            0.0101,
            0.0103,
            0.0104,
            0.0104,
            0.0104,
            0.0104,
            0.0104,
            0.0103,
            0.0102,
            0.0101,
            0.01,
            0.0099,
            0.0098,
            0.0097,
            0.0095,
            0.0094,
            0.0093,
            0.0092,
            0.0091,
            0.0091,
            0.009,
            0.0089,
            0.0089,
            0.0088,
            0.0088,
            0.0087,
            0.0087,
            0.0087,
            0.0086,
            0.0086,
            0.0086,
            0.0086,
            0.0085,
            0.0085,
            0.0085,
            0.0085,
            0.0084,
            0.0084,
            0.0084,
            0.0083,
            0.0083,
            0.0083,
            0.0082,
            0.0082,
            0.0082,
            0.0081,
            0.0081,
            0.0081,
            0.008,
            0.008,
            0.008,
            0.0079,
            0.0079,
            0.0079,
            0.0078,
            0.0078,
            0.0078,
            0.0077,
            0.0077,
            0.0076,
            0.0076,
            0.0075,
            0.0074,
            0.0074,
            0.0073,
            0.0072,
            0.0072,
            0.0071,
            0.007,
            0.0069,
            0.0068,
            0.0068,
            0.0067,
            0.0066,
            0.0065,
            0.0064,
            0.0062,
            0.0061,
            0.006,
            0.0059,
            0.0058,
            0.0057,
            0.0056,
            0.0055,
            0.0054,
            0.0053,
            0.0052,
            0.0051,
            0.005,
            0.0049,
            0.0048,
            0.0048,
            0.0047,
            0.0046,
            0.0045,
            0.0045,
            0.0044,
            0.0043,
            0.0043,
            0.0042,
            0.0042,
            0.0041,
            0.004,
            0.004,
            0.0039,
            0.0038,
            0.0038,
            0.0037,
            0.0037,
            0.0036,
            0.0035,
            0.0035,
            0.0034,
            0.0034,
            0.0033,
            0.0033,
            0.0032,
            0.0032,
            0.0031,
            0.0031,
            0.0031,
            0.003,
            0.003,
            0.0029,
            0.0029,
            0.0029,
            0.0028,
            0.0028,
            0.0027,
            0.0027,
            0.0026,
            0.0026,
            0.0026,
            0.0025,
            0.0025,
            0.0024,
            0.0024,
            0.0023,
            0.0023,
            0.0022,
            0.0022,
            0.0021,
            0.0021,
            0.0021,
            0.002,
            0.002,
            0.002,
            0.0019,
            0.0019,
            0.0019,
            0.0018,
            0.0018,
            0.0018,
            0.0018,
            0.0017,
            0.0017,
            0.0017,
            0.0017,
            0.0016,
            0.0016,
            0.0016,
            0.0016,
            0.0015,
            0.0015,
            0.0015,
            0.0015,
            0.0014,
            0.0014,
            0.0014,
            0.0013,
            0.0013,
            0.0013,
            0.0012,
            0.0012,
            0.0012,
            0.0011,
            0.0011,
            0.0011,
            0.0011,
            0.001,
            0.001,
            0.001,
            0.001,
            0.001,
            0.001,
            0.001,
            0.001,
            0.0009,
            0.0009,
            0.0009,
            0.0009,
            0.0009,
            0.0009,
            0.0009,
            0.0009,
            0.0008,
            0.0008,
            0.0008,
            0.0008,
            0.0008,
            0.0007,
            0.0007,
            0.0007,
            0.0007,
            0.0007,
            0.0006,
            0.0006,
            0.0006,
            0.0006,
            0.0006,
            0.0006,
            0.0006,
            0.0006,
            0.0006,
            0.0006,
            0.0006,
            0.0006,
            0.0006,
            0.0006
           ]
          },
          {
           "hovertemplate": "Compensation: %{x}",
           "line": {
            "dash": "dashdot"
           },
           "name": "2020",
           "type": "scatter",
           "x": [
            0.2,
            1,
            1.7,
            2.5,
            3.3,
            4.1,
            4.8,
            5.6,
            6.4,
            7.1,
            7.9,
            8.7,
            9.5,
            10.2,
            11,
            11.8,
            12.5,
            13.3,
            14.1,
            14.9,
            15.6,
            16.4,
            17.2,
            17.9,
            18.7,
            19.5,
            20.3,
            21,
            21.8,
            22.6,
            23.3,
            24.1,
            24.9,
            25.7,
            26.4,
            27.2,
            28,
            28.7,
            29.5,
            30.3,
            31.1,
            31.8,
            32.6,
            33.4,
            34.1,
            34.9,
            35.7,
            36.5,
            37.2,
            38,
            38.8,
            39.5,
            40.3,
            41.1,
            41.9,
            42.6,
            43.4,
            44.2,
            44.9,
            45.7,
            46.5,
            47.3,
            48,
            48.8,
            49.6,
            50.3,
            51.1,
            51.9,
            52.7,
            53.4,
            54.2,
            55,
            55.7,
            56.5,
            57.3,
            58.1,
            58.8,
            59.6,
            60.4,
            61.1,
            61.9,
            62.7,
            63.5,
            64.2,
            65,
            65.8,
            66.5,
            67.3,
            68.1,
            68.9,
            69.6,
            70.4,
            71.2,
            71.9,
            72.7,
            73.5,
            74.3,
            75,
            75.8,
            76.6,
            77.3,
            78.1,
            78.9,
            79.7,
            80.4,
            81.2,
            82,
            82.7,
            83.5,
            84.3,
            85.1,
            85.8,
            86.6,
            87.4,
            88.1,
            88.9,
            89.7,
            90.5,
            91.2,
            92,
            92.8,
            93.5,
            94.3,
            95.1,
            95.9,
            96.6,
            97.4,
            98.2,
            98.9,
            99.7,
            100.5,
            101.3,
            102,
            102.8,
            103.6,
            104.3,
            105.1,
            105.9,
            106.7,
            107.4,
            108.2,
            109,
            109.7,
            110.5,
            111.3,
            112.1,
            112.8,
            113.6,
            114.4,
            115.1,
            115.9,
            116.7,
            117.5,
            118.2,
            119,
            119.8,
            120.5,
            121.3,
            122.1,
            122.9,
            123.6,
            124.4,
            125.2,
            125.9,
            126.7,
            127.5,
            128.3,
            129,
            129.8,
            130.6,
            131.3,
            132.1,
            132.9,
            133.7,
            134.4,
            135.2,
            136,
            136.7,
            137.5,
            138.3,
            139.1,
            139.8,
            140.6,
            141.4,
            142.1,
            142.9,
            143.7,
            144.5,
            145.2,
            146,
            146.8,
            147.5,
            148.3,
            149.1,
            149.9,
            150.6,
            151.4,
            152.2,
            152.9,
            153.7,
            154.5,
            155.3,
            156,
            156.8,
            157.6,
            158.3,
            159.1,
            159.9,
            160.7,
            161.4,
            162.2,
            163,
            163.7,
            164.5,
            165.3,
            166.1,
            166.8,
            167.6,
            168.4,
            169.1,
            169.9,
            170.7,
            171.5,
            172.2,
            173,
            173.8,
            174.5,
            175.3,
            176.1,
            176.9,
            177.6,
            178.4,
            179.2,
            179.9,
            180.7,
            181.5,
            182.3,
            183,
            183.8,
            184.6,
            185.3,
            186.1,
            186.9,
            187.7,
            188.4,
            189.2,
            190,
            190.7,
            191.5,
            192.3,
            193.1,
            193.8,
            194.6,
            195.4,
            196.1,
            196.9,
            197.7,
            198.5,
            199.2
           ],
           "y": [
            0.0057,
            0.0061,
            0.0066,
            0.007,
            0.0075,
            0.0079,
            0.0083,
            0.0086,
            0.0089,
            0.0092,
            0.0095,
            0.0097,
            0.0099,
            0.01,
            0.0102,
            0.0102,
            0.0103,
            0.0103,
            0.0103,
            0.0103,
            0.0103,
            0.0102,
            0.0102,
            0.0101,
            0.01,
            0.01,
            0.0099,
            0.0098,
            0.0097,
            0.0096,
            0.0096,
            0.0095,
            0.0094,
            0.0094,
            0.0093,
            0.0093,
            0.0093,
            0.0092,
            0.0092,
            0.0092,
            0.0091,
            0.0091,
            0.0091,
            0.0091,
            0.0091,
            0.0091,
            0.0091,
            0.0091,
            0.0091,
            0.0091,
            0.009,
            0.009,
            0.009,
            0.009,
            0.009,
            0.009,
            0.0089,
            0.0089,
            0.0089,
            0.0088,
            0.0088,
            0.0088,
            0.0087,
            0.0087,
            0.0086,
            0.0086,
            0.0085,
            0.0085,
            0.0084,
            0.0084,
            0.0083,
            0.0082,
            0.0082,
            0.0081,
            0.008,
            0.008,
            0.0079,
            0.0078,
            0.0077,
            0.0077,
            0.0076,
            0.0075,
            0.0074,
            0.0073,
            0.0073,
            0.0072,
            0.0071,
            0.007,
            0.0069,
            0.0068,
            0.0067,
            0.0066,
            0.0066,
            0.0065,
            0.0064,
            0.0063,
            0.0062,
            0.0061,
            0.006,
            0.0059,
            0.0059,
            0.0058,
            0.0057,
            0.0056,
            0.0055,
            0.0054,
            0.0053,
            0.0052,
            0.0052,
            0.0051,
            0.005,
            0.0049,
            0.0048,
            0.0047,
            0.0046,
            0.0046,
            0.0045,
            0.0044,
            0.0043,
            0.0043,
            0.0042,
            0.0041,
            0.0041,
            0.004,
            0.0039,
            0.0039,
            0.0038,
            0.0038,
            0.0037,
            0.0037,
            0.0036,
            0.0036,
            0.0035,
            0.0035,
            0.0034,
            0.0034,
            0.0033,
            0.0033,
            0.0033,
            0.0032,
            0.0032,
            0.0031,
            0.0031,
            0.0031,
            0.003,
            0.003,
            0.003,
            0.0029,
            0.0029,
            0.0029,
            0.0029,
            0.0028,
            0.0028,
            0.0028,
            0.0028,
            0.0027,
            0.0027,
            0.0027,
            0.0027,
            0.0026,
            0.0026,
            0.0026,
            0.0025,
            0.0025,
            0.0025,
            0.0024,
            0.0024,
            0.0023,
            0.0023,
            0.0023,
            0.0022,
            0.0022,
            0.0021,
            0.0021,
            0.0021,
            0.002,
            0.002,
            0.002,
            0.0019,
            0.0019,
            0.0019,
            0.0018,
            0.0018,
            0.0018,
            0.0018,
            0.0017,
            0.0017,
            0.0017,
            0.0017,
            0.0017,
            0.0016,
            0.0016,
            0.0016,
            0.0016,
            0.0016,
            0.0015,
            0.0015,
            0.0015,
            0.0015,
            0.0015,
            0.0015,
            0.0014,
            0.0014,
            0.0014,
            0.0014,
            0.0014,
            0.0013,
            0.0013,
            0.0013,
            0.0013,
            0.0013,
            0.0012,
            0.0012,
            0.0012,
            0.0012,
            0.0012,
            0.0011,
            0.0011,
            0.0011,
            0.0011,
            0.0011,
            0.001,
            0.001,
            0.001,
            0.001,
            0.001,
            0.001,
            0.0009,
            0.0009,
            0.0009,
            0.0009,
            0.0009,
            0.0008,
            0.0008,
            0.0008,
            0.0008,
            0.0007,
            0.0007,
            0.0007,
            0.0007,
            0.0007,
            0.0007,
            0.0006,
            0.0006,
            0.0006,
            0.0006,
            0.0006,
            0.0006,
            0.0006,
            0.0006,
            0.0006,
            0.0006,
            0.0006,
            0.0006,
            0.0006,
            0.0006,
            0.0006,
            0.0006,
            0.0006
           ]
          }
         ],
         "layout": {
          "template": {
           "data": {
            "bar": [
             {
              "error_x": {
               "color": "#2a3f5f"
              },
              "error_y": {
               "color": "#2a3f5f"
              },
              "marker": {
               "line": {
                "color": "#E5ECF6",
                "width": 0.5
               }
              },
              "type": "bar"
             }
            ],
            "barpolar": [
             {
              "marker": {
               "line": {
                "color": "#E5ECF6",
                "width": 0.5
               }
              },
              "type": "barpolar"
             }
            ],
            "carpet": [
             {
              "aaxis": {
               "endlinecolor": "#2a3f5f",
               "gridcolor": "white",
               "linecolor": "white",
               "minorgridcolor": "white",
               "startlinecolor": "#2a3f5f"
              },
              "baxis": {
               "endlinecolor": "#2a3f5f",
               "gridcolor": "white",
               "linecolor": "white",
               "minorgridcolor": "white",
               "startlinecolor": "#2a3f5f"
              },
              "type": "carpet"
             }
            ],
            "choropleth": [
             {
              "colorbar": {
               "outlinewidth": 0,
               "ticks": ""
              },
              "type": "choropleth"
             }
            ],
            "contour": [
             {
              "colorbar": {
               "outlinewidth": 0,
               "ticks": ""
              },
              "colorscale": [
               [
                0,
                "#0d0887"
               ],
               [
                0.1111111111111111,
                "#46039f"
               ],
               [
                0.2222222222222222,
                "#7201a8"
               ],
               [
                0.3333333333333333,
                "#9c179e"
               ],
               [
                0.4444444444444444,
                "#bd3786"
               ],
               [
                0.5555555555555556,
                "#d8576b"
               ],
               [
                0.6666666666666666,
                "#ed7953"
               ],
               [
                0.7777777777777778,
                "#fb9f3a"
               ],
               [
                0.8888888888888888,
                "#fdca26"
               ],
               [
                1,
                "#f0f921"
               ]
              ],
              "type": "contour"
             }
            ],
            "contourcarpet": [
             {
              "colorbar": {
               "outlinewidth": 0,
               "ticks": ""
              },
              "type": "contourcarpet"
             }
            ],
            "heatmap": [
             {
              "colorbar": {
               "outlinewidth": 0,
               "ticks": ""
              },
              "colorscale": [
               [
                0,
                "#0d0887"
               ],
               [
                0.1111111111111111,
                "#46039f"
               ],
               [
                0.2222222222222222,
                "#7201a8"
               ],
               [
                0.3333333333333333,
                "#9c179e"
               ],
               [
                0.4444444444444444,
                "#bd3786"
               ],
               [
                0.5555555555555556,
                "#d8576b"
               ],
               [
                0.6666666666666666,
                "#ed7953"
               ],
               [
                0.7777777777777778,
                "#fb9f3a"
               ],
               [
                0.8888888888888888,
                "#fdca26"
               ],
               [
                1,
                "#f0f921"
               ]
              ],
              "type": "heatmap"
             }
            ],
            "heatmapgl": [
             {
              "colorbar": {
               "outlinewidth": 0,
               "ticks": ""
              },
              "colorscale": [
               [
                0,
                "#0d0887"
               ],
               [
                0.1111111111111111,
                "#46039f"
               ],
               [
                0.2222222222222222,
                "#7201a8"
               ],
               [
                0.3333333333333333,
                "#9c179e"
               ],
               [
                0.4444444444444444,
                "#bd3786"
               ],
               [
                0.5555555555555556,
                "#d8576b"
               ],
               [
                0.6666666666666666,
                "#ed7953"
               ],
               [
                0.7777777777777778,
                "#fb9f3a"
               ],
               [
                0.8888888888888888,
                "#fdca26"
               ],
               [
                1,
                "#f0f921"
               ]
              ],
              "type": "heatmapgl"
             }
            ],
            "histogram": [
             {
              "marker": {
               "colorbar": {
                "outlinewidth": 0,
                "ticks": ""
               }
              },
              "type": "histogram"
             }
            ],
            "histogram2d": [
             {
              "colorbar": {
               "outlinewidth": 0,
               "ticks": ""
              },
              "colorscale": [
               [
                0,
                "#0d0887"
               ],
               [
                0.1111111111111111,
                "#46039f"
               ],
               [
                0.2222222222222222,
                "#7201a8"
               ],
               [
                0.3333333333333333,
                "#9c179e"
               ],
               [
                0.4444444444444444,
                "#bd3786"
               ],
               [
                0.5555555555555556,
                "#d8576b"
               ],
               [
                0.6666666666666666,
                "#ed7953"
               ],
               [
                0.7777777777777778,
                "#fb9f3a"
               ],
               [
                0.8888888888888888,
                "#fdca26"
               ],
               [
                1,
                "#f0f921"
               ]
              ],
              "type": "histogram2d"
             }
            ],
            "histogram2dcontour": [
             {
              "colorbar": {
               "outlinewidth": 0,
               "ticks": ""
              },
              "colorscale": [
               [
                0,
                "#0d0887"
               ],
               [
                0.1111111111111111,
                "#46039f"
               ],
               [
                0.2222222222222222,
                "#7201a8"
               ],
               [
                0.3333333333333333,
                "#9c179e"
               ],
               [
                0.4444444444444444,
                "#bd3786"
               ],
               [
                0.5555555555555556,
                "#d8576b"
               ],
               [
                0.6666666666666666,
                "#ed7953"
               ],
               [
                0.7777777777777778,
                "#fb9f3a"
               ],
               [
                0.8888888888888888,
                "#fdca26"
               ],
               [
                1,
                "#f0f921"
               ]
              ],
              "type": "histogram2dcontour"
             }
            ],
            "mesh3d": [
             {
              "colorbar": {
               "outlinewidth": 0,
               "ticks": ""
              },
              "type": "mesh3d"
             }
            ],
            "parcoords": [
             {
              "line": {
               "colorbar": {
                "outlinewidth": 0,
                "ticks": ""
               }
              },
              "type": "parcoords"
             }
            ],
            "pie": [
             {
              "automargin": true,
              "type": "pie"
             }
            ],
            "scatter": [
             {
              "marker": {
               "colorbar": {
                "outlinewidth": 0,
                "ticks": ""
               }
              },
              "type": "scatter"
             }
            ],
            "scatter3d": [
             {
              "line": {
               "colorbar": {
                "outlinewidth": 0,
                "ticks": ""
               }
              },
              "marker": {
               "colorbar": {
                "outlinewidth": 0,
                "ticks": ""
               }
              },
              "type": "scatter3d"
             }
            ],
            "scattercarpet": [
             {
              "marker": {
               "colorbar": {
                "outlinewidth": 0,
                "ticks": ""
               }
              },
              "type": "scattercarpet"
             }
            ],
            "scattergeo": [
             {
              "marker": {
               "colorbar": {
                "outlinewidth": 0,
                "ticks": ""
               }
              },
              "type": "scattergeo"
             }
            ],
            "scattergl": [
             {
              "marker": {
               "colorbar": {
                "outlinewidth": 0,
                "ticks": ""
               }
              },
              "type": "scattergl"
             }
            ],
            "scattermapbox": [
             {
              "marker": {
               "colorbar": {
                "outlinewidth": 0,
                "ticks": ""
               }
              },
              "type": "scattermapbox"
             }
            ],
            "scatterpolar": [
             {
              "marker": {
               "colorbar": {
                "outlinewidth": 0,
                "ticks": ""
               }
              },
              "type": "scatterpolar"
             }
            ],
            "scatterpolargl": [
             {
              "marker": {
               "colorbar": {
                "outlinewidth": 0,
                "ticks": ""
               }
              },
              "type": "scatterpolargl"
             }
            ],
            "scatterternary": [
             {
              "marker": {
               "colorbar": {
                "outlinewidth": 0,
                "ticks": ""
               }
              },
              "type": "scatterternary"
             }
            ],
            "surface": [
             {
              "colorbar": {
               "outlinewidth": 0,
               "ticks": ""
              },
              "colorscale": [
               [
                0,
                "#0d0887"
               ],
               [
                0.1111111111111111,
                "#46039f"
               ],
               [
                0.2222222222222222,
                "#7201a8"
               ],
               [
                0.3333333333333333,
                "#9c179e"
               ],
               [
                0.4444444444444444,
                "#bd3786"
               ],
               [
                0.5555555555555556,
                "#d8576b"
               ],
               [
                0.6666666666666666,
                "#ed7953"
               ],
               [
                0.7777777777777778,
                "#fb9f3a"
               ],
               [
                0.8888888888888888,
                "#fdca26"
               ],
               [
                1,
                "#f0f921"
               ]
              ],
              "type": "surface"
             }
            ],
            "table": [
             {
              "cells": {
               "fill": {
                "color": "#EBF0F8"
               },
               "line": {
                "color": "white"
               }
              },
              "header": {
               "fill": {
                "color": "#C8D4E3"
               },
               "line": {
                "color": "white"
               }
              },
              "type": "table"
             }
            ]
           },
           "layout": {
            "annotationdefaults": {
             "arrowcolor": "#2a3f5f",
             "arrowhead": 0,
             "arrowwidth": 1
            },
            "coloraxis": {
             "colorbar": {
              "outlinewidth": 0,
              "ticks": ""
             }
            },
            "colorscale": {
             "diverging": [
              [
               0,
               "#8e0152"
              ],
              [
               0.1,
               "#c51b7d"
              ],
              [
               0.2,
               "#de77ae"
              ],
              [
               0.3,
               "#f1b6da"
              ],
              [
               0.4,
               "#fde0ef"
              ],
              [
               0.5,
               "#f7f7f7"
              ],
              [
               0.6,
               "#e6f5d0"
              ],
              [
               0.7,
               "#b8e186"
              ],
              [
               0.8,
               "#7fbc41"
              ],
              [
               0.9,
               "#4d9221"
              ],
              [
               1,
               "#276419"
              ]
             ],
             "sequential": [
              [
               0,
               "#0d0887"
              ],
              [
               0.1111111111111111,
               "#46039f"
              ],
              [
               0.2222222222222222,
               "#7201a8"
              ],
              [
               0.3333333333333333,
               "#9c179e"
              ],
              [
               0.4444444444444444,
               "#bd3786"
              ],
              [
               0.5555555555555556,
               "#d8576b"
              ],
              [
               0.6666666666666666,
               "#ed7953"
              ],
              [
               0.7777777777777778,
               "#fb9f3a"
              ],
              [
               0.8888888888888888,
               "#fdca26"
              ],
              [
               1,
               "#f0f921"
              ]
             ],
             "sequentialminus": [
              [
               0,
               "#0d0887"
              ],
              [
               0.1111111111111111,
               "#46039f"
              ],
              [
               0.2222222222222222,
               "#7201a8"
              ],
              [
               0.3333333333333333,
               "#9c179e"
              ],
              [
               0.4444444444444444,
               "#bd3786"
              ],
              [
               0.5555555555555556,
               "#d8576b"
              ],
              [
               0.6666666666666666,
               "#ed7953"
              ],
              [
               0.7777777777777778,
               "#fb9f3a"
              ],
              [
               0.8888888888888888,
               "#fdca26"
              ],
              [
               1,
               "#f0f921"
              ]
             ]
            },
            "colorway": [
             "#636efa",
             "#EF553B",
             "#00cc96",
             "#ab63fa",
             "#FFA15A",
             "#19d3f3",
             "#FF6692",
             "#B6E880",
             "#FF97FF",
             "#FECB52"
            ],
            "font": {
             "color": "#2a3f5f"
            },
            "geo": {
             "bgcolor": "white",
             "lakecolor": "white",
             "landcolor": "#E5ECF6",
             "showlakes": true,
             "showland": true,
             "subunitcolor": "white"
            },
            "hoverlabel": {
             "align": "left"
            },
            "hovermode": "closest",
            "mapbox": {
             "style": "light"
            },
            "paper_bgcolor": "white",
            "plot_bgcolor": "#E5ECF6",
            "polar": {
             "angularaxis": {
              "gridcolor": "white",
              "linecolor": "white",
              "ticks": ""
             },
             "bgcolor": "#E5ECF6",
             "radialaxis": {
              "gridcolor": "white",
              "linecolor": "white",
              "ticks": ""
             }
            },
            "scene": {
             "xaxis": {
              "backgroundcolor": "#E5ECF6",
              "gridcolor": "white",
              "gridwidth": 2,
              "linecolor": "white",
              "showbackground": true,
              "ticks": "",
              "zerolinecolor": "white"
             },
             "yaxis": {
              "backgroundcolor": "#E5ECF6",
              "gridcolor": "white",
              "gridwidth": 2,
              "linecolor": "white",
              "showbackground": true,
              "ticks": "",
              "zerolinecolor": "white"
             },
             "zaxis": {
              "backgroundcolor": "#E5ECF6",
              "gridcolor": "white",
              "gridwidth": 2,
              "linecolor": "white",
              "showbackground": true,
              "ticks": "",
              "zerolinecolor": "white"
             }
            },
            "shapedefaults": {
             "line": {
              "color": "#2a3f5f"
             }
            },
            "ternary": {
             "aaxis": {
              "gridcolor": "white",
              "linecolor": "white",
              "ticks": ""
             },
             "baxis": {
              "gridcolor": "white",
              "linecolor": "white",
              "ticks": ""
             },
             "bgcolor": "#E5ECF6",
             "caxis": {
              "gridcolor": "white",
              "linecolor": "white",
              "ticks": ""
             }
            },
            "title": {
             "x": 0.05
            },
            "xaxis": {
             "automargin": true,
             "gridcolor": "white",
             "linecolor": "white",
             "ticks": "",
             "title": {
              "standoff": 15
             },
             "zerolinecolor": "white",
             "zerolinewidth": 2
            },
            "yaxis": {
             "automargin": true,
             "gridcolor": "white",
             "linecolor": "white",
             "ticks": "",
             "title": {
              "standoff": 15
             },
             "zerolinecolor": "white",
             "zerolinewidth": 2
            }
           }
          },
          "title": {
           "text": "Annual Compensation Density Estimation:<br>Backend",
           "x": 0.5,
           "xanchor": "center",
           "yanchor": "top"
          },
          "xaxis": {
           "ticksuffix": "k",
           "title": {
            "text": "Compensation (USD)"
           }
          },
          "yaxis": {
           "range": [
            0,
            0.012
           ],
           "tickcolor": "white",
           "ticklen": 8,
           "ticks": "outside",
           "title": {
            "text": "Probability Density"
           },
           "zeroline": false
          }
         },
         "name": "Developer, back-end"
        },
        {
         "data": [
          {
           "hovertemplate": "Compensation: %{x}",
           "line": {
            "dash": "longdashdot"
           },
           "name": "2018",
           "type": "scatter",
           "x": [
            0.2,
            0.8,
            1.5,
            2.2,
            2.9,
            3.6,
            4.2,
            4.9,
            5.6,
            6.3,
            6.9,
            7.6,
            8.3,
            9,
            9.6,
            10.3,
            11,
            11.7,
            12.4,
            13,
            13.7,
            14.4,
            15.1,
            15.7,
            16.4,
            17.1,
            17.8,
            18.4,
            19.1,
            19.8,
            20.5,
            21.2,
            21.8,
            22.5,
            23.2,
            23.9,
            24.5,
            25.2,
            25.9,
            26.6,
            27.2,
            27.9,
            28.6,
            29.3,
            30,
            30.6,
            31.3,
            32,
            32.7,
            33.3,
            34,
            34.7,
            35.4,
            36,
            36.7,
            37.4,
            38.1,
            38.8,
            39.4,
            40.1,
            40.8,
            41.5,
            42.1,
            42.8,
            43.5,
            44.2,
            44.8,
            45.5,
            46.2,
            46.9,
            47.6,
            48.2,
            48.9,
            49.6,
            50.3,
            50.9,
            51.6,
            52.3,
            53,
            53.6,
            54.3,
            55,
            55.7,
            56.4,
            57,
            57.7,
            58.4,
            59.1,
            59.7,
            60.4,
            61.1,
            61.8,
            62.4,
            63.1,
            63.8,
            64.5,
            65.2,
            65.8,
            66.5,
            67.2,
            67.9,
            68.5,
            69.2,
            69.9,
            70.6,
            71.2,
            71.9,
            72.6,
            73.3,
            74,
            74.6,
            75.3,
            76,
            76.7,
            77.3,
            78,
            78.7,
            79.4,
            80,
            80.7,
            81.4,
            82.1,
            82.8,
            83.4,
            84.1,
            84.8,
            85.5,
            86.1,
            86.8,
            87.5,
            88.2,
            88.8,
            89.5,
            90.2,
            90.9,
            91.6,
            92.2,
            92.9,
            93.6,
            94.3,
            94.9,
            95.6,
            96.3,
            97,
            97.6,
            98.3,
            99,
            99.7,
            100.4,
            101,
            101.7,
            102.4,
            103.1,
            103.7,
            104.4,
            105.1,
            105.8,
            106.5,
            107.1,
            107.8,
            108.5,
            109.2,
            109.8,
            110.5,
            111.2,
            111.9,
            112.5,
            113.2,
            113.9,
            114.6,
            115.3,
            115.9,
            116.6,
            117.3,
            118,
            118.6,
            119.3,
            120,
            120.7,
            121.3,
            122,
            122.7,
            123.4,
            124.1,
            124.7,
            125.4,
            126.1,
            126.8,
            127.4,
            128.1,
            128.8,
            129.5,
            130.1,
            130.8,
            131.5,
            132.2,
            132.9,
            133.5,
            134.2,
            134.9,
            135.6,
            136.2,
            136.9,
            137.6,
            138.3,
            138.9,
            139.6,
            140.3,
            141,
            141.7,
            142.3,
            143,
            143.7,
            144.4,
            145,
            145.7,
            146.4,
            147.1,
            147.7,
            148.4,
            149.1,
            149.8,
            150.5,
            151.1,
            151.8,
            152.5,
            153.2,
            153.8,
            154.5,
            155.2,
            155.9,
            156.5,
            157.2,
            157.9,
            158.6,
            159.3,
            159.9,
            160.6,
            161.3,
            162,
            162.6,
            163.3,
            164,
            164.7,
            165.3,
            166,
            166.7,
            167.4,
            168.1,
            168.7,
            169.4,
            170.1,
            170.8,
            171.4,
            172.1,
            172.8,
            173.5,
            174.1,
            174.8,
            175.5,
            176.2,
            176.9,
            177.5,
            178.2,
            178.9,
            179.6,
            180.2,
            180.9,
            181.6,
            182.3,
            182.9,
            183.6,
            184.3,
            185,
            185.7,
            186.3,
            187,
            187.7,
            188.4,
            189,
            189.7,
            190.4,
            191.1,
            191.7,
            192.4,
            193.1,
            193.8,
            194.5,
            195.1,
            195.8,
            196.5,
            197.2,
            197.8,
            198.5,
            199.2,
            199.9
           ],
           "y": [
            0.0072,
            0.0077,
            0.0082,
            0.0086,
            0.009,
            0.0094,
            0.0098,
            0.0101,
            0.0103,
            0.0106,
            0.0107,
            0.0109,
            0.011,
            0.011,
            0.011,
            0.011,
            0.011,
            0.0109,
            0.0108,
            0.0107,
            0.0106,
            0.0104,
            0.0103,
            0.0101,
            0.01,
            0.0099,
            0.0097,
            0.0096,
            0.0094,
            0.0093,
            0.0092,
            0.0091,
            0.009,
            0.0089,
            0.0088,
            0.0088,
            0.0087,
            0.0087,
            0.0086,
            0.0086,
            0.0086,
            0.0085,
            0.0085,
            0.0085,
            0.0085,
            0.0085,
            0.0085,
            0.0086,
            0.0086,
            0.0086,
            0.0086,
            0.0086,
            0.0087,
            0.0087,
            0.0087,
            0.0087,
            0.0088,
            0.0088,
            0.0088,
            0.0088,
            0.0089,
            0.0089,
            0.0089,
            0.0089,
            0.0089,
            0.0089,
            0.0089,
            0.009,
            0.009,
            0.009,
            0.009,
            0.009,
            0.0089,
            0.0089,
            0.0089,
            0.0089,
            0.0089,
            0.0089,
            0.0088,
            0.0088,
            0.0088,
            0.0087,
            0.0087,
            0.0087,
            0.0086,
            0.0086,
            0.0085,
            0.0085,
            0.0084,
            0.0084,
            0.0083,
            0.0082,
            0.0082,
            0.0081,
            0.008,
            0.008,
            0.0079,
            0.0078,
            0.0077,
            0.0077,
            0.0076,
            0.0075,
            0.0074,
            0.0073,
            0.0072,
            0.0072,
            0.0071,
            0.007,
            0.0069,
            0.0068,
            0.0067,
            0.0066,
            0.0065,
            0.0065,
            0.0064,
            0.0063,
            0.0062,
            0.0061,
            0.006,
            0.0059,
            0.0058,
            0.0057,
            0.0056,
            0.0055,
            0.0054,
            0.0054,
            0.0053,
            0.0052,
            0.0051,
            0.005,
            0.005,
            0.0049,
            0.0048,
            0.0048,
            0.0047,
            0.0046,
            0.0046,
            0.0045,
            0.0045,
            0.0044,
            0.0044,
            0.0043,
            0.0043,
            0.0042,
            0.0042,
            0.0041,
            0.0041,
            0.0041,
            0.004,
            0.004,
            0.0039,
            0.0039,
            0.0038,
            0.0038,
            0.0037,
            0.0036,
            0.0036,
            0.0035,
            0.0035,
            0.0035,
            0.0034,
            0.0034,
            0.0033,
            0.0033,
            0.0032,
            0.0032,
            0.0032,
            0.0032,
            0.0031,
            0.0031,
            0.0031,
            0.0031,
            0.003,
            0.003,
            0.003,
            0.003,
            0.0029,
            0.0029,
            0.0029,
            0.0028,
            0.0028,
            0.0027,
            0.0027,
            0.0026,
            0.0026,
            0.0025,
            0.0025,
            0.0024,
            0.0023,
            0.0023,
            0.0022,
            0.0021,
            0.0021,
            0.002,
            0.002,
            0.0019,
            0.0019,
            0.0018,
            0.0018,
            0.0017,
            0.0017,
            0.0016,
            0.0016,
            0.0016,
            0.0016,
            0.0015,
            0.0015,
            0.0015,
            0.0015,
            0.0015,
            0.0014,
            0.0014,
            0.0014,
            0.0014,
            0.0014,
            0.0014,
            0.0014,
            0.0014,
            0.0013,
            0.0013,
            0.0013,
            0.0013,
            0.0013,
            0.0012,
            0.0012,
            0.0012,
            0.0012,
            0.0011,
            0.0011,
            0.0011,
            0.001,
            0.001,
            0.001,
            0.0009,
            0.0009,
            0.0009,
            0.0009,
            0.0008,
            0.0008,
            0.0008,
            0.0008,
            0.0007,
            0.0007,
            0.0007,
            0.0007,
            0.0007,
            0.0006,
            0.0006,
            0.0006,
            0.0006,
            0.0006,
            0.0006,
            0.0006,
            0.0006,
            0.0006,
            0.0006,
            0.0005,
            0.0005,
            0.0005,
            0.0005,
            0.0005,
            0.0005,
            0.0005,
            0.0005,
            0.0005,
            0.0005,
            0.0004,
            0.0004,
            0.0004,
            0.0004,
            0.0004,
            0.0004,
            0.0004,
            0.0004,
            0.0004,
            0.0003,
            0.0003,
            0.0003,
            0.0003,
            0.0003,
            0.0003,
            0.0003,
            0.0003,
            0.0003,
            0.0003,
            0.0003,
            0.0003,
            0.0003,
            0.0003,
            0.0003,
            0.0003,
            0.0003,
            0.0003,
            0.0003,
            0.0003,
            0.0003
           ]
          },
          {
           "hovertemplate": "Compensation: %{x}",
           "line": {
            "dash": "dash"
           },
           "name": "2019",
           "type": "scatter",
           "x": [
            0.2,
            1.1,
            1.9,
            2.8,
            3.6,
            4.5,
            5.4,
            6.2,
            7.1,
            7.9,
            8.8,
            9.6,
            10.5,
            11.4,
            12.2,
            13.1,
            13.9,
            14.8,
            15.6,
            16.5,
            17.4,
            18.2,
            19.1,
            19.9,
            20.8,
            21.6,
            22.5,
            23.4,
            24.2,
            25.1,
            25.9,
            26.8,
            27.6,
            28.5,
            29.4,
            30.2,
            31.1,
            31.9,
            32.8,
            33.6,
            34.5,
            35.4,
            36.2,
            37.1,
            37.9,
            38.8,
            39.7,
            40.5,
            41.4,
            42.2,
            43.1,
            43.9,
            44.8,
            45.7,
            46.5,
            47.4,
            48.2,
            49.1,
            49.9,
            50.8,
            51.7,
            52.5,
            53.4,
            54.2,
            55.1,
            55.9,
            56.8,
            57.7,
            58.5,
            59.4,
            60.2,
            61.1,
            61.9,
            62.8,
            63.7,
            64.5,
            65.4,
            66.2,
            67.1,
            67.9,
            68.8,
            69.7,
            70.5,
            71.4,
            72.2,
            73.1,
            73.9,
            74.8,
            75.7,
            76.5,
            77.4,
            78.2,
            79.1,
            79.9,
            80.8,
            81.7,
            82.5,
            83.4,
            84.2,
            85.1,
            85.9,
            86.8,
            87.7,
            88.5,
            89.4,
            90.2,
            91.1,
            91.9,
            92.8,
            93.7,
            94.5,
            95.4,
            96.2,
            97.1,
            97.9,
            98.8,
            99.7,
            100.5,
            101.4,
            102.2,
            103.1,
            104,
            104.8,
            105.7,
            106.5,
            107.4,
            108.2,
            109.1,
            110,
            110.8,
            111.7,
            112.5,
            113.4,
            114.2,
            115.1,
            116,
            116.8,
            117.7,
            118.5,
            119.4,
            120.2,
            121.1,
            122,
            122.8,
            123.7,
            124.5,
            125.4,
            126.2,
            127.1,
            128,
            128.8,
            129.7,
            130.5,
            131.4,
            132.2,
            133.1,
            134,
            134.8,
            135.7,
            136.5,
            137.4,
            138.2,
            139.1,
            140,
            140.8,
            141.7,
            142.5,
            143.4,
            144.2,
            145.1,
            146,
            146.8,
            147.7,
            148.5,
            149.4,
            150.2,
            151.1,
            152,
            152.8,
            153.7,
            154.5,
            155.4,
            156.2,
            157.1,
            158,
            158.8,
            159.7,
            160.5,
            161.4,
            162.2,
            163.1,
            164,
            164.8,
            165.7,
            166.5,
            167.4,
            168.2,
            169.1,
            170,
            170.8,
            171.7,
            172.5,
            173.4,
            174.3,
            175.1,
            176,
            176.8,
            177.7,
            178.5,
            179.4,
            180.3,
            181.1,
            182,
            182.8,
            183.7,
            184.5,
            185.4,
            186.3,
            187.1,
            188,
            188.8,
            189.7,
            190.5,
            191.4,
            192.3,
            193.1,
            194,
            194.8,
            195.7,
            196.5,
            197.4,
            198.3,
            199.1,
            200
           ],
           "y": [
            0.0066,
            0.0071,
            0.0077,
            0.0082,
            0.0087,
            0.0092,
            0.0096,
            0.01,
            0.0104,
            0.0106,
            0.0109,
            0.011,
            0.0112,
            0.0112,
            0.0113,
            0.0112,
            0.0112,
            0.0111,
            0.011,
            0.0109,
            0.0107,
            0.0106,
            0.0104,
            0.0102,
            0.0101,
            0.0099,
            0.0098,
            0.0096,
            0.0095,
            0.0094,
            0.0093,
            0.0092,
            0.0091,
            0.009,
            0.009,
            0.0089,
            0.0089,
            0.0089,
            0.0089,
            0.0088,
            0.0088,
            0.0088,
            0.0088,
            0.0089,
            0.0089,
            0.0089,
            0.0089,
            0.0089,
            0.0089,
            0.0088,
            0.0088,
            0.0088,
            0.0088,
            0.0087,
            0.0087,
            0.0087,
            0.0086,
            0.0086,
            0.0085,
            0.0085,
            0.0084,
            0.0083,
            0.0083,
            0.0082,
            0.0081,
            0.0081,
            0.008,
            0.0079,
            0.0079,
            0.0078,
            0.0077,
            0.0076,
            0.0076,
            0.0075,
            0.0074,
            0.0073,
            0.0073,
            0.0072,
            0.0071,
            0.007,
            0.0069,
            0.0068,
            0.0068,
            0.0067,
            0.0066,
            0.0065,
            0.0064,
            0.0063,
            0.0062,
            0.0061,
            0.006,
            0.0059,
            0.0058,
            0.0057,
            0.0056,
            0.0055,
            0.0054,
            0.0053,
            0.0052,
            0.0051,
            0.005,
            0.0049,
            0.0048,
            0.0048,
            0.0047,
            0.0046,
            0.0045,
            0.0044,
            0.0044,
            0.0043,
            0.0042,
            0.0042,
            0.0041,
            0.004,
            0.0039,
            0.0039,
            0.0038,
            0.0037,
            0.0037,
            0.0036,
            0.0035,
            0.0035,
            0.0034,
            0.0033,
            0.0033,
            0.0032,
            0.0031,
            0.0031,
            0.003,
            0.003,
            0.0029,
            0.0029,
            0.0028,
            0.0028,
            0.0027,
            0.0027,
            0.0027,
            0.0026,
            0.0026,
            0.0025,
            0.0025,
            0.0025,
            0.0024,
            0.0024,
            0.0024,
            0.0023,
            0.0023,
            0.0022,
            0.0022,
            0.0022,
            0.0021,
            0.0021,
            0.0021,
            0.002,
            0.002,
            0.0019,
            0.0019,
            0.0019,
            0.0018,
            0.0018,
            0.0018,
            0.0017,
            0.0017,
            0.0017,
            0.0016,
            0.0016,
            0.0015,
            0.0015,
            0.0015,
            0.0015,
            0.0014,
            0.0014,
            0.0014,
            0.0013,
            0.0013,
            0.0013,
            0.0012,
            0.0012,
            0.0012,
            0.0011,
            0.0011,
            0.0011,
            0.0011,
            0.001,
            0.001,
            0.001,
            0.001,
            0.001,
            0.0009,
            0.0009,
            0.0009,
            0.0009,
            0.0009,
            0.0009,
            0.0008,
            0.0008,
            0.0008,
            0.0008,
            0.0008,
            0.0008,
            0.0008,
            0.0008,
            0.0007,
            0.0007,
            0.0007,
            0.0007,
            0.0007,
            0.0007,
            0.0006,
            0.0006,
            0.0006,
            0.0006,
            0.0006,
            0.0006,
            0.0005,
            0.0005,
            0.0005,
            0.0005,
            0.0005,
            0.0005,
            0.0005,
            0.0004,
            0.0004,
            0.0004,
            0.0004,
            0.0004,
            0.0004,
            0.0004,
            0.0004,
            0.0004,
            0.0004,
            0.0004,
            0.0004,
            0.0004
           ]
          },
          {
           "hovertemplate": "Compensation: %{x}",
           "line": {
            "dash": "dashdot"
           },
           "name": "2020",
           "type": "scatter",
           "x": [
            0.2,
            1,
            1.7,
            2.5,
            3.3,
            4,
            4.8,
            5.6,
            6.4,
            7.1,
            7.9,
            8.7,
            9.4,
            10.2,
            11,
            11.8,
            12.5,
            13.3,
            14.1,
            14.8,
            15.6,
            16.4,
            17.1,
            17.9,
            18.7,
            19.5,
            20.2,
            21,
            21.8,
            22.5,
            23.3,
            24.1,
            24.9,
            25.6,
            26.4,
            27.2,
            27.9,
            28.7,
            29.5,
            30.3,
            31,
            31.8,
            32.6,
            33.3,
            34.1,
            34.9,
            35.6,
            36.4,
            37.2,
            38,
            38.7,
            39.5,
            40.3,
            41,
            41.8,
            42.6,
            43.4,
            44.1,
            44.9,
            45.7,
            46.4,
            47.2,
            48,
            48.8,
            49.5,
            50.3,
            51.1,
            51.8,
            52.6,
            53.4,
            54.1,
            54.9,
            55.7,
            56.5,
            57.2,
            58,
            58.8,
            59.5,
            60.3,
            61.1,
            61.9,
            62.6,
            63.4,
            64.2,
            64.9,
            65.7,
            66.5,
            67.2,
            68,
            68.8,
            69.6,
            70.3,
            71.1,
            71.9,
            72.6,
            73.4,
            74.2,
            75,
            75.7,
            76.5,
            77.3,
            78,
            78.8,
            79.6,
            80.4,
            81.1,
            81.9,
            82.7,
            83.4,
            84.2,
            85,
            85.7,
            86.5,
            87.3,
            88.1,
            88.8,
            89.6,
            90.4,
            91.1,
            91.9,
            92.7,
            93.5,
            94.2,
            95,
            95.8,
            96.5,
            97.3,
            98.1,
            98.9,
            99.6,
            100.4,
            101.2,
            101.9,
            102.7,
            103.5,
            104.2,
            105,
            105.8,
            106.6,
            107.3,
            108.1,
            108.9,
            109.6,
            110.4,
            111.2,
            112,
            112.7,
            113.5,
            114.3,
            115,
            115.8,
            116.6,
            117.3,
            118.1,
            118.9,
            119.7,
            120.4,
            121.2,
            122,
            122.7,
            123.5,
            124.3,
            125.1,
            125.8,
            126.6,
            127.4,
            128.1,
            128.9,
            129.7,
            130.5,
            131.2,
            132,
            132.8,
            133.5,
            134.3,
            135.1,
            135.8,
            136.6,
            137.4,
            138.2,
            138.9,
            139.7,
            140.5,
            141.2,
            142,
            142.8,
            143.6,
            144.3,
            145.1,
            145.9,
            146.6,
            147.4,
            148.2,
            149,
            149.7,
            150.5,
            151.3,
            152,
            152.8,
            153.6,
            154.3,
            155.1,
            155.9,
            156.7,
            157.4,
            158.2,
            159,
            159.7,
            160.5,
            161.3,
            162.1,
            162.8,
            163.6,
            164.4,
            165.1,
            165.9,
            166.7,
            167.4,
            168.2,
            169,
            169.8,
            170.5,
            171.3,
            172.1,
            172.8,
            173.6,
            174.4,
            175.2,
            175.9,
            176.7,
            177.5,
            178.2,
            179,
            179.8,
            180.6,
            181.3,
            182.1,
            182.9,
            183.6,
            184.4,
            185.2,
            185.9,
            186.7,
            187.5,
            188.3,
            189,
            189.8,
            190.6,
            191.3,
            192.1,
            192.9,
            193.7,
            194.4,
            195.2,
            196,
            196.7,
            197.5,
            198.3,
            199.1,
            199.8
           ],
           "y": [
            0.0067,
            0.0072,
            0.0077,
            0.0082,
            0.0087,
            0.0091,
            0.0095,
            0.0099,
            0.0103,
            0.0106,
            0.0108,
            0.011,
            0.0112,
            0.0113,
            0.0114,
            0.0115,
            0.0115,
            0.0115,
            0.0115,
            0.0114,
            0.0114,
            0.0113,
            0.0112,
            0.011,
            0.0109,
            0.0108,
            0.0107,
            0.0105,
            0.0104,
            0.0103,
            0.0102,
            0.0101,
            0.01,
            0.0099,
            0.0098,
            0.0097,
            0.0096,
            0.0096,
            0.0095,
            0.0095,
            0.0095,
            0.0094,
            0.0094,
            0.0094,
            0.0094,
            0.0093,
            0.0093,
            0.0093,
            0.0093,
            0.0093,
            0.0093,
            0.0092,
            0.0092,
            0.0092,
            0.0092,
            0.0091,
            0.0091,
            0.0091,
            0.009,
            0.009,
            0.0089,
            0.0088,
            0.0088,
            0.0087,
            0.0086,
            0.0086,
            0.0085,
            0.0084,
            0.0083,
            0.0082,
            0.0081,
            0.008,
            0.008,
            0.0079,
            0.0078,
            0.0077,
            0.0076,
            0.0075,
            0.0074,
            0.0073,
            0.0073,
            0.0072,
            0.0071,
            0.007,
            0.0069,
            0.0068,
            0.0067,
            0.0067,
            0.0066,
            0.0065,
            0.0064,
            0.0063,
            0.0062,
            0.0061,
            0.0061,
            0.006,
            0.0059,
            0.0058,
            0.0057,
            0.0056,
            0.0055,
            0.0055,
            0.0054,
            0.0053,
            0.0052,
            0.0051,
            0.005,
            0.005,
            0.0049,
            0.0048,
            0.0047,
            0.0046,
            0.0046,
            0.0045,
            0.0044,
            0.0043,
            0.0043,
            0.0042,
            0.0041,
            0.0041,
            0.004,
            0.0039,
            0.0039,
            0.0038,
            0.0038,
            0.0037,
            0.0036,
            0.0036,
            0.0035,
            0.0035,
            0.0034,
            0.0034,
            0.0033,
            0.0033,
            0.0032,
            0.0032,
            0.0031,
            0.0031,
            0.003,
            0.003,
            0.0029,
            0.0029,
            0.0029,
            0.0028,
            0.0028,
            0.0028,
            0.0028,
            0.0027,
            0.0027,
            0.0027,
            0.0027,
            0.0027,
            0.0026,
            0.0026,
            0.0026,
            0.0026,
            0.0026,
            0.0026,
            0.0025,
            0.0025,
            0.0025,
            0.0025,
            0.0024,
            0.0024,
            0.0024,
            0.0023,
            0.0023,
            0.0023,
            0.0022,
            0.0022,
            0.0021,
            0.0021,
            0.002,
            0.002,
            0.002,
            0.0019,
            0.0019,
            0.0018,
            0.0018,
            0.0018,
            0.0017,
            0.0017,
            0.0016,
            0.0016,
            0.0016,
            0.0015,
            0.0015,
            0.0015,
            0.0015,
            0.0014,
            0.0014,
            0.0014,
            0.0014,
            0.0013,
            0.0013,
            0.0013,
            0.0013,
            0.0012,
            0.0012,
            0.0012,
            0.0012,
            0.0011,
            0.0011,
            0.0011,
            0.0011,
            0.0011,
            0.001,
            0.001,
            0.001,
            0.001,
            0.001,
            0.0009,
            0.0009,
            0.0009,
            0.0009,
            0.0009,
            0.0009,
            0.0008,
            0.0008,
            0.0008,
            0.0008,
            0.0008,
            0.0008,
            0.0008,
            0.0007,
            0.0007,
            0.0007,
            0.0007,
            0.0007,
            0.0007,
            0.0007,
            0.0006,
            0.0006,
            0.0006,
            0.0006,
            0.0006,
            0.0006,
            0.0005,
            0.0005,
            0.0005,
            0.0005,
            0.0005,
            0.0005,
            0.0005,
            0.0005,
            0.0005,
            0.0005,
            0.0004,
            0.0004,
            0.0004,
            0.0004,
            0.0004,
            0.0004,
            0.0004,
            0.0004,
            0.0004,
            0.0004,
            0.0004,
            0.0004,
            0.0004
           ]
          }
         ],
         "layout": {
          "template": {
           "data": {
            "bar": [
             {
              "error_x": {
               "color": "#2a3f5f"
              },
              "error_y": {
               "color": "#2a3f5f"
              },
              "marker": {
               "line": {
                "color": "#E5ECF6",
                "width": 0.5
               }
              },
              "type": "bar"
             }
            ],
            "barpolar": [
             {
              "marker": {
               "line": {
                "color": "#E5ECF6",
                "width": 0.5
               }
              },
              "type": "barpolar"
             }
            ],
            "carpet": [
             {
              "aaxis": {
               "endlinecolor": "#2a3f5f",
               "gridcolor": "white",
               "linecolor": "white",
               "minorgridcolor": "white",
               "startlinecolor": "#2a3f5f"
              },
              "baxis": {
               "endlinecolor": "#2a3f5f",
               "gridcolor": "white",
               "linecolor": "white",
               "minorgridcolor": "white",
               "startlinecolor": "#2a3f5f"
              },
              "type": "carpet"
             }
            ],
            "choropleth": [
             {
              "colorbar": {
               "outlinewidth": 0,
               "ticks": ""
              },
              "type": "choropleth"
             }
            ],
            "contour": [
             {
              "colorbar": {
               "outlinewidth": 0,
               "ticks": ""
              },
              "colorscale": [
               [
                0,
                "#0d0887"
               ],
               [
                0.1111111111111111,
                "#46039f"
               ],
               [
                0.2222222222222222,
                "#7201a8"
               ],
               [
                0.3333333333333333,
                "#9c179e"
               ],
               [
                0.4444444444444444,
                "#bd3786"
               ],
               [
                0.5555555555555556,
                "#d8576b"
               ],
               [
                0.6666666666666666,
                "#ed7953"
               ],
               [
                0.7777777777777778,
                "#fb9f3a"
               ],
               [
                0.8888888888888888,
                "#fdca26"
               ],
               [
                1,
                "#f0f921"
               ]
              ],
              "type": "contour"
             }
            ],
            "contourcarpet": [
             {
              "colorbar": {
               "outlinewidth": 0,
               "ticks": ""
              },
              "type": "contourcarpet"
             }
            ],
            "heatmap": [
             {
              "colorbar": {
               "outlinewidth": 0,
               "ticks": ""
              },
              "colorscale": [
               [
                0,
                "#0d0887"
               ],
               [
                0.1111111111111111,
                "#46039f"
               ],
               [
                0.2222222222222222,
                "#7201a8"
               ],
               [
                0.3333333333333333,
                "#9c179e"
               ],
               [
                0.4444444444444444,
                "#bd3786"
               ],
               [
                0.5555555555555556,
                "#d8576b"
               ],
               [
                0.6666666666666666,
                "#ed7953"
               ],
               [
                0.7777777777777778,
                "#fb9f3a"
               ],
               [
                0.8888888888888888,
                "#fdca26"
               ],
               [
                1,
                "#f0f921"
               ]
              ],
              "type": "heatmap"
             }
            ],
            "heatmapgl": [
             {
              "colorbar": {
               "outlinewidth": 0,
               "ticks": ""
              },
              "colorscale": [
               [
                0,
                "#0d0887"
               ],
               [
                0.1111111111111111,
                "#46039f"
               ],
               [
                0.2222222222222222,
                "#7201a8"
               ],
               [
                0.3333333333333333,
                "#9c179e"
               ],
               [
                0.4444444444444444,
                "#bd3786"
               ],
               [
                0.5555555555555556,
                "#d8576b"
               ],
               [
                0.6666666666666666,
                "#ed7953"
               ],
               [
                0.7777777777777778,
                "#fb9f3a"
               ],
               [
                0.8888888888888888,
                "#fdca26"
               ],
               [
                1,
                "#f0f921"
               ]
              ],
              "type": "heatmapgl"
             }
            ],
            "histogram": [
             {
              "marker": {
               "colorbar": {
                "outlinewidth": 0,
                "ticks": ""
               }
              },
              "type": "histogram"
             }
            ],
            "histogram2d": [
             {
              "colorbar": {
               "outlinewidth": 0,
               "ticks": ""
              },
              "colorscale": [
               [
                0,
                "#0d0887"
               ],
               [
                0.1111111111111111,
                "#46039f"
               ],
               [
                0.2222222222222222,
                "#7201a8"
               ],
               [
                0.3333333333333333,
                "#9c179e"
               ],
               [
                0.4444444444444444,
                "#bd3786"
               ],
               [
                0.5555555555555556,
                "#d8576b"
               ],
               [
                0.6666666666666666,
                "#ed7953"
               ],
               [
                0.7777777777777778,
                "#fb9f3a"
               ],
               [
                0.8888888888888888,
                "#fdca26"
               ],
               [
                1,
                "#f0f921"
               ]
              ],
              "type": "histogram2d"
             }
            ],
            "histogram2dcontour": [
             {
              "colorbar": {
               "outlinewidth": 0,
               "ticks": ""
              },
              "colorscale": [
               [
                0,
                "#0d0887"
               ],
               [
                0.1111111111111111,
                "#46039f"
               ],
               [
                0.2222222222222222,
                "#7201a8"
               ],
               [
                0.3333333333333333,
                "#9c179e"
               ],
               [
                0.4444444444444444,
                "#bd3786"
               ],
               [
                0.5555555555555556,
                "#d8576b"
               ],
               [
                0.6666666666666666,
                "#ed7953"
               ],
               [
                0.7777777777777778,
                "#fb9f3a"
               ],
               [
                0.8888888888888888,
                "#fdca26"
               ],
               [
                1,
                "#f0f921"
               ]
              ],
              "type": "histogram2dcontour"
             }
            ],
            "mesh3d": [
             {
              "colorbar": {
               "outlinewidth": 0,
               "ticks": ""
              },
              "type": "mesh3d"
             }
            ],
            "parcoords": [
             {
              "line": {
               "colorbar": {
                "outlinewidth": 0,
                "ticks": ""
               }
              },
              "type": "parcoords"
             }
            ],
            "pie": [
             {
              "automargin": true,
              "type": "pie"
             }
            ],
            "scatter": [
             {
              "marker": {
               "colorbar": {
                "outlinewidth": 0,
                "ticks": ""
               }
              },
              "type": "scatter"
             }
            ],
            "scatter3d": [
             {
              "line": {
               "colorbar": {
                "outlinewidth": 0,
                "ticks": ""
               }
              },
              "marker": {
               "colorbar": {
                "outlinewidth": 0,
                "ticks": ""
               }
              },
              "type": "scatter3d"
             }
            ],
            "scattercarpet": [
             {
              "marker": {
               "colorbar": {
                "outlinewidth": 0,
                "ticks": ""
               }
              },
              "type": "scattercarpet"
             }
            ],
            "scattergeo": [
             {
              "marker": {
               "colorbar": {
                "outlinewidth": 0,
                "ticks": ""
               }
              },
              "type": "scattergeo"
             }
            ],
            "scattergl": [
             {
              "marker": {
               "colorbar": {
                "outlinewidth": 0,
                "ticks": ""
               }
              },
              "type": "scattergl"
             }
            ],
            "scattermapbox": [
             {
              "marker": {
               "colorbar": {
                "outlinewidth": 0,
                "ticks": ""
               }
              },
              "type": "scattermapbox"
             }
            ],
            "scatterpolar": [
             {
              "marker": {
               "colorbar": {
                "outlinewidth": 0,
                "ticks": ""
               }
              },
              "type": "scatterpolar"
             }
            ],
            "scatterpolargl": [
             {
              "marker": {
               "colorbar": {
                "outlinewidth": 0,
                "ticks": ""
               }
              },
              "type": "scatterpolargl"
             }
            ],
            "scatterternary": [
             {
              "marker": {
               "colorbar": {
                "outlinewidth": 0,
                "ticks": ""
               }
              },
              "type": "scatterternary"
             }
            ],
            "surface": [
             {
              "colorbar": {
               "outlinewidth": 0,
               "ticks": ""
              },
              "colorscale": [
               [
                0,
                "#0d0887"
               ],
               [
                0.1111111111111111,
                "#46039f"
               ],
               [
                0.2222222222222222,
                "#7201a8"
               ],
               [
                0.3333333333333333,
                "#9c179e"
               ],
               [
                0.4444444444444444,
                "#bd3786"
               ],
               [
                0.5555555555555556,
                "#d8576b"
               ],
               [
                0.6666666666666666,
                "#ed7953"
               ],
               [
                0.7777777777777778,
                "#fb9f3a"
               ],
               [
                0.8888888888888888,
                "#fdca26"
               ],
               [
                1,
                "#f0f921"
               ]
              ],
              "type": "surface"
             }
            ],
            "table": [
             {
              "cells": {
               "fill": {
                "color": "#EBF0F8"
               },
               "line": {
                "color": "white"
               }
              },
              "header": {
               "fill": {
                "color": "#C8D4E3"
               },
               "line": {
                "color": "white"
               }
              },
              "type": "table"
             }
            ]
           },
           "layout": {
            "annotationdefaults": {
             "arrowcolor": "#2a3f5f",
             "arrowhead": 0,
             "arrowwidth": 1
            },
            "coloraxis": {
             "colorbar": {
              "outlinewidth": 0,
              "ticks": ""
             }
            },
            "colorscale": {
             "diverging": [
              [
               0,
               "#8e0152"
              ],
              [
               0.1,
               "#c51b7d"
              ],
              [
               0.2,
               "#de77ae"
              ],
              [
               0.3,
               "#f1b6da"
              ],
              [
               0.4,
               "#fde0ef"
              ],
              [
               0.5,
               "#f7f7f7"
              ],
              [
               0.6,
               "#e6f5d0"
              ],
              [
               0.7,
               "#b8e186"
              ],
              [
               0.8,
               "#7fbc41"
              ],
              [
               0.9,
               "#4d9221"
              ],
              [
               1,
               "#276419"
              ]
             ],
             "sequential": [
              [
               0,
               "#0d0887"
              ],
              [
               0.1111111111111111,
               "#46039f"
              ],
              [
               0.2222222222222222,
               "#7201a8"
              ],
              [
               0.3333333333333333,
               "#9c179e"
              ],
              [
               0.4444444444444444,
               "#bd3786"
              ],
              [
               0.5555555555555556,
               "#d8576b"
              ],
              [
               0.6666666666666666,
               "#ed7953"
              ],
              [
               0.7777777777777778,
               "#fb9f3a"
              ],
              [
               0.8888888888888888,
               "#fdca26"
              ],
              [
               1,
               "#f0f921"
              ]
             ],
             "sequentialminus": [
              [
               0,
               "#0d0887"
              ],
              [
               0.1111111111111111,
               "#46039f"
              ],
              [
               0.2222222222222222,
               "#7201a8"
              ],
              [
               0.3333333333333333,
               "#9c179e"
              ],
              [
               0.4444444444444444,
               "#bd3786"
              ],
              [
               0.5555555555555556,
               "#d8576b"
              ],
              [
               0.6666666666666666,
               "#ed7953"
              ],
              [
               0.7777777777777778,
               "#fb9f3a"
              ],
              [
               0.8888888888888888,
               "#fdca26"
              ],
              [
               1,
               "#f0f921"
              ]
             ]
            },
            "colorway": [
             "#636efa",
             "#EF553B",
             "#00cc96",
             "#ab63fa",
             "#FFA15A",
             "#19d3f3",
             "#FF6692",
             "#B6E880",
             "#FF97FF",
             "#FECB52"
            ],
            "font": {
             "color": "#2a3f5f"
            },
            "geo": {
             "bgcolor": "white",
             "lakecolor": "white",
             "landcolor": "#E5ECF6",
             "showlakes": true,
             "showland": true,
             "subunitcolor": "white"
            },
            "hoverlabel": {
             "align": "left"
            },
            "hovermode": "closest",
            "mapbox": {
             "style": "light"
            },
            "paper_bgcolor": "white",
            "plot_bgcolor": "#E5ECF6",
            "polar": {
             "angularaxis": {
              "gridcolor": "white",
              "linecolor": "white",
              "ticks": ""
             },
             "bgcolor": "#E5ECF6",
             "radialaxis": {
              "gridcolor": "white",
              "linecolor": "white",
              "ticks": ""
             }
            },
            "scene": {
             "xaxis": {
              "backgroundcolor": "#E5ECF6",
              "gridcolor": "white",
              "gridwidth": 2,
              "linecolor": "white",
              "showbackground": true,
              "ticks": "",
              "zerolinecolor": "white"
             },
             "yaxis": {
              "backgroundcolor": "#E5ECF6",
              "gridcolor": "white",
              "gridwidth": 2,
              "linecolor": "white",
              "showbackground": true,
              "ticks": "",
              "zerolinecolor": "white"
             },
             "zaxis": {
              "backgroundcolor": "#E5ECF6",
              "gridcolor": "white",
              "gridwidth": 2,
              "linecolor": "white",
              "showbackground": true,
              "ticks": "",
              "zerolinecolor": "white"
             }
            },
            "shapedefaults": {
             "line": {
              "color": "#2a3f5f"
             }
            },
            "ternary": {
             "aaxis": {
              "gridcolor": "white",
              "linecolor": "white",
              "ticks": ""
             },
             "baxis": {
              "gridcolor": "white",
              "linecolor": "white",
              "ticks": ""
             },
             "bgcolor": "#E5ECF6",
             "caxis": {
              "gridcolor": "white",
              "linecolor": "white",
              "ticks": ""
             }
            },
            "title": {
             "x": 0.05
            },
            "xaxis": {
             "automargin": true,
             "gridcolor": "white",
             "linecolor": "white",
             "ticks": "",
             "title": {
              "standoff": 15
             },
             "zerolinecolor": "white",
             "zerolinewidth": 2
            },
            "yaxis": {
             "automargin": true,
             "gridcolor": "white",
             "linecolor": "white",
             "ticks": "",
             "title": {
              "standoff": 15
             },
             "zerolinecolor": "white",
             "zerolinewidth": 2
            }
           }
          },
          "title": {
           "text": "Annual Compensation Density Estimation:<br>Frontend",
           "x": 0.5,
           "xanchor": "center",
           "yanchor": "top"
          },
          "xaxis": {
           "ticksuffix": "k",
           "title": {
            "text": "Compensation (USD)"
           }
          },
          "yaxis": {
           "range": [
            0,
            0.012
           ],
           "tickcolor": "white",
           "ticklen": 8,
           "ticks": "outside",
           "title": {
            "text": "Probability Density"
           },
           "zeroline": false
          }
         },
         "name": "Developer, front-end"
        },
        {
         "data": [
          {
           "hovertemplate": "Compensation: %{x}",
           "line": {
            "dash": "longdashdot"
           },
           "name": "2018",
           "type": "scatter",
           "x": [
            0.2,
            0.9,
            1.5,
            2.2,
            2.9,
            3.6,
            4.3,
            4.9,
            5.6,
            6.3,
            7,
            7.7,
            8.3,
            9,
            9.7,
            10.4,
            11.1,
            11.7,
            12.4,
            13.1,
            13.8,
            14.5,
            15.1,
            15.8,
            16.5,
            17.2,
            17.9,
            18.5,
            19.2,
            19.9,
            20.6,
            21.3,
            21.9,
            22.6,
            23.3,
            24,
            24.7,
            25.3,
            26,
            26.7,
            27.4,
            28.1,
            28.7,
            29.4,
            30.1,
            30.8,
            31.5,
            32.1,
            32.8,
            33.5,
            34.2,
            34.9,
            35.5,
            36.2,
            36.9,
            37.6,
            38.3,
            38.9,
            39.6,
            40.3,
            41,
            41.7,
            42.3,
            43,
            43.7,
            44.4,
            45.1,
            45.7,
            46.4,
            47.1,
            47.8,
            48.5,
            49.1,
            49.8,
            50.5,
            51.2,
            51.9,
            52.5,
            53.2,
            53.9,
            54.6,
            55.3,
            55.9,
            56.6,
            57.3,
            58,
            58.7,
            59.3,
            60,
            60.7,
            61.4,
            62.1,
            62.7,
            63.4,
            64.1,
            64.8,
            65.5,
            66.1,
            66.8,
            67.5,
            68.2,
            68.9,
            69.5,
            70.2,
            70.9,
            71.6,
            72.3,
            72.9,
            73.6,
            74.3,
            75,
            75.7,
            76.3,
            77,
            77.7,
            78.4,
            79.1,
            79.7,
            80.4,
            81.1,
            81.8,
            82.5,
            83.1,
            83.8,
            84.5,
            85.2,
            85.9,
            86.5,
            87.2,
            87.9,
            88.6,
            89.3,
            89.9,
            90.6,
            91.3,
            92,
            92.7,
            93.3,
            94,
            94.7,
            95.4,
            96.1,
            96.7,
            97.4,
            98.1,
            98.8,
            99.5,
            100.1,
            100.8,
            101.5,
            102.2,
            102.9,
            103.5,
            104.2,
            104.9,
            105.6,
            106.3,
            106.9,
            107.6,
            108.3,
            109,
            109.7,
            110.3,
            111,
            111.7,
            112.4,
            113.1,
            113.7,
            114.4,
            115.1,
            115.8,
            116.5,
            117.1,
            117.8,
            118.5,
            119.2,
            119.9,
            120.5,
            121.2,
            121.9,
            122.6,
            123.3,
            123.9,
            124.6,
            125.3,
            126,
            126.7,
            127.3,
            128,
            128.7,
            129.4,
            130.1,
            130.7,
            131.4,
            132.1,
            132.8,
            133.5,
            134.1,
            134.8,
            135.5,
            136.2,
            136.9,
            137.5,
            138.2,
            138.9,
            139.6,
            140.3,
            140.9,
            141.6,
            142.3,
            143,
            143.7,
            144.3,
            145,
            145.7,
            146.4,
            147.1,
            147.7,
            148.4,
            149.1,
            149.8,
            150.5,
            151.1,
            151.8,
            152.5,
            153.2,
            153.9,
            154.5,
            155.2,
            155.9,
            156.6,
            157.3,
            157.9,
            158.6,
            159.3,
            160,
            160.7,
            161.3,
            162,
            162.7,
            163.4,
            164.1,
            164.7,
            165.4,
            166.1,
            166.8,
            167.5,
            168.1,
            168.8,
            169.5,
            170.2,
            170.9,
            171.5,
            172.2,
            172.9,
            173.6,
            174.3,
            174.9,
            175.6,
            176.3,
            177,
            177.7,
            178.3,
            179,
            179.7,
            180.4,
            181.1,
            181.7,
            182.4,
            183.1,
            183.8,
            184.5,
            185.1,
            185.8,
            186.5,
            187.2,
            187.9,
            188.5,
            189.2,
            189.9,
            190.6,
            191.3,
            191.9,
            192.6,
            193.3,
            194,
            194.7,
            195.3,
            196,
            196.7,
            197.4,
            198.1,
            198.7,
            199.4
           ],
           "y": [
            0.0053,
            0.0057,
            0.0062,
            0.0066,
            0.007,
            0.0073,
            0.0077,
            0.008,
            0.0082,
            0.0085,
            0.0087,
            0.0089,
            0.009,
            0.0091,
            0.0092,
            0.0092,
            0.0092,
            0.0092,
            0.0092,
            0.0091,
            0.0091,
            0.009,
            0.0089,
            0.0088,
            0.0087,
            0.0086,
            0.0086,
            0.0085,
            0.0084,
            0.0083,
            0.0083,
            0.0082,
            0.0081,
            0.0081,
            0.0081,
            0.008,
            0.008,
            0.008,
            0.008,
            0.008,
            0.008,
            0.008,
            0.008,
            0.008,
            0.0081,
            0.0081,
            0.0081,
            0.0081,
            0.0082,
            0.0082,
            0.0082,
            0.0083,
            0.0083,
            0.0083,
            0.0084,
            0.0084,
            0.0084,
            0.0085,
            0.0085,
            0.0085,
            0.0086,
            0.0086,
            0.0086,
            0.0087,
            0.0087,
            0.0087,
            0.0087,
            0.0088,
            0.0088,
            0.0088,
            0.0088,
            0.0088,
            0.0088,
            0.0089,
            0.0089,
            0.0089,
            0.0089,
            0.0089,
            0.0088,
            0.0088,
            0.0088,
            0.0088,
            0.0088,
            0.0088,
            0.0088,
            0.0088,
            0.0088,
            0.0087,
            0.0087,
            0.0087,
            0.0086,
            0.0086,
            0.0086,
            0.0085,
            0.0085,
            0.0084,
            0.0084,
            0.0083,
            0.0082,
            0.0082,
            0.0081,
            0.008,
            0.008,
            0.0079,
            0.0078,
            0.0078,
            0.0077,
            0.0076,
            0.0075,
            0.0075,
            0.0074,
            0.0073,
            0.0072,
            0.0071,
            0.007,
            0.0069,
            0.0068,
            0.0067,
            0.0066,
            0.0065,
            0.0064,
            0.0063,
            0.0062,
            0.0062,
            0.0061,
            0.006,
            0.0059,
            0.0058,
            0.0057,
            0.0057,
            0.0056,
            0.0055,
            0.0055,
            0.0054,
            0.0053,
            0.0053,
            0.0052,
            0.0052,
            0.0052,
            0.0051,
            0.0051,
            0.0051,
            0.005,
            0.005,
            0.0049,
            0.0049,
            0.0048,
            0.0048,
            0.0047,
            0.0047,
            0.0046,
            0.0046,
            0.0045,
            0.0044,
            0.0044,
            0.0043,
            0.0042,
            0.0042,
            0.0041,
            0.004,
            0.004,
            0.0039,
            0.0039,
            0.0038,
            0.0038,
            0.0038,
            0.0037,
            0.0037,
            0.0037,
            0.0036,
            0.0036,
            0.0036,
            0.0036,
            0.0035,
            0.0035,
            0.0035,
            0.0035,
            0.0034,
            0.0034,
            0.0034,
            0.0033,
            0.0033,
            0.0032,
            0.0031,
            0.0031,
            0.003,
            0.0029,
            0.0029,
            0.0028,
            0.0027,
            0.0027,
            0.0026,
            0.0025,
            0.0025,
            0.0024,
            0.0023,
            0.0023,
            0.0022,
            0.0022,
            0.0021,
            0.0021,
            0.002,
            0.002,
            0.002,
            0.0019,
            0.0019,
            0.0019,
            0.0019,
            0.0018,
            0.0018,
            0.0018,
            0.0018,
            0.0018,
            0.0017,
            0.0017,
            0.0017,
            0.0017,
            0.0016,
            0.0016,
            0.0016,
            0.0016,
            0.0015,
            0.0015,
            0.0015,
            0.0014,
            0.0014,
            0.0013,
            0.0013,
            0.0013,
            0.0012,
            0.0012,
            0.0011,
            0.0011,
            0.0011,
            0.001,
            0.001,
            0.001,
            0.0009,
            0.0009,
            0.0009,
            0.0009,
            0.0008,
            0.0008,
            0.0008,
            0.0008,
            0.0008,
            0.0007,
            0.0007,
            0.0007,
            0.0007,
            0.0007,
            0.0007,
            0.0007,
            0.0007,
            0.0007,
            0.0007,
            0.0006,
            0.0006,
            0.0006,
            0.0006,
            0.0006,
            0.0006,
            0.0006,
            0.0006,
            0.0006,
            0.0006,
            0.0005,
            0.0005,
            0.0005,
            0.0005,
            0.0005,
            0.0005,
            0.0005,
            0.0004,
            0.0004,
            0.0004,
            0.0004,
            0.0004,
            0.0004,
            0.0004,
            0.0004,
            0.0004,
            0.0004,
            0.0004,
            0.0004,
            0.0004,
            0.0004,
            0.0004,
            0.0004,
            0.0004,
            0.0004,
            0.0004,
            0.0003,
            0.0003
           ]
          },
          {
           "hovertemplate": "Compensation: %{x}",
           "line": {
            "dash": "dash"
           },
           "name": "2019",
           "type": "scatter",
           "x": [
            0.2,
            1.1,
            2,
            2.8,
            3.7,
            4.6,
            5.4,
            6.3,
            7.2,
            8,
            8.9,
            9.8,
            10.6,
            11.5,
            12.4,
            13.2,
            14.1,
            15,
            15.8,
            16.7,
            17.6,
            18.5,
            19.3,
            20.2,
            21.1,
            21.9,
            22.8,
            23.7,
            24.5,
            25.4,
            26.3,
            27.1,
            28,
            28.9,
            29.7,
            30.6,
            31.5,
            32.3,
            33.2,
            34.1,
            35,
            35.8,
            36.7,
            37.6,
            38.4,
            39.3,
            40.2,
            41,
            41.9,
            42.8,
            43.6,
            44.5,
            45.4,
            46.2,
            47.1,
            48,
            48.8,
            49.7,
            50.6,
            51.4,
            52.3,
            53.2,
            54.1,
            54.9,
            55.8,
            56.7,
            57.5,
            58.4,
            59.3,
            60.1,
            61,
            61.9,
            62.7,
            63.6,
            64.5,
            65.3,
            66.2,
            67.1,
            67.9,
            68.8,
            69.7,
            70.6,
            71.4,
            72.3,
            73.2,
            74,
            74.9,
            75.8,
            76.6,
            77.5,
            78.4,
            79.2,
            80.1,
            81,
            81.8,
            82.7,
            83.6,
            84.4,
            85.3,
            86.2,
            87.1,
            87.9,
            88.8,
            89.7,
            90.5,
            91.4,
            92.3,
            93.1,
            94,
            94.9,
            95.7,
            96.6,
            97.5,
            98.3,
            99.2,
            100.1,
            100.9,
            101.8,
            102.7,
            103.6,
            104.4,
            105.3,
            106.2,
            107,
            107.9,
            108.8,
            109.6,
            110.5,
            111.4,
            112.2,
            113.1,
            114,
            114.8,
            115.7,
            116.6,
            117.4,
            118.3,
            119.2,
            120,
            120.9,
            121.8,
            122.7,
            123.5,
            124.4,
            125.3,
            126.1,
            127,
            127.9,
            128.7,
            129.6,
            130.5,
            131.3,
            132.2,
            133.1,
            133.9,
            134.8,
            135.7,
            136.5,
            137.4,
            138.3,
            139.2,
            140,
            140.9,
            141.8,
            142.6,
            143.5,
            144.4,
            145.2,
            146.1,
            147,
            147.8,
            148.7,
            149.6,
            150.4,
            151.3,
            152.2,
            153,
            153.9,
            154.8,
            155.7,
            156.5,
            157.4,
            158.3,
            159.1,
            160,
            160.9,
            161.7,
            162.6,
            163.5,
            164.3,
            165.2,
            166.1,
            166.9,
            167.8,
            168.7,
            169.5,
            170.4,
            171.3,
            172.2,
            173,
            173.9,
            174.8,
            175.6,
            176.5,
            177.4,
            178.2,
            179.1,
            180,
            180.8,
            181.7,
            182.6,
            183.4,
            184.3,
            185.2,
            186,
            186.9,
            187.8,
            188.6,
            189.5,
            190.4,
            191.3,
            192.1,
            193,
            193.9,
            194.7,
            195.6,
            196.5,
            197.3,
            198.2,
            199.1,
            199.9
           ],
           "y": [
            0.0055,
            0.006,
            0.0065,
            0.007,
            0.0074,
            0.0079,
            0.0083,
            0.0087,
            0.009,
            0.0092,
            0.0095,
            0.0096,
            0.0098,
            0.0099,
            0.0099,
            0.0099,
            0.0099,
            0.0099,
            0.0098,
            0.0097,
            0.0096,
            0.0095,
            0.0094,
            0.0093,
            0.0092,
            0.0091,
            0.009,
            0.0089,
            0.0088,
            0.0088,
            0.0087,
            0.0087,
            0.0086,
            0.0086,
            0.0086,
            0.0086,
            0.0085,
            0.0085,
            0.0085,
            0.0085,
            0.0085,
            0.0085,
            0.0086,
            0.0086,
            0.0086,
            0.0086,
            0.0086,
            0.0086,
            0.0086,
            0.0086,
            0.0086,
            0.0085,
            0.0085,
            0.0085,
            0.0085,
            0.0084,
            0.0084,
            0.0084,
            0.0084,
            0.0083,
            0.0083,
            0.0082,
            0.0082,
            0.0082,
            0.0081,
            0.0081,
            0.008,
            0.008,
            0.0079,
            0.0079,
            0.0078,
            0.0078,
            0.0077,
            0.0077,
            0.0076,
            0.0075,
            0.0075,
            0.0074,
            0.0073,
            0.0073,
            0.0072,
            0.0071,
            0.007,
            0.0069,
            0.0068,
            0.0067,
            0.0066,
            0.0065,
            0.0065,
            0.0064,
            0.0063,
            0.0062,
            0.0061,
            0.006,
            0.0059,
            0.0058,
            0.0057,
            0.0056,
            0.0055,
            0.0054,
            0.0053,
            0.0052,
            0.0051,
            0.0051,
            0.005,
            0.0049,
            0.0048,
            0.0048,
            0.0047,
            0.0046,
            0.0045,
            0.0045,
            0.0044,
            0.0043,
            0.0043,
            0.0042,
            0.0041,
            0.004,
            0.0039,
            0.0039,
            0.0038,
            0.0037,
            0.0036,
            0.0036,
            0.0035,
            0.0034,
            0.0034,
            0.0033,
            0.0033,
            0.0032,
            0.0032,
            0.0031,
            0.0031,
            0.0031,
            0.003,
            0.003,
            0.003,
            0.0029,
            0.0029,
            0.0029,
            0.0028,
            0.0028,
            0.0028,
            0.0027,
            0.0027,
            0.0026,
            0.0026,
            0.0026,
            0.0025,
            0.0025,
            0.0024,
            0.0024,
            0.0023,
            0.0023,
            0.0022,
            0.0022,
            0.0021,
            0.0021,
            0.0021,
            0.002,
            0.002,
            0.0019,
            0.0019,
            0.0019,
            0.0018,
            0.0018,
            0.0018,
            0.0017,
            0.0017,
            0.0017,
            0.0017,
            0.0016,
            0.0016,
            0.0016,
            0.0015,
            0.0015,
            0.0015,
            0.0014,
            0.0014,
            0.0014,
            0.0013,
            0.0013,
            0.0013,
            0.0012,
            0.0012,
            0.0012,
            0.0012,
            0.0011,
            0.0011,
            0.0011,
            0.0011,
            0.001,
            0.001,
            0.001,
            0.001,
            0.001,
            0.0009,
            0.0009,
            0.0009,
            0.0009,
            0.0009,
            0.0009,
            0.0008,
            0.0008,
            0.0008,
            0.0008,
            0.0008,
            0.0008,
            0.0007,
            0.0007,
            0.0007,
            0.0007,
            0.0007,
            0.0006,
            0.0006,
            0.0006,
            0.0006,
            0.0006,
            0.0006,
            0.0005,
            0.0005,
            0.0005,
            0.0005,
            0.0005,
            0.0005,
            0.0005,
            0.0005,
            0.0005,
            0.0005,
            0.0005,
            0.0005
           ]
          },
          {
           "hovertemplate": "Compensation: %{x}",
           "line": {
            "dash": "dashdot"
           },
           "name": "2020",
           "type": "scatter",
           "x": [
            0.2,
            1,
            1.7,
            2.5,
            3.3,
            4.1,
            4.8,
            5.6,
            6.4,
            7.1,
            7.9,
            8.7,
            9.5,
            10.2,
            11,
            11.8,
            12.5,
            13.3,
            14.1,
            14.9,
            15.6,
            16.4,
            17.2,
            17.9,
            18.7,
            19.5,
            20.3,
            21,
            21.8,
            22.6,
            23.3,
            24.1,
            24.9,
            25.7,
            26.4,
            27.2,
            28,
            28.7,
            29.5,
            30.3,
            31.1,
            31.8,
            32.6,
            33.4,
            34.1,
            34.9,
            35.7,
            36.5,
            37.2,
            38,
            38.8,
            39.5,
            40.3,
            41.1,
            41.9,
            42.6,
            43.4,
            44.2,
            44.9,
            45.7,
            46.5,
            47.3,
            48,
            48.8,
            49.6,
            50.3,
            51.1,
            51.9,
            52.7,
            53.4,
            54.2,
            55,
            55.7,
            56.5,
            57.3,
            58.1,
            58.8,
            59.6,
            60.4,
            61.1,
            61.9,
            62.7,
            63.5,
            64.2,
            65,
            65.8,
            66.5,
            67.3,
            68.1,
            68.9,
            69.6,
            70.4,
            71.2,
            71.9,
            72.7,
            73.5,
            74.3,
            75,
            75.8,
            76.6,
            77.3,
            78.1,
            78.9,
            79.7,
            80.4,
            81.2,
            82,
            82.7,
            83.5,
            84.3,
            85.1,
            85.8,
            86.6,
            87.4,
            88.1,
            88.9,
            89.7,
            90.5,
            91.2,
            92,
            92.8,
            93.5,
            94.3,
            95.1,
            95.9,
            96.6,
            97.4,
            98.2,
            98.9,
            99.7,
            100.5,
            101.3,
            102,
            102.8,
            103.6,
            104.3,
            105.1,
            105.9,
            106.7,
            107.4,
            108.2,
            109,
            109.7,
            110.5,
            111.3,
            112.1,
            112.8,
            113.6,
            114.4,
            115.1,
            115.9,
            116.7,
            117.5,
            118.2,
            119,
            119.8,
            120.5,
            121.3,
            122.1,
            122.9,
            123.6,
            124.4,
            125.2,
            125.9,
            126.7,
            127.5,
            128.3,
            129,
            129.8,
            130.6,
            131.3,
            132.1,
            132.9,
            133.7,
            134.4,
            135.2,
            136,
            136.7,
            137.5,
            138.3,
            139.1,
            139.8,
            140.6,
            141.4,
            142.1,
            142.9,
            143.7,
            144.5,
            145.2,
            146,
            146.8,
            147.5,
            148.3,
            149.1,
            149.9,
            150.6,
            151.4,
            152.2,
            152.9,
            153.7,
            154.5,
            155.3,
            156,
            156.8,
            157.6,
            158.3,
            159.1,
            159.9,
            160.7,
            161.4,
            162.2,
            163,
            163.7,
            164.5,
            165.3,
            166.1,
            166.8,
            167.6,
            168.4,
            169.1,
            169.9,
            170.7,
            171.5,
            172.2,
            173,
            173.8,
            174.5,
            175.3,
            176.1,
            176.9,
            177.6,
            178.4,
            179.2,
            179.9,
            180.7,
            181.5,
            182.3,
            183,
            183.8,
            184.6,
            185.3,
            186.1,
            186.9,
            187.7,
            188.4,
            189.2,
            190,
            190.7,
            191.5,
            192.3,
            193.1,
            193.8,
            194.6,
            195.4,
            196.1,
            196.9,
            197.7,
            198.5,
            199.2
           ],
           "y": [
            0.0054,
            0.0059,
            0.0064,
            0.0068,
            0.0073,
            0.0077,
            0.0081,
            0.0084,
            0.0088,
            0.0091,
            0.0093,
            0.0096,
            0.0097,
            0.0099,
            0.01,
            0.0101,
            0.0101,
            0.0102,
            0.0102,
            0.0101,
            0.0101,
            0.01,
            0.01,
            0.0099,
            0.0098,
            0.0097,
            0.0096,
            0.0095,
            0.0094,
            0.0094,
            0.0093,
            0.0092,
            0.0091,
            0.0091,
            0.009,
            0.009,
            0.0089,
            0.0089,
            0.0089,
            0.0089,
            0.0088,
            0.0088,
            0.0088,
            0.0088,
            0.0088,
            0.0089,
            0.0089,
            0.0089,
            0.0089,
            0.0089,
            0.0089,
            0.0089,
            0.0089,
            0.0089,
            0.0089,
            0.0089,
            0.0089,
            0.0089,
            0.0088,
            0.0088,
            0.0088,
            0.0088,
            0.0087,
            0.0087,
            0.0086,
            0.0086,
            0.0086,
            0.0085,
            0.0085,
            0.0084,
            0.0083,
            0.0083,
            0.0082,
            0.0082,
            0.0081,
            0.0081,
            0.008,
            0.008,
            0.0079,
            0.0078,
            0.0078,
            0.0077,
            0.0076,
            0.0076,
            0.0075,
            0.0074,
            0.0073,
            0.0073,
            0.0072,
            0.0071,
            0.007,
            0.0069,
            0.0068,
            0.0068,
            0.0067,
            0.0066,
            0.0065,
            0.0064,
            0.0063,
            0.0062,
            0.0061,
            0.006,
            0.0059,
            0.0058,
            0.0057,
            0.0057,
            0.0056,
            0.0055,
            0.0054,
            0.0053,
            0.0052,
            0.0051,
            0.005,
            0.0049,
            0.0049,
            0.0048,
            0.0047,
            0.0046,
            0.0046,
            0.0045,
            0.0044,
            0.0044,
            0.0043,
            0.0043,
            0.0042,
            0.0041,
            0.0041,
            0.004,
            0.004,
            0.0039,
            0.0039,
            0.0038,
            0.0038,
            0.0037,
            0.0037,
            0.0037,
            0.0036,
            0.0036,
            0.0035,
            0.0035,
            0.0034,
            0.0034,
            0.0033,
            0.0033,
            0.0033,
            0.0032,
            0.0032,
            0.0032,
            0.0031,
            0.0031,
            0.0031,
            0.0031,
            0.003,
            0.003,
            0.003,
            0.0029,
            0.0029,
            0.0029,
            0.0029,
            0.0028,
            0.0028,
            0.0028,
            0.0027,
            0.0027,
            0.0026,
            0.0026,
            0.0026,
            0.0025,
            0.0025,
            0.0024,
            0.0024,
            0.0024,
            0.0023,
            0.0023,
            0.0022,
            0.0022,
            0.0021,
            0.0021,
            0.0021,
            0.002,
            0.002,
            0.002,
            0.0019,
            0.0019,
            0.0019,
            0.0018,
            0.0018,
            0.0018,
            0.0017,
            0.0017,
            0.0017,
            0.0017,
            0.0016,
            0.0016,
            0.0016,
            0.0016,
            0.0016,
            0.0015,
            0.0015,
            0.0015,
            0.0015,
            0.0014,
            0.0014,
            0.0014,
            0.0014,
            0.0013,
            0.0013,
            0.0013,
            0.0013,
            0.0012,
            0.0012,
            0.0012,
            0.0012,
            0.0011,
            0.0011,
            0.0011,
            0.0011,
            0.001,
            0.001,
            0.001,
            0.001,
            0.001,
            0.0009,
            0.0009,
            0.0009,
            0.0009,
            0.0009,
            0.0009,
            0.0008,
            0.0008,
            0.0008,
            0.0008,
            0.0008,
            0.0007,
            0.0007,
            0.0007,
            0.0007,
            0.0007,
            0.0007,
            0.0006,
            0.0006,
            0.0006,
            0.0006,
            0.0006,
            0.0006,
            0.0006,
            0.0005,
            0.0005,
            0.0005,
            0.0005,
            0.0005,
            0.0005,
            0.0005,
            0.0005,
            0.0005,
            0.0005,
            0.0005,
            0.0005,
            0.0005
           ]
          }
         ],
         "layout": {
          "template": {
           "data": {
            "bar": [
             {
              "error_x": {
               "color": "#2a3f5f"
              },
              "error_y": {
               "color": "#2a3f5f"
              },
              "marker": {
               "line": {
                "color": "#E5ECF6",
                "width": 0.5
               }
              },
              "type": "bar"
             }
            ],
            "barpolar": [
             {
              "marker": {
               "line": {
                "color": "#E5ECF6",
                "width": 0.5
               }
              },
              "type": "barpolar"
             }
            ],
            "carpet": [
             {
              "aaxis": {
               "endlinecolor": "#2a3f5f",
               "gridcolor": "white",
               "linecolor": "white",
               "minorgridcolor": "white",
               "startlinecolor": "#2a3f5f"
              },
              "baxis": {
               "endlinecolor": "#2a3f5f",
               "gridcolor": "white",
               "linecolor": "white",
               "minorgridcolor": "white",
               "startlinecolor": "#2a3f5f"
              },
              "type": "carpet"
             }
            ],
            "choropleth": [
             {
              "colorbar": {
               "outlinewidth": 0,
               "ticks": ""
              },
              "type": "choropleth"
             }
            ],
            "contour": [
             {
              "colorbar": {
               "outlinewidth": 0,
               "ticks": ""
              },
              "colorscale": [
               [
                0,
                "#0d0887"
               ],
               [
                0.1111111111111111,
                "#46039f"
               ],
               [
                0.2222222222222222,
                "#7201a8"
               ],
               [
                0.3333333333333333,
                "#9c179e"
               ],
               [
                0.4444444444444444,
                "#bd3786"
               ],
               [
                0.5555555555555556,
                "#d8576b"
               ],
               [
                0.6666666666666666,
                "#ed7953"
               ],
               [
                0.7777777777777778,
                "#fb9f3a"
               ],
               [
                0.8888888888888888,
                "#fdca26"
               ],
               [
                1,
                "#f0f921"
               ]
              ],
              "type": "contour"
             }
            ],
            "contourcarpet": [
             {
              "colorbar": {
               "outlinewidth": 0,
               "ticks": ""
              },
              "type": "contourcarpet"
             }
            ],
            "heatmap": [
             {
              "colorbar": {
               "outlinewidth": 0,
               "ticks": ""
              },
              "colorscale": [
               [
                0,
                "#0d0887"
               ],
               [
                0.1111111111111111,
                "#46039f"
               ],
               [
                0.2222222222222222,
                "#7201a8"
               ],
               [
                0.3333333333333333,
                "#9c179e"
               ],
               [
                0.4444444444444444,
                "#bd3786"
               ],
               [
                0.5555555555555556,
                "#d8576b"
               ],
               [
                0.6666666666666666,
                "#ed7953"
               ],
               [
                0.7777777777777778,
                "#fb9f3a"
               ],
               [
                0.8888888888888888,
                "#fdca26"
               ],
               [
                1,
                "#f0f921"
               ]
              ],
              "type": "heatmap"
             }
            ],
            "heatmapgl": [
             {
              "colorbar": {
               "outlinewidth": 0,
               "ticks": ""
              },
              "colorscale": [
               [
                0,
                "#0d0887"
               ],
               [
                0.1111111111111111,
                "#46039f"
               ],
               [
                0.2222222222222222,
                "#7201a8"
               ],
               [
                0.3333333333333333,
                "#9c179e"
               ],
               [
                0.4444444444444444,
                "#bd3786"
               ],
               [
                0.5555555555555556,
                "#d8576b"
               ],
               [
                0.6666666666666666,
                "#ed7953"
               ],
               [
                0.7777777777777778,
                "#fb9f3a"
               ],
               [
                0.8888888888888888,
                "#fdca26"
               ],
               [
                1,
                "#f0f921"
               ]
              ],
              "type": "heatmapgl"
             }
            ],
            "histogram": [
             {
              "marker": {
               "colorbar": {
                "outlinewidth": 0,
                "ticks": ""
               }
              },
              "type": "histogram"
             }
            ],
            "histogram2d": [
             {
              "colorbar": {
               "outlinewidth": 0,
               "ticks": ""
              },
              "colorscale": [
               [
                0,
                "#0d0887"
               ],
               [
                0.1111111111111111,
                "#46039f"
               ],
               [
                0.2222222222222222,
                "#7201a8"
               ],
               [
                0.3333333333333333,
                "#9c179e"
               ],
               [
                0.4444444444444444,
                "#bd3786"
               ],
               [
                0.5555555555555556,
                "#d8576b"
               ],
               [
                0.6666666666666666,
                "#ed7953"
               ],
               [
                0.7777777777777778,
                "#fb9f3a"
               ],
               [
                0.8888888888888888,
                "#fdca26"
               ],
               [
                1,
                "#f0f921"
               ]
              ],
              "type": "histogram2d"
             }
            ],
            "histogram2dcontour": [
             {
              "colorbar": {
               "outlinewidth": 0,
               "ticks": ""
              },
              "colorscale": [
               [
                0,
                "#0d0887"
               ],
               [
                0.1111111111111111,
                "#46039f"
               ],
               [
                0.2222222222222222,
                "#7201a8"
               ],
               [
                0.3333333333333333,
                "#9c179e"
               ],
               [
                0.4444444444444444,
                "#bd3786"
               ],
               [
                0.5555555555555556,
                "#d8576b"
               ],
               [
                0.6666666666666666,
                "#ed7953"
               ],
               [
                0.7777777777777778,
                "#fb9f3a"
               ],
               [
                0.8888888888888888,
                "#fdca26"
               ],
               [
                1,
                "#f0f921"
               ]
              ],
              "type": "histogram2dcontour"
             }
            ],
            "mesh3d": [
             {
              "colorbar": {
               "outlinewidth": 0,
               "ticks": ""
              },
              "type": "mesh3d"
             }
            ],
            "parcoords": [
             {
              "line": {
               "colorbar": {
                "outlinewidth": 0,
                "ticks": ""
               }
              },
              "type": "parcoords"
             }
            ],
            "pie": [
             {
              "automargin": true,
              "type": "pie"
             }
            ],
            "scatter": [
             {
              "marker": {
               "colorbar": {
                "outlinewidth": 0,
                "ticks": ""
               }
              },
              "type": "scatter"
             }
            ],
            "scatter3d": [
             {
              "line": {
               "colorbar": {
                "outlinewidth": 0,
                "ticks": ""
               }
              },
              "marker": {
               "colorbar": {
                "outlinewidth": 0,
                "ticks": ""
               }
              },
              "type": "scatter3d"
             }
            ],
            "scattercarpet": [
             {
              "marker": {
               "colorbar": {
                "outlinewidth": 0,
                "ticks": ""
               }
              },
              "type": "scattercarpet"
             }
            ],
            "scattergeo": [
             {
              "marker": {
               "colorbar": {
                "outlinewidth": 0,
                "ticks": ""
               }
              },
              "type": "scattergeo"
             }
            ],
            "scattergl": [
             {
              "marker": {
               "colorbar": {
                "outlinewidth": 0,
                "ticks": ""
               }
              },
              "type": "scattergl"
             }
            ],
            "scattermapbox": [
             {
              "marker": {
               "colorbar": {
                "outlinewidth": 0,
                "ticks": ""
               }
              },
              "type": "scattermapbox"
             }
            ],
            "scatterpolar": [
             {
              "marker": {
               "colorbar": {
                "outlinewidth": 0,
                "ticks": ""
               }
              },
              "type": "scatterpolar"
             }
            ],
            "scatterpolargl": [
             {
              "marker": {
               "colorbar": {
                "outlinewidth": 0,
                "ticks": ""
               }
              },
              "type": "scatterpolargl"
             }
            ],
            "scatterternary": [
             {
              "marker": {
               "colorbar": {
                "outlinewidth": 0,
                "ticks": ""
               }
              },
              "type": "scatterternary"
             }
            ],
            "surface": [
             {
              "colorbar": {
               "outlinewidth": 0,
               "ticks": ""
              },
              "colorscale": [
               [
                0,
                "#0d0887"
               ],
               [
                0.1111111111111111,
                "#46039f"
               ],
               [
                0.2222222222222222,
                "#7201a8"
               ],
               [
                0.3333333333333333,
                "#9c179e"
               ],
               [
                0.4444444444444444,
                "#bd3786"
               ],
               [
                0.5555555555555556,
                "#d8576b"
               ],
               [
                0.6666666666666666,
                "#ed7953"
               ],
               [
                0.7777777777777778,
                "#fb9f3a"
               ],
               [
                0.8888888888888888,
                "#fdca26"
               ],
               [
                1,
                "#f0f921"
               ]
              ],
              "type": "surface"
             }
            ],
            "table": [
             {
              "cells": {
               "fill": {
                "color": "#EBF0F8"
               },
               "line": {
                "color": "white"
               }
              },
              "header": {
               "fill": {
                "color": "#C8D4E3"
               },
               "line": {
                "color": "white"
               }
              },
              "type": "table"
             }
            ]
           },
           "layout": {
            "annotationdefaults": {
             "arrowcolor": "#2a3f5f",
             "arrowhead": 0,
             "arrowwidth": 1
            },
            "coloraxis": {
             "colorbar": {
              "outlinewidth": 0,
              "ticks": ""
             }
            },
            "colorscale": {
             "diverging": [
              [
               0,
               "#8e0152"
              ],
              [
               0.1,
               "#c51b7d"
              ],
              [
               0.2,
               "#de77ae"
              ],
              [
               0.3,
               "#f1b6da"
              ],
              [
               0.4,
               "#fde0ef"
              ],
              [
               0.5,
               "#f7f7f7"
              ],
              [
               0.6,
               "#e6f5d0"
              ],
              [
               0.7,
               "#b8e186"
              ],
              [
               0.8,
               "#7fbc41"
              ],
              [
               0.9,
               "#4d9221"
              ],
              [
               1,
               "#276419"
              ]
             ],
             "sequential": [
              [
               0,
               "#0d0887"
              ],
              [
               0.1111111111111111,
               "#46039f"
              ],
              [
               0.2222222222222222,
               "#7201a8"
              ],
              [
               0.3333333333333333,
               "#9c179e"
              ],
              [
               0.4444444444444444,
               "#bd3786"
              ],
              [
               0.5555555555555556,
               "#d8576b"
              ],
              [
               0.6666666666666666,
               "#ed7953"
              ],
              [
               0.7777777777777778,
               "#fb9f3a"
              ],
              [
               0.8888888888888888,
               "#fdca26"
              ],
              [
               1,
               "#f0f921"
              ]
             ],
             "sequentialminus": [
              [
               0,
               "#0d0887"
              ],
              [
               0.1111111111111111,
               "#46039f"
              ],
              [
               0.2222222222222222,
               "#7201a8"
              ],
              [
               0.3333333333333333,
               "#9c179e"
              ],
              [
               0.4444444444444444,
               "#bd3786"
              ],
              [
               0.5555555555555556,
               "#d8576b"
              ],
              [
               0.6666666666666666,
               "#ed7953"
              ],
              [
               0.7777777777777778,
               "#fb9f3a"
              ],
              [
               0.8888888888888888,
               "#fdca26"
              ],
              [
               1,
               "#f0f921"
              ]
             ]
            },
            "colorway": [
             "#636efa",
             "#EF553B",
             "#00cc96",
             "#ab63fa",
             "#FFA15A",
             "#19d3f3",
             "#FF6692",
             "#B6E880",
             "#FF97FF",
             "#FECB52"
            ],
            "font": {
             "color": "#2a3f5f"
            },
            "geo": {
             "bgcolor": "white",
             "lakecolor": "white",
             "landcolor": "#E5ECF6",
             "showlakes": true,
             "showland": true,
             "subunitcolor": "white"
            },
            "hoverlabel": {
             "align": "left"
            },
            "hovermode": "closest",
            "mapbox": {
             "style": "light"
            },
            "paper_bgcolor": "white",
            "plot_bgcolor": "#E5ECF6",
            "polar": {
             "angularaxis": {
              "gridcolor": "white",
              "linecolor": "white",
              "ticks": ""
             },
             "bgcolor": "#E5ECF6",
             "radialaxis": {
              "gridcolor": "white",
              "linecolor": "white",
              "ticks": ""
             }
            },
            "scene": {
             "xaxis": {
              "backgroundcolor": "#E5ECF6",
              "gridcolor": "white",
              "gridwidth": 2,
              "linecolor": "white",
              "showbackground": true,
              "ticks": "",
              "zerolinecolor": "white"
             },
             "yaxis": {
              "backgroundcolor": "#E5ECF6",
              "gridcolor": "white",
              "gridwidth": 2,
              "linecolor": "white",
              "showbackground": true,
              "ticks": "",
              "zerolinecolor": "white"
             },
             "zaxis": {
              "backgroundcolor": "#E5ECF6",
              "gridcolor": "white",
              "gridwidth": 2,
              "linecolor": "white",
              "showbackground": true,
              "ticks": "",
              "zerolinecolor": "white"
             }
            },
            "shapedefaults": {
             "line": {
              "color": "#2a3f5f"
             }
            },
            "ternary": {
             "aaxis": {
              "gridcolor": "white",
              "linecolor": "white",
              "ticks": ""
             },
             "baxis": {
              "gridcolor": "white",
              "linecolor": "white",
              "ticks": ""
             },
             "bgcolor": "#E5ECF6",
             "caxis": {
              "gridcolor": "white",
              "linecolor": "white",
              "ticks": ""
             }
            },
            "title": {
             "x": 0.05
            },
            "xaxis": {
             "automargin": true,
             "gridcolor": "white",
             "linecolor": "white",
             "ticks": "",
             "title": {
              "standoff": 15
             },
             "zerolinecolor": "white",
             "zerolinewidth": 2
            },
            "yaxis": {
             "automargin": true,
             "gridcolor": "white",
             "linecolor": "white",
             "ticks": "",
             "title": {
              "standoff": 15
             },
             "zerolinecolor": "white",
             "zerolinewidth": 2
            }
           }
          },
          "title": {
           "text": "Annual Compensation Density Estimation:<br>Fullstack",
           "x": 0.5,
           "xanchor": "center",
           "yanchor": "top"
          },
          "xaxis": {
           "ticksuffix": "k",
           "title": {
            "text": "Compensation (USD)"
           }
          },
          "yaxis": {
           "range": [
            0,
            0.012
           ],
           "tickcolor": "white",
           "ticklen": 8,
           "ticks": "outside",
           "title": {
            "text": "Probability Density"
           },
           "zeroline": false
          }
         },
         "name": "Developer, full-stack"
        },
        {
         "data": [
          {
           "hovertemplate": "Compensation: %{x}",
           "line": {
            "dash": "longdashdot"
           },
           "name": "2018",
           "type": "scatter",
           "x": [
            0.2,
            0.8,
            1.5,
            2.2,
            2.9,
            3.6,
            4.2,
            4.9,
            5.6,
            6.3,
            6.9,
            7.6,
            8.3,
            9,
            9.6,
            10.3,
            11,
            11.7,
            12.4,
            13,
            13.7,
            14.4,
            15.1,
            15.7,
            16.4,
            17.1,
            17.8,
            18.4,
            19.1,
            19.8,
            20.5,
            21.2,
            21.8,
            22.5,
            23.2,
            23.9,
            24.5,
            25.2,
            25.9,
            26.6,
            27.2,
            27.9,
            28.6,
            29.3,
            30,
            30.6,
            31.3,
            32,
            32.7,
            33.3,
            34,
            34.7,
            35.4,
            36,
            36.7,
            37.4,
            38.1,
            38.8,
            39.4,
            40.1,
            40.8,
            41.5,
            42.1,
            42.8,
            43.5,
            44.2,
            44.8,
            45.5,
            46.2,
            46.9,
            47.6,
            48.2,
            48.9,
            49.6,
            50.3,
            50.9,
            51.6,
            52.3,
            53,
            53.6,
            54.3,
            55,
            55.7,
            56.4,
            57,
            57.7,
            58.4,
            59.1,
            59.7,
            60.4,
            61.1,
            61.8,
            62.4,
            63.1,
            63.8,
            64.5,
            65.2,
            65.8,
            66.5,
            67.2,
            67.9,
            68.5,
            69.2,
            69.9,
            70.6,
            71.2,
            71.9,
            72.6,
            73.3,
            74,
            74.6,
            75.3,
            76,
            76.7,
            77.3,
            78,
            78.7,
            79.4,
            80,
            80.7,
            81.4,
            82.1,
            82.8,
            83.4,
            84.1,
            84.8,
            85.5,
            86.1,
            86.8,
            87.5,
            88.2,
            88.8,
            89.5,
            90.2,
            90.9,
            91.6,
            92.2,
            92.9,
            93.6,
            94.3,
            94.9,
            95.6,
            96.3,
            97,
            97.6,
            98.3,
            99,
            99.7,
            100.4,
            101,
            101.7,
            102.4,
            103.1,
            103.7,
            104.4,
            105.1,
            105.8,
            106.5,
            107.1,
            107.8,
            108.5,
            109.2,
            109.8,
            110.5,
            111.2,
            111.9,
            112.5,
            113.2,
            113.9,
            114.6,
            115.3,
            115.9,
            116.6,
            117.3,
            118,
            118.6,
            119.3,
            120,
            120.7,
            121.3,
            122,
            122.7,
            123.4,
            124.1,
            124.7,
            125.4,
            126.1,
            126.8,
            127.4,
            128.1,
            128.8,
            129.5,
            130.1,
            130.8,
            131.5,
            132.2,
            132.9,
            133.5,
            134.2,
            134.9,
            135.6,
            136.2,
            136.9,
            137.6,
            138.3,
            138.9,
            139.6,
            140.3,
            141,
            141.7,
            142.3,
            143,
            143.7,
            144.4,
            145,
            145.7,
            146.4,
            147.1,
            147.7,
            148.4,
            149.1,
            149.8,
            150.5,
            151.1,
            151.8,
            152.5,
            153.2,
            153.8,
            154.5,
            155.2,
            155.9,
            156.5,
            157.2,
            157.9,
            158.6,
            159.3,
            159.9,
            160.6,
            161.3,
            162,
            162.6,
            163.3,
            164,
            164.7,
            165.3,
            166,
            166.7,
            167.4,
            168.1,
            168.7,
            169.4,
            170.1,
            170.8,
            171.4,
            172.1,
            172.8,
            173.5,
            174.1,
            174.8,
            175.5,
            176.2,
            176.9,
            177.5,
            178.2,
            178.9,
            179.6,
            180.2,
            180.9,
            181.6,
            182.3,
            182.9,
            183.6,
            184.3,
            185,
            185.7,
            186.3,
            187,
            187.7,
            188.4,
            189,
            189.7,
            190.4,
            191.1,
            191.7,
            192.4,
            193.1,
            193.8,
            194.5,
            195.1,
            195.8,
            196.5,
            197.2,
            197.8,
            198.5,
            199.2,
            199.9
           ],
           "y": [
            0.0094,
            0.0099,
            0.0104,
            0.0109,
            0.0114,
            0.0118,
            0.0121,
            0.0125,
            0.0128,
            0.013,
            0.0132,
            0.0134,
            0.0135,
            0.0135,
            0.0136,
            0.0135,
            0.0135,
            0.0134,
            0.0133,
            0.0132,
            0.013,
            0.0128,
            0.0126,
            0.0124,
            0.0122,
            0.012,
            0.0117,
            0.0115,
            0.0113,
            0.0111,
            0.0109,
            0.0107,
            0.0105,
            0.0103,
            0.0101,
            0.0099,
            0.0098,
            0.0096,
            0.0095,
            0.0094,
            0.0092,
            0.0091,
            0.009,
            0.0089,
            0.0088,
            0.0088,
            0.0087,
            0.0086,
            0.0086,
            0.0085,
            0.0085,
            0.0084,
            0.0084,
            0.0084,
            0.0083,
            0.0083,
            0.0082,
            0.0082,
            0.0082,
            0.0081,
            0.0081,
            0.0081,
            0.008,
            0.008,
            0.008,
            0.0079,
            0.0079,
            0.0078,
            0.0078,
            0.0078,
            0.0077,
            0.0077,
            0.0076,
            0.0076,
            0.0075,
            0.0074,
            0.0074,
            0.0073,
            0.0073,
            0.0072,
            0.0072,
            0.0071,
            0.0071,
            0.007,
            0.007,
            0.0069,
            0.0068,
            0.0068,
            0.0068,
            0.0067,
            0.0067,
            0.0066,
            0.0066,
            0.0065,
            0.0065,
            0.0064,
            0.0064,
            0.0064,
            0.0063,
            0.0063,
            0.0062,
            0.0062,
            0.0061,
            0.0061,
            0.006,
            0.006,
            0.0059,
            0.0059,
            0.0058,
            0.0058,
            0.0057,
            0.0056,
            0.0056,
            0.0055,
            0.0054,
            0.0054,
            0.0053,
            0.0052,
            0.0051,
            0.0051,
            0.005,
            0.0049,
            0.0048,
            0.0048,
            0.0047,
            0.0046,
            0.0045,
            0.0045,
            0.0044,
            0.0043,
            0.0042,
            0.0042,
            0.0041,
            0.004,
            0.004,
            0.0039,
            0.0039,
            0.0038,
            0.0037,
            0.0037,
            0.0036,
            0.0036,
            0.0035,
            0.0035,
            0.0034,
            0.0034,
            0.0033,
            0.0033,
            0.0032,
            0.0032,
            0.0031,
            0.0031,
            0.003,
            0.003,
            0.003,
            0.0029,
            0.0029,
            0.0028,
            0.0028,
            0.0028,
            0.0027,
            0.0027,
            0.0027,
            0.0027,
            0.0026,
            0.0026,
            0.0026,
            0.0025,
            0.0025,
            0.0025,
            0.0025,
            0.0025,
            0.0024,
            0.0024,
            0.0024,
            0.0024,
            0.0023,
            0.0023,
            0.0023,
            0.0022,
            0.0022,
            0.0022,
            0.0021,
            0.0021,
            0.0021,
            0.002,
            0.002,
            0.002,
            0.0019,
            0.0019,
            0.0019,
            0.0018,
            0.0018,
            0.0018,
            0.0017,
            0.0017,
            0.0017,
            0.0016,
            0.0016,
            0.0016,
            0.0016,
            0.0016,
            0.0016,
            0.0015,
            0.0015,
            0.0015,
            0.0015,
            0.0015,
            0.0015,
            0.0015,
            0.0015,
            0.0015,
            0.0015,
            0.0015,
            0.0015,
            0.0015,
            0.0015,
            0.0015,
            0.0015,
            0.0015,
            0.0015,
            0.0014,
            0.0014,
            0.0014,
            0.0014,
            0.0014,
            0.0013,
            0.0013,
            0.0013,
            0.0012,
            0.0012,
            0.0012,
            0.0012,
            0.0011,
            0.0011,
            0.0011,
            0.001,
            0.001,
            0.001,
            0.0009,
            0.0009,
            0.0009,
            0.0009,
            0.0008,
            0.0008,
            0.0008,
            0.0008,
            0.0008,
            0.0008,
            0.0008,
            0.0008,
            0.0007,
            0.0007,
            0.0007,
            0.0007,
            0.0007,
            0.0007,
            0.0007,
            0.0007,
            0.0007,
            0.0007,
            0.0007,
            0.0006,
            0.0006,
            0.0006,
            0.0006,
            0.0006,
            0.0006,
            0.0006,
            0.0005,
            0.0005,
            0.0005,
            0.0005,
            0.0005,
            0.0005,
            0.0004,
            0.0004,
            0.0004,
            0.0004,
            0.0004,
            0.0004,
            0.0004,
            0.0004,
            0.0004,
            0.0004,
            0.0004,
            0.0004,
            0.0004,
            0.0004,
            0.0003,
            0.0003,
            0.0003,
            0.0003,
            0.0003,
            0.0003,
            0.0003
           ]
          },
          {
           "hovertemplate": "Compensation: %{x}",
           "line": {
            "dash": "dash"
           },
           "name": "2019",
           "type": "scatter",
           "x": [
            0.2,
            1.1,
            1.9,
            2.8,
            3.7,
            4.5,
            5.4,
            6.2,
            7.1,
            8,
            8.8,
            9.7,
            10.5,
            11.4,
            12.3,
            13.1,
            14,
            14.8,
            15.7,
            16.6,
            17.4,
            18.3,
            19.1,
            20,
            20.9,
            21.7,
            22.6,
            23.4,
            24.3,
            25.2,
            26,
            26.9,
            27.7,
            28.6,
            29.5,
            30.3,
            31.2,
            32,
            32.9,
            33.8,
            34.6,
            35.5,
            36.3,
            37.2,
            38.1,
            38.9,
            39.8,
            40.6,
            41.5,
            42.4,
            43.2,
            44.1,
            44.9,
            45.8,
            46.7,
            47.5,
            48.4,
            49.2,
            50.1,
            51,
            51.8,
            52.7,
            53.5,
            54.4,
            55.3,
            56.1,
            57,
            57.8,
            58.7,
            59.6,
            60.4,
            61.3,
            62.1,
            63,
            63.9,
            64.7,
            65.6,
            66.4,
            67.3,
            68.2,
            69,
            69.9,
            70.7,
            71.6,
            72.5,
            73.3,
            74.2,
            75.1,
            75.9,
            76.8,
            77.6,
            78.5,
            79.4,
            80.2,
            81.1,
            81.9,
            82.8,
            83.7,
            84.5,
            85.4,
            86.2,
            87.1,
            88,
            88.8,
            89.7,
            90.5,
            91.4,
            92.3,
            93.1,
            94,
            94.8,
            95.7,
            96.6,
            97.4,
            98.3,
            99.1,
            100,
            100.9,
            101.7,
            102.6,
            103.4,
            104.3,
            105.2,
            106,
            106.9,
            107.7,
            108.6,
            109.5,
            110.3,
            111.2,
            112,
            112.9,
            113.8,
            114.6,
            115.5,
            116.3,
            117.2,
            118.1,
            118.9,
            119.8,
            120.6,
            121.5,
            122.4,
            123.2,
            124.1,
            124.9,
            125.8,
            126.7,
            127.5,
            128.4,
            129.2,
            130.1,
            131,
            131.8,
            132.7,
            133.5,
            134.4,
            135.3,
            136.1,
            137,
            137.8,
            138.7,
            139.6,
            140.4,
            141.3,
            142.1,
            143,
            143.9,
            144.7,
            145.6,
            146.4,
            147.3,
            148.2,
            149,
            149.9,
            150.7,
            151.6,
            152.5,
            153.3,
            154.2,
            155,
            155.9,
            156.8,
            157.6,
            158.5,
            159.3,
            160.2,
            161.1,
            161.9,
            162.8,
            163.6,
            164.5,
            165.4,
            166.2,
            167.1,
            168,
            168.8,
            169.7,
            170.5,
            171.4,
            172.3,
            173.1,
            174,
            174.8,
            175.7,
            176.6,
            177.4,
            178.3,
            179.1,
            180,
            180.9,
            181.7,
            182.6,
            183.4,
            184.3,
            185.2,
            186,
            186.9,
            187.7,
            188.6,
            189.5,
            190.3,
            191.2,
            192,
            192.9,
            193.8,
            194.6,
            195.5,
            196.3,
            197.2,
            198.1,
            198.9,
            199.8
           ],
           "y": [
            0.0079,
            0.0085,
            0.009,
            0.0095,
            0.0099,
            0.0104,
            0.0108,
            0.0111,
            0.0115,
            0.0117,
            0.012,
            0.0121,
            0.0123,
            0.0124,
            0.0124,
            0.0124,
            0.0124,
            0.0124,
            0.0123,
            0.0122,
            0.012,
            0.0119,
            0.0117,
            0.0116,
            0.0114,
            0.0112,
            0.011,
            0.0108,
            0.0107,
            0.0105,
            0.0103,
            0.0102,
            0.01,
            0.0099,
            0.0097,
            0.0096,
            0.0095,
            0.0094,
            0.0092,
            0.0091,
            0.009,
            0.0089,
            0.0089,
            0.0088,
            0.0087,
            0.0086,
            0.0085,
            0.0084,
            0.0083,
            0.0082,
            0.0082,
            0.0081,
            0.008,
            0.0079,
            0.0078,
            0.0077,
            0.0077,
            0.0076,
            0.0075,
            0.0074,
            0.0073,
            0.0072,
            0.0072,
            0.0071,
            0.007,
            0.0069,
            0.0068,
            0.0067,
            0.0067,
            0.0066,
            0.0065,
            0.0064,
            0.0063,
            0.0063,
            0.0062,
            0.0061,
            0.006,
            0.006,
            0.0059,
            0.0058,
            0.0057,
            0.0056,
            0.0056,
            0.0055,
            0.0054,
            0.0053,
            0.0053,
            0.0052,
            0.0051,
            0.005,
            0.005,
            0.0049,
            0.0048,
            0.0047,
            0.0047,
            0.0046,
            0.0045,
            0.0045,
            0.0044,
            0.0043,
            0.0043,
            0.0042,
            0.0042,
            0.0041,
            0.0041,
            0.004,
            0.004,
            0.0039,
            0.0039,
            0.0038,
            0.0037,
            0.0037,
            0.0036,
            0.0036,
            0.0035,
            0.0035,
            0.0034,
            0.0033,
            0.0033,
            0.0032,
            0.0031,
            0.0031,
            0.003,
            0.0029,
            0.0029,
            0.0028,
            0.0027,
            0.0027,
            0.0026,
            0.0026,
            0.0025,
            0.0025,
            0.0024,
            0.0024,
            0.0023,
            0.0023,
            0.0022,
            0.0022,
            0.0022,
            0.0021,
            0.0021,
            0.0021,
            0.002,
            0.002,
            0.002,
            0.0019,
            0.0019,
            0.0019,
            0.0019,
            0.0018,
            0.0018,
            0.0018,
            0.0018,
            0.0017,
            0.0017,
            0.0017,
            0.0017,
            0.0016,
            0.0016,
            0.0016,
            0.0016,
            0.0016,
            0.0015,
            0.0015,
            0.0015,
            0.0015,
            0.0015,
            0.0014,
            0.0014,
            0.0014,
            0.0014,
            0.0014,
            0.0014,
            0.0013,
            0.0013,
            0.0013,
            0.0013,
            0.0013,
            0.0012,
            0.0012,
            0.0012,
            0.0012,
            0.0012,
            0.0011,
            0.0011,
            0.0011,
            0.0011,
            0.0011,
            0.001,
            0.001,
            0.001,
            0.001,
            0.001,
            0.001,
            0.0009,
            0.0009,
            0.0009,
            0.0009,
            0.0009,
            0.0009,
            0.0009,
            0.0009,
            0.0008,
            0.0008,
            0.0008,
            0.0008,
            0.0008,
            0.0008,
            0.0008,
            0.0008,
            0.0007,
            0.0007,
            0.0007,
            0.0007,
            0.0007,
            0.0007,
            0.0007,
            0.0006,
            0.0006,
            0.0006,
            0.0006,
            0.0006,
            0.0006,
            0.0006,
            0.0006,
            0.0005,
            0.0005,
            0.0005,
            0.0005,
            0.0005,
            0.0005,
            0.0005,
            0.0005
           ]
          },
          {
           "hovertemplate": "Compensation: %{x}",
           "line": {
            "dash": "dashdot"
           },
           "name": "2020",
           "type": "scatter",
           "x": [
            0.2,
            0.9,
            1.7,
            2.4,
            3.2,
            4,
            4.7,
            5.5,
            6.2,
            7,
            7.7,
            8.5,
            9.2,
            10,
            10.7,
            11.5,
            12.2,
            13,
            13.7,
            14.5,
            15.3,
            16,
            16.8,
            17.5,
            18.3,
            19,
            19.8,
            20.5,
            21.3,
            22,
            22.8,
            23.5,
            24.3,
            25,
            25.8,
            26.5,
            27.3,
            28.1,
            28.8,
            29.6,
            30.3,
            31.1,
            31.8,
            32.6,
            33.3,
            34.1,
            34.8,
            35.6,
            36.3,
            37.1,
            37.8,
            38.6,
            39.3,
            40.1,
            40.9,
            41.6,
            42.4,
            43.1,
            43.9,
            44.6,
            45.4,
            46.1,
            46.9,
            47.6,
            48.4,
            49.1,
            49.9,
            50.6,
            51.4,
            52.2,
            52.9,
            53.7,
            54.4,
            55.2,
            55.9,
            56.7,
            57.4,
            58.2,
            58.9,
            59.7,
            60.4,
            61.2,
            61.9,
            62.7,
            63.4,
            64.2,
            65,
            65.7,
            66.5,
            67.2,
            68,
            68.7,
            69.5,
            70.2,
            71,
            71.7,
            72.5,
            73.2,
            74,
            74.7,
            75.5,
            76.3,
            77,
            77.8,
            78.5,
            79.3,
            80,
            80.8,
            81.5,
            82.3,
            83,
            83.8,
            84.5,
            85.3,
            86,
            86.8,
            87.5,
            88.3,
            89.1,
            89.8,
            90.6,
            91.3,
            92.1,
            92.8,
            93.6,
            94.3,
            95.1,
            95.8,
            96.6,
            97.3,
            98.1,
            98.8,
            99.6,
            100.4,
            101.1,
            101.9,
            102.6,
            103.4,
            104.1,
            104.9,
            105.6,
            106.4,
            107.1,
            107.9,
            108.6,
            109.4,
            110.1,
            110.9,
            111.6,
            112.4,
            113.2,
            113.9,
            114.7,
            115.4,
            116.2,
            116.9,
            117.7,
            118.4,
            119.2,
            119.9,
            120.7,
            121.4,
            122.2,
            122.9,
            123.7,
            124.5,
            125.2,
            126,
            126.7,
            127.5,
            128.2,
            129,
            129.7,
            130.5,
            131.2,
            132,
            132.7,
            133.5,
            134.2,
            135,
            135.7,
            136.5,
            137.3,
            138,
            138.8,
            139.5,
            140.3,
            141,
            141.8,
            142.5,
            143.3,
            144,
            144.8,
            145.5,
            146.3,
            147,
            147.8,
            148.5,
            149.3,
            150.1,
            150.8,
            151.6,
            152.3,
            153.1,
            153.8,
            154.6,
            155.3,
            156.1,
            156.8,
            157.6,
            158.3,
            159.1,
            159.8,
            160.6,
            161.4,
            162.1,
            162.9,
            163.6,
            164.4,
            165.1,
            165.9,
            166.6,
            167.4,
            168.1,
            168.9,
            169.6,
            170.4,
            171.1,
            171.9,
            172.6,
            173.4,
            174.2,
            174.9,
            175.7,
            176.4,
            177.2,
            177.9,
            178.7,
            179.4,
            180.2,
            180.9,
            181.7,
            182.4,
            183.2,
            183.9,
            184.7,
            185.5,
            186.2,
            187,
            187.7,
            188.5,
            189.2,
            190,
            190.7,
            191.5,
            192.2,
            193,
            193.7,
            194.5,
            195.2,
            196,
            196.7,
            197.5,
            198.3,
            199,
            199.8
           ],
           "y": [
            0.0083,
            0.0088,
            0.0092,
            0.0097,
            0.0101,
            0.0105,
            0.0109,
            0.0112,
            0.0115,
            0.0118,
            0.0121,
            0.0123,
            0.0124,
            0.0126,
            0.0127,
            0.0127,
            0.0128,
            0.0128,
            0.0127,
            0.0127,
            0.0126,
            0.0125,
            0.0124,
            0.0122,
            0.0121,
            0.0119,
            0.0118,
            0.0116,
            0.0114,
            0.0112,
            0.011,
            0.0109,
            0.0107,
            0.0105,
            0.0104,
            0.0102,
            0.01,
            0.0099,
            0.0098,
            0.0096,
            0.0095,
            0.0094,
            0.0093,
            0.0092,
            0.0091,
            0.009,
            0.0089,
            0.0089,
            0.0088,
            0.0087,
            0.0087,
            0.0086,
            0.0086,
            0.0085,
            0.0085,
            0.0084,
            0.0084,
            0.0083,
            0.0083,
            0.0082,
            0.0081,
            0.0081,
            0.008,
            0.008,
            0.0079,
            0.0078,
            0.0078,
            0.0077,
            0.0076,
            0.0075,
            0.0075,
            0.0074,
            0.0073,
            0.0072,
            0.0071,
            0.007,
            0.007,
            0.0069,
            0.0068,
            0.0067,
            0.0066,
            0.0065,
            0.0065,
            0.0064,
            0.0063,
            0.0062,
            0.0061,
            0.0061,
            0.006,
            0.0059,
            0.0058,
            0.0057,
            0.0057,
            0.0056,
            0.0055,
            0.0054,
            0.0054,
            0.0053,
            0.0052,
            0.0051,
            0.0051,
            0.005,
            0.0049,
            0.0048,
            0.0048,
            0.0047,
            0.0046,
            0.0045,
            0.0045,
            0.0044,
            0.0043,
            0.0042,
            0.0042,
            0.0041,
            0.004,
            0.0039,
            0.0039,
            0.0038,
            0.0037,
            0.0037,
            0.0036,
            0.0035,
            0.0035,
            0.0034,
            0.0033,
            0.0033,
            0.0032,
            0.0032,
            0.0031,
            0.0031,
            0.003,
            0.003,
            0.0029,
            0.0029,
            0.0028,
            0.0028,
            0.0028,
            0.0027,
            0.0027,
            0.0027,
            0.0026,
            0.0026,
            0.0026,
            0.0025,
            0.0025,
            0.0025,
            0.0025,
            0.0025,
            0.0024,
            0.0024,
            0.0024,
            0.0024,
            0.0024,
            0.0024,
            0.0024,
            0.0024,
            0.0023,
            0.0023,
            0.0023,
            0.0023,
            0.0023,
            0.0023,
            0.0023,
            0.0022,
            0.0022,
            0.0022,
            0.0022,
            0.0021,
            0.0021,
            0.0021,
            0.002,
            0.002,
            0.002,
            0.0019,
            0.0019,
            0.0019,
            0.0018,
            0.0018,
            0.0018,
            0.0017,
            0.0017,
            0.0017,
            0.0016,
            0.0016,
            0.0016,
            0.0015,
            0.0015,
            0.0015,
            0.0015,
            0.0014,
            0.0014,
            0.0014,
            0.0014,
            0.0013,
            0.0013,
            0.0013,
            0.0013,
            0.0013,
            0.0012,
            0.0012,
            0.0012,
            0.0012,
            0.0012,
            0.0012,
            0.0012,
            0.0011,
            0.0011,
            0.0011,
            0.0011,
            0.0011,
            0.0011,
            0.0011,
            0.001,
            0.001,
            0.001,
            0.001,
            0.001,
            0.001,
            0.001,
            0.001,
            0.0009,
            0.0009,
            0.0009,
            0.0009,
            0.0009,
            0.0009,
            0.0009,
            0.0008,
            0.0008,
            0.0008,
            0.0008,
            0.0008,
            0.0008,
            0.0008,
            0.0008,
            0.0007,
            0.0007,
            0.0007,
            0.0007,
            0.0007,
            0.0007,
            0.0007,
            0.0007,
            0.0006,
            0.0006,
            0.0006,
            0.0006,
            0.0006,
            0.0006,
            0.0006,
            0.0006,
            0.0006,
            0.0006,
            0.0005,
            0.0005,
            0.0005,
            0.0005,
            0.0005,
            0.0005,
            0.0005,
            0.0005,
            0.0005,
            0.0005,
            0.0005,
            0.0005,
            0.0005
           ]
          }
         ],
         "layout": {
          "template": {
           "data": {
            "bar": [
             {
              "error_x": {
               "color": "#2a3f5f"
              },
              "error_y": {
               "color": "#2a3f5f"
              },
              "marker": {
               "line": {
                "color": "#E5ECF6",
                "width": 0.5
               }
              },
              "type": "bar"
             }
            ],
            "barpolar": [
             {
              "marker": {
               "line": {
                "color": "#E5ECF6",
                "width": 0.5
               }
              },
              "type": "barpolar"
             }
            ],
            "carpet": [
             {
              "aaxis": {
               "endlinecolor": "#2a3f5f",
               "gridcolor": "white",
               "linecolor": "white",
               "minorgridcolor": "white",
               "startlinecolor": "#2a3f5f"
              },
              "baxis": {
               "endlinecolor": "#2a3f5f",
               "gridcolor": "white",
               "linecolor": "white",
               "minorgridcolor": "white",
               "startlinecolor": "#2a3f5f"
              },
              "type": "carpet"
             }
            ],
            "choropleth": [
             {
              "colorbar": {
               "outlinewidth": 0,
               "ticks": ""
              },
              "type": "choropleth"
             }
            ],
            "contour": [
             {
              "colorbar": {
               "outlinewidth": 0,
               "ticks": ""
              },
              "colorscale": [
               [
                0,
                "#0d0887"
               ],
               [
                0.1111111111111111,
                "#46039f"
               ],
               [
                0.2222222222222222,
                "#7201a8"
               ],
               [
                0.3333333333333333,
                "#9c179e"
               ],
               [
                0.4444444444444444,
                "#bd3786"
               ],
               [
                0.5555555555555556,
                "#d8576b"
               ],
               [
                0.6666666666666666,
                "#ed7953"
               ],
               [
                0.7777777777777778,
                "#fb9f3a"
               ],
               [
                0.8888888888888888,
                "#fdca26"
               ],
               [
                1,
                "#f0f921"
               ]
              ],
              "type": "contour"
             }
            ],
            "contourcarpet": [
             {
              "colorbar": {
               "outlinewidth": 0,
               "ticks": ""
              },
              "type": "contourcarpet"
             }
            ],
            "heatmap": [
             {
              "colorbar": {
               "outlinewidth": 0,
               "ticks": ""
              },
              "colorscale": [
               [
                0,
                "#0d0887"
               ],
               [
                0.1111111111111111,
                "#46039f"
               ],
               [
                0.2222222222222222,
                "#7201a8"
               ],
               [
                0.3333333333333333,
                "#9c179e"
               ],
               [
                0.4444444444444444,
                "#bd3786"
               ],
               [
                0.5555555555555556,
                "#d8576b"
               ],
               [
                0.6666666666666666,
                "#ed7953"
               ],
               [
                0.7777777777777778,
                "#fb9f3a"
               ],
               [
                0.8888888888888888,
                "#fdca26"
               ],
               [
                1,
                "#f0f921"
               ]
              ],
              "type": "heatmap"
             }
            ],
            "heatmapgl": [
             {
              "colorbar": {
               "outlinewidth": 0,
               "ticks": ""
              },
              "colorscale": [
               [
                0,
                "#0d0887"
               ],
               [
                0.1111111111111111,
                "#46039f"
               ],
               [
                0.2222222222222222,
                "#7201a8"
               ],
               [
                0.3333333333333333,
                "#9c179e"
               ],
               [
                0.4444444444444444,
                "#bd3786"
               ],
               [
                0.5555555555555556,
                "#d8576b"
               ],
               [
                0.6666666666666666,
                "#ed7953"
               ],
               [
                0.7777777777777778,
                "#fb9f3a"
               ],
               [
                0.8888888888888888,
                "#fdca26"
               ],
               [
                1,
                "#f0f921"
               ]
              ],
              "type": "heatmapgl"
             }
            ],
            "histogram": [
             {
              "marker": {
               "colorbar": {
                "outlinewidth": 0,
                "ticks": ""
               }
              },
              "type": "histogram"
             }
            ],
            "histogram2d": [
             {
              "colorbar": {
               "outlinewidth": 0,
               "ticks": ""
              },
              "colorscale": [
               [
                0,
                "#0d0887"
               ],
               [
                0.1111111111111111,
                "#46039f"
               ],
               [
                0.2222222222222222,
                "#7201a8"
               ],
               [
                0.3333333333333333,
                "#9c179e"
               ],
               [
                0.4444444444444444,
                "#bd3786"
               ],
               [
                0.5555555555555556,
                "#d8576b"
               ],
               [
                0.6666666666666666,
                "#ed7953"
               ],
               [
                0.7777777777777778,
                "#fb9f3a"
               ],
               [
                0.8888888888888888,
                "#fdca26"
               ],
               [
                1,
                "#f0f921"
               ]
              ],
              "type": "histogram2d"
             }
            ],
            "histogram2dcontour": [
             {
              "colorbar": {
               "outlinewidth": 0,
               "ticks": ""
              },
              "colorscale": [
               [
                0,
                "#0d0887"
               ],
               [
                0.1111111111111111,
                "#46039f"
               ],
               [
                0.2222222222222222,
                "#7201a8"
               ],
               [
                0.3333333333333333,
                "#9c179e"
               ],
               [
                0.4444444444444444,
                "#bd3786"
               ],
               [
                0.5555555555555556,
                "#d8576b"
               ],
               [
                0.6666666666666666,
                "#ed7953"
               ],
               [
                0.7777777777777778,
                "#fb9f3a"
               ],
               [
                0.8888888888888888,
                "#fdca26"
               ],
               [
                1,
                "#f0f921"
               ]
              ],
              "type": "histogram2dcontour"
             }
            ],
            "mesh3d": [
             {
              "colorbar": {
               "outlinewidth": 0,
               "ticks": ""
              },
              "type": "mesh3d"
             }
            ],
            "parcoords": [
             {
              "line": {
               "colorbar": {
                "outlinewidth": 0,
                "ticks": ""
               }
              },
              "type": "parcoords"
             }
            ],
            "pie": [
             {
              "automargin": true,
              "type": "pie"
             }
            ],
            "scatter": [
             {
              "marker": {
               "colorbar": {
                "outlinewidth": 0,
                "ticks": ""
               }
              },
              "type": "scatter"
             }
            ],
            "scatter3d": [
             {
              "line": {
               "colorbar": {
                "outlinewidth": 0,
                "ticks": ""
               }
              },
              "marker": {
               "colorbar": {
                "outlinewidth": 0,
                "ticks": ""
               }
              },
              "type": "scatter3d"
             }
            ],
            "scattercarpet": [
             {
              "marker": {
               "colorbar": {
                "outlinewidth": 0,
                "ticks": ""
               }
              },
              "type": "scattercarpet"
             }
            ],
            "scattergeo": [
             {
              "marker": {
               "colorbar": {
                "outlinewidth": 0,
                "ticks": ""
               }
              },
              "type": "scattergeo"
             }
            ],
            "scattergl": [
             {
              "marker": {
               "colorbar": {
                "outlinewidth": 0,
                "ticks": ""
               }
              },
              "type": "scattergl"
             }
            ],
            "scattermapbox": [
             {
              "marker": {
               "colorbar": {
                "outlinewidth": 0,
                "ticks": ""
               }
              },
              "type": "scattermapbox"
             }
            ],
            "scatterpolar": [
             {
              "marker": {
               "colorbar": {
                "outlinewidth": 0,
                "ticks": ""
               }
              },
              "type": "scatterpolar"
             }
            ],
            "scatterpolargl": [
             {
              "marker": {
               "colorbar": {
                "outlinewidth": 0,
                "ticks": ""
               }
              },
              "type": "scatterpolargl"
             }
            ],
            "scatterternary": [
             {
              "marker": {
               "colorbar": {
                "outlinewidth": 0,
                "ticks": ""
               }
              },
              "type": "scatterternary"
             }
            ],
            "surface": [
             {
              "colorbar": {
               "outlinewidth": 0,
               "ticks": ""
              },
              "colorscale": [
               [
                0,
                "#0d0887"
               ],
               [
                0.1111111111111111,
                "#46039f"
               ],
               [
                0.2222222222222222,
                "#7201a8"
               ],
               [
                0.3333333333333333,
                "#9c179e"
               ],
               [
                0.4444444444444444,
                "#bd3786"
               ],
               [
                0.5555555555555556,
                "#d8576b"
               ],
               [
                0.6666666666666666,
                "#ed7953"
               ],
               [
                0.7777777777777778,
                "#fb9f3a"
               ],
               [
                0.8888888888888888,
                "#fdca26"
               ],
               [
                1,
                "#f0f921"
               ]
              ],
              "type": "surface"
             }
            ],
            "table": [
             {
              "cells": {
               "fill": {
                "color": "#EBF0F8"
               },
               "line": {
                "color": "white"
               }
              },
              "header": {
               "fill": {
                "color": "#C8D4E3"
               },
               "line": {
                "color": "white"
               }
              },
              "type": "table"
             }
            ]
           },
           "layout": {
            "annotationdefaults": {
             "arrowcolor": "#2a3f5f",
             "arrowhead": 0,
             "arrowwidth": 1
            },
            "coloraxis": {
             "colorbar": {
              "outlinewidth": 0,
              "ticks": ""
             }
            },
            "colorscale": {
             "diverging": [
              [
               0,
               "#8e0152"
              ],
              [
               0.1,
               "#c51b7d"
              ],
              [
               0.2,
               "#de77ae"
              ],
              [
               0.3,
               "#f1b6da"
              ],
              [
               0.4,
               "#fde0ef"
              ],
              [
               0.5,
               "#f7f7f7"
              ],
              [
               0.6,
               "#e6f5d0"
              ],
              [
               0.7,
               "#b8e186"
              ],
              [
               0.8,
               "#7fbc41"
              ],
              [
               0.9,
               "#4d9221"
              ],
              [
               1,
               "#276419"
              ]
             ],
             "sequential": [
              [
               0,
               "#0d0887"
              ],
              [
               0.1111111111111111,
               "#46039f"
              ],
              [
               0.2222222222222222,
               "#7201a8"
              ],
              [
               0.3333333333333333,
               "#9c179e"
              ],
              [
               0.4444444444444444,
               "#bd3786"
              ],
              [
               0.5555555555555556,
               "#d8576b"
              ],
              [
               0.6666666666666666,
               "#ed7953"
              ],
              [
               0.7777777777777778,
               "#fb9f3a"
              ],
              [
               0.8888888888888888,
               "#fdca26"
              ],
              [
               1,
               "#f0f921"
              ]
             ],
             "sequentialminus": [
              [
               0,
               "#0d0887"
              ],
              [
               0.1111111111111111,
               "#46039f"
              ],
              [
               0.2222222222222222,
               "#7201a8"
              ],
              [
               0.3333333333333333,
               "#9c179e"
              ],
              [
               0.4444444444444444,
               "#bd3786"
              ],
              [
               0.5555555555555556,
               "#d8576b"
              ],
              [
               0.6666666666666666,
               "#ed7953"
              ],
              [
               0.7777777777777778,
               "#fb9f3a"
              ],
              [
               0.8888888888888888,
               "#fdca26"
              ],
              [
               1,
               "#f0f921"
              ]
             ]
            },
            "colorway": [
             "#636efa",
             "#EF553B",
             "#00cc96",
             "#ab63fa",
             "#FFA15A",
             "#19d3f3",
             "#FF6692",
             "#B6E880",
             "#FF97FF",
             "#FECB52"
            ],
            "font": {
             "color": "#2a3f5f"
            },
            "geo": {
             "bgcolor": "white",
             "lakecolor": "white",
             "landcolor": "#E5ECF6",
             "showlakes": true,
             "showland": true,
             "subunitcolor": "white"
            },
            "hoverlabel": {
             "align": "left"
            },
            "hovermode": "closest",
            "mapbox": {
             "style": "light"
            },
            "paper_bgcolor": "white",
            "plot_bgcolor": "#E5ECF6",
            "polar": {
             "angularaxis": {
              "gridcolor": "white",
              "linecolor": "white",
              "ticks": ""
             },
             "bgcolor": "#E5ECF6",
             "radialaxis": {
              "gridcolor": "white",
              "linecolor": "white",
              "ticks": ""
             }
            },
            "scene": {
             "xaxis": {
              "backgroundcolor": "#E5ECF6",
              "gridcolor": "white",
              "gridwidth": 2,
              "linecolor": "white",
              "showbackground": true,
              "ticks": "",
              "zerolinecolor": "white"
             },
             "yaxis": {
              "backgroundcolor": "#E5ECF6",
              "gridcolor": "white",
              "gridwidth": 2,
              "linecolor": "white",
              "showbackground": true,
              "ticks": "",
              "zerolinecolor": "white"
             },
             "zaxis": {
              "backgroundcolor": "#E5ECF6",
              "gridcolor": "white",
              "gridwidth": 2,
              "linecolor": "white",
              "showbackground": true,
              "ticks": "",
              "zerolinecolor": "white"
             }
            },
            "shapedefaults": {
             "line": {
              "color": "#2a3f5f"
             }
            },
            "ternary": {
             "aaxis": {
              "gridcolor": "white",
              "linecolor": "white",
              "ticks": ""
             },
             "baxis": {
              "gridcolor": "white",
              "linecolor": "white",
              "ticks": ""
             },
             "bgcolor": "#E5ECF6",
             "caxis": {
              "gridcolor": "white",
              "linecolor": "white",
              "ticks": ""
             }
            },
            "title": {
             "x": 0.05
            },
            "xaxis": {
             "automargin": true,
             "gridcolor": "white",
             "linecolor": "white",
             "ticks": "",
             "title": {
              "standoff": 15
             },
             "zerolinecolor": "white",
             "zerolinewidth": 2
            },
            "yaxis": {
             "automargin": true,
             "gridcolor": "white",
             "linecolor": "white",
             "ticks": "",
             "title": {
              "standoff": 15
             },
             "zerolinecolor": "white",
             "zerolinewidth": 2
            }
           }
          },
          "title": {
           "text": "Annual Compensation Density Estimation:<br>Mobile",
           "x": 0.5,
           "xanchor": "center",
           "yanchor": "top"
          },
          "xaxis": {
           "ticksuffix": "k",
           "title": {
            "text": "Compensation (USD)"
           }
          },
          "yaxis": {
           "range": [
            0,
            0.012
           ],
           "tickcolor": "white",
           "ticklen": 8,
           "ticks": "outside",
           "title": {
            "text": "Probability Density"
           },
           "zeroline": false
          }
         },
         "name": "Developer, mobile"
        },
        {
         "data": [
          {
           "hovertemplate": "Compensation: %{x}",
           "line": {
            "dash": "longdashdot"
           },
           "name": "2018",
           "type": "scatter",
           "x": [
            0.2,
            0.9,
            1.5,
            2.2,
            2.9,
            3.6,
            4.3,
            4.9,
            5.6,
            6.3,
            7,
            7.7,
            8.3,
            9,
            9.7,
            10.4,
            11.1,
            11.7,
            12.4,
            13.1,
            13.8,
            14.5,
            15.1,
            15.8,
            16.5,
            17.2,
            17.9,
            18.5,
            19.2,
            19.9,
            20.6,
            21.3,
            21.9,
            22.6,
            23.3,
            24,
            24.7,
            25.3,
            26,
            26.7,
            27.4,
            28.1,
            28.7,
            29.4,
            30.1,
            30.8,
            31.5,
            32.1,
            32.8,
            33.5,
            34.2,
            34.9,
            35.5,
            36.2,
            36.9,
            37.6,
            38.3,
            38.9,
            39.6,
            40.3,
            41,
            41.7,
            42.3,
            43,
            43.7,
            44.4,
            45.1,
            45.7,
            46.4,
            47.1,
            47.8,
            48.5,
            49.1,
            49.8,
            50.5,
            51.2,
            51.9,
            52.5,
            53.2,
            53.9,
            54.6,
            55.3,
            55.9,
            56.6,
            57.3,
            58,
            58.7,
            59.3,
            60,
            60.7,
            61.4,
            62.1,
            62.7,
            63.4,
            64.1,
            64.8,
            65.5,
            66.1,
            66.8,
            67.5,
            68.2,
            68.9,
            69.5,
            70.2,
            70.9,
            71.6,
            72.3,
            72.9,
            73.6,
            74.3,
            75,
            75.7,
            76.3,
            77,
            77.7,
            78.4,
            79.1,
            79.7,
            80.4,
            81.1,
            81.8,
            82.5,
            83.1,
            83.8,
            84.5,
            85.2,
            85.9,
            86.5,
            87.2,
            87.9,
            88.6,
            89.3,
            89.9,
            90.6,
            91.3,
            92,
            92.7,
            93.3,
            94,
            94.7,
            95.4,
            96.1,
            96.7,
            97.4,
            98.1,
            98.8,
            99.5,
            100.1,
            100.8,
            101.5,
            102.2,
            102.9,
            103.5,
            104.2,
            104.9,
            105.6,
            106.3,
            106.9,
            107.6,
            108.3,
            109,
            109.7,
            110.3,
            111,
            111.7,
            112.4,
            113.1,
            113.7,
            114.4,
            115.1,
            115.8,
            116.5,
            117.1,
            117.8,
            118.5,
            119.2,
            119.9,
            120.5,
            121.2,
            121.9,
            122.6,
            123.3,
            123.9,
            124.6,
            125.3,
            126,
            126.7,
            127.3,
            128,
            128.7,
            129.4,
            130.1,
            130.7,
            131.4,
            132.1,
            132.8,
            133.5,
            134.1,
            134.8,
            135.5,
            136.2,
            136.9,
            137.5,
            138.2,
            138.9,
            139.6,
            140.3,
            140.9,
            141.6,
            142.3,
            143,
            143.7,
            144.3,
            145,
            145.7,
            146.4,
            147.1,
            147.7,
            148.4,
            149.1,
            149.8,
            150.5,
            151.1,
            151.8,
            152.5,
            153.2,
            153.9,
            154.5,
            155.2,
            155.9,
            156.6,
            157.3,
            157.9,
            158.6,
            159.3,
            160,
            160.7,
            161.3,
            162,
            162.7,
            163.4,
            164.1,
            164.7,
            165.4,
            166.1,
            166.8,
            167.5,
            168.1,
            168.8,
            169.5,
            170.2,
            170.9,
            171.5,
            172.2,
            172.9,
            173.6,
            174.3,
            174.9,
            175.6,
            176.3,
            177,
            177.7,
            178.3,
            179,
            179.7,
            180.4,
            181.1,
            181.7,
            182.4,
            183.1,
            183.8,
            184.5,
            185.1,
            185.8,
            186.5,
            187.2,
            187.9,
            188.5,
            189.2,
            189.9,
            190.6,
            191.3,
            191.9,
            192.6,
            193.3,
            194,
            194.7,
            195.3,
            196,
            196.7,
            197.4,
            198.1,
            198.7,
            199.4
           ],
           "y": [
            0.0029,
            0.003,
            0.0032,
            0.0034,
            0.0036,
            0.0038,
            0.004,
            0.0041,
            0.0043,
            0.0045,
            0.0046,
            0.0048,
            0.0049,
            0.005,
            0.0052,
            0.0053,
            0.0054,
            0.0055,
            0.0056,
            0.0057,
            0.0058,
            0.0058,
            0.0059,
            0.006,
            0.006,
            0.0061,
            0.0061,
            0.0062,
            0.0062,
            0.0063,
            0.0063,
            0.0063,
            0.0064,
            0.0064,
            0.0064,
            0.0065,
            0.0065,
            0.0065,
            0.0066,
            0.0066,
            0.0066,
            0.0067,
            0.0067,
            0.0068,
            0.0068,
            0.0068,
            0.0069,
            0.0069,
            0.0069,
            0.007,
            0.007,
            0.0071,
            0.0071,
            0.0072,
            0.0072,
            0.0072,
            0.0073,
            0.0073,
            0.0074,
            0.0074,
            0.0075,
            0.0075,
            0.0076,
            0.0076,
            0.0077,
            0.0077,
            0.0078,
            0.0078,
            0.0079,
            0.0079,
            0.008,
            0.008,
            0.0081,
            0.0082,
            0.0082,
            0.0083,
            0.0083,
            0.0084,
            0.0084,
            0.0084,
            0.0085,
            0.0085,
            0.0086,
            0.0086,
            0.0086,
            0.0087,
            0.0087,
            0.0087,
            0.0087,
            0.0087,
            0.0087,
            0.0088,
            0.0088,
            0.0088,
            0.0088,
            0.0087,
            0.0087,
            0.0087,
            0.0087,
            0.0087,
            0.0087,
            0.0087,
            0.0086,
            0.0086,
            0.0086,
            0.0085,
            0.0085,
            0.0085,
            0.0084,
            0.0084,
            0.0083,
            0.0083,
            0.0082,
            0.0082,
            0.0081,
            0.0081,
            0.008,
            0.008,
            0.0079,
            0.0078,
            0.0077,
            0.0077,
            0.0076,
            0.0075,
            0.0075,
            0.0074,
            0.0073,
            0.0072,
            0.0071,
            0.0071,
            0.007,
            0.0069,
            0.0068,
            0.0068,
            0.0067,
            0.0066,
            0.0065,
            0.0065,
            0.0064,
            0.0063,
            0.0062,
            0.0062,
            0.0061,
            0.006,
            0.006,
            0.0059,
            0.0058,
            0.0058,
            0.0057,
            0.0057,
            0.0056,
            0.0055,
            0.0055,
            0.0054,
            0.0054,
            0.0053,
            0.0053,
            0.0052,
            0.0052,
            0.0051,
            0.0051,
            0.005,
            0.005,
            0.0049,
            0.0049,
            0.0048,
            0.0048,
            0.0047,
            0.0047,
            0.0047,
            0.0046,
            0.0046,
            0.0045,
            0.0045,
            0.0044,
            0.0044,
            0.0043,
            0.0042,
            0.0042,
            0.0041,
            0.0041,
            0.004,
            0.0039,
            0.0039,
            0.0038,
            0.0038,
            0.0037,
            0.0036,
            0.0036,
            0.0035,
            0.0034,
            0.0034,
            0.0033,
            0.0033,
            0.0032,
            0.0032,
            0.0031,
            0.0031,
            0.003,
            0.003,
            0.0029,
            0.0029,
            0.0029,
            0.0028,
            0.0028,
            0.0028,
            0.0027,
            0.0027,
            0.0027,
            0.0027,
            0.0026,
            0.0026,
            0.0026,
            0.0026,
            0.0025,
            0.0025,
            0.0025,
            0.0025,
            0.0024,
            0.0024,
            0.0024,
            0.0023,
            0.0023,
            0.0022,
            0.0022,
            0.0022,
            0.0021,
            0.0021,
            0.002,
            0.002,
            0.0019,
            0.0019,
            0.0019,
            0.0018,
            0.0018,
            0.0017,
            0.0017,
            0.0016,
            0.0016,
            0.0016,
            0.0015,
            0.0015,
            0.0014,
            0.0014,
            0.0014,
            0.0013,
            0.0013,
            0.0013,
            0.0013,
            0.0012,
            0.0012,
            0.0012,
            0.0012,
            0.0012,
            0.0011,
            0.0011,
            0.0011,
            0.0011,
            0.0011,
            0.0011,
            0.001,
            0.001,
            0.001,
            0.001,
            0.001,
            0.0009,
            0.0009,
            0.0009,
            0.0009,
            0.0009,
            0.0008,
            0.0008,
            0.0008,
            0.0008,
            0.0008,
            0.0008,
            0.0007,
            0.0007,
            0.0007,
            0.0007,
            0.0007,
            0.0006,
            0.0006,
            0.0006,
            0.0006,
            0.0006,
            0.0006,
            0.0006,
            0.0006,
            0.0005,
            0.0005,
            0.0005,
            0.0005,
            0.0005
           ]
          },
          {
           "hovertemplate": "Compensation: %{x}",
           "line": {
            "dash": "dash"
           },
           "name": "2019",
           "type": "scatter",
           "x": [
            0.2,
            1.1,
            1.9,
            2.8,
            3.6,
            4.5,
            5.3,
            6.2,
            7,
            7.9,
            8.7,
            9.6,
            10.5,
            11.3,
            12.2,
            13,
            13.9,
            14.7,
            15.6,
            16.4,
            17.3,
            18.1,
            19,
            19.8,
            20.7,
            21.5,
            22.4,
            23.3,
            24.1,
            25,
            25.8,
            26.7,
            27.5,
            28.4,
            29.2,
            30.1,
            30.9,
            31.8,
            32.6,
            33.5,
            34.3,
            35.2,
            36.1,
            36.9,
            37.8,
            38.6,
            39.5,
            40.3,
            41.2,
            42,
            42.9,
            43.7,
            44.6,
            45.4,
            46.3,
            47.1,
            48,
            48.9,
            49.7,
            50.6,
            51.4,
            52.3,
            53.1,
            54,
            54.8,
            55.7,
            56.5,
            57.4,
            58.2,
            59.1,
            59.9,
            60.8,
            61.6,
            62.5,
            63.4,
            64.2,
            65.1,
            65.9,
            66.8,
            67.6,
            68.5,
            69.3,
            70.2,
            71,
            71.9,
            72.7,
            73.6,
            74.4,
            75.3,
            76.2,
            77,
            77.9,
            78.7,
            79.6,
            80.4,
            81.3,
            82.1,
            83,
            83.8,
            84.7,
            85.5,
            86.4,
            87.2,
            88.1,
            89,
            89.8,
            90.7,
            91.5,
            92.4,
            93.2,
            94.1,
            94.9,
            95.8,
            96.6,
            97.5,
            98.3,
            99.2,
            100,
            100.9,
            101.8,
            102.6,
            103.5,
            104.3,
            105.2,
            106,
            106.9,
            107.7,
            108.6,
            109.4,
            110.3,
            111.1,
            112,
            112.8,
            113.7,
            114.6,
            115.4,
            116.3,
            117.1,
            118,
            118.8,
            119.7,
            120.5,
            121.4,
            122.2,
            123.1,
            123.9,
            124.8,
            125.6,
            126.5,
            127.4,
            128.2,
            129.1,
            129.9,
            130.8,
            131.6,
            132.5,
            133.3,
            134.2,
            135,
            135.9,
            136.7,
            137.6,
            138.4,
            139.3,
            140.2,
            141,
            141.9,
            142.7,
            143.6,
            144.4,
            145.3,
            146.1,
            147,
            147.8,
            148.7,
            149.5,
            150.4,
            151.2,
            152.1,
            153,
            153.8,
            154.7,
            155.5,
            156.4,
            157.2,
            158.1,
            158.9,
            159.8,
            160.6,
            161.5,
            162.3,
            163.2,
            164,
            164.9,
            165.8,
            166.6,
            167.5,
            168.3,
            169.2,
            170,
            170.9,
            171.7,
            172.6,
            173.4,
            174.3,
            175.1,
            176,
            176.8,
            177.7,
            178.5,
            179.4,
            180.3,
            181.1,
            182,
            182.8,
            183.7,
            184.5,
            185.4,
            186.2,
            187.1,
            187.9,
            188.8,
            189.6,
            190.5,
            191.3,
            192.2,
            193.1,
            193.9,
            194.8,
            195.6,
            196.5,
            197.3,
            198.2,
            199,
            199.9
           ],
           "y": [
            0.0032,
            0.0034,
            0.0036,
            0.0039,
            0.0041,
            0.0043,
            0.0046,
            0.0048,
            0.005,
            0.0052,
            0.0054,
            0.0056,
            0.0058,
            0.006,
            0.0061,
            0.0063,
            0.0064,
            0.0065,
            0.0067,
            0.0068,
            0.0069,
            0.0069,
            0.007,
            0.0071,
            0.0071,
            0.0072,
            0.0072,
            0.0073,
            0.0073,
            0.0073,
            0.0073,
            0.0074,
            0.0074,
            0.0074,
            0.0074,
            0.0074,
            0.0075,
            0.0075,
            0.0075,
            0.0075,
            0.0075,
            0.0076,
            0.0076,
            0.0076,
            0.0076,
            0.0077,
            0.0077,
            0.0077,
            0.0078,
            0.0078,
            0.0079,
            0.0079,
            0.0079,
            0.008,
            0.008,
            0.008,
            0.0081,
            0.0081,
            0.0081,
            0.0082,
            0.0082,
            0.0082,
            0.0082,
            0.0082,
            0.0083,
            0.0083,
            0.0083,
            0.0083,
            0.0083,
            0.0083,
            0.0083,
            0.0083,
            0.0082,
            0.0082,
            0.0082,
            0.0082,
            0.0082,
            0.0081,
            0.0081,
            0.0081,
            0.0081,
            0.008,
            0.008,
            0.008,
            0.0079,
            0.0079,
            0.0078,
            0.0078,
            0.0077,
            0.0076,
            0.0076,
            0.0075,
            0.0075,
            0.0074,
            0.0073,
            0.0072,
            0.0071,
            0.0071,
            0.007,
            0.0069,
            0.0068,
            0.0067,
            0.0066,
            0.0065,
            0.0064,
            0.0063,
            0.0062,
            0.0061,
            0.006,
            0.0059,
            0.0058,
            0.0057,
            0.0056,
            0.0055,
            0.0054,
            0.0054,
            0.0053,
            0.0052,
            0.0051,
            0.005,
            0.005,
            0.0049,
            0.0048,
            0.0047,
            0.0047,
            0.0046,
            0.0045,
            0.0045,
            0.0044,
            0.0044,
            0.0043,
            0.0043,
            0.0042,
            0.0042,
            0.0041,
            0.0041,
            0.004,
            0.004,
            0.0039,
            0.0039,
            0.0038,
            0.0038,
            0.0037,
            0.0037,
            0.0036,
            0.0036,
            0.0035,
            0.0035,
            0.0034,
            0.0034,
            0.0033,
            0.0033,
            0.0032,
            0.0032,
            0.0031,
            0.0031,
            0.003,
            0.003,
            0.0029,
            0.0029,
            0.0028,
            0.0028,
            0.0027,
            0.0027,
            0.0026,
            0.0026,
            0.0025,
            0.0025,
            0.0024,
            0.0024,
            0.0023,
            0.0023,
            0.0023,
            0.0022,
            0.0022,
            0.0021,
            0.0021,
            0.002,
            0.002,
            0.002,
            0.0019,
            0.0019,
            0.0018,
            0.0018,
            0.0017,
            0.0017,
            0.0017,
            0.0016,
            0.0016,
            0.0015,
            0.0015,
            0.0015,
            0.0014,
            0.0014,
            0.0014,
            0.0014,
            0.0013,
            0.0013,
            0.0013,
            0.0013,
            0.0012,
            0.0012,
            0.0012,
            0.0012,
            0.0011,
            0.0011,
            0.0011,
            0.0011,
            0.0011,
            0.001,
            0.001,
            0.001,
            0.001,
            0.001,
            0.0009,
            0.0009,
            0.0009,
            0.0009,
            0.0009,
            0.0008,
            0.0008,
            0.0008,
            0.0008,
            0.0008,
            0.0008,
            0.0008,
            0.0007,
            0.0007,
            0.0007,
            0.0007,
            0.0007,
            0.0007,
            0.0007,
            0.0007,
            0.0007
           ]
          },
          {
           "hovertemplate": "Compensation: %{x}",
           "line": {
            "dash": "dashdot"
           },
           "name": "2020",
           "type": "scatter",
           "x": [
            0.2,
            0.9,
            1.7,
            2.5,
            3.2,
            4,
            4.7,
            5.5,
            6.2,
            7,
            7.8,
            8.5,
            9.3,
            10,
            10.8,
            11.6,
            12.3,
            13.1,
            13.8,
            14.6,
            15.3,
            16.1,
            16.9,
            17.6,
            18.4,
            19.1,
            19.9,
            20.6,
            21.4,
            22.2,
            22.9,
            23.7,
            24.4,
            25.2,
            25.9,
            26.7,
            27.5,
            28.2,
            29,
            29.7,
            30.5,
            31.2,
            32,
            32.8,
            33.5,
            34.3,
            35,
            35.8,
            36.5,
            37.3,
            38.1,
            38.8,
            39.6,
            40.3,
            41.1,
            41.8,
            42.6,
            43.4,
            44.1,
            44.9,
            45.6,
            46.4,
            47.2,
            47.9,
            48.7,
            49.4,
            50.2,
            50.9,
            51.7,
            52.5,
            53.2,
            54,
            54.7,
            55.5,
            56.2,
            57,
            57.8,
            58.5,
            59.3,
            60,
            60.8,
            61.5,
            62.3,
            63.1,
            63.8,
            64.6,
            65.3,
            66.1,
            66.8,
            67.6,
            68.4,
            69.1,
            69.9,
            70.6,
            71.4,
            72.1,
            72.9,
            73.7,
            74.4,
            75.2,
            75.9,
            76.7,
            77.4,
            78.2,
            79,
            79.7,
            80.5,
            81.2,
            82,
            82.8,
            83.5,
            84.3,
            85,
            85.8,
            86.5,
            87.3,
            88.1,
            88.8,
            89.6,
            90.3,
            91.1,
            91.8,
            92.6,
            93.4,
            94.1,
            94.9,
            95.6,
            96.4,
            97.1,
            97.9,
            98.7,
            99.4,
            100.2,
            100.9,
            101.7,
            102.4,
            103.2,
            104,
            104.7,
            105.5,
            106.2,
            107,
            107.7,
            108.5,
            109.3,
            110,
            110.8,
            111.5,
            112.3,
            113,
            113.8,
            114.6,
            115.3,
            116.1,
            116.8,
            117.6,
            118.4,
            119.1,
            119.9,
            120.6,
            121.4,
            122.1,
            122.9,
            123.7,
            124.4,
            125.2,
            125.9,
            126.7,
            127.4,
            128.2,
            129,
            129.7,
            130.5,
            131.2,
            132,
            132.7,
            133.5,
            134.3,
            135,
            135.8,
            136.5,
            137.3,
            138,
            138.8,
            139.6,
            140.3,
            141.1,
            141.8,
            142.6,
            143.3,
            144.1,
            144.9,
            145.6,
            146.4,
            147.1,
            147.9,
            148.6,
            149.4,
            150.2,
            150.9,
            151.7,
            152.4,
            153.2,
            154,
            154.7,
            155.5,
            156.2,
            157,
            157.7,
            158.5,
            159.3,
            160,
            160.8,
            161.5,
            162.3,
            163,
            163.8,
            164.6,
            165.3,
            166.1,
            166.8,
            167.6,
            168.3,
            169.1,
            169.9,
            170.6,
            171.4,
            172.1,
            172.9,
            173.6,
            174.4,
            175.2,
            175.9,
            176.7,
            177.4,
            178.2,
            178.9,
            179.7,
            180.5,
            181.2,
            182,
            182.7,
            183.5,
            184.2,
            185,
            185.8,
            186.5,
            187.3,
            188,
            188.8,
            189.6,
            190.3,
            191.1,
            191.8,
            192.6,
            193.3,
            194.1,
            194.9,
            195.6,
            196.4,
            197.1,
            197.9,
            198.6,
            199.4
           ],
           "y": [
            0.0031,
            0.0033,
            0.0035,
            0.0037,
            0.0039,
            0.0041,
            0.0043,
            0.0045,
            0.0047,
            0.0049,
            0.0051,
            0.0052,
            0.0054,
            0.0055,
            0.0057,
            0.0058,
            0.006,
            0.0061,
            0.0062,
            0.0063,
            0.0064,
            0.0065,
            0.0066,
            0.0066,
            0.0067,
            0.0068,
            0.0068,
            0.0069,
            0.0069,
            0.007,
            0.007,
            0.0071,
            0.0071,
            0.0072,
            0.0072,
            0.0072,
            0.0073,
            0.0073,
            0.0074,
            0.0074,
            0.0074,
            0.0075,
            0.0075,
            0.0076,
            0.0076,
            0.0077,
            0.0077,
            0.0078,
            0.0079,
            0.0079,
            0.008,
            0.008,
            0.0081,
            0.0081,
            0.0082,
            0.0082,
            0.0083,
            0.0083,
            0.0083,
            0.0084,
            0.0084,
            0.0084,
            0.0085,
            0.0085,
            0.0085,
            0.0085,
            0.0085,
            0.0086,
            0.0086,
            0.0086,
            0.0086,
            0.0086,
            0.0086,
            0.0086,
            0.0085,
            0.0085,
            0.0085,
            0.0085,
            0.0085,
            0.0085,
            0.0084,
            0.0084,
            0.0084,
            0.0083,
            0.0083,
            0.0082,
            0.0082,
            0.0082,
            0.0081,
            0.0081,
            0.008,
            0.008,
            0.0079,
            0.0078,
            0.0078,
            0.0077,
            0.0077,
            0.0076,
            0.0075,
            0.0075,
            0.0074,
            0.0073,
            0.0073,
            0.0072,
            0.0071,
            0.0071,
            0.007,
            0.0069,
            0.0069,
            0.0068,
            0.0067,
            0.0067,
            0.0066,
            0.0065,
            0.0064,
            0.0064,
            0.0063,
            0.0062,
            0.0061,
            0.006,
            0.006,
            0.0059,
            0.0058,
            0.0057,
            0.0056,
            0.0056,
            0.0055,
            0.0054,
            0.0053,
            0.0053,
            0.0052,
            0.0051,
            0.005,
            0.005,
            0.0049,
            0.0048,
            0.0048,
            0.0047,
            0.0046,
            0.0046,
            0.0045,
            0.0045,
            0.0044,
            0.0044,
            0.0043,
            0.0043,
            0.0042,
            0.0042,
            0.0042,
            0.0041,
            0.0041,
            0.0041,
            0.004,
            0.004,
            0.004,
            0.0039,
            0.0039,
            0.0039,
            0.0038,
            0.0038,
            0.0038,
            0.0037,
            0.0037,
            0.0037,
            0.0036,
            0.0036,
            0.0035,
            0.0035,
            0.0035,
            0.0034,
            0.0034,
            0.0033,
            0.0032,
            0.0032,
            0.0031,
            0.0031,
            0.003,
            0.003,
            0.0029,
            0.0029,
            0.0028,
            0.0028,
            0.0027,
            0.0027,
            0.0026,
            0.0026,
            0.0025,
            0.0025,
            0.0024,
            0.0024,
            0.0024,
            0.0023,
            0.0023,
            0.0023,
            0.0022,
            0.0022,
            0.0022,
            0.0022,
            0.0021,
            0.0021,
            0.0021,
            0.002,
            0.002,
            0.002,
            0.002,
            0.0019,
            0.0019,
            0.0019,
            0.0019,
            0.0018,
            0.0018,
            0.0018,
            0.0017,
            0.0017,
            0.0017,
            0.0017,
            0.0016,
            0.0016,
            0.0016,
            0.0015,
            0.0015,
            0.0015,
            0.0014,
            0.0014,
            0.0014,
            0.0013,
            0.0013,
            0.0013,
            0.0012,
            0.0012,
            0.0012,
            0.0012,
            0.0011,
            0.0011,
            0.0011,
            0.0011,
            0.001,
            0.001,
            0.001,
            0.001,
            0.0009,
            0.0009,
            0.0009,
            0.0009,
            0.0009,
            0.0009,
            0.0009,
            0.0008,
            0.0008,
            0.0008,
            0.0008,
            0.0008,
            0.0008,
            0.0008,
            0.0008,
            0.0008,
            0.0008,
            0.0008,
            0.0008,
            0.0008,
            0.0008,
            0.0007,
            0.0007,
            0.0007
           ]
          }
         ],
         "layout": {
          "template": {
           "data": {
            "bar": [
             {
              "error_x": {
               "color": "#2a3f5f"
              },
              "error_y": {
               "color": "#2a3f5f"
              },
              "marker": {
               "line": {
                "color": "#E5ECF6",
                "width": 0.5
               }
              },
              "type": "bar"
             }
            ],
            "barpolar": [
             {
              "marker": {
               "line": {
                "color": "#E5ECF6",
                "width": 0.5
               }
              },
              "type": "barpolar"
             }
            ],
            "carpet": [
             {
              "aaxis": {
               "endlinecolor": "#2a3f5f",
               "gridcolor": "white",
               "linecolor": "white",
               "minorgridcolor": "white",
               "startlinecolor": "#2a3f5f"
              },
              "baxis": {
               "endlinecolor": "#2a3f5f",
               "gridcolor": "white",
               "linecolor": "white",
               "minorgridcolor": "white",
               "startlinecolor": "#2a3f5f"
              },
              "type": "carpet"
             }
            ],
            "choropleth": [
             {
              "colorbar": {
               "outlinewidth": 0,
               "ticks": ""
              },
              "type": "choropleth"
             }
            ],
            "contour": [
             {
              "colorbar": {
               "outlinewidth": 0,
               "ticks": ""
              },
              "colorscale": [
               [
                0,
                "#0d0887"
               ],
               [
                0.1111111111111111,
                "#46039f"
               ],
               [
                0.2222222222222222,
                "#7201a8"
               ],
               [
                0.3333333333333333,
                "#9c179e"
               ],
               [
                0.4444444444444444,
                "#bd3786"
               ],
               [
                0.5555555555555556,
                "#d8576b"
               ],
               [
                0.6666666666666666,
                "#ed7953"
               ],
               [
                0.7777777777777778,
                "#fb9f3a"
               ],
               [
                0.8888888888888888,
                "#fdca26"
               ],
               [
                1,
                "#f0f921"
               ]
              ],
              "type": "contour"
             }
            ],
            "contourcarpet": [
             {
              "colorbar": {
               "outlinewidth": 0,
               "ticks": ""
              },
              "type": "contourcarpet"
             }
            ],
            "heatmap": [
             {
              "colorbar": {
               "outlinewidth": 0,
               "ticks": ""
              },
              "colorscale": [
               [
                0,
                "#0d0887"
               ],
               [
                0.1111111111111111,
                "#46039f"
               ],
               [
                0.2222222222222222,
                "#7201a8"
               ],
               [
                0.3333333333333333,
                "#9c179e"
               ],
               [
                0.4444444444444444,
                "#bd3786"
               ],
               [
                0.5555555555555556,
                "#d8576b"
               ],
               [
                0.6666666666666666,
                "#ed7953"
               ],
               [
                0.7777777777777778,
                "#fb9f3a"
               ],
               [
                0.8888888888888888,
                "#fdca26"
               ],
               [
                1,
                "#f0f921"
               ]
              ],
              "type": "heatmap"
             }
            ],
            "heatmapgl": [
             {
              "colorbar": {
               "outlinewidth": 0,
               "ticks": ""
              },
              "colorscale": [
               [
                0,
                "#0d0887"
               ],
               [
                0.1111111111111111,
                "#46039f"
               ],
               [
                0.2222222222222222,
                "#7201a8"
               ],
               [
                0.3333333333333333,
                "#9c179e"
               ],
               [
                0.4444444444444444,
                "#bd3786"
               ],
               [
                0.5555555555555556,
                "#d8576b"
               ],
               [
                0.6666666666666666,
                "#ed7953"
               ],
               [
                0.7777777777777778,
                "#fb9f3a"
               ],
               [
                0.8888888888888888,
                "#fdca26"
               ],
               [
                1,
                "#f0f921"
               ]
              ],
              "type": "heatmapgl"
             }
            ],
            "histogram": [
             {
              "marker": {
               "colorbar": {
                "outlinewidth": 0,
                "ticks": ""
               }
              },
              "type": "histogram"
             }
            ],
            "histogram2d": [
             {
              "colorbar": {
               "outlinewidth": 0,
               "ticks": ""
              },
              "colorscale": [
               [
                0,
                "#0d0887"
               ],
               [
                0.1111111111111111,
                "#46039f"
               ],
               [
                0.2222222222222222,
                "#7201a8"
               ],
               [
                0.3333333333333333,
                "#9c179e"
               ],
               [
                0.4444444444444444,
                "#bd3786"
               ],
               [
                0.5555555555555556,
                "#d8576b"
               ],
               [
                0.6666666666666666,
                "#ed7953"
               ],
               [
                0.7777777777777778,
                "#fb9f3a"
               ],
               [
                0.8888888888888888,
                "#fdca26"
               ],
               [
                1,
                "#f0f921"
               ]
              ],
              "type": "histogram2d"
             }
            ],
            "histogram2dcontour": [
             {
              "colorbar": {
               "outlinewidth": 0,
               "ticks": ""
              },
              "colorscale": [
               [
                0,
                "#0d0887"
               ],
               [
                0.1111111111111111,
                "#46039f"
               ],
               [
                0.2222222222222222,
                "#7201a8"
               ],
               [
                0.3333333333333333,
                "#9c179e"
               ],
               [
                0.4444444444444444,
                "#bd3786"
               ],
               [
                0.5555555555555556,
                "#d8576b"
               ],
               [
                0.6666666666666666,
                "#ed7953"
               ],
               [
                0.7777777777777778,
                "#fb9f3a"
               ],
               [
                0.8888888888888888,
                "#fdca26"
               ],
               [
                1,
                "#f0f921"
               ]
              ],
              "type": "histogram2dcontour"
             }
            ],
            "mesh3d": [
             {
              "colorbar": {
               "outlinewidth": 0,
               "ticks": ""
              },
              "type": "mesh3d"
             }
            ],
            "parcoords": [
             {
              "line": {
               "colorbar": {
                "outlinewidth": 0,
                "ticks": ""
               }
              },
              "type": "parcoords"
             }
            ],
            "pie": [
             {
              "automargin": true,
              "type": "pie"
             }
            ],
            "scatter": [
             {
              "marker": {
               "colorbar": {
                "outlinewidth": 0,
                "ticks": ""
               }
              },
              "type": "scatter"
             }
            ],
            "scatter3d": [
             {
              "line": {
               "colorbar": {
                "outlinewidth": 0,
                "ticks": ""
               }
              },
              "marker": {
               "colorbar": {
                "outlinewidth": 0,
                "ticks": ""
               }
              },
              "type": "scatter3d"
             }
            ],
            "scattercarpet": [
             {
              "marker": {
               "colorbar": {
                "outlinewidth": 0,
                "ticks": ""
               }
              },
              "type": "scattercarpet"
             }
            ],
            "scattergeo": [
             {
              "marker": {
               "colorbar": {
                "outlinewidth": 0,
                "ticks": ""
               }
              },
              "type": "scattergeo"
             }
            ],
            "scattergl": [
             {
              "marker": {
               "colorbar": {
                "outlinewidth": 0,
                "ticks": ""
               }
              },
              "type": "scattergl"
             }
            ],
            "scattermapbox": [
             {
              "marker": {
               "colorbar": {
                "outlinewidth": 0,
                "ticks": ""
               }
              },
              "type": "scattermapbox"
             }
            ],
            "scatterpolar": [
             {
              "marker": {
               "colorbar": {
                "outlinewidth": 0,
                "ticks": ""
               }
              },
              "type": "scatterpolar"
             }
            ],
            "scatterpolargl": [
             {
              "marker": {
               "colorbar": {
                "outlinewidth": 0,
                "ticks": ""
               }
              },
              "type": "scatterpolargl"
             }
            ],
            "scatterternary": [
             {
              "marker": {
               "colorbar": {
                "outlinewidth": 0,
                "ticks": ""
               }
              },
              "type": "scatterternary"
             }
            ],
            "surface": [
             {
              "colorbar": {
               "outlinewidth": 0,
               "ticks": ""
              },
              "colorscale": [
               [
                0,
                "#0d0887"
               ],
               [
                0.1111111111111111,
                "#46039f"
               ],
               [
                0.2222222222222222,
                "#7201a8"
               ],
               [
                0.3333333333333333,
                "#9c179e"
               ],
               [
                0.4444444444444444,
                "#bd3786"
               ],
               [
                0.5555555555555556,
                "#d8576b"
               ],
               [
                0.6666666666666666,
                "#ed7953"
               ],
               [
                0.7777777777777778,
                "#fb9f3a"
               ],
               [
                0.8888888888888888,
                "#fdca26"
               ],
               [
                1,
                "#f0f921"
               ]
              ],
              "type": "surface"
             }
            ],
            "table": [
             {
              "cells": {
               "fill": {
                "color": "#EBF0F8"
               },
               "line": {
                "color": "white"
               }
              },
              "header": {
               "fill": {
                "color": "#C8D4E3"
               },
               "line": {
                "color": "white"
               }
              },
              "type": "table"
             }
            ]
           },
           "layout": {
            "annotationdefaults": {
             "arrowcolor": "#2a3f5f",
             "arrowhead": 0,
             "arrowwidth": 1
            },
            "coloraxis": {
             "colorbar": {
              "outlinewidth": 0,
              "ticks": ""
             }
            },
            "colorscale": {
             "diverging": [
              [
               0,
               "#8e0152"
              ],
              [
               0.1,
               "#c51b7d"
              ],
              [
               0.2,
               "#de77ae"
              ],
              [
               0.3,
               "#f1b6da"
              ],
              [
               0.4,
               "#fde0ef"
              ],
              [
               0.5,
               "#f7f7f7"
              ],
              [
               0.6,
               "#e6f5d0"
              ],
              [
               0.7,
               "#b8e186"
              ],
              [
               0.8,
               "#7fbc41"
              ],
              [
               0.9,
               "#4d9221"
              ],
              [
               1,
               "#276419"
              ]
             ],
             "sequential": [
              [
               0,
               "#0d0887"
              ],
              [
               0.1111111111111111,
               "#46039f"
              ],
              [
               0.2222222222222222,
               "#7201a8"
              ],
              [
               0.3333333333333333,
               "#9c179e"
              ],
              [
               0.4444444444444444,
               "#bd3786"
              ],
              [
               0.5555555555555556,
               "#d8576b"
              ],
              [
               0.6666666666666666,
               "#ed7953"
              ],
              [
               0.7777777777777778,
               "#fb9f3a"
              ],
              [
               0.8888888888888888,
               "#fdca26"
              ],
              [
               1,
               "#f0f921"
              ]
             ],
             "sequentialminus": [
              [
               0,
               "#0d0887"
              ],
              [
               0.1111111111111111,
               "#46039f"
              ],
              [
               0.2222222222222222,
               "#7201a8"
              ],
              [
               0.3333333333333333,
               "#9c179e"
              ],
              [
               0.4444444444444444,
               "#bd3786"
              ],
              [
               0.5555555555555556,
               "#d8576b"
              ],
              [
               0.6666666666666666,
               "#ed7953"
              ],
              [
               0.7777777777777778,
               "#fb9f3a"
              ],
              [
               0.8888888888888888,
               "#fdca26"
              ],
              [
               1,
               "#f0f921"
              ]
             ]
            },
            "colorway": [
             "#636efa",
             "#EF553B",
             "#00cc96",
             "#ab63fa",
             "#FFA15A",
             "#19d3f3",
             "#FF6692",
             "#B6E880",
             "#FF97FF",
             "#FECB52"
            ],
            "font": {
             "color": "#2a3f5f"
            },
            "geo": {
             "bgcolor": "white",
             "lakecolor": "white",
             "landcolor": "#E5ECF6",
             "showlakes": true,
             "showland": true,
             "subunitcolor": "white"
            },
            "hoverlabel": {
             "align": "left"
            },
            "hovermode": "closest",
            "mapbox": {
             "style": "light"
            },
            "paper_bgcolor": "white",
            "plot_bgcolor": "#E5ECF6",
            "polar": {
             "angularaxis": {
              "gridcolor": "white",
              "linecolor": "white",
              "ticks": ""
             },
             "bgcolor": "#E5ECF6",
             "radialaxis": {
              "gridcolor": "white",
              "linecolor": "white",
              "ticks": ""
             }
            },
            "scene": {
             "xaxis": {
              "backgroundcolor": "#E5ECF6",
              "gridcolor": "white",
              "gridwidth": 2,
              "linecolor": "white",
              "showbackground": true,
              "ticks": "",
              "zerolinecolor": "white"
             },
             "yaxis": {
              "backgroundcolor": "#E5ECF6",
              "gridcolor": "white",
              "gridwidth": 2,
              "linecolor": "white",
              "showbackground": true,
              "ticks": "",
              "zerolinecolor": "white"
             },
             "zaxis": {
              "backgroundcolor": "#E5ECF6",
              "gridcolor": "white",
              "gridwidth": 2,
              "linecolor": "white",
              "showbackground": true,
              "ticks": "",
              "zerolinecolor": "white"
             }
            },
            "shapedefaults": {
             "line": {
              "color": "#2a3f5f"
             }
            },
            "ternary": {
             "aaxis": {
              "gridcolor": "white",
              "linecolor": "white",
              "ticks": ""
             },
             "baxis": {
              "gridcolor": "white",
              "linecolor": "white",
              "ticks": ""
             },
             "bgcolor": "#E5ECF6",
             "caxis": {
              "gridcolor": "white",
              "linecolor": "white",
              "ticks": ""
             }
            },
            "title": {
             "x": 0.05
            },
            "xaxis": {
             "automargin": true,
             "gridcolor": "white",
             "linecolor": "white",
             "ticks": "",
             "title": {
              "standoff": 15
             },
             "zerolinecolor": "white",
             "zerolinewidth": 2
            },
            "yaxis": {
             "automargin": true,
             "gridcolor": "white",
             "linecolor": "white",
             "ticks": "",
             "title": {
              "standoff": 15
             },
             "zerolinecolor": "white",
             "zerolinewidth": 2
            }
           }
          },
          "title": {
           "text": "Annual Compensation Density Estimation:<br>DevOps",
           "x": 0.5,
           "xanchor": "center",
           "yanchor": "top"
          },
          "xaxis": {
           "ticksuffix": "k",
           "title": {
            "text": "Compensation (USD)"
           }
          },
          "yaxis": {
           "range": [
            0,
            0.012
           ],
           "tickcolor": "white",
           "ticklen": 8,
           "ticks": "outside",
           "title": {
            "text": "Probability Density"
           },
           "zeroline": false
          }
         },
         "name": "DevOps specialist"
        },
        {
         "data": [
          {
           "hovertemplate": "Compensation: %{x}",
           "line": {
            "dash": "longdashdot"
           },
           "name": "2018",
           "type": "scatter",
           "x": [
            0.2,
            0.8,
            1.5,
            2.2,
            2.9,
            3.6,
            4.2,
            4.9,
            5.6,
            6.3,
            6.9,
            7.6,
            8.3,
            9,
            9.6,
            10.3,
            11,
            11.7,
            12.4,
            13,
            13.7,
            14.4,
            15.1,
            15.7,
            16.4,
            17.1,
            17.8,
            18.4,
            19.1,
            19.8,
            20.5,
            21.2,
            21.8,
            22.5,
            23.2,
            23.9,
            24.5,
            25.2,
            25.9,
            26.6,
            27.2,
            27.9,
            28.6,
            29.3,
            30,
            30.6,
            31.3,
            32,
            32.7,
            33.3,
            34,
            34.7,
            35.4,
            36,
            36.7,
            37.4,
            38.1,
            38.8,
            39.4,
            40.1,
            40.8,
            41.5,
            42.1,
            42.8,
            43.5,
            44.2,
            44.8,
            45.5,
            46.2,
            46.9,
            47.6,
            48.2,
            48.9,
            49.6,
            50.3,
            50.9,
            51.6,
            52.3,
            53,
            53.6,
            54.3,
            55,
            55.7,
            56.4,
            57,
            57.7,
            58.4,
            59.1,
            59.7,
            60.4,
            61.1,
            61.8,
            62.4,
            63.1,
            63.8,
            64.5,
            65.2,
            65.8,
            66.5,
            67.2,
            67.9,
            68.5,
            69.2,
            69.9,
            70.6,
            71.2,
            71.9,
            72.6,
            73.3,
            74,
            74.6,
            75.3,
            76,
            76.7,
            77.3,
            78,
            78.7,
            79.4,
            80,
            80.7,
            81.4,
            82.1,
            82.8,
            83.4,
            84.1,
            84.8,
            85.5,
            86.1,
            86.8,
            87.5,
            88.2,
            88.8,
            89.5,
            90.2,
            90.9,
            91.6,
            92.2,
            92.9,
            93.6,
            94.3,
            94.9,
            95.6,
            96.3,
            97,
            97.6,
            98.3,
            99,
            99.7,
            100.4,
            101,
            101.7,
            102.4,
            103.1,
            103.7,
            104.4,
            105.1,
            105.8,
            106.5,
            107.1,
            107.8,
            108.5,
            109.2,
            109.8,
            110.5,
            111.2,
            111.9,
            112.5,
            113.2,
            113.9,
            114.6,
            115.3,
            115.9,
            116.6,
            117.3,
            118,
            118.6,
            119.3,
            120,
            120.7,
            121.3,
            122,
            122.7,
            123.4,
            124.1,
            124.7,
            125.4,
            126.1,
            126.8,
            127.4,
            128.1,
            128.8,
            129.5,
            130.1,
            130.8,
            131.5,
            132.2,
            132.9,
            133.5,
            134.2,
            134.9,
            135.6,
            136.2,
            136.9,
            137.6,
            138.3,
            138.9,
            139.6,
            140.3,
            141,
            141.7,
            142.3,
            143,
            143.7,
            144.4,
            145,
            145.7,
            146.4,
            147.1,
            147.7,
            148.4,
            149.1,
            149.8,
            150.5,
            151.1,
            151.8,
            152.5,
            153.2,
            153.8,
            154.5,
            155.2,
            155.9,
            156.5,
            157.2,
            157.9,
            158.6,
            159.3,
            159.9,
            160.6,
            161.3,
            162,
            162.6,
            163.3,
            164,
            164.7,
            165.3,
            166,
            166.7,
            167.4,
            168.1,
            168.7,
            169.4,
            170.1,
            170.8,
            171.4,
            172.1,
            172.8,
            173.5,
            174.1,
            174.8,
            175.5,
            176.2,
            176.9,
            177.5,
            178.2,
            178.9,
            179.6,
            180.2,
            180.9,
            181.6,
            182.3,
            182.9,
            183.6,
            184.3,
            185,
            185.7,
            186.3,
            187,
            187.7,
            188.4,
            189,
            189.7,
            190.4,
            191.1,
            191.7,
            192.4,
            193.1,
            193.8,
            194.5,
            195.1,
            195.8,
            196.5,
            197.2,
            197.8,
            198.5,
            199.2,
            199.9
           ],
           "y": [
            0.007,
            0.0074,
            0.0078,
            0.0081,
            0.0085,
            0.0088,
            0.0091,
            0.0094,
            0.0096,
            0.0099,
            0.0101,
            0.0102,
            0.0104,
            0.0105,
            0.0105,
            0.0106,
            0.0106,
            0.0106,
            0.0106,
            0.0105,
            0.0105,
            0.0104,
            0.0103,
            0.0102,
            0.0101,
            0.01,
            0.0099,
            0.0098,
            0.0097,
            0.0096,
            0.0095,
            0.0094,
            0.0093,
            0.0092,
            0.0091,
            0.0091,
            0.009,
            0.0089,
            0.0089,
            0.0089,
            0.0088,
            0.0088,
            0.0088,
            0.0088,
            0.0088,
            0.0087,
            0.0087,
            0.0087,
            0.0088,
            0.0088,
            0.0088,
            0.0088,
            0.0088,
            0.0088,
            0.0088,
            0.0088,
            0.0089,
            0.0089,
            0.0089,
            0.0089,
            0.0089,
            0.0089,
            0.0089,
            0.009,
            0.009,
            0.009,
            0.009,
            0.009,
            0.009,
            0.009,
            0.009,
            0.009,
            0.009,
            0.009,
            0.009,
            0.009,
            0.0089,
            0.0089,
            0.0089,
            0.0088,
            0.0088,
            0.0088,
            0.0087,
            0.0087,
            0.0086,
            0.0085,
            0.0085,
            0.0084,
            0.0084,
            0.0083,
            0.0082,
            0.0081,
            0.0081,
            0.008,
            0.0079,
            0.0078,
            0.0078,
            0.0077,
            0.0076,
            0.0075,
            0.0075,
            0.0074,
            0.0073,
            0.0073,
            0.0072,
            0.0071,
            0.0071,
            0.007,
            0.0069,
            0.0069,
            0.0068,
            0.0067,
            0.0067,
            0.0066,
            0.0065,
            0.0065,
            0.0064,
            0.0063,
            0.0062,
            0.0062,
            0.0061,
            0.006,
            0.0059,
            0.0058,
            0.0057,
            0.0057,
            0.0056,
            0.0055,
            0.0054,
            0.0053,
            0.0052,
            0.0051,
            0.0051,
            0.005,
            0.0049,
            0.0048,
            0.0047,
            0.0046,
            0.0045,
            0.0045,
            0.0044,
            0.0043,
            0.0042,
            0.0041,
            0.004,
            0.004,
            0.0039,
            0.0038,
            0.0037,
            0.0036,
            0.0035,
            0.0035,
            0.0034,
            0.0033,
            0.0032,
            0.0032,
            0.0031,
            0.003,
            0.003,
            0.0029,
            0.0028,
            0.0028,
            0.0028,
            0.0027,
            0.0027,
            0.0026,
            0.0026,
            0.0026,
            0.0026,
            0.0026,
            0.0025,
            0.0025,
            0.0025,
            0.0025,
            0.0025,
            0.0025,
            0.0025,
            0.0024,
            0.0024,
            0.0024,
            0.0024,
            0.0024,
            0.0023,
            0.0023,
            0.0023,
            0.0022,
            0.0022,
            0.0022,
            0.0021,
            0.0021,
            0.0021,
            0.002,
            0.002,
            0.0019,
            0.0019,
            0.0019,
            0.0018,
            0.0018,
            0.0017,
            0.0017,
            0.0017,
            0.0016,
            0.0016,
            0.0016,
            0.0016,
            0.0016,
            0.0015,
            0.0015,
            0.0015,
            0.0015,
            0.0015,
            0.0015,
            0.0015,
            0.0014,
            0.0014,
            0.0014,
            0.0014,
            0.0014,
            0.0014,
            0.0014,
            0.0013,
            0.0013,
            0.0013,
            0.0013,
            0.0013,
            0.0012,
            0.0012,
            0.0012,
            0.0012,
            0.0011,
            0.0011,
            0.0011,
            0.001,
            0.001,
            0.001,
            0.001,
            0.0009,
            0.0009,
            0.0009,
            0.0009,
            0.0008,
            0.0008,
            0.0008,
            0.0008,
            0.0007,
            0.0007,
            0.0007,
            0.0007,
            0.0007,
            0.0007,
            0.0007,
            0.0007,
            0.0006,
            0.0006,
            0.0006,
            0.0006,
            0.0006,
            0.0006,
            0.0006,
            0.0006,
            0.0006,
            0.0006,
            0.0006,
            0.0006,
            0.0006,
            0.0006,
            0.0006,
            0.0005,
            0.0005,
            0.0005,
            0.0005,
            0.0005,
            0.0005,
            0.0005,
            0.0005,
            0.0005,
            0.0004,
            0.0004,
            0.0004,
            0.0004,
            0.0004,
            0.0004,
            0.0004,
            0.0004,
            0.0004,
            0.0004,
            0.0004,
            0.0004,
            0.0003,
            0.0003,
            0.0003,
            0.0003,
            0.0003,
            0.0003,
            0.0003,
            0.0003
           ]
          },
          {
           "hovertemplate": "Compensation: %{x}",
           "line": {
            "dash": "dash"
           },
           "name": "2019",
           "type": "scatter",
           "x": [
            0.2,
            1,
            1.9,
            2.7,
            3.5,
            4.4,
            5.2,
            6,
            6.9,
            7.7,
            8.5,
            9.4,
            10.2,
            11,
            11.9,
            12.7,
            13.5,
            14.4,
            15.2,
            16,
            16.9,
            17.7,
            18.5,
            19.4,
            20.2,
            21,
            21.9,
            22.7,
            23.5,
            24.4,
            25.2,
            26,
            26.9,
            27.7,
            28.5,
            29.4,
            30.2,
            31,
            31.9,
            32.7,
            33.5,
            34.4,
            35.2,
            36,
            36.9,
            37.7,
            38.5,
            39.4,
            40.2,
            41,
            41.9,
            42.7,
            43.5,
            44.4,
            45.2,
            46,
            46.9,
            47.7,
            48.5,
            49.4,
            50.2,
            51,
            51.9,
            52.7,
            53.5,
            54.4,
            55.2,
            56,
            56.9,
            57.7,
            58.5,
            59.4,
            60.2,
            61,
            61.9,
            62.7,
            63.5,
            64.4,
            65.2,
            66,
            66.9,
            67.7,
            68.5,
            69.4,
            70.2,
            71,
            71.8,
            72.7,
            73.5,
            74.3,
            75.2,
            76,
            76.8,
            77.7,
            78.5,
            79.3,
            80.2,
            81,
            81.8,
            82.7,
            83.5,
            84.3,
            85.2,
            86,
            86.8,
            87.7,
            88.5,
            89.3,
            90.2,
            91,
            91.8,
            92.7,
            93.5,
            94.3,
            95.2,
            96,
            96.8,
            97.7,
            98.5,
            99.3,
            100.2,
            101,
            101.8,
            102.7,
            103.5,
            104.3,
            105.2,
            106,
            106.8,
            107.7,
            108.5,
            109.3,
            110.2,
            111,
            111.8,
            112.7,
            113.5,
            114.3,
            115.2,
            116,
            116.8,
            117.7,
            118.5,
            119.3,
            120.2,
            121,
            121.8,
            122.7,
            123.5,
            124.3,
            125.2,
            126,
            126.8,
            127.7,
            128.5,
            129.3,
            130.2,
            131,
            131.8,
            132.7,
            133.5,
            134.3,
            135.2,
            136,
            136.8,
            137.7,
            138.5,
            139.3,
            140.2,
            141,
            141.8,
            142.7,
            143.5,
            144.3,
            145.2,
            146,
            146.8,
            147.7,
            148.5,
            149.3,
            150.2,
            151,
            151.8,
            152.7,
            153.5,
            154.3,
            155.2,
            156,
            156.8,
            157.7,
            158.5,
            159.3,
            160.2,
            161,
            161.8,
            162.6,
            163.5,
            164.3,
            165.1,
            166,
            166.8,
            167.6,
            168.5,
            169.3,
            170.1,
            171,
            171.8,
            172.6,
            173.5,
            174.3,
            175.1,
            176,
            176.8,
            177.6,
            178.5,
            179.3,
            180.1,
            181,
            181.8,
            182.6,
            183.5,
            184.3,
            185.1,
            186,
            186.8,
            187.6,
            188.5,
            189.3,
            190.1,
            191,
            191.8,
            192.6,
            193.5,
            194.3,
            195.1,
            196,
            196.8,
            197.6,
            198.5,
            199.3
           ],
           "y": [
            0.0063,
            0.0067,
            0.007,
            0.0074,
            0.0077,
            0.0081,
            0.0084,
            0.0087,
            0.0089,
            0.0092,
            0.0094,
            0.0095,
            0.0097,
            0.0098,
            0.0099,
            0.01,
            0.01,
            0.01,
            0.0101,
            0.01,
            0.01,
            0.01,
            0.0099,
            0.0099,
            0.0098,
            0.0097,
            0.0097,
            0.0096,
            0.0095,
            0.0094,
            0.0094,
            0.0093,
            0.0092,
            0.0092,
            0.0091,
            0.0091,
            0.009,
            0.009,
            0.0089,
            0.0089,
            0.0089,
            0.0088,
            0.0088,
            0.0088,
            0.0087,
            0.0087,
            0.0087,
            0.0087,
            0.0086,
            0.0086,
            0.0086,
            0.0086,
            0.0085,
            0.0085,
            0.0085,
            0.0085,
            0.0084,
            0.0084,
            0.0084,
            0.0083,
            0.0083,
            0.0083,
            0.0082,
            0.0082,
            0.0081,
            0.0081,
            0.008,
            0.008,
            0.0079,
            0.0079,
            0.0078,
            0.0078,
            0.0077,
            0.0076,
            0.0076,
            0.0075,
            0.0074,
            0.0073,
            0.0073,
            0.0072,
            0.0071,
            0.007,
            0.0069,
            0.0069,
            0.0068,
            0.0067,
            0.0066,
            0.0065,
            0.0064,
            0.0063,
            0.0062,
            0.0062,
            0.0061,
            0.006,
            0.0059,
            0.0058,
            0.0057,
            0.0056,
            0.0055,
            0.0054,
            0.0054,
            0.0053,
            0.0052,
            0.0051,
            0.005,
            0.0049,
            0.0049,
            0.0048,
            0.0047,
            0.0046,
            0.0046,
            0.0045,
            0.0044,
            0.0043,
            0.0043,
            0.0042,
            0.0041,
            0.0041,
            0.004,
            0.0039,
            0.0039,
            0.0038,
            0.0037,
            0.0037,
            0.0036,
            0.0036,
            0.0035,
            0.0034,
            0.0034,
            0.0033,
            0.0033,
            0.0032,
            0.0032,
            0.0031,
            0.0031,
            0.003,
            0.003,
            0.0029,
            0.0029,
            0.0029,
            0.0028,
            0.0028,
            0.0027,
            0.0027,
            0.0026,
            0.0026,
            0.0026,
            0.0025,
            0.0025,
            0.0024,
            0.0024,
            0.0024,
            0.0023,
            0.0023,
            0.0022,
            0.0022,
            0.0021,
            0.0021,
            0.0021,
            0.002,
            0.002,
            0.0019,
            0.0019,
            0.0019,
            0.0018,
            0.0018,
            0.0018,
            0.0017,
            0.0017,
            0.0017,
            0.0016,
            0.0016,
            0.0016,
            0.0016,
            0.0015,
            0.0015,
            0.0015,
            0.0015,
            0.0015,
            0.0014,
            0.0014,
            0.0014,
            0.0014,
            0.0013,
            0.0013,
            0.0013,
            0.0013,
            0.0012,
            0.0012,
            0.0012,
            0.0012,
            0.0011,
            0.0011,
            0.0011,
            0.0011,
            0.001,
            0.001,
            0.001,
            0.001,
            0.0009,
            0.0009,
            0.0009,
            0.0009,
            0.0009,
            0.0009,
            0.0008,
            0.0008,
            0.0008,
            0.0008,
            0.0008,
            0.0008,
            0.0007,
            0.0007,
            0.0007,
            0.0007,
            0.0007,
            0.0007,
            0.0006,
            0.0006,
            0.0006,
            0.0006,
            0.0006,
            0.0006,
            0.0006,
            0.0005,
            0.0005,
            0.0005,
            0.0005,
            0.0005,
            0.0005,
            0.0005,
            0.0005,
            0.0005,
            0.0005,
            0.0005,
            0.0005,
            0.0005,
            0.0004,
            0.0004,
            0.0004
           ]
          },
          {
           "hovertemplate": "Compensation: %{x}",
           "line": {
            "dash": "dashdot"
           },
           "name": "2020",
           "type": "scatter",
           "x": [
            0.2,
            0.9,
            1.7,
            2.5,
            3.2,
            4,
            4.7,
            5.5,
            6.2,
            7,
            7.8,
            8.5,
            9.3,
            10,
            10.8,
            11.6,
            12.3,
            13.1,
            13.8,
            14.6,
            15.3,
            16.1,
            16.9,
            17.6,
            18.4,
            19.1,
            19.9,
            20.6,
            21.4,
            22.2,
            22.9,
            23.7,
            24.4,
            25.2,
            25.9,
            26.7,
            27.5,
            28.2,
            29,
            29.7,
            30.5,
            31.2,
            32,
            32.8,
            33.5,
            34.3,
            35,
            35.8,
            36.5,
            37.3,
            38.1,
            38.8,
            39.6,
            40.3,
            41.1,
            41.8,
            42.6,
            43.4,
            44.1,
            44.9,
            45.6,
            46.4,
            47.2,
            47.9,
            48.7,
            49.4,
            50.2,
            50.9,
            51.7,
            52.5,
            53.2,
            54,
            54.7,
            55.5,
            56.2,
            57,
            57.8,
            58.5,
            59.3,
            60,
            60.8,
            61.5,
            62.3,
            63.1,
            63.8,
            64.6,
            65.3,
            66.1,
            66.8,
            67.6,
            68.4,
            69.1,
            69.9,
            70.6,
            71.4,
            72.1,
            72.9,
            73.7,
            74.4,
            75.2,
            75.9,
            76.7,
            77.4,
            78.2,
            79,
            79.7,
            80.5,
            81.2,
            82,
            82.8,
            83.5,
            84.3,
            85,
            85.8,
            86.5,
            87.3,
            88.1,
            88.8,
            89.6,
            90.3,
            91.1,
            91.8,
            92.6,
            93.4,
            94.1,
            94.9,
            95.6,
            96.4,
            97.1,
            97.9,
            98.7,
            99.4,
            100.2,
            100.9,
            101.7,
            102.4,
            103.2,
            104,
            104.7,
            105.5,
            106.2,
            107,
            107.7,
            108.5,
            109.3,
            110,
            110.8,
            111.5,
            112.3,
            113,
            113.8,
            114.6,
            115.3,
            116.1,
            116.8,
            117.6,
            118.4,
            119.1,
            119.9,
            120.6,
            121.4,
            122.1,
            122.9,
            123.7,
            124.4,
            125.2,
            125.9,
            126.7,
            127.4,
            128.2,
            129,
            129.7,
            130.5,
            131.2,
            132,
            132.7,
            133.5,
            134.3,
            135,
            135.8,
            136.5,
            137.3,
            138,
            138.8,
            139.6,
            140.3,
            141.1,
            141.8,
            142.6,
            143.3,
            144.1,
            144.9,
            145.6,
            146.4,
            147.1,
            147.9,
            148.6,
            149.4,
            150.2,
            150.9,
            151.7,
            152.4,
            153.2,
            154,
            154.7,
            155.5,
            156.2,
            157,
            157.7,
            158.5,
            159.3,
            160,
            160.8,
            161.5,
            162.3,
            163,
            163.8,
            164.6,
            165.3,
            166.1,
            166.8,
            167.6,
            168.3,
            169.1,
            169.9,
            170.6,
            171.4,
            172.1,
            172.9,
            173.6,
            174.4,
            175.2,
            175.9,
            176.7,
            177.4,
            178.2,
            178.9,
            179.7,
            180.5,
            181.2,
            182,
            182.7,
            183.5,
            184.2,
            185,
            185.8,
            186.5,
            187.3,
            188,
            188.8,
            189.6,
            190.3,
            191.1,
            191.8,
            192.6,
            193.3,
            194.1,
            194.9,
            195.6,
            196.4,
            197.1,
            197.9,
            198.6,
            199.4
           ],
           "y": [
            0.0063,
            0.0067,
            0.007,
            0.0074,
            0.0077,
            0.008,
            0.0083,
            0.0085,
            0.0088,
            0.009,
            0.0093,
            0.0094,
            0.0096,
            0.0098,
            0.0099,
            0.01,
            0.0101,
            0.0102,
            0.0102,
            0.0103,
            0.0103,
            0.0103,
            0.0103,
            0.0103,
            0.0102,
            0.0102,
            0.0101,
            0.0101,
            0.01,
            0.01,
            0.0099,
            0.0098,
            0.0098,
            0.0097,
            0.0097,
            0.0096,
            0.0095,
            0.0095,
            0.0094,
            0.0094,
            0.0093,
            0.0093,
            0.0093,
            0.0092,
            0.0092,
            0.0092,
            0.0091,
            0.0091,
            0.0091,
            0.0091,
            0.009,
            0.009,
            0.009,
            0.0089,
            0.0089,
            0.0089,
            0.0089,
            0.0088,
            0.0088,
            0.0088,
            0.0087,
            0.0087,
            0.0086,
            0.0086,
            0.0085,
            0.0085,
            0.0084,
            0.0084,
            0.0083,
            0.0083,
            0.0082,
            0.0081,
            0.0081,
            0.008,
            0.0079,
            0.0078,
            0.0078,
            0.0077,
            0.0076,
            0.0075,
            0.0075,
            0.0074,
            0.0073,
            0.0072,
            0.0071,
            0.0071,
            0.007,
            0.0069,
            0.0068,
            0.0067,
            0.0066,
            0.0066,
            0.0065,
            0.0064,
            0.0063,
            0.0062,
            0.0062,
            0.0061,
            0.006,
            0.0059,
            0.0059,
            0.0058,
            0.0057,
            0.0056,
            0.0056,
            0.0055,
            0.0054,
            0.0054,
            0.0053,
            0.0052,
            0.0051,
            0.0051,
            0.005,
            0.0049,
            0.0049,
            0.0048,
            0.0047,
            0.0047,
            0.0046,
            0.0045,
            0.0044,
            0.0044,
            0.0043,
            0.0042,
            0.0042,
            0.0041,
            0.004,
            0.004,
            0.0039,
            0.0038,
            0.0038,
            0.0037,
            0.0037,
            0.0036,
            0.0036,
            0.0035,
            0.0034,
            0.0034,
            0.0033,
            0.0033,
            0.0032,
            0.0032,
            0.0032,
            0.0031,
            0.0031,
            0.003,
            0.003,
            0.003,
            0.0029,
            0.0029,
            0.0029,
            0.0028,
            0.0028,
            0.0028,
            0.0027,
            0.0027,
            0.0027,
            0.0026,
            0.0026,
            0.0026,
            0.0025,
            0.0025,
            0.0025,
            0.0025,
            0.0024,
            0.0024,
            0.0023,
            0.0023,
            0.0023,
            0.0022,
            0.0022,
            0.0022,
            0.0021,
            0.0021,
            0.002,
            0.002,
            0.002,
            0.0019,
            0.0019,
            0.0018,
            0.0018,
            0.0018,
            0.0017,
            0.0017,
            0.0017,
            0.0016,
            0.0016,
            0.0016,
            0.0015,
            0.0015,
            0.0015,
            0.0015,
            0.0015,
            0.0014,
            0.0014,
            0.0014,
            0.0014,
            0.0014,
            0.0014,
            0.0014,
            0.0014,
            0.0013,
            0.0013,
            0.0013,
            0.0013,
            0.0013,
            0.0013,
            0.0013,
            0.0013,
            0.0012,
            0.0012,
            0.0012,
            0.0012,
            0.0012,
            0.0011,
            0.0011,
            0.0011,
            0.0011,
            0.0011,
            0.001,
            0.001,
            0.001,
            0.001,
            0.001,
            0.0009,
            0.0009,
            0.0009,
            0.0009,
            0.0009,
            0.0008,
            0.0008,
            0.0008,
            0.0008,
            0.0008,
            0.0008,
            0.0007,
            0.0007,
            0.0007,
            0.0007,
            0.0007,
            0.0007,
            0.0006,
            0.0006,
            0.0006,
            0.0006,
            0.0006,
            0.0006,
            0.0006,
            0.0005,
            0.0005,
            0.0005,
            0.0005,
            0.0005,
            0.0005,
            0.0005,
            0.0005,
            0.0005,
            0.0005,
            0.0005,
            0.0005,
            0.0005,
            0.0005,
            0.0005,
            0.0005
           ]
          }
         ],
         "layout": {
          "template": {
           "data": {
            "bar": [
             {
              "error_x": {
               "color": "#2a3f5f"
              },
              "error_y": {
               "color": "#2a3f5f"
              },
              "marker": {
               "line": {
                "color": "#E5ECF6",
                "width": 0.5
               }
              },
              "type": "bar"
             }
            ],
            "barpolar": [
             {
              "marker": {
               "line": {
                "color": "#E5ECF6",
                "width": 0.5
               }
              },
              "type": "barpolar"
             }
            ],
            "carpet": [
             {
              "aaxis": {
               "endlinecolor": "#2a3f5f",
               "gridcolor": "white",
               "linecolor": "white",
               "minorgridcolor": "white",
               "startlinecolor": "#2a3f5f"
              },
              "baxis": {
               "endlinecolor": "#2a3f5f",
               "gridcolor": "white",
               "linecolor": "white",
               "minorgridcolor": "white",
               "startlinecolor": "#2a3f5f"
              },
              "type": "carpet"
             }
            ],
            "choropleth": [
             {
              "colorbar": {
               "outlinewidth": 0,
               "ticks": ""
              },
              "type": "choropleth"
             }
            ],
            "contour": [
             {
              "colorbar": {
               "outlinewidth": 0,
               "ticks": ""
              },
              "colorscale": [
               [
                0,
                "#0d0887"
               ],
               [
                0.1111111111111111,
                "#46039f"
               ],
               [
                0.2222222222222222,
                "#7201a8"
               ],
               [
                0.3333333333333333,
                "#9c179e"
               ],
               [
                0.4444444444444444,
                "#bd3786"
               ],
               [
                0.5555555555555556,
                "#d8576b"
               ],
               [
                0.6666666666666666,
                "#ed7953"
               ],
               [
                0.7777777777777778,
                "#fb9f3a"
               ],
               [
                0.8888888888888888,
                "#fdca26"
               ],
               [
                1,
                "#f0f921"
               ]
              ],
              "type": "contour"
             }
            ],
            "contourcarpet": [
             {
              "colorbar": {
               "outlinewidth": 0,
               "ticks": ""
              },
              "type": "contourcarpet"
             }
            ],
            "heatmap": [
             {
              "colorbar": {
               "outlinewidth": 0,
               "ticks": ""
              },
              "colorscale": [
               [
                0,
                "#0d0887"
               ],
               [
                0.1111111111111111,
                "#46039f"
               ],
               [
                0.2222222222222222,
                "#7201a8"
               ],
               [
                0.3333333333333333,
                "#9c179e"
               ],
               [
                0.4444444444444444,
                "#bd3786"
               ],
               [
                0.5555555555555556,
                "#d8576b"
               ],
               [
                0.6666666666666666,
                "#ed7953"
               ],
               [
                0.7777777777777778,
                "#fb9f3a"
               ],
               [
                0.8888888888888888,
                "#fdca26"
               ],
               [
                1,
                "#f0f921"
               ]
              ],
              "type": "heatmap"
             }
            ],
            "heatmapgl": [
             {
              "colorbar": {
               "outlinewidth": 0,
               "ticks": ""
              },
              "colorscale": [
               [
                0,
                "#0d0887"
               ],
               [
                0.1111111111111111,
                "#46039f"
               ],
               [
                0.2222222222222222,
                "#7201a8"
               ],
               [
                0.3333333333333333,
                "#9c179e"
               ],
               [
                0.4444444444444444,
                "#bd3786"
               ],
               [
                0.5555555555555556,
                "#d8576b"
               ],
               [
                0.6666666666666666,
                "#ed7953"
               ],
               [
                0.7777777777777778,
                "#fb9f3a"
               ],
               [
                0.8888888888888888,
                "#fdca26"
               ],
               [
                1,
                "#f0f921"
               ]
              ],
              "type": "heatmapgl"
             }
            ],
            "histogram": [
             {
              "marker": {
               "colorbar": {
                "outlinewidth": 0,
                "ticks": ""
               }
              },
              "type": "histogram"
             }
            ],
            "histogram2d": [
             {
              "colorbar": {
               "outlinewidth": 0,
               "ticks": ""
              },
              "colorscale": [
               [
                0,
                "#0d0887"
               ],
               [
                0.1111111111111111,
                "#46039f"
               ],
               [
                0.2222222222222222,
                "#7201a8"
               ],
               [
                0.3333333333333333,
                "#9c179e"
               ],
               [
                0.4444444444444444,
                "#bd3786"
               ],
               [
                0.5555555555555556,
                "#d8576b"
               ],
               [
                0.6666666666666666,
                "#ed7953"
               ],
               [
                0.7777777777777778,
                "#fb9f3a"
               ],
               [
                0.8888888888888888,
                "#fdca26"
               ],
               [
                1,
                "#f0f921"
               ]
              ],
              "type": "histogram2d"
             }
            ],
            "histogram2dcontour": [
             {
              "colorbar": {
               "outlinewidth": 0,
               "ticks": ""
              },
              "colorscale": [
               [
                0,
                "#0d0887"
               ],
               [
                0.1111111111111111,
                "#46039f"
               ],
               [
                0.2222222222222222,
                "#7201a8"
               ],
               [
                0.3333333333333333,
                "#9c179e"
               ],
               [
                0.4444444444444444,
                "#bd3786"
               ],
               [
                0.5555555555555556,
                "#d8576b"
               ],
               [
                0.6666666666666666,
                "#ed7953"
               ],
               [
                0.7777777777777778,
                "#fb9f3a"
               ],
               [
                0.8888888888888888,
                "#fdca26"
               ],
               [
                1,
                "#f0f921"
               ]
              ],
              "type": "histogram2dcontour"
             }
            ],
            "mesh3d": [
             {
              "colorbar": {
               "outlinewidth": 0,
               "ticks": ""
              },
              "type": "mesh3d"
             }
            ],
            "parcoords": [
             {
              "line": {
               "colorbar": {
                "outlinewidth": 0,
                "ticks": ""
               }
              },
              "type": "parcoords"
             }
            ],
            "pie": [
             {
              "automargin": true,
              "type": "pie"
             }
            ],
            "scatter": [
             {
              "marker": {
               "colorbar": {
                "outlinewidth": 0,
                "ticks": ""
               }
              },
              "type": "scatter"
             }
            ],
            "scatter3d": [
             {
              "line": {
               "colorbar": {
                "outlinewidth": 0,
                "ticks": ""
               }
              },
              "marker": {
               "colorbar": {
                "outlinewidth": 0,
                "ticks": ""
               }
              },
              "type": "scatter3d"
             }
            ],
            "scattercarpet": [
             {
              "marker": {
               "colorbar": {
                "outlinewidth": 0,
                "ticks": ""
               }
              },
              "type": "scattercarpet"
             }
            ],
            "scattergeo": [
             {
              "marker": {
               "colorbar": {
                "outlinewidth": 0,
                "ticks": ""
               }
              },
              "type": "scattergeo"
             }
            ],
            "scattergl": [
             {
              "marker": {
               "colorbar": {
                "outlinewidth": 0,
                "ticks": ""
               }
              },
              "type": "scattergl"
             }
            ],
            "scattermapbox": [
             {
              "marker": {
               "colorbar": {
                "outlinewidth": 0,
                "ticks": ""
               }
              },
              "type": "scattermapbox"
             }
            ],
            "scatterpolar": [
             {
              "marker": {
               "colorbar": {
                "outlinewidth": 0,
                "ticks": ""
               }
              },
              "type": "scatterpolar"
             }
            ],
            "scatterpolargl": [
             {
              "marker": {
               "colorbar": {
                "outlinewidth": 0,
                "ticks": ""
               }
              },
              "type": "scatterpolargl"
             }
            ],
            "scatterternary": [
             {
              "marker": {
               "colorbar": {
                "outlinewidth": 0,
                "ticks": ""
               }
              },
              "type": "scatterternary"
             }
            ],
            "surface": [
             {
              "colorbar": {
               "outlinewidth": 0,
               "ticks": ""
              },
              "colorscale": [
               [
                0,
                "#0d0887"
               ],
               [
                0.1111111111111111,
                "#46039f"
               ],
               [
                0.2222222222222222,
                "#7201a8"
               ],
               [
                0.3333333333333333,
                "#9c179e"
               ],
               [
                0.4444444444444444,
                "#bd3786"
               ],
               [
                0.5555555555555556,
                "#d8576b"
               ],
               [
                0.6666666666666666,
                "#ed7953"
               ],
               [
                0.7777777777777778,
                "#fb9f3a"
               ],
               [
                0.8888888888888888,
                "#fdca26"
               ],
               [
                1,
                "#f0f921"
               ]
              ],
              "type": "surface"
             }
            ],
            "table": [
             {
              "cells": {
               "fill": {
                "color": "#EBF0F8"
               },
               "line": {
                "color": "white"
               }
              },
              "header": {
               "fill": {
                "color": "#C8D4E3"
               },
               "line": {
                "color": "white"
               }
              },
              "type": "table"
             }
            ]
           },
           "layout": {
            "annotationdefaults": {
             "arrowcolor": "#2a3f5f",
             "arrowhead": 0,
             "arrowwidth": 1
            },
            "coloraxis": {
             "colorbar": {
              "outlinewidth": 0,
              "ticks": ""
             }
            },
            "colorscale": {
             "diverging": [
              [
               0,
               "#8e0152"
              ],
              [
               0.1,
               "#c51b7d"
              ],
              [
               0.2,
               "#de77ae"
              ],
              [
               0.3,
               "#f1b6da"
              ],
              [
               0.4,
               "#fde0ef"
              ],
              [
               0.5,
               "#f7f7f7"
              ],
              [
               0.6,
               "#e6f5d0"
              ],
              [
               0.7,
               "#b8e186"
              ],
              [
               0.8,
               "#7fbc41"
              ],
              [
               0.9,
               "#4d9221"
              ],
              [
               1,
               "#276419"
              ]
             ],
             "sequential": [
              [
               0,
               "#0d0887"
              ],
              [
               0.1111111111111111,
               "#46039f"
              ],
              [
               0.2222222222222222,
               "#7201a8"
              ],
              [
               0.3333333333333333,
               "#9c179e"
              ],
              [
               0.4444444444444444,
               "#bd3786"
              ],
              [
               0.5555555555555556,
               "#d8576b"
              ],
              [
               0.6666666666666666,
               "#ed7953"
              ],
              [
               0.7777777777777778,
               "#fb9f3a"
              ],
              [
               0.8888888888888888,
               "#fdca26"
              ],
              [
               1,
               "#f0f921"
              ]
             ],
             "sequentialminus": [
              [
               0,
               "#0d0887"
              ],
              [
               0.1111111111111111,
               "#46039f"
              ],
              [
               0.2222222222222222,
               "#7201a8"
              ],
              [
               0.3333333333333333,
               "#9c179e"
              ],
              [
               0.4444444444444444,
               "#bd3786"
              ],
              [
               0.5555555555555556,
               "#d8576b"
              ],
              [
               0.6666666666666666,
               "#ed7953"
              ],
              [
               0.7777777777777778,
               "#fb9f3a"
              ],
              [
               0.8888888888888888,
               "#fdca26"
              ],
              [
               1,
               "#f0f921"
              ]
             ]
            },
            "colorway": [
             "#636efa",
             "#EF553B",
             "#00cc96",
             "#ab63fa",
             "#FFA15A",
             "#19d3f3",
             "#FF6692",
             "#B6E880",
             "#FF97FF",
             "#FECB52"
            ],
            "font": {
             "color": "#2a3f5f"
            },
            "geo": {
             "bgcolor": "white",
             "lakecolor": "white",
             "landcolor": "#E5ECF6",
             "showlakes": true,
             "showland": true,
             "subunitcolor": "white"
            },
            "hoverlabel": {
             "align": "left"
            },
            "hovermode": "closest",
            "mapbox": {
             "style": "light"
            },
            "paper_bgcolor": "white",
            "plot_bgcolor": "#E5ECF6",
            "polar": {
             "angularaxis": {
              "gridcolor": "white",
              "linecolor": "white",
              "ticks": ""
             },
             "bgcolor": "#E5ECF6",
             "radialaxis": {
              "gridcolor": "white",
              "linecolor": "white",
              "ticks": ""
             }
            },
            "scene": {
             "xaxis": {
              "backgroundcolor": "#E5ECF6",
              "gridcolor": "white",
              "gridwidth": 2,
              "linecolor": "white",
              "showbackground": true,
              "ticks": "",
              "zerolinecolor": "white"
             },
             "yaxis": {
              "backgroundcolor": "#E5ECF6",
              "gridcolor": "white",
              "gridwidth": 2,
              "linecolor": "white",
              "showbackground": true,
              "ticks": "",
              "zerolinecolor": "white"
             },
             "zaxis": {
              "backgroundcolor": "#E5ECF6",
              "gridcolor": "white",
              "gridwidth": 2,
              "linecolor": "white",
              "showbackground": true,
              "ticks": "",
              "zerolinecolor": "white"
             }
            },
            "shapedefaults": {
             "line": {
              "color": "#2a3f5f"
             }
            },
            "ternary": {
             "aaxis": {
              "gridcolor": "white",
              "linecolor": "white",
              "ticks": ""
             },
             "baxis": {
              "gridcolor": "white",
              "linecolor": "white",
              "ticks": ""
             },
             "bgcolor": "#E5ECF6",
             "caxis": {
              "gridcolor": "white",
              "linecolor": "white",
              "ticks": ""
             }
            },
            "title": {
             "x": 0.05
            },
            "xaxis": {
             "automargin": true,
             "gridcolor": "white",
             "linecolor": "white",
             "ticks": "",
             "title": {
              "standoff": 15
             },
             "zerolinecolor": "white",
             "zerolinewidth": 2
            },
            "yaxis": {
             "automargin": true,
             "gridcolor": "white",
             "linecolor": "white",
             "ticks": "",
             "title": {
              "standoff": 15
             },
             "zerolinecolor": "white",
             "zerolinewidth": 2
            }
           }
          },
          "title": {
           "text": "Annual Compensation Density Estimation:<br>Database Admin",
           "x": 0.5,
           "xanchor": "center",
           "yanchor": "top"
          },
          "xaxis": {
           "ticksuffix": "k",
           "title": {
            "text": "Compensation (USD)"
           }
          },
          "yaxis": {
           "range": [
            0,
            0.012
           ],
           "tickcolor": "white",
           "ticklen": 8,
           "ticks": "outside",
           "title": {
            "text": "Probability Density"
           },
           "zeroline": false
          }
         },
         "name": "Database administrator"
        },
        {
         "data": [
          {
           "hovertemplate": "Compensation: %{x}",
           "line": {
            "dash": "longdashdot"
           },
           "name": "2018",
           "type": "scatter",
           "x": [
            0.2,
            0.8,
            1.5,
            2.2,
            2.9,
            3.6,
            4.2,
            4.9,
            5.6,
            6.3,
            6.9,
            7.6,
            8.3,
            9,
            9.6,
            10.3,
            11,
            11.7,
            12.4,
            13,
            13.7,
            14.4,
            15.1,
            15.7,
            16.4,
            17.1,
            17.8,
            18.4,
            19.1,
            19.8,
            20.5,
            21.2,
            21.8,
            22.5,
            23.2,
            23.9,
            24.5,
            25.2,
            25.9,
            26.6,
            27.2,
            27.9,
            28.6,
            29.3,
            30,
            30.6,
            31.3,
            32,
            32.7,
            33.3,
            34,
            34.7,
            35.4,
            36,
            36.7,
            37.4,
            38.1,
            38.8,
            39.4,
            40.1,
            40.8,
            41.5,
            42.1,
            42.8,
            43.5,
            44.2,
            44.8,
            45.5,
            46.2,
            46.9,
            47.6,
            48.2,
            48.9,
            49.6,
            50.3,
            50.9,
            51.6,
            52.3,
            53,
            53.6,
            54.3,
            55,
            55.7,
            56.4,
            57,
            57.7,
            58.4,
            59.1,
            59.7,
            60.4,
            61.1,
            61.8,
            62.4,
            63.1,
            63.8,
            64.5,
            65.2,
            65.8,
            66.5,
            67.2,
            67.9,
            68.5,
            69.2,
            69.9,
            70.6,
            71.2,
            71.9,
            72.6,
            73.3,
            74,
            74.6,
            75.3,
            76,
            76.7,
            77.3,
            78,
            78.7,
            79.4,
            80,
            80.7,
            81.4,
            82.1,
            82.8,
            83.4,
            84.1,
            84.8,
            85.5,
            86.1,
            86.8,
            87.5,
            88.2,
            88.8,
            89.5,
            90.2,
            90.9,
            91.6,
            92.2,
            92.9,
            93.6,
            94.3,
            94.9,
            95.6,
            96.3,
            97,
            97.6,
            98.3,
            99,
            99.7,
            100.4,
            101,
            101.7,
            102.4,
            103.1,
            103.7,
            104.4,
            105.1,
            105.8,
            106.5,
            107.1,
            107.8,
            108.5,
            109.2,
            109.8,
            110.5,
            111.2,
            111.9,
            112.5,
            113.2,
            113.9,
            114.6,
            115.3,
            115.9,
            116.6,
            117.3,
            118,
            118.6,
            119.3,
            120,
            120.7,
            121.3,
            122,
            122.7,
            123.4,
            124.1,
            124.7,
            125.4,
            126.1,
            126.8,
            127.4,
            128.1,
            128.8,
            129.5,
            130.1,
            130.8,
            131.5,
            132.2,
            132.9,
            133.5,
            134.2,
            134.9,
            135.6,
            136.2,
            136.9,
            137.6,
            138.3,
            138.9,
            139.6,
            140.3,
            141,
            141.7,
            142.3,
            143,
            143.7,
            144.4,
            145,
            145.7,
            146.4,
            147.1,
            147.7,
            148.4,
            149.1,
            149.8,
            150.5,
            151.1,
            151.8,
            152.5,
            153.2,
            153.8,
            154.5,
            155.2,
            155.9,
            156.5,
            157.2,
            157.9,
            158.6,
            159.3,
            159.9,
            160.6,
            161.3,
            162,
            162.6,
            163.3,
            164,
            164.7,
            165.3,
            166,
            166.7,
            167.4,
            168.1,
            168.7,
            169.4,
            170.1,
            170.8,
            171.4,
            172.1,
            172.8,
            173.5,
            174.1,
            174.8,
            175.5,
            176.2,
            176.9,
            177.5,
            178.2,
            178.9,
            179.6,
            180.2,
            180.9,
            181.6,
            182.3,
            182.9,
            183.6,
            184.3,
            185,
            185.7,
            186.3,
            187,
            187.7,
            188.4,
            189,
            189.7,
            190.4,
            191.1,
            191.7,
            192.4,
            193.1,
            193.8,
            194.5,
            195.1,
            195.8,
            196.5,
            197.2,
            197.8,
            198.5,
            199.2,
            199.9
           ],
           "y": [
            0.0057,
            0.0061,
            0.0064,
            0.0066,
            0.0069,
            0.0072,
            0.0074,
            0.0076,
            0.0078,
            0.008,
            0.0082,
            0.0083,
            0.0085,
            0.0086,
            0.0087,
            0.0087,
            0.0088,
            0.0088,
            0.0088,
            0.0088,
            0.0088,
            0.0088,
            0.0088,
            0.0087,
            0.0087,
            0.0086,
            0.0086,
            0.0085,
            0.0085,
            0.0084,
            0.0084,
            0.0084,
            0.0083,
            0.0083,
            0.0083,
            0.0082,
            0.0082,
            0.0082,
            0.0082,
            0.0082,
            0.0082,
            0.0082,
            0.0083,
            0.0083,
            0.0083,
            0.0083,
            0.0084,
            0.0084,
            0.0085,
            0.0085,
            0.0086,
            0.0086,
            0.0086,
            0.0087,
            0.0087,
            0.0088,
            0.0088,
            0.0089,
            0.0089,
            0.009,
            0.009,
            0.0091,
            0.0091,
            0.0092,
            0.0092,
            0.0093,
            0.0093,
            0.0094,
            0.0094,
            0.0095,
            0.0095,
            0.0095,
            0.0096,
            0.0096,
            0.0096,
            0.0096,
            0.0096,
            0.0096,
            0.0096,
            0.0096,
            0.0096,
            0.0096,
            0.0096,
            0.0096,
            0.0095,
            0.0095,
            0.0094,
            0.0094,
            0.0093,
            0.0093,
            0.0092,
            0.0091,
            0.0091,
            0.009,
            0.0089,
            0.0088,
            0.0087,
            0.0086,
            0.0085,
            0.0084,
            0.0084,
            0.0083,
            0.0082,
            0.0081,
            0.008,
            0.0079,
            0.0078,
            0.0077,
            0.0076,
            0.0075,
            0.0074,
            0.0072,
            0.0071,
            0.007,
            0.0069,
            0.0068,
            0.0067,
            0.0066,
            0.0065,
            0.0064,
            0.0063,
            0.0062,
            0.0061,
            0.006,
            0.0059,
            0.0058,
            0.0057,
            0.0056,
            0.0056,
            0.0055,
            0.0054,
            0.0053,
            0.0052,
            0.0051,
            0.0051,
            0.005,
            0.0049,
            0.0048,
            0.0048,
            0.0047,
            0.0046,
            0.0045,
            0.0045,
            0.0044,
            0.0043,
            0.0043,
            0.0042,
            0.0041,
            0.0041,
            0.004,
            0.0039,
            0.0038,
            0.0038,
            0.0037,
            0.0036,
            0.0036,
            0.0035,
            0.0035,
            0.0034,
            0.0034,
            0.0033,
            0.0033,
            0.0032,
            0.0032,
            0.0031,
            0.0031,
            0.0031,
            0.003,
            0.003,
            0.003,
            0.0029,
            0.0029,
            0.0029,
            0.0029,
            0.0028,
            0.0028,
            0.0028,
            0.0027,
            0.0027,
            0.0027,
            0.0026,
            0.0026,
            0.0026,
            0.0025,
            0.0025,
            0.0024,
            0.0024,
            0.0023,
            0.0023,
            0.0022,
            0.0022,
            0.0021,
            0.0021,
            0.002,
            0.002,
            0.002,
            0.0019,
            0.0019,
            0.0018,
            0.0018,
            0.0018,
            0.0017,
            0.0017,
            0.0017,
            0.0016,
            0.0016,
            0.0016,
            0.0016,
            0.0016,
            0.0016,
            0.0015,
            0.0015,
            0.0015,
            0.0015,
            0.0015,
            0.0015,
            0.0015,
            0.0015,
            0.0015,
            0.0014,
            0.0014,
            0.0014,
            0.0014,
            0.0014,
            0.0014,
            0.0014,
            0.0013,
            0.0013,
            0.0013,
            0.0013,
            0.0013,
            0.0012,
            0.0012,
            0.0012,
            0.0012,
            0.0011,
            0.0011,
            0.0011,
            0.0011,
            0.001,
            0.001,
            0.001,
            0.001,
            0.0009,
            0.0009,
            0.0009,
            0.0009,
            0.0008,
            0.0008,
            0.0008,
            0.0008,
            0.0008,
            0.0008,
            0.0007,
            0.0007,
            0.0007,
            0.0007,
            0.0007,
            0.0007,
            0.0007,
            0.0007,
            0.0006,
            0.0006,
            0.0006,
            0.0006,
            0.0006,
            0.0006,
            0.0006,
            0.0006,
            0.0005,
            0.0005,
            0.0005,
            0.0005,
            0.0005,
            0.0005,
            0.0005,
            0.0005,
            0.0005,
            0.0004,
            0.0004,
            0.0004,
            0.0004,
            0.0004,
            0.0004,
            0.0004,
            0.0004,
            0.0004,
            0.0004,
            0.0004,
            0.0004,
            0.0004,
            0.0004,
            0.0004,
            0.0004,
            0.0004,
            0.0004
           ]
          },
          {
           "hovertemplate": "Compensation: %{x}",
           "line": {
            "dash": "dash"
           },
           "name": "2019",
           "type": "scatter",
           "x": [
            0.2,
            1,
            1.9,
            2.7,
            3.5,
            4.3,
            5.2,
            6,
            6.8,
            7.6,
            8.5,
            9.3,
            10.1,
            10.9,
            11.8,
            12.6,
            13.4,
            14.2,
            15.1,
            15.9,
            16.7,
            17.5,
            18.4,
            19.2,
            20,
            20.9,
            21.7,
            22.5,
            23.3,
            24.2,
            25,
            25.8,
            26.6,
            27.5,
            28.3,
            29.1,
            29.9,
            30.8,
            31.6,
            32.4,
            33.2,
            34.1,
            34.9,
            35.7,
            36.5,
            37.4,
            38.2,
            39,
            39.8,
            40.7,
            41.5,
            42.3,
            43.1,
            44,
            44.8,
            45.6,
            46.4,
            47.3,
            48.1,
            48.9,
            49.8,
            50.6,
            51.4,
            52.2,
            53.1,
            53.9,
            54.7,
            55.5,
            56.4,
            57.2,
            58,
            58.8,
            59.7,
            60.5,
            61.3,
            62.1,
            63,
            63.8,
            64.6,
            65.4,
            66.3,
            67.1,
            67.9,
            68.7,
            69.6,
            70.4,
            71.2,
            72,
            72.9,
            73.7,
            74.5,
            75.4,
            76.2,
            77,
            77.8,
            78.7,
            79.5,
            80.3,
            81.1,
            82,
            82.8,
            83.6,
            84.4,
            85.3,
            86.1,
            86.9,
            87.7,
            88.6,
            89.4,
            90.2,
            91,
            91.9,
            92.7,
            93.5,
            94.3,
            95.2,
            96,
            96.8,
            97.6,
            98.5,
            99.3,
            100.1,
            100.9,
            101.8,
            102.6,
            103.4,
            104.3,
            105.1,
            105.9,
            106.7,
            107.6,
            108.4,
            109.2,
            110,
            110.9,
            111.7,
            112.5,
            113.3,
            114.2,
            115,
            115.8,
            116.6,
            117.5,
            118.3,
            119.1,
            119.9,
            120.8,
            121.6,
            122.4,
            123.2,
            124.1,
            124.9,
            125.7,
            126.5,
            127.4,
            128.2,
            129,
            129.8,
            130.7,
            131.5,
            132.3,
            133.2,
            134,
            134.8,
            135.6,
            136.5,
            137.3,
            138.1,
            138.9,
            139.8,
            140.6,
            141.4,
            142.2,
            143.1,
            143.9,
            144.7,
            145.5,
            146.4,
            147.2,
            148,
            148.8,
            149.7,
            150.5,
            151.3,
            152.1,
            153,
            153.8,
            154.6,
            155.4,
            156.3,
            157.1,
            157.9,
            158.8,
            159.6,
            160.4,
            161.2,
            162.1,
            162.9,
            163.7,
            164.5,
            165.4,
            166.2,
            167,
            167.8,
            168.7,
            169.5,
            170.3,
            171.1,
            172,
            172.8,
            173.6,
            174.4,
            175.3,
            176.1,
            176.9,
            177.7,
            178.6,
            179.4,
            180.2,
            181,
            181.9,
            182.7,
            183.5,
            184.3,
            185.2,
            186,
            186.8,
            187.7,
            188.5,
            189.3,
            190.1,
            191,
            191.8,
            192.6,
            193.4,
            194.3,
            195.1,
            195.9,
            196.7,
            197.6,
            198.4,
            199.2
           ],
           "y": [
            0.0053,
            0.0056,
            0.006,
            0.0063,
            0.0067,
            0.007,
            0.0073,
            0.0076,
            0.0079,
            0.0081,
            0.0084,
            0.0086,
            0.0088,
            0.009,
            0.0091,
            0.0092,
            0.0093,
            0.0094,
            0.0095,
            0.0096,
            0.0096,
            0.0096,
            0.0096,
            0.0096,
            0.0096,
            0.0096,
            0.0096,
            0.0096,
            0.0095,
            0.0095,
            0.0095,
            0.0094,
            0.0094,
            0.0094,
            0.0093,
            0.0093,
            0.0093,
            0.0092,
            0.0092,
            0.0092,
            0.0091,
            0.0091,
            0.0091,
            0.0091,
            0.009,
            0.009,
            0.009,
            0.009,
            0.009,
            0.009,
            0.0089,
            0.0089,
            0.0089,
            0.0089,
            0.0089,
            0.0089,
            0.0089,
            0.0089,
            0.0088,
            0.0088,
            0.0088,
            0.0088,
            0.0088,
            0.0088,
            0.0087,
            0.0087,
            0.0087,
            0.0086,
            0.0086,
            0.0086,
            0.0085,
            0.0085,
            0.0084,
            0.0084,
            0.0083,
            0.0082,
            0.0082,
            0.0081,
            0.008,
            0.0079,
            0.0078,
            0.0077,
            0.0076,
            0.0076,
            0.0075,
            0.0074,
            0.0073,
            0.0071,
            0.007,
            0.0069,
            0.0068,
            0.0067,
            0.0066,
            0.0065,
            0.0064,
            0.0063,
            0.0062,
            0.0061,
            0.006,
            0.0059,
            0.0058,
            0.0057,
            0.0056,
            0.0055,
            0.0054,
            0.0053,
            0.0052,
            0.0051,
            0.005,
            0.0049,
            0.0048,
            0.0048,
            0.0047,
            0.0046,
            0.0045,
            0.0044,
            0.0043,
            0.0043,
            0.0042,
            0.0041,
            0.004,
            0.004,
            0.0039,
            0.0038,
            0.0037,
            0.0037,
            0.0036,
            0.0035,
            0.0034,
            0.0034,
            0.0033,
            0.0032,
            0.0032,
            0.0031,
            0.0031,
            0.003,
            0.003,
            0.0029,
            0.0029,
            0.0028,
            0.0028,
            0.0027,
            0.0027,
            0.0026,
            0.0026,
            0.0025,
            0.0025,
            0.0025,
            0.0024,
            0.0024,
            0.0023,
            0.0023,
            0.0023,
            0.0022,
            0.0022,
            0.0022,
            0.0021,
            0.0021,
            0.0021,
            0.002,
            0.002,
            0.002,
            0.0019,
            0.0019,
            0.0019,
            0.0018,
            0.0018,
            0.0018,
            0.0017,
            0.0017,
            0.0017,
            0.0017,
            0.0016,
            0.0016,
            0.0016,
            0.0016,
            0.0015,
            0.0015,
            0.0015,
            0.0015,
            0.0014,
            0.0014,
            0.0014,
            0.0014,
            0.0013,
            0.0013,
            0.0013,
            0.0012,
            0.0012,
            0.0012,
            0.0012,
            0.0011,
            0.0011,
            0.0011,
            0.001,
            0.001,
            0.001,
            0.001,
            0.001,
            0.0009,
            0.0009,
            0.0009,
            0.0009,
            0.0009,
            0.0009,
            0.0008,
            0.0008,
            0.0008,
            0.0008,
            0.0008,
            0.0008,
            0.0008,
            0.0007,
            0.0007,
            0.0007,
            0.0007,
            0.0007,
            0.0007,
            0.0007,
            0.0006,
            0.0006,
            0.0006,
            0.0006,
            0.0006,
            0.0006,
            0.0006,
            0.0006,
            0.0005,
            0.0005,
            0.0005,
            0.0005,
            0.0005,
            0.0005,
            0.0005,
            0.0005,
            0.0005,
            0.0005,
            0.0004,
            0.0004,
            0.0004,
            0.0004,
            0.0004
           ]
          },
          {
           "hovertemplate": "Compensation: %{x}",
           "line": {
            "dash": "dashdot"
           },
           "name": "2020",
           "type": "scatter",
           "x": [
            0.2,
            0.9,
            1.7,
            2.5,
            3.2,
            4,
            4.7,
            5.5,
            6.2,
            7,
            7.8,
            8.5,
            9.3,
            10,
            10.8,
            11.6,
            12.3,
            13.1,
            13.8,
            14.6,
            15.3,
            16.1,
            16.9,
            17.6,
            18.4,
            19.1,
            19.9,
            20.6,
            21.4,
            22.2,
            22.9,
            23.7,
            24.4,
            25.2,
            25.9,
            26.7,
            27.5,
            28.2,
            29,
            29.7,
            30.5,
            31.2,
            32,
            32.8,
            33.5,
            34.3,
            35,
            35.8,
            36.5,
            37.3,
            38.1,
            38.8,
            39.6,
            40.3,
            41.1,
            41.8,
            42.6,
            43.4,
            44.1,
            44.9,
            45.6,
            46.4,
            47.2,
            47.9,
            48.7,
            49.4,
            50.2,
            50.9,
            51.7,
            52.5,
            53.2,
            54,
            54.7,
            55.5,
            56.2,
            57,
            57.8,
            58.5,
            59.3,
            60,
            60.8,
            61.5,
            62.3,
            63.1,
            63.8,
            64.6,
            65.3,
            66.1,
            66.8,
            67.6,
            68.4,
            69.1,
            69.9,
            70.6,
            71.4,
            72.1,
            72.9,
            73.7,
            74.4,
            75.2,
            75.9,
            76.7,
            77.4,
            78.2,
            79,
            79.7,
            80.5,
            81.2,
            82,
            82.8,
            83.5,
            84.3,
            85,
            85.8,
            86.5,
            87.3,
            88.1,
            88.8,
            89.6,
            90.3,
            91.1,
            91.8,
            92.6,
            93.4,
            94.1,
            94.9,
            95.6,
            96.4,
            97.1,
            97.9,
            98.7,
            99.4,
            100.2,
            100.9,
            101.7,
            102.4,
            103.2,
            104,
            104.7,
            105.5,
            106.2,
            107,
            107.7,
            108.5,
            109.3,
            110,
            110.8,
            111.5,
            112.3,
            113,
            113.8,
            114.6,
            115.3,
            116.1,
            116.8,
            117.6,
            118.4,
            119.1,
            119.9,
            120.6,
            121.4,
            122.1,
            122.9,
            123.7,
            124.4,
            125.2,
            125.9,
            126.7,
            127.4,
            128.2,
            129,
            129.7,
            130.5,
            131.2,
            132,
            132.7,
            133.5,
            134.3,
            135,
            135.8,
            136.5,
            137.3,
            138,
            138.8,
            139.6,
            140.3,
            141.1,
            141.8,
            142.6,
            143.3,
            144.1,
            144.9,
            145.6,
            146.4,
            147.1,
            147.9,
            148.6,
            149.4,
            150.2,
            150.9,
            151.7,
            152.4,
            153.2,
            154,
            154.7,
            155.5,
            156.2,
            157,
            157.7,
            158.5,
            159.3,
            160,
            160.8,
            161.5,
            162.3,
            163,
            163.8,
            164.6,
            165.3,
            166.1,
            166.8,
            167.6,
            168.3,
            169.1,
            169.9,
            170.6,
            171.4,
            172.1,
            172.9,
            173.6,
            174.4,
            175.2,
            175.9,
            176.7,
            177.4,
            178.2,
            178.9,
            179.7,
            180.5,
            181.2,
            182,
            182.7,
            183.5,
            184.2,
            185,
            185.8,
            186.5,
            187.3,
            188,
            188.8,
            189.6,
            190.3,
            191.1,
            191.8,
            192.6,
            193.3,
            194.1,
            194.9,
            195.6,
            196.4,
            197.1,
            197.9,
            198.6,
            199.4
           ],
           "y": [
            0.005,
            0.0053,
            0.0056,
            0.0058,
            0.0061,
            0.0064,
            0.0067,
            0.007,
            0.0072,
            0.0075,
            0.0077,
            0.0079,
            0.0081,
            0.0083,
            0.0085,
            0.0087,
            0.0088,
            0.009,
            0.0091,
            0.0092,
            0.0093,
            0.0094,
            0.0095,
            0.0095,
            0.0096,
            0.0096,
            0.0096,
            0.0097,
            0.0097,
            0.0097,
            0.0097,
            0.0097,
            0.0097,
            0.0097,
            0.0096,
            0.0096,
            0.0096,
            0.0096,
            0.0096,
            0.0096,
            0.0095,
            0.0095,
            0.0095,
            0.0095,
            0.0095,
            0.0095,
            0.0095,
            0.0094,
            0.0094,
            0.0094,
            0.0094,
            0.0094,
            0.0094,
            0.0094,
            0.0094,
            0.0093,
            0.0093,
            0.0093,
            0.0093,
            0.0093,
            0.0092,
            0.0092,
            0.0092,
            0.0091,
            0.0091,
            0.009,
            0.009,
            0.0089,
            0.0089,
            0.0088,
            0.0087,
            0.0087,
            0.0086,
            0.0085,
            0.0085,
            0.0084,
            0.0083,
            0.0082,
            0.0081,
            0.008,
            0.0079,
            0.0078,
            0.0077,
            0.0076,
            0.0075,
            0.0075,
            0.0074,
            0.0073,
            0.0072,
            0.0071,
            0.007,
            0.0069,
            0.0068,
            0.0067,
            0.0066,
            0.0065,
            0.0064,
            0.0064,
            0.0063,
            0.0062,
            0.0061,
            0.006,
            0.006,
            0.0059,
            0.0058,
            0.0057,
            0.0057,
            0.0056,
            0.0055,
            0.0055,
            0.0054,
            0.0053,
            0.0053,
            0.0052,
            0.0051,
            0.005,
            0.005,
            0.0049,
            0.0048,
            0.0048,
            0.0047,
            0.0046,
            0.0046,
            0.0045,
            0.0044,
            0.0044,
            0.0043,
            0.0042,
            0.0041,
            0.0041,
            0.004,
            0.0039,
            0.0039,
            0.0038,
            0.0037,
            0.0037,
            0.0036,
            0.0035,
            0.0035,
            0.0034,
            0.0034,
            0.0033,
            0.0032,
            0.0032,
            0.0031,
            0.0031,
            0.003,
            0.003,
            0.0029,
            0.0029,
            0.0029,
            0.0028,
            0.0028,
            0.0028,
            0.0027,
            0.0027,
            0.0027,
            0.0026,
            0.0026,
            0.0026,
            0.0026,
            0.0025,
            0.0025,
            0.0025,
            0.0025,
            0.0024,
            0.0024,
            0.0024,
            0.0023,
            0.0023,
            0.0023,
            0.0023,
            0.0022,
            0.0022,
            0.0022,
            0.0021,
            0.0021,
            0.0021,
            0.002,
            0.002,
            0.002,
            0.0019,
            0.0019,
            0.0019,
            0.0018,
            0.0018,
            0.0018,
            0.0018,
            0.0017,
            0.0017,
            0.0017,
            0.0017,
            0.0016,
            0.0016,
            0.0016,
            0.0016,
            0.0016,
            0.0016,
            0.0015,
            0.0015,
            0.0015,
            0.0015,
            0.0015,
            0.0015,
            0.0014,
            0.0014,
            0.0014,
            0.0014,
            0.0014,
            0.0013,
            0.0013,
            0.0013,
            0.0013,
            0.0013,
            0.0012,
            0.0012,
            0.0012,
            0.0012,
            0.0011,
            0.0011,
            0.0011,
            0.0011,
            0.0011,
            0.001,
            0.001,
            0.001,
            0.001,
            0.0009,
            0.0009,
            0.0009,
            0.0009,
            0.0009,
            0.0008,
            0.0008,
            0.0008,
            0.0008,
            0.0008,
            0.0008,
            0.0007,
            0.0007,
            0.0007,
            0.0007,
            0.0007,
            0.0007,
            0.0007,
            0.0007,
            0.0006,
            0.0006,
            0.0006,
            0.0006,
            0.0006,
            0.0006,
            0.0006,
            0.0006,
            0.0006,
            0.0006,
            0.0006,
            0.0006,
            0.0006,
            0.0006,
            0.0006,
            0.0006,
            0.0006,
            0.0006
           ]
          }
         ],
         "layout": {
          "template": {
           "data": {
            "bar": [
             {
              "error_x": {
               "color": "#2a3f5f"
              },
              "error_y": {
               "color": "#2a3f5f"
              },
              "marker": {
               "line": {
                "color": "#E5ECF6",
                "width": 0.5
               }
              },
              "type": "bar"
             }
            ],
            "barpolar": [
             {
              "marker": {
               "line": {
                "color": "#E5ECF6",
                "width": 0.5
               }
              },
              "type": "barpolar"
             }
            ],
            "carpet": [
             {
              "aaxis": {
               "endlinecolor": "#2a3f5f",
               "gridcolor": "white",
               "linecolor": "white",
               "minorgridcolor": "white",
               "startlinecolor": "#2a3f5f"
              },
              "baxis": {
               "endlinecolor": "#2a3f5f",
               "gridcolor": "white",
               "linecolor": "white",
               "minorgridcolor": "white",
               "startlinecolor": "#2a3f5f"
              },
              "type": "carpet"
             }
            ],
            "choropleth": [
             {
              "colorbar": {
               "outlinewidth": 0,
               "ticks": ""
              },
              "type": "choropleth"
             }
            ],
            "contour": [
             {
              "colorbar": {
               "outlinewidth": 0,
               "ticks": ""
              },
              "colorscale": [
               [
                0,
                "#0d0887"
               ],
               [
                0.1111111111111111,
                "#46039f"
               ],
               [
                0.2222222222222222,
                "#7201a8"
               ],
               [
                0.3333333333333333,
                "#9c179e"
               ],
               [
                0.4444444444444444,
                "#bd3786"
               ],
               [
                0.5555555555555556,
                "#d8576b"
               ],
               [
                0.6666666666666666,
                "#ed7953"
               ],
               [
                0.7777777777777778,
                "#fb9f3a"
               ],
               [
                0.8888888888888888,
                "#fdca26"
               ],
               [
                1,
                "#f0f921"
               ]
              ],
              "type": "contour"
             }
            ],
            "contourcarpet": [
             {
              "colorbar": {
               "outlinewidth": 0,
               "ticks": ""
              },
              "type": "contourcarpet"
             }
            ],
            "heatmap": [
             {
              "colorbar": {
               "outlinewidth": 0,
               "ticks": ""
              },
              "colorscale": [
               [
                0,
                "#0d0887"
               ],
               [
                0.1111111111111111,
                "#46039f"
               ],
               [
                0.2222222222222222,
                "#7201a8"
               ],
               [
                0.3333333333333333,
                "#9c179e"
               ],
               [
                0.4444444444444444,
                "#bd3786"
               ],
               [
                0.5555555555555556,
                "#d8576b"
               ],
               [
                0.6666666666666666,
                "#ed7953"
               ],
               [
                0.7777777777777778,
                "#fb9f3a"
               ],
               [
                0.8888888888888888,
                "#fdca26"
               ],
               [
                1,
                "#f0f921"
               ]
              ],
              "type": "heatmap"
             }
            ],
            "heatmapgl": [
             {
              "colorbar": {
               "outlinewidth": 0,
               "ticks": ""
              },
              "colorscale": [
               [
                0,
                "#0d0887"
               ],
               [
                0.1111111111111111,
                "#46039f"
               ],
               [
                0.2222222222222222,
                "#7201a8"
               ],
               [
                0.3333333333333333,
                "#9c179e"
               ],
               [
                0.4444444444444444,
                "#bd3786"
               ],
               [
                0.5555555555555556,
                "#d8576b"
               ],
               [
                0.6666666666666666,
                "#ed7953"
               ],
               [
                0.7777777777777778,
                "#fb9f3a"
               ],
               [
                0.8888888888888888,
                "#fdca26"
               ],
               [
                1,
                "#f0f921"
               ]
              ],
              "type": "heatmapgl"
             }
            ],
            "histogram": [
             {
              "marker": {
               "colorbar": {
                "outlinewidth": 0,
                "ticks": ""
               }
              },
              "type": "histogram"
             }
            ],
            "histogram2d": [
             {
              "colorbar": {
               "outlinewidth": 0,
               "ticks": ""
              },
              "colorscale": [
               [
                0,
                "#0d0887"
               ],
               [
                0.1111111111111111,
                "#46039f"
               ],
               [
                0.2222222222222222,
                "#7201a8"
               ],
               [
                0.3333333333333333,
                "#9c179e"
               ],
               [
                0.4444444444444444,
                "#bd3786"
               ],
               [
                0.5555555555555556,
                "#d8576b"
               ],
               [
                0.6666666666666666,
                "#ed7953"
               ],
               [
                0.7777777777777778,
                "#fb9f3a"
               ],
               [
                0.8888888888888888,
                "#fdca26"
               ],
               [
                1,
                "#f0f921"
               ]
              ],
              "type": "histogram2d"
             }
            ],
            "histogram2dcontour": [
             {
              "colorbar": {
               "outlinewidth": 0,
               "ticks": ""
              },
              "colorscale": [
               [
                0,
                "#0d0887"
               ],
               [
                0.1111111111111111,
                "#46039f"
               ],
               [
                0.2222222222222222,
                "#7201a8"
               ],
               [
                0.3333333333333333,
                "#9c179e"
               ],
               [
                0.4444444444444444,
                "#bd3786"
               ],
               [
                0.5555555555555556,
                "#d8576b"
               ],
               [
                0.6666666666666666,
                "#ed7953"
               ],
               [
                0.7777777777777778,
                "#fb9f3a"
               ],
               [
                0.8888888888888888,
                "#fdca26"
               ],
               [
                1,
                "#f0f921"
               ]
              ],
              "type": "histogram2dcontour"
             }
            ],
            "mesh3d": [
             {
              "colorbar": {
               "outlinewidth": 0,
               "ticks": ""
              },
              "type": "mesh3d"
             }
            ],
            "parcoords": [
             {
              "line": {
               "colorbar": {
                "outlinewidth": 0,
                "ticks": ""
               }
              },
              "type": "parcoords"
             }
            ],
            "pie": [
             {
              "automargin": true,
              "type": "pie"
             }
            ],
            "scatter": [
             {
              "marker": {
               "colorbar": {
                "outlinewidth": 0,
                "ticks": ""
               }
              },
              "type": "scatter"
             }
            ],
            "scatter3d": [
             {
              "line": {
               "colorbar": {
                "outlinewidth": 0,
                "ticks": ""
               }
              },
              "marker": {
               "colorbar": {
                "outlinewidth": 0,
                "ticks": ""
               }
              },
              "type": "scatter3d"
             }
            ],
            "scattercarpet": [
             {
              "marker": {
               "colorbar": {
                "outlinewidth": 0,
                "ticks": ""
               }
              },
              "type": "scattercarpet"
             }
            ],
            "scattergeo": [
             {
              "marker": {
               "colorbar": {
                "outlinewidth": 0,
                "ticks": ""
               }
              },
              "type": "scattergeo"
             }
            ],
            "scattergl": [
             {
              "marker": {
               "colorbar": {
                "outlinewidth": 0,
                "ticks": ""
               }
              },
              "type": "scattergl"
             }
            ],
            "scattermapbox": [
             {
              "marker": {
               "colorbar": {
                "outlinewidth": 0,
                "ticks": ""
               }
              },
              "type": "scattermapbox"
             }
            ],
            "scatterpolar": [
             {
              "marker": {
               "colorbar": {
                "outlinewidth": 0,
                "ticks": ""
               }
              },
              "type": "scatterpolar"
             }
            ],
            "scatterpolargl": [
             {
              "marker": {
               "colorbar": {
                "outlinewidth": 0,
                "ticks": ""
               }
              },
              "type": "scatterpolargl"
             }
            ],
            "scatterternary": [
             {
              "marker": {
               "colorbar": {
                "outlinewidth": 0,
                "ticks": ""
               }
              },
              "type": "scatterternary"
             }
            ],
            "surface": [
             {
              "colorbar": {
               "outlinewidth": 0,
               "ticks": ""
              },
              "colorscale": [
               [
                0,
                "#0d0887"
               ],
               [
                0.1111111111111111,
                "#46039f"
               ],
               [
                0.2222222222222222,
                "#7201a8"
               ],
               [
                0.3333333333333333,
                "#9c179e"
               ],
               [
                0.4444444444444444,
                "#bd3786"
               ],
               [
                0.5555555555555556,
                "#d8576b"
               ],
               [
                0.6666666666666666,
                "#ed7953"
               ],
               [
                0.7777777777777778,
                "#fb9f3a"
               ],
               [
                0.8888888888888888,
                "#fdca26"
               ],
               [
                1,
                "#f0f921"
               ]
              ],
              "type": "surface"
             }
            ],
            "table": [
             {
              "cells": {
               "fill": {
                "color": "#EBF0F8"
               },
               "line": {
                "color": "white"
               }
              },
              "header": {
               "fill": {
                "color": "#C8D4E3"
               },
               "line": {
                "color": "white"
               }
              },
              "type": "table"
             }
            ]
           },
           "layout": {
            "annotationdefaults": {
             "arrowcolor": "#2a3f5f",
             "arrowhead": 0,
             "arrowwidth": 1
            },
            "coloraxis": {
             "colorbar": {
              "outlinewidth": 0,
              "ticks": ""
             }
            },
            "colorscale": {
             "diverging": [
              [
               0,
               "#8e0152"
              ],
              [
               0.1,
               "#c51b7d"
              ],
              [
               0.2,
               "#de77ae"
              ],
              [
               0.3,
               "#f1b6da"
              ],
              [
               0.4,
               "#fde0ef"
              ],
              [
               0.5,
               "#f7f7f7"
              ],
              [
               0.6,
               "#e6f5d0"
              ],
              [
               0.7,
               "#b8e186"
              ],
              [
               0.8,
               "#7fbc41"
              ],
              [
               0.9,
               "#4d9221"
              ],
              [
               1,
               "#276419"
              ]
             ],
             "sequential": [
              [
               0,
               "#0d0887"
              ],
              [
               0.1111111111111111,
               "#46039f"
              ],
              [
               0.2222222222222222,
               "#7201a8"
              ],
              [
               0.3333333333333333,
               "#9c179e"
              ],
              [
               0.4444444444444444,
               "#bd3786"
              ],
              [
               0.5555555555555556,
               "#d8576b"
              ],
              [
               0.6666666666666666,
               "#ed7953"
              ],
              [
               0.7777777777777778,
               "#fb9f3a"
              ],
              [
               0.8888888888888888,
               "#fdca26"
              ],
              [
               1,
               "#f0f921"
              ]
             ],
             "sequentialminus": [
              [
               0,
               "#0d0887"
              ],
              [
               0.1111111111111111,
               "#46039f"
              ],
              [
               0.2222222222222222,
               "#7201a8"
              ],
              [
               0.3333333333333333,
               "#9c179e"
              ],
              [
               0.4444444444444444,
               "#bd3786"
              ],
              [
               0.5555555555555556,
               "#d8576b"
              ],
              [
               0.6666666666666666,
               "#ed7953"
              ],
              [
               0.7777777777777778,
               "#fb9f3a"
              ],
              [
               0.8888888888888888,
               "#fdca26"
              ],
              [
               1,
               "#f0f921"
              ]
             ]
            },
            "colorway": [
             "#636efa",
             "#EF553B",
             "#00cc96",
             "#ab63fa",
             "#FFA15A",
             "#19d3f3",
             "#FF6692",
             "#B6E880",
             "#FF97FF",
             "#FECB52"
            ],
            "font": {
             "color": "#2a3f5f"
            },
            "geo": {
             "bgcolor": "white",
             "lakecolor": "white",
             "landcolor": "#E5ECF6",
             "showlakes": true,
             "showland": true,
             "subunitcolor": "white"
            },
            "hoverlabel": {
             "align": "left"
            },
            "hovermode": "closest",
            "mapbox": {
             "style": "light"
            },
            "paper_bgcolor": "white",
            "plot_bgcolor": "#E5ECF6",
            "polar": {
             "angularaxis": {
              "gridcolor": "white",
              "linecolor": "white",
              "ticks": ""
             },
             "bgcolor": "#E5ECF6",
             "radialaxis": {
              "gridcolor": "white",
              "linecolor": "white",
              "ticks": ""
             }
            },
            "scene": {
             "xaxis": {
              "backgroundcolor": "#E5ECF6",
              "gridcolor": "white",
              "gridwidth": 2,
              "linecolor": "white",
              "showbackground": true,
              "ticks": "",
              "zerolinecolor": "white"
             },
             "yaxis": {
              "backgroundcolor": "#E5ECF6",
              "gridcolor": "white",
              "gridwidth": 2,
              "linecolor": "white",
              "showbackground": true,
              "ticks": "",
              "zerolinecolor": "white"
             },
             "zaxis": {
              "backgroundcolor": "#E5ECF6",
              "gridcolor": "white",
              "gridwidth": 2,
              "linecolor": "white",
              "showbackground": true,
              "ticks": "",
              "zerolinecolor": "white"
             }
            },
            "shapedefaults": {
             "line": {
              "color": "#2a3f5f"
             }
            },
            "ternary": {
             "aaxis": {
              "gridcolor": "white",
              "linecolor": "white",
              "ticks": ""
             },
             "baxis": {
              "gridcolor": "white",
              "linecolor": "white",
              "ticks": ""
             },
             "bgcolor": "#E5ECF6",
             "caxis": {
              "gridcolor": "white",
              "linecolor": "white",
              "ticks": ""
             }
            },
            "title": {
             "x": 0.05
            },
            "xaxis": {
             "automargin": true,
             "gridcolor": "white",
             "linecolor": "white",
             "ticks": "",
             "title": {
              "standoff": 15
             },
             "zerolinecolor": "white",
             "zerolinewidth": 2
            },
            "yaxis": {
             "automargin": true,
             "gridcolor": "white",
             "linecolor": "white",
             "ticks": "",
             "title": {
              "standoff": 15
             },
             "zerolinecolor": "white",
             "zerolinewidth": 2
            }
           }
          },
          "title": {
           "text": "Annual Compensation Density Estimation:<br>System Admin",
           "x": 0.5,
           "xanchor": "center",
           "yanchor": "top"
          },
          "xaxis": {
           "ticksuffix": "k",
           "title": {
            "text": "Compensation (USD)"
           }
          },
          "yaxis": {
           "range": [
            0,
            0.012
           ],
           "tickcolor": "white",
           "ticklen": 8,
           "ticks": "outside",
           "title": {
            "text": "Probability Density"
           },
           "zeroline": false
          }
         },
         "name": "System administrator"
        },
        {
         "data": [
          {
           "hovertemplate": "Compensation: %{x}",
           "line": {
            "dash": "longdashdot"
           },
           "name": "2018",
           "type": "scatter",
           "x": [
            0.2,
            0.9,
            1.5,
            2.2,
            2.9,
            3.6,
            4.3,
            5,
            5.7,
            6.3,
            7,
            7.7,
            8.4,
            9.1,
            9.8,
            10.5,
            11.1,
            11.8,
            12.5,
            13.2,
            13.9,
            14.6,
            15.3,
            16,
            16.6,
            17.3,
            18,
            18.7,
            19.4,
            20.1,
            20.8,
            21.4,
            22.1,
            22.8,
            23.5,
            24.2,
            24.9,
            25.6,
            26.2,
            26.9,
            27.6,
            28.3,
            29,
            29.7,
            30.4,
            31,
            31.7,
            32.4,
            33.1,
            33.8,
            34.5,
            35.2,
            35.8,
            36.5,
            37.2,
            37.9,
            38.6,
            39.3,
            40,
            40.6,
            41.3,
            42,
            42.7,
            43.4,
            44.1,
            44.8,
            45.5,
            46.1,
            46.8,
            47.5,
            48.2,
            48.9,
            49.6,
            50.3,
            50.9,
            51.6,
            52.3,
            53,
            53.7,
            54.4,
            55.1,
            55.7,
            56.4,
            57.1,
            57.8,
            58.5,
            59.2,
            59.9,
            60.5,
            61.2,
            61.9,
            62.6,
            63.3,
            64,
            64.7,
            65.3,
            66,
            66.7,
            67.4,
            68.1,
            68.8,
            69.5,
            70.1,
            70.8,
            71.5,
            72.2,
            72.9,
            73.6,
            74.3,
            75,
            75.6,
            76.3,
            77,
            77.7,
            78.4,
            79.1,
            79.8,
            80.4,
            81.1,
            81.8,
            82.5,
            83.2,
            83.9,
            84.6,
            85.2,
            85.9,
            86.6,
            87.3,
            88,
            88.7,
            89.4,
            90,
            90.7,
            91.4,
            92.1,
            92.8,
            93.5,
            94.2,
            94.8,
            95.5,
            96.2,
            96.9,
            97.6,
            98.3,
            99,
            99.6,
            100.3,
            101,
            101.7,
            102.4,
            103.1,
            103.8,
            104.5,
            105.1,
            105.8,
            106.5,
            107.2,
            107.9,
            108.6,
            109.3,
            109.9,
            110.6,
            111.3,
            112,
            112.7,
            113.4,
            114.1,
            114.7,
            115.4,
            116.1,
            116.8,
            117.5,
            118.2,
            118.9,
            119.5,
            120.2,
            120.9,
            121.6,
            122.3,
            123,
            123.7,
            124.3,
            125,
            125.7,
            126.4,
            127.1,
            127.8,
            128.5,
            129.2,
            129.8,
            130.5,
            131.2,
            131.9,
            132.6,
            133.3,
            134,
            134.6,
            135.3,
            136,
            136.7,
            137.4,
            138.1,
            138.8,
            139.4,
            140.1,
            140.8,
            141.5,
            142.2,
            142.9,
            143.6,
            144.2,
            144.9,
            145.6,
            146.3,
            147,
            147.7,
            148.4,
            149,
            149.7,
            150.4,
            151.1,
            151.8,
            152.5,
            153.2,
            153.8,
            154.5,
            155.2,
            155.9,
            156.6,
            157.3,
            158,
            158.7,
            159.3,
            160,
            160.7,
            161.4,
            162.1,
            162.8,
            163.5,
            164.1,
            164.8,
            165.5,
            166.2,
            166.9,
            167.6,
            168.3,
            168.9,
            169.6,
            170.3,
            171,
            171.7,
            172.4,
            173.1,
            173.7,
            174.4,
            175.1,
            175.8,
            176.5,
            177.2,
            177.9,
            178.5,
            179.2,
            179.9,
            180.6,
            181.3,
            182,
            182.7,
            183.3,
            184,
            184.7,
            185.4,
            186.1,
            186.8,
            187.5,
            188.2,
            188.8,
            189.5,
            190.2,
            190.9,
            191.6,
            192.3,
            193,
            193.6,
            194.3,
            195,
            195.7,
            196.4,
            197.1,
            197.8,
            198.4,
            199.1,
            199.8
           ],
           "y": [
            0.0052,
            0.0054,
            0.0056,
            0.0059,
            0.0061,
            0.0063,
            0.0065,
            0.0067,
            0.0068,
            0.007,
            0.0072,
            0.0073,
            0.0075,
            0.0076,
            0.0077,
            0.0078,
            0.0079,
            0.008,
            0.0081,
            0.0082,
            0.0082,
            0.0083,
            0.0083,
            0.0084,
            0.0084,
            0.0084,
            0.0085,
            0.0085,
            0.0085,
            0.0085,
            0.0085,
            0.0085,
            0.0085,
            0.0085,
            0.0085,
            0.0085,
            0.0084,
            0.0084,
            0.0084,
            0.0084,
            0.0084,
            0.0084,
            0.0083,
            0.0083,
            0.0083,
            0.0083,
            0.0083,
            0.0082,
            0.0082,
            0.0082,
            0.0082,
            0.0081,
            0.0081,
            0.0081,
            0.0081,
            0.0081,
            0.008,
            0.008,
            0.008,
            0.008,
            0.008,
            0.008,
            0.008,
            0.008,
            0.008,
            0.0079,
            0.0079,
            0.0079,
            0.0079,
            0.0079,
            0.0079,
            0.0079,
            0.0079,
            0.0079,
            0.0079,
            0.0079,
            0.0079,
            0.0079,
            0.0079,
            0.0079,
            0.0079,
            0.0079,
            0.0078,
            0.0078,
            0.0078,
            0.0078,
            0.0078,
            0.0077,
            0.0077,
            0.0077,
            0.0077,
            0.0076,
            0.0076,
            0.0076,
            0.0075,
            0.0075,
            0.0075,
            0.0074,
            0.0074,
            0.0074,
            0.0073,
            0.0073,
            0.0072,
            0.0072,
            0.0071,
            0.0071,
            0.007,
            0.007,
            0.0069,
            0.0069,
            0.0068,
            0.0067,
            0.0067,
            0.0066,
            0.0066,
            0.0065,
            0.0064,
            0.0064,
            0.0063,
            0.0062,
            0.0062,
            0.0061,
            0.006,
            0.0059,
            0.0059,
            0.0058,
            0.0057,
            0.0057,
            0.0056,
            0.0055,
            0.0054,
            0.0054,
            0.0053,
            0.0052,
            0.0052,
            0.0051,
            0.005,
            0.005,
            0.0049,
            0.0049,
            0.0048,
            0.0047,
            0.0047,
            0.0046,
            0.0046,
            0.0045,
            0.0045,
            0.0044,
            0.0044,
            0.0043,
            0.0043,
            0.0042,
            0.0042,
            0.0041,
            0.0041,
            0.004,
            0.004,
            0.0039,
            0.0039,
            0.0039,
            0.0038,
            0.0038,
            0.0037,
            0.0037,
            0.0037,
            0.0036,
            0.0036,
            0.0036,
            0.0035,
            0.0035,
            0.0034,
            0.0034,
            0.0034,
            0.0033,
            0.0033,
            0.0032,
            0.0032,
            0.0032,
            0.0031,
            0.0031,
            0.003,
            0.003,
            0.0029,
            0.0029,
            0.0029,
            0.0028,
            0.0028,
            0.0027,
            0.0027,
            0.0026,
            0.0026,
            0.0026,
            0.0025,
            0.0025,
            0.0025,
            0.0024,
            0.0024,
            0.0024,
            0.0023,
            0.0023,
            0.0023,
            0.0023,
            0.0023,
            0.0022,
            0.0022,
            0.0022,
            0.0022,
            0.0022,
            0.0022,
            0.0021,
            0.0021,
            0.0021,
            0.0021,
            0.0021,
            0.0021,
            0.002,
            0.002,
            0.002,
            0.002,
            0.002,
            0.0019,
            0.0019,
            0.0019,
            0.0019,
            0.0018,
            0.0018,
            0.0018,
            0.0018,
            0.0017,
            0.0017,
            0.0017,
            0.0016,
            0.0016,
            0.0016,
            0.0015,
            0.0015,
            0.0015,
            0.0014,
            0.0014,
            0.0014,
            0.0014,
            0.0013,
            0.0013,
            0.0013,
            0.0012,
            0.0012,
            0.0012,
            0.0012,
            0.0012,
            0.0011,
            0.0011,
            0.0011,
            0.0011,
            0.0011,
            0.0011,
            0.001,
            0.001,
            0.001,
            0.001,
            0.001,
            0.001,
            0.001,
            0.0009,
            0.0009,
            0.0009,
            0.0009,
            0.0009,
            0.0009,
            0.0009,
            0.0008,
            0.0008,
            0.0008,
            0.0008,
            0.0008,
            0.0008,
            0.0007,
            0.0007,
            0.0007,
            0.0007,
            0.0007,
            0.0007,
            0.0007,
            0.0006,
            0.0006,
            0.0006,
            0.0006,
            0.0006,
            0.0006,
            0.0006,
            0.0005,
            0.0005,
            0.0005
           ]
          },
          {
           "hovertemplate": "Compensation: %{x}",
           "line": {
            "dash": "dash"
           },
           "name": "2019",
           "type": "scatter",
           "x": [
            0.2,
            1.1,
            1.9,
            2.8,
            3.6,
            4.5,
            5.3,
            6.2,
            7,
            7.9,
            8.7,
            9.6,
            10.4,
            11.3,
            12.1,
            13,
            13.8,
            14.7,
            15.5,
            16.4,
            17.2,
            18.1,
            18.9,
            19.8,
            20.6,
            21.5,
            22.3,
            23.2,
            24,
            24.9,
            25.7,
            26.6,
            27.4,
            28.3,
            29.1,
            30,
            30.8,
            31.7,
            32.5,
            33.4,
            34.2,
            35.1,
            35.9,
            36.8,
            37.7,
            38.5,
            39.4,
            40.2,
            41.1,
            41.9,
            42.8,
            43.6,
            44.5,
            45.3,
            46.2,
            47,
            47.9,
            48.7,
            49.6,
            50.4,
            51.3,
            52.1,
            53,
            53.8,
            54.7,
            55.5,
            56.4,
            57.2,
            58.1,
            58.9,
            59.8,
            60.6,
            61.5,
            62.3,
            63.2,
            64,
            64.9,
            65.7,
            66.6,
            67.4,
            68.3,
            69.1,
            70,
            70.8,
            71.7,
            72.5,
            73.4,
            74.2,
            75.1,
            75.9,
            76.8,
            77.6,
            78.5,
            79.3,
            80.2,
            81,
            81.9,
            82.7,
            83.6,
            84.4,
            85.3,
            86.1,
            87,
            87.9,
            88.7,
            89.6,
            90.4,
            91.3,
            92.1,
            93,
            93.8,
            94.7,
            95.5,
            96.4,
            97.2,
            98.1,
            98.9,
            99.8,
            100.6,
            101.5,
            102.3,
            103.2,
            104,
            104.9,
            105.7,
            106.6,
            107.4,
            108.3,
            109.1,
            110,
            110.8,
            111.7,
            112.5,
            113.4,
            114.2,
            115.1,
            115.9,
            116.8,
            117.6,
            118.5,
            119.3,
            120.2,
            121,
            121.9,
            122.7,
            123.6,
            124.4,
            125.3,
            126.1,
            127,
            127.8,
            128.7,
            129.5,
            130.4,
            131.2,
            132.1,
            132.9,
            133.8,
            134.6,
            135.5,
            136.3,
            137.2,
            138.1,
            138.9,
            139.8,
            140.6,
            141.5,
            142.3,
            143.2,
            144,
            144.9,
            145.7,
            146.6,
            147.4,
            148.3,
            149.1,
            150,
            150.8,
            151.7,
            152.5,
            153.4,
            154.2,
            155.1,
            155.9,
            156.8,
            157.6,
            158.5,
            159.3,
            160.2,
            161,
            161.9,
            162.7,
            163.6,
            164.4,
            165.3,
            166.1,
            167,
            167.8,
            168.7,
            169.5,
            170.4,
            171.2,
            172.1,
            172.9,
            173.8,
            174.6,
            175.5,
            176.3,
            177.2,
            178,
            178.9,
            179.7,
            180.6,
            181.4,
            182.3,
            183.1,
            184,
            184.8,
            185.7,
            186.5,
            187.4,
            188.3,
            189.1,
            190,
            190.8,
            191.7,
            192.5,
            193.4,
            194.2,
            195.1,
            195.9,
            196.8,
            197.6,
            198.5,
            199.3
           ],
           "y": [
            0.0051,
            0.0054,
            0.0056,
            0.0059,
            0.0061,
            0.0064,
            0.0066,
            0.0068,
            0.007,
            0.0072,
            0.0074,
            0.0076,
            0.0078,
            0.0079,
            0.008,
            0.0081,
            0.0082,
            0.0083,
            0.0084,
            0.0085,
            0.0085,
            0.0086,
            0.0086,
            0.0086,
            0.0086,
            0.0086,
            0.0086,
            0.0086,
            0.0086,
            0.0086,
            0.0086,
            0.0085,
            0.0085,
            0.0085,
            0.0084,
            0.0084,
            0.0084,
            0.0083,
            0.0083,
            0.0083,
            0.0082,
            0.0082,
            0.0082,
            0.0081,
            0.0081,
            0.0081,
            0.008,
            0.008,
            0.008,
            0.0079,
            0.0079,
            0.0079,
            0.0079,
            0.0078,
            0.0078,
            0.0078,
            0.0078,
            0.0078,
            0.0077,
            0.0077,
            0.0077,
            0.0077,
            0.0077,
            0.0076,
            0.0076,
            0.0076,
            0.0076,
            0.0075,
            0.0075,
            0.0075,
            0.0074,
            0.0074,
            0.0074,
            0.0073,
            0.0073,
            0.0072,
            0.0072,
            0.0071,
            0.007,
            0.007,
            0.0069,
            0.0069,
            0.0068,
            0.0067,
            0.0067,
            0.0066,
            0.0065,
            0.0064,
            0.0064,
            0.0063,
            0.0062,
            0.0061,
            0.0061,
            0.006,
            0.0059,
            0.0058,
            0.0058,
            0.0057,
            0.0056,
            0.0056,
            0.0055,
            0.0054,
            0.0053,
            0.0053,
            0.0052,
            0.0051,
            0.0051,
            0.005,
            0.0049,
            0.0048,
            0.0048,
            0.0047,
            0.0046,
            0.0046,
            0.0045,
            0.0044,
            0.0044,
            0.0043,
            0.0042,
            0.0041,
            0.0041,
            0.004,
            0.0039,
            0.0039,
            0.0038,
            0.0038,
            0.0037,
            0.0036,
            0.0036,
            0.0035,
            0.0035,
            0.0034,
            0.0034,
            0.0033,
            0.0033,
            0.0032,
            0.0032,
            0.0031,
            0.0031,
            0.003,
            0.003,
            0.003,
            0.0029,
            0.0029,
            0.0029,
            0.0028,
            0.0028,
            0.0028,
            0.0027,
            0.0027,
            0.0027,
            0.0026,
            0.0026,
            0.0026,
            0.0026,
            0.0025,
            0.0025,
            0.0025,
            0.0024,
            0.0024,
            0.0024,
            0.0024,
            0.0023,
            0.0023,
            0.0023,
            0.0022,
            0.0022,
            0.0022,
            0.0021,
            0.0021,
            0.0021,
            0.0021,
            0.002,
            0.002,
            0.002,
            0.0019,
            0.0019,
            0.0019,
            0.0018,
            0.0018,
            0.0018,
            0.0017,
            0.0017,
            0.0017,
            0.0016,
            0.0016,
            0.0016,
            0.0016,
            0.0015,
            0.0015,
            0.0015,
            0.0014,
            0.0014,
            0.0014,
            0.0014,
            0.0013,
            0.0013,
            0.0013,
            0.0013,
            0.0012,
            0.0012,
            0.0012,
            0.0012,
            0.0011,
            0.0011,
            0.0011,
            0.0011,
            0.0011,
            0.001,
            0.001,
            0.001,
            0.001,
            0.001,
            0.0009,
            0.0009,
            0.0009,
            0.0009,
            0.0009,
            0.0009,
            0.0009,
            0.0008,
            0.0008,
            0.0008,
            0.0008,
            0.0008,
            0.0008,
            0.0008,
            0.0008,
            0.0008,
            0.0007,
            0.0007,
            0.0007,
            0.0007,
            0.0007,
            0.0007
           ]
          },
          {
           "hovertemplate": "Compensation: %{x}",
           "line": {
            "dash": "dashdot"
           },
           "name": "2020",
           "type": "scatter",
           "x": [
            0.2,
            0.9,
            1.6,
            2.3,
            3,
            3.7,
            4.4,
            5.1,
            5.8,
            6.5,
            7.2,
            7.9,
            8.6,
            9.3,
            10,
            10.7,
            11.4,
            12.1,
            12.8,
            13.5,
            14.2,
            14.9,
            15.6,
            16.3,
            17,
            17.7,
            18.4,
            19.1,
            19.8,
            20.5,
            21.2,
            21.9,
            22.6,
            23.3,
            24,
            24.7,
            25.4,
            26.1,
            26.8,
            27.5,
            28.2,
            28.9,
            29.6,
            30.3,
            31,
            31.7,
            32.4,
            33.1,
            33.8,
            34.5,
            35.2,
            35.9,
            36.6,
            37.3,
            38,
            38.7,
            39.4,
            40.1,
            40.8,
            41.5,
            42.2,
            42.9,
            43.6,
            44.3,
            45,
            45.7,
            46.4,
            47.1,
            47.8,
            48.5,
            49.2,
            49.9,
            50.6,
            51.3,
            52,
            52.7,
            53.4,
            54.1,
            54.8,
            55.5,
            56.2,
            56.9,
            57.6,
            58.3,
            59,
            59.7,
            60.4,
            61.1,
            61.8,
            62.5,
            63.2,
            63.9,
            64.6,
            65.3,
            66,
            66.7,
            67.4,
            68.1,
            68.8,
            69.5,
            70.2,
            70.9,
            71.6,
            72.3,
            73,
            73.7,
            74.4,
            75.2,
            75.9,
            76.6,
            77.3,
            78,
            78.7,
            79.4,
            80.1,
            80.8,
            81.5,
            82.2,
            82.9,
            83.6,
            84.3,
            85,
            85.7,
            86.4,
            87.1,
            87.8,
            88.5,
            89.2,
            89.9,
            90.6,
            91.3,
            92,
            92.7,
            93.4,
            94.1,
            94.8,
            95.5,
            96.2,
            96.9,
            97.6,
            98.3,
            99,
            99.7,
            100.4,
            101.1,
            101.8,
            102.5,
            103.2,
            103.9,
            104.6,
            105.3,
            106,
            106.7,
            107.4,
            108.1,
            108.8,
            109.5,
            110.2,
            110.9,
            111.6,
            112.3,
            113,
            113.7,
            114.4,
            115.1,
            115.8,
            116.5,
            117.2,
            117.9,
            118.6,
            119.3,
            120,
            120.7,
            121.4,
            122.1,
            122.8,
            123.5,
            124.2,
            124.9,
            125.6,
            126.3,
            127,
            127.7,
            128.4,
            129.1,
            129.8,
            130.5,
            131.2,
            131.9,
            132.6,
            133.3,
            134,
            134.7,
            135.4,
            136.1,
            136.8,
            137.5,
            138.2,
            138.9,
            139.6,
            140.3,
            141,
            141.7,
            142.4,
            143.1,
            143.8,
            144.5,
            145.2,
            145.9,
            146.6,
            147.3,
            148,
            148.7,
            149.4,
            150.1,
            150.8,
            151.5,
            152.2,
            152.9,
            153.6,
            154.3,
            155,
            155.7,
            156.4,
            157.1,
            157.8,
            158.5,
            159.2,
            159.9,
            160.6,
            161.3,
            162,
            162.7,
            163.4,
            164.1,
            164.8,
            165.5,
            166.2,
            166.9,
            167.6,
            168.3,
            169,
            169.7,
            170.4,
            171.1,
            171.8,
            172.5,
            173.2,
            173.9,
            174.6,
            175.4,
            176.1,
            176.8,
            177.5,
            178.2,
            178.9,
            179.6,
            180.3,
            181,
            181.7,
            182.4,
            183.1,
            183.8,
            184.5,
            185.2,
            185.9,
            186.6,
            187.3,
            188,
            188.7,
            189.4,
            190.1,
            190.8,
            191.5,
            192.2,
            192.9,
            193.6,
            194.3,
            195,
            195.7,
            196.4,
            197.1,
            197.8,
            198.5,
            199.2,
            199.9
           ],
           "y": [
            0.0054,
            0.0056,
            0.0058,
            0.0061,
            0.0063,
            0.0065,
            0.0067,
            0.0069,
            0.0071,
            0.0073,
            0.0075,
            0.0076,
            0.0078,
            0.008,
            0.0081,
            0.0082,
            0.0083,
            0.0084,
            0.0085,
            0.0086,
            0.0087,
            0.0088,
            0.0088,
            0.0089,
            0.0089,
            0.009,
            0.009,
            0.009,
            0.009,
            0.009,
            0.009,
            0.009,
            0.009,
            0.009,
            0.009,
            0.009,
            0.009,
            0.0089,
            0.0089,
            0.0089,
            0.0089,
            0.0088,
            0.0088,
            0.0088,
            0.0087,
            0.0087,
            0.0087,
            0.0087,
            0.0086,
            0.0086,
            0.0086,
            0.0085,
            0.0085,
            0.0085,
            0.0085,
            0.0084,
            0.0084,
            0.0084,
            0.0084,
            0.0083,
            0.0083,
            0.0083,
            0.0083,
            0.0083,
            0.0082,
            0.0082,
            0.0082,
            0.0082,
            0.0082,
            0.0081,
            0.0081,
            0.0081,
            0.0081,
            0.008,
            0.008,
            0.008,
            0.008,
            0.0079,
            0.0079,
            0.0079,
            0.0078,
            0.0078,
            0.0078,
            0.0077,
            0.0077,
            0.0076,
            0.0076,
            0.0075,
            0.0075,
            0.0074,
            0.0074,
            0.0073,
            0.0073,
            0.0072,
            0.0071,
            0.0071,
            0.007,
            0.0069,
            0.0069,
            0.0068,
            0.0067,
            0.0066,
            0.0066,
            0.0065,
            0.0064,
            0.0063,
            0.0063,
            0.0062,
            0.0061,
            0.006,
            0.006,
            0.0059,
            0.0058,
            0.0057,
            0.0056,
            0.0056,
            0.0055,
            0.0054,
            0.0053,
            0.0053,
            0.0052,
            0.0051,
            0.005,
            0.005,
            0.0049,
            0.0048,
            0.0047,
            0.0047,
            0.0046,
            0.0045,
            0.0045,
            0.0044,
            0.0043,
            0.0043,
            0.0042,
            0.0042,
            0.0041,
            0.004,
            0.004,
            0.0039,
            0.0039,
            0.0038,
            0.0038,
            0.0037,
            0.0037,
            0.0036,
            0.0036,
            0.0035,
            0.0035,
            0.0035,
            0.0034,
            0.0034,
            0.0033,
            0.0033,
            0.0033,
            0.0032,
            0.0032,
            0.0032,
            0.0031,
            0.0031,
            0.0031,
            0.0031,
            0.003,
            0.003,
            0.003,
            0.0029,
            0.0029,
            0.0029,
            0.0029,
            0.0028,
            0.0028,
            0.0028,
            0.0028,
            0.0028,
            0.0027,
            0.0027,
            0.0027,
            0.0027,
            0.0026,
            0.0026,
            0.0026,
            0.0026,
            0.0025,
            0.0025,
            0.0025,
            0.0025,
            0.0025,
            0.0024,
            0.0024,
            0.0024,
            0.0024,
            0.0023,
            0.0023,
            0.0023,
            0.0023,
            0.0023,
            0.0022,
            0.0022,
            0.0022,
            0.0022,
            0.0021,
            0.0021,
            0.0021,
            0.0021,
            0.0021,
            0.002,
            0.002,
            0.002,
            0.002,
            0.002,
            0.0019,
            0.0019,
            0.0019,
            0.0019,
            0.0019,
            0.0018,
            0.0018,
            0.0018,
            0.0018,
            0.0017,
            0.0017,
            0.0017,
            0.0017,
            0.0016,
            0.0016,
            0.0016,
            0.0016,
            0.0015,
            0.0015,
            0.0015,
            0.0015,
            0.0014,
            0.0014,
            0.0014,
            0.0014,
            0.0013,
            0.0013,
            0.0013,
            0.0012,
            0.0012,
            0.0012,
            0.0012,
            0.0011,
            0.0011,
            0.0011,
            0.0011,
            0.0011,
            0.001,
            0.001,
            0.001,
            0.001,
            0.001,
            0.0009,
            0.0009,
            0.0009,
            0.0009,
            0.0009,
            0.0009,
            0.0009,
            0.0009,
            0.0008,
            0.0008,
            0.0008,
            0.0008,
            0.0008,
            0.0008,
            0.0008,
            0.0008,
            0.0008,
            0.0008,
            0.0008,
            0.0008,
            0.0008,
            0.0008,
            0.0008,
            0.0008,
            0.0008,
            0.0008,
            0.0008,
            0.0008,
            0.0008,
            0.0008,
            0.0008,
            0.0008,
            0.0008,
            0.0008
           ]
          }
         ],
         "layout": {
          "template": {
           "data": {
            "bar": [
             {
              "error_x": {
               "color": "#2a3f5f"
              },
              "error_y": {
               "color": "#2a3f5f"
              },
              "marker": {
               "line": {
                "color": "#E5ECF6",
                "width": 0.5
               }
              },
              "type": "bar"
             }
            ],
            "barpolar": [
             {
              "marker": {
               "line": {
                "color": "#E5ECF6",
                "width": 0.5
               }
              },
              "type": "barpolar"
             }
            ],
            "carpet": [
             {
              "aaxis": {
               "endlinecolor": "#2a3f5f",
               "gridcolor": "white",
               "linecolor": "white",
               "minorgridcolor": "white",
               "startlinecolor": "#2a3f5f"
              },
              "baxis": {
               "endlinecolor": "#2a3f5f",
               "gridcolor": "white",
               "linecolor": "white",
               "minorgridcolor": "white",
               "startlinecolor": "#2a3f5f"
              },
              "type": "carpet"
             }
            ],
            "choropleth": [
             {
              "colorbar": {
               "outlinewidth": 0,
               "ticks": ""
              },
              "type": "choropleth"
             }
            ],
            "contour": [
             {
              "colorbar": {
               "outlinewidth": 0,
               "ticks": ""
              },
              "colorscale": [
               [
                0,
                "#0d0887"
               ],
               [
                0.1111111111111111,
                "#46039f"
               ],
               [
                0.2222222222222222,
                "#7201a8"
               ],
               [
                0.3333333333333333,
                "#9c179e"
               ],
               [
                0.4444444444444444,
                "#bd3786"
               ],
               [
                0.5555555555555556,
                "#d8576b"
               ],
               [
                0.6666666666666666,
                "#ed7953"
               ],
               [
                0.7777777777777778,
                "#fb9f3a"
               ],
               [
                0.8888888888888888,
                "#fdca26"
               ],
               [
                1,
                "#f0f921"
               ]
              ],
              "type": "contour"
             }
            ],
            "contourcarpet": [
             {
              "colorbar": {
               "outlinewidth": 0,
               "ticks": ""
              },
              "type": "contourcarpet"
             }
            ],
            "heatmap": [
             {
              "colorbar": {
               "outlinewidth": 0,
               "ticks": ""
              },
              "colorscale": [
               [
                0,
                "#0d0887"
               ],
               [
                0.1111111111111111,
                "#46039f"
               ],
               [
                0.2222222222222222,
                "#7201a8"
               ],
               [
                0.3333333333333333,
                "#9c179e"
               ],
               [
                0.4444444444444444,
                "#bd3786"
               ],
               [
                0.5555555555555556,
                "#d8576b"
               ],
               [
                0.6666666666666666,
                "#ed7953"
               ],
               [
                0.7777777777777778,
                "#fb9f3a"
               ],
               [
                0.8888888888888888,
                "#fdca26"
               ],
               [
                1,
                "#f0f921"
               ]
              ],
              "type": "heatmap"
             }
            ],
            "heatmapgl": [
             {
              "colorbar": {
               "outlinewidth": 0,
               "ticks": ""
              },
              "colorscale": [
               [
                0,
                "#0d0887"
               ],
               [
                0.1111111111111111,
                "#46039f"
               ],
               [
                0.2222222222222222,
                "#7201a8"
               ],
               [
                0.3333333333333333,
                "#9c179e"
               ],
               [
                0.4444444444444444,
                "#bd3786"
               ],
               [
                0.5555555555555556,
                "#d8576b"
               ],
               [
                0.6666666666666666,
                "#ed7953"
               ],
               [
                0.7777777777777778,
                "#fb9f3a"
               ],
               [
                0.8888888888888888,
                "#fdca26"
               ],
               [
                1,
                "#f0f921"
               ]
              ],
              "type": "heatmapgl"
             }
            ],
            "histogram": [
             {
              "marker": {
               "colorbar": {
                "outlinewidth": 0,
                "ticks": ""
               }
              },
              "type": "histogram"
             }
            ],
            "histogram2d": [
             {
              "colorbar": {
               "outlinewidth": 0,
               "ticks": ""
              },
              "colorscale": [
               [
                0,
                "#0d0887"
               ],
               [
                0.1111111111111111,
                "#46039f"
               ],
               [
                0.2222222222222222,
                "#7201a8"
               ],
               [
                0.3333333333333333,
                "#9c179e"
               ],
               [
                0.4444444444444444,
                "#bd3786"
               ],
               [
                0.5555555555555556,
                "#d8576b"
               ],
               [
                0.6666666666666666,
                "#ed7953"
               ],
               [
                0.7777777777777778,
                "#fb9f3a"
               ],
               [
                0.8888888888888888,
                "#fdca26"
               ],
               [
                1,
                "#f0f921"
               ]
              ],
              "type": "histogram2d"
             }
            ],
            "histogram2dcontour": [
             {
              "colorbar": {
               "outlinewidth": 0,
               "ticks": ""
              },
              "colorscale": [
               [
                0,
                "#0d0887"
               ],
               [
                0.1111111111111111,
                "#46039f"
               ],
               [
                0.2222222222222222,
                "#7201a8"
               ],
               [
                0.3333333333333333,
                "#9c179e"
               ],
               [
                0.4444444444444444,
                "#bd3786"
               ],
               [
                0.5555555555555556,
                "#d8576b"
               ],
               [
                0.6666666666666666,
                "#ed7953"
               ],
               [
                0.7777777777777778,
                "#fb9f3a"
               ],
               [
                0.8888888888888888,
                "#fdca26"
               ],
               [
                1,
                "#f0f921"
               ]
              ],
              "type": "histogram2dcontour"
             }
            ],
            "mesh3d": [
             {
              "colorbar": {
               "outlinewidth": 0,
               "ticks": ""
              },
              "type": "mesh3d"
             }
            ],
            "parcoords": [
             {
              "line": {
               "colorbar": {
                "outlinewidth": 0,
                "ticks": ""
               }
              },
              "type": "parcoords"
             }
            ],
            "pie": [
             {
              "automargin": true,
              "type": "pie"
             }
            ],
            "scatter": [
             {
              "marker": {
               "colorbar": {
                "outlinewidth": 0,
                "ticks": ""
               }
              },
              "type": "scatter"
             }
            ],
            "scatter3d": [
             {
              "line": {
               "colorbar": {
                "outlinewidth": 0,
                "ticks": ""
               }
              },
              "marker": {
               "colorbar": {
                "outlinewidth": 0,
                "ticks": ""
               }
              },
              "type": "scatter3d"
             }
            ],
            "scattercarpet": [
             {
              "marker": {
               "colorbar": {
                "outlinewidth": 0,
                "ticks": ""
               }
              },
              "type": "scattercarpet"
             }
            ],
            "scattergeo": [
             {
              "marker": {
               "colorbar": {
                "outlinewidth": 0,
                "ticks": ""
               }
              },
              "type": "scattergeo"
             }
            ],
            "scattergl": [
             {
              "marker": {
               "colorbar": {
                "outlinewidth": 0,
                "ticks": ""
               }
              },
              "type": "scattergl"
             }
            ],
            "scattermapbox": [
             {
              "marker": {
               "colorbar": {
                "outlinewidth": 0,
                "ticks": ""
               }
              },
              "type": "scattermapbox"
             }
            ],
            "scatterpolar": [
             {
              "marker": {
               "colorbar": {
                "outlinewidth": 0,
                "ticks": ""
               }
              },
              "type": "scatterpolar"
             }
            ],
            "scatterpolargl": [
             {
              "marker": {
               "colorbar": {
                "outlinewidth": 0,
                "ticks": ""
               }
              },
              "type": "scatterpolargl"
             }
            ],
            "scatterternary": [
             {
              "marker": {
               "colorbar": {
                "outlinewidth": 0,
                "ticks": ""
               }
              },
              "type": "scatterternary"
             }
            ],
            "surface": [
             {
              "colorbar": {
               "outlinewidth": 0,
               "ticks": ""
              },
              "colorscale": [
               [
                0,
                "#0d0887"
               ],
               [
                0.1111111111111111,
                "#46039f"
               ],
               [
                0.2222222222222222,
                "#7201a8"
               ],
               [
                0.3333333333333333,
                "#9c179e"
               ],
               [
                0.4444444444444444,
                "#bd3786"
               ],
               [
                0.5555555555555556,
                "#d8576b"
               ],
               [
                0.6666666666666666,
                "#ed7953"
               ],
               [
                0.7777777777777778,
                "#fb9f3a"
               ],
               [
                0.8888888888888888,
                "#fdca26"
               ],
               [
                1,
                "#f0f921"
               ]
              ],
              "type": "surface"
             }
            ],
            "table": [
             {
              "cells": {
               "fill": {
                "color": "#EBF0F8"
               },
               "line": {
                "color": "white"
               }
              },
              "header": {
               "fill": {
                "color": "#C8D4E3"
               },
               "line": {
                "color": "white"
               }
              },
              "type": "table"
             }
            ]
           },
           "layout": {
            "annotationdefaults": {
             "arrowcolor": "#2a3f5f",
             "arrowhead": 0,
             "arrowwidth": 1
            },
            "coloraxis": {
             "colorbar": {
              "outlinewidth": 0,
              "ticks": ""
             }
            },
            "colorscale": {
             "diverging": [
              [
               0,
               "#8e0152"
              ],
              [
               0.1,
               "#c51b7d"
              ],
              [
               0.2,
               "#de77ae"
              ],
              [
               0.3,
               "#f1b6da"
              ],
              [
               0.4,
               "#fde0ef"
              ],
              [
               0.5,
               "#f7f7f7"
              ],
              [
               0.6,
               "#e6f5d0"
              ],
              [
               0.7,
               "#b8e186"
              ],
              [
               0.8,
               "#7fbc41"
              ],
              [
               0.9,
               "#4d9221"
              ],
              [
               1,
               "#276419"
              ]
             ],
             "sequential": [
              [
               0,
               "#0d0887"
              ],
              [
               0.1111111111111111,
               "#46039f"
              ],
              [
               0.2222222222222222,
               "#7201a8"
              ],
              [
               0.3333333333333333,
               "#9c179e"
              ],
              [
               0.4444444444444444,
               "#bd3786"
              ],
              [
               0.5555555555555556,
               "#d8576b"
              ],
              [
               0.6666666666666666,
               "#ed7953"
              ],
              [
               0.7777777777777778,
               "#fb9f3a"
              ],
              [
               0.8888888888888888,
               "#fdca26"
              ],
              [
               1,
               "#f0f921"
              ]
             ],
             "sequentialminus": [
              [
               0,
               "#0d0887"
              ],
              [
               0.1111111111111111,
               "#46039f"
              ],
              [
               0.2222222222222222,
               "#7201a8"
              ],
              [
               0.3333333333333333,
               "#9c179e"
              ],
              [
               0.4444444444444444,
               "#bd3786"
              ],
              [
               0.5555555555555556,
               "#d8576b"
              ],
              [
               0.6666666666666666,
               "#ed7953"
              ],
              [
               0.7777777777777778,
               "#fb9f3a"
              ],
              [
               0.8888888888888888,
               "#fdca26"
              ],
              [
               1,
               "#f0f921"
              ]
             ]
            },
            "colorway": [
             "#636efa",
             "#EF553B",
             "#00cc96",
             "#ab63fa",
             "#FFA15A",
             "#19d3f3",
             "#FF6692",
             "#B6E880",
             "#FF97FF",
             "#FECB52"
            ],
            "font": {
             "color": "#2a3f5f"
            },
            "geo": {
             "bgcolor": "white",
             "lakecolor": "white",
             "landcolor": "#E5ECF6",
             "showlakes": true,
             "showland": true,
             "subunitcolor": "white"
            },
            "hoverlabel": {
             "align": "left"
            },
            "hovermode": "closest",
            "mapbox": {
             "style": "light"
            },
            "paper_bgcolor": "white",
            "plot_bgcolor": "#E5ECF6",
            "polar": {
             "angularaxis": {
              "gridcolor": "white",
              "linecolor": "white",
              "ticks": ""
             },
             "bgcolor": "#E5ECF6",
             "radialaxis": {
              "gridcolor": "white",
              "linecolor": "white",
              "ticks": ""
             }
            },
            "scene": {
             "xaxis": {
              "backgroundcolor": "#E5ECF6",
              "gridcolor": "white",
              "gridwidth": 2,
              "linecolor": "white",
              "showbackground": true,
              "ticks": "",
              "zerolinecolor": "white"
             },
             "yaxis": {
              "backgroundcolor": "#E5ECF6",
              "gridcolor": "white",
              "gridwidth": 2,
              "linecolor": "white",
              "showbackground": true,
              "ticks": "",
              "zerolinecolor": "white"
             },
             "zaxis": {
              "backgroundcolor": "#E5ECF6",
              "gridcolor": "white",
              "gridwidth": 2,
              "linecolor": "white",
              "showbackground": true,
              "ticks": "",
              "zerolinecolor": "white"
             }
            },
            "shapedefaults": {
             "line": {
              "color": "#2a3f5f"
             }
            },
            "ternary": {
             "aaxis": {
              "gridcolor": "white",
              "linecolor": "white",
              "ticks": ""
             },
             "baxis": {
              "gridcolor": "white",
              "linecolor": "white",
              "ticks": ""
             },
             "bgcolor": "#E5ECF6",
             "caxis": {
              "gridcolor": "white",
              "linecolor": "white",
              "ticks": ""
             }
            },
            "title": {
             "x": 0.05
            },
            "xaxis": {
             "automargin": true,
             "gridcolor": "white",
             "linecolor": "white",
             "ticks": "",
             "title": {
              "standoff": 15
             },
             "zerolinecolor": "white",
             "zerolinewidth": 2
            },
            "yaxis": {
             "automargin": true,
             "gridcolor": "white",
             "linecolor": "white",
             "ticks": "",
             "title": {
              "standoff": 15
             },
             "zerolinecolor": "white",
             "zerolinewidth": 2
            }
           }
          },
          "title": {
           "text": "Annual Compensation Density Estimation:<br>Data Scientist",
           "x": 0.5,
           "xanchor": "center",
           "yanchor": "top"
          },
          "xaxis": {
           "ticksuffix": "k",
           "title": {
            "text": "Compensation (USD)"
           }
          },
          "yaxis": {
           "range": [
            0,
            0.012
           ],
           "tickcolor": "white",
           "ticklen": 8,
           "ticks": "outside",
           "title": {
            "text": "Probability Density"
           },
           "zeroline": false
          }
         },
         "name": "Data scientist or machine learning specialist"
        }
       ],
       "layout": {
        "autosize": true,
        "template": {
         "data": {
          "bar": [
           {
            "error_x": {
             "color": "#2a3f5f"
            },
            "error_y": {
             "color": "#2a3f5f"
            },
            "marker": {
             "line": {
              "color": "#E5ECF6",
              "width": 0.5
             }
            },
            "type": "bar"
           }
          ],
          "barpolar": [
           {
            "marker": {
             "line": {
              "color": "#E5ECF6",
              "width": 0.5
             }
            },
            "type": "barpolar"
           }
          ],
          "carpet": [
           {
            "aaxis": {
             "endlinecolor": "#2a3f5f",
             "gridcolor": "white",
             "linecolor": "white",
             "minorgridcolor": "white",
             "startlinecolor": "#2a3f5f"
            },
            "baxis": {
             "endlinecolor": "#2a3f5f",
             "gridcolor": "white",
             "linecolor": "white",
             "minorgridcolor": "white",
             "startlinecolor": "#2a3f5f"
            },
            "type": "carpet"
           }
          ],
          "choropleth": [
           {
            "colorbar": {
             "outlinewidth": 0,
             "ticks": ""
            },
            "type": "choropleth"
           }
          ],
          "contour": [
           {
            "colorbar": {
             "outlinewidth": 0,
             "ticks": ""
            },
            "colorscale": [
             [
              0,
              "#0d0887"
             ],
             [
              0.1111111111111111,
              "#46039f"
             ],
             [
              0.2222222222222222,
              "#7201a8"
             ],
             [
              0.3333333333333333,
              "#9c179e"
             ],
             [
              0.4444444444444444,
              "#bd3786"
             ],
             [
              0.5555555555555556,
              "#d8576b"
             ],
             [
              0.6666666666666666,
              "#ed7953"
             ],
             [
              0.7777777777777778,
              "#fb9f3a"
             ],
             [
              0.8888888888888888,
              "#fdca26"
             ],
             [
              1,
              "#f0f921"
             ]
            ],
            "type": "contour"
           }
          ],
          "contourcarpet": [
           {
            "colorbar": {
             "outlinewidth": 0,
             "ticks": ""
            },
            "type": "contourcarpet"
           }
          ],
          "heatmap": [
           {
            "colorbar": {
             "outlinewidth": 0,
             "ticks": ""
            },
            "colorscale": [
             [
              0,
              "#0d0887"
             ],
             [
              0.1111111111111111,
              "#46039f"
             ],
             [
              0.2222222222222222,
              "#7201a8"
             ],
             [
              0.3333333333333333,
              "#9c179e"
             ],
             [
              0.4444444444444444,
              "#bd3786"
             ],
             [
              0.5555555555555556,
              "#d8576b"
             ],
             [
              0.6666666666666666,
              "#ed7953"
             ],
             [
              0.7777777777777778,
              "#fb9f3a"
             ],
             [
              0.8888888888888888,
              "#fdca26"
             ],
             [
              1,
              "#f0f921"
             ]
            ],
            "type": "heatmap"
           }
          ],
          "heatmapgl": [
           {
            "colorbar": {
             "outlinewidth": 0,
             "ticks": ""
            },
            "colorscale": [
             [
              0,
              "#0d0887"
             ],
             [
              0.1111111111111111,
              "#46039f"
             ],
             [
              0.2222222222222222,
              "#7201a8"
             ],
             [
              0.3333333333333333,
              "#9c179e"
             ],
             [
              0.4444444444444444,
              "#bd3786"
             ],
             [
              0.5555555555555556,
              "#d8576b"
             ],
             [
              0.6666666666666666,
              "#ed7953"
             ],
             [
              0.7777777777777778,
              "#fb9f3a"
             ],
             [
              0.8888888888888888,
              "#fdca26"
             ],
             [
              1,
              "#f0f921"
             ]
            ],
            "type": "heatmapgl"
           }
          ],
          "histogram": [
           {
            "marker": {
             "colorbar": {
              "outlinewidth": 0,
              "ticks": ""
             }
            },
            "type": "histogram"
           }
          ],
          "histogram2d": [
           {
            "colorbar": {
             "outlinewidth": 0,
             "ticks": ""
            },
            "colorscale": [
             [
              0,
              "#0d0887"
             ],
             [
              0.1111111111111111,
              "#46039f"
             ],
             [
              0.2222222222222222,
              "#7201a8"
             ],
             [
              0.3333333333333333,
              "#9c179e"
             ],
             [
              0.4444444444444444,
              "#bd3786"
             ],
             [
              0.5555555555555556,
              "#d8576b"
             ],
             [
              0.6666666666666666,
              "#ed7953"
             ],
             [
              0.7777777777777778,
              "#fb9f3a"
             ],
             [
              0.8888888888888888,
              "#fdca26"
             ],
             [
              1,
              "#f0f921"
             ]
            ],
            "type": "histogram2d"
           }
          ],
          "histogram2dcontour": [
           {
            "colorbar": {
             "outlinewidth": 0,
             "ticks": ""
            },
            "colorscale": [
             [
              0,
              "#0d0887"
             ],
             [
              0.1111111111111111,
              "#46039f"
             ],
             [
              0.2222222222222222,
              "#7201a8"
             ],
             [
              0.3333333333333333,
              "#9c179e"
             ],
             [
              0.4444444444444444,
              "#bd3786"
             ],
             [
              0.5555555555555556,
              "#d8576b"
             ],
             [
              0.6666666666666666,
              "#ed7953"
             ],
             [
              0.7777777777777778,
              "#fb9f3a"
             ],
             [
              0.8888888888888888,
              "#fdca26"
             ],
             [
              1,
              "#f0f921"
             ]
            ],
            "type": "histogram2dcontour"
           }
          ],
          "mesh3d": [
           {
            "colorbar": {
             "outlinewidth": 0,
             "ticks": ""
            },
            "type": "mesh3d"
           }
          ],
          "parcoords": [
           {
            "line": {
             "colorbar": {
              "outlinewidth": 0,
              "ticks": ""
             }
            },
            "type": "parcoords"
           }
          ],
          "pie": [
           {
            "automargin": true,
            "type": "pie"
           }
          ],
          "scatter": [
           {
            "marker": {
             "colorbar": {
              "outlinewidth": 0,
              "ticks": ""
             }
            },
            "type": "scatter"
           }
          ],
          "scatter3d": [
           {
            "line": {
             "colorbar": {
              "outlinewidth": 0,
              "ticks": ""
             }
            },
            "marker": {
             "colorbar": {
              "outlinewidth": 0,
              "ticks": ""
             }
            },
            "type": "scatter3d"
           }
          ],
          "scattercarpet": [
           {
            "marker": {
             "colorbar": {
              "outlinewidth": 0,
              "ticks": ""
             }
            },
            "type": "scattercarpet"
           }
          ],
          "scattergeo": [
           {
            "marker": {
             "colorbar": {
              "outlinewidth": 0,
              "ticks": ""
             }
            },
            "type": "scattergeo"
           }
          ],
          "scattergl": [
           {
            "marker": {
             "colorbar": {
              "outlinewidth": 0,
              "ticks": ""
             }
            },
            "type": "scattergl"
           }
          ],
          "scattermapbox": [
           {
            "marker": {
             "colorbar": {
              "outlinewidth": 0,
              "ticks": ""
             }
            },
            "type": "scattermapbox"
           }
          ],
          "scatterpolar": [
           {
            "marker": {
             "colorbar": {
              "outlinewidth": 0,
              "ticks": ""
             }
            },
            "type": "scatterpolar"
           }
          ],
          "scatterpolargl": [
           {
            "marker": {
             "colorbar": {
              "outlinewidth": 0,
              "ticks": ""
             }
            },
            "type": "scatterpolargl"
           }
          ],
          "scatterternary": [
           {
            "marker": {
             "colorbar": {
              "outlinewidth": 0,
              "ticks": ""
             }
            },
            "type": "scatterternary"
           }
          ],
          "surface": [
           {
            "colorbar": {
             "outlinewidth": 0,
             "ticks": ""
            },
            "colorscale": [
             [
              0,
              "#0d0887"
             ],
             [
              0.1111111111111111,
              "#46039f"
             ],
             [
              0.2222222222222222,
              "#7201a8"
             ],
             [
              0.3333333333333333,
              "#9c179e"
             ],
             [
              0.4444444444444444,
              "#bd3786"
             ],
             [
              0.5555555555555556,
              "#d8576b"
             ],
             [
              0.6666666666666666,
              "#ed7953"
             ],
             [
              0.7777777777777778,
              "#fb9f3a"
             ],
             [
              0.8888888888888888,
              "#fdca26"
             ],
             [
              1,
              "#f0f921"
             ]
            ],
            "type": "surface"
           }
          ],
          "table": [
           {
            "cells": {
             "fill": {
              "color": "#EBF0F8"
             },
             "line": {
              "color": "white"
             }
            },
            "header": {
             "fill": {
              "color": "#C8D4E3"
             },
             "line": {
              "color": "white"
             }
            },
            "type": "table"
           }
          ]
         },
         "layout": {
          "annotationdefaults": {
           "arrowcolor": "#2a3f5f",
           "arrowhead": 0,
           "arrowwidth": 1
          },
          "coloraxis": {
           "colorbar": {
            "outlinewidth": 0,
            "ticks": ""
           }
          },
          "colorscale": {
           "diverging": [
            [
             0,
             "#8e0152"
            ],
            [
             0.1,
             "#c51b7d"
            ],
            [
             0.2,
             "#de77ae"
            ],
            [
             0.3,
             "#f1b6da"
            ],
            [
             0.4,
             "#fde0ef"
            ],
            [
             0.5,
             "#f7f7f7"
            ],
            [
             0.6,
             "#e6f5d0"
            ],
            [
             0.7,
             "#b8e186"
            ],
            [
             0.8,
             "#7fbc41"
            ],
            [
             0.9,
             "#4d9221"
            ],
            [
             1,
             "#276419"
            ]
           ],
           "sequential": [
            [
             0,
             "#0d0887"
            ],
            [
             0.1111111111111111,
             "#46039f"
            ],
            [
             0.2222222222222222,
             "#7201a8"
            ],
            [
             0.3333333333333333,
             "#9c179e"
            ],
            [
             0.4444444444444444,
             "#bd3786"
            ],
            [
             0.5555555555555556,
             "#d8576b"
            ],
            [
             0.6666666666666666,
             "#ed7953"
            ],
            [
             0.7777777777777778,
             "#fb9f3a"
            ],
            [
             0.8888888888888888,
             "#fdca26"
            ],
            [
             1,
             "#f0f921"
            ]
           ],
           "sequentialminus": [
            [
             0,
             "#0d0887"
            ],
            [
             0.1111111111111111,
             "#46039f"
            ],
            [
             0.2222222222222222,
             "#7201a8"
            ],
            [
             0.3333333333333333,
             "#9c179e"
            ],
            [
             0.4444444444444444,
             "#bd3786"
            ],
            [
             0.5555555555555556,
             "#d8576b"
            ],
            [
             0.6666666666666666,
             "#ed7953"
            ],
            [
             0.7777777777777778,
             "#fb9f3a"
            ],
            [
             0.8888888888888888,
             "#fdca26"
            ],
            [
             1,
             "#f0f921"
            ]
           ]
          },
          "colorway": [
           "#636efa",
           "#EF553B",
           "#00cc96",
           "#ab63fa",
           "#FFA15A",
           "#19d3f3",
           "#FF6692",
           "#B6E880",
           "#FF97FF",
           "#FECB52"
          ],
          "font": {
           "color": "#2a3f5f"
          },
          "geo": {
           "bgcolor": "white",
           "lakecolor": "white",
           "landcolor": "#E5ECF6",
           "showlakes": true,
           "showland": true,
           "subunitcolor": "white"
          },
          "hoverlabel": {
           "align": "left"
          },
          "hovermode": "closest",
          "mapbox": {
           "style": "light"
          },
          "paper_bgcolor": "white",
          "plot_bgcolor": "#E5ECF6",
          "polar": {
           "angularaxis": {
            "gridcolor": "white",
            "linecolor": "white",
            "ticks": ""
           },
           "bgcolor": "#E5ECF6",
           "radialaxis": {
            "gridcolor": "white",
            "linecolor": "white",
            "ticks": ""
           }
          },
          "scene": {
           "xaxis": {
            "backgroundcolor": "#E5ECF6",
            "gridcolor": "white",
            "gridwidth": 2,
            "linecolor": "white",
            "showbackground": true,
            "ticks": "",
            "zerolinecolor": "white"
           },
           "yaxis": {
            "backgroundcolor": "#E5ECF6",
            "gridcolor": "white",
            "gridwidth": 2,
            "linecolor": "white",
            "showbackground": true,
            "ticks": "",
            "zerolinecolor": "white"
           },
           "zaxis": {
            "backgroundcolor": "#E5ECF6",
            "gridcolor": "white",
            "gridwidth": 2,
            "linecolor": "white",
            "showbackground": true,
            "ticks": "",
            "zerolinecolor": "white"
           }
          },
          "shapedefaults": {
           "line": {
            "color": "#2a3f5f"
           }
          },
          "ternary": {
           "aaxis": {
            "gridcolor": "white",
            "linecolor": "white",
            "ticks": ""
           },
           "baxis": {
            "gridcolor": "white",
            "linecolor": "white",
            "ticks": ""
           },
           "bgcolor": "#E5ECF6",
           "caxis": {
            "gridcolor": "white",
            "linecolor": "white",
            "ticks": ""
           }
          },
          "title": {
           "x": 0.05
          },
          "xaxis": {
           "automargin": true,
           "gridcolor": "white",
           "linecolor": "white",
           "ticks": "",
           "title": {
            "standoff": 15
           },
           "zerolinecolor": "white",
           "zerolinewidth": 2
          },
          "yaxis": {
           "automargin": true,
           "gridcolor": "white",
           "linecolor": "white",
           "ticks": "",
           "title": {
            "standoff": 15
           },
           "zerolinecolor": "white",
           "zerolinewidth": 2
          }
         }
        },
        "title": {
         "text": "Annual Compensation Density Estimation:<br>DevOps",
         "x": 0.5,
         "xanchor": "center",
         "yanchor": "top"
        },
        "updatemenus": [
         {
          "active": 4,
          "buttons": [
           {
            "args": [
             [
              "Developer, back-end"
             ],
             {
              "frame": {
               "duration": 300,
               "redraw": true
              },
              "mode": "immediate",
              "transition": {
               "duration": 300
              }
             }
            ],
            "label": "Backend",
            "method": "animate"
           },
           {
            "args": [
             [
              "Developer, front-end"
             ],
             {
              "frame": {
               "duration": 300,
               "redraw": true
              },
              "mode": "immediate",
              "transition": {
               "duration": 300
              }
             }
            ],
            "label": "Frontend",
            "method": "animate"
           },
           {
            "args": [
             [
              "Developer, full-stack"
             ],
             {
              "frame": {
               "duration": 300,
               "redraw": true
              },
              "mode": "immediate",
              "transition": {
               "duration": 300
              }
             }
            ],
            "label": "Fullstack",
            "method": "animate"
           },
           {
            "args": [
             [
              "Developer, mobile"
             ],
             {
              "frame": {
               "duration": 300,
               "redraw": true
              },
              "mode": "immediate",
              "transition": {
               "duration": 300
              }
             }
            ],
            "label": "Mobile",
            "method": "animate"
           },
           {
            "args": [
             [
              "DevOps specialist"
             ],
             {
              "frame": {
               "duration": 300,
               "redraw": true
              },
              "mode": "immediate",
              "transition": {
               "duration": 300
              }
             }
            ],
            "label": "DevOps",
            "method": "animate"
           },
           {
            "args": [
             [
              "Database administrator"
             ],
             {
              "frame": {
               "duration": 300,
               "redraw": true
              },
              "mode": "immediate",
              "transition": {
               "duration": 300
              }
             }
            ],
            "label": "Database Admin",
            "method": "animate"
           },
           {
            "args": [
             [
              "System administrator"
             ],
             {
              "frame": {
               "duration": 300,
               "redraw": true
              },
              "mode": "immediate",
              "transition": {
               "duration": 300
              }
             }
            ],
            "label": "System Admin",
            "method": "animate"
           },
           {
            "args": [
             [
              "Data scientist or machine learning specialist"
             ],
             {
              "frame": {
               "duration": 300,
               "redraw": true
              },
              "mode": "immediate",
              "transition": {
               "duration": 300
              }
             }
            ],
            "label": "Data Scientist",
            "method": "animate"
           }
          ],
          "pad": {
           "r": 100
          },
          "type": "buttons"
         }
        ],
        "xaxis": {
         "autorange": true,
         "range": [
          0.2,
          199.9
         ],
         "ticksuffix": "k",
         "title": {
          "text": "Compensation (USD)"
         },
         "type": "linear"
        },
        "yaxis": {
         "range": [
          0,
          0.012
         ],
         "tickcolor": "white",
         "ticklen": 8,
         "ticks": "outside",
         "title": {
          "text": "Probability Density"
         },
         "type": "linear",
         "zeroline": false
        }
       }
      },
      "image/png": "[encoded data removed]",
      "text/html": [
       "<div>\n",
       "        \n",
       "        \n",
       "            <div id=\"ac654b82-4043-4779-a5ff-d72a08aefbc8\" class=\"plotly-graph-div\" style=\"height:525px; width:100%;\"></div>\n",
       "            <script type=\"text/javascript\">\n",
       "                require([\"plotly\"], function(Plotly) {\n",
       "                    window.PLOTLYENV=window.PLOTLYENV || {};\n",
       "                    \n",
       "                if (document.getElementById(\"ac654b82-4043-4779-a5ff-d72a08aefbc8\")) {\n",
       "                    Plotly.newPlot(\n",
       "                        'ac654b82-4043-4779-a5ff-d72a08aefbc8',\n",
       "                        [{\"hovertemplate\": \"Compensation: %{x}\", \"line\": {\"dash\": \"longdashdot\"}, \"name\": \"2018\", \"type\": \"scatter\", \"x\": [0.2, 0.9, 1.5, 2.2, 2.9, 3.6, 4.3, 4.9, 5.6, 6.3, 7.0, 7.7, 8.3, 9.0, 9.7, 10.4, 11.1, 11.7, 12.4, 13.1, 13.8, 14.5, 15.1, 15.8, 16.5, 17.2, 17.9, 18.5, 19.2, 19.9, 20.6, 21.3, 22.0, 22.6, 23.3, 24.0, 24.7, 25.4, 26.0, 26.7, 27.4, 28.1, 28.8, 29.4, 30.1, 30.8, 31.5, 32.2, 32.8, 33.5, 34.2, 34.9, 35.6, 36.2, 36.9, 37.6, 38.3, 39.0, 39.6, 40.3, 41.0, 41.7, 42.4, 43.1, 43.7, 44.4, 45.1, 45.8, 46.5, 47.1, 47.8, 48.5, 49.2, 49.9, 50.5, 51.2, 51.9, 52.6, 53.3, 53.9, 54.6, 55.3, 56.0, 56.7, 57.3, 58.0, 58.7, 59.4, 60.1, 60.8, 61.4, 62.1, 62.8, 63.5, 64.2, 64.8, 65.5, 66.2, 66.9, 67.6, 68.2, 68.9, 69.6, 70.3, 71.0, 71.6, 72.3, 73.0, 73.7, 74.4, 75.0, 75.7, 76.4, 77.1, 77.8, 78.4, 79.1, 79.8, 80.5, 81.2, 81.9, 82.5, 83.2, 83.9, 84.6, 85.3, 85.9, 86.6, 87.3, 88.0, 88.7, 89.3, 90.0, 90.7, 91.4, 92.1, 92.7, 93.4, 94.1, 94.8, 95.5, 96.1, 96.8, 97.5, 98.2, 98.9, 99.5, 100.2, 100.9, 101.6, 102.3, 103.0, 103.6, 104.3, 105.0, 105.7, 106.4, 107.0, 107.7, 108.4, 109.1, 109.8, 110.4, 111.1, 111.8, 112.5, 113.2, 113.8, 114.5, 115.2, 115.9, 116.6, 117.2, 117.9, 118.6, 119.3, 120.0, 120.7, 121.3, 122.0, 122.7, 123.4, 124.1, 124.7, 125.4, 126.1, 126.8, 127.5, 128.1, 128.8, 129.5, 130.2, 130.9, 131.5, 132.2, 132.9, 133.6, 134.3, 134.9, 135.6, 136.3, 137.0, 137.7, 138.3, 139.0, 139.7, 140.4, 141.1, 141.8, 142.4, 143.1, 143.8, 144.5, 145.2, 145.8, 146.5, 147.2, 147.9, 148.6, 149.2, 149.9, 150.6, 151.3, 152.0, 152.6, 153.3, 154.0, 154.7, 155.4, 156.0, 156.7, 157.4, 158.1, 158.8, 159.4, 160.1, 160.8, 161.5, 162.2, 162.9, 163.5, 164.2, 164.9, 165.6, 166.3, 166.9, 167.6, 168.3, 169.0, 169.7, 170.3, 171.0, 171.7, 172.4, 173.1, 173.7, 174.4, 175.1, 175.8, 176.5, 177.1, 177.8, 178.5, 179.2, 179.9, 180.6, 181.2, 181.9, 182.6, 183.3, 184.0, 184.6, 185.3, 186.0, 186.7, 187.4, 188.0, 188.7, 189.4, 190.1, 190.8, 191.4, 192.1, 192.8, 193.5, 194.2, 194.8, 195.5, 196.2, 196.9, 197.6, 198.2, 198.9, 199.6], \"y\": [0.0062, 0.0067, 0.0072, 0.0076, 0.008, 0.0084, 0.0088, 0.0091, 0.0094, 0.0096, 0.0098, 0.01, 0.0101, 0.0102, 0.0103, 0.0103, 0.0103, 0.0102, 0.0102, 0.0101, 0.01, 0.0099, 0.0098, 0.0097, 0.0096, 0.0095, 0.0094, 0.0093, 0.0092, 0.0091, 0.009, 0.0089, 0.0088, 0.0087, 0.0087, 0.0086, 0.0086, 0.0085, 0.0085, 0.0085, 0.0085, 0.0084, 0.0084, 0.0084, 0.0084, 0.0084, 0.0084, 0.0084, 0.0084, 0.0084, 0.0084, 0.0084, 0.0084, 0.0084, 0.0084, 0.0085, 0.0085, 0.0085, 0.0085, 0.0085, 0.0085, 0.0085, 0.0085, 0.0085, 0.0085, 0.0085, 0.0085, 0.0085, 0.0085, 0.0085, 0.0085, 0.0085, 0.0085, 0.0084, 0.0084, 0.0084, 0.0084, 0.0084, 0.0084, 0.0084, 0.0084, 0.0084, 0.0084, 0.0084, 0.0083, 0.0083, 0.0083, 0.0083, 0.0083, 0.0082, 0.0082, 0.0081, 0.0081, 0.008, 0.008, 0.0079, 0.0079, 0.0078, 0.0077, 0.0077, 0.0076, 0.0075, 0.0075, 0.0074, 0.0073, 0.0072, 0.0072, 0.0071, 0.007, 0.0069, 0.0068, 0.0067, 0.0066, 0.0065, 0.0064, 0.0063, 0.0062, 0.0061, 0.006, 0.0059, 0.0058, 0.0057, 0.0056, 0.0056, 0.0055, 0.0054, 0.0053, 0.0052, 0.0052, 0.0051, 0.005, 0.005, 0.0049, 0.0049, 0.0048, 0.0048, 0.0048, 0.0047, 0.0047, 0.0047, 0.0046, 0.0046, 0.0046, 0.0045, 0.0045, 0.0045, 0.0044, 0.0044, 0.0043, 0.0043, 0.0042, 0.0042, 0.0041, 0.0041, 0.004, 0.004, 0.0039, 0.0039, 0.0038, 0.0038, 0.0037, 0.0037, 0.0036, 0.0036, 0.0036, 0.0035, 0.0035, 0.0035, 0.0035, 0.0034, 0.0034, 0.0034, 0.0034, 0.0034, 0.0033, 0.0033, 0.0033, 0.0033, 0.0032, 0.0032, 0.0031, 0.0031, 0.003, 0.003, 0.0029, 0.0029, 0.0028, 0.0027, 0.0027, 0.0026, 0.0025, 0.0025, 0.0024, 0.0024, 0.0023, 0.0023, 0.0022, 0.0022, 0.0021, 0.0021, 0.002, 0.002, 0.002, 0.0019, 0.0019, 0.0019, 0.0019, 0.0018, 0.0018, 0.0018, 0.0018, 0.0018, 0.0017, 0.0017, 0.0017, 0.0017, 0.0016, 0.0016, 0.0016, 0.0016, 0.0015, 0.0015, 0.0015, 0.0015, 0.0014, 0.0014, 0.0014, 0.0013, 0.0013, 0.0012, 0.0012, 0.0012, 0.0011, 0.0011, 0.0011, 0.001, 0.001, 0.001, 0.001, 0.0009, 0.0009, 0.0009, 0.0009, 0.0008, 0.0008, 0.0008, 0.0008, 0.0008, 0.0008, 0.0007, 0.0007, 0.0007, 0.0007, 0.0007, 0.0007, 0.0007, 0.0007, 0.0007, 0.0007, 0.0007, 0.0007, 0.0006, 0.0006, 0.0006, 0.0006, 0.0006, 0.0006, 0.0006, 0.0006, 0.0005, 0.0005, 0.0005, 0.0005, 0.0005, 0.0005, 0.0004, 0.0004, 0.0004, 0.0004, 0.0004, 0.0004, 0.0004, 0.0004, 0.0004, 0.0004, 0.0004, 0.0004, 0.0004, 0.0004, 0.0003, 0.0003, 0.0003, 0.0003, 0.0003]}, {\"hovertemplate\": \"Compensation: %{x}\", \"line\": {\"dash\": \"dash\"}, \"name\": \"2019\", \"type\": \"scatter\", \"x\": [0.2, 1.1, 2.0, 2.8, 3.7, 4.6, 5.4, 6.3, 7.2, 8.1, 8.9, 9.8, 10.7, 11.5, 12.4, 13.3, 14.2, 15.0, 15.9, 16.8, 17.6, 18.5, 19.4, 20.3, 21.1, 22.0, 22.9, 23.7, 24.6, 25.5, 26.4, 27.2, 28.1, 29.0, 29.8, 30.7, 31.6, 32.5, 33.3, 34.2, 35.1, 35.9, 36.8, 37.7, 38.6, 39.4, 40.3, 41.2, 42.0, 42.9, 43.8, 44.7, 45.5, 46.4, 47.3, 48.1, 49.0, 49.9, 50.7, 51.6, 52.5, 53.4, 54.2, 55.1, 56.0, 56.8, 57.7, 58.6, 59.5, 60.3, 61.2, 62.1, 62.9, 63.8, 64.7, 65.6, 66.4, 67.3, 68.2, 69.0, 69.9, 70.8, 71.7, 72.5, 73.4, 74.3, 75.1, 76.0, 76.9, 77.8, 78.6, 79.5, 80.4, 81.2, 82.1, 83.0, 83.9, 84.7, 85.6, 86.5, 87.3, 88.2, 89.1, 90.0, 90.8, 91.7, 92.6, 93.4, 94.3, 95.2, 96.1, 96.9, 97.8, 98.7, 99.5, 100.4, 101.3, 102.2, 103.0, 103.9, 104.8, 105.6, 106.5, 107.4, 108.3, 109.1, 110.0, 110.9, 111.7, 112.6, 113.5, 114.3, 115.2, 116.1, 117.0, 117.8, 118.7, 119.6, 120.4, 121.3, 122.2, 123.1, 123.9, 124.8, 125.7, 126.5, 127.4, 128.3, 129.2, 130.0, 130.9, 131.8, 132.6, 133.5, 134.4, 135.3, 136.1, 137.0, 137.9, 138.7, 139.6, 140.5, 141.4, 142.2, 143.1, 144.0, 144.8, 145.7, 146.6, 147.5, 148.3, 149.2, 150.1, 150.9, 151.8, 152.7, 153.6, 154.4, 155.3, 156.2, 157.0, 157.9, 158.8, 159.7, 160.5, 161.4, 162.3, 163.1, 164.0, 164.9, 165.8, 166.6, 167.5, 168.4, 169.2, 170.1, 171.0, 171.9, 172.7, 173.6, 174.5, 175.3, 176.2, 177.1, 177.9, 178.8, 179.7, 180.6, 181.4, 182.3, 183.2, 184.0, 184.9, 185.8, 186.7, 187.5, 188.4, 189.3, 190.1, 191.0, 191.9, 192.8, 193.6, 194.5, 195.4, 196.2, 197.1, 198.0, 198.9, 199.7], \"y\": [0.0058, 0.0063, 0.0068, 0.0073, 0.0078, 0.0083, 0.0087, 0.0091, 0.0094, 0.0097, 0.0099, 0.0101, 0.0103, 0.0104, 0.0104, 0.0104, 0.0104, 0.0104, 0.0103, 0.0102, 0.0101, 0.01, 0.0099, 0.0098, 0.0097, 0.0095, 0.0094, 0.0093, 0.0092, 0.0091, 0.0091, 0.009, 0.0089, 0.0089, 0.0088, 0.0088, 0.0087, 0.0087, 0.0087, 0.0086, 0.0086, 0.0086, 0.0086, 0.0085, 0.0085, 0.0085, 0.0085, 0.0084, 0.0084, 0.0084, 0.0083, 0.0083, 0.0083, 0.0082, 0.0082, 0.0082, 0.0081, 0.0081, 0.0081, 0.008, 0.008, 0.008, 0.0079, 0.0079, 0.0079, 0.0078, 0.0078, 0.0078, 0.0077, 0.0077, 0.0076, 0.0076, 0.0075, 0.0074, 0.0074, 0.0073, 0.0072, 0.0072, 0.0071, 0.007, 0.0069, 0.0068, 0.0068, 0.0067, 0.0066, 0.0065, 0.0064, 0.0062, 0.0061, 0.006, 0.0059, 0.0058, 0.0057, 0.0056, 0.0055, 0.0054, 0.0053, 0.0052, 0.0051, 0.005, 0.0049, 0.0048, 0.0048, 0.0047, 0.0046, 0.0045, 0.0045, 0.0044, 0.0043, 0.0043, 0.0042, 0.0042, 0.0041, 0.004, 0.004, 0.0039, 0.0038, 0.0038, 0.0037, 0.0037, 0.0036, 0.0035, 0.0035, 0.0034, 0.0034, 0.0033, 0.0033, 0.0032, 0.0032, 0.0031, 0.0031, 0.0031, 0.003, 0.003, 0.0029, 0.0029, 0.0029, 0.0028, 0.0028, 0.0027, 0.0027, 0.0026, 0.0026, 0.0026, 0.0025, 0.0025, 0.0024, 0.0024, 0.0023, 0.0023, 0.0022, 0.0022, 0.0021, 0.0021, 0.0021, 0.002, 0.002, 0.002, 0.0019, 0.0019, 0.0019, 0.0018, 0.0018, 0.0018, 0.0018, 0.0017, 0.0017, 0.0017, 0.0017, 0.0016, 0.0016, 0.0016, 0.0016, 0.0015, 0.0015, 0.0015, 0.0015, 0.0014, 0.0014, 0.0014, 0.0013, 0.0013, 0.0013, 0.0012, 0.0012, 0.0012, 0.0011, 0.0011, 0.0011, 0.0011, 0.001, 0.001, 0.001, 0.001, 0.001, 0.001, 0.001, 0.001, 0.0009, 0.0009, 0.0009, 0.0009, 0.0009, 0.0009, 0.0009, 0.0009, 0.0008, 0.0008, 0.0008, 0.0008, 0.0008, 0.0007, 0.0007, 0.0007, 0.0007, 0.0007, 0.0006, 0.0006, 0.0006, 0.0006, 0.0006, 0.0006, 0.0006, 0.0006, 0.0006, 0.0006, 0.0006, 0.0006, 0.0006, 0.0006]}, {\"hovertemplate\": \"Compensation: %{x}\", \"line\": {\"dash\": \"dashdot\"}, \"name\": \"2020\", \"type\": \"scatter\", \"x\": [0.2, 1.0, 1.7, 2.5, 3.3, 4.1, 4.8, 5.6, 6.4, 7.1, 7.9, 8.7, 9.5, 10.2, 11.0, 11.8, 12.5, 13.3, 14.1, 14.9, 15.6, 16.4, 17.2, 17.9, 18.7, 19.5, 20.3, 21.0, 21.8, 22.6, 23.3, 24.1, 24.9, 25.7, 26.4, 27.2, 28.0, 28.7, 29.5, 30.3, 31.1, 31.8, 32.6, 33.4, 34.1, 34.9, 35.7, 36.5, 37.2, 38.0, 38.8, 39.5, 40.3, 41.1, 41.9, 42.6, 43.4, 44.2, 44.9, 45.7, 46.5, 47.3, 48.0, 48.8, 49.6, 50.3, 51.1, 51.9, 52.7, 53.4, 54.2, 55.0, 55.7, 56.5, 57.3, 58.1, 58.8, 59.6, 60.4, 61.1, 61.9, 62.7, 63.5, 64.2, 65.0, 65.8, 66.5, 67.3, 68.1, 68.9, 69.6, 70.4, 71.2, 71.9, 72.7, 73.5, 74.3, 75.0, 75.8, 76.6, 77.3, 78.1, 78.9, 79.7, 80.4, 81.2, 82.0, 82.7, 83.5, 84.3, 85.1, 85.8, 86.6, 87.4, 88.1, 88.9, 89.7, 90.5, 91.2, 92.0, 92.8, 93.5, 94.3, 95.1, 95.9, 96.6, 97.4, 98.2, 98.9, 99.7, 100.5, 101.3, 102.0, 102.8, 103.6, 104.3, 105.1, 105.9, 106.7, 107.4, 108.2, 109.0, 109.7, 110.5, 111.3, 112.1, 112.8, 113.6, 114.4, 115.1, 115.9, 116.7, 117.5, 118.2, 119.0, 119.8, 120.5, 121.3, 122.1, 122.9, 123.6, 124.4, 125.2, 125.9, 126.7, 127.5, 128.3, 129.0, 129.8, 130.6, 131.3, 132.1, 132.9, 133.7, 134.4, 135.2, 136.0, 136.7, 137.5, 138.3, 139.1, 139.8, 140.6, 141.4, 142.1, 142.9, 143.7, 144.5, 145.2, 146.0, 146.8, 147.5, 148.3, 149.1, 149.9, 150.6, 151.4, 152.2, 152.9, 153.7, 154.5, 155.3, 156.0, 156.8, 157.6, 158.3, 159.1, 159.9, 160.7, 161.4, 162.2, 163.0, 163.7, 164.5, 165.3, 166.1, 166.8, 167.6, 168.4, 169.1, 169.9, 170.7, 171.5, 172.2, 173.0, 173.8, 174.5, 175.3, 176.1, 176.9, 177.6, 178.4, 179.2, 179.9, 180.7, 181.5, 182.3, 183.0, 183.8, 184.6, 185.3, 186.1, 186.9, 187.7, 188.4, 189.2, 190.0, 190.7, 191.5, 192.3, 193.1, 193.8, 194.6, 195.4, 196.1, 196.9, 197.7, 198.5, 199.2], \"y\": [0.0057, 0.0061, 0.0066, 0.007, 0.0075, 0.0079, 0.0083, 0.0086, 0.0089, 0.0092, 0.0095, 0.0097, 0.0099, 0.01, 0.0102, 0.0102, 0.0103, 0.0103, 0.0103, 0.0103, 0.0103, 0.0102, 0.0102, 0.0101, 0.01, 0.01, 0.0099, 0.0098, 0.0097, 0.0096, 0.0096, 0.0095, 0.0094, 0.0094, 0.0093, 0.0093, 0.0093, 0.0092, 0.0092, 0.0092, 0.0091, 0.0091, 0.0091, 0.0091, 0.0091, 0.0091, 0.0091, 0.0091, 0.0091, 0.0091, 0.009, 0.009, 0.009, 0.009, 0.009, 0.009, 0.0089, 0.0089, 0.0089, 0.0088, 0.0088, 0.0088, 0.0087, 0.0087, 0.0086, 0.0086, 0.0085, 0.0085, 0.0084, 0.0084, 0.0083, 0.0082, 0.0082, 0.0081, 0.008, 0.008, 0.0079, 0.0078, 0.0077, 0.0077, 0.0076, 0.0075, 0.0074, 0.0073, 0.0073, 0.0072, 0.0071, 0.007, 0.0069, 0.0068, 0.0067, 0.0066, 0.0066, 0.0065, 0.0064, 0.0063, 0.0062, 0.0061, 0.006, 0.0059, 0.0059, 0.0058, 0.0057, 0.0056, 0.0055, 0.0054, 0.0053, 0.0052, 0.0052, 0.0051, 0.005, 0.0049, 0.0048, 0.0047, 0.0046, 0.0046, 0.0045, 0.0044, 0.0043, 0.0043, 0.0042, 0.0041, 0.0041, 0.004, 0.0039, 0.0039, 0.0038, 0.0038, 0.0037, 0.0037, 0.0036, 0.0036, 0.0035, 0.0035, 0.0034, 0.0034, 0.0033, 0.0033, 0.0033, 0.0032, 0.0032, 0.0031, 0.0031, 0.0031, 0.003, 0.003, 0.003, 0.0029, 0.0029, 0.0029, 0.0029, 0.0028, 0.0028, 0.0028, 0.0028, 0.0027, 0.0027, 0.0027, 0.0027, 0.0026, 0.0026, 0.0026, 0.0025, 0.0025, 0.0025, 0.0024, 0.0024, 0.0023, 0.0023, 0.0023, 0.0022, 0.0022, 0.0021, 0.0021, 0.0021, 0.002, 0.002, 0.002, 0.0019, 0.0019, 0.0019, 0.0018, 0.0018, 0.0018, 0.0018, 0.0017, 0.0017, 0.0017, 0.0017, 0.0017, 0.0016, 0.0016, 0.0016, 0.0016, 0.0016, 0.0015, 0.0015, 0.0015, 0.0015, 0.0015, 0.0015, 0.0014, 0.0014, 0.0014, 0.0014, 0.0014, 0.0013, 0.0013, 0.0013, 0.0013, 0.0013, 0.0012, 0.0012, 0.0012, 0.0012, 0.0012, 0.0011, 0.0011, 0.0011, 0.0011, 0.0011, 0.001, 0.001, 0.001, 0.001, 0.001, 0.001, 0.0009, 0.0009, 0.0009, 0.0009, 0.0009, 0.0008, 0.0008, 0.0008, 0.0008, 0.0007, 0.0007, 0.0007, 0.0007, 0.0007, 0.0007, 0.0006, 0.0006, 0.0006, 0.0006, 0.0006, 0.0006, 0.0006, 0.0006, 0.0006, 0.0006, 0.0006, 0.0006, 0.0006, 0.0006, 0.0006, 0.0006, 0.0006]}],\n",
       "                        {\"template\": {\"data\": {\"bar\": [{\"error_x\": {\"color\": \"#2a3f5f\"}, \"error_y\": {\"color\": \"#2a3f5f\"}, \"marker\": {\"line\": {\"color\": \"#E5ECF6\", \"width\": 0.5}}, \"type\": \"bar\"}], \"barpolar\": [{\"marker\": {\"line\": {\"color\": \"#E5ECF6\", \"width\": 0.5}}, \"type\": \"barpolar\"}], \"carpet\": [{\"aaxis\": {\"endlinecolor\": \"#2a3f5f\", \"gridcolor\": \"white\", \"linecolor\": \"white\", \"minorgridcolor\": \"white\", \"startlinecolor\": \"#2a3f5f\"}, \"baxis\": {\"endlinecolor\": \"#2a3f5f\", \"gridcolor\": \"white\", \"linecolor\": \"white\", \"minorgridcolor\": \"white\", \"startlinecolor\": \"#2a3f5f\"}, \"type\": \"carpet\"}], \"choropleth\": [{\"colorbar\": {\"outlinewidth\": 0, \"ticks\": \"\"}, \"type\": \"choropleth\"}], \"contour\": [{\"colorbar\": {\"outlinewidth\": 0, \"ticks\": \"\"}, \"colorscale\": [[0.0, \"#0d0887\"], [0.1111111111111111, \"#46039f\"], [0.2222222222222222, \"#7201a8\"], [0.3333333333333333, \"#9c179e\"], [0.4444444444444444, \"#bd3786\"], [0.5555555555555556, \"#d8576b\"], [0.6666666666666666, \"#ed7953\"], [0.7777777777777778, \"#fb9f3a\"], [0.8888888888888888, \"#fdca26\"], [1.0, \"#f0f921\"]], \"type\": \"contour\"}], \"contourcarpet\": [{\"colorbar\": {\"outlinewidth\": 0, \"ticks\": \"\"}, \"type\": \"contourcarpet\"}], \"heatmap\": [{\"colorbar\": {\"outlinewidth\": 0, \"ticks\": \"\"}, \"colorscale\": [[0.0, \"#0d0887\"], [0.1111111111111111, \"#46039f\"], [0.2222222222222222, \"#7201a8\"], [0.3333333333333333, \"#9c179e\"], [0.4444444444444444, \"#bd3786\"], [0.5555555555555556, \"#d8576b\"], [0.6666666666666666, \"#ed7953\"], [0.7777777777777778, \"#fb9f3a\"], [0.8888888888888888, \"#fdca26\"], [1.0, \"#f0f921\"]], \"type\": \"heatmap\"}], \"heatmapgl\": [{\"colorbar\": {\"outlinewidth\": 0, \"ticks\": \"\"}, \"colorscale\": [[0.0, \"#0d0887\"], [0.1111111111111111, \"#46039f\"], [0.2222222222222222, \"#7201a8\"], [0.3333333333333333, \"#9c179e\"], [0.4444444444444444, \"#bd3786\"], [0.5555555555555556, \"#d8576b\"], [0.6666666666666666, \"#ed7953\"], [0.7777777777777778, \"#fb9f3a\"], [0.8888888888888888, \"#fdca26\"], [1.0, \"#f0f921\"]], \"type\": \"heatmapgl\"}], \"histogram\": [{\"marker\": {\"colorbar\": {\"outlinewidth\": 0, \"ticks\": \"\"}}, \"type\": \"histogram\"}], \"histogram2d\": [{\"colorbar\": {\"outlinewidth\": 0, \"ticks\": \"\"}, \"colorscale\": [[0.0, \"#0d0887\"], [0.1111111111111111, \"#46039f\"], [0.2222222222222222, \"#7201a8\"], [0.3333333333333333, \"#9c179e\"], [0.4444444444444444, \"#bd3786\"], [0.5555555555555556, \"#d8576b\"], [0.6666666666666666, \"#ed7953\"], [0.7777777777777778, \"#fb9f3a\"], [0.8888888888888888, \"#fdca26\"], [1.0, \"#f0f921\"]], \"type\": \"histogram2d\"}], \"histogram2dcontour\": [{\"colorbar\": {\"outlinewidth\": 0, \"ticks\": \"\"}, \"colorscale\": [[0.0, \"#0d0887\"], [0.1111111111111111, \"#46039f\"], [0.2222222222222222, \"#7201a8\"], [0.3333333333333333, \"#9c179e\"], [0.4444444444444444, \"#bd3786\"], [0.5555555555555556, \"#d8576b\"], [0.6666666666666666, \"#ed7953\"], [0.7777777777777778, \"#fb9f3a\"], [0.8888888888888888, \"#fdca26\"], [1.0, \"#f0f921\"]], \"type\": \"histogram2dcontour\"}], \"mesh3d\": [{\"colorbar\": {\"outlinewidth\": 0, \"ticks\": \"\"}, \"type\": \"mesh3d\"}], \"parcoords\": [{\"line\": {\"colorbar\": {\"outlinewidth\": 0, \"ticks\": \"\"}}, \"type\": \"parcoords\"}], \"pie\": [{\"automargin\": true, \"type\": \"pie\"}], \"scatter\": [{\"marker\": {\"colorbar\": {\"outlinewidth\": 0, \"ticks\": \"\"}}, \"type\": \"scatter\"}], \"scatter3d\": [{\"line\": {\"colorbar\": {\"outlinewidth\": 0, \"ticks\": \"\"}}, \"marker\": {\"colorbar\": {\"outlinewidth\": 0, \"ticks\": \"\"}}, \"type\": \"scatter3d\"}], \"scattercarpet\": [{\"marker\": {\"colorbar\": {\"outlinewidth\": 0, \"ticks\": \"\"}}, \"type\": \"scattercarpet\"}], \"scattergeo\": [{\"marker\": {\"colorbar\": {\"outlinewidth\": 0, \"ticks\": \"\"}}, \"type\": \"scattergeo\"}], \"scattergl\": [{\"marker\": {\"colorbar\": {\"outlinewidth\": 0, \"ticks\": \"\"}}, \"type\": \"scattergl\"}], \"scattermapbox\": [{\"marker\": {\"colorbar\": {\"outlinewidth\": 0, \"ticks\": \"\"}}, \"type\": \"scattermapbox\"}], \"scatterpolar\": [{\"marker\": {\"colorbar\": {\"outlinewidth\": 0, \"ticks\": \"\"}}, \"type\": \"scatterpolar\"}], \"scatterpolargl\": [{\"marker\": {\"colorbar\": {\"outlinewidth\": 0, \"ticks\": \"\"}}, \"type\": \"scatterpolargl\"}], \"scatterternary\": [{\"marker\": {\"colorbar\": {\"outlinewidth\": 0, \"ticks\": \"\"}}, \"type\": \"scatterternary\"}], \"surface\": [{\"colorbar\": {\"outlinewidth\": 0, \"ticks\": \"\"}, \"colorscale\": [[0.0, \"#0d0887\"], [0.1111111111111111, \"#46039f\"], [0.2222222222222222, \"#7201a8\"], [0.3333333333333333, \"#9c179e\"], [0.4444444444444444, \"#bd3786\"], [0.5555555555555556, \"#d8576b\"], [0.6666666666666666, \"#ed7953\"], [0.7777777777777778, \"#fb9f3a\"], [0.8888888888888888, \"#fdca26\"], [1.0, \"#f0f921\"]], \"type\": \"surface\"}], \"table\": [{\"cells\": {\"fill\": {\"color\": \"#EBF0F8\"}, \"line\": {\"color\": \"white\"}}, \"header\": {\"fill\": {\"color\": \"#C8D4E3\"}, \"line\": {\"color\": \"white\"}}, \"type\": \"table\"}]}, \"layout\": {\"annotationdefaults\": {\"arrowcolor\": \"#2a3f5f\", \"arrowhead\": 0, \"arrowwidth\": 1}, \"coloraxis\": {\"colorbar\": {\"outlinewidth\": 0, \"ticks\": \"\"}}, \"colorscale\": {\"diverging\": [[0, \"#8e0152\"], [0.1, \"#c51b7d\"], [0.2, \"#de77ae\"], [0.3, \"#f1b6da\"], [0.4, \"#fde0ef\"], [0.5, \"#f7f7f7\"], [0.6, \"#e6f5d0\"], [0.7, \"#b8e186\"], [0.8, \"#7fbc41\"], [0.9, \"#4d9221\"], [1, \"#276419\"]], \"sequential\": [[0.0, \"#0d0887\"], [0.1111111111111111, \"#46039f\"], [0.2222222222222222, \"#7201a8\"], [0.3333333333333333, \"#9c179e\"], [0.4444444444444444, \"#bd3786\"], [0.5555555555555556, \"#d8576b\"], [0.6666666666666666, \"#ed7953\"], [0.7777777777777778, \"#fb9f3a\"], [0.8888888888888888, \"#fdca26\"], [1.0, \"#f0f921\"]], \"sequentialminus\": [[0.0, \"#0d0887\"], [0.1111111111111111, \"#46039f\"], [0.2222222222222222, \"#7201a8\"], [0.3333333333333333, \"#9c179e\"], [0.4444444444444444, \"#bd3786\"], [0.5555555555555556, \"#d8576b\"], [0.6666666666666666, \"#ed7953\"], [0.7777777777777778, \"#fb9f3a\"], [0.8888888888888888, \"#fdca26\"], [1.0, \"#f0f921\"]]}, \"colorway\": [\"#636efa\", \"#EF553B\", \"#00cc96\", \"#ab63fa\", \"#FFA15A\", \"#19d3f3\", \"#FF6692\", \"#B6E880\", \"#FF97FF\", \"#FECB52\"], \"font\": {\"color\": \"#2a3f5f\"}, \"geo\": {\"bgcolor\": \"white\", \"lakecolor\": \"white\", \"landcolor\": \"#E5ECF6\", \"showlakes\": true, \"showland\": true, \"subunitcolor\": \"white\"}, \"hoverlabel\": {\"align\": \"left\"}, \"hovermode\": \"closest\", \"mapbox\": {\"style\": \"light\"}, \"paper_bgcolor\": \"white\", \"plot_bgcolor\": \"#E5ECF6\", \"polar\": {\"angularaxis\": {\"gridcolor\": \"white\", \"linecolor\": \"white\", \"ticks\": \"\"}, \"bgcolor\": \"#E5ECF6\", \"radialaxis\": {\"gridcolor\": \"white\", \"linecolor\": \"white\", \"ticks\": \"\"}}, \"scene\": {\"xaxis\": {\"backgroundcolor\": \"#E5ECF6\", \"gridcolor\": \"white\", \"gridwidth\": 2, \"linecolor\": \"white\", \"showbackground\": true, \"ticks\": \"\", \"zerolinecolor\": \"white\"}, \"yaxis\": {\"backgroundcolor\": \"#E5ECF6\", \"gridcolor\": \"white\", \"gridwidth\": 2, \"linecolor\": \"white\", \"showbackground\": true, \"ticks\": \"\", \"zerolinecolor\": \"white\"}, \"zaxis\": {\"backgroundcolor\": \"#E5ECF6\", \"gridcolor\": \"white\", \"gridwidth\": 2, \"linecolor\": \"white\", \"showbackground\": true, \"ticks\": \"\", \"zerolinecolor\": \"white\"}}, \"shapedefaults\": {\"line\": {\"color\": \"#2a3f5f\"}}, \"ternary\": {\"aaxis\": {\"gridcolor\": \"white\", \"linecolor\": \"white\", \"ticks\": \"\"}, \"baxis\": {\"gridcolor\": \"white\", \"linecolor\": \"white\", \"ticks\": \"\"}, \"bgcolor\": \"#E5ECF6\", \"caxis\": {\"gridcolor\": \"white\", \"linecolor\": \"white\", \"ticks\": \"\"}}, \"title\": {\"x\": 0.05}, \"xaxis\": {\"automargin\": true, \"gridcolor\": \"white\", \"linecolor\": \"white\", \"ticks\": \"\", \"title\": {\"standoff\": 15}, \"zerolinecolor\": \"white\", \"zerolinewidth\": 2}, \"yaxis\": {\"automargin\": true, \"gridcolor\": \"white\", \"linecolor\": \"white\", \"ticks\": \"\", \"title\": {\"standoff\": 15}, \"zerolinecolor\": \"white\", \"zerolinewidth\": 2}}}, \"title\": {\"text\": \"Annual Compensation Density Estimation:<br>Backend\", \"x\": 0.5, \"xanchor\": \"center\", \"yanchor\": \"top\"}, \"updatemenus\": [{\"buttons\": [{\"args\": [[\"Developer, back-end\"], {\"frame\": {\"duration\": 300, \"redraw\": true}, \"mode\": \"immediate\", \"transition\": {\"duration\": 300}}], \"label\": \"Backend\", \"method\": \"animate\"}, {\"args\": [[\"Developer, front-end\"], {\"frame\": {\"duration\": 300, \"redraw\": true}, \"mode\": \"immediate\", \"transition\": {\"duration\": 300}}], \"label\": \"Frontend\", \"method\": \"animate\"}, {\"args\": [[\"Developer, full-stack\"], {\"frame\": {\"duration\": 300, \"redraw\": true}, \"mode\": \"immediate\", \"transition\": {\"duration\": 300}}], \"label\": \"Fullstack\", \"method\": \"animate\"}, {\"args\": [[\"Developer, mobile\"], {\"frame\": {\"duration\": 300, \"redraw\": true}, \"mode\": \"immediate\", \"transition\": {\"duration\": 300}}], \"label\": \"Mobile\", \"method\": \"animate\"}, {\"args\": [[\"DevOps specialist\"], {\"frame\": {\"duration\": 300, \"redraw\": true}, \"mode\": \"immediate\", \"transition\": {\"duration\": 300}}], \"label\": \"DevOps\", \"method\": \"animate\"}, {\"args\": [[\"Database administrator\"], {\"frame\": {\"duration\": 300, \"redraw\": true}, \"mode\": \"immediate\", \"transition\": {\"duration\": 300}}], \"label\": \"Database Admin\", \"method\": \"animate\"}, {\"args\": [[\"System administrator\"], {\"frame\": {\"duration\": 300, \"redraw\": true}, \"mode\": \"immediate\", \"transition\": {\"duration\": 300}}], \"label\": \"System Admin\", \"method\": \"animate\"}, {\"args\": [[\"Data scientist or machine learning specialist\"], {\"frame\": {\"duration\": 300, \"redraw\": true}, \"mode\": \"immediate\", \"transition\": {\"duration\": 300}}], \"label\": \"Data Scientist\", \"method\": \"animate\"}], \"pad\": {\"r\": 100}, \"type\": \"buttons\"}], \"xaxis\": {\"ticksuffix\": \"k\", \"title\": {\"text\": \"Compensation (USD)\"}}, \"yaxis\": {\"range\": [0, 0.012], \"tickcolor\": \"white\", \"ticklen\": 8, \"ticks\": \"outside\", \"title\": {\"text\": \"Probability Density\"}, \"zeroline\": false}},\n",
       "                        {\"responsive\": true}\n",
       "                    ).then(function(){\n",
       "                            Plotly.addFrames('ac654b82-4043-4779-a5ff-d72a08aefbc8', [{\"data\": [{\"hovertemplate\": \"Compensation: %{x}\", \"line\": {\"dash\": \"longdashdot\"}, \"name\": \"2018\", \"x\": [0.2, 0.9, 1.5, 2.2, 2.9, 3.6, 4.3, 4.9, 5.6, 6.3, 7.0, 7.7, 8.3, 9.0, 9.7, 10.4, 11.1, 11.7, 12.4, 13.1, 13.8, 14.5, 15.1, 15.8, 16.5, 17.2, 17.9, 18.5, 19.2, 19.9, 20.6, 21.3, 22.0, 22.6, 23.3, 24.0, 24.7, 25.4, 26.0, 26.7, 27.4, 28.1, 28.8, 29.4, 30.1, 30.8, 31.5, 32.2, 32.8, 33.5, 34.2, 34.9, 35.6, 36.2, 36.9, 37.6, 38.3, 39.0, 39.6, 40.3, 41.0, 41.7, 42.4, 43.1, 43.7, 44.4, 45.1, 45.8, 46.5, 47.1, 47.8, 48.5, 49.2, 49.9, 50.5, 51.2, 51.9, 52.6, 53.3, 53.9, 54.6, 55.3, 56.0, 56.7, 57.3, 58.0, 58.7, 59.4, 60.1, 60.8, 61.4, 62.1, 62.8, 63.5, 64.2, 64.8, 65.5, 66.2, 66.9, 67.6, 68.2, 68.9, 69.6, 70.3, 71.0, 71.6, 72.3, 73.0, 73.7, 74.4, 75.0, 75.7, 76.4, 77.1, 77.8, 78.4, 79.1, 79.8, 80.5, 81.2, 81.9, 82.5, 83.2, 83.9, 84.6, 85.3, 85.9, 86.6, 87.3, 88.0, 88.7, 89.3, 90.0, 90.7, 91.4, 92.1, 92.7, 93.4, 94.1, 94.8, 95.5, 96.1, 96.8, 97.5, 98.2, 98.9, 99.5, 100.2, 100.9, 101.6, 102.3, 103.0, 103.6, 104.3, 105.0, 105.7, 106.4, 107.0, 107.7, 108.4, 109.1, 109.8, 110.4, 111.1, 111.8, 112.5, 113.2, 113.8, 114.5, 115.2, 115.9, 116.6, 117.2, 117.9, 118.6, 119.3, 120.0, 120.7, 121.3, 122.0, 122.7, 123.4, 124.1, 124.7, 125.4, 126.1, 126.8, 127.5, 128.1, 128.8, 129.5, 130.2, 130.9, 131.5, 132.2, 132.9, 133.6, 134.3, 134.9, 135.6, 136.3, 137.0, 137.7, 138.3, 139.0, 139.7, 140.4, 141.1, 141.8, 142.4, 143.1, 143.8, 144.5, 145.2, 145.8, 146.5, 147.2, 147.9, 148.6, 149.2, 149.9, 150.6, 151.3, 152.0, 152.6, 153.3, 154.0, 154.7, 155.4, 156.0, 156.7, 157.4, 158.1, 158.8, 159.4, 160.1, 160.8, 161.5, 162.2, 162.9, 163.5, 164.2, 164.9, 165.6, 166.3, 166.9, 167.6, 168.3, 169.0, 169.7, 170.3, 171.0, 171.7, 172.4, 173.1, 173.7, 174.4, 175.1, 175.8, 176.5, 177.1, 177.8, 178.5, 179.2, 179.9, 180.6, 181.2, 181.9, 182.6, 183.3, 184.0, 184.6, 185.3, 186.0, 186.7, 187.4, 188.0, 188.7, 189.4, 190.1, 190.8, 191.4, 192.1, 192.8, 193.5, 194.2, 194.8, 195.5, 196.2, 196.9, 197.6, 198.2, 198.9, 199.6], \"y\": [0.0062, 0.0067, 0.0072, 0.0076, 0.008, 0.0084, 0.0088, 0.0091, 0.0094, 0.0096, 0.0098, 0.01, 0.0101, 0.0102, 0.0103, 0.0103, 0.0103, 0.0102, 0.0102, 0.0101, 0.01, 0.0099, 0.0098, 0.0097, 0.0096, 0.0095, 0.0094, 0.0093, 0.0092, 0.0091, 0.009, 0.0089, 0.0088, 0.0087, 0.0087, 0.0086, 0.0086, 0.0085, 0.0085, 0.0085, 0.0085, 0.0084, 0.0084, 0.0084, 0.0084, 0.0084, 0.0084, 0.0084, 0.0084, 0.0084, 0.0084, 0.0084, 0.0084, 0.0084, 0.0084, 0.0085, 0.0085, 0.0085, 0.0085, 0.0085, 0.0085, 0.0085, 0.0085, 0.0085, 0.0085, 0.0085, 0.0085, 0.0085, 0.0085, 0.0085, 0.0085, 0.0085, 0.0085, 0.0084, 0.0084, 0.0084, 0.0084, 0.0084, 0.0084, 0.0084, 0.0084, 0.0084, 0.0084, 0.0084, 0.0083, 0.0083, 0.0083, 0.0083, 0.0083, 0.0082, 0.0082, 0.0081, 0.0081, 0.008, 0.008, 0.0079, 0.0079, 0.0078, 0.0077, 0.0077, 0.0076, 0.0075, 0.0075, 0.0074, 0.0073, 0.0072, 0.0072, 0.0071, 0.007, 0.0069, 0.0068, 0.0067, 0.0066, 0.0065, 0.0064, 0.0063, 0.0062, 0.0061, 0.006, 0.0059, 0.0058, 0.0057, 0.0056, 0.0056, 0.0055, 0.0054, 0.0053, 0.0052, 0.0052, 0.0051, 0.005, 0.005, 0.0049, 0.0049, 0.0048, 0.0048, 0.0048, 0.0047, 0.0047, 0.0047, 0.0046, 0.0046, 0.0046, 0.0045, 0.0045, 0.0045, 0.0044, 0.0044, 0.0043, 0.0043, 0.0042, 0.0042, 0.0041, 0.0041, 0.004, 0.004, 0.0039, 0.0039, 0.0038, 0.0038, 0.0037, 0.0037, 0.0036, 0.0036, 0.0036, 0.0035, 0.0035, 0.0035, 0.0035, 0.0034, 0.0034, 0.0034, 0.0034, 0.0034, 0.0033, 0.0033, 0.0033, 0.0033, 0.0032, 0.0032, 0.0031, 0.0031, 0.003, 0.003, 0.0029, 0.0029, 0.0028, 0.0027, 0.0027, 0.0026, 0.0025, 0.0025, 0.0024, 0.0024, 0.0023, 0.0023, 0.0022, 0.0022, 0.0021, 0.0021, 0.002, 0.002, 0.002, 0.0019, 0.0019, 0.0019, 0.0019, 0.0018, 0.0018, 0.0018, 0.0018, 0.0018, 0.0017, 0.0017, 0.0017, 0.0017, 0.0016, 0.0016, 0.0016, 0.0016, 0.0015, 0.0015, 0.0015, 0.0015, 0.0014, 0.0014, 0.0014, 0.0013, 0.0013, 0.0012, 0.0012, 0.0012, 0.0011, 0.0011, 0.0011, 0.001, 0.001, 0.001, 0.001, 0.0009, 0.0009, 0.0009, 0.0009, 0.0008, 0.0008, 0.0008, 0.0008, 0.0008, 0.0008, 0.0007, 0.0007, 0.0007, 0.0007, 0.0007, 0.0007, 0.0007, 0.0007, 0.0007, 0.0007, 0.0007, 0.0007, 0.0006, 0.0006, 0.0006, 0.0006, 0.0006, 0.0006, 0.0006, 0.0006, 0.0005, 0.0005, 0.0005, 0.0005, 0.0005, 0.0005, 0.0004, 0.0004, 0.0004, 0.0004, 0.0004, 0.0004, 0.0004, 0.0004, 0.0004, 0.0004, 0.0004, 0.0004, 0.0004, 0.0004, 0.0003, 0.0003, 0.0003, 0.0003, 0.0003], \"type\": \"scatter\"}, {\"hovertemplate\": \"Compensation: %{x}\", \"line\": {\"dash\": \"dash\"}, \"name\": \"2019\", \"x\": [0.2, 1.1, 2.0, 2.8, 3.7, 4.6, 5.4, 6.3, 7.2, 8.1, 8.9, 9.8, 10.7, 11.5, 12.4, 13.3, 14.2, 15.0, 15.9, 16.8, 17.6, 18.5, 19.4, 20.3, 21.1, 22.0, 22.9, 23.7, 24.6, 25.5, 26.4, 27.2, 28.1, 29.0, 29.8, 30.7, 31.6, 32.5, 33.3, 34.2, 35.1, 35.9, 36.8, 37.7, 38.6, 39.4, 40.3, 41.2, 42.0, 42.9, 43.8, 44.7, 45.5, 46.4, 47.3, 48.1, 49.0, 49.9, 50.7, 51.6, 52.5, 53.4, 54.2, 55.1, 56.0, 56.8, 57.7, 58.6, 59.5, 60.3, 61.2, 62.1, 62.9, 63.8, 64.7, 65.6, 66.4, 67.3, 68.2, 69.0, 69.9, 70.8, 71.7, 72.5, 73.4, 74.3, 75.1, 76.0, 76.9, 77.8, 78.6, 79.5, 80.4, 81.2, 82.1, 83.0, 83.9, 84.7, 85.6, 86.5, 87.3, 88.2, 89.1, 90.0, 90.8, 91.7, 92.6, 93.4, 94.3, 95.2, 96.1, 96.9, 97.8, 98.7, 99.5, 100.4, 101.3, 102.2, 103.0, 103.9, 104.8, 105.6, 106.5, 107.4, 108.3, 109.1, 110.0, 110.9, 111.7, 112.6, 113.5, 114.3, 115.2, 116.1, 117.0, 117.8, 118.7, 119.6, 120.4, 121.3, 122.2, 123.1, 123.9, 124.8, 125.7, 126.5, 127.4, 128.3, 129.2, 130.0, 130.9, 131.8, 132.6, 133.5, 134.4, 135.3, 136.1, 137.0, 137.9, 138.7, 139.6, 140.5, 141.4, 142.2, 143.1, 144.0, 144.8, 145.7, 146.6, 147.5, 148.3, 149.2, 150.1, 150.9, 151.8, 152.7, 153.6, 154.4, 155.3, 156.2, 157.0, 157.9, 158.8, 159.7, 160.5, 161.4, 162.3, 163.1, 164.0, 164.9, 165.8, 166.6, 167.5, 168.4, 169.2, 170.1, 171.0, 171.9, 172.7, 173.6, 174.5, 175.3, 176.2, 177.1, 177.9, 178.8, 179.7, 180.6, 181.4, 182.3, 183.2, 184.0, 184.9, 185.8, 186.7, 187.5, 188.4, 189.3, 190.1, 191.0, 191.9, 192.8, 193.6, 194.5, 195.4, 196.2, 197.1, 198.0, 198.9, 199.7], \"y\": [0.0058, 0.0063, 0.0068, 0.0073, 0.0078, 0.0083, 0.0087, 0.0091, 0.0094, 0.0097, 0.0099, 0.0101, 0.0103, 0.0104, 0.0104, 0.0104, 0.0104, 0.0104, 0.0103, 0.0102, 0.0101, 0.01, 0.0099, 0.0098, 0.0097, 0.0095, 0.0094, 0.0093, 0.0092, 0.0091, 0.0091, 0.009, 0.0089, 0.0089, 0.0088, 0.0088, 0.0087, 0.0087, 0.0087, 0.0086, 0.0086, 0.0086, 0.0086, 0.0085, 0.0085, 0.0085, 0.0085, 0.0084, 0.0084, 0.0084, 0.0083, 0.0083, 0.0083, 0.0082, 0.0082, 0.0082, 0.0081, 0.0081, 0.0081, 0.008, 0.008, 0.008, 0.0079, 0.0079, 0.0079, 0.0078, 0.0078, 0.0078, 0.0077, 0.0077, 0.0076, 0.0076, 0.0075, 0.0074, 0.0074, 0.0073, 0.0072, 0.0072, 0.0071, 0.007, 0.0069, 0.0068, 0.0068, 0.0067, 0.0066, 0.0065, 0.0064, 0.0062, 0.0061, 0.006, 0.0059, 0.0058, 0.0057, 0.0056, 0.0055, 0.0054, 0.0053, 0.0052, 0.0051, 0.005, 0.0049, 0.0048, 0.0048, 0.0047, 0.0046, 0.0045, 0.0045, 0.0044, 0.0043, 0.0043, 0.0042, 0.0042, 0.0041, 0.004, 0.004, 0.0039, 0.0038, 0.0038, 0.0037, 0.0037, 0.0036, 0.0035, 0.0035, 0.0034, 0.0034, 0.0033, 0.0033, 0.0032, 0.0032, 0.0031, 0.0031, 0.0031, 0.003, 0.003, 0.0029, 0.0029, 0.0029, 0.0028, 0.0028, 0.0027, 0.0027, 0.0026, 0.0026, 0.0026, 0.0025, 0.0025, 0.0024, 0.0024, 0.0023, 0.0023, 0.0022, 0.0022, 0.0021, 0.0021, 0.0021, 0.002, 0.002, 0.002, 0.0019, 0.0019, 0.0019, 0.0018, 0.0018, 0.0018, 0.0018, 0.0017, 0.0017, 0.0017, 0.0017, 0.0016, 0.0016, 0.0016, 0.0016, 0.0015, 0.0015, 0.0015, 0.0015, 0.0014, 0.0014, 0.0014, 0.0013, 0.0013, 0.0013, 0.0012, 0.0012, 0.0012, 0.0011, 0.0011, 0.0011, 0.0011, 0.001, 0.001, 0.001, 0.001, 0.001, 0.001, 0.001, 0.001, 0.0009, 0.0009, 0.0009, 0.0009, 0.0009, 0.0009, 0.0009, 0.0009, 0.0008, 0.0008, 0.0008, 0.0008, 0.0008, 0.0007, 0.0007, 0.0007, 0.0007, 0.0007, 0.0006, 0.0006, 0.0006, 0.0006, 0.0006, 0.0006, 0.0006, 0.0006, 0.0006, 0.0006, 0.0006, 0.0006, 0.0006, 0.0006], \"type\": \"scatter\"}, {\"hovertemplate\": \"Compensation: %{x}\", \"line\": {\"dash\": \"dashdot\"}, \"name\": \"2020\", \"x\": [0.2, 1.0, 1.7, 2.5, 3.3, 4.1, 4.8, 5.6, 6.4, 7.1, 7.9, 8.7, 9.5, 10.2, 11.0, 11.8, 12.5, 13.3, 14.1, 14.9, 15.6, 16.4, 17.2, 17.9, 18.7, 19.5, 20.3, 21.0, 21.8, 22.6, 23.3, 24.1, 24.9, 25.7, 26.4, 27.2, 28.0, 28.7, 29.5, 30.3, 31.1, 31.8, 32.6, 33.4, 34.1, 34.9, 35.7, 36.5, 37.2, 38.0, 38.8, 39.5, 40.3, 41.1, 41.9, 42.6, 43.4, 44.2, 44.9, 45.7, 46.5, 47.3, 48.0, 48.8, 49.6, 50.3, 51.1, 51.9, 52.7, 53.4, 54.2, 55.0, 55.7, 56.5, 57.3, 58.1, 58.8, 59.6, 60.4, 61.1, 61.9, 62.7, 63.5, 64.2, 65.0, 65.8, 66.5, 67.3, 68.1, 68.9, 69.6, 70.4, 71.2, 71.9, 72.7, 73.5, 74.3, 75.0, 75.8, 76.6, 77.3, 78.1, 78.9, 79.7, 80.4, 81.2, 82.0, 82.7, 83.5, 84.3, 85.1, 85.8, 86.6, 87.4, 88.1, 88.9, 89.7, 90.5, 91.2, 92.0, 92.8, 93.5, 94.3, 95.1, 95.9, 96.6, 97.4, 98.2, 98.9, 99.7, 100.5, 101.3, 102.0, 102.8, 103.6, 104.3, 105.1, 105.9, 106.7, 107.4, 108.2, 109.0, 109.7, 110.5, 111.3, 112.1, 112.8, 113.6, 114.4, 115.1, 115.9, 116.7, 117.5, 118.2, 119.0, 119.8, 120.5, 121.3, 122.1, 122.9, 123.6, 124.4, 125.2, 125.9, 126.7, 127.5, 128.3, 129.0, 129.8, 130.6, 131.3, 132.1, 132.9, 133.7, 134.4, 135.2, 136.0, 136.7, 137.5, 138.3, 139.1, 139.8, 140.6, 141.4, 142.1, 142.9, 143.7, 144.5, 145.2, 146.0, 146.8, 147.5, 148.3, 149.1, 149.9, 150.6, 151.4, 152.2, 152.9, 153.7, 154.5, 155.3, 156.0, 156.8, 157.6, 158.3, 159.1, 159.9, 160.7, 161.4, 162.2, 163.0, 163.7, 164.5, 165.3, 166.1, 166.8, 167.6, 168.4, 169.1, 169.9, 170.7, 171.5, 172.2, 173.0, 173.8, 174.5, 175.3, 176.1, 176.9, 177.6, 178.4, 179.2, 179.9, 180.7, 181.5, 182.3, 183.0, 183.8, 184.6, 185.3, 186.1, 186.9, 187.7, 188.4, 189.2, 190.0, 190.7, 191.5, 192.3, 193.1, 193.8, 194.6, 195.4, 196.1, 196.9, 197.7, 198.5, 199.2], \"y\": [0.0057, 0.0061, 0.0066, 0.007, 0.0075, 0.0079, 0.0083, 0.0086, 0.0089, 0.0092, 0.0095, 0.0097, 0.0099, 0.01, 0.0102, 0.0102, 0.0103, 0.0103, 0.0103, 0.0103, 0.0103, 0.0102, 0.0102, 0.0101, 0.01, 0.01, 0.0099, 0.0098, 0.0097, 0.0096, 0.0096, 0.0095, 0.0094, 0.0094, 0.0093, 0.0093, 0.0093, 0.0092, 0.0092, 0.0092, 0.0091, 0.0091, 0.0091, 0.0091, 0.0091, 0.0091, 0.0091, 0.0091, 0.0091, 0.0091, 0.009, 0.009, 0.009, 0.009, 0.009, 0.009, 0.0089, 0.0089, 0.0089, 0.0088, 0.0088, 0.0088, 0.0087, 0.0087, 0.0086, 0.0086, 0.0085, 0.0085, 0.0084, 0.0084, 0.0083, 0.0082, 0.0082, 0.0081, 0.008, 0.008, 0.0079, 0.0078, 0.0077, 0.0077, 0.0076, 0.0075, 0.0074, 0.0073, 0.0073, 0.0072, 0.0071, 0.007, 0.0069, 0.0068, 0.0067, 0.0066, 0.0066, 0.0065, 0.0064, 0.0063, 0.0062, 0.0061, 0.006, 0.0059, 0.0059, 0.0058, 0.0057, 0.0056, 0.0055, 0.0054, 0.0053, 0.0052, 0.0052, 0.0051, 0.005, 0.0049, 0.0048, 0.0047, 0.0046, 0.0046, 0.0045, 0.0044, 0.0043, 0.0043, 0.0042, 0.0041, 0.0041, 0.004, 0.0039, 0.0039, 0.0038, 0.0038, 0.0037, 0.0037, 0.0036, 0.0036, 0.0035, 0.0035, 0.0034, 0.0034, 0.0033, 0.0033, 0.0033, 0.0032, 0.0032, 0.0031, 0.0031, 0.0031, 0.003, 0.003, 0.003, 0.0029, 0.0029, 0.0029, 0.0029, 0.0028, 0.0028, 0.0028, 0.0028, 0.0027, 0.0027, 0.0027, 0.0027, 0.0026, 0.0026, 0.0026, 0.0025, 0.0025, 0.0025, 0.0024, 0.0024, 0.0023, 0.0023, 0.0023, 0.0022, 0.0022, 0.0021, 0.0021, 0.0021, 0.002, 0.002, 0.002, 0.0019, 0.0019, 0.0019, 0.0018, 0.0018, 0.0018, 0.0018, 0.0017, 0.0017, 0.0017, 0.0017, 0.0017, 0.0016, 0.0016, 0.0016, 0.0016, 0.0016, 0.0015, 0.0015, 0.0015, 0.0015, 0.0015, 0.0015, 0.0014, 0.0014, 0.0014, 0.0014, 0.0014, 0.0013, 0.0013, 0.0013, 0.0013, 0.0013, 0.0012, 0.0012, 0.0012, 0.0012, 0.0012, 0.0011, 0.0011, 0.0011, 0.0011, 0.0011, 0.001, 0.001, 0.001, 0.001, 0.001, 0.001, 0.0009, 0.0009, 0.0009, 0.0009, 0.0009, 0.0008, 0.0008, 0.0008, 0.0008, 0.0007, 0.0007, 0.0007, 0.0007, 0.0007, 0.0007, 0.0006, 0.0006, 0.0006, 0.0006, 0.0006, 0.0006, 0.0006, 0.0006, 0.0006, 0.0006, 0.0006, 0.0006, 0.0006, 0.0006, 0.0006, 0.0006, 0.0006], \"type\": \"scatter\"}], \"layout\": {\"template\": {\"data\": {\"barpolar\": [{\"marker\": {\"line\": {\"color\": \"#E5ECF6\", \"width\": 0.5}}, \"type\": \"barpolar\"}], \"bar\": [{\"error_x\": {\"color\": \"#2a3f5f\"}, \"error_y\": {\"color\": \"#2a3f5f\"}, \"marker\": {\"line\": {\"color\": \"#E5ECF6\", \"width\": 0.5}}, \"type\": \"bar\"}], \"carpet\": [{\"aaxis\": {\"endlinecolor\": \"#2a3f5f\", \"gridcolor\": \"white\", \"linecolor\": \"white\", \"minorgridcolor\": \"white\", \"startlinecolor\": \"#2a3f5f\"}, \"baxis\": {\"endlinecolor\": \"#2a3f5f\", \"gridcolor\": \"white\", \"linecolor\": \"white\", \"minorgridcolor\": \"white\", \"startlinecolor\": \"#2a3f5f\"}, \"type\": \"carpet\"}], \"choropleth\": [{\"colorbar\": {\"outlinewidth\": 0, \"ticks\": \"\"}, \"type\": \"choropleth\"}], \"contourcarpet\": [{\"colorbar\": {\"outlinewidth\": 0, \"ticks\": \"\"}, \"type\": \"contourcarpet\"}], \"contour\": [{\"colorbar\": {\"outlinewidth\": 0, \"ticks\": \"\"}, \"colorscale\": [[0.0, \"#0d0887\"], [0.1111111111111111, \"#46039f\"], [0.2222222222222222, \"#7201a8\"], [0.3333333333333333, \"#9c179e\"], [0.4444444444444444, \"#bd3786\"], [0.5555555555555556, \"#d8576b\"], [0.6666666666666666, \"#ed7953\"], [0.7777777777777778, \"#fb9f3a\"], [0.8888888888888888, \"#fdca26\"], [1.0, \"#f0f921\"]], \"type\": \"contour\"}], \"heatmapgl\": [{\"colorbar\": {\"outlinewidth\": 0, \"ticks\": \"\"}, \"colorscale\": [[0.0, \"#0d0887\"], [0.1111111111111111, \"#46039f\"], [0.2222222222222222, \"#7201a8\"], [0.3333333333333333, \"#9c179e\"], [0.4444444444444444, \"#bd3786\"], [0.5555555555555556, \"#d8576b\"], [0.6666666666666666, \"#ed7953\"], [0.7777777777777778, \"#fb9f3a\"], [0.8888888888888888, \"#fdca26\"], [1.0, \"#f0f921\"]], \"type\": \"heatmapgl\"}], \"heatmap\": [{\"colorbar\": {\"outlinewidth\": 0, \"ticks\": \"\"}, \"colorscale\": [[0.0, \"#0d0887\"], [0.1111111111111111, \"#46039f\"], [0.2222222222222222, \"#7201a8\"], [0.3333333333333333, \"#9c179e\"], [0.4444444444444444, \"#bd3786\"], [0.5555555555555556, \"#d8576b\"], [0.6666666666666666, \"#ed7953\"], [0.7777777777777778, \"#fb9f3a\"], [0.8888888888888888, \"#fdca26\"], [1.0, \"#f0f921\"]], \"type\": \"heatmap\"}], \"histogram2dcontour\": [{\"colorbar\": {\"outlinewidth\": 0, \"ticks\": \"\"}, \"colorscale\": [[0.0, \"#0d0887\"], [0.1111111111111111, \"#46039f\"], [0.2222222222222222, \"#7201a8\"], [0.3333333333333333, \"#9c179e\"], [0.4444444444444444, \"#bd3786\"], [0.5555555555555556, \"#d8576b\"], [0.6666666666666666, \"#ed7953\"], [0.7777777777777778, \"#fb9f3a\"], [0.8888888888888888, \"#fdca26\"], [1.0, \"#f0f921\"]], \"type\": \"histogram2dcontour\"}], \"histogram2d\": [{\"colorbar\": {\"outlinewidth\": 0, \"ticks\": \"\"}, \"colorscale\": [[0.0, \"#0d0887\"], [0.1111111111111111, \"#46039f\"], [0.2222222222222222, \"#7201a8\"], [0.3333333333333333, \"#9c179e\"], [0.4444444444444444, \"#bd3786\"], [0.5555555555555556, \"#d8576b\"], [0.6666666666666666, \"#ed7953\"], [0.7777777777777778, \"#fb9f3a\"], [0.8888888888888888, \"#fdca26\"], [1.0, \"#f0f921\"]], \"type\": \"histogram2d\"}], \"histogram\": [{\"marker\": {\"colorbar\": {\"outlinewidth\": 0, \"ticks\": \"\"}}, \"type\": \"histogram\"}], \"mesh3d\": [{\"colorbar\": {\"outlinewidth\": 0, \"ticks\": \"\"}, \"type\": \"mesh3d\"}], \"parcoords\": [{\"line\": {\"colorbar\": {\"outlinewidth\": 0, \"ticks\": \"\"}}, \"type\": \"parcoords\"}], \"pie\": [{\"automargin\": true, \"type\": \"pie\"}], \"scatter3d\": [{\"line\": {\"colorbar\": {\"outlinewidth\": 0, \"ticks\": \"\"}}, \"marker\": {\"colorbar\": {\"outlinewidth\": 0, \"ticks\": \"\"}}, \"type\": \"scatter3d\"}], \"scattercarpet\": [{\"marker\": {\"colorbar\": {\"outlinewidth\": 0, \"ticks\": \"\"}}, \"type\": \"scattercarpet\"}], \"scattergeo\": [{\"marker\": {\"colorbar\": {\"outlinewidth\": 0, \"ticks\": \"\"}}, \"type\": \"scattergeo\"}], \"scattergl\": [{\"marker\": {\"colorbar\": {\"outlinewidth\": 0, \"ticks\": \"\"}}, \"type\": \"scattergl\"}], \"scattermapbox\": [{\"marker\": {\"colorbar\": {\"outlinewidth\": 0, \"ticks\": \"\"}}, \"type\": \"scattermapbox\"}], \"scatterpolargl\": [{\"marker\": {\"colorbar\": {\"outlinewidth\": 0, \"ticks\": \"\"}}, \"type\": \"scatterpolargl\"}], \"scatterpolar\": [{\"marker\": {\"colorbar\": {\"outlinewidth\": 0, \"ticks\": \"\"}}, \"type\": \"scatterpolar\"}], \"scatter\": [{\"marker\": {\"colorbar\": {\"outlinewidth\": 0, \"ticks\": \"\"}}, \"type\": \"scatter\"}], \"scatterternary\": [{\"marker\": {\"colorbar\": {\"outlinewidth\": 0, \"ticks\": \"\"}}, \"type\": \"scatterternary\"}], \"surface\": [{\"colorbar\": {\"outlinewidth\": 0, \"ticks\": \"\"}, \"colorscale\": [[0.0, \"#0d0887\"], [0.1111111111111111, \"#46039f\"], [0.2222222222222222, \"#7201a8\"], [0.3333333333333333, \"#9c179e\"], [0.4444444444444444, \"#bd3786\"], [0.5555555555555556, \"#d8576b\"], [0.6666666666666666, \"#ed7953\"], [0.7777777777777778, \"#fb9f3a\"], [0.8888888888888888, \"#fdca26\"], [1.0, \"#f0f921\"]], \"type\": \"surface\"}], \"table\": [{\"cells\": {\"fill\": {\"color\": \"#EBF0F8\"}, \"line\": {\"color\": \"white\"}}, \"header\": {\"fill\": {\"color\": \"#C8D4E3\"}, \"line\": {\"color\": \"white\"}}, \"type\": \"table\"}]}, \"layout\": {\"annotationdefaults\": {\"arrowcolor\": \"#2a3f5f\", \"arrowhead\": 0, \"arrowwidth\": 1}, \"coloraxis\": {\"colorbar\": {\"outlinewidth\": 0, \"ticks\": \"\"}}, \"colorscale\": {\"diverging\": [[0, \"#8e0152\"], [0.1, \"#c51b7d\"], [0.2, \"#de77ae\"], [0.3, \"#f1b6da\"], [0.4, \"#fde0ef\"], [0.5, \"#f7f7f7\"], [0.6, \"#e6f5d0\"], [0.7, \"#b8e186\"], [0.8, \"#7fbc41\"], [0.9, \"#4d9221\"], [1, \"#276419\"]], \"sequential\": [[0.0, \"#0d0887\"], [0.1111111111111111, \"#46039f\"], [0.2222222222222222, \"#7201a8\"], [0.3333333333333333, \"#9c179e\"], [0.4444444444444444, \"#bd3786\"], [0.5555555555555556, \"#d8576b\"], [0.6666666666666666, \"#ed7953\"], [0.7777777777777778, \"#fb9f3a\"], [0.8888888888888888, \"#fdca26\"], [1.0, \"#f0f921\"]], \"sequentialminus\": [[0.0, \"#0d0887\"], [0.1111111111111111, \"#46039f\"], [0.2222222222222222, \"#7201a8\"], [0.3333333333333333, \"#9c179e\"], [0.4444444444444444, \"#bd3786\"], [0.5555555555555556, \"#d8576b\"], [0.6666666666666666, \"#ed7953\"], [0.7777777777777778, \"#fb9f3a\"], [0.8888888888888888, \"#fdca26\"], [1.0, \"#f0f921\"]]}, \"colorway\": [\"#636efa\", \"#EF553B\", \"#00cc96\", \"#ab63fa\", \"#FFA15A\", \"#19d3f3\", \"#FF6692\", \"#B6E880\", \"#FF97FF\", \"#FECB52\"], \"font\": {\"color\": \"#2a3f5f\"}, \"geo\": {\"bgcolor\": \"white\", \"lakecolor\": \"white\", \"landcolor\": \"#E5ECF6\", \"showlakes\": true, \"showland\": true, \"subunitcolor\": \"white\"}, \"hoverlabel\": {\"align\": \"left\"}, \"hovermode\": \"closest\", \"mapbox\": {\"style\": \"light\"}, \"paper_bgcolor\": \"white\", \"plot_bgcolor\": \"#E5ECF6\", \"polar\": {\"angularaxis\": {\"gridcolor\": \"white\", \"linecolor\": \"white\", \"ticks\": \"\"}, \"bgcolor\": \"#E5ECF6\", \"radialaxis\": {\"gridcolor\": \"white\", \"linecolor\": \"white\", \"ticks\": \"\"}}, \"scene\": {\"xaxis\": {\"backgroundcolor\": \"#E5ECF6\", \"gridcolor\": \"white\", \"gridwidth\": 2, \"linecolor\": \"white\", \"showbackground\": true, \"ticks\": \"\", \"zerolinecolor\": \"white\"}, \"yaxis\": {\"backgroundcolor\": \"#E5ECF6\", \"gridcolor\": \"white\", \"gridwidth\": 2, \"linecolor\": \"white\", \"showbackground\": true, \"ticks\": \"\", \"zerolinecolor\": \"white\"}, \"zaxis\": {\"backgroundcolor\": \"#E5ECF6\", \"gridcolor\": \"white\", \"gridwidth\": 2, \"linecolor\": \"white\", \"showbackground\": true, \"ticks\": \"\", \"zerolinecolor\": \"white\"}}, \"shapedefaults\": {\"line\": {\"color\": \"#2a3f5f\"}}, \"ternary\": {\"aaxis\": {\"gridcolor\": \"white\", \"linecolor\": \"white\", \"ticks\": \"\"}, \"baxis\": {\"gridcolor\": \"white\", \"linecolor\": \"white\", \"ticks\": \"\"}, \"bgcolor\": \"#E5ECF6\", \"caxis\": {\"gridcolor\": \"white\", \"linecolor\": \"white\", \"ticks\": \"\"}}, \"title\": {\"x\": 0.05}, \"xaxis\": {\"automargin\": true, \"gridcolor\": \"white\", \"linecolor\": \"white\", \"ticks\": \"\", \"title\": {\"standoff\": 15}, \"zerolinecolor\": \"white\", \"zerolinewidth\": 2}, \"yaxis\": {\"automargin\": true, \"gridcolor\": \"white\", \"linecolor\": \"white\", \"ticks\": \"\", \"title\": {\"standoff\": 15}, \"zerolinecolor\": \"white\", \"zerolinewidth\": 2}}}, \"title\": {\"text\": \"Annual Compensation Density Estimation:<br>Backend\", \"x\": 0.5, \"xanchor\": \"center\", \"yanchor\": \"top\"}, \"xaxis\": {\"ticksuffix\": \"k\", \"title\": {\"text\": \"Compensation (USD)\"}}, \"yaxis\": {\"range\": [0, 0.012], \"tickcolor\": \"white\", \"ticklen\": 8, \"ticks\": \"outside\", \"title\": {\"text\": \"Probability Density\"}, \"zeroline\": false}}, \"name\": \"Developer, back-end\"}, {\"data\": [{\"hovertemplate\": \"Compensation: %{x}\", \"line\": {\"dash\": \"longdashdot\"}, \"name\": \"2018\", \"x\": [0.2, 0.8, 1.5, 2.2, 2.9, 3.6, 4.2, 4.9, 5.6, 6.3, 6.9, 7.6, 8.3, 9.0, 9.6, 10.3, 11.0, 11.7, 12.4, 13.0, 13.7, 14.4, 15.1, 15.7, 16.4, 17.1, 17.8, 18.4, 19.1, 19.8, 20.5, 21.2, 21.8, 22.5, 23.2, 23.9, 24.5, 25.2, 25.9, 26.6, 27.2, 27.9, 28.6, 29.3, 30.0, 30.6, 31.3, 32.0, 32.7, 33.3, 34.0, 34.7, 35.4, 36.0, 36.7, 37.4, 38.1, 38.8, 39.4, 40.1, 40.8, 41.5, 42.1, 42.8, 43.5, 44.2, 44.8, 45.5, 46.2, 46.9, 47.6, 48.2, 48.9, 49.6, 50.3, 50.9, 51.6, 52.3, 53.0, 53.6, 54.3, 55.0, 55.7, 56.4, 57.0, 57.7, 58.4, 59.1, 59.7, 60.4, 61.1, 61.8, 62.4, 63.1, 63.8, 64.5, 65.2, 65.8, 66.5, 67.2, 67.9, 68.5, 69.2, 69.9, 70.6, 71.2, 71.9, 72.6, 73.3, 74.0, 74.6, 75.3, 76.0, 76.7, 77.3, 78.0, 78.7, 79.4, 80.0, 80.7, 81.4, 82.1, 82.8, 83.4, 84.1, 84.8, 85.5, 86.1, 86.8, 87.5, 88.2, 88.8, 89.5, 90.2, 90.9, 91.6, 92.2, 92.9, 93.6, 94.3, 94.9, 95.6, 96.3, 97.0, 97.6, 98.3, 99.0, 99.7, 100.4, 101.0, 101.7, 102.4, 103.1, 103.7, 104.4, 105.1, 105.8, 106.5, 107.1, 107.8, 108.5, 109.2, 109.8, 110.5, 111.2, 111.9, 112.5, 113.2, 113.9, 114.6, 115.3, 115.9, 116.6, 117.3, 118.0, 118.6, 119.3, 120.0, 120.7, 121.3, 122.0, 122.7, 123.4, 124.1, 124.7, 125.4, 126.1, 126.8, 127.4, 128.1, 128.8, 129.5, 130.1, 130.8, 131.5, 132.2, 132.9, 133.5, 134.2, 134.9, 135.6, 136.2, 136.9, 137.6, 138.3, 138.9, 139.6, 140.3, 141.0, 141.7, 142.3, 143.0, 143.7, 144.4, 145.0, 145.7, 146.4, 147.1, 147.7, 148.4, 149.1, 149.8, 150.5, 151.1, 151.8, 152.5, 153.2, 153.8, 154.5, 155.2, 155.9, 156.5, 157.2, 157.9, 158.6, 159.3, 159.9, 160.6, 161.3, 162.0, 162.6, 163.3, 164.0, 164.7, 165.3, 166.0, 166.7, 167.4, 168.1, 168.7, 169.4, 170.1, 170.8, 171.4, 172.1, 172.8, 173.5, 174.1, 174.8, 175.5, 176.2, 176.9, 177.5, 178.2, 178.9, 179.6, 180.2, 180.9, 181.6, 182.3, 182.9, 183.6, 184.3, 185.0, 185.7, 186.3, 187.0, 187.7, 188.4, 189.0, 189.7, 190.4, 191.1, 191.7, 192.4, 193.1, 193.8, 194.5, 195.1, 195.8, 196.5, 197.2, 197.8, 198.5, 199.2, 199.9], \"y\": [0.0072, 0.0077, 0.0082, 0.0086, 0.009, 0.0094, 0.0098, 0.0101, 0.0103, 0.0106, 0.0107, 0.0109, 0.011, 0.011, 0.011, 0.011, 0.011, 0.0109, 0.0108, 0.0107, 0.0106, 0.0104, 0.0103, 0.0101, 0.01, 0.0099, 0.0097, 0.0096, 0.0094, 0.0093, 0.0092, 0.0091, 0.009, 0.0089, 0.0088, 0.0088, 0.0087, 0.0087, 0.0086, 0.0086, 0.0086, 0.0085, 0.0085, 0.0085, 0.0085, 0.0085, 0.0085, 0.0086, 0.0086, 0.0086, 0.0086, 0.0086, 0.0087, 0.0087, 0.0087, 0.0087, 0.0088, 0.0088, 0.0088, 0.0088, 0.0089, 0.0089, 0.0089, 0.0089, 0.0089, 0.0089, 0.0089, 0.009, 0.009, 0.009, 0.009, 0.009, 0.0089, 0.0089, 0.0089, 0.0089, 0.0089, 0.0089, 0.0088, 0.0088, 0.0088, 0.0087, 0.0087, 0.0087, 0.0086, 0.0086, 0.0085, 0.0085, 0.0084, 0.0084, 0.0083, 0.0082, 0.0082, 0.0081, 0.008, 0.008, 0.0079, 0.0078, 0.0077, 0.0077, 0.0076, 0.0075, 0.0074, 0.0073, 0.0072, 0.0072, 0.0071, 0.007, 0.0069, 0.0068, 0.0067, 0.0066, 0.0065, 0.0065, 0.0064, 0.0063, 0.0062, 0.0061, 0.006, 0.0059, 0.0058, 0.0057, 0.0056, 0.0055, 0.0054, 0.0054, 0.0053, 0.0052, 0.0051, 0.005, 0.005, 0.0049, 0.0048, 0.0048, 0.0047, 0.0046, 0.0046, 0.0045, 0.0045, 0.0044, 0.0044, 0.0043, 0.0043, 0.0042, 0.0042, 0.0041, 0.0041, 0.0041, 0.004, 0.004, 0.0039, 0.0039, 0.0038, 0.0038, 0.0037, 0.0036, 0.0036, 0.0035, 0.0035, 0.0035, 0.0034, 0.0034, 0.0033, 0.0033, 0.0032, 0.0032, 0.0032, 0.0032, 0.0031, 0.0031, 0.0031, 0.0031, 0.003, 0.003, 0.003, 0.003, 0.0029, 0.0029, 0.0029, 0.0028, 0.0028, 0.0027, 0.0027, 0.0026, 0.0026, 0.0025, 0.0025, 0.0024, 0.0023, 0.0023, 0.0022, 0.0021, 0.0021, 0.002, 0.002, 0.0019, 0.0019, 0.0018, 0.0018, 0.0017, 0.0017, 0.0016, 0.0016, 0.0016, 0.0016, 0.0015, 0.0015, 0.0015, 0.0015, 0.0015, 0.0014, 0.0014, 0.0014, 0.0014, 0.0014, 0.0014, 0.0014, 0.0014, 0.0013, 0.0013, 0.0013, 0.0013, 0.0013, 0.0012, 0.0012, 0.0012, 0.0012, 0.0011, 0.0011, 0.0011, 0.001, 0.001, 0.001, 0.0009, 0.0009, 0.0009, 0.0009, 0.0008, 0.0008, 0.0008, 0.0008, 0.0007, 0.0007, 0.0007, 0.0007, 0.0007, 0.0006, 0.0006, 0.0006, 0.0006, 0.0006, 0.0006, 0.0006, 0.0006, 0.0006, 0.0006, 0.0005, 0.0005, 0.0005, 0.0005, 0.0005, 0.0005, 0.0005, 0.0005, 0.0005, 0.0005, 0.0004, 0.0004, 0.0004, 0.0004, 0.0004, 0.0004, 0.0004, 0.0004, 0.0004, 0.0003, 0.0003, 0.0003, 0.0003, 0.0003, 0.0003, 0.0003, 0.0003, 0.0003, 0.0003, 0.0003, 0.0003, 0.0003, 0.0003, 0.0003, 0.0003, 0.0003, 0.0003, 0.0003, 0.0003, 0.0003], \"type\": \"scatter\"}, {\"hovertemplate\": \"Compensation: %{x}\", \"line\": {\"dash\": \"dash\"}, \"name\": \"2019\", \"x\": [0.2, 1.1, 1.9, 2.8, 3.6, 4.5, 5.4, 6.2, 7.1, 7.9, 8.8, 9.6, 10.5, 11.4, 12.2, 13.1, 13.9, 14.8, 15.6, 16.5, 17.4, 18.2, 19.1, 19.9, 20.8, 21.6, 22.5, 23.4, 24.2, 25.1, 25.9, 26.8, 27.6, 28.5, 29.4, 30.2, 31.1, 31.9, 32.8, 33.6, 34.5, 35.4, 36.2, 37.1, 37.9, 38.8, 39.7, 40.5, 41.4, 42.2, 43.1, 43.9, 44.8, 45.7, 46.5, 47.4, 48.2, 49.1, 49.9, 50.8, 51.7, 52.5, 53.4, 54.2, 55.1, 55.9, 56.8, 57.7, 58.5, 59.4, 60.2, 61.1, 61.9, 62.8, 63.7, 64.5, 65.4, 66.2, 67.1, 67.9, 68.8, 69.7, 70.5, 71.4, 72.2, 73.1, 73.9, 74.8, 75.7, 76.5, 77.4, 78.2, 79.1, 79.9, 80.8, 81.7, 82.5, 83.4, 84.2, 85.1, 85.9, 86.8, 87.7, 88.5, 89.4, 90.2, 91.1, 91.9, 92.8, 93.7, 94.5, 95.4, 96.2, 97.1, 97.9, 98.8, 99.7, 100.5, 101.4, 102.2, 103.1, 104.0, 104.8, 105.7, 106.5, 107.4, 108.2, 109.1, 110.0, 110.8, 111.7, 112.5, 113.4, 114.2, 115.1, 116.0, 116.8, 117.7, 118.5, 119.4, 120.2, 121.1, 122.0, 122.8, 123.7, 124.5, 125.4, 126.2, 127.1, 128.0, 128.8, 129.7, 130.5, 131.4, 132.2, 133.1, 134.0, 134.8, 135.7, 136.5, 137.4, 138.2, 139.1, 140.0, 140.8, 141.7, 142.5, 143.4, 144.2, 145.1, 146.0, 146.8, 147.7, 148.5, 149.4, 150.2, 151.1, 152.0, 152.8, 153.7, 154.5, 155.4, 156.2, 157.1, 158.0, 158.8, 159.7, 160.5, 161.4, 162.2, 163.1, 164.0, 164.8, 165.7, 166.5, 167.4, 168.2, 169.1, 170.0, 170.8, 171.7, 172.5, 173.4, 174.3, 175.1, 176.0, 176.8, 177.7, 178.5, 179.4, 180.3, 181.1, 182.0, 182.8, 183.7, 184.5, 185.4, 186.3, 187.1, 188.0, 188.8, 189.7, 190.5, 191.4, 192.3, 193.1, 194.0, 194.8, 195.7, 196.5, 197.4, 198.3, 199.1, 200.0], \"y\": [0.0066, 0.0071, 0.0077, 0.0082, 0.0087, 0.0092, 0.0096, 0.01, 0.0104, 0.0106, 0.0109, 0.011, 0.0112, 0.0112, 0.0113, 0.0112, 0.0112, 0.0111, 0.011, 0.0109, 0.0107, 0.0106, 0.0104, 0.0102, 0.0101, 0.0099, 0.0098, 0.0096, 0.0095, 0.0094, 0.0093, 0.0092, 0.0091, 0.009, 0.009, 0.0089, 0.0089, 0.0089, 0.0089, 0.0088, 0.0088, 0.0088, 0.0088, 0.0089, 0.0089, 0.0089, 0.0089, 0.0089, 0.0089, 0.0088, 0.0088, 0.0088, 0.0088, 0.0087, 0.0087, 0.0087, 0.0086, 0.0086, 0.0085, 0.0085, 0.0084, 0.0083, 0.0083, 0.0082, 0.0081, 0.0081, 0.008, 0.0079, 0.0079, 0.0078, 0.0077, 0.0076, 0.0076, 0.0075, 0.0074, 0.0073, 0.0073, 0.0072, 0.0071, 0.007, 0.0069, 0.0068, 0.0068, 0.0067, 0.0066, 0.0065, 0.0064, 0.0063, 0.0062, 0.0061, 0.006, 0.0059, 0.0058, 0.0057, 0.0056, 0.0055, 0.0054, 0.0053, 0.0052, 0.0051, 0.005, 0.0049, 0.0048, 0.0048, 0.0047, 0.0046, 0.0045, 0.0044, 0.0044, 0.0043, 0.0042, 0.0042, 0.0041, 0.004, 0.0039, 0.0039, 0.0038, 0.0037, 0.0037, 0.0036, 0.0035, 0.0035, 0.0034, 0.0033, 0.0033, 0.0032, 0.0031, 0.0031, 0.003, 0.003, 0.0029, 0.0029, 0.0028, 0.0028, 0.0027, 0.0027, 0.0027, 0.0026, 0.0026, 0.0025, 0.0025, 0.0025, 0.0024, 0.0024, 0.0024, 0.0023, 0.0023, 0.0022, 0.0022, 0.0022, 0.0021, 0.0021, 0.0021, 0.002, 0.002, 0.0019, 0.0019, 0.0019, 0.0018, 0.0018, 0.0018, 0.0017, 0.0017, 0.0017, 0.0016, 0.0016, 0.0015, 0.0015, 0.0015, 0.0015, 0.0014, 0.0014, 0.0014, 0.0013, 0.0013, 0.0013, 0.0012, 0.0012, 0.0012, 0.0011, 0.0011, 0.0011, 0.0011, 0.001, 0.001, 0.001, 0.001, 0.001, 0.0009, 0.0009, 0.0009, 0.0009, 0.0009, 0.0009, 0.0008, 0.0008, 0.0008, 0.0008, 0.0008, 0.0008, 0.0008, 0.0008, 0.0007, 0.0007, 0.0007, 0.0007, 0.0007, 0.0007, 0.0006, 0.0006, 0.0006, 0.0006, 0.0006, 0.0006, 0.0005, 0.0005, 0.0005, 0.0005, 0.0005, 0.0005, 0.0005, 0.0004, 0.0004, 0.0004, 0.0004, 0.0004, 0.0004, 0.0004, 0.0004, 0.0004, 0.0004, 0.0004, 0.0004, 0.0004], \"type\": \"scatter\"}, {\"hovertemplate\": \"Compensation: %{x}\", \"line\": {\"dash\": \"dashdot\"}, \"name\": \"2020\", \"x\": [0.2, 1.0, 1.7, 2.5, 3.3, 4.0, 4.8, 5.6, 6.4, 7.1, 7.9, 8.7, 9.4, 10.2, 11.0, 11.8, 12.5, 13.3, 14.1, 14.8, 15.6, 16.4, 17.1, 17.9, 18.7, 19.5, 20.2, 21.0, 21.8, 22.5, 23.3, 24.1, 24.9, 25.6, 26.4, 27.2, 27.9, 28.7, 29.5, 30.3, 31.0, 31.8, 32.6, 33.3, 34.1, 34.9, 35.6, 36.4, 37.2, 38.0, 38.7, 39.5, 40.3, 41.0, 41.8, 42.6, 43.4, 44.1, 44.9, 45.7, 46.4, 47.2, 48.0, 48.8, 49.5, 50.3, 51.1, 51.8, 52.6, 53.4, 54.1, 54.9, 55.7, 56.5, 57.2, 58.0, 58.8, 59.5, 60.3, 61.1, 61.9, 62.6, 63.4, 64.2, 64.9, 65.7, 66.5, 67.2, 68.0, 68.8, 69.6, 70.3, 71.1, 71.9, 72.6, 73.4, 74.2, 75.0, 75.7, 76.5, 77.3, 78.0, 78.8, 79.6, 80.4, 81.1, 81.9, 82.7, 83.4, 84.2, 85.0, 85.7, 86.5, 87.3, 88.1, 88.8, 89.6, 90.4, 91.1, 91.9, 92.7, 93.5, 94.2, 95.0, 95.8, 96.5, 97.3, 98.1, 98.9, 99.6, 100.4, 101.2, 101.9, 102.7, 103.5, 104.2, 105.0, 105.8, 106.6, 107.3, 108.1, 108.9, 109.6, 110.4, 111.2, 112.0, 112.7, 113.5, 114.3, 115.0, 115.8, 116.6, 117.3, 118.1, 118.9, 119.7, 120.4, 121.2, 122.0, 122.7, 123.5, 124.3, 125.1, 125.8, 126.6, 127.4, 128.1, 128.9, 129.7, 130.5, 131.2, 132.0, 132.8, 133.5, 134.3, 135.1, 135.8, 136.6, 137.4, 138.2, 138.9, 139.7, 140.5, 141.2, 142.0, 142.8, 143.6, 144.3, 145.1, 145.9, 146.6, 147.4, 148.2, 149.0, 149.7, 150.5, 151.3, 152.0, 152.8, 153.6, 154.3, 155.1, 155.9, 156.7, 157.4, 158.2, 159.0, 159.7, 160.5, 161.3, 162.1, 162.8, 163.6, 164.4, 165.1, 165.9, 166.7, 167.4, 168.2, 169.0, 169.8, 170.5, 171.3, 172.1, 172.8, 173.6, 174.4, 175.2, 175.9, 176.7, 177.5, 178.2, 179.0, 179.8, 180.6, 181.3, 182.1, 182.9, 183.6, 184.4, 185.2, 185.9, 186.7, 187.5, 188.3, 189.0, 189.8, 190.6, 191.3, 192.1, 192.9, 193.7, 194.4, 195.2, 196.0, 196.7, 197.5, 198.3, 199.1, 199.8], \"y\": [0.0067, 0.0072, 0.0077, 0.0082, 0.0087, 0.0091, 0.0095, 0.0099, 0.0103, 0.0106, 0.0108, 0.011, 0.0112, 0.0113, 0.0114, 0.0115, 0.0115, 0.0115, 0.0115, 0.0114, 0.0114, 0.0113, 0.0112, 0.011, 0.0109, 0.0108, 0.0107, 0.0105, 0.0104, 0.0103, 0.0102, 0.0101, 0.01, 0.0099, 0.0098, 0.0097, 0.0096, 0.0096, 0.0095, 0.0095, 0.0095, 0.0094, 0.0094, 0.0094, 0.0094, 0.0093, 0.0093, 0.0093, 0.0093, 0.0093, 0.0093, 0.0092, 0.0092, 0.0092, 0.0092, 0.0091, 0.0091, 0.0091, 0.009, 0.009, 0.0089, 0.0088, 0.0088, 0.0087, 0.0086, 0.0086, 0.0085, 0.0084, 0.0083, 0.0082, 0.0081, 0.008, 0.008, 0.0079, 0.0078, 0.0077, 0.0076, 0.0075, 0.0074, 0.0073, 0.0073, 0.0072, 0.0071, 0.007, 0.0069, 0.0068, 0.0067, 0.0067, 0.0066, 0.0065, 0.0064, 0.0063, 0.0062, 0.0061, 0.0061, 0.006, 0.0059, 0.0058, 0.0057, 0.0056, 0.0055, 0.0055, 0.0054, 0.0053, 0.0052, 0.0051, 0.005, 0.005, 0.0049, 0.0048, 0.0047, 0.0046, 0.0046, 0.0045, 0.0044, 0.0043, 0.0043, 0.0042, 0.0041, 0.0041, 0.004, 0.0039, 0.0039, 0.0038, 0.0038, 0.0037, 0.0036, 0.0036, 0.0035, 0.0035, 0.0034, 0.0034, 0.0033, 0.0033, 0.0032, 0.0032, 0.0031, 0.0031, 0.003, 0.003, 0.0029, 0.0029, 0.0029, 0.0028, 0.0028, 0.0028, 0.0028, 0.0027, 0.0027, 0.0027, 0.0027, 0.0027, 0.0026, 0.0026, 0.0026, 0.0026, 0.0026, 0.0026, 0.0025, 0.0025, 0.0025, 0.0025, 0.0024, 0.0024, 0.0024, 0.0023, 0.0023, 0.0023, 0.0022, 0.0022, 0.0021, 0.0021, 0.002, 0.002, 0.002, 0.0019, 0.0019, 0.0018, 0.0018, 0.0018, 0.0017, 0.0017, 0.0016, 0.0016, 0.0016, 0.0015, 0.0015, 0.0015, 0.0015, 0.0014, 0.0014, 0.0014, 0.0014, 0.0013, 0.0013, 0.0013, 0.0013, 0.0012, 0.0012, 0.0012, 0.0012, 0.0011, 0.0011, 0.0011, 0.0011, 0.0011, 0.001, 0.001, 0.001, 0.001, 0.001, 0.0009, 0.0009, 0.0009, 0.0009, 0.0009, 0.0009, 0.0008, 0.0008, 0.0008, 0.0008, 0.0008, 0.0008, 0.0008, 0.0007, 0.0007, 0.0007, 0.0007, 0.0007, 0.0007, 0.0007, 0.0006, 0.0006, 0.0006, 0.0006, 0.0006, 0.0006, 0.0005, 0.0005, 0.0005, 0.0005, 0.0005, 0.0005, 0.0005, 0.0005, 0.0005, 0.0005, 0.0004, 0.0004, 0.0004, 0.0004, 0.0004, 0.0004, 0.0004, 0.0004, 0.0004, 0.0004, 0.0004, 0.0004, 0.0004], \"type\": \"scatter\"}], \"layout\": {\"template\": {\"data\": {\"barpolar\": [{\"marker\": {\"line\": {\"color\": \"#E5ECF6\", \"width\": 0.5}}, \"type\": \"barpolar\"}], \"bar\": [{\"error_x\": {\"color\": \"#2a3f5f\"}, \"error_y\": {\"color\": \"#2a3f5f\"}, \"marker\": {\"line\": {\"color\": \"#E5ECF6\", \"width\": 0.5}}, \"type\": \"bar\"}], \"carpet\": [{\"aaxis\": {\"endlinecolor\": \"#2a3f5f\", \"gridcolor\": \"white\", \"linecolor\": \"white\", \"minorgridcolor\": \"white\", \"startlinecolor\": \"#2a3f5f\"}, \"baxis\": {\"endlinecolor\": \"#2a3f5f\", \"gridcolor\": \"white\", \"linecolor\": \"white\", \"minorgridcolor\": \"white\", \"startlinecolor\": \"#2a3f5f\"}, \"type\": \"carpet\"}], \"choropleth\": [{\"colorbar\": {\"outlinewidth\": 0, \"ticks\": \"\"}, \"type\": \"choropleth\"}], \"contourcarpet\": [{\"colorbar\": {\"outlinewidth\": 0, \"ticks\": \"\"}, \"type\": \"contourcarpet\"}], \"contour\": [{\"colorbar\": {\"outlinewidth\": 0, \"ticks\": \"\"}, \"colorscale\": [[0.0, \"#0d0887\"], [0.1111111111111111, \"#46039f\"], [0.2222222222222222, \"#7201a8\"], [0.3333333333333333, \"#9c179e\"], [0.4444444444444444, \"#bd3786\"], [0.5555555555555556, \"#d8576b\"], [0.6666666666666666, \"#ed7953\"], [0.7777777777777778, \"#fb9f3a\"], [0.8888888888888888, \"#fdca26\"], [1.0, \"#f0f921\"]], \"type\": \"contour\"}], \"heatmapgl\": [{\"colorbar\": {\"outlinewidth\": 0, \"ticks\": \"\"}, \"colorscale\": [[0.0, \"#0d0887\"], [0.1111111111111111, \"#46039f\"], [0.2222222222222222, \"#7201a8\"], [0.3333333333333333, \"#9c179e\"], [0.4444444444444444, \"#bd3786\"], [0.5555555555555556, \"#d8576b\"], [0.6666666666666666, \"#ed7953\"], [0.7777777777777778, \"#fb9f3a\"], [0.8888888888888888, \"#fdca26\"], [1.0, \"#f0f921\"]], \"type\": \"heatmapgl\"}], \"heatmap\": [{\"colorbar\": {\"outlinewidth\": 0, \"ticks\": \"\"}, \"colorscale\": [[0.0, \"#0d0887\"], [0.1111111111111111, \"#46039f\"], [0.2222222222222222, \"#7201a8\"], [0.3333333333333333, \"#9c179e\"], [0.4444444444444444, \"#bd3786\"], [0.5555555555555556, \"#d8576b\"], [0.6666666666666666, \"#ed7953\"], [0.7777777777777778, \"#fb9f3a\"], [0.8888888888888888, \"#fdca26\"], [1.0, \"#f0f921\"]], \"type\": \"heatmap\"}], \"histogram2dcontour\": [{\"colorbar\": {\"outlinewidth\": 0, \"ticks\": \"\"}, \"colorscale\": [[0.0, \"#0d0887\"], [0.1111111111111111, \"#46039f\"], [0.2222222222222222, \"#7201a8\"], [0.3333333333333333, \"#9c179e\"], [0.4444444444444444, \"#bd3786\"], [0.5555555555555556, \"#d8576b\"], [0.6666666666666666, \"#ed7953\"], [0.7777777777777778, \"#fb9f3a\"], [0.8888888888888888, \"#fdca26\"], [1.0, \"#f0f921\"]], \"type\": \"histogram2dcontour\"}], \"histogram2d\": [{\"colorbar\": {\"outlinewidth\": 0, \"ticks\": \"\"}, \"colorscale\": [[0.0, \"#0d0887\"], [0.1111111111111111, \"#46039f\"], [0.2222222222222222, \"#7201a8\"], [0.3333333333333333, \"#9c179e\"], [0.4444444444444444, \"#bd3786\"], [0.5555555555555556, \"#d8576b\"], [0.6666666666666666, \"#ed7953\"], [0.7777777777777778, \"#fb9f3a\"], [0.8888888888888888, \"#fdca26\"], [1.0, \"#f0f921\"]], \"type\": \"histogram2d\"}], \"histogram\": [{\"marker\": {\"colorbar\": {\"outlinewidth\": 0, \"ticks\": \"\"}}, \"type\": \"histogram\"}], \"mesh3d\": [{\"colorbar\": {\"outlinewidth\": 0, \"ticks\": \"\"}, \"type\": \"mesh3d\"}], \"parcoords\": [{\"line\": {\"colorbar\": {\"outlinewidth\": 0, \"ticks\": \"\"}}, \"type\": \"parcoords\"}], \"pie\": [{\"automargin\": true, \"type\": \"pie\"}], \"scatter3d\": [{\"line\": {\"colorbar\": {\"outlinewidth\": 0, \"ticks\": \"\"}}, \"marker\": {\"colorbar\": {\"outlinewidth\": 0, \"ticks\": \"\"}}, \"type\": \"scatter3d\"}], \"scattercarpet\": [{\"marker\": {\"colorbar\": {\"outlinewidth\": 0, \"ticks\": \"\"}}, \"type\": \"scattercarpet\"}], \"scattergeo\": [{\"marker\": {\"colorbar\": {\"outlinewidth\": 0, \"ticks\": \"\"}}, \"type\": \"scattergeo\"}], \"scattergl\": [{\"marker\": {\"colorbar\": {\"outlinewidth\": 0, \"ticks\": \"\"}}, \"type\": \"scattergl\"}], \"scattermapbox\": [{\"marker\": {\"colorbar\": {\"outlinewidth\": 0, \"ticks\": \"\"}}, \"type\": \"scattermapbox\"}], \"scatterpolargl\": [{\"marker\": {\"colorbar\": {\"outlinewidth\": 0, \"ticks\": \"\"}}, \"type\": \"scatterpolargl\"}], \"scatterpolar\": [{\"marker\": {\"colorbar\": {\"outlinewidth\": 0, \"ticks\": \"\"}}, \"type\": \"scatterpolar\"}], \"scatter\": [{\"marker\": {\"colorbar\": {\"outlinewidth\": 0, \"ticks\": \"\"}}, \"type\": \"scatter\"}], \"scatterternary\": [{\"marker\": {\"colorbar\": {\"outlinewidth\": 0, \"ticks\": \"\"}}, \"type\": \"scatterternary\"}], \"surface\": [{\"colorbar\": {\"outlinewidth\": 0, \"ticks\": \"\"}, \"colorscale\": [[0.0, \"#0d0887\"], [0.1111111111111111, \"#46039f\"], [0.2222222222222222, \"#7201a8\"], [0.3333333333333333, \"#9c179e\"], [0.4444444444444444, \"#bd3786\"], [0.5555555555555556, \"#d8576b\"], [0.6666666666666666, \"#ed7953\"], [0.7777777777777778, \"#fb9f3a\"], [0.8888888888888888, \"#fdca26\"], [1.0, \"#f0f921\"]], \"type\": \"surface\"}], \"table\": [{\"cells\": {\"fill\": {\"color\": \"#EBF0F8\"}, \"line\": {\"color\": \"white\"}}, \"header\": {\"fill\": {\"color\": \"#C8D4E3\"}, \"line\": {\"color\": \"white\"}}, \"type\": \"table\"}]}, \"layout\": {\"annotationdefaults\": {\"arrowcolor\": \"#2a3f5f\", \"arrowhead\": 0, \"arrowwidth\": 1}, \"coloraxis\": {\"colorbar\": {\"outlinewidth\": 0, \"ticks\": \"\"}}, \"colorscale\": {\"diverging\": [[0, \"#8e0152\"], [0.1, \"#c51b7d\"], [0.2, \"#de77ae\"], [0.3, \"#f1b6da\"], [0.4, \"#fde0ef\"], [0.5, \"#f7f7f7\"], [0.6, \"#e6f5d0\"], [0.7, \"#b8e186\"], [0.8, \"#7fbc41\"], [0.9, \"#4d9221\"], [1, \"#276419\"]], \"sequential\": [[0.0, \"#0d0887\"], [0.1111111111111111, \"#46039f\"], [0.2222222222222222, \"#7201a8\"], [0.3333333333333333, \"#9c179e\"], [0.4444444444444444, \"#bd3786\"], [0.5555555555555556, \"#d8576b\"], [0.6666666666666666, \"#ed7953\"], [0.7777777777777778, \"#fb9f3a\"], [0.8888888888888888, \"#fdca26\"], [1.0, \"#f0f921\"]], \"sequentialminus\": [[0.0, \"#0d0887\"], [0.1111111111111111, \"#46039f\"], [0.2222222222222222, \"#7201a8\"], [0.3333333333333333, \"#9c179e\"], [0.4444444444444444, \"#bd3786\"], [0.5555555555555556, \"#d8576b\"], [0.6666666666666666, \"#ed7953\"], [0.7777777777777778, \"#fb9f3a\"], [0.8888888888888888, \"#fdca26\"], [1.0, \"#f0f921\"]]}, \"colorway\": [\"#636efa\", \"#EF553B\", \"#00cc96\", \"#ab63fa\", \"#FFA15A\", \"#19d3f3\", \"#FF6692\", \"#B6E880\", \"#FF97FF\", \"#FECB52\"], \"font\": {\"color\": \"#2a3f5f\"}, \"geo\": {\"bgcolor\": \"white\", \"lakecolor\": \"white\", \"landcolor\": \"#E5ECF6\", \"showlakes\": true, \"showland\": true, \"subunitcolor\": \"white\"}, \"hoverlabel\": {\"align\": \"left\"}, \"hovermode\": \"closest\", \"mapbox\": {\"style\": \"light\"}, \"paper_bgcolor\": \"white\", \"plot_bgcolor\": \"#E5ECF6\", \"polar\": {\"angularaxis\": {\"gridcolor\": \"white\", \"linecolor\": \"white\", \"ticks\": \"\"}, \"bgcolor\": \"#E5ECF6\", \"radialaxis\": {\"gridcolor\": \"white\", \"linecolor\": \"white\", \"ticks\": \"\"}}, \"scene\": {\"xaxis\": {\"backgroundcolor\": \"#E5ECF6\", \"gridcolor\": \"white\", \"gridwidth\": 2, \"linecolor\": \"white\", \"showbackground\": true, \"ticks\": \"\", \"zerolinecolor\": \"white\"}, \"yaxis\": {\"backgroundcolor\": \"#E5ECF6\", \"gridcolor\": \"white\", \"gridwidth\": 2, \"linecolor\": \"white\", \"showbackground\": true, \"ticks\": \"\", \"zerolinecolor\": \"white\"}, \"zaxis\": {\"backgroundcolor\": \"#E5ECF6\", \"gridcolor\": \"white\", \"gridwidth\": 2, \"linecolor\": \"white\", \"showbackground\": true, \"ticks\": \"\", \"zerolinecolor\": \"white\"}}, \"shapedefaults\": {\"line\": {\"color\": \"#2a3f5f\"}}, \"ternary\": {\"aaxis\": {\"gridcolor\": \"white\", \"linecolor\": \"white\", \"ticks\": \"\"}, \"baxis\": {\"gridcolor\": \"white\", \"linecolor\": \"white\", \"ticks\": \"\"}, \"bgcolor\": \"#E5ECF6\", \"caxis\": {\"gridcolor\": \"white\", \"linecolor\": \"white\", \"ticks\": \"\"}}, \"title\": {\"x\": 0.05}, \"xaxis\": {\"automargin\": true, \"gridcolor\": \"white\", \"linecolor\": \"white\", \"ticks\": \"\", \"title\": {\"standoff\": 15}, \"zerolinecolor\": \"white\", \"zerolinewidth\": 2}, \"yaxis\": {\"automargin\": true, \"gridcolor\": \"white\", \"linecolor\": \"white\", \"ticks\": \"\", \"title\": {\"standoff\": 15}, \"zerolinecolor\": \"white\", \"zerolinewidth\": 2}}}, \"title\": {\"text\": \"Annual Compensation Density Estimation:<br>Frontend\", \"x\": 0.5, \"xanchor\": \"center\", \"yanchor\": \"top\"}, \"xaxis\": {\"ticksuffix\": \"k\", \"title\": {\"text\": \"Compensation (USD)\"}}, \"yaxis\": {\"range\": [0, 0.012], \"tickcolor\": \"white\", \"ticklen\": 8, \"ticks\": \"outside\", \"title\": {\"text\": \"Probability Density\"}, \"zeroline\": false}}, \"name\": \"Developer, front-end\"}, {\"data\": [{\"hovertemplate\": \"Compensation: %{x}\", \"line\": {\"dash\": \"longdashdot\"}, \"name\": \"2018\", \"x\": [0.2, 0.9, 1.5, 2.2, 2.9, 3.6, 4.3, 4.9, 5.6, 6.3, 7.0, 7.7, 8.3, 9.0, 9.7, 10.4, 11.1, 11.7, 12.4, 13.1, 13.8, 14.5, 15.1, 15.8, 16.5, 17.2, 17.9, 18.5, 19.2, 19.9, 20.6, 21.3, 21.9, 22.6, 23.3, 24.0, 24.7, 25.3, 26.0, 26.7, 27.4, 28.1, 28.7, 29.4, 30.1, 30.8, 31.5, 32.1, 32.8, 33.5, 34.2, 34.9, 35.5, 36.2, 36.9, 37.6, 38.3, 38.9, 39.6, 40.3, 41.0, 41.7, 42.3, 43.0, 43.7, 44.4, 45.1, 45.7, 46.4, 47.1, 47.8, 48.5, 49.1, 49.8, 50.5, 51.2, 51.9, 52.5, 53.2, 53.9, 54.6, 55.3, 55.9, 56.6, 57.3, 58.0, 58.7, 59.3, 60.0, 60.7, 61.4, 62.1, 62.7, 63.4, 64.1, 64.8, 65.5, 66.1, 66.8, 67.5, 68.2, 68.9, 69.5, 70.2, 70.9, 71.6, 72.3, 72.9, 73.6, 74.3, 75.0, 75.7, 76.3, 77.0, 77.7, 78.4, 79.1, 79.7, 80.4, 81.1, 81.8, 82.5, 83.1, 83.8, 84.5, 85.2, 85.9, 86.5, 87.2, 87.9, 88.6, 89.3, 89.9, 90.6, 91.3, 92.0, 92.7, 93.3, 94.0, 94.7, 95.4, 96.1, 96.7, 97.4, 98.1, 98.8, 99.5, 100.1, 100.8, 101.5, 102.2, 102.9, 103.5, 104.2, 104.9, 105.6, 106.3, 106.9, 107.6, 108.3, 109.0, 109.7, 110.3, 111.0, 111.7, 112.4, 113.1, 113.7, 114.4, 115.1, 115.8, 116.5, 117.1, 117.8, 118.5, 119.2, 119.9, 120.5, 121.2, 121.9, 122.6, 123.3, 123.9, 124.6, 125.3, 126.0, 126.7, 127.3, 128.0, 128.7, 129.4, 130.1, 130.7, 131.4, 132.1, 132.8, 133.5, 134.1, 134.8, 135.5, 136.2, 136.9, 137.5, 138.2, 138.9, 139.6, 140.3, 140.9, 141.6, 142.3, 143.0, 143.7, 144.3, 145.0, 145.7, 146.4, 147.1, 147.7, 148.4, 149.1, 149.8, 150.5, 151.1, 151.8, 152.5, 153.2, 153.9, 154.5, 155.2, 155.9, 156.6, 157.3, 157.9, 158.6, 159.3, 160.0, 160.7, 161.3, 162.0, 162.7, 163.4, 164.1, 164.7, 165.4, 166.1, 166.8, 167.5, 168.1, 168.8, 169.5, 170.2, 170.9, 171.5, 172.2, 172.9, 173.6, 174.3, 174.9, 175.6, 176.3, 177.0, 177.7, 178.3, 179.0, 179.7, 180.4, 181.1, 181.7, 182.4, 183.1, 183.8, 184.5, 185.1, 185.8, 186.5, 187.2, 187.9, 188.5, 189.2, 189.9, 190.6, 191.3, 191.9, 192.6, 193.3, 194.0, 194.7, 195.3, 196.0, 196.7, 197.4, 198.1, 198.7, 199.4], \"y\": [0.0053, 0.0057, 0.0062, 0.0066, 0.007, 0.0073, 0.0077, 0.008, 0.0082, 0.0085, 0.0087, 0.0089, 0.009, 0.0091, 0.0092, 0.0092, 0.0092, 0.0092, 0.0092, 0.0091, 0.0091, 0.009, 0.0089, 0.0088, 0.0087, 0.0086, 0.0086, 0.0085, 0.0084, 0.0083, 0.0083, 0.0082, 0.0081, 0.0081, 0.0081, 0.008, 0.008, 0.008, 0.008, 0.008, 0.008, 0.008, 0.008, 0.008, 0.0081, 0.0081, 0.0081, 0.0081, 0.0082, 0.0082, 0.0082, 0.0083, 0.0083, 0.0083, 0.0084, 0.0084, 0.0084, 0.0085, 0.0085, 0.0085, 0.0086, 0.0086, 0.0086, 0.0087, 0.0087, 0.0087, 0.0087, 0.0088, 0.0088, 0.0088, 0.0088, 0.0088, 0.0088, 0.0089, 0.0089, 0.0089, 0.0089, 0.0089, 0.0088, 0.0088, 0.0088, 0.0088, 0.0088, 0.0088, 0.0088, 0.0088, 0.0088, 0.0087, 0.0087, 0.0087, 0.0086, 0.0086, 0.0086, 0.0085, 0.0085, 0.0084, 0.0084, 0.0083, 0.0082, 0.0082, 0.0081, 0.008, 0.008, 0.0079, 0.0078, 0.0078, 0.0077, 0.0076, 0.0075, 0.0075, 0.0074, 0.0073, 0.0072, 0.0071, 0.007, 0.0069, 0.0068, 0.0067, 0.0066, 0.0065, 0.0064, 0.0063, 0.0062, 0.0062, 0.0061, 0.006, 0.0059, 0.0058, 0.0057, 0.0057, 0.0056, 0.0055, 0.0055, 0.0054, 0.0053, 0.0053, 0.0052, 0.0052, 0.0052, 0.0051, 0.0051, 0.0051, 0.005, 0.005, 0.0049, 0.0049, 0.0048, 0.0048, 0.0047, 0.0047, 0.0046, 0.0046, 0.0045, 0.0044, 0.0044, 0.0043, 0.0042, 0.0042, 0.0041, 0.004, 0.004, 0.0039, 0.0039, 0.0038, 0.0038, 0.0038, 0.0037, 0.0037, 0.0037, 0.0036, 0.0036, 0.0036, 0.0036, 0.0035, 0.0035, 0.0035, 0.0035, 0.0034, 0.0034, 0.0034, 0.0033, 0.0033, 0.0032, 0.0031, 0.0031, 0.003, 0.0029, 0.0029, 0.0028, 0.0027, 0.0027, 0.0026, 0.0025, 0.0025, 0.0024, 0.0023, 0.0023, 0.0022, 0.0022, 0.0021, 0.0021, 0.002, 0.002, 0.002, 0.0019, 0.0019, 0.0019, 0.0019, 0.0018, 0.0018, 0.0018, 0.0018, 0.0018, 0.0017, 0.0017, 0.0017, 0.0017, 0.0016, 0.0016, 0.0016, 0.0016, 0.0015, 0.0015, 0.0015, 0.0014, 0.0014, 0.0013, 0.0013, 0.0013, 0.0012, 0.0012, 0.0011, 0.0011, 0.0011, 0.001, 0.001, 0.001, 0.0009, 0.0009, 0.0009, 0.0009, 0.0008, 0.0008, 0.0008, 0.0008, 0.0008, 0.0007, 0.0007, 0.0007, 0.0007, 0.0007, 0.0007, 0.0007, 0.0007, 0.0007, 0.0007, 0.0006, 0.0006, 0.0006, 0.0006, 0.0006, 0.0006, 0.0006, 0.0006, 0.0006, 0.0006, 0.0005, 0.0005, 0.0005, 0.0005, 0.0005, 0.0005, 0.0005, 0.0004, 0.0004, 0.0004, 0.0004, 0.0004, 0.0004, 0.0004, 0.0004, 0.0004, 0.0004, 0.0004, 0.0004, 0.0004, 0.0004, 0.0004, 0.0004, 0.0004, 0.0004, 0.0004, 0.0003, 0.0003], \"type\": \"scatter\"}, {\"hovertemplate\": \"Compensation: %{x}\", \"line\": {\"dash\": \"dash\"}, \"name\": \"2019\", \"x\": [0.2, 1.1, 2.0, 2.8, 3.7, 4.6, 5.4, 6.3, 7.2, 8.0, 8.9, 9.8, 10.6, 11.5, 12.4, 13.2, 14.1, 15.0, 15.8, 16.7, 17.6, 18.5, 19.3, 20.2, 21.1, 21.9, 22.8, 23.7, 24.5, 25.4, 26.3, 27.1, 28.0, 28.9, 29.7, 30.6, 31.5, 32.3, 33.2, 34.1, 35.0, 35.8, 36.7, 37.6, 38.4, 39.3, 40.2, 41.0, 41.9, 42.8, 43.6, 44.5, 45.4, 46.2, 47.1, 48.0, 48.8, 49.7, 50.6, 51.4, 52.3, 53.2, 54.1, 54.9, 55.8, 56.7, 57.5, 58.4, 59.3, 60.1, 61.0, 61.9, 62.7, 63.6, 64.5, 65.3, 66.2, 67.1, 67.9, 68.8, 69.7, 70.6, 71.4, 72.3, 73.2, 74.0, 74.9, 75.8, 76.6, 77.5, 78.4, 79.2, 80.1, 81.0, 81.8, 82.7, 83.6, 84.4, 85.3, 86.2, 87.1, 87.9, 88.8, 89.7, 90.5, 91.4, 92.3, 93.1, 94.0, 94.9, 95.7, 96.6, 97.5, 98.3, 99.2, 100.1, 100.9, 101.8, 102.7, 103.6, 104.4, 105.3, 106.2, 107.0, 107.9, 108.8, 109.6, 110.5, 111.4, 112.2, 113.1, 114.0, 114.8, 115.7, 116.6, 117.4, 118.3, 119.2, 120.0, 120.9, 121.8, 122.7, 123.5, 124.4, 125.3, 126.1, 127.0, 127.9, 128.7, 129.6, 130.5, 131.3, 132.2, 133.1, 133.9, 134.8, 135.7, 136.5, 137.4, 138.3, 139.2, 140.0, 140.9, 141.8, 142.6, 143.5, 144.4, 145.2, 146.1, 147.0, 147.8, 148.7, 149.6, 150.4, 151.3, 152.2, 153.0, 153.9, 154.8, 155.7, 156.5, 157.4, 158.3, 159.1, 160.0, 160.9, 161.7, 162.6, 163.5, 164.3, 165.2, 166.1, 166.9, 167.8, 168.7, 169.5, 170.4, 171.3, 172.2, 173.0, 173.9, 174.8, 175.6, 176.5, 177.4, 178.2, 179.1, 180.0, 180.8, 181.7, 182.6, 183.4, 184.3, 185.2, 186.0, 186.9, 187.8, 188.6, 189.5, 190.4, 191.3, 192.1, 193.0, 193.9, 194.7, 195.6, 196.5, 197.3, 198.2, 199.1, 199.9], \"y\": [0.0055, 0.006, 0.0065, 0.007, 0.0074, 0.0079, 0.0083, 0.0087, 0.009, 0.0092, 0.0095, 0.0096, 0.0098, 0.0099, 0.0099, 0.0099, 0.0099, 0.0099, 0.0098, 0.0097, 0.0096, 0.0095, 0.0094, 0.0093, 0.0092, 0.0091, 0.009, 0.0089, 0.0088, 0.0088, 0.0087, 0.0087, 0.0086, 0.0086, 0.0086, 0.0086, 0.0085, 0.0085, 0.0085, 0.0085, 0.0085, 0.0085, 0.0086, 0.0086, 0.0086, 0.0086, 0.0086, 0.0086, 0.0086, 0.0086, 0.0086, 0.0085, 0.0085, 0.0085, 0.0085, 0.0084, 0.0084, 0.0084, 0.0084, 0.0083, 0.0083, 0.0082, 0.0082, 0.0082, 0.0081, 0.0081, 0.008, 0.008, 0.0079, 0.0079, 0.0078, 0.0078, 0.0077, 0.0077, 0.0076, 0.0075, 0.0075, 0.0074, 0.0073, 0.0073, 0.0072, 0.0071, 0.007, 0.0069, 0.0068, 0.0067, 0.0066, 0.0065, 0.0065, 0.0064, 0.0063, 0.0062, 0.0061, 0.006, 0.0059, 0.0058, 0.0057, 0.0056, 0.0055, 0.0054, 0.0053, 0.0052, 0.0051, 0.0051, 0.005, 0.0049, 0.0048, 0.0048, 0.0047, 0.0046, 0.0045, 0.0045, 0.0044, 0.0043, 0.0043, 0.0042, 0.0041, 0.004, 0.0039, 0.0039, 0.0038, 0.0037, 0.0036, 0.0036, 0.0035, 0.0034, 0.0034, 0.0033, 0.0033, 0.0032, 0.0032, 0.0031, 0.0031, 0.0031, 0.003, 0.003, 0.003, 0.0029, 0.0029, 0.0029, 0.0028, 0.0028, 0.0028, 0.0027, 0.0027, 0.0026, 0.0026, 0.0026, 0.0025, 0.0025, 0.0024, 0.0024, 0.0023, 0.0023, 0.0022, 0.0022, 0.0021, 0.0021, 0.0021, 0.002, 0.002, 0.0019, 0.0019, 0.0019, 0.0018, 0.0018, 0.0018, 0.0017, 0.0017, 0.0017, 0.0017, 0.0016, 0.0016, 0.0016, 0.0015, 0.0015, 0.0015, 0.0014, 0.0014, 0.0014, 0.0013, 0.0013, 0.0013, 0.0012, 0.0012, 0.0012, 0.0012, 0.0011, 0.0011, 0.0011, 0.0011, 0.001, 0.001, 0.001, 0.001, 0.001, 0.0009, 0.0009, 0.0009, 0.0009, 0.0009, 0.0009, 0.0008, 0.0008, 0.0008, 0.0008, 0.0008, 0.0008, 0.0007, 0.0007, 0.0007, 0.0007, 0.0007, 0.0006, 0.0006, 0.0006, 0.0006, 0.0006, 0.0006, 0.0005, 0.0005, 0.0005, 0.0005, 0.0005, 0.0005, 0.0005, 0.0005, 0.0005, 0.0005, 0.0005, 0.0005], \"type\": \"scatter\"}, {\"hovertemplate\": \"Compensation: %{x}\", \"line\": {\"dash\": \"dashdot\"}, \"name\": \"2020\", \"x\": [0.2, 1.0, 1.7, 2.5, 3.3, 4.1, 4.8, 5.6, 6.4, 7.1, 7.9, 8.7, 9.5, 10.2, 11.0, 11.8, 12.5, 13.3, 14.1, 14.9, 15.6, 16.4, 17.2, 17.9, 18.7, 19.5, 20.3, 21.0, 21.8, 22.6, 23.3, 24.1, 24.9, 25.7, 26.4, 27.2, 28.0, 28.7, 29.5, 30.3, 31.1, 31.8, 32.6, 33.4, 34.1, 34.9, 35.7, 36.5, 37.2, 38.0, 38.8, 39.5, 40.3, 41.1, 41.9, 42.6, 43.4, 44.2, 44.9, 45.7, 46.5, 47.3, 48.0, 48.8, 49.6, 50.3, 51.1, 51.9, 52.7, 53.4, 54.2, 55.0, 55.7, 56.5, 57.3, 58.1, 58.8, 59.6, 60.4, 61.1, 61.9, 62.7, 63.5, 64.2, 65.0, 65.8, 66.5, 67.3, 68.1, 68.9, 69.6, 70.4, 71.2, 71.9, 72.7, 73.5, 74.3, 75.0, 75.8, 76.6, 77.3, 78.1, 78.9, 79.7, 80.4, 81.2, 82.0, 82.7, 83.5, 84.3, 85.1, 85.8, 86.6, 87.4, 88.1, 88.9, 89.7, 90.5, 91.2, 92.0, 92.8, 93.5, 94.3, 95.1, 95.9, 96.6, 97.4, 98.2, 98.9, 99.7, 100.5, 101.3, 102.0, 102.8, 103.6, 104.3, 105.1, 105.9, 106.7, 107.4, 108.2, 109.0, 109.7, 110.5, 111.3, 112.1, 112.8, 113.6, 114.4, 115.1, 115.9, 116.7, 117.5, 118.2, 119.0, 119.8, 120.5, 121.3, 122.1, 122.9, 123.6, 124.4, 125.2, 125.9, 126.7, 127.5, 128.3, 129.0, 129.8, 130.6, 131.3, 132.1, 132.9, 133.7, 134.4, 135.2, 136.0, 136.7, 137.5, 138.3, 139.1, 139.8, 140.6, 141.4, 142.1, 142.9, 143.7, 144.5, 145.2, 146.0, 146.8, 147.5, 148.3, 149.1, 149.9, 150.6, 151.4, 152.2, 152.9, 153.7, 154.5, 155.3, 156.0, 156.8, 157.6, 158.3, 159.1, 159.9, 160.7, 161.4, 162.2, 163.0, 163.7, 164.5, 165.3, 166.1, 166.8, 167.6, 168.4, 169.1, 169.9, 170.7, 171.5, 172.2, 173.0, 173.8, 174.5, 175.3, 176.1, 176.9, 177.6, 178.4, 179.2, 179.9, 180.7, 181.5, 182.3, 183.0, 183.8, 184.6, 185.3, 186.1, 186.9, 187.7, 188.4, 189.2, 190.0, 190.7, 191.5, 192.3, 193.1, 193.8, 194.6, 195.4, 196.1, 196.9, 197.7, 198.5, 199.2], \"y\": [0.0054, 0.0059, 0.0064, 0.0068, 0.0073, 0.0077, 0.0081, 0.0084, 0.0088, 0.0091, 0.0093, 0.0096, 0.0097, 0.0099, 0.01, 0.0101, 0.0101, 0.0102, 0.0102, 0.0101, 0.0101, 0.01, 0.01, 0.0099, 0.0098, 0.0097, 0.0096, 0.0095, 0.0094, 0.0094, 0.0093, 0.0092, 0.0091, 0.0091, 0.009, 0.009, 0.0089, 0.0089, 0.0089, 0.0089, 0.0088, 0.0088, 0.0088, 0.0088, 0.0088, 0.0089, 0.0089, 0.0089, 0.0089, 0.0089, 0.0089, 0.0089, 0.0089, 0.0089, 0.0089, 0.0089, 0.0089, 0.0089, 0.0088, 0.0088, 0.0088, 0.0088, 0.0087, 0.0087, 0.0086, 0.0086, 0.0086, 0.0085, 0.0085, 0.0084, 0.0083, 0.0083, 0.0082, 0.0082, 0.0081, 0.0081, 0.008, 0.008, 0.0079, 0.0078, 0.0078, 0.0077, 0.0076, 0.0076, 0.0075, 0.0074, 0.0073, 0.0073, 0.0072, 0.0071, 0.007, 0.0069, 0.0068, 0.0068, 0.0067, 0.0066, 0.0065, 0.0064, 0.0063, 0.0062, 0.0061, 0.006, 0.0059, 0.0058, 0.0057, 0.0057, 0.0056, 0.0055, 0.0054, 0.0053, 0.0052, 0.0051, 0.005, 0.0049, 0.0049, 0.0048, 0.0047, 0.0046, 0.0046, 0.0045, 0.0044, 0.0044, 0.0043, 0.0043, 0.0042, 0.0041, 0.0041, 0.004, 0.004, 0.0039, 0.0039, 0.0038, 0.0038, 0.0037, 0.0037, 0.0037, 0.0036, 0.0036, 0.0035, 0.0035, 0.0034, 0.0034, 0.0033, 0.0033, 0.0033, 0.0032, 0.0032, 0.0032, 0.0031, 0.0031, 0.0031, 0.0031, 0.003, 0.003, 0.003, 0.0029, 0.0029, 0.0029, 0.0029, 0.0028, 0.0028, 0.0028, 0.0027, 0.0027, 0.0026, 0.0026, 0.0026, 0.0025, 0.0025, 0.0024, 0.0024, 0.0024, 0.0023, 0.0023, 0.0022, 0.0022, 0.0021, 0.0021, 0.0021, 0.002, 0.002, 0.002, 0.0019, 0.0019, 0.0019, 0.0018, 0.0018, 0.0018, 0.0017, 0.0017, 0.0017, 0.0017, 0.0016, 0.0016, 0.0016, 0.0016, 0.0016, 0.0015, 0.0015, 0.0015, 0.0015, 0.0014, 0.0014, 0.0014, 0.0014, 0.0013, 0.0013, 0.0013, 0.0013, 0.0012, 0.0012, 0.0012, 0.0012, 0.0011, 0.0011, 0.0011, 0.0011, 0.001, 0.001, 0.001, 0.001, 0.001, 0.0009, 0.0009, 0.0009, 0.0009, 0.0009, 0.0009, 0.0008, 0.0008, 0.0008, 0.0008, 0.0008, 0.0007, 0.0007, 0.0007, 0.0007, 0.0007, 0.0007, 0.0006, 0.0006, 0.0006, 0.0006, 0.0006, 0.0006, 0.0006, 0.0005, 0.0005, 0.0005, 0.0005, 0.0005, 0.0005, 0.0005, 0.0005, 0.0005, 0.0005, 0.0005, 0.0005, 0.0005], \"type\": \"scatter\"}], \"layout\": {\"template\": {\"data\": {\"barpolar\": [{\"marker\": {\"line\": {\"color\": \"#E5ECF6\", \"width\": 0.5}}, \"type\": \"barpolar\"}], \"bar\": [{\"error_x\": {\"color\": \"#2a3f5f\"}, \"error_y\": {\"color\": \"#2a3f5f\"}, \"marker\": {\"line\": {\"color\": \"#E5ECF6\", \"width\": 0.5}}, \"type\": \"bar\"}], \"carpet\": [{\"aaxis\": {\"endlinecolor\": \"#2a3f5f\", \"gridcolor\": \"white\", \"linecolor\": \"white\", \"minorgridcolor\": \"white\", \"startlinecolor\": \"#2a3f5f\"}, \"baxis\": {\"endlinecolor\": \"#2a3f5f\", \"gridcolor\": \"white\", \"linecolor\": \"white\", \"minorgridcolor\": \"white\", \"startlinecolor\": \"#2a3f5f\"}, \"type\": \"carpet\"}], \"choropleth\": [{\"colorbar\": {\"outlinewidth\": 0, \"ticks\": \"\"}, \"type\": \"choropleth\"}], \"contourcarpet\": [{\"colorbar\": {\"outlinewidth\": 0, \"ticks\": \"\"}, \"type\": \"contourcarpet\"}], \"contour\": [{\"colorbar\": {\"outlinewidth\": 0, \"ticks\": \"\"}, \"colorscale\": [[0.0, \"#0d0887\"], [0.1111111111111111, \"#46039f\"], [0.2222222222222222, \"#7201a8\"], [0.3333333333333333, \"#9c179e\"], [0.4444444444444444, \"#bd3786\"], [0.5555555555555556, \"#d8576b\"], [0.6666666666666666, \"#ed7953\"], [0.7777777777777778, \"#fb9f3a\"], [0.8888888888888888, \"#fdca26\"], [1.0, \"#f0f921\"]], \"type\": \"contour\"}], \"heatmapgl\": [{\"colorbar\": {\"outlinewidth\": 0, \"ticks\": \"\"}, \"colorscale\": [[0.0, \"#0d0887\"], [0.1111111111111111, \"#46039f\"], [0.2222222222222222, \"#7201a8\"], [0.3333333333333333, \"#9c179e\"], [0.4444444444444444, \"#bd3786\"], [0.5555555555555556, \"#d8576b\"], [0.6666666666666666, \"#ed7953\"], [0.7777777777777778, \"#fb9f3a\"], [0.8888888888888888, \"#fdca26\"], [1.0, \"#f0f921\"]], \"type\": \"heatmapgl\"}], \"heatmap\": [{\"colorbar\": {\"outlinewidth\": 0, \"ticks\": \"\"}, \"colorscale\": [[0.0, \"#0d0887\"], [0.1111111111111111, \"#46039f\"], [0.2222222222222222, \"#7201a8\"], [0.3333333333333333, \"#9c179e\"], [0.4444444444444444, \"#bd3786\"], [0.5555555555555556, \"#d8576b\"], [0.6666666666666666, \"#ed7953\"], [0.7777777777777778, \"#fb9f3a\"], [0.8888888888888888, \"#fdca26\"], [1.0, \"#f0f921\"]], \"type\": \"heatmap\"}], \"histogram2dcontour\": [{\"colorbar\": {\"outlinewidth\": 0, \"ticks\": \"\"}, \"colorscale\": [[0.0, \"#0d0887\"], [0.1111111111111111, \"#46039f\"], [0.2222222222222222, \"#7201a8\"], [0.3333333333333333, \"#9c179e\"], [0.4444444444444444, \"#bd3786\"], [0.5555555555555556, \"#d8576b\"], [0.6666666666666666, \"#ed7953\"], [0.7777777777777778, \"#fb9f3a\"], [0.8888888888888888, \"#fdca26\"], [1.0, \"#f0f921\"]], \"type\": \"histogram2dcontour\"}], \"histogram2d\": [{\"colorbar\": {\"outlinewidth\": 0, \"ticks\": \"\"}, \"colorscale\": [[0.0, \"#0d0887\"], [0.1111111111111111, \"#46039f\"], [0.2222222222222222, \"#7201a8\"], [0.3333333333333333, \"#9c179e\"], [0.4444444444444444, \"#bd3786\"], [0.5555555555555556, \"#d8576b\"], [0.6666666666666666, \"#ed7953\"], [0.7777777777777778, \"#fb9f3a\"], [0.8888888888888888, \"#fdca26\"], [1.0, \"#f0f921\"]], \"type\": \"histogram2d\"}], \"histogram\": [{\"marker\": {\"colorbar\": {\"outlinewidth\": 0, \"ticks\": \"\"}}, \"type\": \"histogram\"}], \"mesh3d\": [{\"colorbar\": {\"outlinewidth\": 0, \"ticks\": \"\"}, \"type\": \"mesh3d\"}], \"parcoords\": [{\"line\": {\"colorbar\": {\"outlinewidth\": 0, \"ticks\": \"\"}}, \"type\": \"parcoords\"}], \"pie\": [{\"automargin\": true, \"type\": \"pie\"}], \"scatter3d\": [{\"line\": {\"colorbar\": {\"outlinewidth\": 0, \"ticks\": \"\"}}, \"marker\": {\"colorbar\": {\"outlinewidth\": 0, \"ticks\": \"\"}}, \"type\": \"scatter3d\"}], \"scattercarpet\": [{\"marker\": {\"colorbar\": {\"outlinewidth\": 0, \"ticks\": \"\"}}, \"type\": \"scattercarpet\"}], \"scattergeo\": [{\"marker\": {\"colorbar\": {\"outlinewidth\": 0, \"ticks\": \"\"}}, \"type\": \"scattergeo\"}], \"scattergl\": [{\"marker\": {\"colorbar\": {\"outlinewidth\": 0, \"ticks\": \"\"}}, \"type\": \"scattergl\"}], \"scattermapbox\": [{\"marker\": {\"colorbar\": {\"outlinewidth\": 0, \"ticks\": \"\"}}, \"type\": \"scattermapbox\"}], \"scatterpolargl\": [{\"marker\": {\"colorbar\": {\"outlinewidth\": 0, \"ticks\": \"\"}}, \"type\": \"scatterpolargl\"}], \"scatterpolar\": [{\"marker\": {\"colorbar\": {\"outlinewidth\": 0, \"ticks\": \"\"}}, \"type\": \"scatterpolar\"}], \"scatter\": [{\"marker\": {\"colorbar\": {\"outlinewidth\": 0, \"ticks\": \"\"}}, \"type\": \"scatter\"}], \"scatterternary\": [{\"marker\": {\"colorbar\": {\"outlinewidth\": 0, \"ticks\": \"\"}}, \"type\": \"scatterternary\"}], \"surface\": [{\"colorbar\": {\"outlinewidth\": 0, \"ticks\": \"\"}, \"colorscale\": [[0.0, \"#0d0887\"], [0.1111111111111111, \"#46039f\"], [0.2222222222222222, \"#7201a8\"], [0.3333333333333333, \"#9c179e\"], [0.4444444444444444, \"#bd3786\"], [0.5555555555555556, \"#d8576b\"], [0.6666666666666666, \"#ed7953\"], [0.7777777777777778, \"#fb9f3a\"], [0.8888888888888888, \"#fdca26\"], [1.0, \"#f0f921\"]], \"type\": \"surface\"}], \"table\": [{\"cells\": {\"fill\": {\"color\": \"#EBF0F8\"}, \"line\": {\"color\": \"white\"}}, \"header\": {\"fill\": {\"color\": \"#C8D4E3\"}, \"line\": {\"color\": \"white\"}}, \"type\": \"table\"}]}, \"layout\": {\"annotationdefaults\": {\"arrowcolor\": \"#2a3f5f\", \"arrowhead\": 0, \"arrowwidth\": 1}, \"coloraxis\": {\"colorbar\": {\"outlinewidth\": 0, \"ticks\": \"\"}}, \"colorscale\": {\"diverging\": [[0, \"#8e0152\"], [0.1, \"#c51b7d\"], [0.2, \"#de77ae\"], [0.3, \"#f1b6da\"], [0.4, \"#fde0ef\"], [0.5, \"#f7f7f7\"], [0.6, \"#e6f5d0\"], [0.7, \"#b8e186\"], [0.8, \"#7fbc41\"], [0.9, \"#4d9221\"], [1, \"#276419\"]], \"sequential\": [[0.0, \"#0d0887\"], [0.1111111111111111, \"#46039f\"], [0.2222222222222222, \"#7201a8\"], [0.3333333333333333, \"#9c179e\"], [0.4444444444444444, \"#bd3786\"], [0.5555555555555556, \"#d8576b\"], [0.6666666666666666, \"#ed7953\"], [0.7777777777777778, \"#fb9f3a\"], [0.8888888888888888, \"#fdca26\"], [1.0, \"#f0f921\"]], \"sequentialminus\": [[0.0, \"#0d0887\"], [0.1111111111111111, \"#46039f\"], [0.2222222222222222, \"#7201a8\"], [0.3333333333333333, \"#9c179e\"], [0.4444444444444444, \"#bd3786\"], [0.5555555555555556, \"#d8576b\"], [0.6666666666666666, \"#ed7953\"], [0.7777777777777778, \"#fb9f3a\"], [0.8888888888888888, \"#fdca26\"], [1.0, \"#f0f921\"]]}, \"colorway\": [\"#636efa\", \"#EF553B\", \"#00cc96\", \"#ab63fa\", \"#FFA15A\", \"#19d3f3\", \"#FF6692\", \"#B6E880\", \"#FF97FF\", \"#FECB52\"], \"font\": {\"color\": \"#2a3f5f\"}, \"geo\": {\"bgcolor\": \"white\", \"lakecolor\": \"white\", \"landcolor\": \"#E5ECF6\", \"showlakes\": true, \"showland\": true, \"subunitcolor\": \"white\"}, \"hoverlabel\": {\"align\": \"left\"}, \"hovermode\": \"closest\", \"mapbox\": {\"style\": \"light\"}, \"paper_bgcolor\": \"white\", \"plot_bgcolor\": \"#E5ECF6\", \"polar\": {\"angularaxis\": {\"gridcolor\": \"white\", \"linecolor\": \"white\", \"ticks\": \"\"}, \"bgcolor\": \"#E5ECF6\", \"radialaxis\": {\"gridcolor\": \"white\", \"linecolor\": \"white\", \"ticks\": \"\"}}, \"scene\": {\"xaxis\": {\"backgroundcolor\": \"#E5ECF6\", \"gridcolor\": \"white\", \"gridwidth\": 2, \"linecolor\": \"white\", \"showbackground\": true, \"ticks\": \"\", \"zerolinecolor\": \"white\"}, \"yaxis\": {\"backgroundcolor\": \"#E5ECF6\", \"gridcolor\": \"white\", \"gridwidth\": 2, \"linecolor\": \"white\", \"showbackground\": true, \"ticks\": \"\", \"zerolinecolor\": \"white\"}, \"zaxis\": {\"backgroundcolor\": \"#E5ECF6\", \"gridcolor\": \"white\", \"gridwidth\": 2, \"linecolor\": \"white\", \"showbackground\": true, \"ticks\": \"\", \"zerolinecolor\": \"white\"}}, \"shapedefaults\": {\"line\": {\"color\": \"#2a3f5f\"}}, \"ternary\": {\"aaxis\": {\"gridcolor\": \"white\", \"linecolor\": \"white\", \"ticks\": \"\"}, \"baxis\": {\"gridcolor\": \"white\", \"linecolor\": \"white\", \"ticks\": \"\"}, \"bgcolor\": \"#E5ECF6\", \"caxis\": {\"gridcolor\": \"white\", \"linecolor\": \"white\", \"ticks\": \"\"}}, \"title\": {\"x\": 0.05}, \"xaxis\": {\"automargin\": true, \"gridcolor\": \"white\", \"linecolor\": \"white\", \"ticks\": \"\", \"title\": {\"standoff\": 15}, \"zerolinecolor\": \"white\", \"zerolinewidth\": 2}, \"yaxis\": {\"automargin\": true, \"gridcolor\": \"white\", \"linecolor\": \"white\", \"ticks\": \"\", \"title\": {\"standoff\": 15}, \"zerolinecolor\": \"white\", \"zerolinewidth\": 2}}}, \"title\": {\"text\": \"Annual Compensation Density Estimation:<br>Fullstack\", \"x\": 0.5, \"xanchor\": \"center\", \"yanchor\": \"top\"}, \"xaxis\": {\"ticksuffix\": \"k\", \"title\": {\"text\": \"Compensation (USD)\"}}, \"yaxis\": {\"range\": [0, 0.012], \"tickcolor\": \"white\", \"ticklen\": 8, \"ticks\": \"outside\", \"title\": {\"text\": \"Probability Density\"}, \"zeroline\": false}}, \"name\": \"Developer, full-stack\"}, {\"data\": [{\"hovertemplate\": \"Compensation: %{x}\", \"line\": {\"dash\": \"longdashdot\"}, \"name\": \"2018\", \"x\": [0.2, 0.8, 1.5, 2.2, 2.9, 3.6, 4.2, 4.9, 5.6, 6.3, 6.9, 7.6, 8.3, 9.0, 9.6, 10.3, 11.0, 11.7, 12.4, 13.0, 13.7, 14.4, 15.1, 15.7, 16.4, 17.1, 17.8, 18.4, 19.1, 19.8, 20.5, 21.2, 21.8, 22.5, 23.2, 23.9, 24.5, 25.2, 25.9, 26.6, 27.2, 27.9, 28.6, 29.3, 30.0, 30.6, 31.3, 32.0, 32.7, 33.3, 34.0, 34.7, 35.4, 36.0, 36.7, 37.4, 38.1, 38.8, 39.4, 40.1, 40.8, 41.5, 42.1, 42.8, 43.5, 44.2, 44.8, 45.5, 46.2, 46.9, 47.6, 48.2, 48.9, 49.6, 50.3, 50.9, 51.6, 52.3, 53.0, 53.6, 54.3, 55.0, 55.7, 56.4, 57.0, 57.7, 58.4, 59.1, 59.7, 60.4, 61.1, 61.8, 62.4, 63.1, 63.8, 64.5, 65.2, 65.8, 66.5, 67.2, 67.9, 68.5, 69.2, 69.9, 70.6, 71.2, 71.9, 72.6, 73.3, 74.0, 74.6, 75.3, 76.0, 76.7, 77.3, 78.0, 78.7, 79.4, 80.0, 80.7, 81.4, 82.1, 82.8, 83.4, 84.1, 84.8, 85.5, 86.1, 86.8, 87.5, 88.2, 88.8, 89.5, 90.2, 90.9, 91.6, 92.2, 92.9, 93.6, 94.3, 94.9, 95.6, 96.3, 97.0, 97.6, 98.3, 99.0, 99.7, 100.4, 101.0, 101.7, 102.4, 103.1, 103.7, 104.4, 105.1, 105.8, 106.5, 107.1, 107.8, 108.5, 109.2, 109.8, 110.5, 111.2, 111.9, 112.5, 113.2, 113.9, 114.6, 115.3, 115.9, 116.6, 117.3, 118.0, 118.6, 119.3, 120.0, 120.7, 121.3, 122.0, 122.7, 123.4, 124.1, 124.7, 125.4, 126.1, 126.8, 127.4, 128.1, 128.8, 129.5, 130.1, 130.8, 131.5, 132.2, 132.9, 133.5, 134.2, 134.9, 135.6, 136.2, 136.9, 137.6, 138.3, 138.9, 139.6, 140.3, 141.0, 141.7, 142.3, 143.0, 143.7, 144.4, 145.0, 145.7, 146.4, 147.1, 147.7, 148.4, 149.1, 149.8, 150.5, 151.1, 151.8, 152.5, 153.2, 153.8, 154.5, 155.2, 155.9, 156.5, 157.2, 157.9, 158.6, 159.3, 159.9, 160.6, 161.3, 162.0, 162.6, 163.3, 164.0, 164.7, 165.3, 166.0, 166.7, 167.4, 168.1, 168.7, 169.4, 170.1, 170.8, 171.4, 172.1, 172.8, 173.5, 174.1, 174.8, 175.5, 176.2, 176.9, 177.5, 178.2, 178.9, 179.6, 180.2, 180.9, 181.6, 182.3, 182.9, 183.6, 184.3, 185.0, 185.7, 186.3, 187.0, 187.7, 188.4, 189.0, 189.7, 190.4, 191.1, 191.7, 192.4, 193.1, 193.8, 194.5, 195.1, 195.8, 196.5, 197.2, 197.8, 198.5, 199.2, 199.9], \"y\": [0.0094, 0.0099, 0.0104, 0.0109, 0.0114, 0.0118, 0.0121, 0.0125, 0.0128, 0.013, 0.0132, 0.0134, 0.0135, 0.0135, 0.0136, 0.0135, 0.0135, 0.0134, 0.0133, 0.0132, 0.013, 0.0128, 0.0126, 0.0124, 0.0122, 0.012, 0.0117, 0.0115, 0.0113, 0.0111, 0.0109, 0.0107, 0.0105, 0.0103, 0.0101, 0.0099, 0.0098, 0.0096, 0.0095, 0.0094, 0.0092, 0.0091, 0.009, 0.0089, 0.0088, 0.0088, 0.0087, 0.0086, 0.0086, 0.0085, 0.0085, 0.0084, 0.0084, 0.0084, 0.0083, 0.0083, 0.0082, 0.0082, 0.0082, 0.0081, 0.0081, 0.0081, 0.008, 0.008, 0.008, 0.0079, 0.0079, 0.0078, 0.0078, 0.0078, 0.0077, 0.0077, 0.0076, 0.0076, 0.0075, 0.0074, 0.0074, 0.0073, 0.0073, 0.0072, 0.0072, 0.0071, 0.0071, 0.007, 0.007, 0.0069, 0.0068, 0.0068, 0.0068, 0.0067, 0.0067, 0.0066, 0.0066, 0.0065, 0.0065, 0.0064, 0.0064, 0.0064, 0.0063, 0.0063, 0.0062, 0.0062, 0.0061, 0.0061, 0.006, 0.006, 0.0059, 0.0059, 0.0058, 0.0058, 0.0057, 0.0056, 0.0056, 0.0055, 0.0054, 0.0054, 0.0053, 0.0052, 0.0051, 0.0051, 0.005, 0.0049, 0.0048, 0.0048, 0.0047, 0.0046, 0.0045, 0.0045, 0.0044, 0.0043, 0.0042, 0.0042, 0.0041, 0.004, 0.004, 0.0039, 0.0039, 0.0038, 0.0037, 0.0037, 0.0036, 0.0036, 0.0035, 0.0035, 0.0034, 0.0034, 0.0033, 0.0033, 0.0032, 0.0032, 0.0031, 0.0031, 0.003, 0.003, 0.003, 0.0029, 0.0029, 0.0028, 0.0028, 0.0028, 0.0027, 0.0027, 0.0027, 0.0027, 0.0026, 0.0026, 0.0026, 0.0025, 0.0025, 0.0025, 0.0025, 0.0025, 0.0024, 0.0024, 0.0024, 0.0024, 0.0023, 0.0023, 0.0023, 0.0022, 0.0022, 0.0022, 0.0021, 0.0021, 0.0021, 0.002, 0.002, 0.002, 0.0019, 0.0019, 0.0019, 0.0018, 0.0018, 0.0018, 0.0017, 0.0017, 0.0017, 0.0016, 0.0016, 0.0016, 0.0016, 0.0016, 0.0016, 0.0015, 0.0015, 0.0015, 0.0015, 0.0015, 0.0015, 0.0015, 0.0015, 0.0015, 0.0015, 0.0015, 0.0015, 0.0015, 0.0015, 0.0015, 0.0015, 0.0015, 0.0015, 0.0014, 0.0014, 0.0014, 0.0014, 0.0014, 0.0013, 0.0013, 0.0013, 0.0012, 0.0012, 0.0012, 0.0012, 0.0011, 0.0011, 0.0011, 0.001, 0.001, 0.001, 0.0009, 0.0009, 0.0009, 0.0009, 0.0008, 0.0008, 0.0008, 0.0008, 0.0008, 0.0008, 0.0008, 0.0008, 0.0007, 0.0007, 0.0007, 0.0007, 0.0007, 0.0007, 0.0007, 0.0007, 0.0007, 0.0007, 0.0007, 0.0006, 0.0006, 0.0006, 0.0006, 0.0006, 0.0006, 0.0006, 0.0005, 0.0005, 0.0005, 0.0005, 0.0005, 0.0005, 0.0004, 0.0004, 0.0004, 0.0004, 0.0004, 0.0004, 0.0004, 0.0004, 0.0004, 0.0004, 0.0004, 0.0004, 0.0004, 0.0004, 0.0003, 0.0003, 0.0003, 0.0003, 0.0003, 0.0003, 0.0003], \"type\": \"scatter\"}, {\"hovertemplate\": \"Compensation: %{x}\", \"line\": {\"dash\": \"dash\"}, \"name\": \"2019\", \"x\": [0.2, 1.1, 1.9, 2.8, 3.7, 4.5, 5.4, 6.2, 7.1, 8.0, 8.8, 9.7, 10.5, 11.4, 12.3, 13.1, 14.0, 14.8, 15.7, 16.6, 17.4, 18.3, 19.1, 20.0, 20.9, 21.7, 22.6, 23.4, 24.3, 25.2, 26.0, 26.9, 27.7, 28.6, 29.5, 30.3, 31.2, 32.0, 32.9, 33.8, 34.6, 35.5, 36.3, 37.2, 38.1, 38.9, 39.8, 40.6, 41.5, 42.4, 43.2, 44.1, 44.9, 45.8, 46.7, 47.5, 48.4, 49.2, 50.1, 51.0, 51.8, 52.7, 53.5, 54.4, 55.3, 56.1, 57.0, 57.8, 58.7, 59.6, 60.4, 61.3, 62.1, 63.0, 63.9, 64.7, 65.6, 66.4, 67.3, 68.2, 69.0, 69.9, 70.7, 71.6, 72.5, 73.3, 74.2, 75.1, 75.9, 76.8, 77.6, 78.5, 79.4, 80.2, 81.1, 81.9, 82.8, 83.7, 84.5, 85.4, 86.2, 87.1, 88.0, 88.8, 89.7, 90.5, 91.4, 92.3, 93.1, 94.0, 94.8, 95.7, 96.6, 97.4, 98.3, 99.1, 100.0, 100.9, 101.7, 102.6, 103.4, 104.3, 105.2, 106.0, 106.9, 107.7, 108.6, 109.5, 110.3, 111.2, 112.0, 112.9, 113.8, 114.6, 115.5, 116.3, 117.2, 118.1, 118.9, 119.8, 120.6, 121.5, 122.4, 123.2, 124.1, 124.9, 125.8, 126.7, 127.5, 128.4, 129.2, 130.1, 131.0, 131.8, 132.7, 133.5, 134.4, 135.3, 136.1, 137.0, 137.8, 138.7, 139.6, 140.4, 141.3, 142.1, 143.0, 143.9, 144.7, 145.6, 146.4, 147.3, 148.2, 149.0, 149.9, 150.7, 151.6, 152.5, 153.3, 154.2, 155.0, 155.9, 156.8, 157.6, 158.5, 159.3, 160.2, 161.1, 161.9, 162.8, 163.6, 164.5, 165.4, 166.2, 167.1, 168.0, 168.8, 169.7, 170.5, 171.4, 172.3, 173.1, 174.0, 174.8, 175.7, 176.6, 177.4, 178.3, 179.1, 180.0, 180.9, 181.7, 182.6, 183.4, 184.3, 185.2, 186.0, 186.9, 187.7, 188.6, 189.5, 190.3, 191.2, 192.0, 192.9, 193.8, 194.6, 195.5, 196.3, 197.2, 198.1, 198.9, 199.8], \"y\": [0.0079, 0.0085, 0.009, 0.0095, 0.0099, 0.0104, 0.0108, 0.0111, 0.0115, 0.0117, 0.012, 0.0121, 0.0123, 0.0124, 0.0124, 0.0124, 0.0124, 0.0124, 0.0123, 0.0122, 0.012, 0.0119, 0.0117, 0.0116, 0.0114, 0.0112, 0.011, 0.0108, 0.0107, 0.0105, 0.0103, 0.0102, 0.01, 0.0099, 0.0097, 0.0096, 0.0095, 0.0094, 0.0092, 0.0091, 0.009, 0.0089, 0.0089, 0.0088, 0.0087, 0.0086, 0.0085, 0.0084, 0.0083, 0.0082, 0.0082, 0.0081, 0.008, 0.0079, 0.0078, 0.0077, 0.0077, 0.0076, 0.0075, 0.0074, 0.0073, 0.0072, 0.0072, 0.0071, 0.007, 0.0069, 0.0068, 0.0067, 0.0067, 0.0066, 0.0065, 0.0064, 0.0063, 0.0063, 0.0062, 0.0061, 0.006, 0.006, 0.0059, 0.0058, 0.0057, 0.0056, 0.0056, 0.0055, 0.0054, 0.0053, 0.0053, 0.0052, 0.0051, 0.005, 0.005, 0.0049, 0.0048, 0.0047, 0.0047, 0.0046, 0.0045, 0.0045, 0.0044, 0.0043, 0.0043, 0.0042, 0.0042, 0.0041, 0.0041, 0.004, 0.004, 0.0039, 0.0039, 0.0038, 0.0037, 0.0037, 0.0036, 0.0036, 0.0035, 0.0035, 0.0034, 0.0033, 0.0033, 0.0032, 0.0031, 0.0031, 0.003, 0.0029, 0.0029, 0.0028, 0.0027, 0.0027, 0.0026, 0.0026, 0.0025, 0.0025, 0.0024, 0.0024, 0.0023, 0.0023, 0.0022, 0.0022, 0.0022, 0.0021, 0.0021, 0.0021, 0.002, 0.002, 0.002, 0.0019, 0.0019, 0.0019, 0.0019, 0.0018, 0.0018, 0.0018, 0.0018, 0.0017, 0.0017, 0.0017, 0.0017, 0.0016, 0.0016, 0.0016, 0.0016, 0.0016, 0.0015, 0.0015, 0.0015, 0.0015, 0.0015, 0.0014, 0.0014, 0.0014, 0.0014, 0.0014, 0.0014, 0.0013, 0.0013, 0.0013, 0.0013, 0.0013, 0.0012, 0.0012, 0.0012, 0.0012, 0.0012, 0.0011, 0.0011, 0.0011, 0.0011, 0.0011, 0.001, 0.001, 0.001, 0.001, 0.001, 0.001, 0.0009, 0.0009, 0.0009, 0.0009, 0.0009, 0.0009, 0.0009, 0.0009, 0.0008, 0.0008, 0.0008, 0.0008, 0.0008, 0.0008, 0.0008, 0.0008, 0.0007, 0.0007, 0.0007, 0.0007, 0.0007, 0.0007, 0.0007, 0.0006, 0.0006, 0.0006, 0.0006, 0.0006, 0.0006, 0.0006, 0.0006, 0.0005, 0.0005, 0.0005, 0.0005, 0.0005, 0.0005, 0.0005, 0.0005], \"type\": \"scatter\"}, {\"hovertemplate\": \"Compensation: %{x}\", \"line\": {\"dash\": \"dashdot\"}, \"name\": \"2020\", \"x\": [0.2, 0.9, 1.7, 2.4, 3.2, 4.0, 4.7, 5.5, 6.2, 7.0, 7.7, 8.5, 9.2, 10.0, 10.7, 11.5, 12.2, 13.0, 13.7, 14.5, 15.3, 16.0, 16.8, 17.5, 18.3, 19.0, 19.8, 20.5, 21.3, 22.0, 22.8, 23.5, 24.3, 25.0, 25.8, 26.5, 27.3, 28.1, 28.8, 29.6, 30.3, 31.1, 31.8, 32.6, 33.3, 34.1, 34.8, 35.6, 36.3, 37.1, 37.8, 38.6, 39.3, 40.1, 40.9, 41.6, 42.4, 43.1, 43.9, 44.6, 45.4, 46.1, 46.9, 47.6, 48.4, 49.1, 49.9, 50.6, 51.4, 52.2, 52.9, 53.7, 54.4, 55.2, 55.9, 56.7, 57.4, 58.2, 58.9, 59.7, 60.4, 61.2, 61.9, 62.7, 63.4, 64.2, 65.0, 65.7, 66.5, 67.2, 68.0, 68.7, 69.5, 70.2, 71.0, 71.7, 72.5, 73.2, 74.0, 74.7, 75.5, 76.3, 77.0, 77.8, 78.5, 79.3, 80.0, 80.8, 81.5, 82.3, 83.0, 83.8, 84.5, 85.3, 86.0, 86.8, 87.5, 88.3, 89.1, 89.8, 90.6, 91.3, 92.1, 92.8, 93.6, 94.3, 95.1, 95.8, 96.6, 97.3, 98.1, 98.8, 99.6, 100.4, 101.1, 101.9, 102.6, 103.4, 104.1, 104.9, 105.6, 106.4, 107.1, 107.9, 108.6, 109.4, 110.1, 110.9, 111.6, 112.4, 113.2, 113.9, 114.7, 115.4, 116.2, 116.9, 117.7, 118.4, 119.2, 119.9, 120.7, 121.4, 122.2, 122.9, 123.7, 124.5, 125.2, 126.0, 126.7, 127.5, 128.2, 129.0, 129.7, 130.5, 131.2, 132.0, 132.7, 133.5, 134.2, 135.0, 135.7, 136.5, 137.3, 138.0, 138.8, 139.5, 140.3, 141.0, 141.8, 142.5, 143.3, 144.0, 144.8, 145.5, 146.3, 147.0, 147.8, 148.5, 149.3, 150.1, 150.8, 151.6, 152.3, 153.1, 153.8, 154.6, 155.3, 156.1, 156.8, 157.6, 158.3, 159.1, 159.8, 160.6, 161.4, 162.1, 162.9, 163.6, 164.4, 165.1, 165.9, 166.6, 167.4, 168.1, 168.9, 169.6, 170.4, 171.1, 171.9, 172.6, 173.4, 174.2, 174.9, 175.7, 176.4, 177.2, 177.9, 178.7, 179.4, 180.2, 180.9, 181.7, 182.4, 183.2, 183.9, 184.7, 185.5, 186.2, 187.0, 187.7, 188.5, 189.2, 190.0, 190.7, 191.5, 192.2, 193.0, 193.7, 194.5, 195.2, 196.0, 196.7, 197.5, 198.3, 199.0, 199.8], \"y\": [0.0083, 0.0088, 0.0092, 0.0097, 0.0101, 0.0105, 0.0109, 0.0112, 0.0115, 0.0118, 0.0121, 0.0123, 0.0124, 0.0126, 0.0127, 0.0127, 0.0128, 0.0128, 0.0127, 0.0127, 0.0126, 0.0125, 0.0124, 0.0122, 0.0121, 0.0119, 0.0118, 0.0116, 0.0114, 0.0112, 0.011, 0.0109, 0.0107, 0.0105, 0.0104, 0.0102, 0.01, 0.0099, 0.0098, 0.0096, 0.0095, 0.0094, 0.0093, 0.0092, 0.0091, 0.009, 0.0089, 0.0089, 0.0088, 0.0087, 0.0087, 0.0086, 0.0086, 0.0085, 0.0085, 0.0084, 0.0084, 0.0083, 0.0083, 0.0082, 0.0081, 0.0081, 0.008, 0.008, 0.0079, 0.0078, 0.0078, 0.0077, 0.0076, 0.0075, 0.0075, 0.0074, 0.0073, 0.0072, 0.0071, 0.007, 0.007, 0.0069, 0.0068, 0.0067, 0.0066, 0.0065, 0.0065, 0.0064, 0.0063, 0.0062, 0.0061, 0.0061, 0.006, 0.0059, 0.0058, 0.0057, 0.0057, 0.0056, 0.0055, 0.0054, 0.0054, 0.0053, 0.0052, 0.0051, 0.0051, 0.005, 0.0049, 0.0048, 0.0048, 0.0047, 0.0046, 0.0045, 0.0045, 0.0044, 0.0043, 0.0042, 0.0042, 0.0041, 0.004, 0.0039, 0.0039, 0.0038, 0.0037, 0.0037, 0.0036, 0.0035, 0.0035, 0.0034, 0.0033, 0.0033, 0.0032, 0.0032, 0.0031, 0.0031, 0.003, 0.003, 0.0029, 0.0029, 0.0028, 0.0028, 0.0028, 0.0027, 0.0027, 0.0027, 0.0026, 0.0026, 0.0026, 0.0025, 0.0025, 0.0025, 0.0025, 0.0025, 0.0024, 0.0024, 0.0024, 0.0024, 0.0024, 0.0024, 0.0024, 0.0024, 0.0023, 0.0023, 0.0023, 0.0023, 0.0023, 0.0023, 0.0023, 0.0022, 0.0022, 0.0022, 0.0022, 0.0021, 0.0021, 0.0021, 0.002, 0.002, 0.002, 0.0019, 0.0019, 0.0019, 0.0018, 0.0018, 0.0018, 0.0017, 0.0017, 0.0017, 0.0016, 0.0016, 0.0016, 0.0015, 0.0015, 0.0015, 0.0015, 0.0014, 0.0014, 0.0014, 0.0014, 0.0013, 0.0013, 0.0013, 0.0013, 0.0013, 0.0012, 0.0012, 0.0012, 0.0012, 0.0012, 0.0012, 0.0012, 0.0011, 0.0011, 0.0011, 0.0011, 0.0011, 0.0011, 0.0011, 0.001, 0.001, 0.001, 0.001, 0.001, 0.001, 0.001, 0.001, 0.0009, 0.0009, 0.0009, 0.0009, 0.0009, 0.0009, 0.0009, 0.0008, 0.0008, 0.0008, 0.0008, 0.0008, 0.0008, 0.0008, 0.0008, 0.0007, 0.0007, 0.0007, 0.0007, 0.0007, 0.0007, 0.0007, 0.0007, 0.0006, 0.0006, 0.0006, 0.0006, 0.0006, 0.0006, 0.0006, 0.0006, 0.0006, 0.0006, 0.0005, 0.0005, 0.0005, 0.0005, 0.0005, 0.0005, 0.0005, 0.0005, 0.0005, 0.0005, 0.0005, 0.0005, 0.0005], \"type\": \"scatter\"}], \"layout\": {\"template\": {\"data\": {\"barpolar\": [{\"marker\": {\"line\": {\"color\": \"#E5ECF6\", \"width\": 0.5}}, \"type\": \"barpolar\"}], \"bar\": [{\"error_x\": {\"color\": \"#2a3f5f\"}, \"error_y\": {\"color\": \"#2a3f5f\"}, \"marker\": {\"line\": {\"color\": \"#E5ECF6\", \"width\": 0.5}}, \"type\": \"bar\"}], \"carpet\": [{\"aaxis\": {\"endlinecolor\": \"#2a3f5f\", \"gridcolor\": \"white\", \"linecolor\": \"white\", \"minorgridcolor\": \"white\", \"startlinecolor\": \"#2a3f5f\"}, \"baxis\": {\"endlinecolor\": \"#2a3f5f\", \"gridcolor\": \"white\", \"linecolor\": \"white\", \"minorgridcolor\": \"white\", \"startlinecolor\": \"#2a3f5f\"}, \"type\": \"carpet\"}], \"choropleth\": [{\"colorbar\": {\"outlinewidth\": 0, \"ticks\": \"\"}, \"type\": \"choropleth\"}], \"contourcarpet\": [{\"colorbar\": {\"outlinewidth\": 0, \"ticks\": \"\"}, \"type\": \"contourcarpet\"}], \"contour\": [{\"colorbar\": {\"outlinewidth\": 0, \"ticks\": \"\"}, \"colorscale\": [[0.0, \"#0d0887\"], [0.1111111111111111, \"#46039f\"], [0.2222222222222222, \"#7201a8\"], [0.3333333333333333, \"#9c179e\"], [0.4444444444444444, \"#bd3786\"], [0.5555555555555556, \"#d8576b\"], [0.6666666666666666, \"#ed7953\"], [0.7777777777777778, \"#fb9f3a\"], [0.8888888888888888, \"#fdca26\"], [1.0, \"#f0f921\"]], \"type\": \"contour\"}], \"heatmapgl\": [{\"colorbar\": {\"outlinewidth\": 0, \"ticks\": \"\"}, \"colorscale\": [[0.0, \"#0d0887\"], [0.1111111111111111, \"#46039f\"], [0.2222222222222222, \"#7201a8\"], [0.3333333333333333, \"#9c179e\"], [0.4444444444444444, \"#bd3786\"], [0.5555555555555556, \"#d8576b\"], [0.6666666666666666, \"#ed7953\"], [0.7777777777777778, \"#fb9f3a\"], [0.8888888888888888, \"#fdca26\"], [1.0, \"#f0f921\"]], \"type\": \"heatmapgl\"}], \"heatmap\": [{\"colorbar\": {\"outlinewidth\": 0, \"ticks\": \"\"}, \"colorscale\": [[0.0, \"#0d0887\"], [0.1111111111111111, \"#46039f\"], [0.2222222222222222, \"#7201a8\"], [0.3333333333333333, \"#9c179e\"], [0.4444444444444444, \"#bd3786\"], [0.5555555555555556, \"#d8576b\"], [0.6666666666666666, \"#ed7953\"], [0.7777777777777778, \"#fb9f3a\"], [0.8888888888888888, \"#fdca26\"], [1.0, \"#f0f921\"]], \"type\": \"heatmap\"}], \"histogram2dcontour\": [{\"colorbar\": {\"outlinewidth\": 0, \"ticks\": \"\"}, \"colorscale\": [[0.0, \"#0d0887\"], [0.1111111111111111, \"#46039f\"], [0.2222222222222222, \"#7201a8\"], [0.3333333333333333, \"#9c179e\"], [0.4444444444444444, \"#bd3786\"], [0.5555555555555556, \"#d8576b\"], [0.6666666666666666, \"#ed7953\"], [0.7777777777777778, \"#fb9f3a\"], [0.8888888888888888, \"#fdca26\"], [1.0, \"#f0f921\"]], \"type\": \"histogram2dcontour\"}], \"histogram2d\": [{\"colorbar\": {\"outlinewidth\": 0, \"ticks\": \"\"}, \"colorscale\": [[0.0, \"#0d0887\"], [0.1111111111111111, \"#46039f\"], [0.2222222222222222, \"#7201a8\"], [0.3333333333333333, \"#9c179e\"], [0.4444444444444444, \"#bd3786\"], [0.5555555555555556, \"#d8576b\"], [0.6666666666666666, \"#ed7953\"], [0.7777777777777778, \"#fb9f3a\"], [0.8888888888888888, \"#fdca26\"], [1.0, \"#f0f921\"]], \"type\": \"histogram2d\"}], \"histogram\": [{\"marker\": {\"colorbar\": {\"outlinewidth\": 0, \"ticks\": \"\"}}, \"type\": \"histogram\"}], \"mesh3d\": [{\"colorbar\": {\"outlinewidth\": 0, \"ticks\": \"\"}, \"type\": \"mesh3d\"}], \"parcoords\": [{\"line\": {\"colorbar\": {\"outlinewidth\": 0, \"ticks\": \"\"}}, \"type\": \"parcoords\"}], \"pie\": [{\"automargin\": true, \"type\": \"pie\"}], \"scatter3d\": [{\"line\": {\"colorbar\": {\"outlinewidth\": 0, \"ticks\": \"\"}}, \"marker\": {\"colorbar\": {\"outlinewidth\": 0, \"ticks\": \"\"}}, \"type\": \"scatter3d\"}], \"scattercarpet\": [{\"marker\": {\"colorbar\": {\"outlinewidth\": 0, \"ticks\": \"\"}}, \"type\": \"scattercarpet\"}], \"scattergeo\": [{\"marker\": {\"colorbar\": {\"outlinewidth\": 0, \"ticks\": \"\"}}, \"type\": \"scattergeo\"}], \"scattergl\": [{\"marker\": {\"colorbar\": {\"outlinewidth\": 0, \"ticks\": \"\"}}, \"type\": \"scattergl\"}], \"scattermapbox\": [{\"marker\": {\"colorbar\": {\"outlinewidth\": 0, \"ticks\": \"\"}}, \"type\": \"scattermapbox\"}], \"scatterpolargl\": [{\"marker\": {\"colorbar\": {\"outlinewidth\": 0, \"ticks\": \"\"}}, \"type\": \"scatterpolargl\"}], \"scatterpolar\": [{\"marker\": {\"colorbar\": {\"outlinewidth\": 0, \"ticks\": \"\"}}, \"type\": \"scatterpolar\"}], \"scatter\": [{\"marker\": {\"colorbar\": {\"outlinewidth\": 0, \"ticks\": \"\"}}, \"type\": \"scatter\"}], \"scatterternary\": [{\"marker\": {\"colorbar\": {\"outlinewidth\": 0, \"ticks\": \"\"}}, \"type\": \"scatterternary\"}], \"surface\": [{\"colorbar\": {\"outlinewidth\": 0, \"ticks\": \"\"}, \"colorscale\": [[0.0, \"#0d0887\"], [0.1111111111111111, \"#46039f\"], [0.2222222222222222, \"#7201a8\"], [0.3333333333333333, \"#9c179e\"], [0.4444444444444444, \"#bd3786\"], [0.5555555555555556, \"#d8576b\"], [0.6666666666666666, \"#ed7953\"], [0.7777777777777778, \"#fb9f3a\"], [0.8888888888888888, \"#fdca26\"], [1.0, \"#f0f921\"]], \"type\": \"surface\"}], \"table\": [{\"cells\": {\"fill\": {\"color\": \"#EBF0F8\"}, \"line\": {\"color\": \"white\"}}, \"header\": {\"fill\": {\"color\": \"#C8D4E3\"}, \"line\": {\"color\": \"white\"}}, \"type\": \"table\"}]}, \"layout\": {\"annotationdefaults\": {\"arrowcolor\": \"#2a3f5f\", \"arrowhead\": 0, \"arrowwidth\": 1}, \"coloraxis\": {\"colorbar\": {\"outlinewidth\": 0, \"ticks\": \"\"}}, \"colorscale\": {\"diverging\": [[0, \"#8e0152\"], [0.1, \"#c51b7d\"], [0.2, \"#de77ae\"], [0.3, \"#f1b6da\"], [0.4, \"#fde0ef\"], [0.5, \"#f7f7f7\"], [0.6, \"#e6f5d0\"], [0.7, \"#b8e186\"], [0.8, \"#7fbc41\"], [0.9, \"#4d9221\"], [1, \"#276419\"]], \"sequential\": [[0.0, \"#0d0887\"], [0.1111111111111111, \"#46039f\"], [0.2222222222222222, \"#7201a8\"], [0.3333333333333333, \"#9c179e\"], [0.4444444444444444, \"#bd3786\"], [0.5555555555555556, \"#d8576b\"], [0.6666666666666666, \"#ed7953\"], [0.7777777777777778, \"#fb9f3a\"], [0.8888888888888888, \"#fdca26\"], [1.0, \"#f0f921\"]], \"sequentialminus\": [[0.0, \"#0d0887\"], [0.1111111111111111, \"#46039f\"], [0.2222222222222222, \"#7201a8\"], [0.3333333333333333, \"#9c179e\"], [0.4444444444444444, \"#bd3786\"], [0.5555555555555556, \"#d8576b\"], [0.6666666666666666, \"#ed7953\"], [0.7777777777777778, \"#fb9f3a\"], [0.8888888888888888, \"#fdca26\"], [1.0, \"#f0f921\"]]}, \"colorway\": [\"#636efa\", \"#EF553B\", \"#00cc96\", \"#ab63fa\", \"#FFA15A\", \"#19d3f3\", \"#FF6692\", \"#B6E880\", \"#FF97FF\", \"#FECB52\"], \"font\": {\"color\": \"#2a3f5f\"}, \"geo\": {\"bgcolor\": \"white\", \"lakecolor\": \"white\", \"landcolor\": \"#E5ECF6\", \"showlakes\": true, \"showland\": true, \"subunitcolor\": \"white\"}, \"hoverlabel\": {\"align\": \"left\"}, \"hovermode\": \"closest\", \"mapbox\": {\"style\": \"light\"}, \"paper_bgcolor\": \"white\", \"plot_bgcolor\": \"#E5ECF6\", \"polar\": {\"angularaxis\": {\"gridcolor\": \"white\", \"linecolor\": \"white\", \"ticks\": \"\"}, \"bgcolor\": \"#E5ECF6\", \"radialaxis\": {\"gridcolor\": \"white\", \"linecolor\": \"white\", \"ticks\": \"\"}}, \"scene\": {\"xaxis\": {\"backgroundcolor\": \"#E5ECF6\", \"gridcolor\": \"white\", \"gridwidth\": 2, \"linecolor\": \"white\", \"showbackground\": true, \"ticks\": \"\", \"zerolinecolor\": \"white\"}, \"yaxis\": {\"backgroundcolor\": \"#E5ECF6\", \"gridcolor\": \"white\", \"gridwidth\": 2, \"linecolor\": \"white\", \"showbackground\": true, \"ticks\": \"\", \"zerolinecolor\": \"white\"}, \"zaxis\": {\"backgroundcolor\": \"#E5ECF6\", \"gridcolor\": \"white\", \"gridwidth\": 2, \"linecolor\": \"white\", \"showbackground\": true, \"ticks\": \"\", \"zerolinecolor\": \"white\"}}, \"shapedefaults\": {\"line\": {\"color\": \"#2a3f5f\"}}, \"ternary\": {\"aaxis\": {\"gridcolor\": \"white\", \"linecolor\": \"white\", \"ticks\": \"\"}, \"baxis\": {\"gridcolor\": \"white\", \"linecolor\": \"white\", \"ticks\": \"\"}, \"bgcolor\": \"#E5ECF6\", \"caxis\": {\"gridcolor\": \"white\", \"linecolor\": \"white\", \"ticks\": \"\"}}, \"title\": {\"x\": 0.05}, \"xaxis\": {\"automargin\": true, \"gridcolor\": \"white\", \"linecolor\": \"white\", \"ticks\": \"\", \"title\": {\"standoff\": 15}, \"zerolinecolor\": \"white\", \"zerolinewidth\": 2}, \"yaxis\": {\"automargin\": true, \"gridcolor\": \"white\", \"linecolor\": \"white\", \"ticks\": \"\", \"title\": {\"standoff\": 15}, \"zerolinecolor\": \"white\", \"zerolinewidth\": 2}}}, \"title\": {\"text\": \"Annual Compensation Density Estimation:<br>Mobile\", \"x\": 0.5, \"xanchor\": \"center\", \"yanchor\": \"top\"}, \"xaxis\": {\"ticksuffix\": \"k\", \"title\": {\"text\": \"Compensation (USD)\"}}, \"yaxis\": {\"range\": [0, 0.012], \"tickcolor\": \"white\", \"ticklen\": 8, \"ticks\": \"outside\", \"title\": {\"text\": \"Probability Density\"}, \"zeroline\": false}}, \"name\": \"Developer, mobile\"}, {\"data\": [{\"hovertemplate\": \"Compensation: %{x}\", \"line\": {\"dash\": \"longdashdot\"}, \"name\": \"2018\", \"x\": [0.2, 0.9, 1.5, 2.2, 2.9, 3.6, 4.3, 4.9, 5.6, 6.3, 7.0, 7.7, 8.3, 9.0, 9.7, 10.4, 11.1, 11.7, 12.4, 13.1, 13.8, 14.5, 15.1, 15.8, 16.5, 17.2, 17.9, 18.5, 19.2, 19.9, 20.6, 21.3, 21.9, 22.6, 23.3, 24.0, 24.7, 25.3, 26.0, 26.7, 27.4, 28.1, 28.7, 29.4, 30.1, 30.8, 31.5, 32.1, 32.8, 33.5, 34.2, 34.9, 35.5, 36.2, 36.9, 37.6, 38.3, 38.9, 39.6, 40.3, 41.0, 41.7, 42.3, 43.0, 43.7, 44.4, 45.1, 45.7, 46.4, 47.1, 47.8, 48.5, 49.1, 49.8, 50.5, 51.2, 51.9, 52.5, 53.2, 53.9, 54.6, 55.3, 55.9, 56.6, 57.3, 58.0, 58.7, 59.3, 60.0, 60.7, 61.4, 62.1, 62.7, 63.4, 64.1, 64.8, 65.5, 66.1, 66.8, 67.5, 68.2, 68.9, 69.5, 70.2, 70.9, 71.6, 72.3, 72.9, 73.6, 74.3, 75.0, 75.7, 76.3, 77.0, 77.7, 78.4, 79.1, 79.7, 80.4, 81.1, 81.8, 82.5, 83.1, 83.8, 84.5, 85.2, 85.9, 86.5, 87.2, 87.9, 88.6, 89.3, 89.9, 90.6, 91.3, 92.0, 92.7, 93.3, 94.0, 94.7, 95.4, 96.1, 96.7, 97.4, 98.1, 98.8, 99.5, 100.1, 100.8, 101.5, 102.2, 102.9, 103.5, 104.2, 104.9, 105.6, 106.3, 106.9, 107.6, 108.3, 109.0, 109.7, 110.3, 111.0, 111.7, 112.4, 113.1, 113.7, 114.4, 115.1, 115.8, 116.5, 117.1, 117.8, 118.5, 119.2, 119.9, 120.5, 121.2, 121.9, 122.6, 123.3, 123.9, 124.6, 125.3, 126.0, 126.7, 127.3, 128.0, 128.7, 129.4, 130.1, 130.7, 131.4, 132.1, 132.8, 133.5, 134.1, 134.8, 135.5, 136.2, 136.9, 137.5, 138.2, 138.9, 139.6, 140.3, 140.9, 141.6, 142.3, 143.0, 143.7, 144.3, 145.0, 145.7, 146.4, 147.1, 147.7, 148.4, 149.1, 149.8, 150.5, 151.1, 151.8, 152.5, 153.2, 153.9, 154.5, 155.2, 155.9, 156.6, 157.3, 157.9, 158.6, 159.3, 160.0, 160.7, 161.3, 162.0, 162.7, 163.4, 164.1, 164.7, 165.4, 166.1, 166.8, 167.5, 168.1, 168.8, 169.5, 170.2, 170.9, 171.5, 172.2, 172.9, 173.6, 174.3, 174.9, 175.6, 176.3, 177.0, 177.7, 178.3, 179.0, 179.7, 180.4, 181.1, 181.7, 182.4, 183.1, 183.8, 184.5, 185.1, 185.8, 186.5, 187.2, 187.9, 188.5, 189.2, 189.9, 190.6, 191.3, 191.9, 192.6, 193.3, 194.0, 194.7, 195.3, 196.0, 196.7, 197.4, 198.1, 198.7, 199.4], \"y\": [0.0029, 0.003, 0.0032, 0.0034, 0.0036, 0.0038, 0.004, 0.0041, 0.0043, 0.0045, 0.0046, 0.0048, 0.0049, 0.005, 0.0052, 0.0053, 0.0054, 0.0055, 0.0056, 0.0057, 0.0058, 0.0058, 0.0059, 0.006, 0.006, 0.0061, 0.0061, 0.0062, 0.0062, 0.0063, 0.0063, 0.0063, 0.0064, 0.0064, 0.0064, 0.0065, 0.0065, 0.0065, 0.0066, 0.0066, 0.0066, 0.0067, 0.0067, 0.0068, 0.0068, 0.0068, 0.0069, 0.0069, 0.0069, 0.007, 0.007, 0.0071, 0.0071, 0.0072, 0.0072, 0.0072, 0.0073, 0.0073, 0.0074, 0.0074, 0.0075, 0.0075, 0.0076, 0.0076, 0.0077, 0.0077, 0.0078, 0.0078, 0.0079, 0.0079, 0.008, 0.008, 0.0081, 0.0082, 0.0082, 0.0083, 0.0083, 0.0084, 0.0084, 0.0084, 0.0085, 0.0085, 0.0086, 0.0086, 0.0086, 0.0087, 0.0087, 0.0087, 0.0087, 0.0087, 0.0087, 0.0088, 0.0088, 0.0088, 0.0088, 0.0087, 0.0087, 0.0087, 0.0087, 0.0087, 0.0087, 0.0087, 0.0086, 0.0086, 0.0086, 0.0085, 0.0085, 0.0085, 0.0084, 0.0084, 0.0083, 0.0083, 0.0082, 0.0082, 0.0081, 0.0081, 0.008, 0.008, 0.0079, 0.0078, 0.0077, 0.0077, 0.0076, 0.0075, 0.0075, 0.0074, 0.0073, 0.0072, 0.0071, 0.0071, 0.007, 0.0069, 0.0068, 0.0068, 0.0067, 0.0066, 0.0065, 0.0065, 0.0064, 0.0063, 0.0062, 0.0062, 0.0061, 0.006, 0.006, 0.0059, 0.0058, 0.0058, 0.0057, 0.0057, 0.0056, 0.0055, 0.0055, 0.0054, 0.0054, 0.0053, 0.0053, 0.0052, 0.0052, 0.0051, 0.0051, 0.005, 0.005, 0.0049, 0.0049, 0.0048, 0.0048, 0.0047, 0.0047, 0.0047, 0.0046, 0.0046, 0.0045, 0.0045, 0.0044, 0.0044, 0.0043, 0.0042, 0.0042, 0.0041, 0.0041, 0.004, 0.0039, 0.0039, 0.0038, 0.0038, 0.0037, 0.0036, 0.0036, 0.0035, 0.0034, 0.0034, 0.0033, 0.0033, 0.0032, 0.0032, 0.0031, 0.0031, 0.003, 0.003, 0.0029, 0.0029, 0.0029, 0.0028, 0.0028, 0.0028, 0.0027, 0.0027, 0.0027, 0.0027, 0.0026, 0.0026, 0.0026, 0.0026, 0.0025, 0.0025, 0.0025, 0.0025, 0.0024, 0.0024, 0.0024, 0.0023, 0.0023, 0.0022, 0.0022, 0.0022, 0.0021, 0.0021, 0.002, 0.002, 0.0019, 0.0019, 0.0019, 0.0018, 0.0018, 0.0017, 0.0017, 0.0016, 0.0016, 0.0016, 0.0015, 0.0015, 0.0014, 0.0014, 0.0014, 0.0013, 0.0013, 0.0013, 0.0013, 0.0012, 0.0012, 0.0012, 0.0012, 0.0012, 0.0011, 0.0011, 0.0011, 0.0011, 0.0011, 0.0011, 0.001, 0.001, 0.001, 0.001, 0.001, 0.0009, 0.0009, 0.0009, 0.0009, 0.0009, 0.0008, 0.0008, 0.0008, 0.0008, 0.0008, 0.0008, 0.0007, 0.0007, 0.0007, 0.0007, 0.0007, 0.0006, 0.0006, 0.0006, 0.0006, 0.0006, 0.0006, 0.0006, 0.0006, 0.0005, 0.0005, 0.0005, 0.0005, 0.0005], \"type\": \"scatter\"}, {\"hovertemplate\": \"Compensation: %{x}\", \"line\": {\"dash\": \"dash\"}, \"name\": \"2019\", \"x\": [0.2, 1.1, 1.9, 2.8, 3.6, 4.5, 5.3, 6.2, 7.0, 7.9, 8.7, 9.6, 10.5, 11.3, 12.2, 13.0, 13.9, 14.7, 15.6, 16.4, 17.3, 18.1, 19.0, 19.8, 20.7, 21.5, 22.4, 23.3, 24.1, 25.0, 25.8, 26.7, 27.5, 28.4, 29.2, 30.1, 30.9, 31.8, 32.6, 33.5, 34.3, 35.2, 36.1, 36.9, 37.8, 38.6, 39.5, 40.3, 41.2, 42.0, 42.9, 43.7, 44.6, 45.4, 46.3, 47.1, 48.0, 48.9, 49.7, 50.6, 51.4, 52.3, 53.1, 54.0, 54.8, 55.7, 56.5, 57.4, 58.2, 59.1, 59.9, 60.8, 61.6, 62.5, 63.4, 64.2, 65.1, 65.9, 66.8, 67.6, 68.5, 69.3, 70.2, 71.0, 71.9, 72.7, 73.6, 74.4, 75.3, 76.2, 77.0, 77.9, 78.7, 79.6, 80.4, 81.3, 82.1, 83.0, 83.8, 84.7, 85.5, 86.4, 87.2, 88.1, 89.0, 89.8, 90.7, 91.5, 92.4, 93.2, 94.1, 94.9, 95.8, 96.6, 97.5, 98.3, 99.2, 100.0, 100.9, 101.8, 102.6, 103.5, 104.3, 105.2, 106.0, 106.9, 107.7, 108.6, 109.4, 110.3, 111.1, 112.0, 112.8, 113.7, 114.6, 115.4, 116.3, 117.1, 118.0, 118.8, 119.7, 120.5, 121.4, 122.2, 123.1, 123.9, 124.8, 125.6, 126.5, 127.4, 128.2, 129.1, 129.9, 130.8, 131.6, 132.5, 133.3, 134.2, 135.0, 135.9, 136.7, 137.6, 138.4, 139.3, 140.2, 141.0, 141.9, 142.7, 143.6, 144.4, 145.3, 146.1, 147.0, 147.8, 148.7, 149.5, 150.4, 151.2, 152.1, 153.0, 153.8, 154.7, 155.5, 156.4, 157.2, 158.1, 158.9, 159.8, 160.6, 161.5, 162.3, 163.2, 164.0, 164.9, 165.8, 166.6, 167.5, 168.3, 169.2, 170.0, 170.9, 171.7, 172.6, 173.4, 174.3, 175.1, 176.0, 176.8, 177.7, 178.5, 179.4, 180.3, 181.1, 182.0, 182.8, 183.7, 184.5, 185.4, 186.2, 187.1, 187.9, 188.8, 189.6, 190.5, 191.3, 192.2, 193.1, 193.9, 194.8, 195.6, 196.5, 197.3, 198.2, 199.0, 199.9], \"y\": [0.0032, 0.0034, 0.0036, 0.0039, 0.0041, 0.0043, 0.0046, 0.0048, 0.005, 0.0052, 0.0054, 0.0056, 0.0058, 0.006, 0.0061, 0.0063, 0.0064, 0.0065, 0.0067, 0.0068, 0.0069, 0.0069, 0.007, 0.0071, 0.0071, 0.0072, 0.0072, 0.0073, 0.0073, 0.0073, 0.0073, 0.0074, 0.0074, 0.0074, 0.0074, 0.0074, 0.0075, 0.0075, 0.0075, 0.0075, 0.0075, 0.0076, 0.0076, 0.0076, 0.0076, 0.0077, 0.0077, 0.0077, 0.0078, 0.0078, 0.0079, 0.0079, 0.0079, 0.008, 0.008, 0.008, 0.0081, 0.0081, 0.0081, 0.0082, 0.0082, 0.0082, 0.0082, 0.0082, 0.0083, 0.0083, 0.0083, 0.0083, 0.0083, 0.0083, 0.0083, 0.0083, 0.0082, 0.0082, 0.0082, 0.0082, 0.0082, 0.0081, 0.0081, 0.0081, 0.0081, 0.008, 0.008, 0.008, 0.0079, 0.0079, 0.0078, 0.0078, 0.0077, 0.0076, 0.0076, 0.0075, 0.0075, 0.0074, 0.0073, 0.0072, 0.0071, 0.0071, 0.007, 0.0069, 0.0068, 0.0067, 0.0066, 0.0065, 0.0064, 0.0063, 0.0062, 0.0061, 0.006, 0.0059, 0.0058, 0.0057, 0.0056, 0.0055, 0.0054, 0.0054, 0.0053, 0.0052, 0.0051, 0.005, 0.005, 0.0049, 0.0048, 0.0047, 0.0047, 0.0046, 0.0045, 0.0045, 0.0044, 0.0044, 0.0043, 0.0043, 0.0042, 0.0042, 0.0041, 0.0041, 0.004, 0.004, 0.0039, 0.0039, 0.0038, 0.0038, 0.0037, 0.0037, 0.0036, 0.0036, 0.0035, 0.0035, 0.0034, 0.0034, 0.0033, 0.0033, 0.0032, 0.0032, 0.0031, 0.0031, 0.003, 0.003, 0.0029, 0.0029, 0.0028, 0.0028, 0.0027, 0.0027, 0.0026, 0.0026, 0.0025, 0.0025, 0.0024, 0.0024, 0.0023, 0.0023, 0.0023, 0.0022, 0.0022, 0.0021, 0.0021, 0.002, 0.002, 0.002, 0.0019, 0.0019, 0.0018, 0.0018, 0.0017, 0.0017, 0.0017, 0.0016, 0.0016, 0.0015, 0.0015, 0.0015, 0.0014, 0.0014, 0.0014, 0.0014, 0.0013, 0.0013, 0.0013, 0.0013, 0.0012, 0.0012, 0.0012, 0.0012, 0.0011, 0.0011, 0.0011, 0.0011, 0.0011, 0.001, 0.001, 0.001, 0.001, 0.001, 0.0009, 0.0009, 0.0009, 0.0009, 0.0009, 0.0008, 0.0008, 0.0008, 0.0008, 0.0008, 0.0008, 0.0008, 0.0007, 0.0007, 0.0007, 0.0007, 0.0007, 0.0007, 0.0007, 0.0007, 0.0007], \"type\": \"scatter\"}, {\"hovertemplate\": \"Compensation: %{x}\", \"line\": {\"dash\": \"dashdot\"}, \"name\": \"2020\", \"x\": [0.2, 0.9, 1.7, 2.5, 3.2, 4.0, 4.7, 5.5, 6.2, 7.0, 7.8, 8.5, 9.3, 10.0, 10.8, 11.6, 12.3, 13.1, 13.8, 14.6, 15.3, 16.1, 16.9, 17.6, 18.4, 19.1, 19.9, 20.6, 21.4, 22.2, 22.9, 23.7, 24.4, 25.2, 25.9, 26.7, 27.5, 28.2, 29.0, 29.7, 30.5, 31.2, 32.0, 32.8, 33.5, 34.3, 35.0, 35.8, 36.5, 37.3, 38.1, 38.8, 39.6, 40.3, 41.1, 41.8, 42.6, 43.4, 44.1, 44.9, 45.6, 46.4, 47.2, 47.9, 48.7, 49.4, 50.2, 50.9, 51.7, 52.5, 53.2, 54.0, 54.7, 55.5, 56.2, 57.0, 57.8, 58.5, 59.3, 60.0, 60.8, 61.5, 62.3, 63.1, 63.8, 64.6, 65.3, 66.1, 66.8, 67.6, 68.4, 69.1, 69.9, 70.6, 71.4, 72.1, 72.9, 73.7, 74.4, 75.2, 75.9, 76.7, 77.4, 78.2, 79.0, 79.7, 80.5, 81.2, 82.0, 82.8, 83.5, 84.3, 85.0, 85.8, 86.5, 87.3, 88.1, 88.8, 89.6, 90.3, 91.1, 91.8, 92.6, 93.4, 94.1, 94.9, 95.6, 96.4, 97.1, 97.9, 98.7, 99.4, 100.2, 100.9, 101.7, 102.4, 103.2, 104.0, 104.7, 105.5, 106.2, 107.0, 107.7, 108.5, 109.3, 110.0, 110.8, 111.5, 112.3, 113.0, 113.8, 114.6, 115.3, 116.1, 116.8, 117.6, 118.4, 119.1, 119.9, 120.6, 121.4, 122.1, 122.9, 123.7, 124.4, 125.2, 125.9, 126.7, 127.4, 128.2, 129.0, 129.7, 130.5, 131.2, 132.0, 132.7, 133.5, 134.3, 135.0, 135.8, 136.5, 137.3, 138.0, 138.8, 139.6, 140.3, 141.1, 141.8, 142.6, 143.3, 144.1, 144.9, 145.6, 146.4, 147.1, 147.9, 148.6, 149.4, 150.2, 150.9, 151.7, 152.4, 153.2, 154.0, 154.7, 155.5, 156.2, 157.0, 157.7, 158.5, 159.3, 160.0, 160.8, 161.5, 162.3, 163.0, 163.8, 164.6, 165.3, 166.1, 166.8, 167.6, 168.3, 169.1, 169.9, 170.6, 171.4, 172.1, 172.9, 173.6, 174.4, 175.2, 175.9, 176.7, 177.4, 178.2, 178.9, 179.7, 180.5, 181.2, 182.0, 182.7, 183.5, 184.2, 185.0, 185.8, 186.5, 187.3, 188.0, 188.8, 189.6, 190.3, 191.1, 191.8, 192.6, 193.3, 194.1, 194.9, 195.6, 196.4, 197.1, 197.9, 198.6, 199.4], \"y\": [0.0031, 0.0033, 0.0035, 0.0037, 0.0039, 0.0041, 0.0043, 0.0045, 0.0047, 0.0049, 0.0051, 0.0052, 0.0054, 0.0055, 0.0057, 0.0058, 0.006, 0.0061, 0.0062, 0.0063, 0.0064, 0.0065, 0.0066, 0.0066, 0.0067, 0.0068, 0.0068, 0.0069, 0.0069, 0.007, 0.007, 0.0071, 0.0071, 0.0072, 0.0072, 0.0072, 0.0073, 0.0073, 0.0074, 0.0074, 0.0074, 0.0075, 0.0075, 0.0076, 0.0076, 0.0077, 0.0077, 0.0078, 0.0079, 0.0079, 0.008, 0.008, 0.0081, 0.0081, 0.0082, 0.0082, 0.0083, 0.0083, 0.0083, 0.0084, 0.0084, 0.0084, 0.0085, 0.0085, 0.0085, 0.0085, 0.0085, 0.0086, 0.0086, 0.0086, 0.0086, 0.0086, 0.0086, 0.0086, 0.0085, 0.0085, 0.0085, 0.0085, 0.0085, 0.0085, 0.0084, 0.0084, 0.0084, 0.0083, 0.0083, 0.0082, 0.0082, 0.0082, 0.0081, 0.0081, 0.008, 0.008, 0.0079, 0.0078, 0.0078, 0.0077, 0.0077, 0.0076, 0.0075, 0.0075, 0.0074, 0.0073, 0.0073, 0.0072, 0.0071, 0.0071, 0.007, 0.0069, 0.0069, 0.0068, 0.0067, 0.0067, 0.0066, 0.0065, 0.0064, 0.0064, 0.0063, 0.0062, 0.0061, 0.006, 0.006, 0.0059, 0.0058, 0.0057, 0.0056, 0.0056, 0.0055, 0.0054, 0.0053, 0.0053, 0.0052, 0.0051, 0.005, 0.005, 0.0049, 0.0048, 0.0048, 0.0047, 0.0046, 0.0046, 0.0045, 0.0045, 0.0044, 0.0044, 0.0043, 0.0043, 0.0042, 0.0042, 0.0042, 0.0041, 0.0041, 0.0041, 0.004, 0.004, 0.004, 0.0039, 0.0039, 0.0039, 0.0038, 0.0038, 0.0038, 0.0037, 0.0037, 0.0037, 0.0036, 0.0036, 0.0035, 0.0035, 0.0035, 0.0034, 0.0034, 0.0033, 0.0032, 0.0032, 0.0031, 0.0031, 0.003, 0.003, 0.0029, 0.0029, 0.0028, 0.0028, 0.0027, 0.0027, 0.0026, 0.0026, 0.0025, 0.0025, 0.0024, 0.0024, 0.0024, 0.0023, 0.0023, 0.0023, 0.0022, 0.0022, 0.0022, 0.0022, 0.0021, 0.0021, 0.0021, 0.002, 0.002, 0.002, 0.002, 0.0019, 0.0019, 0.0019, 0.0019, 0.0018, 0.0018, 0.0018, 0.0017, 0.0017, 0.0017, 0.0017, 0.0016, 0.0016, 0.0016, 0.0015, 0.0015, 0.0015, 0.0014, 0.0014, 0.0014, 0.0013, 0.0013, 0.0013, 0.0012, 0.0012, 0.0012, 0.0012, 0.0011, 0.0011, 0.0011, 0.0011, 0.001, 0.001, 0.001, 0.001, 0.0009, 0.0009, 0.0009, 0.0009, 0.0009, 0.0009, 0.0009, 0.0008, 0.0008, 0.0008, 0.0008, 0.0008, 0.0008, 0.0008, 0.0008, 0.0008, 0.0008, 0.0008, 0.0008, 0.0008, 0.0008, 0.0007, 0.0007, 0.0007], \"type\": \"scatter\"}], \"layout\": {\"template\": {\"data\": {\"barpolar\": [{\"marker\": {\"line\": {\"color\": \"#E5ECF6\", \"width\": 0.5}}, \"type\": \"barpolar\"}], \"bar\": [{\"error_x\": {\"color\": \"#2a3f5f\"}, \"error_y\": {\"color\": \"#2a3f5f\"}, \"marker\": {\"line\": {\"color\": \"#E5ECF6\", \"width\": 0.5}}, \"type\": \"bar\"}], \"carpet\": [{\"aaxis\": {\"endlinecolor\": \"#2a3f5f\", \"gridcolor\": \"white\", \"linecolor\": \"white\", \"minorgridcolor\": \"white\", \"startlinecolor\": \"#2a3f5f\"}, \"baxis\": {\"endlinecolor\": \"#2a3f5f\", \"gridcolor\": \"white\", \"linecolor\": \"white\", \"minorgridcolor\": \"white\", \"startlinecolor\": \"#2a3f5f\"}, \"type\": \"carpet\"}], \"choropleth\": [{\"colorbar\": {\"outlinewidth\": 0, \"ticks\": \"\"}, \"type\": \"choropleth\"}], \"contourcarpet\": [{\"colorbar\": {\"outlinewidth\": 0, \"ticks\": \"\"}, \"type\": \"contourcarpet\"}], \"contour\": [{\"colorbar\": {\"outlinewidth\": 0, \"ticks\": \"\"}, \"colorscale\": [[0.0, \"#0d0887\"], [0.1111111111111111, \"#46039f\"], [0.2222222222222222, \"#7201a8\"], [0.3333333333333333, \"#9c179e\"], [0.4444444444444444, \"#bd3786\"], [0.5555555555555556, \"#d8576b\"], [0.6666666666666666, \"#ed7953\"], [0.7777777777777778, \"#fb9f3a\"], [0.8888888888888888, \"#fdca26\"], [1.0, \"#f0f921\"]], \"type\": \"contour\"}], \"heatmapgl\": [{\"colorbar\": {\"outlinewidth\": 0, \"ticks\": \"\"}, \"colorscale\": [[0.0, \"#0d0887\"], [0.1111111111111111, \"#46039f\"], [0.2222222222222222, \"#7201a8\"], [0.3333333333333333, \"#9c179e\"], [0.4444444444444444, \"#bd3786\"], [0.5555555555555556, \"#d8576b\"], [0.6666666666666666, \"#ed7953\"], [0.7777777777777778, \"#fb9f3a\"], [0.8888888888888888, \"#fdca26\"], [1.0, \"#f0f921\"]], \"type\": \"heatmapgl\"}], \"heatmap\": [{\"colorbar\": {\"outlinewidth\": 0, \"ticks\": \"\"}, \"colorscale\": [[0.0, \"#0d0887\"], [0.1111111111111111, \"#46039f\"], [0.2222222222222222, \"#7201a8\"], [0.3333333333333333, \"#9c179e\"], [0.4444444444444444, \"#bd3786\"], [0.5555555555555556, \"#d8576b\"], [0.6666666666666666, \"#ed7953\"], [0.7777777777777778, \"#fb9f3a\"], [0.8888888888888888, \"#fdca26\"], [1.0, \"#f0f921\"]], \"type\": \"heatmap\"}], \"histogram2dcontour\": [{\"colorbar\": {\"outlinewidth\": 0, \"ticks\": \"\"}, \"colorscale\": [[0.0, \"#0d0887\"], [0.1111111111111111, \"#46039f\"], [0.2222222222222222, \"#7201a8\"], [0.3333333333333333, \"#9c179e\"], [0.4444444444444444, \"#bd3786\"], [0.5555555555555556, \"#d8576b\"], [0.6666666666666666, \"#ed7953\"], [0.7777777777777778, \"#fb9f3a\"], [0.8888888888888888, \"#fdca26\"], [1.0, \"#f0f921\"]], \"type\": \"histogram2dcontour\"}], \"histogram2d\": [{\"colorbar\": {\"outlinewidth\": 0, \"ticks\": \"\"}, \"colorscale\": [[0.0, \"#0d0887\"], [0.1111111111111111, \"#46039f\"], [0.2222222222222222, \"#7201a8\"], [0.3333333333333333, \"#9c179e\"], [0.4444444444444444, \"#bd3786\"], [0.5555555555555556, \"#d8576b\"], [0.6666666666666666, \"#ed7953\"], [0.7777777777777778, \"#fb9f3a\"], [0.8888888888888888, \"#fdca26\"], [1.0, \"#f0f921\"]], \"type\": \"histogram2d\"}], \"histogram\": [{\"marker\": {\"colorbar\": {\"outlinewidth\": 0, \"ticks\": \"\"}}, \"type\": \"histogram\"}], \"mesh3d\": [{\"colorbar\": {\"outlinewidth\": 0, \"ticks\": \"\"}, \"type\": \"mesh3d\"}], \"parcoords\": [{\"line\": {\"colorbar\": {\"outlinewidth\": 0, \"ticks\": \"\"}}, \"type\": \"parcoords\"}], \"pie\": [{\"automargin\": true, \"type\": \"pie\"}], \"scatter3d\": [{\"line\": {\"colorbar\": {\"outlinewidth\": 0, \"ticks\": \"\"}}, \"marker\": {\"colorbar\": {\"outlinewidth\": 0, \"ticks\": \"\"}}, \"type\": \"scatter3d\"}], \"scattercarpet\": [{\"marker\": {\"colorbar\": {\"outlinewidth\": 0, \"ticks\": \"\"}}, \"type\": \"scattercarpet\"}], \"scattergeo\": [{\"marker\": {\"colorbar\": {\"outlinewidth\": 0, \"ticks\": \"\"}}, \"type\": \"scattergeo\"}], \"scattergl\": [{\"marker\": {\"colorbar\": {\"outlinewidth\": 0, \"ticks\": \"\"}}, \"type\": \"scattergl\"}], \"scattermapbox\": [{\"marker\": {\"colorbar\": {\"outlinewidth\": 0, \"ticks\": \"\"}}, \"type\": \"scattermapbox\"}], \"scatterpolargl\": [{\"marker\": {\"colorbar\": {\"outlinewidth\": 0, \"ticks\": \"\"}}, \"type\": \"scatterpolargl\"}], \"scatterpolar\": [{\"marker\": {\"colorbar\": {\"outlinewidth\": 0, \"ticks\": \"\"}}, \"type\": \"scatterpolar\"}], \"scatter\": [{\"marker\": {\"colorbar\": {\"outlinewidth\": 0, \"ticks\": \"\"}}, \"type\": \"scatter\"}], \"scatterternary\": [{\"marker\": {\"colorbar\": {\"outlinewidth\": 0, \"ticks\": \"\"}}, \"type\": \"scatterternary\"}], \"surface\": [{\"colorbar\": {\"outlinewidth\": 0, \"ticks\": \"\"}, \"colorscale\": [[0.0, \"#0d0887\"], [0.1111111111111111, \"#46039f\"], [0.2222222222222222, \"#7201a8\"], [0.3333333333333333, \"#9c179e\"], [0.4444444444444444, \"#bd3786\"], [0.5555555555555556, \"#d8576b\"], [0.6666666666666666, \"#ed7953\"], [0.7777777777777778, \"#fb9f3a\"], [0.8888888888888888, \"#fdca26\"], [1.0, \"#f0f921\"]], \"type\": \"surface\"}], \"table\": [{\"cells\": {\"fill\": {\"color\": \"#EBF0F8\"}, \"line\": {\"color\": \"white\"}}, \"header\": {\"fill\": {\"color\": \"#C8D4E3\"}, \"line\": {\"color\": \"white\"}}, \"type\": \"table\"}]}, \"layout\": {\"annotationdefaults\": {\"arrowcolor\": \"#2a3f5f\", \"arrowhead\": 0, \"arrowwidth\": 1}, \"coloraxis\": {\"colorbar\": {\"outlinewidth\": 0, \"ticks\": \"\"}}, \"colorscale\": {\"diverging\": [[0, \"#8e0152\"], [0.1, \"#c51b7d\"], [0.2, \"#de77ae\"], [0.3, \"#f1b6da\"], [0.4, \"#fde0ef\"], [0.5, \"#f7f7f7\"], [0.6, \"#e6f5d0\"], [0.7, \"#b8e186\"], [0.8, \"#7fbc41\"], [0.9, \"#4d9221\"], [1, \"#276419\"]], \"sequential\": [[0.0, \"#0d0887\"], [0.1111111111111111, \"#46039f\"], [0.2222222222222222, \"#7201a8\"], [0.3333333333333333, \"#9c179e\"], [0.4444444444444444, \"#bd3786\"], [0.5555555555555556, \"#d8576b\"], [0.6666666666666666, \"#ed7953\"], [0.7777777777777778, \"#fb9f3a\"], [0.8888888888888888, \"#fdca26\"], [1.0, \"#f0f921\"]], \"sequentialminus\": [[0.0, \"#0d0887\"], [0.1111111111111111, \"#46039f\"], [0.2222222222222222, \"#7201a8\"], [0.3333333333333333, \"#9c179e\"], [0.4444444444444444, \"#bd3786\"], [0.5555555555555556, \"#d8576b\"], [0.6666666666666666, \"#ed7953\"], [0.7777777777777778, \"#fb9f3a\"], [0.8888888888888888, \"#fdca26\"], [1.0, \"#f0f921\"]]}, \"colorway\": [\"#636efa\", \"#EF553B\", \"#00cc96\", \"#ab63fa\", \"#FFA15A\", \"#19d3f3\", \"#FF6692\", \"#B6E880\", \"#FF97FF\", \"#FECB52\"], \"font\": {\"color\": \"#2a3f5f\"}, \"geo\": {\"bgcolor\": \"white\", \"lakecolor\": \"white\", \"landcolor\": \"#E5ECF6\", \"showlakes\": true, \"showland\": true, \"subunitcolor\": \"white\"}, \"hoverlabel\": {\"align\": \"left\"}, \"hovermode\": \"closest\", \"mapbox\": {\"style\": \"light\"}, \"paper_bgcolor\": \"white\", \"plot_bgcolor\": \"#E5ECF6\", \"polar\": {\"angularaxis\": {\"gridcolor\": \"white\", \"linecolor\": \"white\", \"ticks\": \"\"}, \"bgcolor\": \"#E5ECF6\", \"radialaxis\": {\"gridcolor\": \"white\", \"linecolor\": \"white\", \"ticks\": \"\"}}, \"scene\": {\"xaxis\": {\"backgroundcolor\": \"#E5ECF6\", \"gridcolor\": \"white\", \"gridwidth\": 2, \"linecolor\": \"white\", \"showbackground\": true, \"ticks\": \"\", \"zerolinecolor\": \"white\"}, \"yaxis\": {\"backgroundcolor\": \"#E5ECF6\", \"gridcolor\": \"white\", \"gridwidth\": 2, \"linecolor\": \"white\", \"showbackground\": true, \"ticks\": \"\", \"zerolinecolor\": \"white\"}, \"zaxis\": {\"backgroundcolor\": \"#E5ECF6\", \"gridcolor\": \"white\", \"gridwidth\": 2, \"linecolor\": \"white\", \"showbackground\": true, \"ticks\": \"\", \"zerolinecolor\": \"white\"}}, \"shapedefaults\": {\"line\": {\"color\": \"#2a3f5f\"}}, \"ternary\": {\"aaxis\": {\"gridcolor\": \"white\", \"linecolor\": \"white\", \"ticks\": \"\"}, \"baxis\": {\"gridcolor\": \"white\", \"linecolor\": \"white\", \"ticks\": \"\"}, \"bgcolor\": \"#E5ECF6\", \"caxis\": {\"gridcolor\": \"white\", \"linecolor\": \"white\", \"ticks\": \"\"}}, \"title\": {\"x\": 0.05}, \"xaxis\": {\"automargin\": true, \"gridcolor\": \"white\", \"linecolor\": \"white\", \"ticks\": \"\", \"title\": {\"standoff\": 15}, \"zerolinecolor\": \"white\", \"zerolinewidth\": 2}, \"yaxis\": {\"automargin\": true, \"gridcolor\": \"white\", \"linecolor\": \"white\", \"ticks\": \"\", \"title\": {\"standoff\": 15}, \"zerolinecolor\": \"white\", \"zerolinewidth\": 2}}}, \"title\": {\"text\": \"Annual Compensation Density Estimation:<br>DevOps\", \"x\": 0.5, \"xanchor\": \"center\", \"yanchor\": \"top\"}, \"xaxis\": {\"ticksuffix\": \"k\", \"title\": {\"text\": \"Compensation (USD)\"}}, \"yaxis\": {\"range\": [0, 0.012], \"tickcolor\": \"white\", \"ticklen\": 8, \"ticks\": \"outside\", \"title\": {\"text\": \"Probability Density\"}, \"zeroline\": false}}, \"name\": \"DevOps specialist\"}, {\"data\": [{\"hovertemplate\": \"Compensation: %{x}\", \"line\": {\"dash\": \"longdashdot\"}, \"name\": \"2018\", \"x\": [0.2, 0.8, 1.5, 2.2, 2.9, 3.6, 4.2, 4.9, 5.6, 6.3, 6.9, 7.6, 8.3, 9.0, 9.6, 10.3, 11.0, 11.7, 12.4, 13.0, 13.7, 14.4, 15.1, 15.7, 16.4, 17.1, 17.8, 18.4, 19.1, 19.8, 20.5, 21.2, 21.8, 22.5, 23.2, 23.9, 24.5, 25.2, 25.9, 26.6, 27.2, 27.9, 28.6, 29.3, 30.0, 30.6, 31.3, 32.0, 32.7, 33.3, 34.0, 34.7, 35.4, 36.0, 36.7, 37.4, 38.1, 38.8, 39.4, 40.1, 40.8, 41.5, 42.1, 42.8, 43.5, 44.2, 44.8, 45.5, 46.2, 46.9, 47.6, 48.2, 48.9, 49.6, 50.3, 50.9, 51.6, 52.3, 53.0, 53.6, 54.3, 55.0, 55.7, 56.4, 57.0, 57.7, 58.4, 59.1, 59.7, 60.4, 61.1, 61.8, 62.4, 63.1, 63.8, 64.5, 65.2, 65.8, 66.5, 67.2, 67.9, 68.5, 69.2, 69.9, 70.6, 71.2, 71.9, 72.6, 73.3, 74.0, 74.6, 75.3, 76.0, 76.7, 77.3, 78.0, 78.7, 79.4, 80.0, 80.7, 81.4, 82.1, 82.8, 83.4, 84.1, 84.8, 85.5, 86.1, 86.8, 87.5, 88.2, 88.8, 89.5, 90.2, 90.9, 91.6, 92.2, 92.9, 93.6, 94.3, 94.9, 95.6, 96.3, 97.0, 97.6, 98.3, 99.0, 99.7, 100.4, 101.0, 101.7, 102.4, 103.1, 103.7, 104.4, 105.1, 105.8, 106.5, 107.1, 107.8, 108.5, 109.2, 109.8, 110.5, 111.2, 111.9, 112.5, 113.2, 113.9, 114.6, 115.3, 115.9, 116.6, 117.3, 118.0, 118.6, 119.3, 120.0, 120.7, 121.3, 122.0, 122.7, 123.4, 124.1, 124.7, 125.4, 126.1, 126.8, 127.4, 128.1, 128.8, 129.5, 130.1, 130.8, 131.5, 132.2, 132.9, 133.5, 134.2, 134.9, 135.6, 136.2, 136.9, 137.6, 138.3, 138.9, 139.6, 140.3, 141.0, 141.7, 142.3, 143.0, 143.7, 144.4, 145.0, 145.7, 146.4, 147.1, 147.7, 148.4, 149.1, 149.8, 150.5, 151.1, 151.8, 152.5, 153.2, 153.8, 154.5, 155.2, 155.9, 156.5, 157.2, 157.9, 158.6, 159.3, 159.9, 160.6, 161.3, 162.0, 162.6, 163.3, 164.0, 164.7, 165.3, 166.0, 166.7, 167.4, 168.1, 168.7, 169.4, 170.1, 170.8, 171.4, 172.1, 172.8, 173.5, 174.1, 174.8, 175.5, 176.2, 176.9, 177.5, 178.2, 178.9, 179.6, 180.2, 180.9, 181.6, 182.3, 182.9, 183.6, 184.3, 185.0, 185.7, 186.3, 187.0, 187.7, 188.4, 189.0, 189.7, 190.4, 191.1, 191.7, 192.4, 193.1, 193.8, 194.5, 195.1, 195.8, 196.5, 197.2, 197.8, 198.5, 199.2, 199.9], \"y\": [0.007, 0.0074, 0.0078, 0.0081, 0.0085, 0.0088, 0.0091, 0.0094, 0.0096, 0.0099, 0.0101, 0.0102, 0.0104, 0.0105, 0.0105, 0.0106, 0.0106, 0.0106, 0.0106, 0.0105, 0.0105, 0.0104, 0.0103, 0.0102, 0.0101, 0.01, 0.0099, 0.0098, 0.0097, 0.0096, 0.0095, 0.0094, 0.0093, 0.0092, 0.0091, 0.0091, 0.009, 0.0089, 0.0089, 0.0089, 0.0088, 0.0088, 0.0088, 0.0088, 0.0088, 0.0087, 0.0087, 0.0087, 0.0088, 0.0088, 0.0088, 0.0088, 0.0088, 0.0088, 0.0088, 0.0088, 0.0089, 0.0089, 0.0089, 0.0089, 0.0089, 0.0089, 0.0089, 0.009, 0.009, 0.009, 0.009, 0.009, 0.009, 0.009, 0.009, 0.009, 0.009, 0.009, 0.009, 0.009, 0.0089, 0.0089, 0.0089, 0.0088, 0.0088, 0.0088, 0.0087, 0.0087, 0.0086, 0.0085, 0.0085, 0.0084, 0.0084, 0.0083, 0.0082, 0.0081, 0.0081, 0.008, 0.0079, 0.0078, 0.0078, 0.0077, 0.0076, 0.0075, 0.0075, 0.0074, 0.0073, 0.0073, 0.0072, 0.0071, 0.0071, 0.007, 0.0069, 0.0069, 0.0068, 0.0067, 0.0067, 0.0066, 0.0065, 0.0065, 0.0064, 0.0063, 0.0062, 0.0062, 0.0061, 0.006, 0.0059, 0.0058, 0.0057, 0.0057, 0.0056, 0.0055, 0.0054, 0.0053, 0.0052, 0.0051, 0.0051, 0.005, 0.0049, 0.0048, 0.0047, 0.0046, 0.0045, 0.0045, 0.0044, 0.0043, 0.0042, 0.0041, 0.004, 0.004, 0.0039, 0.0038, 0.0037, 0.0036, 0.0035, 0.0035, 0.0034, 0.0033, 0.0032, 0.0032, 0.0031, 0.003, 0.003, 0.0029, 0.0028, 0.0028, 0.0028, 0.0027, 0.0027, 0.0026, 0.0026, 0.0026, 0.0026, 0.0026, 0.0025, 0.0025, 0.0025, 0.0025, 0.0025, 0.0025, 0.0025, 0.0024, 0.0024, 0.0024, 0.0024, 0.0024, 0.0023, 0.0023, 0.0023, 0.0022, 0.0022, 0.0022, 0.0021, 0.0021, 0.0021, 0.002, 0.002, 0.0019, 0.0019, 0.0019, 0.0018, 0.0018, 0.0017, 0.0017, 0.0017, 0.0016, 0.0016, 0.0016, 0.0016, 0.0016, 0.0015, 0.0015, 0.0015, 0.0015, 0.0015, 0.0015, 0.0015, 0.0014, 0.0014, 0.0014, 0.0014, 0.0014, 0.0014, 0.0014, 0.0013, 0.0013, 0.0013, 0.0013, 0.0013, 0.0012, 0.0012, 0.0012, 0.0012, 0.0011, 0.0011, 0.0011, 0.001, 0.001, 0.001, 0.001, 0.0009, 0.0009, 0.0009, 0.0009, 0.0008, 0.0008, 0.0008, 0.0008, 0.0007, 0.0007, 0.0007, 0.0007, 0.0007, 0.0007, 0.0007, 0.0007, 0.0006, 0.0006, 0.0006, 0.0006, 0.0006, 0.0006, 0.0006, 0.0006, 0.0006, 0.0006, 0.0006, 0.0006, 0.0006, 0.0006, 0.0006, 0.0005, 0.0005, 0.0005, 0.0005, 0.0005, 0.0005, 0.0005, 0.0005, 0.0005, 0.0004, 0.0004, 0.0004, 0.0004, 0.0004, 0.0004, 0.0004, 0.0004, 0.0004, 0.0004, 0.0004, 0.0004, 0.0003, 0.0003, 0.0003, 0.0003, 0.0003, 0.0003, 0.0003, 0.0003], \"type\": \"scatter\"}, {\"hovertemplate\": \"Compensation: %{x}\", \"line\": {\"dash\": \"dash\"}, \"name\": \"2019\", \"x\": [0.2, 1.0, 1.9, 2.7, 3.5, 4.4, 5.2, 6.0, 6.9, 7.7, 8.5, 9.4, 10.2, 11.0, 11.9, 12.7, 13.5, 14.4, 15.2, 16.0, 16.9, 17.7, 18.5, 19.4, 20.2, 21.0, 21.9, 22.7, 23.5, 24.4, 25.2, 26.0, 26.9, 27.7, 28.5, 29.4, 30.2, 31.0, 31.9, 32.7, 33.5, 34.4, 35.2, 36.0, 36.9, 37.7, 38.5, 39.4, 40.2, 41.0, 41.9, 42.7, 43.5, 44.4, 45.2, 46.0, 46.9, 47.7, 48.5, 49.4, 50.2, 51.0, 51.9, 52.7, 53.5, 54.4, 55.2, 56.0, 56.9, 57.7, 58.5, 59.4, 60.2, 61.0, 61.9, 62.7, 63.5, 64.4, 65.2, 66.0, 66.9, 67.7, 68.5, 69.4, 70.2, 71.0, 71.8, 72.7, 73.5, 74.3, 75.2, 76.0, 76.8, 77.7, 78.5, 79.3, 80.2, 81.0, 81.8, 82.7, 83.5, 84.3, 85.2, 86.0, 86.8, 87.7, 88.5, 89.3, 90.2, 91.0, 91.8, 92.7, 93.5, 94.3, 95.2, 96.0, 96.8, 97.7, 98.5, 99.3, 100.2, 101.0, 101.8, 102.7, 103.5, 104.3, 105.2, 106.0, 106.8, 107.7, 108.5, 109.3, 110.2, 111.0, 111.8, 112.7, 113.5, 114.3, 115.2, 116.0, 116.8, 117.7, 118.5, 119.3, 120.2, 121.0, 121.8, 122.7, 123.5, 124.3, 125.2, 126.0, 126.8, 127.7, 128.5, 129.3, 130.2, 131.0, 131.8, 132.7, 133.5, 134.3, 135.2, 136.0, 136.8, 137.7, 138.5, 139.3, 140.2, 141.0, 141.8, 142.7, 143.5, 144.3, 145.2, 146.0, 146.8, 147.7, 148.5, 149.3, 150.2, 151.0, 151.8, 152.7, 153.5, 154.3, 155.2, 156.0, 156.8, 157.7, 158.5, 159.3, 160.2, 161.0, 161.8, 162.6, 163.5, 164.3, 165.1, 166.0, 166.8, 167.6, 168.5, 169.3, 170.1, 171.0, 171.8, 172.6, 173.5, 174.3, 175.1, 176.0, 176.8, 177.6, 178.5, 179.3, 180.1, 181.0, 181.8, 182.6, 183.5, 184.3, 185.1, 186.0, 186.8, 187.6, 188.5, 189.3, 190.1, 191.0, 191.8, 192.6, 193.5, 194.3, 195.1, 196.0, 196.8, 197.6, 198.5, 199.3], \"y\": [0.0063, 0.0067, 0.007, 0.0074, 0.0077, 0.0081, 0.0084, 0.0087, 0.0089, 0.0092, 0.0094, 0.0095, 0.0097, 0.0098, 0.0099, 0.01, 0.01, 0.01, 0.0101, 0.01, 0.01, 0.01, 0.0099, 0.0099, 0.0098, 0.0097, 0.0097, 0.0096, 0.0095, 0.0094, 0.0094, 0.0093, 0.0092, 0.0092, 0.0091, 0.0091, 0.009, 0.009, 0.0089, 0.0089, 0.0089, 0.0088, 0.0088, 0.0088, 0.0087, 0.0087, 0.0087, 0.0087, 0.0086, 0.0086, 0.0086, 0.0086, 0.0085, 0.0085, 0.0085, 0.0085, 0.0084, 0.0084, 0.0084, 0.0083, 0.0083, 0.0083, 0.0082, 0.0082, 0.0081, 0.0081, 0.008, 0.008, 0.0079, 0.0079, 0.0078, 0.0078, 0.0077, 0.0076, 0.0076, 0.0075, 0.0074, 0.0073, 0.0073, 0.0072, 0.0071, 0.007, 0.0069, 0.0069, 0.0068, 0.0067, 0.0066, 0.0065, 0.0064, 0.0063, 0.0062, 0.0062, 0.0061, 0.006, 0.0059, 0.0058, 0.0057, 0.0056, 0.0055, 0.0054, 0.0054, 0.0053, 0.0052, 0.0051, 0.005, 0.0049, 0.0049, 0.0048, 0.0047, 0.0046, 0.0046, 0.0045, 0.0044, 0.0043, 0.0043, 0.0042, 0.0041, 0.0041, 0.004, 0.0039, 0.0039, 0.0038, 0.0037, 0.0037, 0.0036, 0.0036, 0.0035, 0.0034, 0.0034, 0.0033, 0.0033, 0.0032, 0.0032, 0.0031, 0.0031, 0.003, 0.003, 0.0029, 0.0029, 0.0029, 0.0028, 0.0028, 0.0027, 0.0027, 0.0026, 0.0026, 0.0026, 0.0025, 0.0025, 0.0024, 0.0024, 0.0024, 0.0023, 0.0023, 0.0022, 0.0022, 0.0021, 0.0021, 0.0021, 0.002, 0.002, 0.0019, 0.0019, 0.0019, 0.0018, 0.0018, 0.0018, 0.0017, 0.0017, 0.0017, 0.0016, 0.0016, 0.0016, 0.0016, 0.0015, 0.0015, 0.0015, 0.0015, 0.0015, 0.0014, 0.0014, 0.0014, 0.0014, 0.0013, 0.0013, 0.0013, 0.0013, 0.0012, 0.0012, 0.0012, 0.0012, 0.0011, 0.0011, 0.0011, 0.0011, 0.001, 0.001, 0.001, 0.001, 0.0009, 0.0009, 0.0009, 0.0009, 0.0009, 0.0009, 0.0008, 0.0008, 0.0008, 0.0008, 0.0008, 0.0008, 0.0007, 0.0007, 0.0007, 0.0007, 0.0007, 0.0007, 0.0006, 0.0006, 0.0006, 0.0006, 0.0006, 0.0006, 0.0006, 0.0005, 0.0005, 0.0005, 0.0005, 0.0005, 0.0005, 0.0005, 0.0005, 0.0005, 0.0005, 0.0005, 0.0005, 0.0005, 0.0004, 0.0004, 0.0004], \"type\": \"scatter\"}, {\"hovertemplate\": \"Compensation: %{x}\", \"line\": {\"dash\": \"dashdot\"}, \"name\": \"2020\", \"x\": [0.2, 0.9, 1.7, 2.5, 3.2, 4.0, 4.7, 5.5, 6.2, 7.0, 7.8, 8.5, 9.3, 10.0, 10.8, 11.6, 12.3, 13.1, 13.8, 14.6, 15.3, 16.1, 16.9, 17.6, 18.4, 19.1, 19.9, 20.6, 21.4, 22.2, 22.9, 23.7, 24.4, 25.2, 25.9, 26.7, 27.5, 28.2, 29.0, 29.7, 30.5, 31.2, 32.0, 32.8, 33.5, 34.3, 35.0, 35.8, 36.5, 37.3, 38.1, 38.8, 39.6, 40.3, 41.1, 41.8, 42.6, 43.4, 44.1, 44.9, 45.6, 46.4, 47.2, 47.9, 48.7, 49.4, 50.2, 50.9, 51.7, 52.5, 53.2, 54.0, 54.7, 55.5, 56.2, 57.0, 57.8, 58.5, 59.3, 60.0, 60.8, 61.5, 62.3, 63.1, 63.8, 64.6, 65.3, 66.1, 66.8, 67.6, 68.4, 69.1, 69.9, 70.6, 71.4, 72.1, 72.9, 73.7, 74.4, 75.2, 75.9, 76.7, 77.4, 78.2, 79.0, 79.7, 80.5, 81.2, 82.0, 82.8, 83.5, 84.3, 85.0, 85.8, 86.5, 87.3, 88.1, 88.8, 89.6, 90.3, 91.1, 91.8, 92.6, 93.4, 94.1, 94.9, 95.6, 96.4, 97.1, 97.9, 98.7, 99.4, 100.2, 100.9, 101.7, 102.4, 103.2, 104.0, 104.7, 105.5, 106.2, 107.0, 107.7, 108.5, 109.3, 110.0, 110.8, 111.5, 112.3, 113.0, 113.8, 114.6, 115.3, 116.1, 116.8, 117.6, 118.4, 119.1, 119.9, 120.6, 121.4, 122.1, 122.9, 123.7, 124.4, 125.2, 125.9, 126.7, 127.4, 128.2, 129.0, 129.7, 130.5, 131.2, 132.0, 132.7, 133.5, 134.3, 135.0, 135.8, 136.5, 137.3, 138.0, 138.8, 139.6, 140.3, 141.1, 141.8, 142.6, 143.3, 144.1, 144.9, 145.6, 146.4, 147.1, 147.9, 148.6, 149.4, 150.2, 150.9, 151.7, 152.4, 153.2, 154.0, 154.7, 155.5, 156.2, 157.0, 157.7, 158.5, 159.3, 160.0, 160.8, 161.5, 162.3, 163.0, 163.8, 164.6, 165.3, 166.1, 166.8, 167.6, 168.3, 169.1, 169.9, 170.6, 171.4, 172.1, 172.9, 173.6, 174.4, 175.2, 175.9, 176.7, 177.4, 178.2, 178.9, 179.7, 180.5, 181.2, 182.0, 182.7, 183.5, 184.2, 185.0, 185.8, 186.5, 187.3, 188.0, 188.8, 189.6, 190.3, 191.1, 191.8, 192.6, 193.3, 194.1, 194.9, 195.6, 196.4, 197.1, 197.9, 198.6, 199.4], \"y\": [0.0063, 0.0067, 0.007, 0.0074, 0.0077, 0.008, 0.0083, 0.0085, 0.0088, 0.009, 0.0093, 0.0094, 0.0096, 0.0098, 0.0099, 0.01, 0.0101, 0.0102, 0.0102, 0.0103, 0.0103, 0.0103, 0.0103, 0.0103, 0.0102, 0.0102, 0.0101, 0.0101, 0.01, 0.01, 0.0099, 0.0098, 0.0098, 0.0097, 0.0097, 0.0096, 0.0095, 0.0095, 0.0094, 0.0094, 0.0093, 0.0093, 0.0093, 0.0092, 0.0092, 0.0092, 0.0091, 0.0091, 0.0091, 0.0091, 0.009, 0.009, 0.009, 0.0089, 0.0089, 0.0089, 0.0089, 0.0088, 0.0088, 0.0088, 0.0087, 0.0087, 0.0086, 0.0086, 0.0085, 0.0085, 0.0084, 0.0084, 0.0083, 0.0083, 0.0082, 0.0081, 0.0081, 0.008, 0.0079, 0.0078, 0.0078, 0.0077, 0.0076, 0.0075, 0.0075, 0.0074, 0.0073, 0.0072, 0.0071, 0.0071, 0.007, 0.0069, 0.0068, 0.0067, 0.0066, 0.0066, 0.0065, 0.0064, 0.0063, 0.0062, 0.0062, 0.0061, 0.006, 0.0059, 0.0059, 0.0058, 0.0057, 0.0056, 0.0056, 0.0055, 0.0054, 0.0054, 0.0053, 0.0052, 0.0051, 0.0051, 0.005, 0.0049, 0.0049, 0.0048, 0.0047, 0.0047, 0.0046, 0.0045, 0.0044, 0.0044, 0.0043, 0.0042, 0.0042, 0.0041, 0.004, 0.004, 0.0039, 0.0038, 0.0038, 0.0037, 0.0037, 0.0036, 0.0036, 0.0035, 0.0034, 0.0034, 0.0033, 0.0033, 0.0032, 0.0032, 0.0032, 0.0031, 0.0031, 0.003, 0.003, 0.003, 0.0029, 0.0029, 0.0029, 0.0028, 0.0028, 0.0028, 0.0027, 0.0027, 0.0027, 0.0026, 0.0026, 0.0026, 0.0025, 0.0025, 0.0025, 0.0025, 0.0024, 0.0024, 0.0023, 0.0023, 0.0023, 0.0022, 0.0022, 0.0022, 0.0021, 0.0021, 0.002, 0.002, 0.002, 0.0019, 0.0019, 0.0018, 0.0018, 0.0018, 0.0017, 0.0017, 0.0017, 0.0016, 0.0016, 0.0016, 0.0015, 0.0015, 0.0015, 0.0015, 0.0015, 0.0014, 0.0014, 0.0014, 0.0014, 0.0014, 0.0014, 0.0014, 0.0014, 0.0013, 0.0013, 0.0013, 0.0013, 0.0013, 0.0013, 0.0013, 0.0013, 0.0012, 0.0012, 0.0012, 0.0012, 0.0012, 0.0011, 0.0011, 0.0011, 0.0011, 0.0011, 0.001, 0.001, 0.001, 0.001, 0.001, 0.0009, 0.0009, 0.0009, 0.0009, 0.0009, 0.0008, 0.0008, 0.0008, 0.0008, 0.0008, 0.0008, 0.0007, 0.0007, 0.0007, 0.0007, 0.0007, 0.0007, 0.0006, 0.0006, 0.0006, 0.0006, 0.0006, 0.0006, 0.0006, 0.0005, 0.0005, 0.0005, 0.0005, 0.0005, 0.0005, 0.0005, 0.0005, 0.0005, 0.0005, 0.0005, 0.0005, 0.0005, 0.0005, 0.0005, 0.0005], \"type\": \"scatter\"}], \"layout\": {\"template\": {\"data\": {\"barpolar\": [{\"marker\": {\"line\": {\"color\": \"#E5ECF6\", \"width\": 0.5}}, \"type\": \"barpolar\"}], \"bar\": [{\"error_x\": {\"color\": \"#2a3f5f\"}, \"error_y\": {\"color\": \"#2a3f5f\"}, \"marker\": {\"line\": {\"color\": \"#E5ECF6\", \"width\": 0.5}}, \"type\": \"bar\"}], \"carpet\": [{\"aaxis\": {\"endlinecolor\": \"#2a3f5f\", \"gridcolor\": \"white\", \"linecolor\": \"white\", \"minorgridcolor\": \"white\", \"startlinecolor\": \"#2a3f5f\"}, \"baxis\": {\"endlinecolor\": \"#2a3f5f\", \"gridcolor\": \"white\", \"linecolor\": \"white\", \"minorgridcolor\": \"white\", \"startlinecolor\": \"#2a3f5f\"}, \"type\": \"carpet\"}], \"choropleth\": [{\"colorbar\": {\"outlinewidth\": 0, \"ticks\": \"\"}, \"type\": \"choropleth\"}], \"contourcarpet\": [{\"colorbar\": {\"outlinewidth\": 0, \"ticks\": \"\"}, \"type\": \"contourcarpet\"}], \"contour\": [{\"colorbar\": {\"outlinewidth\": 0, \"ticks\": \"\"}, \"colorscale\": [[0.0, \"#0d0887\"], [0.1111111111111111, \"#46039f\"], [0.2222222222222222, \"#7201a8\"], [0.3333333333333333, \"#9c179e\"], [0.4444444444444444, \"#bd3786\"], [0.5555555555555556, \"#d8576b\"], [0.6666666666666666, \"#ed7953\"], [0.7777777777777778, \"#fb9f3a\"], [0.8888888888888888, \"#fdca26\"], [1.0, \"#f0f921\"]], \"type\": \"contour\"}], \"heatmapgl\": [{\"colorbar\": {\"outlinewidth\": 0, \"ticks\": \"\"}, \"colorscale\": [[0.0, \"#0d0887\"], [0.1111111111111111, \"#46039f\"], [0.2222222222222222, \"#7201a8\"], [0.3333333333333333, \"#9c179e\"], [0.4444444444444444, \"#bd3786\"], [0.5555555555555556, \"#d8576b\"], [0.6666666666666666, \"#ed7953\"], [0.7777777777777778, \"#fb9f3a\"], [0.8888888888888888, \"#fdca26\"], [1.0, \"#f0f921\"]], \"type\": \"heatmapgl\"}], \"heatmap\": [{\"colorbar\": {\"outlinewidth\": 0, \"ticks\": \"\"}, \"colorscale\": [[0.0, \"#0d0887\"], [0.1111111111111111, \"#46039f\"], [0.2222222222222222, \"#7201a8\"], [0.3333333333333333, \"#9c179e\"], [0.4444444444444444, \"#bd3786\"], [0.5555555555555556, \"#d8576b\"], [0.6666666666666666, \"#ed7953\"], [0.7777777777777778, \"#fb9f3a\"], [0.8888888888888888, \"#fdca26\"], [1.0, \"#f0f921\"]], \"type\": \"heatmap\"}], \"histogram2dcontour\": [{\"colorbar\": {\"outlinewidth\": 0, \"ticks\": \"\"}, \"colorscale\": [[0.0, \"#0d0887\"], [0.1111111111111111, \"#46039f\"], [0.2222222222222222, \"#7201a8\"], [0.3333333333333333, \"#9c179e\"], [0.4444444444444444, \"#bd3786\"], [0.5555555555555556, \"#d8576b\"], [0.6666666666666666, \"#ed7953\"], [0.7777777777777778, \"#fb9f3a\"], [0.8888888888888888, \"#fdca26\"], [1.0, \"#f0f921\"]], \"type\": \"histogram2dcontour\"}], \"histogram2d\": [{\"colorbar\": {\"outlinewidth\": 0, \"ticks\": \"\"}, \"colorscale\": [[0.0, \"#0d0887\"], [0.1111111111111111, \"#46039f\"], [0.2222222222222222, \"#7201a8\"], [0.3333333333333333, \"#9c179e\"], [0.4444444444444444, \"#bd3786\"], [0.5555555555555556, \"#d8576b\"], [0.6666666666666666, \"#ed7953\"], [0.7777777777777778, \"#fb9f3a\"], [0.8888888888888888, \"#fdca26\"], [1.0, \"#f0f921\"]], \"type\": \"histogram2d\"}], \"histogram\": [{\"marker\": {\"colorbar\": {\"outlinewidth\": 0, \"ticks\": \"\"}}, \"type\": \"histogram\"}], \"mesh3d\": [{\"colorbar\": {\"outlinewidth\": 0, \"ticks\": \"\"}, \"type\": \"mesh3d\"}], \"parcoords\": [{\"line\": {\"colorbar\": {\"outlinewidth\": 0, \"ticks\": \"\"}}, \"type\": \"parcoords\"}], \"pie\": [{\"automargin\": true, \"type\": \"pie\"}], \"scatter3d\": [{\"line\": {\"colorbar\": {\"outlinewidth\": 0, \"ticks\": \"\"}}, \"marker\": {\"colorbar\": {\"outlinewidth\": 0, \"ticks\": \"\"}}, \"type\": \"scatter3d\"}], \"scattercarpet\": [{\"marker\": {\"colorbar\": {\"outlinewidth\": 0, \"ticks\": \"\"}}, \"type\": \"scattercarpet\"}], \"scattergeo\": [{\"marker\": {\"colorbar\": {\"outlinewidth\": 0, \"ticks\": \"\"}}, \"type\": \"scattergeo\"}], \"scattergl\": [{\"marker\": {\"colorbar\": {\"outlinewidth\": 0, \"ticks\": \"\"}}, \"type\": \"scattergl\"}], \"scattermapbox\": [{\"marker\": {\"colorbar\": {\"outlinewidth\": 0, \"ticks\": \"\"}}, \"type\": \"scattermapbox\"}], \"scatterpolargl\": [{\"marker\": {\"colorbar\": {\"outlinewidth\": 0, \"ticks\": \"\"}}, \"type\": \"scatterpolargl\"}], \"scatterpolar\": [{\"marker\": {\"colorbar\": {\"outlinewidth\": 0, \"ticks\": \"\"}}, \"type\": \"scatterpolar\"}], \"scatter\": [{\"marker\": {\"colorbar\": {\"outlinewidth\": 0, \"ticks\": \"\"}}, \"type\": \"scatter\"}], \"scatterternary\": [{\"marker\": {\"colorbar\": {\"outlinewidth\": 0, \"ticks\": \"\"}}, \"type\": \"scatterternary\"}], \"surface\": [{\"colorbar\": {\"outlinewidth\": 0, \"ticks\": \"\"}, \"colorscale\": [[0.0, \"#0d0887\"], [0.1111111111111111, \"#46039f\"], [0.2222222222222222, \"#7201a8\"], [0.3333333333333333, \"#9c179e\"], [0.4444444444444444, \"#bd3786\"], [0.5555555555555556, \"#d8576b\"], [0.6666666666666666, \"#ed7953\"], [0.7777777777777778, \"#fb9f3a\"], [0.8888888888888888, \"#fdca26\"], [1.0, \"#f0f921\"]], \"type\": \"surface\"}], \"table\": [{\"cells\": {\"fill\": {\"color\": \"#EBF0F8\"}, \"line\": {\"color\": \"white\"}}, \"header\": {\"fill\": {\"color\": \"#C8D4E3\"}, \"line\": {\"color\": \"white\"}}, \"type\": \"table\"}]}, \"layout\": {\"annotationdefaults\": {\"arrowcolor\": \"#2a3f5f\", \"arrowhead\": 0, \"arrowwidth\": 1}, \"coloraxis\": {\"colorbar\": {\"outlinewidth\": 0, \"ticks\": \"\"}}, \"colorscale\": {\"diverging\": [[0, \"#8e0152\"], [0.1, \"#c51b7d\"], [0.2, \"#de77ae\"], [0.3, \"#f1b6da\"], [0.4, \"#fde0ef\"], [0.5, \"#f7f7f7\"], [0.6, \"#e6f5d0\"], [0.7, \"#b8e186\"], [0.8, \"#7fbc41\"], [0.9, \"#4d9221\"], [1, \"#276419\"]], \"sequential\": [[0.0, \"#0d0887\"], [0.1111111111111111, \"#46039f\"], [0.2222222222222222, \"#7201a8\"], [0.3333333333333333, \"#9c179e\"], [0.4444444444444444, \"#bd3786\"], [0.5555555555555556, \"#d8576b\"], [0.6666666666666666, \"#ed7953\"], [0.7777777777777778, \"#fb9f3a\"], [0.8888888888888888, \"#fdca26\"], [1.0, \"#f0f921\"]], \"sequentialminus\": [[0.0, \"#0d0887\"], [0.1111111111111111, \"#46039f\"], [0.2222222222222222, \"#7201a8\"], [0.3333333333333333, \"#9c179e\"], [0.4444444444444444, \"#bd3786\"], [0.5555555555555556, \"#d8576b\"], [0.6666666666666666, \"#ed7953\"], [0.7777777777777778, \"#fb9f3a\"], [0.8888888888888888, \"#fdca26\"], [1.0, \"#f0f921\"]]}, \"colorway\": [\"#636efa\", \"#EF553B\", \"#00cc96\", \"#ab63fa\", \"#FFA15A\", \"#19d3f3\", \"#FF6692\", \"#B6E880\", \"#FF97FF\", \"#FECB52\"], \"font\": {\"color\": \"#2a3f5f\"}, \"geo\": {\"bgcolor\": \"white\", \"lakecolor\": \"white\", \"landcolor\": \"#E5ECF6\", \"showlakes\": true, \"showland\": true, \"subunitcolor\": \"white\"}, \"hoverlabel\": {\"align\": \"left\"}, \"hovermode\": \"closest\", \"mapbox\": {\"style\": \"light\"}, \"paper_bgcolor\": \"white\", \"plot_bgcolor\": \"#E5ECF6\", \"polar\": {\"angularaxis\": {\"gridcolor\": \"white\", \"linecolor\": \"white\", \"ticks\": \"\"}, \"bgcolor\": \"#E5ECF6\", \"radialaxis\": {\"gridcolor\": \"white\", \"linecolor\": \"white\", \"ticks\": \"\"}}, \"scene\": {\"xaxis\": {\"backgroundcolor\": \"#E5ECF6\", \"gridcolor\": \"white\", \"gridwidth\": 2, \"linecolor\": \"white\", \"showbackground\": true, \"ticks\": \"\", \"zerolinecolor\": \"white\"}, \"yaxis\": {\"backgroundcolor\": \"#E5ECF6\", \"gridcolor\": \"white\", \"gridwidth\": 2, \"linecolor\": \"white\", \"showbackground\": true, \"ticks\": \"\", \"zerolinecolor\": \"white\"}, \"zaxis\": {\"backgroundcolor\": \"#E5ECF6\", \"gridcolor\": \"white\", \"gridwidth\": 2, \"linecolor\": \"white\", \"showbackground\": true, \"ticks\": \"\", \"zerolinecolor\": \"white\"}}, \"shapedefaults\": {\"line\": {\"color\": \"#2a3f5f\"}}, \"ternary\": {\"aaxis\": {\"gridcolor\": \"white\", \"linecolor\": \"white\", \"ticks\": \"\"}, \"baxis\": {\"gridcolor\": \"white\", \"linecolor\": \"white\", \"ticks\": \"\"}, \"bgcolor\": \"#E5ECF6\", \"caxis\": {\"gridcolor\": \"white\", \"linecolor\": \"white\", \"ticks\": \"\"}}, \"title\": {\"x\": 0.05}, \"xaxis\": {\"automargin\": true, \"gridcolor\": \"white\", \"linecolor\": \"white\", \"ticks\": \"\", \"title\": {\"standoff\": 15}, \"zerolinecolor\": \"white\", \"zerolinewidth\": 2}, \"yaxis\": {\"automargin\": true, \"gridcolor\": \"white\", \"linecolor\": \"white\", \"ticks\": \"\", \"title\": {\"standoff\": 15}, \"zerolinecolor\": \"white\", \"zerolinewidth\": 2}}}, \"title\": {\"text\": \"Annual Compensation Density Estimation:<br>Database Admin\", \"x\": 0.5, \"xanchor\": \"center\", \"yanchor\": \"top\"}, \"xaxis\": {\"ticksuffix\": \"k\", \"title\": {\"text\": \"Compensation (USD)\"}}, \"yaxis\": {\"range\": [0, 0.012], \"tickcolor\": \"white\", \"ticklen\": 8, \"ticks\": \"outside\", \"title\": {\"text\": \"Probability Density\"}, \"zeroline\": false}}, \"name\": \"Database administrator\"}, {\"data\": [{\"hovertemplate\": \"Compensation: %{x}\", \"line\": {\"dash\": \"longdashdot\"}, \"name\": \"2018\", \"x\": [0.2, 0.8, 1.5, 2.2, 2.9, 3.6, 4.2, 4.9, 5.6, 6.3, 6.9, 7.6, 8.3, 9.0, 9.6, 10.3, 11.0, 11.7, 12.4, 13.0, 13.7, 14.4, 15.1, 15.7, 16.4, 17.1, 17.8, 18.4, 19.1, 19.8, 20.5, 21.2, 21.8, 22.5, 23.2, 23.9, 24.5, 25.2, 25.9, 26.6, 27.2, 27.9, 28.6, 29.3, 30.0, 30.6, 31.3, 32.0, 32.7, 33.3, 34.0, 34.7, 35.4, 36.0, 36.7, 37.4, 38.1, 38.8, 39.4, 40.1, 40.8, 41.5, 42.1, 42.8, 43.5, 44.2, 44.8, 45.5, 46.2, 46.9, 47.6, 48.2, 48.9, 49.6, 50.3, 50.9, 51.6, 52.3, 53.0, 53.6, 54.3, 55.0, 55.7, 56.4, 57.0, 57.7, 58.4, 59.1, 59.7, 60.4, 61.1, 61.8, 62.4, 63.1, 63.8, 64.5, 65.2, 65.8, 66.5, 67.2, 67.9, 68.5, 69.2, 69.9, 70.6, 71.2, 71.9, 72.6, 73.3, 74.0, 74.6, 75.3, 76.0, 76.7, 77.3, 78.0, 78.7, 79.4, 80.0, 80.7, 81.4, 82.1, 82.8, 83.4, 84.1, 84.8, 85.5, 86.1, 86.8, 87.5, 88.2, 88.8, 89.5, 90.2, 90.9, 91.6, 92.2, 92.9, 93.6, 94.3, 94.9, 95.6, 96.3, 97.0, 97.6, 98.3, 99.0, 99.7, 100.4, 101.0, 101.7, 102.4, 103.1, 103.7, 104.4, 105.1, 105.8, 106.5, 107.1, 107.8, 108.5, 109.2, 109.8, 110.5, 111.2, 111.9, 112.5, 113.2, 113.9, 114.6, 115.3, 115.9, 116.6, 117.3, 118.0, 118.6, 119.3, 120.0, 120.7, 121.3, 122.0, 122.7, 123.4, 124.1, 124.7, 125.4, 126.1, 126.8, 127.4, 128.1, 128.8, 129.5, 130.1, 130.8, 131.5, 132.2, 132.9, 133.5, 134.2, 134.9, 135.6, 136.2, 136.9, 137.6, 138.3, 138.9, 139.6, 140.3, 141.0, 141.7, 142.3, 143.0, 143.7, 144.4, 145.0, 145.7, 146.4, 147.1, 147.7, 148.4, 149.1, 149.8, 150.5, 151.1, 151.8, 152.5, 153.2, 153.8, 154.5, 155.2, 155.9, 156.5, 157.2, 157.9, 158.6, 159.3, 159.9, 160.6, 161.3, 162.0, 162.6, 163.3, 164.0, 164.7, 165.3, 166.0, 166.7, 167.4, 168.1, 168.7, 169.4, 170.1, 170.8, 171.4, 172.1, 172.8, 173.5, 174.1, 174.8, 175.5, 176.2, 176.9, 177.5, 178.2, 178.9, 179.6, 180.2, 180.9, 181.6, 182.3, 182.9, 183.6, 184.3, 185.0, 185.7, 186.3, 187.0, 187.7, 188.4, 189.0, 189.7, 190.4, 191.1, 191.7, 192.4, 193.1, 193.8, 194.5, 195.1, 195.8, 196.5, 197.2, 197.8, 198.5, 199.2, 199.9], \"y\": [0.0057, 0.0061, 0.0064, 0.0066, 0.0069, 0.0072, 0.0074, 0.0076, 0.0078, 0.008, 0.0082, 0.0083, 0.0085, 0.0086, 0.0087, 0.0087, 0.0088, 0.0088, 0.0088, 0.0088, 0.0088, 0.0088, 0.0088, 0.0087, 0.0087, 0.0086, 0.0086, 0.0085, 0.0085, 0.0084, 0.0084, 0.0084, 0.0083, 0.0083, 0.0083, 0.0082, 0.0082, 0.0082, 0.0082, 0.0082, 0.0082, 0.0082, 0.0083, 0.0083, 0.0083, 0.0083, 0.0084, 0.0084, 0.0085, 0.0085, 0.0086, 0.0086, 0.0086, 0.0087, 0.0087, 0.0088, 0.0088, 0.0089, 0.0089, 0.009, 0.009, 0.0091, 0.0091, 0.0092, 0.0092, 0.0093, 0.0093, 0.0094, 0.0094, 0.0095, 0.0095, 0.0095, 0.0096, 0.0096, 0.0096, 0.0096, 0.0096, 0.0096, 0.0096, 0.0096, 0.0096, 0.0096, 0.0096, 0.0096, 0.0095, 0.0095, 0.0094, 0.0094, 0.0093, 0.0093, 0.0092, 0.0091, 0.0091, 0.009, 0.0089, 0.0088, 0.0087, 0.0086, 0.0085, 0.0084, 0.0084, 0.0083, 0.0082, 0.0081, 0.008, 0.0079, 0.0078, 0.0077, 0.0076, 0.0075, 0.0074, 0.0072, 0.0071, 0.007, 0.0069, 0.0068, 0.0067, 0.0066, 0.0065, 0.0064, 0.0063, 0.0062, 0.0061, 0.006, 0.0059, 0.0058, 0.0057, 0.0056, 0.0056, 0.0055, 0.0054, 0.0053, 0.0052, 0.0051, 0.0051, 0.005, 0.0049, 0.0048, 0.0048, 0.0047, 0.0046, 0.0045, 0.0045, 0.0044, 0.0043, 0.0043, 0.0042, 0.0041, 0.0041, 0.004, 0.0039, 0.0038, 0.0038, 0.0037, 0.0036, 0.0036, 0.0035, 0.0035, 0.0034, 0.0034, 0.0033, 0.0033, 0.0032, 0.0032, 0.0031, 0.0031, 0.0031, 0.003, 0.003, 0.003, 0.0029, 0.0029, 0.0029, 0.0029, 0.0028, 0.0028, 0.0028, 0.0027, 0.0027, 0.0027, 0.0026, 0.0026, 0.0026, 0.0025, 0.0025, 0.0024, 0.0024, 0.0023, 0.0023, 0.0022, 0.0022, 0.0021, 0.0021, 0.002, 0.002, 0.002, 0.0019, 0.0019, 0.0018, 0.0018, 0.0018, 0.0017, 0.0017, 0.0017, 0.0016, 0.0016, 0.0016, 0.0016, 0.0016, 0.0016, 0.0015, 0.0015, 0.0015, 0.0015, 0.0015, 0.0015, 0.0015, 0.0015, 0.0015, 0.0014, 0.0014, 0.0014, 0.0014, 0.0014, 0.0014, 0.0014, 0.0013, 0.0013, 0.0013, 0.0013, 0.0013, 0.0012, 0.0012, 0.0012, 0.0012, 0.0011, 0.0011, 0.0011, 0.0011, 0.001, 0.001, 0.001, 0.001, 0.0009, 0.0009, 0.0009, 0.0009, 0.0008, 0.0008, 0.0008, 0.0008, 0.0008, 0.0008, 0.0007, 0.0007, 0.0007, 0.0007, 0.0007, 0.0007, 0.0007, 0.0007, 0.0006, 0.0006, 0.0006, 0.0006, 0.0006, 0.0006, 0.0006, 0.0006, 0.0005, 0.0005, 0.0005, 0.0005, 0.0005, 0.0005, 0.0005, 0.0005, 0.0005, 0.0004, 0.0004, 0.0004, 0.0004, 0.0004, 0.0004, 0.0004, 0.0004, 0.0004, 0.0004, 0.0004, 0.0004, 0.0004, 0.0004, 0.0004, 0.0004, 0.0004, 0.0004], \"type\": \"scatter\"}, {\"hovertemplate\": \"Compensation: %{x}\", \"line\": {\"dash\": \"dash\"}, \"name\": \"2019\", \"x\": [0.2, 1.0, 1.9, 2.7, 3.5, 4.3, 5.2, 6.0, 6.8, 7.6, 8.5, 9.3, 10.1, 10.9, 11.8, 12.6, 13.4, 14.2, 15.1, 15.9, 16.7, 17.5, 18.4, 19.2, 20.0, 20.9, 21.7, 22.5, 23.3, 24.2, 25.0, 25.8, 26.6, 27.5, 28.3, 29.1, 29.9, 30.8, 31.6, 32.4, 33.2, 34.1, 34.9, 35.7, 36.5, 37.4, 38.2, 39.0, 39.8, 40.7, 41.5, 42.3, 43.1, 44.0, 44.8, 45.6, 46.4, 47.3, 48.1, 48.9, 49.8, 50.6, 51.4, 52.2, 53.1, 53.9, 54.7, 55.5, 56.4, 57.2, 58.0, 58.8, 59.7, 60.5, 61.3, 62.1, 63.0, 63.8, 64.6, 65.4, 66.3, 67.1, 67.9, 68.7, 69.6, 70.4, 71.2, 72.0, 72.9, 73.7, 74.5, 75.4, 76.2, 77.0, 77.8, 78.7, 79.5, 80.3, 81.1, 82.0, 82.8, 83.6, 84.4, 85.3, 86.1, 86.9, 87.7, 88.6, 89.4, 90.2, 91.0, 91.9, 92.7, 93.5, 94.3, 95.2, 96.0, 96.8, 97.6, 98.5, 99.3, 100.1, 100.9, 101.8, 102.6, 103.4, 104.3, 105.1, 105.9, 106.7, 107.6, 108.4, 109.2, 110.0, 110.9, 111.7, 112.5, 113.3, 114.2, 115.0, 115.8, 116.6, 117.5, 118.3, 119.1, 119.9, 120.8, 121.6, 122.4, 123.2, 124.1, 124.9, 125.7, 126.5, 127.4, 128.2, 129.0, 129.8, 130.7, 131.5, 132.3, 133.2, 134.0, 134.8, 135.6, 136.5, 137.3, 138.1, 138.9, 139.8, 140.6, 141.4, 142.2, 143.1, 143.9, 144.7, 145.5, 146.4, 147.2, 148.0, 148.8, 149.7, 150.5, 151.3, 152.1, 153.0, 153.8, 154.6, 155.4, 156.3, 157.1, 157.9, 158.8, 159.6, 160.4, 161.2, 162.1, 162.9, 163.7, 164.5, 165.4, 166.2, 167.0, 167.8, 168.7, 169.5, 170.3, 171.1, 172.0, 172.8, 173.6, 174.4, 175.3, 176.1, 176.9, 177.7, 178.6, 179.4, 180.2, 181.0, 181.9, 182.7, 183.5, 184.3, 185.2, 186.0, 186.8, 187.7, 188.5, 189.3, 190.1, 191.0, 191.8, 192.6, 193.4, 194.3, 195.1, 195.9, 196.7, 197.6, 198.4, 199.2], \"y\": [0.0053, 0.0056, 0.006, 0.0063, 0.0067, 0.007, 0.0073, 0.0076, 0.0079, 0.0081, 0.0084, 0.0086, 0.0088, 0.009, 0.0091, 0.0092, 0.0093, 0.0094, 0.0095, 0.0096, 0.0096, 0.0096, 0.0096, 0.0096, 0.0096, 0.0096, 0.0096, 0.0096, 0.0095, 0.0095, 0.0095, 0.0094, 0.0094, 0.0094, 0.0093, 0.0093, 0.0093, 0.0092, 0.0092, 0.0092, 0.0091, 0.0091, 0.0091, 0.0091, 0.009, 0.009, 0.009, 0.009, 0.009, 0.009, 0.0089, 0.0089, 0.0089, 0.0089, 0.0089, 0.0089, 0.0089, 0.0089, 0.0088, 0.0088, 0.0088, 0.0088, 0.0088, 0.0088, 0.0087, 0.0087, 0.0087, 0.0086, 0.0086, 0.0086, 0.0085, 0.0085, 0.0084, 0.0084, 0.0083, 0.0082, 0.0082, 0.0081, 0.008, 0.0079, 0.0078, 0.0077, 0.0076, 0.0076, 0.0075, 0.0074, 0.0073, 0.0071, 0.007, 0.0069, 0.0068, 0.0067, 0.0066, 0.0065, 0.0064, 0.0063, 0.0062, 0.0061, 0.006, 0.0059, 0.0058, 0.0057, 0.0056, 0.0055, 0.0054, 0.0053, 0.0052, 0.0051, 0.005, 0.0049, 0.0048, 0.0048, 0.0047, 0.0046, 0.0045, 0.0044, 0.0043, 0.0043, 0.0042, 0.0041, 0.004, 0.004, 0.0039, 0.0038, 0.0037, 0.0037, 0.0036, 0.0035, 0.0034, 0.0034, 0.0033, 0.0032, 0.0032, 0.0031, 0.0031, 0.003, 0.003, 0.0029, 0.0029, 0.0028, 0.0028, 0.0027, 0.0027, 0.0026, 0.0026, 0.0025, 0.0025, 0.0025, 0.0024, 0.0024, 0.0023, 0.0023, 0.0023, 0.0022, 0.0022, 0.0022, 0.0021, 0.0021, 0.0021, 0.002, 0.002, 0.002, 0.0019, 0.0019, 0.0019, 0.0018, 0.0018, 0.0018, 0.0017, 0.0017, 0.0017, 0.0017, 0.0016, 0.0016, 0.0016, 0.0016, 0.0015, 0.0015, 0.0015, 0.0015, 0.0014, 0.0014, 0.0014, 0.0014, 0.0013, 0.0013, 0.0013, 0.0012, 0.0012, 0.0012, 0.0012, 0.0011, 0.0011, 0.0011, 0.001, 0.001, 0.001, 0.001, 0.001, 0.0009, 0.0009, 0.0009, 0.0009, 0.0009, 0.0009, 0.0008, 0.0008, 0.0008, 0.0008, 0.0008, 0.0008, 0.0008, 0.0007, 0.0007, 0.0007, 0.0007, 0.0007, 0.0007, 0.0007, 0.0006, 0.0006, 0.0006, 0.0006, 0.0006, 0.0006, 0.0006, 0.0006, 0.0005, 0.0005, 0.0005, 0.0005, 0.0005, 0.0005, 0.0005, 0.0005, 0.0005, 0.0005, 0.0004, 0.0004, 0.0004, 0.0004, 0.0004], \"type\": \"scatter\"}, {\"hovertemplate\": \"Compensation: %{x}\", \"line\": {\"dash\": \"dashdot\"}, \"name\": \"2020\", \"x\": [0.2, 0.9, 1.7, 2.5, 3.2, 4.0, 4.7, 5.5, 6.2, 7.0, 7.8, 8.5, 9.3, 10.0, 10.8, 11.6, 12.3, 13.1, 13.8, 14.6, 15.3, 16.1, 16.9, 17.6, 18.4, 19.1, 19.9, 20.6, 21.4, 22.2, 22.9, 23.7, 24.4, 25.2, 25.9, 26.7, 27.5, 28.2, 29.0, 29.7, 30.5, 31.2, 32.0, 32.8, 33.5, 34.3, 35.0, 35.8, 36.5, 37.3, 38.1, 38.8, 39.6, 40.3, 41.1, 41.8, 42.6, 43.4, 44.1, 44.9, 45.6, 46.4, 47.2, 47.9, 48.7, 49.4, 50.2, 50.9, 51.7, 52.5, 53.2, 54.0, 54.7, 55.5, 56.2, 57.0, 57.8, 58.5, 59.3, 60.0, 60.8, 61.5, 62.3, 63.1, 63.8, 64.6, 65.3, 66.1, 66.8, 67.6, 68.4, 69.1, 69.9, 70.6, 71.4, 72.1, 72.9, 73.7, 74.4, 75.2, 75.9, 76.7, 77.4, 78.2, 79.0, 79.7, 80.5, 81.2, 82.0, 82.8, 83.5, 84.3, 85.0, 85.8, 86.5, 87.3, 88.1, 88.8, 89.6, 90.3, 91.1, 91.8, 92.6, 93.4, 94.1, 94.9, 95.6, 96.4, 97.1, 97.9, 98.7, 99.4, 100.2, 100.9, 101.7, 102.4, 103.2, 104.0, 104.7, 105.5, 106.2, 107.0, 107.7, 108.5, 109.3, 110.0, 110.8, 111.5, 112.3, 113.0, 113.8, 114.6, 115.3, 116.1, 116.8, 117.6, 118.4, 119.1, 119.9, 120.6, 121.4, 122.1, 122.9, 123.7, 124.4, 125.2, 125.9, 126.7, 127.4, 128.2, 129.0, 129.7, 130.5, 131.2, 132.0, 132.7, 133.5, 134.3, 135.0, 135.8, 136.5, 137.3, 138.0, 138.8, 139.6, 140.3, 141.1, 141.8, 142.6, 143.3, 144.1, 144.9, 145.6, 146.4, 147.1, 147.9, 148.6, 149.4, 150.2, 150.9, 151.7, 152.4, 153.2, 154.0, 154.7, 155.5, 156.2, 157.0, 157.7, 158.5, 159.3, 160.0, 160.8, 161.5, 162.3, 163.0, 163.8, 164.6, 165.3, 166.1, 166.8, 167.6, 168.3, 169.1, 169.9, 170.6, 171.4, 172.1, 172.9, 173.6, 174.4, 175.2, 175.9, 176.7, 177.4, 178.2, 178.9, 179.7, 180.5, 181.2, 182.0, 182.7, 183.5, 184.2, 185.0, 185.8, 186.5, 187.3, 188.0, 188.8, 189.6, 190.3, 191.1, 191.8, 192.6, 193.3, 194.1, 194.9, 195.6, 196.4, 197.1, 197.9, 198.6, 199.4], \"y\": [0.005, 0.0053, 0.0056, 0.0058, 0.0061, 0.0064, 0.0067, 0.007, 0.0072, 0.0075, 0.0077, 0.0079, 0.0081, 0.0083, 0.0085, 0.0087, 0.0088, 0.009, 0.0091, 0.0092, 0.0093, 0.0094, 0.0095, 0.0095, 0.0096, 0.0096, 0.0096, 0.0097, 0.0097, 0.0097, 0.0097, 0.0097, 0.0097, 0.0097, 0.0096, 0.0096, 0.0096, 0.0096, 0.0096, 0.0096, 0.0095, 0.0095, 0.0095, 0.0095, 0.0095, 0.0095, 0.0095, 0.0094, 0.0094, 0.0094, 0.0094, 0.0094, 0.0094, 0.0094, 0.0094, 0.0093, 0.0093, 0.0093, 0.0093, 0.0093, 0.0092, 0.0092, 0.0092, 0.0091, 0.0091, 0.009, 0.009, 0.0089, 0.0089, 0.0088, 0.0087, 0.0087, 0.0086, 0.0085, 0.0085, 0.0084, 0.0083, 0.0082, 0.0081, 0.008, 0.0079, 0.0078, 0.0077, 0.0076, 0.0075, 0.0075, 0.0074, 0.0073, 0.0072, 0.0071, 0.007, 0.0069, 0.0068, 0.0067, 0.0066, 0.0065, 0.0064, 0.0064, 0.0063, 0.0062, 0.0061, 0.006, 0.006, 0.0059, 0.0058, 0.0057, 0.0057, 0.0056, 0.0055, 0.0055, 0.0054, 0.0053, 0.0053, 0.0052, 0.0051, 0.005, 0.005, 0.0049, 0.0048, 0.0048, 0.0047, 0.0046, 0.0046, 0.0045, 0.0044, 0.0044, 0.0043, 0.0042, 0.0041, 0.0041, 0.004, 0.0039, 0.0039, 0.0038, 0.0037, 0.0037, 0.0036, 0.0035, 0.0035, 0.0034, 0.0034, 0.0033, 0.0032, 0.0032, 0.0031, 0.0031, 0.003, 0.003, 0.0029, 0.0029, 0.0029, 0.0028, 0.0028, 0.0028, 0.0027, 0.0027, 0.0027, 0.0026, 0.0026, 0.0026, 0.0026, 0.0025, 0.0025, 0.0025, 0.0025, 0.0024, 0.0024, 0.0024, 0.0023, 0.0023, 0.0023, 0.0023, 0.0022, 0.0022, 0.0022, 0.0021, 0.0021, 0.0021, 0.002, 0.002, 0.002, 0.0019, 0.0019, 0.0019, 0.0018, 0.0018, 0.0018, 0.0018, 0.0017, 0.0017, 0.0017, 0.0017, 0.0016, 0.0016, 0.0016, 0.0016, 0.0016, 0.0016, 0.0015, 0.0015, 0.0015, 0.0015, 0.0015, 0.0015, 0.0014, 0.0014, 0.0014, 0.0014, 0.0014, 0.0013, 0.0013, 0.0013, 0.0013, 0.0013, 0.0012, 0.0012, 0.0012, 0.0012, 0.0011, 0.0011, 0.0011, 0.0011, 0.0011, 0.001, 0.001, 0.001, 0.001, 0.0009, 0.0009, 0.0009, 0.0009, 0.0009, 0.0008, 0.0008, 0.0008, 0.0008, 0.0008, 0.0008, 0.0007, 0.0007, 0.0007, 0.0007, 0.0007, 0.0007, 0.0007, 0.0007, 0.0006, 0.0006, 0.0006, 0.0006, 0.0006, 0.0006, 0.0006, 0.0006, 0.0006, 0.0006, 0.0006, 0.0006, 0.0006, 0.0006, 0.0006, 0.0006, 0.0006, 0.0006], \"type\": \"scatter\"}], \"layout\": {\"template\": {\"data\": {\"barpolar\": [{\"marker\": {\"line\": {\"color\": \"#E5ECF6\", \"width\": 0.5}}, \"type\": \"barpolar\"}], \"bar\": [{\"error_x\": {\"color\": \"#2a3f5f\"}, \"error_y\": {\"color\": \"#2a3f5f\"}, \"marker\": {\"line\": {\"color\": \"#E5ECF6\", \"width\": 0.5}}, \"type\": \"bar\"}], \"carpet\": [{\"aaxis\": {\"endlinecolor\": \"#2a3f5f\", \"gridcolor\": \"white\", \"linecolor\": \"white\", \"minorgridcolor\": \"white\", \"startlinecolor\": \"#2a3f5f\"}, \"baxis\": {\"endlinecolor\": \"#2a3f5f\", \"gridcolor\": \"white\", \"linecolor\": \"white\", \"minorgridcolor\": \"white\", \"startlinecolor\": \"#2a3f5f\"}, \"type\": \"carpet\"}], \"choropleth\": [{\"colorbar\": {\"outlinewidth\": 0, \"ticks\": \"\"}, \"type\": \"choropleth\"}], \"contourcarpet\": [{\"colorbar\": {\"outlinewidth\": 0, \"ticks\": \"\"}, \"type\": \"contourcarpet\"}], \"contour\": [{\"colorbar\": {\"outlinewidth\": 0, \"ticks\": \"\"}, \"colorscale\": [[0.0, \"#0d0887\"], [0.1111111111111111, \"#46039f\"], [0.2222222222222222, \"#7201a8\"], [0.3333333333333333, \"#9c179e\"], [0.4444444444444444, \"#bd3786\"], [0.5555555555555556, \"#d8576b\"], [0.6666666666666666, \"#ed7953\"], [0.7777777777777778, \"#fb9f3a\"], [0.8888888888888888, \"#fdca26\"], [1.0, \"#f0f921\"]], \"type\": \"contour\"}], \"heatmapgl\": [{\"colorbar\": {\"outlinewidth\": 0, \"ticks\": \"\"}, \"colorscale\": [[0.0, \"#0d0887\"], [0.1111111111111111, \"#46039f\"], [0.2222222222222222, \"#7201a8\"], [0.3333333333333333, \"#9c179e\"], [0.4444444444444444, \"#bd3786\"], [0.5555555555555556, \"#d8576b\"], [0.6666666666666666, \"#ed7953\"], [0.7777777777777778, \"#fb9f3a\"], [0.8888888888888888, \"#fdca26\"], [1.0, \"#f0f921\"]], \"type\": \"heatmapgl\"}], \"heatmap\": [{\"colorbar\": {\"outlinewidth\": 0, \"ticks\": \"\"}, \"colorscale\": [[0.0, \"#0d0887\"], [0.1111111111111111, \"#46039f\"], [0.2222222222222222, \"#7201a8\"], [0.3333333333333333, \"#9c179e\"], [0.4444444444444444, \"#bd3786\"], [0.5555555555555556, \"#d8576b\"], [0.6666666666666666, \"#ed7953\"], [0.7777777777777778, \"#fb9f3a\"], [0.8888888888888888, \"#fdca26\"], [1.0, \"#f0f921\"]], \"type\": \"heatmap\"}], \"histogram2dcontour\": [{\"colorbar\": {\"outlinewidth\": 0, \"ticks\": \"\"}, \"colorscale\": [[0.0, \"#0d0887\"], [0.1111111111111111, \"#46039f\"], [0.2222222222222222, \"#7201a8\"], [0.3333333333333333, \"#9c179e\"], [0.4444444444444444, \"#bd3786\"], [0.5555555555555556, \"#d8576b\"], [0.6666666666666666, \"#ed7953\"], [0.7777777777777778, \"#fb9f3a\"], [0.8888888888888888, \"#fdca26\"], [1.0, \"#f0f921\"]], \"type\": \"histogram2dcontour\"}], \"histogram2d\": [{\"colorbar\": {\"outlinewidth\": 0, \"ticks\": \"\"}, \"colorscale\": [[0.0, \"#0d0887\"], [0.1111111111111111, \"#46039f\"], [0.2222222222222222, \"#7201a8\"], [0.3333333333333333, \"#9c179e\"], [0.4444444444444444, \"#bd3786\"], [0.5555555555555556, \"#d8576b\"], [0.6666666666666666, \"#ed7953\"], [0.7777777777777778, \"#fb9f3a\"], [0.8888888888888888, \"#fdca26\"], [1.0, \"#f0f921\"]], \"type\": \"histogram2d\"}], \"histogram\": [{\"marker\": {\"colorbar\": {\"outlinewidth\": 0, \"ticks\": \"\"}}, \"type\": \"histogram\"}], \"mesh3d\": [{\"colorbar\": {\"outlinewidth\": 0, \"ticks\": \"\"}, \"type\": \"mesh3d\"}], \"parcoords\": [{\"line\": {\"colorbar\": {\"outlinewidth\": 0, \"ticks\": \"\"}}, \"type\": \"parcoords\"}], \"pie\": [{\"automargin\": true, \"type\": \"pie\"}], \"scatter3d\": [{\"line\": {\"colorbar\": {\"outlinewidth\": 0, \"ticks\": \"\"}}, \"marker\": {\"colorbar\": {\"outlinewidth\": 0, \"ticks\": \"\"}}, \"type\": \"scatter3d\"}], \"scattercarpet\": [{\"marker\": {\"colorbar\": {\"outlinewidth\": 0, \"ticks\": \"\"}}, \"type\": \"scattercarpet\"}], \"scattergeo\": [{\"marker\": {\"colorbar\": {\"outlinewidth\": 0, \"ticks\": \"\"}}, \"type\": \"scattergeo\"}], \"scattergl\": [{\"marker\": {\"colorbar\": {\"outlinewidth\": 0, \"ticks\": \"\"}}, \"type\": \"scattergl\"}], \"scattermapbox\": [{\"marker\": {\"colorbar\": {\"outlinewidth\": 0, \"ticks\": \"\"}}, \"type\": \"scattermapbox\"}], \"scatterpolargl\": [{\"marker\": {\"colorbar\": {\"outlinewidth\": 0, \"ticks\": \"\"}}, \"type\": \"scatterpolargl\"}], \"scatterpolar\": [{\"marker\": {\"colorbar\": {\"outlinewidth\": 0, \"ticks\": \"\"}}, \"type\": \"scatterpolar\"}], \"scatter\": [{\"marker\": {\"colorbar\": {\"outlinewidth\": 0, \"ticks\": \"\"}}, \"type\": \"scatter\"}], \"scatterternary\": [{\"marker\": {\"colorbar\": {\"outlinewidth\": 0, \"ticks\": \"\"}}, \"type\": \"scatterternary\"}], \"surface\": [{\"colorbar\": {\"outlinewidth\": 0, \"ticks\": \"\"}, \"colorscale\": [[0.0, \"#0d0887\"], [0.1111111111111111, \"#46039f\"], [0.2222222222222222, \"#7201a8\"], [0.3333333333333333, \"#9c179e\"], [0.4444444444444444, \"#bd3786\"], [0.5555555555555556, \"#d8576b\"], [0.6666666666666666, \"#ed7953\"], [0.7777777777777778, \"#fb9f3a\"], [0.8888888888888888, \"#fdca26\"], [1.0, \"#f0f921\"]], \"type\": \"surface\"}], \"table\": [{\"cells\": {\"fill\": {\"color\": \"#EBF0F8\"}, \"line\": {\"color\": \"white\"}}, \"header\": {\"fill\": {\"color\": \"#C8D4E3\"}, \"line\": {\"color\": \"white\"}}, \"type\": \"table\"}]}, \"layout\": {\"annotationdefaults\": {\"arrowcolor\": \"#2a3f5f\", \"arrowhead\": 0, \"arrowwidth\": 1}, \"coloraxis\": {\"colorbar\": {\"outlinewidth\": 0, \"ticks\": \"\"}}, \"colorscale\": {\"diverging\": [[0, \"#8e0152\"], [0.1, \"#c51b7d\"], [0.2, \"#de77ae\"], [0.3, \"#f1b6da\"], [0.4, \"#fde0ef\"], [0.5, \"#f7f7f7\"], [0.6, \"#e6f5d0\"], [0.7, \"#b8e186\"], [0.8, \"#7fbc41\"], [0.9, \"#4d9221\"], [1, \"#276419\"]], \"sequential\": [[0.0, \"#0d0887\"], [0.1111111111111111, \"#46039f\"], [0.2222222222222222, \"#7201a8\"], [0.3333333333333333, \"#9c179e\"], [0.4444444444444444, \"#bd3786\"], [0.5555555555555556, \"#d8576b\"], [0.6666666666666666, \"#ed7953\"], [0.7777777777777778, \"#fb9f3a\"], [0.8888888888888888, \"#fdca26\"], [1.0, \"#f0f921\"]], \"sequentialminus\": [[0.0, \"#0d0887\"], [0.1111111111111111, \"#46039f\"], [0.2222222222222222, \"#7201a8\"], [0.3333333333333333, \"#9c179e\"], [0.4444444444444444, \"#bd3786\"], [0.5555555555555556, \"#d8576b\"], [0.6666666666666666, \"#ed7953\"], [0.7777777777777778, \"#fb9f3a\"], [0.8888888888888888, \"#fdca26\"], [1.0, \"#f0f921\"]]}, \"colorway\": [\"#636efa\", \"#EF553B\", \"#00cc96\", \"#ab63fa\", \"#FFA15A\", \"#19d3f3\", \"#FF6692\", \"#B6E880\", \"#FF97FF\", \"#FECB52\"], \"font\": {\"color\": \"#2a3f5f\"}, \"geo\": {\"bgcolor\": \"white\", \"lakecolor\": \"white\", \"landcolor\": \"#E5ECF6\", \"showlakes\": true, \"showland\": true, \"subunitcolor\": \"white\"}, \"hoverlabel\": {\"align\": \"left\"}, \"hovermode\": \"closest\", \"mapbox\": {\"style\": \"light\"}, \"paper_bgcolor\": \"white\", \"plot_bgcolor\": \"#E5ECF6\", \"polar\": {\"angularaxis\": {\"gridcolor\": \"white\", \"linecolor\": \"white\", \"ticks\": \"\"}, \"bgcolor\": \"#E5ECF6\", \"radialaxis\": {\"gridcolor\": \"white\", \"linecolor\": \"white\", \"ticks\": \"\"}}, \"scene\": {\"xaxis\": {\"backgroundcolor\": \"#E5ECF6\", \"gridcolor\": \"white\", \"gridwidth\": 2, \"linecolor\": \"white\", \"showbackground\": true, \"ticks\": \"\", \"zerolinecolor\": \"white\"}, \"yaxis\": {\"backgroundcolor\": \"#E5ECF6\", \"gridcolor\": \"white\", \"gridwidth\": 2, \"linecolor\": \"white\", \"showbackground\": true, \"ticks\": \"\", \"zerolinecolor\": \"white\"}, \"zaxis\": {\"backgroundcolor\": \"#E5ECF6\", \"gridcolor\": \"white\", \"gridwidth\": 2, \"linecolor\": \"white\", \"showbackground\": true, \"ticks\": \"\", \"zerolinecolor\": \"white\"}}, \"shapedefaults\": {\"line\": {\"color\": \"#2a3f5f\"}}, \"ternary\": {\"aaxis\": {\"gridcolor\": \"white\", \"linecolor\": \"white\", \"ticks\": \"\"}, \"baxis\": {\"gridcolor\": \"white\", \"linecolor\": \"white\", \"ticks\": \"\"}, \"bgcolor\": \"#E5ECF6\", \"caxis\": {\"gridcolor\": \"white\", \"linecolor\": \"white\", \"ticks\": \"\"}}, \"title\": {\"x\": 0.05}, \"xaxis\": {\"automargin\": true, \"gridcolor\": \"white\", \"linecolor\": \"white\", \"ticks\": \"\", \"title\": {\"standoff\": 15}, \"zerolinecolor\": \"white\", \"zerolinewidth\": 2}, \"yaxis\": {\"automargin\": true, \"gridcolor\": \"white\", \"linecolor\": \"white\", \"ticks\": \"\", \"title\": {\"standoff\": 15}, \"zerolinecolor\": \"white\", \"zerolinewidth\": 2}}}, \"title\": {\"text\": \"Annual Compensation Density Estimation:<br>System Admin\", \"x\": 0.5, \"xanchor\": \"center\", \"yanchor\": \"top\"}, \"xaxis\": {\"ticksuffix\": \"k\", \"title\": {\"text\": \"Compensation (USD)\"}}, \"yaxis\": {\"range\": [0, 0.012], \"tickcolor\": \"white\", \"ticklen\": 8, \"ticks\": \"outside\", \"title\": {\"text\": \"Probability Density\"}, \"zeroline\": false}}, \"name\": \"System administrator\"}, {\"data\": [{\"hovertemplate\": \"Compensation: %{x}\", \"line\": {\"dash\": \"longdashdot\"}, \"name\": \"2018\", \"x\": [0.2, 0.9, 1.5, 2.2, 2.9, 3.6, 4.3, 5.0, 5.7, 6.3, 7.0, 7.7, 8.4, 9.1, 9.8, 10.5, 11.1, 11.8, 12.5, 13.2, 13.9, 14.6, 15.3, 16.0, 16.6, 17.3, 18.0, 18.7, 19.4, 20.1, 20.8, 21.4, 22.1, 22.8, 23.5, 24.2, 24.9, 25.6, 26.2, 26.9, 27.6, 28.3, 29.0, 29.7, 30.4, 31.0, 31.7, 32.4, 33.1, 33.8, 34.5, 35.2, 35.8, 36.5, 37.2, 37.9, 38.6, 39.3, 40.0, 40.6, 41.3, 42.0, 42.7, 43.4, 44.1, 44.8, 45.5, 46.1, 46.8, 47.5, 48.2, 48.9, 49.6, 50.3, 50.9, 51.6, 52.3, 53.0, 53.7, 54.4, 55.1, 55.7, 56.4, 57.1, 57.8, 58.5, 59.2, 59.9, 60.5, 61.2, 61.9, 62.6, 63.3, 64.0, 64.7, 65.3, 66.0, 66.7, 67.4, 68.1, 68.8, 69.5, 70.1, 70.8, 71.5, 72.2, 72.9, 73.6, 74.3, 75.0, 75.6, 76.3, 77.0, 77.7, 78.4, 79.1, 79.8, 80.4, 81.1, 81.8, 82.5, 83.2, 83.9, 84.6, 85.2, 85.9, 86.6, 87.3, 88.0, 88.7, 89.4, 90.0, 90.7, 91.4, 92.1, 92.8, 93.5, 94.2, 94.8, 95.5, 96.2, 96.9, 97.6, 98.3, 99.0, 99.6, 100.3, 101.0, 101.7, 102.4, 103.1, 103.8, 104.5, 105.1, 105.8, 106.5, 107.2, 107.9, 108.6, 109.3, 109.9, 110.6, 111.3, 112.0, 112.7, 113.4, 114.1, 114.7, 115.4, 116.1, 116.8, 117.5, 118.2, 118.9, 119.5, 120.2, 120.9, 121.6, 122.3, 123.0, 123.7, 124.3, 125.0, 125.7, 126.4, 127.1, 127.8, 128.5, 129.2, 129.8, 130.5, 131.2, 131.9, 132.6, 133.3, 134.0, 134.6, 135.3, 136.0, 136.7, 137.4, 138.1, 138.8, 139.4, 140.1, 140.8, 141.5, 142.2, 142.9, 143.6, 144.2, 144.9, 145.6, 146.3, 147.0, 147.7, 148.4, 149.0, 149.7, 150.4, 151.1, 151.8, 152.5, 153.2, 153.8, 154.5, 155.2, 155.9, 156.6, 157.3, 158.0, 158.7, 159.3, 160.0, 160.7, 161.4, 162.1, 162.8, 163.5, 164.1, 164.8, 165.5, 166.2, 166.9, 167.6, 168.3, 168.9, 169.6, 170.3, 171.0, 171.7, 172.4, 173.1, 173.7, 174.4, 175.1, 175.8, 176.5, 177.2, 177.9, 178.5, 179.2, 179.9, 180.6, 181.3, 182.0, 182.7, 183.3, 184.0, 184.7, 185.4, 186.1, 186.8, 187.5, 188.2, 188.8, 189.5, 190.2, 190.9, 191.6, 192.3, 193.0, 193.6, 194.3, 195.0, 195.7, 196.4, 197.1, 197.8, 198.4, 199.1, 199.8], \"y\": [0.0052, 0.0054, 0.0056, 0.0059, 0.0061, 0.0063, 0.0065, 0.0067, 0.0068, 0.007, 0.0072, 0.0073, 0.0075, 0.0076, 0.0077, 0.0078, 0.0079, 0.008, 0.0081, 0.0082, 0.0082, 0.0083, 0.0083, 0.0084, 0.0084, 0.0084, 0.0085, 0.0085, 0.0085, 0.0085, 0.0085, 0.0085, 0.0085, 0.0085, 0.0085, 0.0085, 0.0084, 0.0084, 0.0084, 0.0084, 0.0084, 0.0084, 0.0083, 0.0083, 0.0083, 0.0083, 0.0083, 0.0082, 0.0082, 0.0082, 0.0082, 0.0081, 0.0081, 0.0081, 0.0081, 0.0081, 0.008, 0.008, 0.008, 0.008, 0.008, 0.008, 0.008, 0.008, 0.008, 0.0079, 0.0079, 0.0079, 0.0079, 0.0079, 0.0079, 0.0079, 0.0079, 0.0079, 0.0079, 0.0079, 0.0079, 0.0079, 0.0079, 0.0079, 0.0079, 0.0079, 0.0078, 0.0078, 0.0078, 0.0078, 0.0078, 0.0077, 0.0077, 0.0077, 0.0077, 0.0076, 0.0076, 0.0076, 0.0075, 0.0075, 0.0075, 0.0074, 0.0074, 0.0074, 0.0073, 0.0073, 0.0072, 0.0072, 0.0071, 0.0071, 0.007, 0.007, 0.0069, 0.0069, 0.0068, 0.0067, 0.0067, 0.0066, 0.0066, 0.0065, 0.0064, 0.0064, 0.0063, 0.0062, 0.0062, 0.0061, 0.006, 0.0059, 0.0059, 0.0058, 0.0057, 0.0057, 0.0056, 0.0055, 0.0054, 0.0054, 0.0053, 0.0052, 0.0052, 0.0051, 0.005, 0.005, 0.0049, 0.0049, 0.0048, 0.0047, 0.0047, 0.0046, 0.0046, 0.0045, 0.0045, 0.0044, 0.0044, 0.0043, 0.0043, 0.0042, 0.0042, 0.0041, 0.0041, 0.004, 0.004, 0.0039, 0.0039, 0.0039, 0.0038, 0.0038, 0.0037, 0.0037, 0.0037, 0.0036, 0.0036, 0.0036, 0.0035, 0.0035, 0.0034, 0.0034, 0.0034, 0.0033, 0.0033, 0.0032, 0.0032, 0.0032, 0.0031, 0.0031, 0.003, 0.003, 0.0029, 0.0029, 0.0029, 0.0028, 0.0028, 0.0027, 0.0027, 0.0026, 0.0026, 0.0026, 0.0025, 0.0025, 0.0025, 0.0024, 0.0024, 0.0024, 0.0023, 0.0023, 0.0023, 0.0023, 0.0023, 0.0022, 0.0022, 0.0022, 0.0022, 0.0022, 0.0022, 0.0021, 0.0021, 0.0021, 0.0021, 0.0021, 0.0021, 0.002, 0.002, 0.002, 0.002, 0.002, 0.0019, 0.0019, 0.0019, 0.0019, 0.0018, 0.0018, 0.0018, 0.0018, 0.0017, 0.0017, 0.0017, 0.0016, 0.0016, 0.0016, 0.0015, 0.0015, 0.0015, 0.0014, 0.0014, 0.0014, 0.0014, 0.0013, 0.0013, 0.0013, 0.0012, 0.0012, 0.0012, 0.0012, 0.0012, 0.0011, 0.0011, 0.0011, 0.0011, 0.0011, 0.0011, 0.001, 0.001, 0.001, 0.001, 0.001, 0.001, 0.001, 0.0009, 0.0009, 0.0009, 0.0009, 0.0009, 0.0009, 0.0009, 0.0008, 0.0008, 0.0008, 0.0008, 0.0008, 0.0008, 0.0007, 0.0007, 0.0007, 0.0007, 0.0007, 0.0007, 0.0007, 0.0006, 0.0006, 0.0006, 0.0006, 0.0006, 0.0006, 0.0006, 0.0005, 0.0005, 0.0005], \"type\": \"scatter\"}, {\"hovertemplate\": \"Compensation: %{x}\", \"line\": {\"dash\": \"dash\"}, \"name\": \"2019\", \"x\": [0.2, 1.1, 1.9, 2.8, 3.6, 4.5, 5.3, 6.2, 7.0, 7.9, 8.7, 9.6, 10.4, 11.3, 12.1, 13.0, 13.8, 14.7, 15.5, 16.4, 17.2, 18.1, 18.9, 19.8, 20.6, 21.5, 22.3, 23.2, 24.0, 24.9, 25.7, 26.6, 27.4, 28.3, 29.1, 30.0, 30.8, 31.7, 32.5, 33.4, 34.2, 35.1, 35.9, 36.8, 37.7, 38.5, 39.4, 40.2, 41.1, 41.9, 42.8, 43.6, 44.5, 45.3, 46.2, 47.0, 47.9, 48.7, 49.6, 50.4, 51.3, 52.1, 53.0, 53.8, 54.7, 55.5, 56.4, 57.2, 58.1, 58.9, 59.8, 60.6, 61.5, 62.3, 63.2, 64.0, 64.9, 65.7, 66.6, 67.4, 68.3, 69.1, 70.0, 70.8, 71.7, 72.5, 73.4, 74.2, 75.1, 75.9, 76.8, 77.6, 78.5, 79.3, 80.2, 81.0, 81.9, 82.7, 83.6, 84.4, 85.3, 86.1, 87.0, 87.9, 88.7, 89.6, 90.4, 91.3, 92.1, 93.0, 93.8, 94.7, 95.5, 96.4, 97.2, 98.1, 98.9, 99.8, 100.6, 101.5, 102.3, 103.2, 104.0, 104.9, 105.7, 106.6, 107.4, 108.3, 109.1, 110.0, 110.8, 111.7, 112.5, 113.4, 114.2, 115.1, 115.9, 116.8, 117.6, 118.5, 119.3, 120.2, 121.0, 121.9, 122.7, 123.6, 124.4, 125.3, 126.1, 127.0, 127.8, 128.7, 129.5, 130.4, 131.2, 132.1, 132.9, 133.8, 134.6, 135.5, 136.3, 137.2, 138.1, 138.9, 139.8, 140.6, 141.5, 142.3, 143.2, 144.0, 144.9, 145.7, 146.6, 147.4, 148.3, 149.1, 150.0, 150.8, 151.7, 152.5, 153.4, 154.2, 155.1, 155.9, 156.8, 157.6, 158.5, 159.3, 160.2, 161.0, 161.9, 162.7, 163.6, 164.4, 165.3, 166.1, 167.0, 167.8, 168.7, 169.5, 170.4, 171.2, 172.1, 172.9, 173.8, 174.6, 175.5, 176.3, 177.2, 178.0, 178.9, 179.7, 180.6, 181.4, 182.3, 183.1, 184.0, 184.8, 185.7, 186.5, 187.4, 188.3, 189.1, 190.0, 190.8, 191.7, 192.5, 193.4, 194.2, 195.1, 195.9, 196.8, 197.6, 198.5, 199.3], \"y\": [0.0051, 0.0054, 0.0056, 0.0059, 0.0061, 0.0064, 0.0066, 0.0068, 0.007, 0.0072, 0.0074, 0.0076, 0.0078, 0.0079, 0.008, 0.0081, 0.0082, 0.0083, 0.0084, 0.0085, 0.0085, 0.0086, 0.0086, 0.0086, 0.0086, 0.0086, 0.0086, 0.0086, 0.0086, 0.0086, 0.0086, 0.0085, 0.0085, 0.0085, 0.0084, 0.0084, 0.0084, 0.0083, 0.0083, 0.0083, 0.0082, 0.0082, 0.0082, 0.0081, 0.0081, 0.0081, 0.008, 0.008, 0.008, 0.0079, 0.0079, 0.0079, 0.0079, 0.0078, 0.0078, 0.0078, 0.0078, 0.0078, 0.0077, 0.0077, 0.0077, 0.0077, 0.0077, 0.0076, 0.0076, 0.0076, 0.0076, 0.0075, 0.0075, 0.0075, 0.0074, 0.0074, 0.0074, 0.0073, 0.0073, 0.0072, 0.0072, 0.0071, 0.007, 0.007, 0.0069, 0.0069, 0.0068, 0.0067, 0.0067, 0.0066, 0.0065, 0.0064, 0.0064, 0.0063, 0.0062, 0.0061, 0.0061, 0.006, 0.0059, 0.0058, 0.0058, 0.0057, 0.0056, 0.0056, 0.0055, 0.0054, 0.0053, 0.0053, 0.0052, 0.0051, 0.0051, 0.005, 0.0049, 0.0048, 0.0048, 0.0047, 0.0046, 0.0046, 0.0045, 0.0044, 0.0044, 0.0043, 0.0042, 0.0041, 0.0041, 0.004, 0.0039, 0.0039, 0.0038, 0.0038, 0.0037, 0.0036, 0.0036, 0.0035, 0.0035, 0.0034, 0.0034, 0.0033, 0.0033, 0.0032, 0.0032, 0.0031, 0.0031, 0.003, 0.003, 0.003, 0.0029, 0.0029, 0.0029, 0.0028, 0.0028, 0.0028, 0.0027, 0.0027, 0.0027, 0.0026, 0.0026, 0.0026, 0.0026, 0.0025, 0.0025, 0.0025, 0.0024, 0.0024, 0.0024, 0.0024, 0.0023, 0.0023, 0.0023, 0.0022, 0.0022, 0.0022, 0.0021, 0.0021, 0.0021, 0.0021, 0.002, 0.002, 0.002, 0.0019, 0.0019, 0.0019, 0.0018, 0.0018, 0.0018, 0.0017, 0.0017, 0.0017, 0.0016, 0.0016, 0.0016, 0.0016, 0.0015, 0.0015, 0.0015, 0.0014, 0.0014, 0.0014, 0.0014, 0.0013, 0.0013, 0.0013, 0.0013, 0.0012, 0.0012, 0.0012, 0.0012, 0.0011, 0.0011, 0.0011, 0.0011, 0.0011, 0.001, 0.001, 0.001, 0.001, 0.001, 0.0009, 0.0009, 0.0009, 0.0009, 0.0009, 0.0009, 0.0009, 0.0008, 0.0008, 0.0008, 0.0008, 0.0008, 0.0008, 0.0008, 0.0008, 0.0008, 0.0007, 0.0007, 0.0007, 0.0007, 0.0007, 0.0007], \"type\": \"scatter\"}, {\"hovertemplate\": \"Compensation: %{x}\", \"line\": {\"dash\": \"dashdot\"}, \"name\": \"2020\", \"x\": [0.2, 0.9, 1.6, 2.3, 3.0, 3.7, 4.4, 5.1, 5.8, 6.5, 7.2, 7.9, 8.6, 9.3, 10.0, 10.7, 11.4, 12.1, 12.8, 13.5, 14.2, 14.9, 15.6, 16.3, 17.0, 17.7, 18.4, 19.1, 19.8, 20.5, 21.2, 21.9, 22.6, 23.3, 24.0, 24.7, 25.4, 26.1, 26.8, 27.5, 28.2, 28.9, 29.6, 30.3, 31.0, 31.7, 32.4, 33.1, 33.8, 34.5, 35.2, 35.9, 36.6, 37.3, 38.0, 38.7, 39.4, 40.1, 40.8, 41.5, 42.2, 42.9, 43.6, 44.3, 45.0, 45.7, 46.4, 47.1, 47.8, 48.5, 49.2, 49.9, 50.6, 51.3, 52.0, 52.7, 53.4, 54.1, 54.8, 55.5, 56.2, 56.9, 57.6, 58.3, 59.0, 59.7, 60.4, 61.1, 61.8, 62.5, 63.2, 63.9, 64.6, 65.3, 66.0, 66.7, 67.4, 68.1, 68.8, 69.5, 70.2, 70.9, 71.6, 72.3, 73.0, 73.7, 74.4, 75.2, 75.9, 76.6, 77.3, 78.0, 78.7, 79.4, 80.1, 80.8, 81.5, 82.2, 82.9, 83.6, 84.3, 85.0, 85.7, 86.4, 87.1, 87.8, 88.5, 89.2, 89.9, 90.6, 91.3, 92.0, 92.7, 93.4, 94.1, 94.8, 95.5, 96.2, 96.9, 97.6, 98.3, 99.0, 99.7, 100.4, 101.1, 101.8, 102.5, 103.2, 103.9, 104.6, 105.3, 106.0, 106.7, 107.4, 108.1, 108.8, 109.5, 110.2, 110.9, 111.6, 112.3, 113.0, 113.7, 114.4, 115.1, 115.8, 116.5, 117.2, 117.9, 118.6, 119.3, 120.0, 120.7, 121.4, 122.1, 122.8, 123.5, 124.2, 124.9, 125.6, 126.3, 127.0, 127.7, 128.4, 129.1, 129.8, 130.5, 131.2, 131.9, 132.6, 133.3, 134.0, 134.7, 135.4, 136.1, 136.8, 137.5, 138.2, 138.9, 139.6, 140.3, 141.0, 141.7, 142.4, 143.1, 143.8, 144.5, 145.2, 145.9, 146.6, 147.3, 148.0, 148.7, 149.4, 150.1, 150.8, 151.5, 152.2, 152.9, 153.6, 154.3, 155.0, 155.7, 156.4, 157.1, 157.8, 158.5, 159.2, 159.9, 160.6, 161.3, 162.0, 162.7, 163.4, 164.1, 164.8, 165.5, 166.2, 166.9, 167.6, 168.3, 169.0, 169.7, 170.4, 171.1, 171.8, 172.5, 173.2, 173.9, 174.6, 175.4, 176.1, 176.8, 177.5, 178.2, 178.9, 179.6, 180.3, 181.0, 181.7, 182.4, 183.1, 183.8, 184.5, 185.2, 185.9, 186.6, 187.3, 188.0, 188.7, 189.4, 190.1, 190.8, 191.5, 192.2, 192.9, 193.6, 194.3, 195.0, 195.7, 196.4, 197.1, 197.8, 198.5, 199.2, 199.9], \"y\": [0.0054, 0.0056, 0.0058, 0.0061, 0.0063, 0.0065, 0.0067, 0.0069, 0.0071, 0.0073, 0.0075, 0.0076, 0.0078, 0.008, 0.0081, 0.0082, 0.0083, 0.0084, 0.0085, 0.0086, 0.0087, 0.0088, 0.0088, 0.0089, 0.0089, 0.009, 0.009, 0.009, 0.009, 0.009, 0.009, 0.009, 0.009, 0.009, 0.009, 0.009, 0.009, 0.0089, 0.0089, 0.0089, 0.0089, 0.0088, 0.0088, 0.0088, 0.0087, 0.0087, 0.0087, 0.0087, 0.0086, 0.0086, 0.0086, 0.0085, 0.0085, 0.0085, 0.0085, 0.0084, 0.0084, 0.0084, 0.0084, 0.0083, 0.0083, 0.0083, 0.0083, 0.0083, 0.0082, 0.0082, 0.0082, 0.0082, 0.0082, 0.0081, 0.0081, 0.0081, 0.0081, 0.008, 0.008, 0.008, 0.008, 0.0079, 0.0079, 0.0079, 0.0078, 0.0078, 0.0078, 0.0077, 0.0077, 0.0076, 0.0076, 0.0075, 0.0075, 0.0074, 0.0074, 0.0073, 0.0073, 0.0072, 0.0071, 0.0071, 0.007, 0.0069, 0.0069, 0.0068, 0.0067, 0.0066, 0.0066, 0.0065, 0.0064, 0.0063, 0.0063, 0.0062, 0.0061, 0.006, 0.006, 0.0059, 0.0058, 0.0057, 0.0056, 0.0056, 0.0055, 0.0054, 0.0053, 0.0053, 0.0052, 0.0051, 0.005, 0.005, 0.0049, 0.0048, 0.0047, 0.0047, 0.0046, 0.0045, 0.0045, 0.0044, 0.0043, 0.0043, 0.0042, 0.0042, 0.0041, 0.004, 0.004, 0.0039, 0.0039, 0.0038, 0.0038, 0.0037, 0.0037, 0.0036, 0.0036, 0.0035, 0.0035, 0.0035, 0.0034, 0.0034, 0.0033, 0.0033, 0.0033, 0.0032, 0.0032, 0.0032, 0.0031, 0.0031, 0.0031, 0.0031, 0.003, 0.003, 0.003, 0.0029, 0.0029, 0.0029, 0.0029, 0.0028, 0.0028, 0.0028, 0.0028, 0.0028, 0.0027, 0.0027, 0.0027, 0.0027, 0.0026, 0.0026, 0.0026, 0.0026, 0.0025, 0.0025, 0.0025, 0.0025, 0.0025, 0.0024, 0.0024, 0.0024, 0.0024, 0.0023, 0.0023, 0.0023, 0.0023, 0.0023, 0.0022, 0.0022, 0.0022, 0.0022, 0.0021, 0.0021, 0.0021, 0.0021, 0.0021, 0.002, 0.002, 0.002, 0.002, 0.002, 0.0019, 0.0019, 0.0019, 0.0019, 0.0019, 0.0018, 0.0018, 0.0018, 0.0018, 0.0017, 0.0017, 0.0017, 0.0017, 0.0016, 0.0016, 0.0016, 0.0016, 0.0015, 0.0015, 0.0015, 0.0015, 0.0014, 0.0014, 0.0014, 0.0014, 0.0013, 0.0013, 0.0013, 0.0012, 0.0012, 0.0012, 0.0012, 0.0011, 0.0011, 0.0011, 0.0011, 0.0011, 0.001, 0.001, 0.001, 0.001, 0.001, 0.0009, 0.0009, 0.0009, 0.0009, 0.0009, 0.0009, 0.0009, 0.0009, 0.0008, 0.0008, 0.0008, 0.0008, 0.0008, 0.0008, 0.0008, 0.0008, 0.0008, 0.0008, 0.0008, 0.0008, 0.0008, 0.0008, 0.0008, 0.0008, 0.0008, 0.0008, 0.0008, 0.0008, 0.0008, 0.0008, 0.0008, 0.0008, 0.0008, 0.0008], \"type\": \"scatter\"}], \"layout\": {\"template\": {\"data\": {\"barpolar\": [{\"marker\": {\"line\": {\"color\": \"#E5ECF6\", \"width\": 0.5}}, \"type\": \"barpolar\"}], \"bar\": [{\"error_x\": {\"color\": \"#2a3f5f\"}, \"error_y\": {\"color\": \"#2a3f5f\"}, \"marker\": {\"line\": {\"color\": \"#E5ECF6\", \"width\": 0.5}}, \"type\": \"bar\"}], \"carpet\": [{\"aaxis\": {\"endlinecolor\": \"#2a3f5f\", \"gridcolor\": \"white\", \"linecolor\": \"white\", \"minorgridcolor\": \"white\", \"startlinecolor\": \"#2a3f5f\"}, \"baxis\": {\"endlinecolor\": \"#2a3f5f\", \"gridcolor\": \"white\", \"linecolor\": \"white\", \"minorgridcolor\": \"white\", \"startlinecolor\": \"#2a3f5f\"}, \"type\": \"carpet\"}], \"choropleth\": [{\"colorbar\": {\"outlinewidth\": 0, \"ticks\": \"\"}, \"type\": \"choropleth\"}], \"contourcarpet\": [{\"colorbar\": {\"outlinewidth\": 0, \"ticks\": \"\"}, \"type\": \"contourcarpet\"}], \"contour\": [{\"colorbar\": {\"outlinewidth\": 0, \"ticks\": \"\"}, \"colorscale\": [[0.0, \"#0d0887\"], [0.1111111111111111, \"#46039f\"], [0.2222222222222222, \"#7201a8\"], [0.3333333333333333, \"#9c179e\"], [0.4444444444444444, \"#bd3786\"], [0.5555555555555556, \"#d8576b\"], [0.6666666666666666, \"#ed7953\"], [0.7777777777777778, \"#fb9f3a\"], [0.8888888888888888, \"#fdca26\"], [1.0, \"#f0f921\"]], \"type\": \"contour\"}], \"heatmapgl\": [{\"colorbar\": {\"outlinewidth\": 0, \"ticks\": \"\"}, \"colorscale\": [[0.0, \"#0d0887\"], [0.1111111111111111, \"#46039f\"], [0.2222222222222222, \"#7201a8\"], [0.3333333333333333, \"#9c179e\"], [0.4444444444444444, \"#bd3786\"], [0.5555555555555556, \"#d8576b\"], [0.6666666666666666, \"#ed7953\"], [0.7777777777777778, \"#fb9f3a\"], [0.8888888888888888, \"#fdca26\"], [1.0, \"#f0f921\"]], \"type\": \"heatmapgl\"}], \"heatmap\": [{\"colorbar\": {\"outlinewidth\": 0, \"ticks\": \"\"}, \"colorscale\": [[0.0, \"#0d0887\"], [0.1111111111111111, \"#46039f\"], [0.2222222222222222, \"#7201a8\"], [0.3333333333333333, \"#9c179e\"], [0.4444444444444444, \"#bd3786\"], [0.5555555555555556, \"#d8576b\"], [0.6666666666666666, \"#ed7953\"], [0.7777777777777778, \"#fb9f3a\"], [0.8888888888888888, \"#fdca26\"], [1.0, \"#f0f921\"]], \"type\": \"heatmap\"}], \"histogram2dcontour\": [{\"colorbar\": {\"outlinewidth\": 0, \"ticks\": \"\"}, \"colorscale\": [[0.0, \"#0d0887\"], [0.1111111111111111, \"#46039f\"], [0.2222222222222222, \"#7201a8\"], [0.3333333333333333, \"#9c179e\"], [0.4444444444444444, \"#bd3786\"], [0.5555555555555556, \"#d8576b\"], [0.6666666666666666, \"#ed7953\"], [0.7777777777777778, \"#fb9f3a\"], [0.8888888888888888, \"#fdca26\"], [1.0, \"#f0f921\"]], \"type\": \"histogram2dcontour\"}], \"histogram2d\": [{\"colorbar\": {\"outlinewidth\": 0, \"ticks\": \"\"}, \"colorscale\": [[0.0, \"#0d0887\"], [0.1111111111111111, \"#46039f\"], [0.2222222222222222, \"#7201a8\"], [0.3333333333333333, \"#9c179e\"], [0.4444444444444444, \"#bd3786\"], [0.5555555555555556, \"#d8576b\"], [0.6666666666666666, \"#ed7953\"], [0.7777777777777778, \"#fb9f3a\"], [0.8888888888888888, \"#fdca26\"], [1.0, \"#f0f921\"]], \"type\": \"histogram2d\"}], \"histogram\": [{\"marker\": {\"colorbar\": {\"outlinewidth\": 0, \"ticks\": \"\"}}, \"type\": \"histogram\"}], \"mesh3d\": [{\"colorbar\": {\"outlinewidth\": 0, \"ticks\": \"\"}, \"type\": \"mesh3d\"}], \"parcoords\": [{\"line\": {\"colorbar\": {\"outlinewidth\": 0, \"ticks\": \"\"}}, \"type\": \"parcoords\"}], \"pie\": [{\"automargin\": true, \"type\": \"pie\"}], \"scatter3d\": [{\"line\": {\"colorbar\": {\"outlinewidth\": 0, \"ticks\": \"\"}}, \"marker\": {\"colorbar\": {\"outlinewidth\": 0, \"ticks\": \"\"}}, \"type\": \"scatter3d\"}], \"scattercarpet\": [{\"marker\": {\"colorbar\": {\"outlinewidth\": 0, \"ticks\": \"\"}}, \"type\": \"scattercarpet\"}], \"scattergeo\": [{\"marker\": {\"colorbar\": {\"outlinewidth\": 0, \"ticks\": \"\"}}, \"type\": \"scattergeo\"}], \"scattergl\": [{\"marker\": {\"colorbar\": {\"outlinewidth\": 0, \"ticks\": \"\"}}, \"type\": \"scattergl\"}], \"scattermapbox\": [{\"marker\": {\"colorbar\": {\"outlinewidth\": 0, \"ticks\": \"\"}}, \"type\": \"scattermapbox\"}], \"scatterpolargl\": [{\"marker\": {\"colorbar\": {\"outlinewidth\": 0, \"ticks\": \"\"}}, \"type\": \"scatterpolargl\"}], \"scatterpolar\": [{\"marker\": {\"colorbar\": {\"outlinewidth\": 0, \"ticks\": \"\"}}, \"type\": \"scatterpolar\"}], \"scatter\": [{\"marker\": {\"colorbar\": {\"outlinewidth\": 0, \"ticks\": \"\"}}, \"type\": \"scatter\"}], \"scatterternary\": [{\"marker\": {\"colorbar\": {\"outlinewidth\": 0, \"ticks\": \"\"}}, \"type\": \"scatterternary\"}], \"surface\": [{\"colorbar\": {\"outlinewidth\": 0, \"ticks\": \"\"}, \"colorscale\": [[0.0, \"#0d0887\"], [0.1111111111111111, \"#46039f\"], [0.2222222222222222, \"#7201a8\"], [0.3333333333333333, \"#9c179e\"], [0.4444444444444444, \"#bd3786\"], [0.5555555555555556, \"#d8576b\"], [0.6666666666666666, \"#ed7953\"], [0.7777777777777778, \"#fb9f3a\"], [0.8888888888888888, \"#fdca26\"], [1.0, \"#f0f921\"]], \"type\": \"surface\"}], \"table\": [{\"cells\": {\"fill\": {\"color\": \"#EBF0F8\"}, \"line\": {\"color\": \"white\"}}, \"header\": {\"fill\": {\"color\": \"#C8D4E3\"}, \"line\": {\"color\": \"white\"}}, \"type\": \"table\"}]}, \"layout\": {\"annotationdefaults\": {\"arrowcolor\": \"#2a3f5f\", \"arrowhead\": 0, \"arrowwidth\": 1}, \"coloraxis\": {\"colorbar\": {\"outlinewidth\": 0, \"ticks\": \"\"}}, \"colorscale\": {\"diverging\": [[0, \"#8e0152\"], [0.1, \"#c51b7d\"], [0.2, \"#de77ae\"], [0.3, \"#f1b6da\"], [0.4, \"#fde0ef\"], [0.5, \"#f7f7f7\"], [0.6, \"#e6f5d0\"], [0.7, \"#b8e186\"], [0.8, \"#7fbc41\"], [0.9, \"#4d9221\"], [1, \"#276419\"]], \"sequential\": [[0.0, \"#0d0887\"], [0.1111111111111111, \"#46039f\"], [0.2222222222222222, \"#7201a8\"], [0.3333333333333333, \"#9c179e\"], [0.4444444444444444, \"#bd3786\"], [0.5555555555555556, \"#d8576b\"], [0.6666666666666666, \"#ed7953\"], [0.7777777777777778, \"#fb9f3a\"], [0.8888888888888888, \"#fdca26\"], [1.0, \"#f0f921\"]], \"sequentialminus\": [[0.0, \"#0d0887\"], [0.1111111111111111, \"#46039f\"], [0.2222222222222222, \"#7201a8\"], [0.3333333333333333, \"#9c179e\"], [0.4444444444444444, \"#bd3786\"], [0.5555555555555556, \"#d8576b\"], [0.6666666666666666, \"#ed7953\"], [0.7777777777777778, \"#fb9f3a\"], [0.8888888888888888, \"#fdca26\"], [1.0, \"#f0f921\"]]}, \"colorway\": [\"#636efa\", \"#EF553B\", \"#00cc96\", \"#ab63fa\", \"#FFA15A\", \"#19d3f3\", \"#FF6692\", \"#B6E880\", \"#FF97FF\", \"#FECB52\"], \"font\": {\"color\": \"#2a3f5f\"}, \"geo\": {\"bgcolor\": \"white\", \"lakecolor\": \"white\", \"landcolor\": \"#E5ECF6\", \"showlakes\": true, \"showland\": true, \"subunitcolor\": \"white\"}, \"hoverlabel\": {\"align\": \"left\"}, \"hovermode\": \"closest\", \"mapbox\": {\"style\": \"light\"}, \"paper_bgcolor\": \"white\", \"plot_bgcolor\": \"#E5ECF6\", \"polar\": {\"angularaxis\": {\"gridcolor\": \"white\", \"linecolor\": \"white\", \"ticks\": \"\"}, \"bgcolor\": \"#E5ECF6\", \"radialaxis\": {\"gridcolor\": \"white\", \"linecolor\": \"white\", \"ticks\": \"\"}}, \"scene\": {\"xaxis\": {\"backgroundcolor\": \"#E5ECF6\", \"gridcolor\": \"white\", \"gridwidth\": 2, \"linecolor\": \"white\", \"showbackground\": true, \"ticks\": \"\", \"zerolinecolor\": \"white\"}, \"yaxis\": {\"backgroundcolor\": \"#E5ECF6\", \"gridcolor\": \"white\", \"gridwidth\": 2, \"linecolor\": \"white\", \"showbackground\": true, \"ticks\": \"\", \"zerolinecolor\": \"white\"}, \"zaxis\": {\"backgroundcolor\": \"#E5ECF6\", \"gridcolor\": \"white\", \"gridwidth\": 2, \"linecolor\": \"white\", \"showbackground\": true, \"ticks\": \"\", \"zerolinecolor\": \"white\"}}, \"shapedefaults\": {\"line\": {\"color\": \"#2a3f5f\"}}, \"ternary\": {\"aaxis\": {\"gridcolor\": \"white\", \"linecolor\": \"white\", \"ticks\": \"\"}, \"baxis\": {\"gridcolor\": \"white\", \"linecolor\": \"white\", \"ticks\": \"\"}, \"bgcolor\": \"#E5ECF6\", \"caxis\": {\"gridcolor\": \"white\", \"linecolor\": \"white\", \"ticks\": \"\"}}, \"title\": {\"x\": 0.05}, \"xaxis\": {\"automargin\": true, \"gridcolor\": \"white\", \"linecolor\": \"white\", \"ticks\": \"\", \"title\": {\"standoff\": 15}, \"zerolinecolor\": \"white\", \"zerolinewidth\": 2}, \"yaxis\": {\"automargin\": true, \"gridcolor\": \"white\", \"linecolor\": \"white\", \"ticks\": \"\", \"title\": {\"standoff\": 15}, \"zerolinecolor\": \"white\", \"zerolinewidth\": 2}}}, \"title\": {\"text\": \"Annual Compensation Density Estimation:<br>Data Scientist\", \"x\": 0.5, \"xanchor\": \"center\", \"yanchor\": \"top\"}, \"xaxis\": {\"ticksuffix\": \"k\", \"title\": {\"text\": \"Compensation (USD)\"}}, \"yaxis\": {\"range\": [0, 0.012], \"tickcolor\": \"white\", \"ticklen\": 8, \"ticks\": \"outside\", \"title\": {\"text\": \"Probability Density\"}, \"zeroline\": false}}, \"name\": \"Data scientist or machine learning specialist\"}]);\n",
       "                        }).then(function(){\n",
       "                            \n",
       "var gd = document.getElementById('ac654b82-4043-4779-a5ff-d72a08aefbc8');\n",
       "var x = new MutationObserver(function (mutations, observer) {{\n",
       "        var display = window.getComputedStyle(gd).display;\n",
       "        if (!display || display === 'none') {{\n",
       "            console.log([gd, 'removed!']);\n",
       "            Plotly.purge(gd);\n",
       "            observer.disconnect();\n",
       "        }}\n",
       "}});\n",
       "\n",
       "// Listen for the removal of the full notebook cells\n",
       "var notebookContainer = gd.closest('#notebook-container');\n",
       "if (notebookContainer) {{\n",
       "    x.observe(notebookContainer, {childList: true});\n",
       "}}\n",
       "\n",
       "// Listen for the clearing of the current output cell\n",
       "var outputEl = gd.closest('.output');\n",
       "if (outputEl) {{\n",
       "    x.observe(outputEl, {childList: true});\n",
       "}}\n",
       "\n",
       "                        })\n",
       "                };\n",
       "                });\n",
       "            </script>\n",
       "        </div>"
      ]
     },
     "metadata": {},
     "output_type": "display_data"
    }
   ],
   "source": [
    "fig_dict = {\n",
    "    \"data\": [],\n",
    "    \"layout\": {},\n",
    "    \"frames\": []\n",
    "}\n",
    "\n",
    "# initial plot\n",
    "initial_devtype = list(selected_dev_type_columns.keys())[0]\n",
    "initial_plot_df = compensation_dev_type_df[compensation_dev_type_df[initial_devtype] == 1]\n",
    "\n",
    "fig = create_kde_per_devtype(initial_plot_df)\n",
    "\n",
    "fig_dict['data'] = fig.data\n",
    "fig_dict['layout'] = fig.layout\n",
    "\n",
    "# frames\n",
    "steps = []\n",
    "for i, dev_type in enumerate(selected_dev_type_columns):\n",
    "    if i>7: break\n",
    "    frame = {\"name\": dev_type}\n",
    "    \n",
    "    dev_type_compensation = compensation_dev_type_df[(compensation_dev_type_df[dev_type] == 1)]\n",
    "\n",
    "    fig = create_kde_per_devtype(dev_type_compensation)\n",
    "    fig = update_kde_layout(fig, dev_type)\n",
    "\n",
    "    frame['data'] = fig.data\n",
    "    frame['layout'] = fig.layout\n",
    "\n",
    "    fig_dict[\"frames\"].append(frame)\n",
    "\n",
    "    slider_step = {\n",
    "        \"label\": selected_dev_type_columns[dev_type],\n",
    "        \"method\": \"animate\",\n",
    "        \"args\": [\n",
    "            [dev_type],\n",
    "            {\"frame\": {\"duration\": 300, \"redraw\": True},\n",
    "             \"mode\": \"immediate\",\n",
    "             \"transition\": {\"duration\": 300}}\n",
    "        ],\n",
    "    }\n",
    "    steps.append(slider_step)\n",
    "\n",
    "fig_dict['layout'][\"updatemenus\"] = [dict(\n",
    "    type=\"buttons\",\n",
    "    pad={\"r\": 100, },#\"t\": -80},\n",
    "    buttons=steps\n",
    ")]\n",
    "\n",
    "fig = go.Figure(fig_dict)\n",
    "fig = update_kde_layout(fig, initial_devtype)\n",
    "\n",
    "fig.show()"
   ]
  },
  {
   "cell_type": "markdown",
   "metadata": {},
   "source": [
    "![image.png](images/compensation_per_developer_density_viz.png)"
   ]
  },
  {
   "cell_type": "markdown",
   "metadata": {},
   "source": [
    "[Link to interactive viz](https://chart-studio.plotly.com/~masharo/88/#/)"
   ]
  },
  {
   "cell_type": "code",
   "execution_count": 57,
   "metadata": {},
   "outputs": [
    {
     "data": {
      "text/plain": [
       "'https://plotly.com/~masharo/88/'"
      ]
     },
     "execution_count": 57,
     "metadata": {},
     "output_type": "execute_result"
    }
   ],
   "source": [
    "py.plot(fig, filename = 'stack-overflow-kde-salary-plot')"
   ]
  },
  {
   "cell_type": "markdown",
   "metadata": {},
   "source": [
    "### Average Compensation per Dev Type"
   ]
  },
  {
   "cell_type": "code",
   "execution_count": 96,
   "metadata": {},
   "outputs": [],
   "source": [
    "avg_df = []\n",
    "for devtype in selected_dev_type_columns:\n",
    "    devtype_df = compensation_dev_type_df[compensation_dev_type_df[devtype]==1]\n",
    "    devtype_df = devtype_df.groupby(['year']).agg({'compensation': 'median'})\n",
    "    devtype_df.columns = [devtype]\n",
    "    avg_df.append(devtype_df)"
   ]
  },
  {
   "cell_type": "code",
   "execution_count": 97,
   "metadata": {},
   "outputs": [
    {
     "data": {
      "text/html": [
       "<div>\n",
       "<style scoped>\n",
       "    .dataframe tbody tr th:only-of-type {\n",
       "        vertical-align: middle;\n",
       "    }\n",
       "\n",
       "    .dataframe tbody tr th {\n",
       "        vertical-align: top;\n",
       "    }\n",
       "\n",
       "    .dataframe thead th {\n",
       "        text-align: right;\n",
       "    }\n",
       "</style>\n",
       "<table border=\"1\" class=\"dataframe\">\n",
       "  <thead>\n",
       "    <tr style=\"text-align: right;\">\n",
       "      <th></th>\n",
       "      <th>Developer, back-end</th>\n",
       "      <th>Developer, front-end</th>\n",
       "      <th>Developer, full-stack</th>\n",
       "      <th>Developer, mobile</th>\n",
       "      <th>DevOps specialist</th>\n",
       "      <th>Database administrator</th>\n",
       "      <th>System administrator</th>\n",
       "      <th>Data scientist or machine learning specialist</th>\n",
       "      <th>Data or business analyst</th>\n",
       "      <th>Engineering manager</th>\n",
       "      <th>Product manager</th>\n",
       "      <th>Developer, desktop or enterprise applications</th>\n",
       "    </tr>\n",
       "    <tr>\n",
       "      <th>year</th>\n",
       "      <th></th>\n",
       "      <th></th>\n",
       "      <th></th>\n",
       "      <th></th>\n",
       "      <th></th>\n",
       "      <th></th>\n",
       "      <th></th>\n",
       "      <th></th>\n",
       "      <th></th>\n",
       "      <th></th>\n",
       "      <th></th>\n",
       "      <th></th>\n",
       "    </tr>\n",
       "  </thead>\n",
       "  <tbody>\n",
       "    <tr>\n",
       "      <th>2018</th>\n",
       "      <td>55562.0</td>\n",
       "      <td>51408.0</td>\n",
       "      <td>59000.0</td>\n",
       "      <td>43224.0</td>\n",
       "      <td>72469.0</td>\n",
       "      <td>51394.0</td>\n",
       "      <td>55562.0</td>\n",
       "      <td>60000.0</td>\n",
       "      <td>58890.5</td>\n",
       "      <td>88573.0</td>\n",
       "      <td>63174.0</td>\n",
       "      <td>57480.0</td>\n",
       "    </tr>\n",
       "    <tr>\n",
       "      <th>2019</th>\n",
       "      <td>55680.0</td>\n",
       "      <td>51559.0</td>\n",
       "      <td>57425.5</td>\n",
       "      <td>44629.5</td>\n",
       "      <td>71036.0</td>\n",
       "      <td>54302.0</td>\n",
       "      <td>55000.0</td>\n",
       "      <td>61071.0</td>\n",
       "      <td>59004.0</td>\n",
       "      <td>95000.0</td>\n",
       "      <td>60000.0</td>\n",
       "      <td>56142.0</td>\n",
       "    </tr>\n",
       "    <tr>\n",
       "      <th>2020</th>\n",
       "      <td>52996.0</td>\n",
       "      <td>48600.0</td>\n",
       "      <td>54474.0</td>\n",
       "      <td>43239.0</td>\n",
       "      <td>68068.0</td>\n",
       "      <td>50387.5</td>\n",
       "      <td>54049.0</td>\n",
       "      <td>58000.0</td>\n",
       "      <td>55129.0</td>\n",
       "      <td>91883.0</td>\n",
       "      <td>59000.0</td>\n",
       "      <td>55582.0</td>\n",
       "    </tr>\n",
       "  </tbody>\n",
       "</table>\n",
       "</div>"
      ],
      "text/plain": [
       "      Developer, back-end  Developer, front-end  Developer, full-stack  \\\n",
       "year                                                                     \n",
       "2018              55562.0               51408.0                59000.0   \n",
       "2019              55680.0               51559.0                57425.5   \n",
       "2020              52996.0               48600.0                54474.0   \n",
       "\n",
       "      Developer, mobile  DevOps specialist  Database administrator  \\\n",
       "year                                                                 \n",
       "2018            43224.0            72469.0                 51394.0   \n",
       "2019            44629.5            71036.0                 54302.0   \n",
       "2020            43239.0            68068.0                 50387.5   \n",
       "\n",
       "      System administrator  Data scientist or machine learning specialist  \\\n",
       "year                                                                        \n",
       "2018               55562.0                                        60000.0   \n",
       "2019               55000.0                                        61071.0   \n",
       "2020               54049.0                                        58000.0   \n",
       "\n",
       "      Data or business analyst  Engineering manager  Product manager  \\\n",
       "year                                                                   \n",
       "2018                   58890.5              88573.0          63174.0   \n",
       "2019                   59004.0              95000.0          60000.0   \n",
       "2020                   55129.0              91883.0          59000.0   \n",
       "\n",
       "      Developer, desktop or enterprise applications  \n",
       "year                                                 \n",
       "2018                                        57480.0  \n",
       "2019                                        56142.0  \n",
       "2020                                        55582.0  "
      ]
     },
     "execution_count": 97,
     "metadata": {},
     "output_type": "execute_result"
    }
   ],
   "source": [
    "from functools import reduce\n",
    "join_avg = reduce(lambda df1, df2: pd.merge(df1,df2, on='year'), avg_df)\n",
    "join_avg"
   ]
  },
  {
   "cell_type": "code",
   "execution_count": 98,
   "metadata": {},
   "outputs": [
    {
     "data": {
      "text/html": [
       "<div>\n",
       "<style scoped>\n",
       "    .dataframe tbody tr th:only-of-type {\n",
       "        vertical-align: middle;\n",
       "    }\n",
       "\n",
       "    .dataframe tbody tr th {\n",
       "        vertical-align: top;\n",
       "    }\n",
       "\n",
       "    .dataframe thead th {\n",
       "        text-align: right;\n",
       "    }\n",
       "</style>\n",
       "<table border=\"1\" class=\"dataframe\">\n",
       "  <thead>\n",
       "    <tr style=\"text-align: right;\">\n",
       "      <th></th>\n",
       "      <th>year</th>\n",
       "      <th>devtype</th>\n",
       "      <th>avg_compensation</th>\n",
       "      <th>devtype_label</th>\n",
       "    </tr>\n",
       "  </thead>\n",
       "  <tbody>\n",
       "    <tr>\n",
       "      <th>9</th>\n",
       "      <td>2018</td>\n",
       "      <td>Engineering manager</td>\n",
       "      <td>88573.0</td>\n",
       "      <td>Engineer Manager</td>\n",
       "    </tr>\n",
       "    <tr>\n",
       "      <th>4</th>\n",
       "      <td>2018</td>\n",
       "      <td>DevOps specialist</td>\n",
       "      <td>72469.0</td>\n",
       "      <td>DevOps</td>\n",
       "    </tr>\n",
       "    <tr>\n",
       "      <th>10</th>\n",
       "      <td>2018</td>\n",
       "      <td>Product manager</td>\n",
       "      <td>63174.0</td>\n",
       "      <td>Product manager</td>\n",
       "    </tr>\n",
       "    <tr>\n",
       "      <th>7</th>\n",
       "      <td>2018</td>\n",
       "      <td>Data scientist or machine learning specialist</td>\n",
       "      <td>60000.0</td>\n",
       "      <td>Data Scientist</td>\n",
       "    </tr>\n",
       "    <tr>\n",
       "      <th>2</th>\n",
       "      <td>2018</td>\n",
       "      <td>Developer, full-stack</td>\n",
       "      <td>59000.0</td>\n",
       "      <td>Fullstack</td>\n",
       "    </tr>\n",
       "  </tbody>\n",
       "</table>\n",
       "</div>"
      ],
      "text/plain": [
       "    year                                        devtype  avg_compensation  \\\n",
       "9   2018                            Engineering manager           88573.0   \n",
       "4   2018                              DevOps specialist           72469.0   \n",
       "10  2018                                Product manager           63174.0   \n",
       "7   2018  Data scientist or machine learning specialist           60000.0   \n",
       "2   2018                          Developer, full-stack           59000.0   \n",
       "\n",
       "       devtype_label  \n",
       "9   Engineer Manager  \n",
       "4             DevOps  \n",
       "10   Product manager  \n",
       "7     Data Scientist  \n",
       "2          Fullstack  "
      ]
     },
     "execution_count": 98,
     "metadata": {},
     "output_type": "execute_result"
    }
   ],
   "source": [
    "avg_devtype_transform = join_avg.T.unstack().reset_index(name='avg_compensation').rename(columns={'level_1':'devtype'})\n",
    "avg_devtype_transform['devtype_label'] = avg_devtype_transform.devtype.map(selected_dev_type_columns)\n",
    "# sort by group year and avgerage compensation\n",
    "avg_devtype_transform = avg_devtype_transform.groupby(\n",
    "    ['year'], group_keys=False\n",
    ").apply(\n",
    "    lambda x: x.sort_values('avg_compensation', ascending=False)\n",
    ")\n",
    "avg_devtype_transform.head()"
   ]
  },
  {
   "cell_type": "markdown",
   "metadata": {},
   "source": [
    "### Viz - Average Compensation per Dev Type"
   ]
  },
  {
   "cell_type": "code",
   "execution_count": 102,
   "metadata": {},
   "outputs": [
    {
     "data": {
      "application/vnd.plotly.v1+json": {
       "config": {
        "plotlyServerURL": "https://plotly.com"
       },
       "data": [
        {
         "customdata": [
          [
           "Engineer Manager",
           91883
          ]
         ],
         "hovertemplate": "<b>%{hovertext}</b><br><br>Year=2020<br>Compensation=%{customdata[1]:$.3s}<extra></extra>",
         "hovertext": [
          "Engineering manager"
         ],
         "legendgroup": "Engineer Manager",
         "marker": {
          "color": "#636efa",
          "size": [
           91883
          ],
          "sizemode": "area",
          "sizeref": 237.5,
          "symbol": "circle"
         },
         "mode": "markers",
         "name": "Engineer Manager",
         "orientation": "h",
         "showlegend": true,
         "type": "scatter",
         "x": [
          91883
         ],
         "xaxis": "x",
         "y": [
          "Engineer Manager"
         ],
         "yaxis": "y"
        },
        {
         "customdata": [
          [
           "DevOps",
           68068
          ]
         ],
         "hovertemplate": "<b>%{hovertext}</b><br><br>Year=2020<br>Compensation=%{customdata[1]:$.3s}<extra></extra>",
         "hovertext": [
          "DevOps specialist"
         ],
         "legendgroup": "DevOps",
         "marker": {
          "color": "#EF553B",
          "size": [
           68068
          ],
          "sizemode": "area",
          "sizeref": 237.5,
          "symbol": "circle"
         },
         "mode": "markers",
         "name": "DevOps",
         "orientation": "h",
         "showlegend": true,
         "type": "scatter",
         "x": [
          68068
         ],
         "xaxis": "x",
         "y": [
          "DevOps"
         ],
         "yaxis": "y"
        },
        {
         "customdata": [
          [
           "Product manager",
           59000
          ]
         ],
         "hovertemplate": "<b>%{hovertext}</b><br><br>Year=2020<br>Compensation=%{customdata[1]:$.3s}<extra></extra>",
         "hovertext": [
          "Product manager"
         ],
         "legendgroup": "Product manager",
         "marker": {
          "color": "#00cc96",
          "size": [
           59000
          ],
          "sizemode": "area",
          "sizeref": 237.5,
          "symbol": "circle"
         },
         "mode": "markers",
         "name": "Product manager",
         "orientation": "h",
         "showlegend": true,
         "type": "scatter",
         "x": [
          59000
         ],
         "xaxis": "x",
         "y": [
          "Product manager"
         ],
         "yaxis": "y"
        },
        {
         "customdata": [
          [
           "Data Scientist",
           58000
          ]
         ],
         "hovertemplate": "<b>%{hovertext}</b><br><br>Year=2020<br>Compensation=%{customdata[1]:$.3s}<extra></extra>",
         "hovertext": [
          "Data scientist or machine learning specialist"
         ],
         "legendgroup": "Data Scientist",
         "marker": {
          "color": "#ab63fa",
          "size": [
           58000
          ],
          "sizemode": "area",
          "sizeref": 237.5,
          "symbol": "circle"
         },
         "mode": "markers",
         "name": "Data Scientist",
         "orientation": "h",
         "showlegend": true,
         "type": "scatter",
         "x": [
          58000
         ],
         "xaxis": "x",
         "y": [
          "Data Scientist"
         ],
         "yaxis": "y"
        },
        {
         "customdata": [
          [
           "Fullstack",
           54474
          ]
         ],
         "hovertemplate": "<b>%{hovertext}</b><br><br>Year=2020<br>Compensation=%{customdata[1]:$.3s}<extra></extra>",
         "hovertext": [
          "Developer, full-stack"
         ],
         "legendgroup": "Fullstack",
         "marker": {
          "color": "#FFA15A",
          "size": [
           54474
          ],
          "sizemode": "area",
          "sizeref": 237.5,
          "symbol": "circle"
         },
         "mode": "markers",
         "name": "Fullstack",
         "orientation": "h",
         "showlegend": true,
         "type": "scatter",
         "x": [
          54474
         ],
         "xaxis": "x",
         "y": [
          "Fullstack"
         ],
         "yaxis": "y"
        },
        {
         "customdata": [
          [
           "Data Analyst",
           55129
          ]
         ],
         "hovertemplate": "<b>%{hovertext}</b><br><br>Year=2020<br>Compensation=%{customdata[1]:$.3s}<extra></extra>",
         "hovertext": [
          "Data or business analyst"
         ],
         "legendgroup": "Data Analyst",
         "marker": {
          "color": "#19d3f3",
          "size": [
           55129
          ],
          "sizemode": "area",
          "sizeref": 237.5,
          "symbol": "circle"
         },
         "mode": "markers",
         "name": "Data Analyst",
         "orientation": "h",
         "showlegend": true,
         "type": "scatter",
         "x": [
          55129
         ],
         "xaxis": "x",
         "y": [
          "Data Analyst"
         ],
         "yaxis": "y"
        },
        {
         "customdata": [
          [
           "Desktop",
           55582
          ]
         ],
         "hovertemplate": "<b>%{hovertext}</b><br><br>Year=2020<br>Compensation=%{customdata[1]:$.3s}<extra></extra>",
         "hovertext": [
          "Developer, desktop or enterprise applications"
         ],
         "legendgroup": "Desktop",
         "marker": {
          "color": "#FF6692",
          "size": [
           55582
          ],
          "sizemode": "area",
          "sizeref": 237.5,
          "symbol": "circle"
         },
         "mode": "markers",
         "name": "Desktop",
         "orientation": "h",
         "showlegend": true,
         "type": "scatter",
         "x": [
          55582
         ],
         "xaxis": "x",
         "y": [
          "Desktop"
         ],
         "yaxis": "y"
        },
        {
         "customdata": [
          [
           "Backend",
           52996
          ]
         ],
         "hovertemplate": "<b>%{hovertext}</b><br><br>Year=2020<br>Compensation=%{customdata[1]:$.3s}<extra></extra>",
         "hovertext": [
          "Developer, back-end"
         ],
         "legendgroup": "Backend",
         "marker": {
          "color": "#B6E880",
          "size": [
           52996
          ],
          "sizemode": "area",
          "sizeref": 237.5,
          "symbol": "circle"
         },
         "mode": "markers",
         "name": "Backend",
         "orientation": "h",
         "showlegend": true,
         "type": "scatter",
         "x": [
          52996
         ],
         "xaxis": "x",
         "y": [
          "Backend"
         ],
         "yaxis": "y"
        },
        {
         "customdata": [
          [
           "System Admin",
           54049
          ]
         ],
         "hovertemplate": "<b>%{hovertext}</b><br><br>Year=2020<br>Compensation=%{customdata[1]:$.3s}<extra></extra>",
         "hovertext": [
          "System administrator"
         ],
         "legendgroup": "System Admin",
         "marker": {
          "color": "#FF97FF",
          "size": [
           54049
          ],
          "sizemode": "area",
          "sizeref": 237.5,
          "symbol": "circle"
         },
         "mode": "markers",
         "name": "System Admin",
         "orientation": "h",
         "showlegend": true,
         "type": "scatter",
         "x": [
          54049
         ],
         "xaxis": "x",
         "y": [
          "System Admin"
         ],
         "yaxis": "y"
        },
        {
         "customdata": [
          [
           "Frontend",
           48600
          ]
         ],
         "hovertemplate": "<b>%{hovertext}</b><br><br>Year=2020<br>Compensation=%{customdata[1]:$.3s}<extra></extra>",
         "hovertext": [
          "Developer, front-end"
         ],
         "legendgroup": "Frontend",
         "marker": {
          "color": "#FECB52",
          "size": [
           48600
          ],
          "sizemode": "area",
          "sizeref": 237.5,
          "symbol": "circle"
         },
         "mode": "markers",
         "name": "Frontend",
         "orientation": "h",
         "showlegend": true,
         "type": "scatter",
         "x": [
          48600
         ],
         "xaxis": "x",
         "y": [
          "Frontend"
         ],
         "yaxis": "y"
        },
        {
         "customdata": [
          [
           "Database Admin",
           50387.5
          ]
         ],
         "hovertemplate": "<b>%{hovertext}</b><br><br>Year=2020<br>Compensation=%{customdata[1]:$.3s}<extra></extra>",
         "hovertext": [
          "Database administrator"
         ],
         "legendgroup": "Database Admin",
         "marker": {
          "color": "#636efa",
          "size": [
           50387.5
          ],
          "sizemode": "area",
          "sizeref": 237.5,
          "symbol": "circle"
         },
         "mode": "markers",
         "name": "Database Admin",
         "orientation": "h",
         "showlegend": true,
         "type": "scatter",
         "x": [
          50387.5
         ],
         "xaxis": "x",
         "y": [
          "Database Admin"
         ],
         "yaxis": "y"
        },
        {
         "customdata": [
          [
           "Mobile",
           43239
          ]
         ],
         "hovertemplate": "<b>%{hovertext}</b><br><br>Year=2020<br>Compensation=%{customdata[1]:$.3s}<extra></extra>",
         "hovertext": [
          "Developer, mobile"
         ],
         "legendgroup": "Mobile",
         "marker": {
          "color": "#EF553B",
          "size": [
           43239
          ],
          "sizemode": "area",
          "sizeref": 237.5,
          "symbol": "circle"
         },
         "mode": "markers",
         "name": "Mobile",
         "orientation": "h",
         "showlegend": true,
         "type": "scatter",
         "x": [
          43239
         ],
         "xaxis": "x",
         "y": [
          "Mobile"
         ],
         "yaxis": "y"
        }
       ],
       "frames": [
        {
         "data": [
          {
           "customdata": [
            [
             "Engineer Manager",
             88573
            ]
           ],
           "hovertemplate": "<b>%{hovertext}</b><br><br>Year=2018<br>Compensation=%{customdata[1]:$.3s}<extra></extra>",
           "hovertext": [
            "Engineering manager"
           ],
           "legendgroup": "Engineer Manager",
           "marker": {
            "color": "#636efa",
            "size": [
             88573
            ],
            "sizemode": "area",
            "sizeref": 237.5,
            "symbol": "circle"
           },
           "mode": "markers",
           "name": "Engineer Manager",
           "orientation": "h",
           "showlegend": true,
           "type": "scatter",
           "x": [
            88573
           ],
           "xaxis": "x",
           "y": [
            "Engineer Manager"
           ],
           "yaxis": "y"
          },
          {
           "customdata": [
            [
             "DevOps",
             72469
            ]
           ],
           "hovertemplate": "<b>%{hovertext}</b><br><br>Year=2018<br>Compensation=%{customdata[1]:$.3s}<extra></extra>",
           "hovertext": [
            "DevOps specialist"
           ],
           "legendgroup": "DevOps",
           "marker": {
            "color": "#EF553B",
            "size": [
             72469
            ],
            "sizemode": "area",
            "sizeref": 237.5,
            "symbol": "circle"
           },
           "mode": "markers",
           "name": "DevOps",
           "orientation": "h",
           "showlegend": true,
           "type": "scatter",
           "x": [
            72469
           ],
           "xaxis": "x",
           "y": [
            "DevOps"
           ],
           "yaxis": "y"
          },
          {
           "customdata": [
            [
             "Product manager",
             63174
            ]
           ],
           "hovertemplate": "<b>%{hovertext}</b><br><br>Year=2018<br>Compensation=%{customdata[1]:$.3s}<extra></extra>",
           "hovertext": [
            "Product manager"
           ],
           "legendgroup": "Product manager",
           "marker": {
            "color": "#00cc96",
            "size": [
             63174
            ],
            "sizemode": "area",
            "sizeref": 237.5,
            "symbol": "circle"
           },
           "mode": "markers",
           "name": "Product manager",
           "orientation": "h",
           "showlegend": true,
           "type": "scatter",
           "x": [
            63174
           ],
           "xaxis": "x",
           "y": [
            "Product manager"
           ],
           "yaxis": "y"
          },
          {
           "customdata": [
            [
             "Data Scientist",
             60000
            ]
           ],
           "hovertemplate": "<b>%{hovertext}</b><br><br>Year=2018<br>Compensation=%{customdata[1]:$.3s}<extra></extra>",
           "hovertext": [
            "Data scientist or machine learning specialist"
           ],
           "legendgroup": "Data Scientist",
           "marker": {
            "color": "#ab63fa",
            "size": [
             60000
            ],
            "sizemode": "area",
            "sizeref": 237.5,
            "symbol": "circle"
           },
           "mode": "markers",
           "name": "Data Scientist",
           "orientation": "h",
           "showlegend": true,
           "type": "scatter",
           "x": [
            60000
           ],
           "xaxis": "x",
           "y": [
            "Data Scientist"
           ],
           "yaxis": "y"
          },
          {
           "customdata": [
            [
             "Fullstack",
             59000
            ]
           ],
           "hovertemplate": "<b>%{hovertext}</b><br><br>Year=2018<br>Compensation=%{customdata[1]:$.3s}<extra></extra>",
           "hovertext": [
            "Developer, full-stack"
           ],
           "legendgroup": "Fullstack",
           "marker": {
            "color": "#FFA15A",
            "size": [
             59000
            ],
            "sizemode": "area",
            "sizeref": 237.5,
            "symbol": "circle"
           },
           "mode": "markers",
           "name": "Fullstack",
           "orientation": "h",
           "showlegend": true,
           "type": "scatter",
           "x": [
            59000
           ],
           "xaxis": "x",
           "y": [
            "Fullstack"
           ],
           "yaxis": "y"
          },
          {
           "customdata": [
            [
             "Data Analyst",
             58890.5
            ]
           ],
           "hovertemplate": "<b>%{hovertext}</b><br><br>Year=2018<br>Compensation=%{customdata[1]:$.3s}<extra></extra>",
           "hovertext": [
            "Data or business analyst"
           ],
           "legendgroup": "Data Analyst",
           "marker": {
            "color": "#19d3f3",
            "size": [
             58890.5
            ],
            "sizemode": "area",
            "sizeref": 237.5,
            "symbol": "circle"
           },
           "mode": "markers",
           "name": "Data Analyst",
           "orientation": "h",
           "showlegend": true,
           "type": "scatter",
           "x": [
            58890.5
           ],
           "xaxis": "x",
           "y": [
            "Data Analyst"
           ],
           "yaxis": "y"
          },
          {
           "customdata": [
            [
             "Desktop",
             57480
            ]
           ],
           "hovertemplate": "<b>%{hovertext}</b><br><br>Year=2018<br>Compensation=%{customdata[1]:$.3s}<extra></extra>",
           "hovertext": [
            "Developer, desktop or enterprise applications"
           ],
           "legendgroup": "Desktop",
           "marker": {
            "color": "#FF6692",
            "size": [
             57480
            ],
            "sizemode": "area",
            "sizeref": 237.5,
            "symbol": "circle"
           },
           "mode": "markers",
           "name": "Desktop",
           "orientation": "h",
           "showlegend": true,
           "type": "scatter",
           "x": [
            57480
           ],
           "xaxis": "x",
           "y": [
            "Desktop"
           ],
           "yaxis": "y"
          },
          {
           "customdata": [
            [
             "Backend",
             55562
            ]
           ],
           "hovertemplate": "<b>%{hovertext}</b><br><br>Year=2018<br>Compensation=%{customdata[1]:$.3s}<extra></extra>",
           "hovertext": [
            "Developer, back-end"
           ],
           "legendgroup": "Backend",
           "marker": {
            "color": "#B6E880",
            "size": [
             55562
            ],
            "sizemode": "area",
            "sizeref": 237.5,
            "symbol": "circle"
           },
           "mode": "markers",
           "name": "Backend",
           "orientation": "h",
           "showlegend": true,
           "type": "scatter",
           "x": [
            55562
           ],
           "xaxis": "x",
           "y": [
            "Backend"
           ],
           "yaxis": "y"
          },
          {
           "customdata": [
            [
             "System Admin",
             55562
            ]
           ],
           "hovertemplate": "<b>%{hovertext}</b><br><br>Year=2018<br>Compensation=%{customdata[1]:$.3s}<extra></extra>",
           "hovertext": [
            "System administrator"
           ],
           "legendgroup": "System Admin",
           "marker": {
            "color": "#FF97FF",
            "size": [
             55562
            ],
            "sizemode": "area",
            "sizeref": 237.5,
            "symbol": "circle"
           },
           "mode": "markers",
           "name": "System Admin",
           "orientation": "h",
           "showlegend": true,
           "type": "scatter",
           "x": [
            55562
           ],
           "xaxis": "x",
           "y": [
            "System Admin"
           ],
           "yaxis": "y"
          },
          {
           "customdata": [
            [
             "Frontend",
             51408
            ]
           ],
           "hovertemplate": "<b>%{hovertext}</b><br><br>Year=2018<br>Compensation=%{customdata[1]:$.3s}<extra></extra>",
           "hovertext": [
            "Developer, front-end"
           ],
           "legendgroup": "Frontend",
           "marker": {
            "color": "#FECB52",
            "size": [
             51408
            ],
            "sizemode": "area",
            "sizeref": 237.5,
            "symbol": "circle"
           },
           "mode": "markers",
           "name": "Frontend",
           "orientation": "h",
           "showlegend": true,
           "type": "scatter",
           "x": [
            51408
           ],
           "xaxis": "x",
           "y": [
            "Frontend"
           ],
           "yaxis": "y"
          },
          {
           "customdata": [
            [
             "Database Admin",
             51394
            ]
           ],
           "hovertemplate": "<b>%{hovertext}</b><br><br>Year=2018<br>Compensation=%{customdata[1]:$.3s}<extra></extra>",
           "hovertext": [
            "Database administrator"
           ],
           "legendgroup": "Database Admin",
           "marker": {
            "color": "#636efa",
            "size": [
             51394
            ],
            "sizemode": "area",
            "sizeref": 237.5,
            "symbol": "circle"
           },
           "mode": "markers",
           "name": "Database Admin",
           "orientation": "h",
           "showlegend": true,
           "type": "scatter",
           "x": [
            51394
           ],
           "xaxis": "x",
           "y": [
            "Database Admin"
           ],
           "yaxis": "y"
          },
          {
           "customdata": [
            [
             "Mobile",
             43224
            ]
           ],
           "hovertemplate": "<b>%{hovertext}</b><br><br>Year=2018<br>Compensation=%{customdata[1]:$.3s}<extra></extra>",
           "hovertext": [
            "Developer, mobile"
           ],
           "legendgroup": "Mobile",
           "marker": {
            "color": "#EF553B",
            "size": [
             43224
            ],
            "sizemode": "area",
            "sizeref": 237.5,
            "symbol": "circle"
           },
           "mode": "markers",
           "name": "Mobile",
           "orientation": "h",
           "showlegend": true,
           "type": "scatter",
           "x": [
            43224
           ],
           "xaxis": "x",
           "y": [
            "Mobile"
           ],
           "yaxis": "y"
          }
         ],
         "name": "2018"
        },
        {
         "data": [
          {
           "customdata": [
            [
             "Engineer Manager",
             95000
            ]
           ],
           "hovertemplate": "<b>%{hovertext}</b><br><br>Year=2019<br>Compensation=%{customdata[1]:$.3s}<extra></extra>",
           "hovertext": [
            "Engineering manager"
           ],
           "legendgroup": "Engineer Manager",
           "marker": {
            "color": "#636efa",
            "size": [
             95000
            ],
            "sizemode": "area",
            "sizeref": 237.5,
            "symbol": "circle"
           },
           "mode": "markers",
           "name": "Engineer Manager",
           "orientation": "h",
           "showlegend": true,
           "type": "scatter",
           "x": [
            95000
           ],
           "xaxis": "x",
           "y": [
            "Engineer Manager"
           ],
           "yaxis": "y"
          },
          {
           "customdata": [
            [
             "DevOps",
             71036
            ]
           ],
           "hovertemplate": "<b>%{hovertext}</b><br><br>Year=2019<br>Compensation=%{customdata[1]:$.3s}<extra></extra>",
           "hovertext": [
            "DevOps specialist"
           ],
           "legendgroup": "DevOps",
           "marker": {
            "color": "#EF553B",
            "size": [
             71036
            ],
            "sizemode": "area",
            "sizeref": 237.5,
            "symbol": "circle"
           },
           "mode": "markers",
           "name": "DevOps",
           "orientation": "h",
           "showlegend": true,
           "type": "scatter",
           "x": [
            71036
           ],
           "xaxis": "x",
           "y": [
            "DevOps"
           ],
           "yaxis": "y"
          },
          {
           "customdata": [
            [
             "Product manager",
             60000
            ]
           ],
           "hovertemplate": "<b>%{hovertext}</b><br><br>Year=2019<br>Compensation=%{customdata[1]:$.3s}<extra></extra>",
           "hovertext": [
            "Product manager"
           ],
           "legendgroup": "Product manager",
           "marker": {
            "color": "#00cc96",
            "size": [
             60000
            ],
            "sizemode": "area",
            "sizeref": 237.5,
            "symbol": "circle"
           },
           "mode": "markers",
           "name": "Product manager",
           "orientation": "h",
           "showlegend": true,
           "type": "scatter",
           "x": [
            60000
           ],
           "xaxis": "x",
           "y": [
            "Product manager"
           ],
           "yaxis": "y"
          },
          {
           "customdata": [
            [
             "Data Scientist",
             61071
            ]
           ],
           "hovertemplate": "<b>%{hovertext}</b><br><br>Year=2019<br>Compensation=%{customdata[1]:$.3s}<extra></extra>",
           "hovertext": [
            "Data scientist or machine learning specialist"
           ],
           "legendgroup": "Data Scientist",
           "marker": {
            "color": "#ab63fa",
            "size": [
             61071
            ],
            "sizemode": "area",
            "sizeref": 237.5,
            "symbol": "circle"
           },
           "mode": "markers",
           "name": "Data Scientist",
           "orientation": "h",
           "showlegend": true,
           "type": "scatter",
           "x": [
            61071
           ],
           "xaxis": "x",
           "y": [
            "Data Scientist"
           ],
           "yaxis": "y"
          },
          {
           "customdata": [
            [
             "Fullstack",
             57425.5
            ]
           ],
           "hovertemplate": "<b>%{hovertext}</b><br><br>Year=2019<br>Compensation=%{customdata[1]:$.3s}<extra></extra>",
           "hovertext": [
            "Developer, full-stack"
           ],
           "legendgroup": "Fullstack",
           "marker": {
            "color": "#FFA15A",
            "size": [
             57425.5
            ],
            "sizemode": "area",
            "sizeref": 237.5,
            "symbol": "circle"
           },
           "mode": "markers",
           "name": "Fullstack",
           "orientation": "h",
           "showlegend": true,
           "type": "scatter",
           "x": [
            57425.5
           ],
           "xaxis": "x",
           "y": [
            "Fullstack"
           ],
           "yaxis": "y"
          },
          {
           "customdata": [
            [
             "Data Analyst",
             59004
            ]
           ],
           "hovertemplate": "<b>%{hovertext}</b><br><br>Year=2019<br>Compensation=%{customdata[1]:$.3s}<extra></extra>",
           "hovertext": [
            "Data or business analyst"
           ],
           "legendgroup": "Data Analyst",
           "marker": {
            "color": "#19d3f3",
            "size": [
             59004
            ],
            "sizemode": "area",
            "sizeref": 237.5,
            "symbol": "circle"
           },
           "mode": "markers",
           "name": "Data Analyst",
           "orientation": "h",
           "showlegend": true,
           "type": "scatter",
           "x": [
            59004
           ],
           "xaxis": "x",
           "y": [
            "Data Analyst"
           ],
           "yaxis": "y"
          },
          {
           "customdata": [
            [
             "Desktop",
             56142
            ]
           ],
           "hovertemplate": "<b>%{hovertext}</b><br><br>Year=2019<br>Compensation=%{customdata[1]:$.3s}<extra></extra>",
           "hovertext": [
            "Developer, desktop or enterprise applications"
           ],
           "legendgroup": "Desktop",
           "marker": {
            "color": "#FF6692",
            "size": [
             56142
            ],
            "sizemode": "area",
            "sizeref": 237.5,
            "symbol": "circle"
           },
           "mode": "markers",
           "name": "Desktop",
           "orientation": "h",
           "showlegend": true,
           "type": "scatter",
           "x": [
            56142
           ],
           "xaxis": "x",
           "y": [
            "Desktop"
           ],
           "yaxis": "y"
          },
          {
           "customdata": [
            [
             "Backend",
             55680
            ]
           ],
           "hovertemplate": "<b>%{hovertext}</b><br><br>Year=2019<br>Compensation=%{customdata[1]:$.3s}<extra></extra>",
           "hovertext": [
            "Developer, back-end"
           ],
           "legendgroup": "Backend",
           "marker": {
            "color": "#B6E880",
            "size": [
             55680
            ],
            "sizemode": "area",
            "sizeref": 237.5,
            "symbol": "circle"
           },
           "mode": "markers",
           "name": "Backend",
           "orientation": "h",
           "showlegend": true,
           "type": "scatter",
           "x": [
            55680
           ],
           "xaxis": "x",
           "y": [
            "Backend"
           ],
           "yaxis": "y"
          },
          {
           "customdata": [
            [
             "System Admin",
             55000
            ]
           ],
           "hovertemplate": "<b>%{hovertext}</b><br><br>Year=2019<br>Compensation=%{customdata[1]:$.3s}<extra></extra>",
           "hovertext": [
            "System administrator"
           ],
           "legendgroup": "System Admin",
           "marker": {
            "color": "#FF97FF",
            "size": [
             55000
            ],
            "sizemode": "area",
            "sizeref": 237.5,
            "symbol": "circle"
           },
           "mode": "markers",
           "name": "System Admin",
           "orientation": "h",
           "showlegend": true,
           "type": "scatter",
           "x": [
            55000
           ],
           "xaxis": "x",
           "y": [
            "System Admin"
           ],
           "yaxis": "y"
          },
          {
           "customdata": [
            [
             "Frontend",
             51559
            ]
           ],
           "hovertemplate": "<b>%{hovertext}</b><br><br>Year=2019<br>Compensation=%{customdata[1]:$.3s}<extra></extra>",
           "hovertext": [
            "Developer, front-end"
           ],
           "legendgroup": "Frontend",
           "marker": {
            "color": "#FECB52",
            "size": [
             51559
            ],
            "sizemode": "area",
            "sizeref": 237.5,
            "symbol": "circle"
           },
           "mode": "markers",
           "name": "Frontend",
           "orientation": "h",
           "showlegend": true,
           "type": "scatter",
           "x": [
            51559
           ],
           "xaxis": "x",
           "y": [
            "Frontend"
           ],
           "yaxis": "y"
          },
          {
           "customdata": [
            [
             "Database Admin",
             54302
            ]
           ],
           "hovertemplate": "<b>%{hovertext}</b><br><br>Year=2019<br>Compensation=%{customdata[1]:$.3s}<extra></extra>",
           "hovertext": [
            "Database administrator"
           ],
           "legendgroup": "Database Admin",
           "marker": {
            "color": "#636efa",
            "size": [
             54302
            ],
            "sizemode": "area",
            "sizeref": 237.5,
            "symbol": "circle"
           },
           "mode": "markers",
           "name": "Database Admin",
           "orientation": "h",
           "showlegend": true,
           "type": "scatter",
           "x": [
            54302
           ],
           "xaxis": "x",
           "y": [
            "Database Admin"
           ],
           "yaxis": "y"
          },
          {
           "customdata": [
            [
             "Mobile",
             44629.5
            ]
           ],
           "hovertemplate": "<b>%{hovertext}</b><br><br>Year=2019<br>Compensation=%{customdata[1]:$.3s}<extra></extra>",
           "hovertext": [
            "Developer, mobile"
           ],
           "legendgroup": "Mobile",
           "marker": {
            "color": "#EF553B",
            "size": [
             44629.5
            ],
            "sizemode": "area",
            "sizeref": 237.5,
            "symbol": "circle"
           },
           "mode": "markers",
           "name": "Mobile",
           "orientation": "h",
           "showlegend": true,
           "type": "scatter",
           "x": [
            44629.5
           ],
           "xaxis": "x",
           "y": [
            "Mobile"
           ],
           "yaxis": "y"
          }
         ],
         "name": "2019"
        },
        {
         "data": [
          {
           "customdata": [
            [
             "Engineer Manager",
             91883
            ]
           ],
           "hovertemplate": "<b>%{hovertext}</b><br><br>Year=2020<br>Compensation=%{customdata[1]:$.3s}<extra></extra>",
           "hovertext": [
            "Engineering manager"
           ],
           "legendgroup": "Engineer Manager",
           "marker": {
            "color": "#636efa",
            "size": [
             91883
            ],
            "sizemode": "area",
            "sizeref": 237.5,
            "symbol": "circle"
           },
           "mode": "markers",
           "name": "Engineer Manager",
           "orientation": "h",
           "showlegend": true,
           "type": "scatter",
           "x": [
            91883
           ],
           "xaxis": "x",
           "y": [
            "Engineer Manager"
           ],
           "yaxis": "y"
          },
          {
           "customdata": [
            [
             "DevOps",
             68068
            ]
           ],
           "hovertemplate": "<b>%{hovertext}</b><br><br>Year=2020<br>Compensation=%{customdata[1]:$.3s}<extra></extra>",
           "hovertext": [
            "DevOps specialist"
           ],
           "legendgroup": "DevOps",
           "marker": {
            "color": "#EF553B",
            "size": [
             68068
            ],
            "sizemode": "area",
            "sizeref": 237.5,
            "symbol": "circle"
           },
           "mode": "markers",
           "name": "DevOps",
           "orientation": "h",
           "showlegend": true,
           "type": "scatter",
           "x": [
            68068
           ],
           "xaxis": "x",
           "y": [
            "DevOps"
           ],
           "yaxis": "y"
          },
          {
           "customdata": [
            [
             "Product manager",
             59000
            ]
           ],
           "hovertemplate": "<b>%{hovertext}</b><br><br>Year=2020<br>Compensation=%{customdata[1]:$.3s}<extra></extra>",
           "hovertext": [
            "Product manager"
           ],
           "legendgroup": "Product manager",
           "marker": {
            "color": "#00cc96",
            "size": [
             59000
            ],
            "sizemode": "area",
            "sizeref": 237.5,
            "symbol": "circle"
           },
           "mode": "markers",
           "name": "Product manager",
           "orientation": "h",
           "showlegend": true,
           "type": "scatter",
           "x": [
            59000
           ],
           "xaxis": "x",
           "y": [
            "Product manager"
           ],
           "yaxis": "y"
          },
          {
           "customdata": [
            [
             "Data Scientist",
             58000
            ]
           ],
           "hovertemplate": "<b>%{hovertext}</b><br><br>Year=2020<br>Compensation=%{customdata[1]:$.3s}<extra></extra>",
           "hovertext": [
            "Data scientist or machine learning specialist"
           ],
           "legendgroup": "Data Scientist",
           "marker": {
            "color": "#ab63fa",
            "size": [
             58000
            ],
            "sizemode": "area",
            "sizeref": 237.5,
            "symbol": "circle"
           },
           "mode": "markers",
           "name": "Data Scientist",
           "orientation": "h",
           "showlegend": true,
           "type": "scatter",
           "x": [
            58000
           ],
           "xaxis": "x",
           "y": [
            "Data Scientist"
           ],
           "yaxis": "y"
          },
          {
           "customdata": [
            [
             "Fullstack",
             54474
            ]
           ],
           "hovertemplate": "<b>%{hovertext}</b><br><br>Year=2020<br>Compensation=%{customdata[1]:$.3s}<extra></extra>",
           "hovertext": [
            "Developer, full-stack"
           ],
           "legendgroup": "Fullstack",
           "marker": {
            "color": "#FFA15A",
            "size": [
             54474
            ],
            "sizemode": "area",
            "sizeref": 237.5,
            "symbol": "circle"
           },
           "mode": "markers",
           "name": "Fullstack",
           "orientation": "h",
           "showlegend": true,
           "type": "scatter",
           "x": [
            54474
           ],
           "xaxis": "x",
           "y": [
            "Fullstack"
           ],
           "yaxis": "y"
          },
          {
           "customdata": [
            [
             "Data Analyst",
             55129
            ]
           ],
           "hovertemplate": "<b>%{hovertext}</b><br><br>Year=2020<br>Compensation=%{customdata[1]:$.3s}<extra></extra>",
           "hovertext": [
            "Data or business analyst"
           ],
           "legendgroup": "Data Analyst",
           "marker": {
            "color": "#19d3f3",
            "size": [
             55129
            ],
            "sizemode": "area",
            "sizeref": 237.5,
            "symbol": "circle"
           },
           "mode": "markers",
           "name": "Data Analyst",
           "orientation": "h",
           "showlegend": true,
           "type": "scatter",
           "x": [
            55129
           ],
           "xaxis": "x",
           "y": [
            "Data Analyst"
           ],
           "yaxis": "y"
          },
          {
           "customdata": [
            [
             "Desktop",
             55582
            ]
           ],
           "hovertemplate": "<b>%{hovertext}</b><br><br>Year=2020<br>Compensation=%{customdata[1]:$.3s}<extra></extra>",
           "hovertext": [
            "Developer, desktop or enterprise applications"
           ],
           "legendgroup": "Desktop",
           "marker": {
            "color": "#FF6692",
            "size": [
             55582
            ],
            "sizemode": "area",
            "sizeref": 237.5,
            "symbol": "circle"
           },
           "mode": "markers",
           "name": "Desktop",
           "orientation": "h",
           "showlegend": true,
           "type": "scatter",
           "x": [
            55582
           ],
           "xaxis": "x",
           "y": [
            "Desktop"
           ],
           "yaxis": "y"
          },
          {
           "customdata": [
            [
             "Backend",
             52996
            ]
           ],
           "hovertemplate": "<b>%{hovertext}</b><br><br>Year=2020<br>Compensation=%{customdata[1]:$.3s}<extra></extra>",
           "hovertext": [
            "Developer, back-end"
           ],
           "legendgroup": "Backend",
           "marker": {
            "color": "#B6E880",
            "size": [
             52996
            ],
            "sizemode": "area",
            "sizeref": 237.5,
            "symbol": "circle"
           },
           "mode": "markers",
           "name": "Backend",
           "orientation": "h",
           "showlegend": true,
           "type": "scatter",
           "x": [
            52996
           ],
           "xaxis": "x",
           "y": [
            "Backend"
           ],
           "yaxis": "y"
          },
          {
           "customdata": [
            [
             "System Admin",
             54049
            ]
           ],
           "hovertemplate": "<b>%{hovertext}</b><br><br>Year=2020<br>Compensation=%{customdata[1]:$.3s}<extra></extra>",
           "hovertext": [
            "System administrator"
           ],
           "legendgroup": "System Admin",
           "marker": {
            "color": "#FF97FF",
            "size": [
             54049
            ],
            "sizemode": "area",
            "sizeref": 237.5,
            "symbol": "circle"
           },
           "mode": "markers",
           "name": "System Admin",
           "orientation": "h",
           "showlegend": true,
           "type": "scatter",
           "x": [
            54049
           ],
           "xaxis": "x",
           "y": [
            "System Admin"
           ],
           "yaxis": "y"
          },
          {
           "customdata": [
            [
             "Frontend",
             48600
            ]
           ],
           "hovertemplate": "<b>%{hovertext}</b><br><br>Year=2020<br>Compensation=%{customdata[1]:$.3s}<extra></extra>",
           "hovertext": [
            "Developer, front-end"
           ],
           "legendgroup": "Frontend",
           "marker": {
            "color": "#FECB52",
            "size": [
             48600
            ],
            "sizemode": "area",
            "sizeref": 237.5,
            "symbol": "circle"
           },
           "mode": "markers",
           "name": "Frontend",
           "orientation": "h",
           "showlegend": true,
           "type": "scatter",
           "x": [
            48600
           ],
           "xaxis": "x",
           "y": [
            "Frontend"
           ],
           "yaxis": "y"
          },
          {
           "customdata": [
            [
             "Database Admin",
             50387.5
            ]
           ],
           "hovertemplate": "<b>%{hovertext}</b><br><br>Year=2020<br>Compensation=%{customdata[1]:$.3s}<extra></extra>",
           "hovertext": [
            "Database administrator"
           ],
           "legendgroup": "Database Admin",
           "marker": {
            "color": "#636efa",
            "size": [
             50387.5
            ],
            "sizemode": "area",
            "sizeref": 237.5,
            "symbol": "circle"
           },
           "mode": "markers",
           "name": "Database Admin",
           "orientation": "h",
           "showlegend": true,
           "type": "scatter",
           "x": [
            50387.5
           ],
           "xaxis": "x",
           "y": [
            "Database Admin"
           ],
           "yaxis": "y"
          },
          {
           "customdata": [
            [
             "Mobile",
             43239
            ]
           ],
           "hovertemplate": "<b>%{hovertext}</b><br><br>Year=2020<br>Compensation=%{customdata[1]:$.3s}<extra></extra>",
           "hovertext": [
            "Developer, mobile"
           ],
           "legendgroup": "Mobile",
           "marker": {
            "color": "#EF553B",
            "size": [
             43239
            ],
            "sizemode": "area",
            "sizeref": 237.5,
            "symbol": "circle"
           },
           "mode": "markers",
           "name": "Mobile",
           "orientation": "h",
           "showlegend": true,
           "type": "scatter",
           "x": [
            43239
           ],
           "xaxis": "x",
           "y": [
            "Mobile"
           ],
           "yaxis": "y"
          }
         ],
         "name": "2020"
        }
       ],
       "layout": {
        "autosize": true,
        "legend": {
         "itemsizing": "constant",
         "title": {
          "text": "Developer Type"
         },
         "tracegroupgap": 0
        },
        "margin": {
         "t": 60
        },
        "showlegend": false,
        "sliders": [
         {
          "active": 2,
          "currentvalue": {
           "font": {
            "size": 20
           },
           "prefix": "Year: ",
           "visible": true,
           "xanchor": "left"
          },
          "len": 0.9,
          "pad": {
           "b": 10,
           "t": 60
          },
          "steps": [
           {
            "args": [
             [
              "2018"
             ],
             {
              "frame": {
               "duration": 400,
               "redraw": false
              },
              "fromcurrent": true,
              "mode": "immediate",
              "transition": {
               "duration": 400,
               "easing": "cubic-in-out"
              }
             }
            ],
            "label": "2018",
            "method": "animate"
           },
           {
            "args": [
             [
              "2019"
             ],
             {
              "frame": {
               "duration": 400,
               "redraw": false
              },
              "fromcurrent": true,
              "mode": "immediate",
              "transition": {
               "duration": 400,
               "easing": "cubic-in-out"
              }
             }
            ],
            "label": "2019",
            "method": "animate"
           },
           {
            "args": [
             [
              "2020"
             ],
             {
              "frame": {
               "duration": 400,
               "redraw": false
              },
              "fromcurrent": true,
              "mode": "immediate",
              "transition": {
               "duration": 400,
               "easing": "cubic-in-out"
              }
             }
            ],
            "label": "2020",
            "method": "animate"
           }
          ],
          "x": 0,
          "xanchor": "left",
          "y": 0,
          "yanchor": "top"
         }
        ],
        "template": {
         "data": {
          "bar": [
           {
            "error_x": {
             "color": "#2a3f5f"
            },
            "error_y": {
             "color": "#2a3f5f"
            },
            "marker": {
             "line": {
              "color": "#E5ECF6",
              "width": 0.5
             }
            },
            "type": "bar"
           }
          ],
          "barpolar": [
           {
            "marker": {
             "line": {
              "color": "#E5ECF6",
              "width": 0.5
             }
            },
            "type": "barpolar"
           }
          ],
          "carpet": [
           {
            "aaxis": {
             "endlinecolor": "#2a3f5f",
             "gridcolor": "white",
             "linecolor": "white",
             "minorgridcolor": "white",
             "startlinecolor": "#2a3f5f"
            },
            "baxis": {
             "endlinecolor": "#2a3f5f",
             "gridcolor": "white",
             "linecolor": "white",
             "minorgridcolor": "white",
             "startlinecolor": "#2a3f5f"
            },
            "type": "carpet"
           }
          ],
          "choropleth": [
           {
            "colorbar": {
             "outlinewidth": 0,
             "ticks": ""
            },
            "type": "choropleth"
           }
          ],
          "contour": [
           {
            "colorbar": {
             "outlinewidth": 0,
             "ticks": ""
            },
            "colorscale": [
             [
              0,
              "#0d0887"
             ],
             [
              0.1111111111111111,
              "#46039f"
             ],
             [
              0.2222222222222222,
              "#7201a8"
             ],
             [
              0.3333333333333333,
              "#9c179e"
             ],
             [
              0.4444444444444444,
              "#bd3786"
             ],
             [
              0.5555555555555556,
              "#d8576b"
             ],
             [
              0.6666666666666666,
              "#ed7953"
             ],
             [
              0.7777777777777778,
              "#fb9f3a"
             ],
             [
              0.8888888888888888,
              "#fdca26"
             ],
             [
              1,
              "#f0f921"
             ]
            ],
            "type": "contour"
           }
          ],
          "contourcarpet": [
           {
            "colorbar": {
             "outlinewidth": 0,
             "ticks": ""
            },
            "type": "contourcarpet"
           }
          ],
          "heatmap": [
           {
            "colorbar": {
             "outlinewidth": 0,
             "ticks": ""
            },
            "colorscale": [
             [
              0,
              "#0d0887"
             ],
             [
              0.1111111111111111,
              "#46039f"
             ],
             [
              0.2222222222222222,
              "#7201a8"
             ],
             [
              0.3333333333333333,
              "#9c179e"
             ],
             [
              0.4444444444444444,
              "#bd3786"
             ],
             [
              0.5555555555555556,
              "#d8576b"
             ],
             [
              0.6666666666666666,
              "#ed7953"
             ],
             [
              0.7777777777777778,
              "#fb9f3a"
             ],
             [
              0.8888888888888888,
              "#fdca26"
             ],
             [
              1,
              "#f0f921"
             ]
            ],
            "type": "heatmap"
           }
          ],
          "heatmapgl": [
           {
            "colorbar": {
             "outlinewidth": 0,
             "ticks": ""
            },
            "colorscale": [
             [
              0,
              "#0d0887"
             ],
             [
              0.1111111111111111,
              "#46039f"
             ],
             [
              0.2222222222222222,
              "#7201a8"
             ],
             [
              0.3333333333333333,
              "#9c179e"
             ],
             [
              0.4444444444444444,
              "#bd3786"
             ],
             [
              0.5555555555555556,
              "#d8576b"
             ],
             [
              0.6666666666666666,
              "#ed7953"
             ],
             [
              0.7777777777777778,
              "#fb9f3a"
             ],
             [
              0.8888888888888888,
              "#fdca26"
             ],
             [
              1,
              "#f0f921"
             ]
            ],
            "type": "heatmapgl"
           }
          ],
          "histogram": [
           {
            "marker": {
             "colorbar": {
              "outlinewidth": 0,
              "ticks": ""
             }
            },
            "type": "histogram"
           }
          ],
          "histogram2d": [
           {
            "colorbar": {
             "outlinewidth": 0,
             "ticks": ""
            },
            "colorscale": [
             [
              0,
              "#0d0887"
             ],
             [
              0.1111111111111111,
              "#46039f"
             ],
             [
              0.2222222222222222,
              "#7201a8"
             ],
             [
              0.3333333333333333,
              "#9c179e"
             ],
             [
              0.4444444444444444,
              "#bd3786"
             ],
             [
              0.5555555555555556,
              "#d8576b"
             ],
             [
              0.6666666666666666,
              "#ed7953"
             ],
             [
              0.7777777777777778,
              "#fb9f3a"
             ],
             [
              0.8888888888888888,
              "#fdca26"
             ],
             [
              1,
              "#f0f921"
             ]
            ],
            "type": "histogram2d"
           }
          ],
          "histogram2dcontour": [
           {
            "colorbar": {
             "outlinewidth": 0,
             "ticks": ""
            },
            "colorscale": [
             [
              0,
              "#0d0887"
             ],
             [
              0.1111111111111111,
              "#46039f"
             ],
             [
              0.2222222222222222,
              "#7201a8"
             ],
             [
              0.3333333333333333,
              "#9c179e"
             ],
             [
              0.4444444444444444,
              "#bd3786"
             ],
             [
              0.5555555555555556,
              "#d8576b"
             ],
             [
              0.6666666666666666,
              "#ed7953"
             ],
             [
              0.7777777777777778,
              "#fb9f3a"
             ],
             [
              0.8888888888888888,
              "#fdca26"
             ],
             [
              1,
              "#f0f921"
             ]
            ],
            "type": "histogram2dcontour"
           }
          ],
          "mesh3d": [
           {
            "colorbar": {
             "outlinewidth": 0,
             "ticks": ""
            },
            "type": "mesh3d"
           }
          ],
          "parcoords": [
           {
            "line": {
             "colorbar": {
              "outlinewidth": 0,
              "ticks": ""
             }
            },
            "type": "parcoords"
           }
          ],
          "pie": [
           {
            "automargin": true,
            "type": "pie"
           }
          ],
          "scatter": [
           {
            "marker": {
             "colorbar": {
              "outlinewidth": 0,
              "ticks": ""
             }
            },
            "type": "scatter"
           }
          ],
          "scatter3d": [
           {
            "line": {
             "colorbar": {
              "outlinewidth": 0,
              "ticks": ""
             }
            },
            "marker": {
             "colorbar": {
              "outlinewidth": 0,
              "ticks": ""
             }
            },
            "type": "scatter3d"
           }
          ],
          "scattercarpet": [
           {
            "marker": {
             "colorbar": {
              "outlinewidth": 0,
              "ticks": ""
             }
            },
            "type": "scattercarpet"
           }
          ],
          "scattergeo": [
           {
            "marker": {
             "colorbar": {
              "outlinewidth": 0,
              "ticks": ""
             }
            },
            "type": "scattergeo"
           }
          ],
          "scattergl": [
           {
            "marker": {
             "colorbar": {
              "outlinewidth": 0,
              "ticks": ""
             }
            },
            "type": "scattergl"
           }
          ],
          "scattermapbox": [
           {
            "marker": {
             "colorbar": {
              "outlinewidth": 0,
              "ticks": ""
             }
            },
            "type": "scattermapbox"
           }
          ],
          "scatterpolar": [
           {
            "marker": {
             "colorbar": {
              "outlinewidth": 0,
              "ticks": ""
             }
            },
            "type": "scatterpolar"
           }
          ],
          "scatterpolargl": [
           {
            "marker": {
             "colorbar": {
              "outlinewidth": 0,
              "ticks": ""
             }
            },
            "type": "scatterpolargl"
           }
          ],
          "scatterternary": [
           {
            "marker": {
             "colorbar": {
              "outlinewidth": 0,
              "ticks": ""
             }
            },
            "type": "scatterternary"
           }
          ],
          "surface": [
           {
            "colorbar": {
             "outlinewidth": 0,
             "ticks": ""
            },
            "colorscale": [
             [
              0,
              "#0d0887"
             ],
             [
              0.1111111111111111,
              "#46039f"
             ],
             [
              0.2222222222222222,
              "#7201a8"
             ],
             [
              0.3333333333333333,
              "#9c179e"
             ],
             [
              0.4444444444444444,
              "#bd3786"
             ],
             [
              0.5555555555555556,
              "#d8576b"
             ],
             [
              0.6666666666666666,
              "#ed7953"
             ],
             [
              0.7777777777777778,
              "#fb9f3a"
             ],
             [
              0.8888888888888888,
              "#fdca26"
             ],
             [
              1,
              "#f0f921"
             ]
            ],
            "type": "surface"
           }
          ],
          "table": [
           {
            "cells": {
             "fill": {
              "color": "#EBF0F8"
             },
             "line": {
              "color": "white"
             }
            },
            "header": {
             "fill": {
              "color": "#C8D4E3"
             },
             "line": {
              "color": "white"
             }
            },
            "type": "table"
           }
          ]
         },
         "layout": {
          "annotationdefaults": {
           "arrowcolor": "#2a3f5f",
           "arrowhead": 0,
           "arrowwidth": 1
          },
          "coloraxis": {
           "colorbar": {
            "outlinewidth": 0,
            "ticks": ""
           }
          },
          "colorscale": {
           "diverging": [
            [
             0,
             "#8e0152"
            ],
            [
             0.1,
             "#c51b7d"
            ],
            [
             0.2,
             "#de77ae"
            ],
            [
             0.3,
             "#f1b6da"
            ],
            [
             0.4,
             "#fde0ef"
            ],
            [
             0.5,
             "#f7f7f7"
            ],
            [
             0.6,
             "#e6f5d0"
            ],
            [
             0.7,
             "#b8e186"
            ],
            [
             0.8,
             "#7fbc41"
            ],
            [
             0.9,
             "#4d9221"
            ],
            [
             1,
             "#276419"
            ]
           ],
           "sequential": [
            [
             0,
             "#0d0887"
            ],
            [
             0.1111111111111111,
             "#46039f"
            ],
            [
             0.2222222222222222,
             "#7201a8"
            ],
            [
             0.3333333333333333,
             "#9c179e"
            ],
            [
             0.4444444444444444,
             "#bd3786"
            ],
            [
             0.5555555555555556,
             "#d8576b"
            ],
            [
             0.6666666666666666,
             "#ed7953"
            ],
            [
             0.7777777777777778,
             "#fb9f3a"
            ],
            [
             0.8888888888888888,
             "#fdca26"
            ],
            [
             1,
             "#f0f921"
            ]
           ],
           "sequentialminus": [
            [
             0,
             "#0d0887"
            ],
            [
             0.1111111111111111,
             "#46039f"
            ],
            [
             0.2222222222222222,
             "#7201a8"
            ],
            [
             0.3333333333333333,
             "#9c179e"
            ],
            [
             0.4444444444444444,
             "#bd3786"
            ],
            [
             0.5555555555555556,
             "#d8576b"
            ],
            [
             0.6666666666666666,
             "#ed7953"
            ],
            [
             0.7777777777777778,
             "#fb9f3a"
            ],
            [
             0.8888888888888888,
             "#fdca26"
            ],
            [
             1,
             "#f0f921"
            ]
           ]
          },
          "colorway": [
           "#636efa",
           "#EF553B",
           "#00cc96",
           "#ab63fa",
           "#FFA15A",
           "#19d3f3",
           "#FF6692",
           "#B6E880",
           "#FF97FF",
           "#FECB52"
          ],
          "font": {
           "color": "#2a3f5f"
          },
          "geo": {
           "bgcolor": "white",
           "lakecolor": "white",
           "landcolor": "#E5ECF6",
           "showlakes": true,
           "showland": true,
           "subunitcolor": "white"
          },
          "hoverlabel": {
           "align": "left"
          },
          "hovermode": "closest",
          "mapbox": {
           "style": "light"
          },
          "paper_bgcolor": "white",
          "plot_bgcolor": "#E5ECF6",
          "polar": {
           "angularaxis": {
            "gridcolor": "white",
            "linecolor": "white",
            "ticks": ""
           },
           "bgcolor": "#E5ECF6",
           "radialaxis": {
            "gridcolor": "white",
            "linecolor": "white",
            "ticks": ""
           }
          },
          "scene": {
           "xaxis": {
            "backgroundcolor": "#E5ECF6",
            "gridcolor": "white",
            "gridwidth": 2,
            "linecolor": "white",
            "showbackground": true,
            "ticks": "",
            "zerolinecolor": "white"
           },
           "yaxis": {
            "backgroundcolor": "#E5ECF6",
            "gridcolor": "white",
            "gridwidth": 2,
            "linecolor": "white",
            "showbackground": true,
            "ticks": "",
            "zerolinecolor": "white"
           },
           "zaxis": {
            "backgroundcolor": "#E5ECF6",
            "gridcolor": "white",
            "gridwidth": 2,
            "linecolor": "white",
            "showbackground": true,
            "ticks": "",
            "zerolinecolor": "white"
           }
          },
          "shapedefaults": {
           "line": {
            "color": "#2a3f5f"
           }
          },
          "ternary": {
           "aaxis": {
            "gridcolor": "white",
            "linecolor": "white",
            "ticks": ""
           },
           "baxis": {
            "gridcolor": "white",
            "linecolor": "white",
            "ticks": ""
           },
           "bgcolor": "#E5ECF6",
           "caxis": {
            "gridcolor": "white",
            "linecolor": "white",
            "ticks": ""
           }
          },
          "title": {
           "x": 0.05
          },
          "xaxis": {
           "automargin": true,
           "gridcolor": "white",
           "linecolor": "white",
           "ticks": "",
           "title": {
            "standoff": 15
           },
           "zerolinecolor": "white",
           "zerolinewidth": 2
          },
          "yaxis": {
           "automargin": true,
           "gridcolor": "white",
           "linecolor": "white",
           "ticks": "",
           "title": {
            "standoff": 15
           },
           "zerolinecolor": "white",
           "zerolinewidth": 2
          }
         }
        },
        "title": {
         "text": "Compensation per Developer Type",
         "x": 0.5,
         "xanchor": "center",
         "yanchor": "top"
        },
        "updatemenus": [
         {
          "direction": "left",
          "pad": {
           "r": 10,
           "t": 70
          },
          "showactive": false,
          "type": "buttons",
          "x": 0.1,
          "xanchor": "right",
          "y": 0,
          "yanchor": "top"
         }
        ],
        "xaxis": {
         "anchor": "y",
         "domain": [
          0,
          1
         ],
         "range": [
          38000,
          98000
         ],
         "title": {
          "text": "Compensation (USD)"
         },
         "type": "linear"
        },
        "yaxis": {
         "anchor": "x",
         "autorange": true,
         "categoryarray": [
          "Mobile",
          "Database Admin",
          "Frontend",
          "System Admin",
          "Backend",
          "Desktop",
          "Data Analyst",
          "Fullstack",
          "Data Scientist",
          "Product manager",
          "DevOps",
          "Engineer Manager"
         ],
         "categoryorder": "array",
         "domain": [
          0,
          1
         ],
         "range": [
          -1.3676185824831695,
          12.672300006942736
         ],
         "tickcolor": "white",
         "ticklen": 8,
         "ticks": "outside",
         "title": {
          "text": ""
         },
         "type": "category",
         "zeroline": false
        }
       }
      },
      "image/png": "[encoded data removed]",
      "text/html": [
       "<div>\n",
       "        \n",
       "        \n",
       "            <div id=\"637ba980-56f6-4daf-9a76-b1fae773d1ef\" class=\"plotly-graph-div\" style=\"height:525px; width:100%;\"></div>\n",
       "            <script type=\"text/javascript\">\n",
       "                require([\"plotly\"], function(Plotly) {\n",
       "                    window.PLOTLYENV=window.PLOTLYENV || {};\n",
       "                    \n",
       "                if (document.getElementById(\"637ba980-56f6-4daf-9a76-b1fae773d1ef\")) {\n",
       "                    Plotly.newPlot(\n",
       "                        '637ba980-56f6-4daf-9a76-b1fae773d1ef',\n",
       "                        [{\"customdata\": [[\"Engineer Manager\", 91883.0]], \"hovertemplate\": \"<b>%{hovertext}</b><br><br>Year=2020<br>Compensation=%{customdata[1]:$.3s}<extra></extra>\", \"hovertext\": [\"Engineering manager\"], \"legendgroup\": \"Engineer Manager\", \"marker\": {\"color\": \"#636efa\", \"size\": [91883.0], \"sizemode\": \"area\", \"sizeref\": 237.5, \"symbol\": \"circle\"}, \"mode\": \"markers\", \"name\": \"Engineer Manager\", \"orientation\": \"h\", \"showlegend\": true, \"type\": \"scatter\", \"x\": [91883.0], \"xaxis\": \"x\", \"y\": [\"Engineer Manager\"], \"yaxis\": \"y\"}, {\"customdata\": [[\"DevOps\", 68068.0]], \"hovertemplate\": \"<b>%{hovertext}</b><br><br>Year=2020<br>Compensation=%{customdata[1]:$.3s}<extra></extra>\", \"hovertext\": [\"DevOps specialist\"], \"legendgroup\": \"DevOps\", \"marker\": {\"color\": \"#EF553B\", \"size\": [68068.0], \"sizemode\": \"area\", \"sizeref\": 237.5, \"symbol\": \"circle\"}, \"mode\": \"markers\", \"name\": \"DevOps\", \"orientation\": \"h\", \"showlegend\": true, \"type\": \"scatter\", \"x\": [68068.0], \"xaxis\": \"x\", \"y\": [\"DevOps\"], \"yaxis\": \"y\"}, {\"customdata\": [[\"Product manager\", 59000.0]], \"hovertemplate\": \"<b>%{hovertext}</b><br><br>Year=2020<br>Compensation=%{customdata[1]:$.3s}<extra></extra>\", \"hovertext\": [\"Product manager\"], \"legendgroup\": \"Product manager\", \"marker\": {\"color\": \"#00cc96\", \"size\": [59000.0], \"sizemode\": \"area\", \"sizeref\": 237.5, \"symbol\": \"circle\"}, \"mode\": \"markers\", \"name\": \"Product manager\", \"orientation\": \"h\", \"showlegend\": true, \"type\": \"scatter\", \"x\": [59000.0], \"xaxis\": \"x\", \"y\": [\"Product manager\"], \"yaxis\": \"y\"}, {\"customdata\": [[\"Data Scientist\", 58000.0]], \"hovertemplate\": \"<b>%{hovertext}</b><br><br>Year=2020<br>Compensation=%{customdata[1]:$.3s}<extra></extra>\", \"hovertext\": [\"Data scientist or machine learning specialist\"], \"legendgroup\": \"Data Scientist\", \"marker\": {\"color\": \"#ab63fa\", \"size\": [58000.0], \"sizemode\": \"area\", \"sizeref\": 237.5, \"symbol\": \"circle\"}, \"mode\": \"markers\", \"name\": \"Data Scientist\", \"orientation\": \"h\", \"showlegend\": true, \"type\": \"scatter\", \"x\": [58000.0], \"xaxis\": \"x\", \"y\": [\"Data Scientist\"], \"yaxis\": \"y\"}, {\"customdata\": [[\"Fullstack\", 54474.0]], \"hovertemplate\": \"<b>%{hovertext}</b><br><br>Year=2020<br>Compensation=%{customdata[1]:$.3s}<extra></extra>\", \"hovertext\": [\"Developer, full-stack\"], \"legendgroup\": \"Fullstack\", \"marker\": {\"color\": \"#FFA15A\", \"size\": [54474.0], \"sizemode\": \"area\", \"sizeref\": 237.5, \"symbol\": \"circle\"}, \"mode\": \"markers\", \"name\": \"Fullstack\", \"orientation\": \"h\", \"showlegend\": true, \"type\": \"scatter\", \"x\": [54474.0], \"xaxis\": \"x\", \"y\": [\"Fullstack\"], \"yaxis\": \"y\"}, {\"customdata\": [[\"Data Analyst\", 55129.0]], \"hovertemplate\": \"<b>%{hovertext}</b><br><br>Year=2020<br>Compensation=%{customdata[1]:$.3s}<extra></extra>\", \"hovertext\": [\"Data or business analyst\"], \"legendgroup\": \"Data Analyst\", \"marker\": {\"color\": \"#19d3f3\", \"size\": [55129.0], \"sizemode\": \"area\", \"sizeref\": 237.5, \"symbol\": \"circle\"}, \"mode\": \"markers\", \"name\": \"Data Analyst\", \"orientation\": \"h\", \"showlegend\": true, \"type\": \"scatter\", \"x\": [55129.0], \"xaxis\": \"x\", \"y\": [\"Data Analyst\"], \"yaxis\": \"y\"}, {\"customdata\": [[\"Desktop\", 55582.0]], \"hovertemplate\": \"<b>%{hovertext}</b><br><br>Year=2020<br>Compensation=%{customdata[1]:$.3s}<extra></extra>\", \"hovertext\": [\"Developer, desktop or enterprise applications\"], \"legendgroup\": \"Desktop\", \"marker\": {\"color\": \"#FF6692\", \"size\": [55582.0], \"sizemode\": \"area\", \"sizeref\": 237.5, \"symbol\": \"circle\"}, \"mode\": \"markers\", \"name\": \"Desktop\", \"orientation\": \"h\", \"showlegend\": true, \"type\": \"scatter\", \"x\": [55582.0], \"xaxis\": \"x\", \"y\": [\"Desktop\"], \"yaxis\": \"y\"}, {\"customdata\": [[\"Backend\", 52996.0]], \"hovertemplate\": \"<b>%{hovertext}</b><br><br>Year=2020<br>Compensation=%{customdata[1]:$.3s}<extra></extra>\", \"hovertext\": [\"Developer, back-end\"], \"legendgroup\": \"Backend\", \"marker\": {\"color\": \"#B6E880\", \"size\": [52996.0], \"sizemode\": \"area\", \"sizeref\": 237.5, \"symbol\": \"circle\"}, \"mode\": \"markers\", \"name\": \"Backend\", \"orientation\": \"h\", \"showlegend\": true, \"type\": \"scatter\", \"x\": [52996.0], \"xaxis\": \"x\", \"y\": [\"Backend\"], \"yaxis\": \"y\"}, {\"customdata\": [[\"System Admin\", 54049.0]], \"hovertemplate\": \"<b>%{hovertext}</b><br><br>Year=2020<br>Compensation=%{customdata[1]:$.3s}<extra></extra>\", \"hovertext\": [\"System administrator\"], \"legendgroup\": \"System Admin\", \"marker\": {\"color\": \"#FF97FF\", \"size\": [54049.0], \"sizemode\": \"area\", \"sizeref\": 237.5, \"symbol\": \"circle\"}, \"mode\": \"markers\", \"name\": \"System Admin\", \"orientation\": \"h\", \"showlegend\": true, \"type\": \"scatter\", \"x\": [54049.0], \"xaxis\": \"x\", \"y\": [\"System Admin\"], \"yaxis\": \"y\"}, {\"customdata\": [[\"Frontend\", 48600.0]], \"hovertemplate\": \"<b>%{hovertext}</b><br><br>Year=2020<br>Compensation=%{customdata[1]:$.3s}<extra></extra>\", \"hovertext\": [\"Developer, front-end\"], \"legendgroup\": \"Frontend\", \"marker\": {\"color\": \"#FECB52\", \"size\": [48600.0], \"sizemode\": \"area\", \"sizeref\": 237.5, \"symbol\": \"circle\"}, \"mode\": \"markers\", \"name\": \"Frontend\", \"orientation\": \"h\", \"showlegend\": true, \"type\": \"scatter\", \"x\": [48600.0], \"xaxis\": \"x\", \"y\": [\"Frontend\"], \"yaxis\": \"y\"}, {\"customdata\": [[\"Database Admin\", 50387.5]], \"hovertemplate\": \"<b>%{hovertext}</b><br><br>Year=2020<br>Compensation=%{customdata[1]:$.3s}<extra></extra>\", \"hovertext\": [\"Database administrator\"], \"legendgroup\": \"Database Admin\", \"marker\": {\"color\": \"#636efa\", \"size\": [50387.5], \"sizemode\": \"area\", \"sizeref\": 237.5, \"symbol\": \"circle\"}, \"mode\": \"markers\", \"name\": \"Database Admin\", \"orientation\": \"h\", \"showlegend\": true, \"type\": \"scatter\", \"x\": [50387.5], \"xaxis\": \"x\", \"y\": [\"Database Admin\"], \"yaxis\": \"y\"}, {\"customdata\": [[\"Mobile\", 43239.0]], \"hovertemplate\": \"<b>%{hovertext}</b><br><br>Year=2020<br>Compensation=%{customdata[1]:$.3s}<extra></extra>\", \"hovertext\": [\"Developer, mobile\"], \"legendgroup\": \"Mobile\", \"marker\": {\"color\": \"#EF553B\", \"size\": [43239.0], \"sizemode\": \"area\", \"sizeref\": 237.5, \"symbol\": \"circle\"}, \"mode\": \"markers\", \"name\": \"Mobile\", \"orientation\": \"h\", \"showlegend\": true, \"type\": \"scatter\", \"x\": [43239.0], \"xaxis\": \"x\", \"y\": [\"Mobile\"], \"yaxis\": \"y\"}],\n",
       "                        {\"legend\": {\"itemsizing\": \"constant\", \"title\": {\"text\": \"Developer Type\"}, \"tracegroupgap\": 0}, \"margin\": {\"t\": 60}, \"showlegend\": false, \"sliders\": [{\"active\": 2, \"currentvalue\": {\"font\": {\"size\": 20}, \"prefix\": \"Year: \", \"visible\": true, \"xanchor\": \"left\"}, \"len\": 0.9, \"pad\": {\"b\": 10, \"t\": 60}, \"steps\": [{\"args\": [[\"2018\"], {\"frame\": {\"duration\": 400, \"redraw\": false}, \"fromcurrent\": true, \"mode\": \"immediate\", \"transition\": {\"duration\": 400, \"easing\": \"cubic-in-out\"}}], \"label\": \"2018\", \"method\": \"animate\"}, {\"args\": [[\"2019\"], {\"frame\": {\"duration\": 400, \"redraw\": false}, \"fromcurrent\": true, \"mode\": \"immediate\", \"transition\": {\"duration\": 400, \"easing\": \"cubic-in-out\"}}], \"label\": \"2019\", \"method\": \"animate\"}, {\"args\": [[\"2020\"], {\"frame\": {\"duration\": 400, \"redraw\": false}, \"fromcurrent\": true, \"mode\": \"immediate\", \"transition\": {\"duration\": 400, \"easing\": \"cubic-in-out\"}}], \"label\": \"2020\", \"method\": \"animate\"}], \"x\": 0, \"xanchor\": \"left\", \"y\": 0, \"yanchor\": \"top\"}], \"template\": {\"data\": {\"bar\": [{\"error_x\": {\"color\": \"#2a3f5f\"}, \"error_y\": {\"color\": \"#2a3f5f\"}, \"marker\": {\"line\": {\"color\": \"#E5ECF6\", \"width\": 0.5}}, \"type\": \"bar\"}], \"barpolar\": [{\"marker\": {\"line\": {\"color\": \"#E5ECF6\", \"width\": 0.5}}, \"type\": \"barpolar\"}], \"carpet\": [{\"aaxis\": {\"endlinecolor\": \"#2a3f5f\", \"gridcolor\": \"white\", \"linecolor\": \"white\", \"minorgridcolor\": \"white\", \"startlinecolor\": \"#2a3f5f\"}, \"baxis\": {\"endlinecolor\": \"#2a3f5f\", \"gridcolor\": \"white\", \"linecolor\": \"white\", \"minorgridcolor\": \"white\", \"startlinecolor\": \"#2a3f5f\"}, \"type\": \"carpet\"}], \"choropleth\": [{\"colorbar\": {\"outlinewidth\": 0, \"ticks\": \"\"}, \"type\": \"choropleth\"}], \"contour\": [{\"colorbar\": {\"outlinewidth\": 0, \"ticks\": \"\"}, \"colorscale\": [[0.0, \"#0d0887\"], [0.1111111111111111, \"#46039f\"], [0.2222222222222222, \"#7201a8\"], [0.3333333333333333, \"#9c179e\"], [0.4444444444444444, \"#bd3786\"], [0.5555555555555556, \"#d8576b\"], [0.6666666666666666, \"#ed7953\"], [0.7777777777777778, \"#fb9f3a\"], [0.8888888888888888, \"#fdca26\"], [1.0, \"#f0f921\"]], \"type\": \"contour\"}], \"contourcarpet\": [{\"colorbar\": {\"outlinewidth\": 0, \"ticks\": \"\"}, \"type\": \"contourcarpet\"}], \"heatmap\": [{\"colorbar\": {\"outlinewidth\": 0, \"ticks\": \"\"}, \"colorscale\": [[0.0, \"#0d0887\"], [0.1111111111111111, \"#46039f\"], [0.2222222222222222, \"#7201a8\"], [0.3333333333333333, \"#9c179e\"], [0.4444444444444444, \"#bd3786\"], [0.5555555555555556, \"#d8576b\"], [0.6666666666666666, \"#ed7953\"], [0.7777777777777778, \"#fb9f3a\"], [0.8888888888888888, \"#fdca26\"], [1.0, \"#f0f921\"]], \"type\": \"heatmap\"}], \"heatmapgl\": [{\"colorbar\": {\"outlinewidth\": 0, \"ticks\": \"\"}, \"colorscale\": [[0.0, \"#0d0887\"], [0.1111111111111111, \"#46039f\"], [0.2222222222222222, \"#7201a8\"], [0.3333333333333333, \"#9c179e\"], [0.4444444444444444, \"#bd3786\"], [0.5555555555555556, \"#d8576b\"], [0.6666666666666666, \"#ed7953\"], [0.7777777777777778, \"#fb9f3a\"], [0.8888888888888888, \"#fdca26\"], [1.0, \"#f0f921\"]], \"type\": \"heatmapgl\"}], \"histogram\": [{\"marker\": {\"colorbar\": {\"outlinewidth\": 0, \"ticks\": \"\"}}, \"type\": \"histogram\"}], \"histogram2d\": [{\"colorbar\": {\"outlinewidth\": 0, \"ticks\": \"\"}, \"colorscale\": [[0.0, \"#0d0887\"], [0.1111111111111111, \"#46039f\"], [0.2222222222222222, \"#7201a8\"], [0.3333333333333333, \"#9c179e\"], [0.4444444444444444, \"#bd3786\"], [0.5555555555555556, \"#d8576b\"], [0.6666666666666666, \"#ed7953\"], [0.7777777777777778, \"#fb9f3a\"], [0.8888888888888888, \"#fdca26\"], [1.0, \"#f0f921\"]], \"type\": \"histogram2d\"}], \"histogram2dcontour\": [{\"colorbar\": {\"outlinewidth\": 0, \"ticks\": \"\"}, \"colorscale\": [[0.0, \"#0d0887\"], [0.1111111111111111, \"#46039f\"], [0.2222222222222222, \"#7201a8\"], [0.3333333333333333, \"#9c179e\"], [0.4444444444444444, \"#bd3786\"], [0.5555555555555556, \"#d8576b\"], [0.6666666666666666, \"#ed7953\"], [0.7777777777777778, \"#fb9f3a\"], [0.8888888888888888, \"#fdca26\"], [1.0, \"#f0f921\"]], \"type\": \"histogram2dcontour\"}], \"mesh3d\": [{\"colorbar\": {\"outlinewidth\": 0, \"ticks\": \"\"}, \"type\": \"mesh3d\"}], \"parcoords\": [{\"line\": {\"colorbar\": {\"outlinewidth\": 0, \"ticks\": \"\"}}, \"type\": \"parcoords\"}], \"pie\": [{\"automargin\": true, \"type\": \"pie\"}], \"scatter\": [{\"marker\": {\"colorbar\": {\"outlinewidth\": 0, \"ticks\": \"\"}}, \"type\": \"scatter\"}], \"scatter3d\": [{\"line\": {\"colorbar\": {\"outlinewidth\": 0, \"ticks\": \"\"}}, \"marker\": {\"colorbar\": {\"outlinewidth\": 0, \"ticks\": \"\"}}, \"type\": \"scatter3d\"}], \"scattercarpet\": [{\"marker\": {\"colorbar\": {\"outlinewidth\": 0, \"ticks\": \"\"}}, \"type\": \"scattercarpet\"}], \"scattergeo\": [{\"marker\": {\"colorbar\": {\"outlinewidth\": 0, \"ticks\": \"\"}}, \"type\": \"scattergeo\"}], \"scattergl\": [{\"marker\": {\"colorbar\": {\"outlinewidth\": 0, \"ticks\": \"\"}}, \"type\": \"scattergl\"}], \"scattermapbox\": [{\"marker\": {\"colorbar\": {\"outlinewidth\": 0, \"ticks\": \"\"}}, \"type\": \"scattermapbox\"}], \"scatterpolar\": [{\"marker\": {\"colorbar\": {\"outlinewidth\": 0, \"ticks\": \"\"}}, \"type\": \"scatterpolar\"}], \"scatterpolargl\": [{\"marker\": {\"colorbar\": {\"outlinewidth\": 0, \"ticks\": \"\"}}, \"type\": \"scatterpolargl\"}], \"scatterternary\": [{\"marker\": {\"colorbar\": {\"outlinewidth\": 0, \"ticks\": \"\"}}, \"type\": \"scatterternary\"}], \"surface\": [{\"colorbar\": {\"outlinewidth\": 0, \"ticks\": \"\"}, \"colorscale\": [[0.0, \"#0d0887\"], [0.1111111111111111, \"#46039f\"], [0.2222222222222222, \"#7201a8\"], [0.3333333333333333, \"#9c179e\"], [0.4444444444444444, \"#bd3786\"], [0.5555555555555556, \"#d8576b\"], [0.6666666666666666, \"#ed7953\"], [0.7777777777777778, \"#fb9f3a\"], [0.8888888888888888, \"#fdca26\"], [1.0, \"#f0f921\"]], \"type\": \"surface\"}], \"table\": [{\"cells\": {\"fill\": {\"color\": \"#EBF0F8\"}, \"line\": {\"color\": \"white\"}}, \"header\": {\"fill\": {\"color\": \"#C8D4E3\"}, \"line\": {\"color\": \"white\"}}, \"type\": \"table\"}]}, \"layout\": {\"annotationdefaults\": {\"arrowcolor\": \"#2a3f5f\", \"arrowhead\": 0, \"arrowwidth\": 1}, \"coloraxis\": {\"colorbar\": {\"outlinewidth\": 0, \"ticks\": \"\"}}, \"colorscale\": {\"diverging\": [[0, \"#8e0152\"], [0.1, \"#c51b7d\"], [0.2, \"#de77ae\"], [0.3, \"#f1b6da\"], [0.4, \"#fde0ef\"], [0.5, \"#f7f7f7\"], [0.6, \"#e6f5d0\"], [0.7, \"#b8e186\"], [0.8, \"#7fbc41\"], [0.9, \"#4d9221\"], [1, \"#276419\"]], \"sequential\": [[0.0, \"#0d0887\"], [0.1111111111111111, \"#46039f\"], [0.2222222222222222, \"#7201a8\"], [0.3333333333333333, \"#9c179e\"], [0.4444444444444444, \"#bd3786\"], [0.5555555555555556, \"#d8576b\"], [0.6666666666666666, \"#ed7953\"], [0.7777777777777778, \"#fb9f3a\"], [0.8888888888888888, \"#fdca26\"], [1.0, \"#f0f921\"]], \"sequentialminus\": [[0.0, \"#0d0887\"], [0.1111111111111111, \"#46039f\"], [0.2222222222222222, \"#7201a8\"], [0.3333333333333333, \"#9c179e\"], [0.4444444444444444, \"#bd3786\"], [0.5555555555555556, \"#d8576b\"], [0.6666666666666666, \"#ed7953\"], [0.7777777777777778, \"#fb9f3a\"], [0.8888888888888888, \"#fdca26\"], [1.0, \"#f0f921\"]]}, \"colorway\": [\"#636efa\", \"#EF553B\", \"#00cc96\", \"#ab63fa\", \"#FFA15A\", \"#19d3f3\", \"#FF6692\", \"#B6E880\", \"#FF97FF\", \"#FECB52\"], \"font\": {\"color\": \"#2a3f5f\"}, \"geo\": {\"bgcolor\": \"white\", \"lakecolor\": \"white\", \"landcolor\": \"#E5ECF6\", \"showlakes\": true, \"showland\": true, \"subunitcolor\": \"white\"}, \"hoverlabel\": {\"align\": \"left\"}, \"hovermode\": \"closest\", \"mapbox\": {\"style\": \"light\"}, \"paper_bgcolor\": \"white\", \"plot_bgcolor\": \"#E5ECF6\", \"polar\": {\"angularaxis\": {\"gridcolor\": \"white\", \"linecolor\": \"white\", \"ticks\": \"\"}, \"bgcolor\": \"#E5ECF6\", \"radialaxis\": {\"gridcolor\": \"white\", \"linecolor\": \"white\", \"ticks\": \"\"}}, \"scene\": {\"xaxis\": {\"backgroundcolor\": \"#E5ECF6\", \"gridcolor\": \"white\", \"gridwidth\": 2, \"linecolor\": \"white\", \"showbackground\": true, \"ticks\": \"\", \"zerolinecolor\": \"white\"}, \"yaxis\": {\"backgroundcolor\": \"#E5ECF6\", \"gridcolor\": \"white\", \"gridwidth\": 2, \"linecolor\": \"white\", \"showbackground\": true, \"ticks\": \"\", \"zerolinecolor\": \"white\"}, \"zaxis\": {\"backgroundcolor\": \"#E5ECF6\", \"gridcolor\": \"white\", \"gridwidth\": 2, \"linecolor\": \"white\", \"showbackground\": true, \"ticks\": \"\", \"zerolinecolor\": \"white\"}}, \"shapedefaults\": {\"line\": {\"color\": \"#2a3f5f\"}}, \"ternary\": {\"aaxis\": {\"gridcolor\": \"white\", \"linecolor\": \"white\", \"ticks\": \"\"}, \"baxis\": {\"gridcolor\": \"white\", \"linecolor\": \"white\", \"ticks\": \"\"}, \"bgcolor\": \"#E5ECF6\", \"caxis\": {\"gridcolor\": \"white\", \"linecolor\": \"white\", \"ticks\": \"\"}}, \"title\": {\"x\": 0.05}, \"xaxis\": {\"automargin\": true, \"gridcolor\": \"white\", \"linecolor\": \"white\", \"ticks\": \"\", \"title\": {\"standoff\": 15}, \"zerolinecolor\": \"white\", \"zerolinewidth\": 2}, \"yaxis\": {\"automargin\": true, \"gridcolor\": \"white\", \"linecolor\": \"white\", \"ticks\": \"\", \"title\": {\"standoff\": 15}, \"zerolinecolor\": \"white\", \"zerolinewidth\": 2}}}, \"title\": {\"text\": \"Compensation per Developer Type\", \"x\": 0.5, \"xanchor\": \"center\", \"yanchor\": \"top\"}, \"updatemenus\": [{\"direction\": \"left\", \"pad\": {\"r\": 10, \"t\": 70}, \"showactive\": false, \"type\": \"buttons\", \"x\": 0.1, \"xanchor\": \"right\", \"y\": 0, \"yanchor\": \"top\"}], \"xaxis\": {\"anchor\": \"y\", \"domain\": [0.0, 1.0], \"range\": [38000, 98000], \"title\": {\"text\": \"Compensation (USD)\"}}, \"yaxis\": {\"anchor\": \"x\", \"categoryarray\": [\"Mobile\", \"Database Admin\", \"Frontend\", \"System Admin\", \"Backend\", \"Desktop\", \"Data Analyst\", \"Fullstack\", \"Data Scientist\", \"Product manager\", \"DevOps\", \"Engineer Manager\"], \"categoryorder\": \"array\", \"domain\": [0.0, 1.0], \"tickcolor\": \"white\", \"ticklen\": 8, \"ticks\": \"outside\", \"title\": {\"text\": \"\"}, \"zeroline\": false}},\n",
       "                        {\"responsive\": true}\n",
       "                    ).then(function(){\n",
       "                            Plotly.addFrames('637ba980-56f6-4daf-9a76-b1fae773d1ef', [{\"data\": [{\"customdata\": [[\"Engineer Manager\", 88573.0]], \"hovertemplate\": \"<b>%{hovertext}</b><br><br>Year=2018<br>Compensation=%{customdata[1]:$.3s}<extra></extra>\", \"hovertext\": [\"Engineering manager\"], \"legendgroup\": \"Engineer Manager\", \"marker\": {\"color\": \"#636efa\", \"size\": [88573.0], \"sizemode\": \"area\", \"sizeref\": 237.5, \"symbol\": \"circle\"}, \"mode\": \"markers\", \"name\": \"Engineer Manager\", \"orientation\": \"h\", \"showlegend\": true, \"x\": [88573.0], \"xaxis\": \"x\", \"y\": [\"Engineer Manager\"], \"yaxis\": \"y\", \"type\": \"scatter\"}, {\"customdata\": [[\"DevOps\", 72469.0]], \"hovertemplate\": \"<b>%{hovertext}</b><br><br>Year=2018<br>Compensation=%{customdata[1]:$.3s}<extra></extra>\", \"hovertext\": [\"DevOps specialist\"], \"legendgroup\": \"DevOps\", \"marker\": {\"color\": \"#EF553B\", \"size\": [72469.0], \"sizemode\": \"area\", \"sizeref\": 237.5, \"symbol\": \"circle\"}, \"mode\": \"markers\", \"name\": \"DevOps\", \"orientation\": \"h\", \"showlegend\": true, \"x\": [72469.0], \"xaxis\": \"x\", \"y\": [\"DevOps\"], \"yaxis\": \"y\", \"type\": \"scatter\"}, {\"customdata\": [[\"Product manager\", 63174.0]], \"hovertemplate\": \"<b>%{hovertext}</b><br><br>Year=2018<br>Compensation=%{customdata[1]:$.3s}<extra></extra>\", \"hovertext\": [\"Product manager\"], \"legendgroup\": \"Product manager\", \"marker\": {\"color\": \"#00cc96\", \"size\": [63174.0], \"sizemode\": \"area\", \"sizeref\": 237.5, \"symbol\": \"circle\"}, \"mode\": \"markers\", \"name\": \"Product manager\", \"orientation\": \"h\", \"showlegend\": true, \"x\": [63174.0], \"xaxis\": \"x\", \"y\": [\"Product manager\"], \"yaxis\": \"y\", \"type\": \"scatter\"}, {\"customdata\": [[\"Data Scientist\", 60000.0]], \"hovertemplate\": \"<b>%{hovertext}</b><br><br>Year=2018<br>Compensation=%{customdata[1]:$.3s}<extra></extra>\", \"hovertext\": [\"Data scientist or machine learning specialist\"], \"legendgroup\": \"Data Scientist\", \"marker\": {\"color\": \"#ab63fa\", \"size\": [60000.0], \"sizemode\": \"area\", \"sizeref\": 237.5, \"symbol\": \"circle\"}, \"mode\": \"markers\", \"name\": \"Data Scientist\", \"orientation\": \"h\", \"showlegend\": true, \"x\": [60000.0], \"xaxis\": \"x\", \"y\": [\"Data Scientist\"], \"yaxis\": \"y\", \"type\": \"scatter\"}, {\"customdata\": [[\"Fullstack\", 59000.0]], \"hovertemplate\": \"<b>%{hovertext}</b><br><br>Year=2018<br>Compensation=%{customdata[1]:$.3s}<extra></extra>\", \"hovertext\": [\"Developer, full-stack\"], \"legendgroup\": \"Fullstack\", \"marker\": {\"color\": \"#FFA15A\", \"size\": [59000.0], \"sizemode\": \"area\", \"sizeref\": 237.5, \"symbol\": \"circle\"}, \"mode\": \"markers\", \"name\": \"Fullstack\", \"orientation\": \"h\", \"showlegend\": true, \"x\": [59000.0], \"xaxis\": \"x\", \"y\": [\"Fullstack\"], \"yaxis\": \"y\", \"type\": \"scatter\"}, {\"customdata\": [[\"Data Analyst\", 58890.5]], \"hovertemplate\": \"<b>%{hovertext}</b><br><br>Year=2018<br>Compensation=%{customdata[1]:$.3s}<extra></extra>\", \"hovertext\": [\"Data or business analyst\"], \"legendgroup\": \"Data Analyst\", \"marker\": {\"color\": \"#19d3f3\", \"size\": [58890.5], \"sizemode\": \"area\", \"sizeref\": 237.5, \"symbol\": \"circle\"}, \"mode\": \"markers\", \"name\": \"Data Analyst\", \"orientation\": \"h\", \"showlegend\": true, \"x\": [58890.5], \"xaxis\": \"x\", \"y\": [\"Data Analyst\"], \"yaxis\": \"y\", \"type\": \"scatter\"}, {\"customdata\": [[\"Desktop\", 57480.0]], \"hovertemplate\": \"<b>%{hovertext}</b><br><br>Year=2018<br>Compensation=%{customdata[1]:$.3s}<extra></extra>\", \"hovertext\": [\"Developer, desktop or enterprise applications\"], \"legendgroup\": \"Desktop\", \"marker\": {\"color\": \"#FF6692\", \"size\": [57480.0], \"sizemode\": \"area\", \"sizeref\": 237.5, \"symbol\": \"circle\"}, \"mode\": \"markers\", \"name\": \"Desktop\", \"orientation\": \"h\", \"showlegend\": true, \"x\": [57480.0], \"xaxis\": \"x\", \"y\": [\"Desktop\"], \"yaxis\": \"y\", \"type\": \"scatter\"}, {\"customdata\": [[\"Backend\", 55562.0]], \"hovertemplate\": \"<b>%{hovertext}</b><br><br>Year=2018<br>Compensation=%{customdata[1]:$.3s}<extra></extra>\", \"hovertext\": [\"Developer, back-end\"], \"legendgroup\": \"Backend\", \"marker\": {\"color\": \"#B6E880\", \"size\": [55562.0], \"sizemode\": \"area\", \"sizeref\": 237.5, \"symbol\": \"circle\"}, \"mode\": \"markers\", \"name\": \"Backend\", \"orientation\": \"h\", \"showlegend\": true, \"x\": [55562.0], \"xaxis\": \"x\", \"y\": [\"Backend\"], \"yaxis\": \"y\", \"type\": \"scatter\"}, {\"customdata\": [[\"System Admin\", 55562.0]], \"hovertemplate\": \"<b>%{hovertext}</b><br><br>Year=2018<br>Compensation=%{customdata[1]:$.3s}<extra></extra>\", \"hovertext\": [\"System administrator\"], \"legendgroup\": \"System Admin\", \"marker\": {\"color\": \"#FF97FF\", \"size\": [55562.0], \"sizemode\": \"area\", \"sizeref\": 237.5, \"symbol\": \"circle\"}, \"mode\": \"markers\", \"name\": \"System Admin\", \"orientation\": \"h\", \"showlegend\": true, \"x\": [55562.0], \"xaxis\": \"x\", \"y\": [\"System Admin\"], \"yaxis\": \"y\", \"type\": \"scatter\"}, {\"customdata\": [[\"Frontend\", 51408.0]], \"hovertemplate\": \"<b>%{hovertext}</b><br><br>Year=2018<br>Compensation=%{customdata[1]:$.3s}<extra></extra>\", \"hovertext\": [\"Developer, front-end\"], \"legendgroup\": \"Frontend\", \"marker\": {\"color\": \"#FECB52\", \"size\": [51408.0], \"sizemode\": \"area\", \"sizeref\": 237.5, \"symbol\": \"circle\"}, \"mode\": \"markers\", \"name\": \"Frontend\", \"orientation\": \"h\", \"showlegend\": true, \"x\": [51408.0], \"xaxis\": \"x\", \"y\": [\"Frontend\"], \"yaxis\": \"y\", \"type\": \"scatter\"}, {\"customdata\": [[\"Database Admin\", 51394.0]], \"hovertemplate\": \"<b>%{hovertext}</b><br><br>Year=2018<br>Compensation=%{customdata[1]:$.3s}<extra></extra>\", \"hovertext\": [\"Database administrator\"], \"legendgroup\": \"Database Admin\", \"marker\": {\"color\": \"#636efa\", \"size\": [51394.0], \"sizemode\": \"area\", \"sizeref\": 237.5, \"symbol\": \"circle\"}, \"mode\": \"markers\", \"name\": \"Database Admin\", \"orientation\": \"h\", \"showlegend\": true, \"x\": [51394.0], \"xaxis\": \"x\", \"y\": [\"Database Admin\"], \"yaxis\": \"y\", \"type\": \"scatter\"}, {\"customdata\": [[\"Mobile\", 43224.0]], \"hovertemplate\": \"<b>%{hovertext}</b><br><br>Year=2018<br>Compensation=%{customdata[1]:$.3s}<extra></extra>\", \"hovertext\": [\"Developer, mobile\"], \"legendgroup\": \"Mobile\", \"marker\": {\"color\": \"#EF553B\", \"size\": [43224.0], \"sizemode\": \"area\", \"sizeref\": 237.5, \"symbol\": \"circle\"}, \"mode\": \"markers\", \"name\": \"Mobile\", \"orientation\": \"h\", \"showlegend\": true, \"x\": [43224.0], \"xaxis\": \"x\", \"y\": [\"Mobile\"], \"yaxis\": \"y\", \"type\": \"scatter\"}], \"name\": \"2018\"}, {\"data\": [{\"customdata\": [[\"Engineer Manager\", 95000.0]], \"hovertemplate\": \"<b>%{hovertext}</b><br><br>Year=2019<br>Compensation=%{customdata[1]:$.3s}<extra></extra>\", \"hovertext\": [\"Engineering manager\"], \"legendgroup\": \"Engineer Manager\", \"marker\": {\"color\": \"#636efa\", \"size\": [95000.0], \"sizemode\": \"area\", \"sizeref\": 237.5, \"symbol\": \"circle\"}, \"mode\": \"markers\", \"name\": \"Engineer Manager\", \"orientation\": \"h\", \"showlegend\": true, \"x\": [95000.0], \"xaxis\": \"x\", \"y\": [\"Engineer Manager\"], \"yaxis\": \"y\", \"type\": \"scatter\"}, {\"customdata\": [[\"DevOps\", 71036.0]], \"hovertemplate\": \"<b>%{hovertext}</b><br><br>Year=2019<br>Compensation=%{customdata[1]:$.3s}<extra></extra>\", \"hovertext\": [\"DevOps specialist\"], \"legendgroup\": \"DevOps\", \"marker\": {\"color\": \"#EF553B\", \"size\": [71036.0], \"sizemode\": \"area\", \"sizeref\": 237.5, \"symbol\": \"circle\"}, \"mode\": \"markers\", \"name\": \"DevOps\", \"orientation\": \"h\", \"showlegend\": true, \"x\": [71036.0], \"xaxis\": \"x\", \"y\": [\"DevOps\"], \"yaxis\": \"y\", \"type\": \"scatter\"}, {\"customdata\": [[\"Product manager\", 60000.0]], \"hovertemplate\": \"<b>%{hovertext}</b><br><br>Year=2019<br>Compensation=%{customdata[1]:$.3s}<extra></extra>\", \"hovertext\": [\"Product manager\"], \"legendgroup\": \"Product manager\", \"marker\": {\"color\": \"#00cc96\", \"size\": [60000.0], \"sizemode\": \"area\", \"sizeref\": 237.5, \"symbol\": \"circle\"}, \"mode\": \"markers\", \"name\": \"Product manager\", \"orientation\": \"h\", \"showlegend\": true, \"x\": [60000.0], \"xaxis\": \"x\", \"y\": [\"Product manager\"], \"yaxis\": \"y\", \"type\": \"scatter\"}, {\"customdata\": [[\"Data Scientist\", 61071.0]], \"hovertemplate\": \"<b>%{hovertext}</b><br><br>Year=2019<br>Compensation=%{customdata[1]:$.3s}<extra></extra>\", \"hovertext\": [\"Data scientist or machine learning specialist\"], \"legendgroup\": \"Data Scientist\", \"marker\": {\"color\": \"#ab63fa\", \"size\": [61071.0], \"sizemode\": \"area\", \"sizeref\": 237.5, \"symbol\": \"circle\"}, \"mode\": \"markers\", \"name\": \"Data Scientist\", \"orientation\": \"h\", \"showlegend\": true, \"x\": [61071.0], \"xaxis\": \"x\", \"y\": [\"Data Scientist\"], \"yaxis\": \"y\", \"type\": \"scatter\"}, {\"customdata\": [[\"Fullstack\", 57425.5]], \"hovertemplate\": \"<b>%{hovertext}</b><br><br>Year=2019<br>Compensation=%{customdata[1]:$.3s}<extra></extra>\", \"hovertext\": [\"Developer, full-stack\"], \"legendgroup\": \"Fullstack\", \"marker\": {\"color\": \"#FFA15A\", \"size\": [57425.5], \"sizemode\": \"area\", \"sizeref\": 237.5, \"symbol\": \"circle\"}, \"mode\": \"markers\", \"name\": \"Fullstack\", \"orientation\": \"h\", \"showlegend\": true, \"x\": [57425.5], \"xaxis\": \"x\", \"y\": [\"Fullstack\"], \"yaxis\": \"y\", \"type\": \"scatter\"}, {\"customdata\": [[\"Data Analyst\", 59004.0]], \"hovertemplate\": \"<b>%{hovertext}</b><br><br>Year=2019<br>Compensation=%{customdata[1]:$.3s}<extra></extra>\", \"hovertext\": [\"Data or business analyst\"], \"legendgroup\": \"Data Analyst\", \"marker\": {\"color\": \"#19d3f3\", \"size\": [59004.0], \"sizemode\": \"area\", \"sizeref\": 237.5, \"symbol\": \"circle\"}, \"mode\": \"markers\", \"name\": \"Data Analyst\", \"orientation\": \"h\", \"showlegend\": true, \"x\": [59004.0], \"xaxis\": \"x\", \"y\": [\"Data Analyst\"], \"yaxis\": \"y\", \"type\": \"scatter\"}, {\"customdata\": [[\"Desktop\", 56142.0]], \"hovertemplate\": \"<b>%{hovertext}</b><br><br>Year=2019<br>Compensation=%{customdata[1]:$.3s}<extra></extra>\", \"hovertext\": [\"Developer, desktop or enterprise applications\"], \"legendgroup\": \"Desktop\", \"marker\": {\"color\": \"#FF6692\", \"size\": [56142.0], \"sizemode\": \"area\", \"sizeref\": 237.5, \"symbol\": \"circle\"}, \"mode\": \"markers\", \"name\": \"Desktop\", \"orientation\": \"h\", \"showlegend\": true, \"x\": [56142.0], \"xaxis\": \"x\", \"y\": [\"Desktop\"], \"yaxis\": \"y\", \"type\": \"scatter\"}, {\"customdata\": [[\"Backend\", 55680.0]], \"hovertemplate\": \"<b>%{hovertext}</b><br><br>Year=2019<br>Compensation=%{customdata[1]:$.3s}<extra></extra>\", \"hovertext\": [\"Developer, back-end\"], \"legendgroup\": \"Backend\", \"marker\": {\"color\": \"#B6E880\", \"size\": [55680.0], \"sizemode\": \"area\", \"sizeref\": 237.5, \"symbol\": \"circle\"}, \"mode\": \"markers\", \"name\": \"Backend\", \"orientation\": \"h\", \"showlegend\": true, \"x\": [55680.0], \"xaxis\": \"x\", \"y\": [\"Backend\"], \"yaxis\": \"y\", \"type\": \"scatter\"}, {\"customdata\": [[\"System Admin\", 55000.0]], \"hovertemplate\": \"<b>%{hovertext}</b><br><br>Year=2019<br>Compensation=%{customdata[1]:$.3s}<extra></extra>\", \"hovertext\": [\"System administrator\"], \"legendgroup\": \"System Admin\", \"marker\": {\"color\": \"#FF97FF\", \"size\": [55000.0], \"sizemode\": \"area\", \"sizeref\": 237.5, \"symbol\": \"circle\"}, \"mode\": \"markers\", \"name\": \"System Admin\", \"orientation\": \"h\", \"showlegend\": true, \"x\": [55000.0], \"xaxis\": \"x\", \"y\": [\"System Admin\"], \"yaxis\": \"y\", \"type\": \"scatter\"}, {\"customdata\": [[\"Frontend\", 51559.0]], \"hovertemplate\": \"<b>%{hovertext}</b><br><br>Year=2019<br>Compensation=%{customdata[1]:$.3s}<extra></extra>\", \"hovertext\": [\"Developer, front-end\"], \"legendgroup\": \"Frontend\", \"marker\": {\"color\": \"#FECB52\", \"size\": [51559.0], \"sizemode\": \"area\", \"sizeref\": 237.5, \"symbol\": \"circle\"}, \"mode\": \"markers\", \"name\": \"Frontend\", \"orientation\": \"h\", \"showlegend\": true, \"x\": [51559.0], \"xaxis\": \"x\", \"y\": [\"Frontend\"], \"yaxis\": \"y\", \"type\": \"scatter\"}, {\"customdata\": [[\"Database Admin\", 54302.0]], \"hovertemplate\": \"<b>%{hovertext}</b><br><br>Year=2019<br>Compensation=%{customdata[1]:$.3s}<extra></extra>\", \"hovertext\": [\"Database administrator\"], \"legendgroup\": \"Database Admin\", \"marker\": {\"color\": \"#636efa\", \"size\": [54302.0], \"sizemode\": \"area\", \"sizeref\": 237.5, \"symbol\": \"circle\"}, \"mode\": \"markers\", \"name\": \"Database Admin\", \"orientation\": \"h\", \"showlegend\": true, \"x\": [54302.0], \"xaxis\": \"x\", \"y\": [\"Database Admin\"], \"yaxis\": \"y\", \"type\": \"scatter\"}, {\"customdata\": [[\"Mobile\", 44629.5]], \"hovertemplate\": \"<b>%{hovertext}</b><br><br>Year=2019<br>Compensation=%{customdata[1]:$.3s}<extra></extra>\", \"hovertext\": [\"Developer, mobile\"], \"legendgroup\": \"Mobile\", \"marker\": {\"color\": \"#EF553B\", \"size\": [44629.5], \"sizemode\": \"area\", \"sizeref\": 237.5, \"symbol\": \"circle\"}, \"mode\": \"markers\", \"name\": \"Mobile\", \"orientation\": \"h\", \"showlegend\": true, \"x\": [44629.5], \"xaxis\": \"x\", \"y\": [\"Mobile\"], \"yaxis\": \"y\", \"type\": \"scatter\"}], \"name\": \"2019\"}, {\"data\": [{\"customdata\": [[\"Engineer Manager\", 91883.0]], \"hovertemplate\": \"<b>%{hovertext}</b><br><br>Year=2020<br>Compensation=%{customdata[1]:$.3s}<extra></extra>\", \"hovertext\": [\"Engineering manager\"], \"legendgroup\": \"Engineer Manager\", \"marker\": {\"color\": \"#636efa\", \"size\": [91883.0], \"sizemode\": \"area\", \"sizeref\": 237.5, \"symbol\": \"circle\"}, \"mode\": \"markers\", \"name\": \"Engineer Manager\", \"orientation\": \"h\", \"showlegend\": true, \"x\": [91883.0], \"xaxis\": \"x\", \"y\": [\"Engineer Manager\"], \"yaxis\": \"y\", \"type\": \"scatter\"}, {\"customdata\": [[\"DevOps\", 68068.0]], \"hovertemplate\": \"<b>%{hovertext}</b><br><br>Year=2020<br>Compensation=%{customdata[1]:$.3s}<extra></extra>\", \"hovertext\": [\"DevOps specialist\"], \"legendgroup\": \"DevOps\", \"marker\": {\"color\": \"#EF553B\", \"size\": [68068.0], \"sizemode\": \"area\", \"sizeref\": 237.5, \"symbol\": \"circle\"}, \"mode\": \"markers\", \"name\": \"DevOps\", \"orientation\": \"h\", \"showlegend\": true, \"x\": [68068.0], \"xaxis\": \"x\", \"y\": [\"DevOps\"], \"yaxis\": \"y\", \"type\": \"scatter\"}, {\"customdata\": [[\"Product manager\", 59000.0]], \"hovertemplate\": \"<b>%{hovertext}</b><br><br>Year=2020<br>Compensation=%{customdata[1]:$.3s}<extra></extra>\", \"hovertext\": [\"Product manager\"], \"legendgroup\": \"Product manager\", \"marker\": {\"color\": \"#00cc96\", \"size\": [59000.0], \"sizemode\": \"area\", \"sizeref\": 237.5, \"symbol\": \"circle\"}, \"mode\": \"markers\", \"name\": \"Product manager\", \"orientation\": \"h\", \"showlegend\": true, \"x\": [59000.0], \"xaxis\": \"x\", \"y\": [\"Product manager\"], \"yaxis\": \"y\", \"type\": \"scatter\"}, {\"customdata\": [[\"Data Scientist\", 58000.0]], \"hovertemplate\": \"<b>%{hovertext}</b><br><br>Year=2020<br>Compensation=%{customdata[1]:$.3s}<extra></extra>\", \"hovertext\": [\"Data scientist or machine learning specialist\"], \"legendgroup\": \"Data Scientist\", \"marker\": {\"color\": \"#ab63fa\", \"size\": [58000.0], \"sizemode\": \"area\", \"sizeref\": 237.5, \"symbol\": \"circle\"}, \"mode\": \"markers\", \"name\": \"Data Scientist\", \"orientation\": \"h\", \"showlegend\": true, \"x\": [58000.0], \"xaxis\": \"x\", \"y\": [\"Data Scientist\"], \"yaxis\": \"y\", \"type\": \"scatter\"}, {\"customdata\": [[\"Fullstack\", 54474.0]], \"hovertemplate\": \"<b>%{hovertext}</b><br><br>Year=2020<br>Compensation=%{customdata[1]:$.3s}<extra></extra>\", \"hovertext\": [\"Developer, full-stack\"], \"legendgroup\": \"Fullstack\", \"marker\": {\"color\": \"#FFA15A\", \"size\": [54474.0], \"sizemode\": \"area\", \"sizeref\": 237.5, \"symbol\": \"circle\"}, \"mode\": \"markers\", \"name\": \"Fullstack\", \"orientation\": \"h\", \"showlegend\": true, \"x\": [54474.0], \"xaxis\": \"x\", \"y\": [\"Fullstack\"], \"yaxis\": \"y\", \"type\": \"scatter\"}, {\"customdata\": [[\"Data Analyst\", 55129.0]], \"hovertemplate\": \"<b>%{hovertext}</b><br><br>Year=2020<br>Compensation=%{customdata[1]:$.3s}<extra></extra>\", \"hovertext\": [\"Data or business analyst\"], \"legendgroup\": \"Data Analyst\", \"marker\": {\"color\": \"#19d3f3\", \"size\": [55129.0], \"sizemode\": \"area\", \"sizeref\": 237.5, \"symbol\": \"circle\"}, \"mode\": \"markers\", \"name\": \"Data Analyst\", \"orientation\": \"h\", \"showlegend\": true, \"x\": [55129.0], \"xaxis\": \"x\", \"y\": [\"Data Analyst\"], \"yaxis\": \"y\", \"type\": \"scatter\"}, {\"customdata\": [[\"Desktop\", 55582.0]], \"hovertemplate\": \"<b>%{hovertext}</b><br><br>Year=2020<br>Compensation=%{customdata[1]:$.3s}<extra></extra>\", \"hovertext\": [\"Developer, desktop or enterprise applications\"], \"legendgroup\": \"Desktop\", \"marker\": {\"color\": \"#FF6692\", \"size\": [55582.0], \"sizemode\": \"area\", \"sizeref\": 237.5, \"symbol\": \"circle\"}, \"mode\": \"markers\", \"name\": \"Desktop\", \"orientation\": \"h\", \"showlegend\": true, \"x\": [55582.0], \"xaxis\": \"x\", \"y\": [\"Desktop\"], \"yaxis\": \"y\", \"type\": \"scatter\"}, {\"customdata\": [[\"Backend\", 52996.0]], \"hovertemplate\": \"<b>%{hovertext}</b><br><br>Year=2020<br>Compensation=%{customdata[1]:$.3s}<extra></extra>\", \"hovertext\": [\"Developer, back-end\"], \"legendgroup\": \"Backend\", \"marker\": {\"color\": \"#B6E880\", \"size\": [52996.0], \"sizemode\": \"area\", \"sizeref\": 237.5, \"symbol\": \"circle\"}, \"mode\": \"markers\", \"name\": \"Backend\", \"orientation\": \"h\", \"showlegend\": true, \"x\": [52996.0], \"xaxis\": \"x\", \"y\": [\"Backend\"], \"yaxis\": \"y\", \"type\": \"scatter\"}, {\"customdata\": [[\"System Admin\", 54049.0]], \"hovertemplate\": \"<b>%{hovertext}</b><br><br>Year=2020<br>Compensation=%{customdata[1]:$.3s}<extra></extra>\", \"hovertext\": [\"System administrator\"], \"legendgroup\": \"System Admin\", \"marker\": {\"color\": \"#FF97FF\", \"size\": [54049.0], \"sizemode\": \"area\", \"sizeref\": 237.5, \"symbol\": \"circle\"}, \"mode\": \"markers\", \"name\": \"System Admin\", \"orientation\": \"h\", \"showlegend\": true, \"x\": [54049.0], \"xaxis\": \"x\", \"y\": [\"System Admin\"], \"yaxis\": \"y\", \"type\": \"scatter\"}, {\"customdata\": [[\"Frontend\", 48600.0]], \"hovertemplate\": \"<b>%{hovertext}</b><br><br>Year=2020<br>Compensation=%{customdata[1]:$.3s}<extra></extra>\", \"hovertext\": [\"Developer, front-end\"], \"legendgroup\": \"Frontend\", \"marker\": {\"color\": \"#FECB52\", \"size\": [48600.0], \"sizemode\": \"area\", \"sizeref\": 237.5, \"symbol\": \"circle\"}, \"mode\": \"markers\", \"name\": \"Frontend\", \"orientation\": \"h\", \"showlegend\": true, \"x\": [48600.0], \"xaxis\": \"x\", \"y\": [\"Frontend\"], \"yaxis\": \"y\", \"type\": \"scatter\"}, {\"customdata\": [[\"Database Admin\", 50387.5]], \"hovertemplate\": \"<b>%{hovertext}</b><br><br>Year=2020<br>Compensation=%{customdata[1]:$.3s}<extra></extra>\", \"hovertext\": [\"Database administrator\"], \"legendgroup\": \"Database Admin\", \"marker\": {\"color\": \"#636efa\", \"size\": [50387.5], \"sizemode\": \"area\", \"sizeref\": 237.5, \"symbol\": \"circle\"}, \"mode\": \"markers\", \"name\": \"Database Admin\", \"orientation\": \"h\", \"showlegend\": true, \"x\": [50387.5], \"xaxis\": \"x\", \"y\": [\"Database Admin\"], \"yaxis\": \"y\", \"type\": \"scatter\"}, {\"customdata\": [[\"Mobile\", 43239.0]], \"hovertemplate\": \"<b>%{hovertext}</b><br><br>Year=2020<br>Compensation=%{customdata[1]:$.3s}<extra></extra>\", \"hovertext\": [\"Developer, mobile\"], \"legendgroup\": \"Mobile\", \"marker\": {\"color\": \"#EF553B\", \"size\": [43239.0], \"sizemode\": \"area\", \"sizeref\": 237.5, \"symbol\": \"circle\"}, \"mode\": \"markers\", \"name\": \"Mobile\", \"orientation\": \"h\", \"showlegend\": true, \"x\": [43239.0], \"xaxis\": \"x\", \"y\": [\"Mobile\"], \"yaxis\": \"y\", \"type\": \"scatter\"}], \"name\": \"2020\"}]);\n",
       "                        }).then(function(){\n",
       "                            \n",
       "var gd = document.getElementById('637ba980-56f6-4daf-9a76-b1fae773d1ef');\n",
       "var x = new MutationObserver(function (mutations, observer) {{\n",
       "        var display = window.getComputedStyle(gd).display;\n",
       "        if (!display || display === 'none') {{\n",
       "            console.log([gd, 'removed!']);\n",
       "            Plotly.purge(gd);\n",
       "            observer.disconnect();\n",
       "        }}\n",
       "}});\n",
       "\n",
       "// Listen for the removal of the full notebook cells\n",
       "var notebookContainer = gd.closest('#notebook-container');\n",
       "if (notebookContainer) {{\n",
       "    x.observe(notebookContainer, {childList: true});\n",
       "}}\n",
       "\n",
       "// Listen for the clearing of the current output cell\n",
       "var outputEl = gd.closest('.output');\n",
       "if (outputEl) {{\n",
       "    x.observe(outputEl, {childList: true});\n",
       "}}\n",
       "\n",
       "                        })\n",
       "                };\n",
       "                });\n",
       "            </script>\n",
       "        </div>"
      ]
     },
     "metadata": {},
     "output_type": "display_data"
    }
   ],
   "source": [
    "fig = px.scatter(\n",
    "    avg_devtype_transform, x=\"avg_compensation\", y=\"devtype_label\", animation_frame=\"year\",\n",
    "    size=\"avg_compensation\", \n",
    "    color=\"devtype_label\",\n",
    "    hover_name='devtype',\n",
    "    hover_data={\n",
    "        'devtype_label': False,\n",
    "        'avg_compensation':':$.3s',\n",
    "    },\n",
    "    labels={\n",
    "        \"devtype_label\": \"Developer Type\", \n",
    "        \"avg_compensation\": \"Compensation\", \n",
    "        \"year\": \"Year\"\n",
    "    },\n",
    ")\n",
    "\n",
    "for step in range(len(fig.layout.sliders[0].steps)):\n",
    "    fig.layout.sliders[0].steps[step].args[1]['transition'] = {\"duration\": 400, \"easing\": \"cubic-in-out\"}\n",
    "    fig.layout.sliders[0].steps[step].args[1]['frame'] = {'duration': 400, 'redraw': False}\n",
    "\n",
    "# fig.layout.updatemenus[0].buttons[0].args[1][\"transition\"][\"duration\"] = 800\n",
    "# fig.layout.updatemenus[0].buttons[0].args[1][\"frame\"][\"duration\"] = 800\n",
    "fig.layout.updatemenus[0].buttons = None\n",
    "\n",
    "fig.layout.sliders[0]['x'] = 0\n",
    "fig.layout.sliders[0]['currentvalue'] = {\n",
    "    \"font\": {\"size\": 20},\n",
    "    \"prefix\": \"Year: \",\n",
    "    \"visible\": True,\n",
    "    \"xanchor\": \"left\"\n",
    "}\n",
    "\n",
    "# changing default active plot \n",
    "last_frame_index = len(fig.layout.sliders[0].steps) - 1\n",
    "fig.layout.sliders[0]['active'] = last_frame_index\n",
    "fig.data = None\n",
    "for data in fig.frames[last_frame_index].data:\n",
    "    fig.add_trace(data)\n",
    "\n",
    "fig.update_layout(\n",
    "    showlegend=False,\n",
    "    xaxis=dict(\n",
    "        title='Compensation (USD)',\n",
    "        range=[38000, 98000]\n",
    "    ),\n",
    "    yaxis=dict(\n",
    "        title='',\n",
    "        zeroline=False,\n",
    "        ticks= \"outside\", \n",
    "        tickcolor= 'white', \n",
    "        ticklen= 8,\n",
    "    ),\n",
    "    title=dict(\n",
    "        text= \"Compensation per Developer Type\",\n",
    "        x=0.5,\n",
    "        xanchor='center',\n",
    "        yanchor='top'\n",
    "    ),\n",
    ")\n",
    "\n",
    "fig.show()"
   ]
  },
  {
   "cell_type": "markdown",
   "metadata": {},
   "source": [
    "![image.png](images/compensation_per_developer_average_viz.png)"
   ]
  },
  {
   "cell_type": "markdown",
   "metadata": {},
   "source": [
    "[Link to interactive viz](https://chart-studio.plotly.com/~masharo/86/)"
   ]
  },
  {
   "cell_type": "code",
   "execution_count": 103,
   "metadata": {},
   "outputs": [
    {
     "data": {
      "text/plain": [
       "'https://plotly.com/~masharo/86/'"
      ]
     },
     "execution_count": 103,
     "metadata": {},
     "output_type": "execute_result"
    }
   ],
   "source": [
    "py.plot(fig, filename = 'stack-overflow-average-compensation-per-devtype-animation')"
   ]
  },
  {
   "cell_type": "markdown",
   "metadata": {},
   "source": [
    "## Evaluation"
   ]
  },
  {
   "cell_type": "markdown",
   "metadata": {},
   "source": [
    "From the first viz we could see that the shape of the curves per year remains similar, with a tendency of normalization in lower range salaries.\n",
    "Depending on the developer type, curves get skewed to lower salaries (Mobile Developers) or better approximating to normally distributed (DevOps).\n",
    "\n",
    "Furthermore, from the visualization above its clear that Engineer Managers keep reporting the highest annual compensations, with median salaries around 90k USD dollars per year. For the rest of professional developers, salaries range around 55k per year."
   ]
  }
 ],
 "metadata": {
  "kernelspec": {
   "display_name": "Python 3",
   "language": "python",
   "name": "python3"
  },
  "language_info": {
   "codemirror_mode": {
    "name": "ipython",
    "version": 3
   },
   "file_extension": ".py",
   "mimetype": "text/x-python",
   "name": "python",
   "nbconvert_exporter": "python",
   "pygments_lexer": "ipython3",
   "version": "3.8.5"
  }
 },
 "nbformat": 4,
 "nbformat_minor": 4
}
