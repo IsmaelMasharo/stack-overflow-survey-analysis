{
 "cells": [
  {
   "cell_type": "code",
   "execution_count": 1,
   "metadata": {},
   "outputs": [],
   "source": [
    "import pandas as pd\n",
    "import numpy as np\n",
    "import matplotlib.pyplot as plt"
   ]
  },
  {
   "cell_type": "code",
   "execution_count": 2,
   "metadata": {},
   "outputs": [],
   "source": [
    "pd.set_option('display.max_rows', None)\n",
    "pd.set_option('display.max_columns', None)\n",
    "pd.set_option('display.width', None)\n",
    "pd.set_option('display.max_colwidth', None)"
   ]
  },
  {
   "cell_type": "code",
   "execution_count": 3,
   "metadata": {},
   "outputs": [],
   "source": [
    "dataset_base_file_name = 'stack_overflow_datasets'\n",
    "dataset_base_year = 'survey_results_'\n",
    "dataset_years = list(range(2011,2021))\n",
    "dataset_names = [f'{dataset_base_file_name}/{dataset_base_year}{year}.csv' for year in dataset_years]"
   ]
  },
  {
   "cell_type": "code",
   "execution_count": 4,
   "metadata": {},
   "outputs": [
    {
     "name": "stderr",
     "output_type": "stream",
     "text": [
      "/Users/ismael/miniconda3/envs/minimal_ds/lib/python3.8/site-packages/IPython/core/interactiveshell.py:3263: DtypeWarning: Columns (5,12) have mixed types.Specify dtype option on import or set low_memory=False.\n",
      "  if (await self.run_code(code, result,  async_=asy)):\n",
      "/Users/ismael/miniconda3/envs/minimal_ds/lib/python3.8/site-packages/IPython/core/interactiveshell.py:3263: DtypeWarning: Columns (8,12,13,14,15,16,50,51,52,53,55,56,57,58,59,60,61,62,63,64,65,66,67,68,69,70,71,72,73,74,75,76,77,78,79,80,81,82,83,84,85,93,94,95,96,97,98,99,100,101,102,103,104,105,106,107,108,109,110,111,112,113,114,115,116,117,118,119,120,121,122,123,124,125,126,127,128) have mixed types.Specify dtype option on import or set low_memory=False.\n",
      "  if (await self.run_code(code, result,  async_=asy)):\n"
     ]
    }
   ],
   "source": [
    "dfs = [pd.read_csv(name) for name in dataset_names] # for the original dataset: encoding = \"ISO-8859-1\""
   ]
  },
  {
   "cell_type": "markdown",
   "metadata": {},
   "source": [
    "### Renaming column name to snake case format"
   ]
  },
  {
   "cell_type": "code",
   "execution_count": 5,
   "metadata": {},
   "outputs": [],
   "source": [
    "import re\n",
    "def camel_to_snake(name):\n",
    "    # https://stackoverflow.com/a/1176023\n",
    "    name = re.sub('(.)([A-Z][a-z]+)', r'\\1_\\2', name)\n",
    "    return re.sub('([a-z0-9])([A-Z])', r'\\1_\\2', name).lower()\n",
    "\n",
    "for df in dfs:\n",
    "    df.columns = map(lambda name: camel_to_snake(name.replace(\" \", \"\")), df.columns)"
   ]
  },
  {
   "cell_type": "code",
   "execution_count": 6,
   "metadata": {},
   "outputs": [],
   "source": [
    "common_cols = set(dfs[0].columns.tolist())"
   ]
  },
  {
   "cell_type": "code",
   "execution_count": 7,
   "metadata": {},
   "outputs": [
    {
     "data": {
      "text/plain": [
       "{'age',\n",
       " 'annual_compensation',\n",
       " 'company_size',\n",
       " 'country',\n",
       " 'industry',\n",
       " 'job_satisfaction',\n",
       " 'occupation',\n",
       " 'os',\n",
       " 'programming_languages',\n",
       " 'project_type',\n",
       " 'years_experience'}"
      ]
     },
     "execution_count": 7,
     "metadata": {},
     "output_type": "execute_result"
    }
   ],
   "source": [
    "common_cols"
   ]
  },
  {
   "cell_type": "code",
   "execution_count": 34,
   "metadata": {},
   "outputs": [],
   "source": [
    "def print_dataset_cols_difference():\n",
    "    column_list = [df.columns.tolist() for df in dfs]\n",
    "    for columns in column_list:\n",
    "        print(common_cols - set(columns))"
   ]
  },
  {
   "cell_type": "code",
   "execution_count": 29,
   "metadata": {},
   "outputs": [],
   "source": [
    "for df in dfs:\n",
    "    columns_renamed={\n",
    "        'salary': 'annual_compensation',\n",
    "        'annueal_compensation': 'annual_compensation',\n",
    "        'years_code': 'years_experience', \n",
    "        'years_program': 'years_experience', \n",
    "        'main_branch': 'occupation', \n",
    "        'job_sat': 'job_satisfaction',\n",
    "        'op_sys': 'os',\n",
    "        'operating_system': 'os',\n",
    "        'language_worked_with': 'programming_languages',\n",
    "        'have_worked_language': 'programming_languages',\n",
    "        'tech_do': 'programming_languages',\n",
    "        'programming_lalnguages': 'programming_languages',\n",
    "    }\n",
    "    df.rename(columns=columns_renamed, inplace=True)"
   ]
  },
  {
   "cell_type": "code",
   "execution_count": 35,
   "metadata": {},
   "outputs": [
    {
     "name": "stdout",
     "output_type": "stream",
     "text": [
      "set()\n",
      "set()\n",
      "{'project_type'}\n",
      "{'project_type', 'job_satisfaction', 'company_size'}\n",
      "{'project_type', 'company_size'}\n",
      "{'project_type'}\n",
      "{'industry', 'occupation', 'age', 'project_type', 'os'}\n",
      "{'project_type', 'industry', 'occupation', 'years_experience'}\n",
      "{'project_type', 'industry', 'annual_compensation', 'company_size'}\n",
      "{'project_type', 'industry', 'annual_compensation', 'company_size'}\n"
     ]
    }
   ],
   "source": [
    "print_dataset_cols_difference()"
   ]
  }
 ],
 "metadata": {
  "kernelspec": {
   "display_name": "Python 3",
   "language": "python",
   "name": "python3"
  },
  "language_info": {
   "codemirror_mode": {
    "name": "ipython",
    "version": 3
   },
   "file_extension": ".py",
   "mimetype": "text/x-python",
   "name": "python",
   "nbconvert_exporter": "python",
   "pygments_lexer": "ipython3",
   "version": "3.8.5"
  }
 },
 "nbformat": 4,
 "nbformat_minor": 4
}
