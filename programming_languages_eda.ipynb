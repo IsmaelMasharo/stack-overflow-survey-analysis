{
 "cells": [
  {
   "cell_type": "code",
   "execution_count": 20,
   "metadata": {},
   "outputs": [],
   "source": [
    "import pandas as pd\n",
    "import numpy as np\n",
    "import seaborn as sns \n",
    "import matplotlib.pyplot as plt\n",
    "\n",
    "from scripts.dataset_explorer import SODataSetExplorer\n",
    "from scripts.tech_labeling import tech_labeling "
   ]
  },
  {
   "cell_type": "code",
   "execution_count": 2,
   "metadata": {},
   "outputs": [],
   "source": [
    "import plotly.express as px\n",
    "import plotly\n",
    "import plotly.io as pio\n",
    "import plotly.graph_objects as go"
   ]
  },
  {
   "cell_type": "code",
   "execution_count": 3,
   "metadata": {},
   "outputs": [],
   "source": [
    "import chart_studio\n",
    "import chart_studio.plotly as py\n",
    "import os\n",
    "\n",
    "chart_studio_apikey = os.getenv('CHART_STUDIO_API_KEY')\n",
    "chart_studio.tools.set_credentials_file(username='masharo', api_key=chart_studio_apikey)"
   ]
  },
  {
   "cell_type": "code",
   "execution_count": 4,
   "metadata": {},
   "outputs": [],
   "source": [
    "pd.set_option('display.max_rows', None)\n",
    "pd.set_option('display.max_columns', None)\n",
    "pd.set_option('display.width', None)\n",
    "pd.set_option('display.max_colwidth', None)"
   ]
  },
  {
   "cell_type": "markdown",
   "metadata": {},
   "source": [
    "### Load Dataset"
   ]
  },
  {
   "cell_type": "code",
   "execution_count": 5,
   "metadata": {},
   "outputs": [],
   "source": [
    "df_explorer = SODataSetExplorer()"
   ]
  },
  {
   "cell_type": "markdown",
   "metadata": {},
   "source": [
    "### Exploring Programming languages and Technologies"
   ]
  },
  {
   "cell_type": "code",
   "execution_count": 6,
   "metadata": {
    "scrolled": true
   },
   "outputs": [
    {
     "name": "stdout",
     "output_type": "stream",
     "text": [
      "2011\n",
      "{'programming_languages',\n",
      " 'programming_languages_other',\n",
      " 'tech_products_own',\n",
      " 'tech_products_own_other',\n",
      " 'techn_related_purchases_last_year'}\n",
      "\n",
      "\n",
      "2012\n",
      "{'programming_languages',\n",
      " 'programming_languages_other',\n",
      " 'tech_products_own',\n",
      " 'tech_products_own_other',\n",
      " 'techn_related_purchases_last_year'}\n",
      "\n",
      "\n",
      "2013\n",
      "{'importance_opportunity_to_use_learn_new_technologies',\n",
      " 'new_tech_interests',\n",
      " 'programming_languages',\n",
      " 'programming_languages_other',\n",
      " 'tech_products_own',\n",
      " 'tech_products_own_other',\n",
      " 'techn_related_purchases_last_year',\n",
      " 'time_per_week_technical_support'}\n",
      "\n",
      "\n",
      "2014\n",
      "{'new_tech_interests',\n",
      " 'programming_languages',\n",
      " 'programming_languages_other',\n",
      " 'tech_products_own',\n",
      " 'tech_products_own_other',\n",
      " 'time_per_week_technical_support'}\n",
      "\n",
      "\n",
      "2015\n",
      "{'programming_languages',\n",
      " 'programming_languages_other',\n",
      " 'want_work_language',\n",
      " 'want_work_language_other'}\n",
      "\n",
      "\n",
      "2016\n",
      "{'agree_tech',\n",
      " 'important_newtech',\n",
      " 'tech_do',\n",
      " 'tech_want',\n",
      " 'why_learn_new_tech'}\n",
      "\n",
      "\n",
      "2017\n",
      "{'assess_job_tech',\n",
      " 'have_worked_language',\n",
      " 'important_hiring_tech_exp',\n",
      " 'influence_dept_tech',\n",
      " 'influence_tech_stack',\n",
      " 'learning_new_tech',\n",
      " 'want_work_language'}\n",
      "\n",
      "\n",
      "2018\n",
      "{'language_worked_with', 'language_desire_next_year'}\n",
      "\n",
      "\n",
      "2019\n",
      "{'language_desire_next_year',\n",
      " 'language_worked_with',\n",
      " 'misc_tech_desire_next_year',\n",
      " 'misc_tech_worked_with'}\n",
      "\n",
      "\n",
      "2020\n",
      "{'language_desire_next_year',\n",
      " 'language_worked_with',\n",
      " 'misc_tech_desire_next_year',\n",
      " 'misc_tech_worked_with'}\n",
      "\n",
      "\n"
     ]
    }
   ],
   "source": [
    "df_explorer.similar_columns(['language', 'tech',]);"
   ]
  },
  {
   "cell_type": "markdown",
   "metadata": {},
   "source": [
    "* Rename feature into `programming_languages`"
   ]
  },
  {
   "cell_type": "code",
   "execution_count": 7,
   "metadata": {},
   "outputs": [],
   "source": [
    "progr_lang_rename = {\n",
    "    'tech_do': 'programming_languages',\n",
    "    'have_worked_language': 'programming_languages',\n",
    "    'language_worked_with': 'programming_languages',\n",
    "}\n",
    "df_explorer.rename_columns(progr_lang_rename)"
   ]
  },
  {
   "cell_type": "markdown",
   "metadata": {},
   "source": [
    "* `programming_languages`. Multiple choice categorical features"
   ]
  },
  {
   "cell_type": "markdown",
   "metadata": {},
   "source": [
    "* Merging feature `programming_languages` feature across years "
   ]
  },
  {
   "cell_type": "code",
   "execution_count": 13,
   "metadata": {},
   "outputs": [],
   "source": [
    "df_programming_languages = [\n",
    "    df[['year', 'programming_languages']] for df in df_explorer.datasets.values() \n",
    "    if 'programming_languages' in df.columns.tolist()\n",
    "]\n",
    "\n",
    "concat_programming_languages = pd.concat(df_programming_languages, ignore_index=True)"
   ]
  },
  {
   "cell_type": "code",
   "execution_count": 14,
   "metadata": {},
   "outputs": [
    {
     "data": {
      "text/html": [
       "<div>\n",
       "<style scoped>\n",
       "    .dataframe tbody tr th:only-of-type {\n",
       "        vertical-align: middle;\n",
       "    }\n",
       "\n",
       "    .dataframe tbody tr th {\n",
       "        vertical-align: top;\n",
       "    }\n",
       "\n",
       "    .dataframe thead th {\n",
       "        text-align: right;\n",
       "    }\n",
       "</style>\n",
       "<table border=\"1\" class=\"dataframe\">\n",
       "  <thead>\n",
       "    <tr style=\"text-align: right;\">\n",
       "      <th></th>\n",
       "      <th>year</th>\n",
       "      <th>programming_languages</th>\n",
       "    </tr>\n",
       "  </thead>\n",
       "  <tbody>\n",
       "    <tr>\n",
       "      <th>0</th>\n",
       "      <td>2011</td>\n",
       "      <td>JavaScript</td>\n",
       "    </tr>\n",
       "    <tr>\n",
       "      <th>1</th>\n",
       "      <td>2011</td>\n",
       "      <td>Java;SQL;C</td>\n",
       "    </tr>\n",
       "    <tr>\n",
       "      <th>2</th>\n",
       "      <td>2011</td>\n",
       "      <td>Java;JavaScript;SQL</td>\n",
       "    </tr>\n",
       "    <tr>\n",
       "      <th>3</th>\n",
       "      <td>2011</td>\n",
       "      <td>Java</td>\n",
       "    </tr>\n",
       "    <tr>\n",
       "      <th>4</th>\n",
       "      <td>2011</td>\n",
       "      <td>Java;JavaScript;CSS;PHP;SQL;C++;C;Perl</td>\n",
       "    </tr>\n",
       "  </tbody>\n",
       "</table>\n",
       "</div>"
      ],
      "text/plain": [
       "   year                   programming_languages\n",
       "0  2011                              JavaScript\n",
       "1  2011                              Java;SQL;C\n",
       "2  2011                     Java;JavaScript;SQL\n",
       "3  2011                                    Java\n",
       "4  2011  Java;JavaScript;CSS;PHP;SQL;C++;C;Perl"
      ]
     },
     "execution_count": 14,
     "metadata": {},
     "output_type": "execute_result"
    }
   ],
   "source": [
    "concat_programming_languages.head()"
   ]
  },
  {
   "cell_type": "markdown",
   "metadata": {},
   "source": [
    "### Exploding programming languages feature\n",
    "Two columns: `programming_languages` and `programming_languages_other`"
   ]
  },
  {
   "cell_type": "code",
   "execution_count": 15,
   "metadata": {},
   "outputs": [],
   "source": [
    "concat_programming_languages['programming_languages'] = concat_programming_languages.programming_languages.str.lower().str.split('/|;')"
   ]
  },
  {
   "cell_type": "code",
   "execution_count": 16,
   "metadata": {},
   "outputs": [],
   "source": [
    "df_explode = concat_programming_languages.explode('programming_languages')\n",
    "df_explode['programming_languages'] = df_explode.programming_languages.str.strip()"
   ]
  },
  {
   "cell_type": "code",
   "execution_count": 17,
   "metadata": {},
   "outputs": [],
   "source": [
    "df_explode.loc[df_explode.programming_languages.str.startswith('cloud', na=False), 'programming_languages'] = 'cloud'"
   ]
  },
  {
   "cell_type": "code",
   "execution_count": 18,
   "metadata": {},
   "outputs": [
    {
     "data": {
      "text/html": [
       "<div>\n",
       "<style scoped>\n",
       "    .dataframe tbody tr th:only-of-type {\n",
       "        vertical-align: middle;\n",
       "    }\n",
       "\n",
       "    .dataframe tbody tr th {\n",
       "        vertical-align: top;\n",
       "    }\n",
       "\n",
       "    .dataframe thead th {\n",
       "        text-align: right;\n",
       "    }\n",
       "</style>\n",
       "<table border=\"1\" class=\"dataframe\">\n",
       "  <thead>\n",
       "    <tr style=\"text-align: right;\">\n",
       "      <th></th>\n",
       "      <th>year</th>\n",
       "      <th>programming_languages</th>\n",
       "    </tr>\n",
       "  </thead>\n",
       "  <tbody>\n",
       "    <tr>\n",
       "      <th>0</th>\n",
       "      <td>2011</td>\n",
       "      <td>javascript</td>\n",
       "    </tr>\n",
       "    <tr>\n",
       "      <th>1</th>\n",
       "      <td>2011</td>\n",
       "      <td>java</td>\n",
       "    </tr>\n",
       "    <tr>\n",
       "      <th>1</th>\n",
       "      <td>2011</td>\n",
       "      <td>sql</td>\n",
       "    </tr>\n",
       "    <tr>\n",
       "      <th>1</th>\n",
       "      <td>2011</td>\n",
       "      <td>c</td>\n",
       "    </tr>\n",
       "    <tr>\n",
       "      <th>2</th>\n",
       "      <td>2011</td>\n",
       "      <td>java</td>\n",
       "    </tr>\n",
       "  </tbody>\n",
       "</table>\n",
       "</div>"
      ],
      "text/plain": [
       "   year programming_languages\n",
       "0  2011            javascript\n",
       "1  2011                  java\n",
       "1  2011                   sql\n",
       "1  2011                     c\n",
       "2  2011                  java"
      ]
     },
     "execution_count": 18,
     "metadata": {},
     "output_type": "execute_result"
    }
   ],
   "source": [
    "df_explode.head()"
   ]
  },
  {
   "cell_type": "code",
   "execution_count": 19,
   "metadata": {},
   "outputs": [
    {
     "data": {
      "text/plain": [
       "(2049496, 2)"
      ]
     },
     "execution_count": 19,
     "metadata": {},
     "output_type": "execute_result"
    }
   ],
   "source": [
    "df_explode.shape"
   ]
  },
  {
   "cell_type": "markdown",
   "metadata": {},
   "source": [
    "### Languages and technologies labeling"
   ]
  },
  {
   "cell_type": "code",
   "execution_count": 21,
   "metadata": {
    "scrolled": true
   },
   "outputs": [],
   "source": [
    "df_explode['tech_type'] = df_explode.programming_languages.map(lambda x: tech_labeling.get(x, ''))"
   ]
  },
  {
   "cell_type": "markdown",
   "metadata": {},
   "source": [
    "### Common languages evolution"
   ]
  },
  {
   "cell_type": "code",
   "execution_count": 22,
   "metadata": {},
   "outputs": [
    {
     "data": {
      "text/html": [
       "<div>\n",
       "<style scoped>\n",
       "    .dataframe tbody tr th:only-of-type {\n",
       "        vertical-align: middle;\n",
       "    }\n",
       "\n",
       "    .dataframe tbody tr th {\n",
       "        vertical-align: top;\n",
       "    }\n",
       "\n",
       "    .dataframe thead th {\n",
       "        text-align: right;\n",
       "    }\n",
       "</style>\n",
       "<table border=\"1\" class=\"dataframe\">\n",
       "  <thead>\n",
       "    <tr style=\"text-align: right;\">\n",
       "      <th></th>\n",
       "      <th></th>\n",
       "      <th>Count</th>\n",
       "      <th>Percentage</th>\n",
       "    </tr>\n",
       "    <tr>\n",
       "      <th>year</th>\n",
       "      <th>programming_languages</th>\n",
       "      <th></th>\n",
       "      <th></th>\n",
       "    </tr>\n",
       "  </thead>\n",
       "  <tbody>\n",
       "    <tr>\n",
       "      <th rowspan=\"5\" valign=\"top\">2011</th>\n",
       "      <th>c</th>\n",
       "      <td>741</td>\n",
       "      <td>0.0740</td>\n",
       "    </tr>\n",
       "    <tr>\n",
       "      <th>c#</th>\n",
       "      <td>1352</td>\n",
       "      <td>0.1350</td>\n",
       "    </tr>\n",
       "    <tr>\n",
       "      <th>c++</th>\n",
       "      <td>740</td>\n",
       "      <td>0.0739</td>\n",
       "    </tr>\n",
       "    <tr>\n",
       "      <th>css</th>\n",
       "      <td>1356</td>\n",
       "      <td>0.1354</td>\n",
       "    </tr>\n",
       "    <tr>\n",
       "      <th>java</th>\n",
       "      <td>861</td>\n",
       "      <td>0.0860</td>\n",
       "    </tr>\n",
       "  </tbody>\n",
       "</table>\n",
       "</div>"
      ],
      "text/plain": [
       "                            Count  Percentage\n",
       "year programming_languages                   \n",
       "2011 c                        741      0.0740\n",
       "     c#                      1352      0.1350\n",
       "     c++                      740      0.0739\n",
       "     css                     1356      0.1354\n",
       "     java                     861      0.0860"
      ]
     },
     "metadata": {},
     "output_type": "display_data"
    }
   ],
   "source": [
    "languages_df = df_explode[df_explode.tech_type.str.contains('language')]\n",
    "langs_year = languages_df.groupby(['year', 'programming_languages']).agg({'programming_languages': 'count'})\n",
    "langs_year['Percentage'] = langs_year.groupby(level=0).programming_languages.apply(lambda x: x / float(x.sum())).round(4)\n",
    "langs_year.columns = ['Count', 'Percentage']\n",
    "display(langs_year.head())\n",
    "\n",
    "langs_year.index.names = ['Year','Language']\n",
    "langs_year.reset_index(inplace=True)\n",
    "langs_year.sort_values(['Year', 'Count'], ascending=True, inplace=True)"
   ]
  },
  {
   "cell_type": "code",
   "execution_count": 25,
   "metadata": {},
   "outputs": [
    {
     "name": "stdout",
     "output_type": "stream",
     "text": [
      "<class 'pandas.core.frame.DataFrame'>\n",
      "Int64Index: 222 entries, 6 to 206\n",
      "Data columns (total 4 columns):\n",
      " #   Column      Non-Null Count  Dtype  \n",
      "---  ------      --------------  -----  \n",
      " 0   Year        222 non-null    object \n",
      " 1   Language    222 non-null    object \n",
      " 2   Count       222 non-null    int64  \n",
      " 3   Percentage  222 non-null    float64\n",
      "dtypes: float64(1), int64(1), object(2)\n",
      "memory usage: 8.7+ KB\n"
     ]
    }
   ],
   "source": [
    "langs_year.info()"
   ]
  },
  {
   "cell_type": "code",
   "execution_count": 26,
   "metadata": {},
   "outputs": [
    {
     "data": {
      "application/vnd.plotly.v1+json": {
       "config": {
        "plotlyServerURL": "https://plotly.com"
       },
       "data": [
        {
         "hovertemplate": "<b>%{y}</b><br><br>Count: %{x:.d} <br>Percentage: %{text:.2%}<br><extra></extra>",
         "insidetextanchor": "end",
         "marker": {
          "color": "rgb(255, 231, 169)"
         },
         "name": "2011",
         "orientation": "h",
         "text": [
          0.0284,
          0.0285,
          0.0574,
          0.0739,
          0.074,
          0.0787,
          0.086,
          0.135,
          0.1354,
          0.1417,
          0.1611
         ],
         "textposition": "outside",
         "texttemplate": "%{text:.2%}",
         "type": "bar",
         "visible": true,
         "x": [
          284,
          285,
          575,
          740,
          741,
          788,
          861,
          1352,
          1356,
          1419,
          1613
         ],
         "y": [
          "Perl",
          "Ruby",
          "Python",
          "C++",
          "C",
          "Php",
          "Java",
          "C#",
          "Css",
          "Javascript",
          "Sql"
         ]
        },
        {
         "hovertemplate": "<b>%{y}</b><br><br>Count: %{x:.d} <br>Percentage: %{text:.2%}<br><extra></extra>",
         "insidetextanchor": "end",
         "marker": {
          "color": "rgb(255, 231, 169)"
         },
         "name": "2012",
         "orientation": "h",
         "text": [
          0.0192,
          0.024,
          0.0252,
          0.0504,
          0.0618,
          0.0636,
          0.0802,
          0.0897,
          0.0978,
          0.1028,
          0.1177,
          0.1303,
          0.1372
         ],
         "textposition": "outside",
         "texttemplate": "%{text:.2%}",
         "type": "bar",
         "visible": false,
         "x": [
          461,
          577,
          605,
          1210,
          1484,
          1526,
          1925,
          2154,
          2348,
          2468,
          2824,
          3127,
          3294
         ],
         "y": [
          "Perl",
          "Ruby",
          "Objective-C",
          "Python",
          "C",
          "C++",
          "Php",
          "Html5",
          "Java",
          "C#",
          "Css",
          "Javascript",
          "Sql"
         ]
        },
        {
         "hovertemplate": "<b>%{y}</b><br><br>Count: %{x:.d} <br>Percentage: %{text:.2%}<br><extra></extra>",
         "insidetextanchor": "end",
         "marker": {
          "color": "rgb(255, 231, 169)"
         },
         "name": "2013",
         "orientation": "h",
         "text": [
          0.0325,
          0.039,
          0.0587,
          0.0693,
          0.0769,
          0.095,
          0.1235,
          0.1238,
          0.1878,
          0.1936
         ],
         "textposition": "outside",
         "texttemplate": "%{text:.2%}",
         "type": "bar",
         "visible": false,
         "x": [
          794,
          955,
          1436,
          1696,
          1880,
          2324,
          3020,
          3027,
          4593,
          4735
         ],
         "y": [
          "Ruby",
          "Objective-C",
          "C",
          "C++",
          "Python",
          "Php",
          "Java",
          "C#",
          "Sql",
          "Javascript"
         ]
        },
        {
         "hovertemplate": "<b>%{y}</b><br><br>Count: %{x:.d} <br>Percentage: %{text:.2%}<br><extra></extra>",
         "insidetextanchor": "end",
         "marker": {
          "color": "rgb(255, 231, 169)"
         },
         "name": "2014",
         "orientation": "h",
         "text": [
          0.031,
          0.0352,
          0.0613,
          0.074,
          0.0769,
          0.0893,
          0.1242,
          0.1295,
          0.181,
          0.1975
         ],
         "textposition": "outside",
         "texttemplate": "%{text:.2%}",
         "type": "bar",
         "visible": false,
         "x": [
          593,
          675,
          1174,
          1418,
          1473,
          1710,
          2378,
          2479,
          3467,
          3783
         ],
         "y": [
          "Ruby",
          "Objective-C",
          "C",
          "C++",
          "Python",
          "Php",
          "C#",
          "Java",
          "Sql",
          "Javascript"
         ]
        },
        {
         "hovertemplate": "<b>%{y}</b><br><br>Count: %{x:.d} <br>Percentage: %{text:.2%}<br><extra></extra>",
         "insidetextanchor": "end",
         "marker": {
          "color": "rgb(255, 231, 169)"
         },
         "name": "2015",
         "orientation": "h",
         "text": [
          0.0015,
          0.0016,
          0.0025,
          0.0025,
          0.0051,
          0.0067,
          0.0078,
          0.0106,
          0.0109,
          0.0109,
          0.0113,
          0.0124,
          0.0245,
          0.0248,
          0.0255,
          0.0267,
          0.0521,
          0.0653,
          0.0756,
          0.0942,
          0.1002,
          0.1186,
          0.1362,
          0.1725
         ],
         "textposition": "outside",
         "texttemplate": "%{text:.2%}",
         "type": "bar",
         "visible": false,
         "x": [
          103,
          109,
          174,
          176,
          357,
          462,
          538,
          738,
          755,
          759,
          783,
          860,
          1701,
          1719,
          1765,
          1851,
          3612,
          4529,
          5238,
          6529,
          6949,
          8219,
          9439,
          11962
         ],
         "y": [
          "Rust",
          "Dart",
          "F#",
          "Clojure",
          "Haskell",
          "Go",
          "Scala",
          "Perl",
          "R",
          "Swift",
          "Coffeescript",
          "Matlab",
          "Visual Basic",
          "Objective-C",
          "Ruby",
          "C++11",
          "C",
          "C++",
          "Python",
          "Php",
          "C#",
          "Java",
          "Sql",
          "Javascript"
         ]
        },
        {
         "hovertemplate": "<b>%{y}</b><br><br>Count: %{x:.d} <br>Percentage: %{text:.2%}<br><extra></extra>",
         "insidetextanchor": "end",
         "marker": {
          "color": "rgb(255, 231, 169)"
         },
         "name": "2016",
         "orientation": "h",
         "text": [
          0.0015,
          0.0029,
          0.0032,
          0.0037,
          0.0054,
          0.0103,
          0.0106,
          0.0106,
          0.0108,
          0.0108,
          0.011,
          0.0182,
          0.0212,
          0.022,
          0.0291,
          0.0509,
          0.0636,
          0.0815,
          0.0848,
          0.1014,
          0.119,
          0.1458,
          0.1817
         ],
         "textposition": "outside",
         "texttemplate": "%{text:.2%}",
         "type": "bar",
         "visible": false,
         "x": [
          222,
          436,
          484,
          556,
          813,
          1547,
          1602,
          1602,
          1624,
          1632,
          1662,
          2746,
          3202,
          3312,
          4383,
          7678,
          9589,
          12282,
          12780,
          15283,
          17942,
          21976,
          27385
         ],
         "y": [
          "Dart",
          "Rust",
          "F#",
          "Clojure",
          "Haskell",
          "Go",
          "Matlab",
          "Scala",
          "Perl",
          "R",
          "Coffeescript",
          "Swift",
          "Objective-C",
          "Visual Basic",
          "Ruby",
          "C",
          "C++",
          "Python",
          "Php",
          "C#",
          "Java",
          "Sql",
          "Javascript"
         ]
        },
        {
         "hovertemplate": "<b>%{y}</b><br><br>Count: %{x:.d} <br>Percentage: %{text:.2%}<br><extra></extra>",
         "insidetextanchor": "end",
         "marker": {
          "color": "rgb(255, 231, 169)"
         },
         "name": "2017",
         "orientation": "h",
         "text": [
          0.0008,
          0.001,
          0.001,
          0.002,
          0.002,
          0.0024,
          0.0027,
          0.0028,
          0.003,
          0.0033,
          0.0047,
          0.0075,
          0.0077,
          0.0086,
          0.0086,
          0.0094,
          0.0112,
          0.0113,
          0.0114,
          0.0114,
          0.0118,
          0.0131,
          0.0164,
          0.0169,
          0.0171,
          0.024,
          0.0252,
          0.0503,
          0.0588,
          0.0742,
          0.0844,
          0.09,
          0.1047,
          0.1352,
          0.165
         ],
         "textposition": "outside",
         "texttemplate": "%{text:.2%}",
         "type": "bar",
         "visible": false,
         "x": [
          107,
          138,
          145,
          273,
          281,
          327,
          380,
          391,
          416,
          457,
          649,
          1039,
          1071,
          1192,
          1193,
          1309,
          1557,
          1569,
          1574,
          1585,
          1634,
          1823,
          2273,
          2349,
          2368,
          3324,
          3488,
          6974,
          8155,
          10290,
          11704,
          12476,
          14524,
          18754,
          22875
         ],
         "y": [
          "Hack",
          "Julia",
          "Dart",
          "Common Lisp",
          "Erlang",
          "Smalltalk",
          "Elixir",
          "Clojure",
          "Rust",
          "F#",
          "Haskell",
          "Lua",
          "Visual Basic 6",
          "Coffeescript",
          "Groovy",
          "Scala",
          "Go",
          "Matlab",
          "Vba",
          "Perl",
          "R",
          "Assembly",
          "Vb.Net",
          "Objective-C",
          "Swift",
          "Ruby",
          "Typescript",
          "C",
          "C++",
          "Php",
          "Python",
          "C#",
          "Java",
          "Sql",
          "Javascript"
         ]
        },
        {
         "hovertemplate": "<b>%{y}</b><br><br>Count: %{x:.d} <br>Percentage: %{text:.2%}<br><extra></extra>",
         "insidetextanchor": "end",
         "marker": {
          "color": "rgb(255, 231, 169)"
         },
         "name": "2018",
         "orientation": "h",
         "text": [
          0.0005,
          0.0008,
          0.0009,
          0.0011,
          0.0017,
          0.002,
          0.0021,
          0.0036,
          0.0038,
          0.0039,
          0.0039,
          0.005,
          0.0053,
          0.0059,
          0.0063,
          0.0065,
          0.0066,
          0.0068,
          0.0073,
          0.0088,
          0.0093,
          0.0101,
          0.0106,
          0.0107,
          0.0111,
          0.0122,
          0.0152,
          0.0263,
          0.0348,
          0.0383,
          0.0464,
          0.0519,
          0.0585,
          0.0601,
          0.0601,
          0.0685,
          0.0861,
          0.0983,
          0.1034,
          0.1054
         ],
         "textposition": "outside",
         "texttemplate": "%{text:.2%}",
         "type": "bar",
         "visible": false,
         "x": [
          254,
          430,
          470,
          590,
          886,
          1032,
          1115,
          1857,
          1961,
          2025,
          2025,
          2603,
          2733,
          3087,
          3280,
          3373,
          3420,
          3508,
          3810,
          4564,
          4813,
          5254,
          5510,
          5532,
          5760,
          6310,
          7911,
          13626,
          18042,
          19872,
          24071,
          26954,
          30359,
          31172,
          31172,
          35521,
          44670,
          50979,
          53628,
          54686
         ],
         "y": [
          "Hack",
          "Julia",
          "Ocaml",
          "Cobol",
          "Erlang",
          "Clojure",
          "F#",
          "Rust",
          "Haskell",
          "Delphi",
          "Object Pascal",
          "Coffeescript",
          "Lua",
          "Visual Basic 6",
          "Perl",
          "Groovy",
          "Scala",
          "Kotlin",
          "Vba",
          "Matlab",
          "R",
          "Vb.Net",
          "Objective-C",
          "Go",
          "Assembly",
          "Swift",
          "Ruby",
          "Typescript",
          "C",
          "C++",
          "Php",
          "C#",
          "Python",
          "Bash",
          "Shell",
          "Java",
          "Sql",
          "Css",
          "Html",
          "Javascript"
         ]
        },
        {
         "hovertemplate": "<b>%{y}</b><br><br>Count: %{x:.d} <br>Percentage: %{text:.2%}<br><extra></extra>",
         "insidetextanchor": "end",
         "marker": {
          "color": "rgb(255, 231, 169)"
         },
         "name": "2019",
         "orientation": "h",
         "text": [
          0.0015,
          0.0019,
          0.002,
          0.0024,
          0.0024,
          0.0032,
          0.0054,
          0.0064,
          0.0081,
          0.0092,
          0.0097,
          0.0108,
          0.011,
          0.0112,
          0.0138,
          0.0141,
          0.0346,
          0.0356,
          0.0395,
          0.0443,
          0.0521,
          0.0615,
          0.0615,
          0.0691,
          0.0701,
          0.0914,
          0.1067,
          0.1067,
          0.1139
         ],
         "textposition": "outside",
         "texttemplate": "%{text:.2%}",
         "type": "bar",
         "visible": false,
         "x": [
          777,
          973,
          1015,
          1254,
          1260,
          1683,
          2794,
          3309,
          4191,
          4781,
          5048,
          5620,
          5744,
          5833,
          7201,
          7331,
          18017,
          18523,
          20524,
          23030,
          27097,
          31991,
          31991,
          35917,
          36443,
          47544,
          55466,
          55466,
          59219
         ],
         "y": [
          "Erlang",
          "F#",
          "Webassembly",
          "Clojure",
          "Elixir",
          "Dart",
          "Rust",
          "Scala",
          "Objective-C",
          "Vba",
          "R",
          "Kotlin",
          "Swift",
          "Assembly",
          "Go",
          "Ruby",
          "C",
          "Typescript",
          "C++",
          "Php",
          "C#",
          "Bash",
          "Shell",
          "Java",
          "Python",
          "Sql",
          "Css",
          "Html",
          "Javascript"
         ]
        },
        {
         "hovertemplate": "<b>%{y}</b><br><br>Count: %{x:.d} <br>Percentage: %{text:.2%}<br><extra></extra>",
         "insidetextanchor": "end",
         "marker": {
          "color": "rgb(255, 231, 169)"
         },
         "name": "2020",
         "orientation": "h",
         "text": [
          0.0015,
          0.0036,
          0.0052,
          0.006,
          0.0066,
          0.0068,
          0.0085,
          0.0096,
          0.0099,
          0.0102,
          0.0104,
          0.0118,
          0.013,
          0.0147,
          0.0364,
          0.0399,
          0.0425,
          0.0437,
          0.0526,
          0.0553,
          0.0553,
          0.0672,
          0.0737,
          0.0915,
          0.1054,
          0.1054,
          0.1131
         ],
         "textposition": "outside",
         "texttemplate": "%{text:.2%}",
         "type": "bar",
         "visible": false,
         "x": [
          519,
          1222,
          1796,
          2052,
          2280,
          2340,
          2929,
          3288,
          3397,
          3499,
          3553,
          4046,
          4468,
          5038,
          12487,
          13707,
          14578,
          15007,
          18041,
          18980,
          18980,
          23074,
          25287,
          31413,
          36181,
          36181,
          38822
         ],
         "y": [
          "Julia",
          "Haskell",
          "Perl",
          "Scala",
          "Dart",
          "Objective-C",
          "Rust",
          "R",
          "Swift",
          "Vba",
          "Assembly",
          "Ruby",
          "Kotlin",
          "Go",
          "C",
          "C++",
          "Typescript",
          "Php",
          "C#",
          "Bash",
          "Shell",
          "Java",
          "Python",
          "Sql",
          "Css",
          "Html",
          "Javascript"
         ]
        }
       ],
       "layout": {
        "autosize": true,
        "margin": {
         "l": 140
        },
        "plot_bgcolor": "rgba(0, 0, 0, 0)",
        "sliders": [
         {
          "active": 0,
          "currentvalue": {
           "prefix": "Year: "
          },
          "steps": [
           {
            "args": [
             {
              "visible": [
               true,
               false,
               false,
               false,
               false,
               false,
               false,
               false,
               false,
               false
              ]
             },
             {
              "title.text": "Programming Languages Distribution - 2011"
             },
             {
              "frame": {
               "duration": 300,
               "redraw": true
              },
              "mode": "immediate",
              "transition": {
               "duration": 500
              }
             }
            ],
            "label": "2011",
            "method": "update"
           },
           {
            "args": [
             {
              "visible": [
               false,
               true,
               false,
               false,
               false,
               false,
               false,
               false,
               false,
               false
              ]
             },
             {
              "title.text": "Programming Languages Distribution - 2012"
             },
             {
              "frame": {
               "duration": 300,
               "redraw": true
              },
              "mode": "immediate",
              "transition": {
               "duration": 500
              }
             }
            ],
            "label": "2012",
            "method": "update"
           },
           {
            "args": [
             {
              "visible": [
               false,
               false,
               true,
               false,
               false,
               false,
               false,
               false,
               false,
               false
              ]
             },
             {
              "title.text": "Programming Languages Distribution - 2013"
             },
             {
              "frame": {
               "duration": 300,
               "redraw": true
              },
              "mode": "immediate",
              "transition": {
               "duration": 500
              }
             }
            ],
            "label": "2013",
            "method": "update"
           },
           {
            "args": [
             {
              "visible": [
               false,
               false,
               false,
               true,
               false,
               false,
               false,
               false,
               false,
               false
              ]
             },
             {
              "title.text": "Programming Languages Distribution - 2014"
             },
             {
              "frame": {
               "duration": 300,
               "redraw": true
              },
              "mode": "immediate",
              "transition": {
               "duration": 500
              }
             }
            ],
            "label": "2014",
            "method": "update"
           },
           {
            "args": [
             {
              "visible": [
               false,
               false,
               false,
               false,
               true,
               false,
               false,
               false,
               false,
               false
              ]
             },
             {
              "title.text": "Programming Languages Distribution - 2015"
             },
             {
              "frame": {
               "duration": 300,
               "redraw": true
              },
              "mode": "immediate",
              "transition": {
               "duration": 500
              }
             }
            ],
            "label": "2015",
            "method": "update"
           },
           {
            "args": [
             {
              "visible": [
               false,
               false,
               false,
               false,
               false,
               true,
               false,
               false,
               false,
               false
              ]
             },
             {
              "title.text": "Programming Languages Distribution - 2016"
             },
             {
              "frame": {
               "duration": 300,
               "redraw": true
              },
              "mode": "immediate",
              "transition": {
               "duration": 500
              }
             }
            ],
            "label": "2016",
            "method": "update"
           },
           {
            "args": [
             {
              "visible": [
               false,
               false,
               false,
               false,
               false,
               false,
               true,
               false,
               false,
               false
              ]
             },
             {
              "title.text": "Programming Languages Distribution - 2017"
             },
             {
              "frame": {
               "duration": 300,
               "redraw": true
              },
              "mode": "immediate",
              "transition": {
               "duration": 500
              }
             }
            ],
            "label": "2017",
            "method": "update"
           },
           {
            "args": [
             {
              "visible": [
               false,
               false,
               false,
               false,
               false,
               false,
               false,
               true,
               false,
               false
              ]
             },
             {
              "title.text": "Programming Languages Distribution - 2018"
             },
             {
              "frame": {
               "duration": 300,
               "redraw": true
              },
              "mode": "immediate",
              "transition": {
               "duration": 500
              }
             }
            ],
            "label": "2018",
            "method": "update"
           },
           {
            "args": [
             {
              "visible": [
               false,
               false,
               false,
               false,
               false,
               false,
               false,
               false,
               true,
               false
              ]
             },
             {
              "title.text": "Programming Languages Distribution - 2019"
             },
             {
              "frame": {
               "duration": 300,
               "redraw": true
              },
              "mode": "immediate",
              "transition": {
               "duration": 500
              }
             }
            ],
            "label": "2019",
            "method": "update"
           },
           {
            "args": [
             {
              "visible": [
               false,
               false,
               false,
               false,
               false,
               false,
               false,
               false,
               false,
               true
              ]
             },
             {
              "title.text": "Programming Languages Distribution - 2020"
             },
             {
              "frame": {
               "duration": 300,
               "redraw": true
              },
              "mode": "immediate",
              "transition": {
               "duration": 500
              }
             }
            ],
            "label": "2020",
            "method": "update"
           }
          ],
          "transition": {
           "duration": 300,
           "easing": "cubic-in-out"
          }
         }
        ],
        "template": {
         "data": {
          "bar": [
           {
            "error_x": {
             "color": "#2a3f5f"
            },
            "error_y": {
             "color": "#2a3f5f"
            },
            "marker": {
             "line": {
              "color": "#E5ECF6",
              "width": 0.5
             }
            },
            "type": "bar"
           }
          ],
          "barpolar": [
           {
            "marker": {
             "line": {
              "color": "#E5ECF6",
              "width": 0.5
             }
            },
            "type": "barpolar"
           }
          ],
          "carpet": [
           {
            "aaxis": {
             "endlinecolor": "#2a3f5f",
             "gridcolor": "white",
             "linecolor": "white",
             "minorgridcolor": "white",
             "startlinecolor": "#2a3f5f"
            },
            "baxis": {
             "endlinecolor": "#2a3f5f",
             "gridcolor": "white",
             "linecolor": "white",
             "minorgridcolor": "white",
             "startlinecolor": "#2a3f5f"
            },
            "type": "carpet"
           }
          ],
          "choropleth": [
           {
            "colorbar": {
             "outlinewidth": 0,
             "ticks": ""
            },
            "type": "choropleth"
           }
          ],
          "contour": [
           {
            "colorbar": {
             "outlinewidth": 0,
             "ticks": ""
            },
            "colorscale": [
             [
              0,
              "#0d0887"
             ],
             [
              0.1111111111111111,
              "#46039f"
             ],
             [
              0.2222222222222222,
              "#7201a8"
             ],
             [
              0.3333333333333333,
              "#9c179e"
             ],
             [
              0.4444444444444444,
              "#bd3786"
             ],
             [
              0.5555555555555556,
              "#d8576b"
             ],
             [
              0.6666666666666666,
              "#ed7953"
             ],
             [
              0.7777777777777778,
              "#fb9f3a"
             ],
             [
              0.8888888888888888,
              "#fdca26"
             ],
             [
              1,
              "#f0f921"
             ]
            ],
            "type": "contour"
           }
          ],
          "contourcarpet": [
           {
            "colorbar": {
             "outlinewidth": 0,
             "ticks": ""
            },
            "type": "contourcarpet"
           }
          ],
          "heatmap": [
           {
            "colorbar": {
             "outlinewidth": 0,
             "ticks": ""
            },
            "colorscale": [
             [
              0,
              "#0d0887"
             ],
             [
              0.1111111111111111,
              "#46039f"
             ],
             [
              0.2222222222222222,
              "#7201a8"
             ],
             [
              0.3333333333333333,
              "#9c179e"
             ],
             [
              0.4444444444444444,
              "#bd3786"
             ],
             [
              0.5555555555555556,
              "#d8576b"
             ],
             [
              0.6666666666666666,
              "#ed7953"
             ],
             [
              0.7777777777777778,
              "#fb9f3a"
             ],
             [
              0.8888888888888888,
              "#fdca26"
             ],
             [
              1,
              "#f0f921"
             ]
            ],
            "type": "heatmap"
           }
          ],
          "heatmapgl": [
           {
            "colorbar": {
             "outlinewidth": 0,
             "ticks": ""
            },
            "colorscale": [
             [
              0,
              "#0d0887"
             ],
             [
              0.1111111111111111,
              "#46039f"
             ],
             [
              0.2222222222222222,
              "#7201a8"
             ],
             [
              0.3333333333333333,
              "#9c179e"
             ],
             [
              0.4444444444444444,
              "#bd3786"
             ],
             [
              0.5555555555555556,
              "#d8576b"
             ],
             [
              0.6666666666666666,
              "#ed7953"
             ],
             [
              0.7777777777777778,
              "#fb9f3a"
             ],
             [
              0.8888888888888888,
              "#fdca26"
             ],
             [
              1,
              "#f0f921"
             ]
            ],
            "type": "heatmapgl"
           }
          ],
          "histogram": [
           {
            "marker": {
             "colorbar": {
              "outlinewidth": 0,
              "ticks": ""
             }
            },
            "type": "histogram"
           }
          ],
          "histogram2d": [
           {
            "colorbar": {
             "outlinewidth": 0,
             "ticks": ""
            },
            "colorscale": [
             [
              0,
              "#0d0887"
             ],
             [
              0.1111111111111111,
              "#46039f"
             ],
             [
              0.2222222222222222,
              "#7201a8"
             ],
             [
              0.3333333333333333,
              "#9c179e"
             ],
             [
              0.4444444444444444,
              "#bd3786"
             ],
             [
              0.5555555555555556,
              "#d8576b"
             ],
             [
              0.6666666666666666,
              "#ed7953"
             ],
             [
              0.7777777777777778,
              "#fb9f3a"
             ],
             [
              0.8888888888888888,
              "#fdca26"
             ],
             [
              1,
              "#f0f921"
             ]
            ],
            "type": "histogram2d"
           }
          ],
          "histogram2dcontour": [
           {
            "colorbar": {
             "outlinewidth": 0,
             "ticks": ""
            },
            "colorscale": [
             [
              0,
              "#0d0887"
             ],
             [
              0.1111111111111111,
              "#46039f"
             ],
             [
              0.2222222222222222,
              "#7201a8"
             ],
             [
              0.3333333333333333,
              "#9c179e"
             ],
             [
              0.4444444444444444,
              "#bd3786"
             ],
             [
              0.5555555555555556,
              "#d8576b"
             ],
             [
              0.6666666666666666,
              "#ed7953"
             ],
             [
              0.7777777777777778,
              "#fb9f3a"
             ],
             [
              0.8888888888888888,
              "#fdca26"
             ],
             [
              1,
              "#f0f921"
             ]
            ],
            "type": "histogram2dcontour"
           }
          ],
          "mesh3d": [
           {
            "colorbar": {
             "outlinewidth": 0,
             "ticks": ""
            },
            "type": "mesh3d"
           }
          ],
          "parcoords": [
           {
            "line": {
             "colorbar": {
              "outlinewidth": 0,
              "ticks": ""
             }
            },
            "type": "parcoords"
           }
          ],
          "pie": [
           {
            "automargin": true,
            "type": "pie"
           }
          ],
          "scatter": [
           {
            "marker": {
             "colorbar": {
              "outlinewidth": 0,
              "ticks": ""
             }
            },
            "type": "scatter"
           }
          ],
          "scatter3d": [
           {
            "line": {
             "colorbar": {
              "outlinewidth": 0,
              "ticks": ""
             }
            },
            "marker": {
             "colorbar": {
              "outlinewidth": 0,
              "ticks": ""
             }
            },
            "type": "scatter3d"
           }
          ],
          "scattercarpet": [
           {
            "marker": {
             "colorbar": {
              "outlinewidth": 0,
              "ticks": ""
             }
            },
            "type": "scattercarpet"
           }
          ],
          "scattergeo": [
           {
            "marker": {
             "colorbar": {
              "outlinewidth": 0,
              "ticks": ""
             }
            },
            "type": "scattergeo"
           }
          ],
          "scattergl": [
           {
            "marker": {
             "colorbar": {
              "outlinewidth": 0,
              "ticks": ""
             }
            },
            "type": "scattergl"
           }
          ],
          "scattermapbox": [
           {
            "marker": {
             "colorbar": {
              "outlinewidth": 0,
              "ticks": ""
             }
            },
            "type": "scattermapbox"
           }
          ],
          "scatterpolar": [
           {
            "marker": {
             "colorbar": {
              "outlinewidth": 0,
              "ticks": ""
             }
            },
            "type": "scatterpolar"
           }
          ],
          "scatterpolargl": [
           {
            "marker": {
             "colorbar": {
              "outlinewidth": 0,
              "ticks": ""
             }
            },
            "type": "scatterpolargl"
           }
          ],
          "scatterternary": [
           {
            "marker": {
             "colorbar": {
              "outlinewidth": 0,
              "ticks": ""
             }
            },
            "type": "scatterternary"
           }
          ],
          "surface": [
           {
            "colorbar": {
             "outlinewidth": 0,
             "ticks": ""
            },
            "colorscale": [
             [
              0,
              "#0d0887"
             ],
             [
              0.1111111111111111,
              "#46039f"
             ],
             [
              0.2222222222222222,
              "#7201a8"
             ],
             [
              0.3333333333333333,
              "#9c179e"
             ],
             [
              0.4444444444444444,
              "#bd3786"
             ],
             [
              0.5555555555555556,
              "#d8576b"
             ],
             [
              0.6666666666666666,
              "#ed7953"
             ],
             [
              0.7777777777777778,
              "#fb9f3a"
             ],
             [
              0.8888888888888888,
              "#fdca26"
             ],
             [
              1,
              "#f0f921"
             ]
            ],
            "type": "surface"
           }
          ],
          "table": [
           {
            "cells": {
             "fill": {
              "color": "#EBF0F8"
             },
             "line": {
              "color": "white"
             }
            },
            "header": {
             "fill": {
              "color": "#C8D4E3"
             },
             "line": {
              "color": "white"
             }
            },
            "type": "table"
           }
          ]
         },
         "layout": {
          "annotationdefaults": {
           "arrowcolor": "#2a3f5f",
           "arrowhead": 0,
           "arrowwidth": 1
          },
          "coloraxis": {
           "colorbar": {
            "outlinewidth": 0,
            "ticks": ""
           }
          },
          "colorscale": {
           "diverging": [
            [
             0,
             "#8e0152"
            ],
            [
             0.1,
             "#c51b7d"
            ],
            [
             0.2,
             "#de77ae"
            ],
            [
             0.3,
             "#f1b6da"
            ],
            [
             0.4,
             "#fde0ef"
            ],
            [
             0.5,
             "#f7f7f7"
            ],
            [
             0.6,
             "#e6f5d0"
            ],
            [
             0.7,
             "#b8e186"
            ],
            [
             0.8,
             "#7fbc41"
            ],
            [
             0.9,
             "#4d9221"
            ],
            [
             1,
             "#276419"
            ]
           ],
           "sequential": [
            [
             0,
             "#0d0887"
            ],
            [
             0.1111111111111111,
             "#46039f"
            ],
            [
             0.2222222222222222,
             "#7201a8"
            ],
            [
             0.3333333333333333,
             "#9c179e"
            ],
            [
             0.4444444444444444,
             "#bd3786"
            ],
            [
             0.5555555555555556,
             "#d8576b"
            ],
            [
             0.6666666666666666,
             "#ed7953"
            ],
            [
             0.7777777777777778,
             "#fb9f3a"
            ],
            [
             0.8888888888888888,
             "#fdca26"
            ],
            [
             1,
             "#f0f921"
            ]
           ],
           "sequentialminus": [
            [
             0,
             "#0d0887"
            ],
            [
             0.1111111111111111,
             "#46039f"
            ],
            [
             0.2222222222222222,
             "#7201a8"
            ],
            [
             0.3333333333333333,
             "#9c179e"
            ],
            [
             0.4444444444444444,
             "#bd3786"
            ],
            [
             0.5555555555555556,
             "#d8576b"
            ],
            [
             0.6666666666666666,
             "#ed7953"
            ],
            [
             0.7777777777777778,
             "#fb9f3a"
            ],
            [
             0.8888888888888888,
             "#fdca26"
            ],
            [
             1,
             "#f0f921"
            ]
           ]
          },
          "colorway": [
           "#636efa",
           "#EF553B",
           "#00cc96",
           "#ab63fa",
           "#FFA15A",
           "#19d3f3",
           "#FF6692",
           "#B6E880",
           "#FF97FF",
           "#FECB52"
          ],
          "font": {
           "color": "#2a3f5f"
          },
          "geo": {
           "bgcolor": "white",
           "lakecolor": "white",
           "landcolor": "#E5ECF6",
           "showlakes": true,
           "showland": true,
           "subunitcolor": "white"
          },
          "hoverlabel": {
           "align": "left"
          },
          "hovermode": "closest",
          "mapbox": {
           "style": "light"
          },
          "paper_bgcolor": "white",
          "plot_bgcolor": "#E5ECF6",
          "polar": {
           "angularaxis": {
            "gridcolor": "white",
            "linecolor": "white",
            "ticks": ""
           },
           "bgcolor": "#E5ECF6",
           "radialaxis": {
            "gridcolor": "white",
            "linecolor": "white",
            "ticks": ""
           }
          },
          "scene": {
           "xaxis": {
            "backgroundcolor": "#E5ECF6",
            "gridcolor": "white",
            "gridwidth": 2,
            "linecolor": "white",
            "showbackground": true,
            "ticks": "",
            "zerolinecolor": "white"
           },
           "yaxis": {
            "backgroundcolor": "#E5ECF6",
            "gridcolor": "white",
            "gridwidth": 2,
            "linecolor": "white",
            "showbackground": true,
            "ticks": "",
            "zerolinecolor": "white"
           },
           "zaxis": {
            "backgroundcolor": "#E5ECF6",
            "gridcolor": "white",
            "gridwidth": 2,
            "linecolor": "white",
            "showbackground": true,
            "ticks": "",
            "zerolinecolor": "white"
           }
          },
          "shapedefaults": {
           "line": {
            "color": "#2a3f5f"
           }
          },
          "ternary": {
           "aaxis": {
            "gridcolor": "white",
            "linecolor": "white",
            "ticks": ""
           },
           "baxis": {
            "gridcolor": "white",
            "linecolor": "white",
            "ticks": ""
           },
           "bgcolor": "#E5ECF6",
           "caxis": {
            "gridcolor": "white",
            "linecolor": "white",
            "ticks": ""
           }
          },
          "title": {
           "x": 0.05
          },
          "xaxis": {
           "automargin": true,
           "gridcolor": "white",
           "linecolor": "white",
           "ticks": "",
           "title": {
            "standoff": 15
           },
           "zerolinecolor": "white",
           "zerolinewidth": 2
          },
          "yaxis": {
           "automargin": true,
           "gridcolor": "white",
           "linecolor": "white",
           "ticks": "",
           "title": {
            "standoff": 15
           },
           "zerolinecolor": "white",
           "zerolinewidth": 2
          }
         }
        },
        "title": {
         "text": "Programming Languages Distribution - 2011",
         "x": 0.5,
         "xanchor": "center",
         "yanchor": "top"
        },
        "xaxis": {
         "autorange": true,
         "range": [
          0,
          1697.8947368421052
         ],
         "tickformat": "digit",
         "type": "linear",
         "visible": false
        },
        "yaxis": {
         "autorange": true,
         "range": [
          -0.5,
          10.5
         ],
         "tickcolor": "white",
         "ticklen": 8,
         "ticks": "outside",
         "type": "category"
        }
       }
      },
      "image/png": "[encoded data removed]",
      "text/html": [
       "<div>\n",
       "        \n",
       "        \n",
       "            <div id=\"d2ca39b1-c60a-446f-ac38-3ea3900d4bfb\" class=\"plotly-graph-div\" style=\"height:525px; width:100%;\"></div>\n",
       "            <script type=\"text/javascript\">\n",
       "                require([\"plotly\"], function(Plotly) {\n",
       "                    window.PLOTLYENV=window.PLOTLYENV || {};\n",
       "                    \n",
       "                if (document.getElementById(\"d2ca39b1-c60a-446f-ac38-3ea3900d4bfb\")) {\n",
       "                    Plotly.newPlot(\n",
       "                        'd2ca39b1-c60a-446f-ac38-3ea3900d4bfb',\n",
       "                        [{\"hovertemplate\": \"<b>%{y}</b><br><br>Count: %{x:.d} <br>Percentage: %{text:.2%}<br><extra></extra>\", \"insidetextanchor\": \"end\", \"marker\": {\"color\": \"rgb(255, 231, 169)\"}, \"name\": \"2011\", \"orientation\": \"h\", \"text\": [0.0284, 0.0285, 0.0574, 0.0739, 0.074, 0.0787, 0.086, 0.135, 0.1354, 0.1417, 0.1611], \"textposition\": \"outside\", \"texttemplate\": \"%{text:.2%}\", \"type\": \"bar\", \"visible\": false, \"x\": [284, 285, 575, 740, 741, 788, 861, 1352, 1356, 1419, 1613], \"y\": [\"Perl\", \"Ruby\", \"Python\", \"C++\", \"C\", \"Php\", \"Java\", \"C#\", \"Css\", \"Javascript\", \"Sql\"]}, {\"hovertemplate\": \"<b>%{y}</b><br><br>Count: %{x:.d} <br>Percentage: %{text:.2%}<br><extra></extra>\", \"insidetextanchor\": \"end\", \"marker\": {\"color\": \"rgb(255, 231, 169)\"}, \"name\": \"2012\", \"orientation\": \"h\", \"text\": [0.0192, 0.024, 0.0252, 0.0504, 0.0618, 0.0636, 0.0802, 0.0897, 0.0978, 0.1028, 0.1177, 0.1303, 0.1372], \"textposition\": \"outside\", \"texttemplate\": \"%{text:.2%}\", \"type\": \"bar\", \"visible\": false, \"x\": [461, 577, 605, 1210, 1484, 1526, 1925, 2154, 2348, 2468, 2824, 3127, 3294], \"y\": [\"Perl\", \"Ruby\", \"Objective-C\", \"Python\", \"C\", \"C++\", \"Php\", \"Html5\", \"Java\", \"C#\", \"Css\", \"Javascript\", \"Sql\"]}, {\"hovertemplate\": \"<b>%{y}</b><br><br>Count: %{x:.d} <br>Percentage: %{text:.2%}<br><extra></extra>\", \"insidetextanchor\": \"end\", \"marker\": {\"color\": \"rgb(255, 231, 169)\"}, \"name\": \"2013\", \"orientation\": \"h\", \"text\": [0.0325, 0.039, 0.0587, 0.0693, 0.0769, 0.095, 0.1235, 0.1238, 0.1878, 0.1936], \"textposition\": \"outside\", \"texttemplate\": \"%{text:.2%}\", \"type\": \"bar\", \"visible\": false, \"x\": [794, 955, 1436, 1696, 1880, 2324, 3020, 3027, 4593, 4735], \"y\": [\"Ruby\", \"Objective-C\", \"C\", \"C++\", \"Python\", \"Php\", \"Java\", \"C#\", \"Sql\", \"Javascript\"]}, {\"hovertemplate\": \"<b>%{y}</b><br><br>Count: %{x:.d} <br>Percentage: %{text:.2%}<br><extra></extra>\", \"insidetextanchor\": \"end\", \"marker\": {\"color\": \"rgb(255, 231, 169)\"}, \"name\": \"2014\", \"orientation\": \"h\", \"text\": [0.031, 0.0352, 0.0613, 0.074, 0.0769, 0.0893, 0.1242, 0.1295, 0.181, 0.1975], \"textposition\": \"outside\", \"texttemplate\": \"%{text:.2%}\", \"type\": \"bar\", \"visible\": false, \"x\": [593, 675, 1174, 1418, 1473, 1710, 2378, 2479, 3467, 3783], \"y\": [\"Ruby\", \"Objective-C\", \"C\", \"C++\", \"Python\", \"Php\", \"C#\", \"Java\", \"Sql\", \"Javascript\"]}, {\"hovertemplate\": \"<b>%{y}</b><br><br>Count: %{x:.d} <br>Percentage: %{text:.2%}<br><extra></extra>\", \"insidetextanchor\": \"end\", \"marker\": {\"color\": \"rgb(255, 231, 169)\"}, \"name\": \"2015\", \"orientation\": \"h\", \"text\": [0.0015, 0.0016, 0.0025, 0.0025, 0.0051, 0.0067, 0.0078, 0.0106, 0.0109, 0.0109, 0.0113, 0.0124, 0.0245, 0.0248, 0.0255, 0.0267, 0.0521, 0.0653, 0.0756, 0.0942, 0.1002, 0.1186, 0.1362, 0.1725], \"textposition\": \"outside\", \"texttemplate\": \"%{text:.2%}\", \"type\": \"bar\", \"visible\": false, \"x\": [103, 109, 174, 176, 357, 462, 538, 738, 755, 759, 783, 860, 1701, 1719, 1765, 1851, 3612, 4529, 5238, 6529, 6949, 8219, 9439, 11962], \"y\": [\"Rust\", \"Dart\", \"F#\", \"Clojure\", \"Haskell\", \"Go\", \"Scala\", \"Perl\", \"R\", \"Swift\", \"Coffeescript\", \"Matlab\", \"Visual Basic\", \"Objective-C\", \"Ruby\", \"C++11\", \"C\", \"C++\", \"Python\", \"Php\", \"C#\", \"Java\", \"Sql\", \"Javascript\"]}, {\"hovertemplate\": \"<b>%{y}</b><br><br>Count: %{x:.d} <br>Percentage: %{text:.2%}<br><extra></extra>\", \"insidetextanchor\": \"end\", \"marker\": {\"color\": \"rgb(255, 231, 169)\"}, \"name\": \"2016\", \"orientation\": \"h\", \"text\": [0.0015, 0.0029, 0.0032, 0.0037, 0.0054, 0.0103, 0.0106, 0.0106, 0.0108, 0.0108, 0.011, 0.0182, 0.0212, 0.022, 0.0291, 0.0509, 0.0636, 0.0815, 0.0848, 0.1014, 0.119, 0.1458, 0.1817], \"textposition\": \"outside\", \"texttemplate\": \"%{text:.2%}\", \"type\": \"bar\", \"visible\": false, \"x\": [222, 436, 484, 556, 813, 1547, 1602, 1602, 1624, 1632, 1662, 2746, 3202, 3312, 4383, 7678, 9589, 12282, 12780, 15283, 17942, 21976, 27385], \"y\": [\"Dart\", \"Rust\", \"F#\", \"Clojure\", \"Haskell\", \"Go\", \"Matlab\", \"Scala\", \"Perl\", \"R\", \"Coffeescript\", \"Swift\", \"Objective-C\", \"Visual Basic\", \"Ruby\", \"C\", \"C++\", \"Python\", \"Php\", \"C#\", \"Java\", \"Sql\", \"Javascript\"]}, {\"hovertemplate\": \"<b>%{y}</b><br><br>Count: %{x:.d} <br>Percentage: %{text:.2%}<br><extra></extra>\", \"insidetextanchor\": \"end\", \"marker\": {\"color\": \"rgb(255, 231, 169)\"}, \"name\": \"2017\", \"orientation\": \"h\", \"text\": [0.0008, 0.001, 0.001, 0.002, 0.002, 0.0024, 0.0027, 0.0028, 0.003, 0.0033, 0.0047, 0.0075, 0.0077, 0.0086, 0.0086, 0.0094, 0.0112, 0.0113, 0.0114, 0.0114, 0.0118, 0.0131, 0.0164, 0.0169, 0.0171, 0.024, 0.0252, 0.0503, 0.0588, 0.0742, 0.0844, 0.09, 0.1047, 0.1352, 0.165], \"textposition\": \"outside\", \"texttemplate\": \"%{text:.2%}\", \"type\": \"bar\", \"visible\": false, \"x\": [107, 138, 145, 273, 281, 327, 380, 391, 416, 457, 649, 1039, 1071, 1192, 1193, 1309, 1557, 1569, 1574, 1585, 1634, 1823, 2273, 2349, 2368, 3324, 3488, 6974, 8155, 10290, 11704, 12476, 14524, 18754, 22875], \"y\": [\"Hack\", \"Julia\", \"Dart\", \"Common Lisp\", \"Erlang\", \"Smalltalk\", \"Elixir\", \"Clojure\", \"Rust\", \"F#\", \"Haskell\", \"Lua\", \"Visual Basic 6\", \"Coffeescript\", \"Groovy\", \"Scala\", \"Go\", \"Matlab\", \"Vba\", \"Perl\", \"R\", \"Assembly\", \"Vb.Net\", \"Objective-C\", \"Swift\", \"Ruby\", \"Typescript\", \"C\", \"C++\", \"Php\", \"Python\", \"C#\", \"Java\", \"Sql\", \"Javascript\"]}, {\"hovertemplate\": \"<b>%{y}</b><br><br>Count: %{x:.d} <br>Percentage: %{text:.2%}<br><extra></extra>\", \"insidetextanchor\": \"end\", \"marker\": {\"color\": \"rgb(255, 231, 169)\"}, \"name\": \"2018\", \"orientation\": \"h\", \"text\": [0.0005, 0.0008, 0.0009, 0.0011, 0.0017, 0.002, 0.0021, 0.0036, 0.0038, 0.0039, 0.0039, 0.005, 0.0053, 0.0059, 0.0063, 0.0065, 0.0066, 0.0068, 0.0073, 0.0088, 0.0093, 0.0101, 0.0106, 0.0107, 0.0111, 0.0122, 0.0152, 0.0263, 0.0348, 0.0383, 0.0464, 0.0519, 0.0585, 0.0601, 0.0601, 0.0685, 0.0861, 0.0983, 0.1034, 0.1054], \"textposition\": \"outside\", \"texttemplate\": \"%{text:.2%}\", \"type\": \"bar\", \"visible\": false, \"x\": [254, 430, 470, 590, 886, 1032, 1115, 1857, 1961, 2025, 2025, 2603, 2733, 3087, 3280, 3373, 3420, 3508, 3810, 4564, 4813, 5254, 5510, 5532, 5760, 6310, 7911, 13626, 18042, 19872, 24071, 26954, 30359, 31172, 31172, 35521, 44670, 50979, 53628, 54686], \"y\": [\"Hack\", \"Julia\", \"Ocaml\", \"Cobol\", \"Erlang\", \"Clojure\", \"F#\", \"Rust\", \"Haskell\", \"Delphi\", \"Object Pascal\", \"Coffeescript\", \"Lua\", \"Visual Basic 6\", \"Perl\", \"Groovy\", \"Scala\", \"Kotlin\", \"Vba\", \"Matlab\", \"R\", \"Vb.Net\", \"Objective-C\", \"Go\", \"Assembly\", \"Swift\", \"Ruby\", \"Typescript\", \"C\", \"C++\", \"Php\", \"C#\", \"Python\", \"Bash\", \"Shell\", \"Java\", \"Sql\", \"Css\", \"Html\", \"Javascript\"]}, {\"hovertemplate\": \"<b>%{y}</b><br><br>Count: %{x:.d} <br>Percentage: %{text:.2%}<br><extra></extra>\", \"insidetextanchor\": \"end\", \"marker\": {\"color\": \"rgb(255, 231, 169)\"}, \"name\": \"2019\", \"orientation\": \"h\", \"text\": [0.0015, 0.0019, 0.002, 0.0024, 0.0024, 0.0032, 0.0054, 0.0064, 0.0081, 0.0092, 0.0097, 0.0108, 0.011, 0.0112, 0.0138, 0.0141, 0.0346, 0.0356, 0.0395, 0.0443, 0.0521, 0.0615, 0.0615, 0.0691, 0.0701, 0.0914, 0.1067, 0.1067, 0.1139], \"textposition\": \"outside\", \"texttemplate\": \"%{text:.2%}\", \"type\": \"bar\", \"visible\": false, \"x\": [777, 973, 1015, 1254, 1260, 1683, 2794, 3309, 4191, 4781, 5048, 5620, 5744, 5833, 7201, 7331, 18017, 18523, 20524, 23030, 27097, 31991, 31991, 35917, 36443, 47544, 55466, 55466, 59219], \"y\": [\"Erlang\", \"F#\", \"Webassembly\", \"Clojure\", \"Elixir\", \"Dart\", \"Rust\", \"Scala\", \"Objective-C\", \"Vba\", \"R\", \"Kotlin\", \"Swift\", \"Assembly\", \"Go\", \"Ruby\", \"C\", \"Typescript\", \"C++\", \"Php\", \"C#\", \"Bash\", \"Shell\", \"Java\", \"Python\", \"Sql\", \"Css\", \"Html\", \"Javascript\"]}, {\"hovertemplate\": \"<b>%{y}</b><br><br>Count: %{x:.d} <br>Percentage: %{text:.2%}<br><extra></extra>\", \"insidetextanchor\": \"end\", \"marker\": {\"color\": \"rgb(255, 231, 169)\"}, \"name\": \"2020\", \"orientation\": \"h\", \"text\": [0.0015, 0.0036, 0.0052, 0.006, 0.0066, 0.0068, 0.0085, 0.0096, 0.0099, 0.0102, 0.0104, 0.0118, 0.013, 0.0147, 0.0364, 0.0399, 0.0425, 0.0437, 0.0526, 0.0553, 0.0553, 0.0672, 0.0737, 0.0915, 0.1054, 0.1054, 0.1131], \"textposition\": \"outside\", \"texttemplate\": \"%{text:.2%}\", \"type\": \"bar\", \"visible\": true, \"x\": [519, 1222, 1796, 2052, 2280, 2340, 2929, 3288, 3397, 3499, 3553, 4046, 4468, 5038, 12487, 13707, 14578, 15007, 18041, 18980, 18980, 23074, 25287, 31413, 36181, 36181, 38822], \"y\": [\"Julia\", \"Haskell\", \"Perl\", \"Scala\", \"Dart\", \"Objective-C\", \"Rust\", \"R\", \"Swift\", \"Vba\", \"Assembly\", \"Ruby\", \"Kotlin\", \"Go\", \"C\", \"C++\", \"Typescript\", \"Php\", \"C#\", \"Bash\", \"Shell\", \"Java\", \"Python\", \"Sql\", \"Css\", \"Html\", \"Javascript\"]}],\n",
       "                        {\"margin\": {\"l\": 140}, \"plot_bgcolor\": \"rgba(0,0,0,0)\", \"sliders\": [{\"active\": 9, \"currentvalue\": {\"prefix\": \"Year: \"}, \"steps\": [{\"args\": [{\"visible\": [true, false, false, false, false, false, false, false, false, false]}, {\"title.text\": \"Programming Languages Distribution - 2011\"}, {\"frame\": {\"duration\": 300, \"redraw\": true}, \"mode\": \"immediate\", \"transition\": {\"duration\": 500}}], \"label\": \"2011\", \"method\": \"update\"}, {\"args\": [{\"visible\": [false, true, false, false, false, false, false, false, false, false]}, {\"title.text\": \"Programming Languages Distribution - 2012\"}, {\"frame\": {\"duration\": 300, \"redraw\": true}, \"mode\": \"immediate\", \"transition\": {\"duration\": 500}}], \"label\": \"2012\", \"method\": \"update\"}, {\"args\": [{\"visible\": [false, false, true, false, false, false, false, false, false, false]}, {\"title.text\": \"Programming Languages Distribution - 2013\"}, {\"frame\": {\"duration\": 300, \"redraw\": true}, \"mode\": \"immediate\", \"transition\": {\"duration\": 500}}], \"label\": \"2013\", \"method\": \"update\"}, {\"args\": [{\"visible\": [false, false, false, true, false, false, false, false, false, false]}, {\"title.text\": \"Programming Languages Distribution - 2014\"}, {\"frame\": {\"duration\": 300, \"redraw\": true}, \"mode\": \"immediate\", \"transition\": {\"duration\": 500}}], \"label\": \"2014\", \"method\": \"update\"}, {\"args\": [{\"visible\": [false, false, false, false, true, false, false, false, false, false]}, {\"title.text\": \"Programming Languages Distribution - 2015\"}, {\"frame\": {\"duration\": 300, \"redraw\": true}, \"mode\": \"immediate\", \"transition\": {\"duration\": 500}}], \"label\": \"2015\", \"method\": \"update\"}, {\"args\": [{\"visible\": [false, false, false, false, false, true, false, false, false, false]}, {\"title.text\": \"Programming Languages Distribution - 2016\"}, {\"frame\": {\"duration\": 300, \"redraw\": true}, \"mode\": \"immediate\", \"transition\": {\"duration\": 500}}], \"label\": \"2016\", \"method\": \"update\"}, {\"args\": [{\"visible\": [false, false, false, false, false, false, true, false, false, false]}, {\"title.text\": \"Programming Languages Distribution - 2017\"}, {\"frame\": {\"duration\": 300, \"redraw\": true}, \"mode\": \"immediate\", \"transition\": {\"duration\": 500}}], \"label\": \"2017\", \"method\": \"update\"}, {\"args\": [{\"visible\": [false, false, false, false, false, false, false, true, false, false]}, {\"title.text\": \"Programming Languages Distribution - 2018\"}, {\"frame\": {\"duration\": 300, \"redraw\": true}, \"mode\": \"immediate\", \"transition\": {\"duration\": 500}}], \"label\": \"2018\", \"method\": \"update\"}, {\"args\": [{\"visible\": [false, false, false, false, false, false, false, false, true, false]}, {\"title.text\": \"Programming Languages Distribution - 2019\"}, {\"frame\": {\"duration\": 300, \"redraw\": true}, \"mode\": \"immediate\", \"transition\": {\"duration\": 500}}], \"label\": \"2019\", \"method\": \"update\"}, {\"args\": [{\"visible\": [false, false, false, false, false, false, false, false, false, true]}, {\"title.text\": \"Programming Languages Distribution - 2020\"}, {\"frame\": {\"duration\": 300, \"redraw\": true}, \"mode\": \"immediate\", \"transition\": {\"duration\": 500}}], \"label\": \"2020\", \"method\": \"update\"}], \"transition\": {\"duration\": 300, \"easing\": \"cubic-in-out\"}}], \"template\": {\"data\": {\"bar\": [{\"error_x\": {\"color\": \"#2a3f5f\"}, \"error_y\": {\"color\": \"#2a3f5f\"}, \"marker\": {\"line\": {\"color\": \"#E5ECF6\", \"width\": 0.5}}, \"type\": \"bar\"}], \"barpolar\": [{\"marker\": {\"line\": {\"color\": \"#E5ECF6\", \"width\": 0.5}}, \"type\": \"barpolar\"}], \"carpet\": [{\"aaxis\": {\"endlinecolor\": \"#2a3f5f\", \"gridcolor\": \"white\", \"linecolor\": \"white\", \"minorgridcolor\": \"white\", \"startlinecolor\": \"#2a3f5f\"}, \"baxis\": {\"endlinecolor\": \"#2a3f5f\", \"gridcolor\": \"white\", \"linecolor\": \"white\", \"minorgridcolor\": \"white\", \"startlinecolor\": \"#2a3f5f\"}, \"type\": \"carpet\"}], \"choropleth\": [{\"colorbar\": {\"outlinewidth\": 0, \"ticks\": \"\"}, \"type\": \"choropleth\"}], \"contour\": [{\"colorbar\": {\"outlinewidth\": 0, \"ticks\": \"\"}, \"colorscale\": [[0.0, \"#0d0887\"], [0.1111111111111111, \"#46039f\"], [0.2222222222222222, \"#7201a8\"], [0.3333333333333333, \"#9c179e\"], [0.4444444444444444, \"#bd3786\"], [0.5555555555555556, \"#d8576b\"], [0.6666666666666666, \"#ed7953\"], [0.7777777777777778, \"#fb9f3a\"], [0.8888888888888888, \"#fdca26\"], [1.0, \"#f0f921\"]], \"type\": \"contour\"}], \"contourcarpet\": [{\"colorbar\": {\"outlinewidth\": 0, \"ticks\": \"\"}, \"type\": \"contourcarpet\"}], \"heatmap\": [{\"colorbar\": {\"outlinewidth\": 0, \"ticks\": \"\"}, \"colorscale\": [[0.0, \"#0d0887\"], [0.1111111111111111, \"#46039f\"], [0.2222222222222222, \"#7201a8\"], [0.3333333333333333, \"#9c179e\"], [0.4444444444444444, \"#bd3786\"], [0.5555555555555556, \"#d8576b\"], [0.6666666666666666, \"#ed7953\"], [0.7777777777777778, \"#fb9f3a\"], [0.8888888888888888, \"#fdca26\"], [1.0, \"#f0f921\"]], \"type\": \"heatmap\"}], \"heatmapgl\": [{\"colorbar\": {\"outlinewidth\": 0, \"ticks\": \"\"}, \"colorscale\": [[0.0, \"#0d0887\"], [0.1111111111111111, \"#46039f\"], [0.2222222222222222, \"#7201a8\"], [0.3333333333333333, \"#9c179e\"], [0.4444444444444444, \"#bd3786\"], [0.5555555555555556, \"#d8576b\"], [0.6666666666666666, \"#ed7953\"], [0.7777777777777778, \"#fb9f3a\"], [0.8888888888888888, \"#fdca26\"], [1.0, \"#f0f921\"]], \"type\": \"heatmapgl\"}], \"histogram\": [{\"marker\": {\"colorbar\": {\"outlinewidth\": 0, \"ticks\": \"\"}}, \"type\": \"histogram\"}], \"histogram2d\": [{\"colorbar\": {\"outlinewidth\": 0, \"ticks\": \"\"}, \"colorscale\": [[0.0, \"#0d0887\"], [0.1111111111111111, \"#46039f\"], [0.2222222222222222, \"#7201a8\"], [0.3333333333333333, \"#9c179e\"], [0.4444444444444444, \"#bd3786\"], [0.5555555555555556, \"#d8576b\"], [0.6666666666666666, \"#ed7953\"], [0.7777777777777778, \"#fb9f3a\"], [0.8888888888888888, \"#fdca26\"], [1.0, \"#f0f921\"]], \"type\": \"histogram2d\"}], \"histogram2dcontour\": [{\"colorbar\": {\"outlinewidth\": 0, \"ticks\": \"\"}, \"colorscale\": [[0.0, \"#0d0887\"], [0.1111111111111111, \"#46039f\"], [0.2222222222222222, \"#7201a8\"], [0.3333333333333333, \"#9c179e\"], [0.4444444444444444, \"#bd3786\"], [0.5555555555555556, \"#d8576b\"], [0.6666666666666666, \"#ed7953\"], [0.7777777777777778, \"#fb9f3a\"], [0.8888888888888888, \"#fdca26\"], [1.0, \"#f0f921\"]], \"type\": \"histogram2dcontour\"}], \"mesh3d\": [{\"colorbar\": {\"outlinewidth\": 0, \"ticks\": \"\"}, \"type\": \"mesh3d\"}], \"parcoords\": [{\"line\": {\"colorbar\": {\"outlinewidth\": 0, \"ticks\": \"\"}}, \"type\": \"parcoords\"}], \"pie\": [{\"automargin\": true, \"type\": \"pie\"}], \"scatter\": [{\"marker\": {\"colorbar\": {\"outlinewidth\": 0, \"ticks\": \"\"}}, \"type\": \"scatter\"}], \"scatter3d\": [{\"line\": {\"colorbar\": {\"outlinewidth\": 0, \"ticks\": \"\"}}, \"marker\": {\"colorbar\": {\"outlinewidth\": 0, \"ticks\": \"\"}}, \"type\": \"scatter3d\"}], \"scattercarpet\": [{\"marker\": {\"colorbar\": {\"outlinewidth\": 0, \"ticks\": \"\"}}, \"type\": \"scattercarpet\"}], \"scattergeo\": [{\"marker\": {\"colorbar\": {\"outlinewidth\": 0, \"ticks\": \"\"}}, \"type\": \"scattergeo\"}], \"scattergl\": [{\"marker\": {\"colorbar\": {\"outlinewidth\": 0, \"ticks\": \"\"}}, \"type\": \"scattergl\"}], \"scattermapbox\": [{\"marker\": {\"colorbar\": {\"outlinewidth\": 0, \"ticks\": \"\"}}, \"type\": \"scattermapbox\"}], \"scatterpolar\": [{\"marker\": {\"colorbar\": {\"outlinewidth\": 0, \"ticks\": \"\"}}, \"type\": \"scatterpolar\"}], \"scatterpolargl\": [{\"marker\": {\"colorbar\": {\"outlinewidth\": 0, \"ticks\": \"\"}}, \"type\": \"scatterpolargl\"}], \"scatterternary\": [{\"marker\": {\"colorbar\": {\"outlinewidth\": 0, \"ticks\": \"\"}}, \"type\": \"scatterternary\"}], \"surface\": [{\"colorbar\": {\"outlinewidth\": 0, \"ticks\": \"\"}, \"colorscale\": [[0.0, \"#0d0887\"], [0.1111111111111111, \"#46039f\"], [0.2222222222222222, \"#7201a8\"], [0.3333333333333333, \"#9c179e\"], [0.4444444444444444, \"#bd3786\"], [0.5555555555555556, \"#d8576b\"], [0.6666666666666666, \"#ed7953\"], [0.7777777777777778, \"#fb9f3a\"], [0.8888888888888888, \"#fdca26\"], [1.0, \"#f0f921\"]], \"type\": \"surface\"}], \"table\": [{\"cells\": {\"fill\": {\"color\": \"#EBF0F8\"}, \"line\": {\"color\": \"white\"}}, \"header\": {\"fill\": {\"color\": \"#C8D4E3\"}, \"line\": {\"color\": \"white\"}}, \"type\": \"table\"}]}, \"layout\": {\"annotationdefaults\": {\"arrowcolor\": \"#2a3f5f\", \"arrowhead\": 0, \"arrowwidth\": 1}, \"coloraxis\": {\"colorbar\": {\"outlinewidth\": 0, \"ticks\": \"\"}}, \"colorscale\": {\"diverging\": [[0, \"#8e0152\"], [0.1, \"#c51b7d\"], [0.2, \"#de77ae\"], [0.3, \"#f1b6da\"], [0.4, \"#fde0ef\"], [0.5, \"#f7f7f7\"], [0.6, \"#e6f5d0\"], [0.7, \"#b8e186\"], [0.8, \"#7fbc41\"], [0.9, \"#4d9221\"], [1, \"#276419\"]], \"sequential\": [[0.0, \"#0d0887\"], [0.1111111111111111, \"#46039f\"], [0.2222222222222222, \"#7201a8\"], [0.3333333333333333, \"#9c179e\"], [0.4444444444444444, \"#bd3786\"], [0.5555555555555556, \"#d8576b\"], [0.6666666666666666, \"#ed7953\"], [0.7777777777777778, \"#fb9f3a\"], [0.8888888888888888, \"#fdca26\"], [1.0, \"#f0f921\"]], \"sequentialminus\": [[0.0, \"#0d0887\"], [0.1111111111111111, \"#46039f\"], [0.2222222222222222, \"#7201a8\"], [0.3333333333333333, \"#9c179e\"], [0.4444444444444444, \"#bd3786\"], [0.5555555555555556, \"#d8576b\"], [0.6666666666666666, \"#ed7953\"], [0.7777777777777778, \"#fb9f3a\"], [0.8888888888888888, \"#fdca26\"], [1.0, \"#f0f921\"]]}, \"colorway\": [\"#636efa\", \"#EF553B\", \"#00cc96\", \"#ab63fa\", \"#FFA15A\", \"#19d3f3\", \"#FF6692\", \"#B6E880\", \"#FF97FF\", \"#FECB52\"], \"font\": {\"color\": \"#2a3f5f\"}, \"geo\": {\"bgcolor\": \"white\", \"lakecolor\": \"white\", \"landcolor\": \"#E5ECF6\", \"showlakes\": true, \"showland\": true, \"subunitcolor\": \"white\"}, \"hoverlabel\": {\"align\": \"left\"}, \"hovermode\": \"closest\", \"mapbox\": {\"style\": \"light\"}, \"paper_bgcolor\": \"white\", \"plot_bgcolor\": \"#E5ECF6\", \"polar\": {\"angularaxis\": {\"gridcolor\": \"white\", \"linecolor\": \"white\", \"ticks\": \"\"}, \"bgcolor\": \"#E5ECF6\", \"radialaxis\": {\"gridcolor\": \"white\", \"linecolor\": \"white\", \"ticks\": \"\"}}, \"scene\": {\"xaxis\": {\"backgroundcolor\": \"#E5ECF6\", \"gridcolor\": \"white\", \"gridwidth\": 2, \"linecolor\": \"white\", \"showbackground\": true, \"ticks\": \"\", \"zerolinecolor\": \"white\"}, \"yaxis\": {\"backgroundcolor\": \"#E5ECF6\", \"gridcolor\": \"white\", \"gridwidth\": 2, \"linecolor\": \"white\", \"showbackground\": true, \"ticks\": \"\", \"zerolinecolor\": \"white\"}, \"zaxis\": {\"backgroundcolor\": \"#E5ECF6\", \"gridcolor\": \"white\", \"gridwidth\": 2, \"linecolor\": \"white\", \"showbackground\": true, \"ticks\": \"\", \"zerolinecolor\": \"white\"}}, \"shapedefaults\": {\"line\": {\"color\": \"#2a3f5f\"}}, \"ternary\": {\"aaxis\": {\"gridcolor\": \"white\", \"linecolor\": \"white\", \"ticks\": \"\"}, \"baxis\": {\"gridcolor\": \"white\", \"linecolor\": \"white\", \"ticks\": \"\"}, \"bgcolor\": \"#E5ECF6\", \"caxis\": {\"gridcolor\": \"white\", \"linecolor\": \"white\", \"ticks\": \"\"}}, \"title\": {\"x\": 0.05}, \"xaxis\": {\"automargin\": true, \"gridcolor\": \"white\", \"linecolor\": \"white\", \"ticks\": \"\", \"title\": {\"standoff\": 15}, \"zerolinecolor\": \"white\", \"zerolinewidth\": 2}, \"yaxis\": {\"automargin\": true, \"gridcolor\": \"white\", \"linecolor\": \"white\", \"ticks\": \"\", \"title\": {\"standoff\": 15}, \"zerolinecolor\": \"white\", \"zerolinewidth\": 2}}}, \"title\": {\"text\": \"Programming Languages Distribution - 2020\", \"x\": 0.5, \"xanchor\": \"center\", \"yanchor\": \"top\"}, \"xaxis\": {\"tickformat\": \"digit\", \"visible\": false}, \"yaxis\": {\"tickcolor\": \"white\", \"ticklen\": 8, \"ticks\": \"outside\"}},\n",
       "                        {\"responsive\": true}\n",
       "                    ).then(function(){\n",
       "                            \n",
       "var gd = document.getElementById('d2ca39b1-c60a-446f-ac38-3ea3900d4bfb');\n",
       "var x = new MutationObserver(function (mutations, observer) {{\n",
       "        var display = window.getComputedStyle(gd).display;\n",
       "        if (!display || display === 'none') {{\n",
       "            console.log([gd, 'removed!']);\n",
       "            Plotly.purge(gd);\n",
       "            observer.disconnect();\n",
       "        }}\n",
       "}});\n",
       "\n",
       "// Listen for the removal of the full notebook cells\n",
       "var notebookContainer = gd.closest('#notebook-container');\n",
       "if (notebookContainer) {{\n",
       "    x.observe(notebookContainer, {childList: true});\n",
       "}}\n",
       "\n",
       "// Listen for the clearing of the current output cell\n",
       "var outputEl = gd.closest('.output');\n",
       "if (outputEl) {{\n",
       "    x.observe(outputEl, {childList: true});\n",
       "}}\n",
       "\n",
       "                        })\n",
       "                };\n",
       "                });\n",
       "            </script>\n",
       "        </div>"
      ]
     },
     "metadata": {},
     "output_type": "display_data"
    }
   ],
   "source": [
    "dataset_years = list(range(2011,2021))\n",
    "\n",
    "dfs = {}\n",
    "for year in dataset_years:\n",
    "    dfs[year] = langs_year[langs_year['Year']==str(year)]\n",
    "\n",
    "start_index = 9    \n",
    "\n",
    "data=[\n",
    "    go.Bar(\n",
    "        x=dfs[year]['Count'], \n",
    "        y=dfs[year]['Language'].str.title(), \n",
    "        orientation='h',\n",
    "        text=dfs[year]['Percentage'],\n",
    "        texttemplate='%{text:.2%}',\n",
    "        textposition='outside', \n",
    "        insidetextanchor='end',\n",
    "        visible = False,\n",
    "        name=str(year),\n",
    "        marker=dict(\n",
    "            color='rgb(255, 231, 169)',\n",
    "        ),\n",
    "        # formating text: https://github.com/d3/d3-format\n",
    "        hovertemplate = \n",
    "            '<b>%{y}</b><br><br>'+\n",
    "            'Count: %{x:.d} <br>'+ \n",
    "            'Percentage: %{text:.2%}<br>'+\n",
    "            \"<extra></extra>\"\n",
    "    )\n",
    "    for year in dataset_years\n",
    "]\n",
    "data[start_index]['visible'] = True\n",
    "\n",
    "steps = []\n",
    "for i, year in enumerate(dataset_years):\n",
    "    step = dict(\n",
    "        # Update method allows us to update both trace and layout properties\n",
    "        method = 'update',  \n",
    "        args = [\n",
    "            # Make the ith trace visible\n",
    "            {'visible': [t == i for t in range(len(data))]},\n",
    "            # Set the title for the ith trace\n",
    "            {'title.text': 'Programming Languages Distribution - %d' % year},\n",
    "            {\n",
    "                \"frame\": {\"duration\": 300, \"redraw\": True},\n",
    "                 \"mode\": \"immediate\",\n",
    "                 \"transition\": {\"duration\": 500}\n",
    "            }\n",
    "        ],\n",
    "        label=str(year)\n",
    "    )\n",
    "    steps.append(step)\n",
    "    \n",
    "sliders = [go.layout.Slider(\n",
    "    active = start_index,\n",
    "    currentvalue = {\"prefix\": \"Year: \"},\n",
    "    transition={\"duration\": 300, \"easing\": \"cubic-in-out\"},\n",
    "    steps = steps,\n",
    ")]\n",
    "\n",
    "layout = go.Layout(\n",
    "    sliders=sliders,\n",
    "    title={\n",
    "        'text': \"Programming Languages Distribution - 2020\",\n",
    "        'x': 0.5,\n",
    "        'xanchor': 'center',\n",
    "        'yanchor': 'top'\n",
    "    },\n",
    "    margin= {'l': 140}, # fix slider selector to overflow specified ticks\n",
    "    plot_bgcolor='rgba(0,0,0,0)',\n",
    "    xaxis={'visible': False,  'tickformat': \"digit\" },\n",
    "    yaxis={'ticks': \"outside\", 'tickcolor':'white', 'ticklen': 8, }#'visible': False},\n",
    ")\n",
    "\n",
    "fig = go.Figure(data=data, layout=layout)\n",
    "\n",
    "fig.show()"
   ]
  },
  {
   "cell_type": "code",
   "execution_count": 21,
   "metadata": {},
   "outputs": [
    {
     "data": {
      "text/plain": [
       "'https://plotly.com/~masharo/56/'"
      ]
     },
     "execution_count": 21,
     "metadata": {},
     "output_type": "execute_result"
    }
   ],
   "source": [
    "py.plot(fig, filename = 'stack-overflow-languages-over-year')"
   ]
  }
 ],
 "metadata": {
  "kernelspec": {
   "display_name": "Python 3",
   "language": "python",
   "name": "python3"
  },
  "language_info": {
   "codemirror_mode": {
    "name": "ipython",
    "version": 3
   },
   "file_extension": ".py",
   "mimetype": "text/x-python",
   "name": "python",
   "nbconvert_exporter": "python",
   "pygments_lexer": "ipython3",
   "version": "3.8.5"
  }
 },
 "nbformat": 4,
 "nbformat_minor": 4
}
