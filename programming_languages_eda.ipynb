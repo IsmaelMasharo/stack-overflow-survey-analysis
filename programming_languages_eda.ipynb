{
 "cells": [
  {
   "cell_type": "code",
   "execution_count": 1,
   "metadata": {},
   "outputs": [],
   "source": [
    "import pandas as pd\n",
    "import numpy as np\n",
    "import seaborn as sns \n",
    "import matplotlib.pyplot as plt\n",
    "\n",
    "from scripts.dataset_explorer import SODataSetExplorer\n",
    "from scripts.tech_labeling import tech_labeling "
   ]
  },
  {
   "cell_type": "code",
   "execution_count": 2,
   "metadata": {},
   "outputs": [],
   "source": [
    "import plotly.express as px\n",
    "import plotly\n",
    "import plotly.io as pio\n",
    "import plotly.graph_objects as go"
   ]
  },
  {
   "cell_type": "code",
   "execution_count": 3,
   "metadata": {},
   "outputs": [],
   "source": [
    "import chart_studio\n",
    "import chart_studio.plotly as py\n",
    "import os\n",
    "\n",
    "chart_studio_apikey = os.getenv('CHART_STUDIO_API_KEY')\n",
    "chart_studio.tools.set_credentials_file(username='masharo', api_key=chart_studio_apikey)"
   ]
  },
  {
   "cell_type": "code",
   "execution_count": 4,
   "metadata": {},
   "outputs": [],
   "source": [
    "pd.set_option('display.max_rows', None)\n",
    "pd.set_option('display.max_columns', None)\n",
    "pd.set_option('display.width', None)\n",
    "pd.set_option('display.max_colwidth', None)"
   ]
  },
  {
   "cell_type": "markdown",
   "metadata": {},
   "source": [
    "### Load Dataset"
   ]
  },
  {
   "cell_type": "code",
   "execution_count": 5,
   "metadata": {},
   "outputs": [],
   "source": [
    "df_explorer = SODataSetExplorer()"
   ]
  },
  {
   "cell_type": "markdown",
   "metadata": {},
   "source": [
    "### Exploring Programming languages"
   ]
  },
  {
   "cell_type": "code",
   "execution_count": 6,
   "metadata": {
    "scrolled": true
   },
   "outputs": [
    {
     "name": "stdout",
     "output_type": "stream",
     "text": [
      "2011\n",
      "{'programming_languages',\n",
      " 'programming_languages_other',\n",
      " 'tech_products_own',\n",
      " 'tech_products_own_other',\n",
      " 'techn_related_purchases_last_year'}\n",
      "\n",
      "\n",
      "2012\n",
      "{'programming_languages',\n",
      " 'programming_languages_other',\n",
      " 'tech_products_own',\n",
      " 'tech_products_own_other',\n",
      " 'techn_related_purchases_last_year'}\n",
      "\n",
      "\n",
      "2013\n",
      "{'importance_opportunity_to_use_learn_new_technologies',\n",
      " 'new_tech_interests',\n",
      " 'programming_languages',\n",
      " 'programming_languages_other',\n",
      " 'tech_products_own',\n",
      " 'tech_products_own_other',\n",
      " 'techn_related_purchases_last_year',\n",
      " 'time_per_week_technical_support'}\n",
      "\n",
      "\n",
      "2014\n",
      "{'new_tech_interests',\n",
      " 'programming_languages',\n",
      " 'programming_languages_other',\n",
      " 'tech_products_own',\n",
      " 'tech_products_own_other',\n",
      " 'time_per_week_technical_support'}\n",
      "\n",
      "\n",
      "2015\n",
      "{'programming_languages',\n",
      " 'programming_languages_other',\n",
      " 'want_work_language',\n",
      " 'want_work_language_other'}\n",
      "\n",
      "\n",
      "2016\n",
      "{'agree_tech',\n",
      " 'important_newtech',\n",
      " 'tech_do',\n",
      " 'tech_want',\n",
      " 'why_learn_new_tech'}\n",
      "\n",
      "\n",
      "2017\n",
      "{'assess_job_tech',\n",
      " 'have_worked_language',\n",
      " 'important_hiring_tech_exp',\n",
      " 'influence_dept_tech',\n",
      " 'influence_tech_stack',\n",
      " 'learning_new_tech',\n",
      " 'want_work_language'}\n",
      "\n",
      "\n",
      "2018\n",
      "{'language_desire_next_year', 'language_worked_with'}\n",
      "\n",
      "\n",
      "2019\n",
      "{'language_desire_next_year',\n",
      " 'language_worked_with',\n",
      " 'misc_tech_desire_next_year',\n",
      " 'misc_tech_worked_with'}\n",
      "\n",
      "\n",
      "2020\n",
      "{'language_desire_next_year',\n",
      " 'language_worked_with',\n",
      " 'misc_tech_desire_next_year',\n",
      " 'misc_tech_worked_with'}\n",
      "\n",
      "\n"
     ]
    }
   ],
   "source": [
    "df_explorer.similar_columns(['language', 'tech',]);"
   ]
  },
  {
   "cell_type": "markdown",
   "metadata": {},
   "source": [
    "* Rename feature into `programming_languages`"
   ]
  },
  {
   "cell_type": "code",
   "execution_count": 7,
   "metadata": {},
   "outputs": [],
   "source": [
    "progr_lang_rename = {\n",
    "    'tech_do': 'programming_languages',\n",
    "    'have_worked_language': 'programming_languages',\n",
    "    'language_worked_with': 'programming_languages',\n",
    "}\n",
    "df_explorer.rename_columns(progr_lang_rename)"
   ]
  },
  {
   "cell_type": "markdown",
   "metadata": {},
   "source": [
    "* `programming_languages`. Multiple choice categorical features"
   ]
  },
  {
   "cell_type": "markdown",
   "metadata": {},
   "source": [
    "* Merging feature `programming_languages` feature across years "
   ]
  },
  {
   "cell_type": "markdown",
   "metadata": {},
   "source": [
    "### Handling programming languages"
   ]
  },
  {
   "cell_type": "code",
   "execution_count": 8,
   "metadata": {},
   "outputs": [],
   "source": [
    "lang_df = df_explorer.get_feature_dummies_per_year('programming_languages', remove_white_spaces=True)"
   ]
  },
  {
   "cell_type": "code",
   "execution_count": 9,
   "metadata": {},
   "outputs": [],
   "source": [
    "n_largest = 10\n",
    "lang_per_year = {}\n",
    "for year, lang in lang_df.items():\n",
    "    # calculating percentage of total users\n",
    "    lang_percentage = (lang.sum() / lang.shape[0]).reset_index()\n",
    "    lang_percentage.columns = ['language', 'percentage']\n",
    "    lang_percentage['year'] = year\n",
    "    # filtering by programming language tech type\n",
    "    lang_percentage['tech_type'] = lang_percentage.language.map(lambda x: tech_labeling.get(x.lower(), ''))\n",
    "    lang_percentage = lang_percentage[lang_percentage.tech_type.isin(['language'])][['year', 'language', 'percentage']]\n",
    "    # top programming languages\n",
    "    lang_percentage = lang_percentage.nlargest(n=n_largest,columns=['percentage'])\n",
    "    # sorting values\n",
    "    lang_percentage = lang_percentage.sort_values(by=['percentage']).reset_index(drop=True)\n",
    "    # save finally df\n",
    "    lang_per_year[year] = lang_percentage"
   ]
  },
  {
   "cell_type": "code",
   "execution_count": 10,
   "metadata": {},
   "outputs": [
    {
     "data": {
      "text/html": [
       "<div>\n",
       "<style scoped>\n",
       "    .dataframe tbody tr th:only-of-type {\n",
       "        vertical-align: middle;\n",
       "    }\n",
       "\n",
       "    .dataframe tbody tr th {\n",
       "        vertical-align: top;\n",
       "    }\n",
       "\n",
       "    .dataframe thead th {\n",
       "        text-align: right;\n",
       "    }\n",
       "</style>\n",
       "<table border=\"1\" class=\"dataframe\">\n",
       "  <thead>\n",
       "    <tr style=\"text-align: right;\">\n",
       "      <th></th>\n",
       "      <th>year</th>\n",
       "      <th>language</th>\n",
       "      <th>percentage</th>\n",
       "    </tr>\n",
       "  </thead>\n",
       "  <tbody>\n",
       "    <tr>\n",
       "      <th>0</th>\n",
       "      <td>2020</td>\n",
       "      <td>C</td>\n",
       "      <td>0.193714</td>\n",
       "    </tr>\n",
       "    <tr>\n",
       "      <th>1</th>\n",
       "      <td>2020</td>\n",
       "      <td>C++</td>\n",
       "      <td>0.212640</td>\n",
       "    </tr>\n",
       "    <tr>\n",
       "      <th>2</th>\n",
       "      <td>2020</td>\n",
       "      <td>TypeScript</td>\n",
       "      <td>0.226152</td>\n",
       "    </tr>\n",
       "    <tr>\n",
       "      <th>3</th>\n",
       "      <td>2020</td>\n",
       "      <td>PHP</td>\n",
       "      <td>0.232807</td>\n",
       "    </tr>\n",
       "    <tr>\n",
       "      <th>4</th>\n",
       "      <td>2020</td>\n",
       "      <td>C#</td>\n",
       "      <td>0.279875</td>\n",
       "    </tr>\n",
       "    <tr>\n",
       "      <th>5</th>\n",
       "      <td>2020</td>\n",
       "      <td>Java</td>\n",
       "      <td>0.357953</td>\n",
       "    </tr>\n",
       "    <tr>\n",
       "      <th>6</th>\n",
       "      <td>2020</td>\n",
       "      <td>Python</td>\n",
       "      <td>0.392284</td>\n",
       "    </tr>\n",
       "    <tr>\n",
       "      <th>7</th>\n",
       "      <td>2020</td>\n",
       "      <td>SQL</td>\n",
       "      <td>0.487318</td>\n",
       "    </tr>\n",
       "    <tr>\n",
       "      <th>8</th>\n",
       "      <td>2020</td>\n",
       "      <td>HTML/CSS</td>\n",
       "      <td>0.561285</td>\n",
       "    </tr>\n",
       "    <tr>\n",
       "      <th>9</th>\n",
       "      <td>2020</td>\n",
       "      <td>JavaScript</td>\n",
       "      <td>0.602256</td>\n",
       "    </tr>\n",
       "  </tbody>\n",
       "</table>\n",
       "</div>"
      ],
      "text/plain": [
       "   year    language  percentage\n",
       "0  2020           C    0.193714\n",
       "1  2020         C++    0.212640\n",
       "2  2020  TypeScript    0.226152\n",
       "3  2020         PHP    0.232807\n",
       "4  2020          C#    0.279875\n",
       "5  2020        Java    0.357953\n",
       "6  2020      Python    0.392284\n",
       "7  2020         SQL    0.487318\n",
       "8  2020    HTML/CSS    0.561285\n",
       "9  2020  JavaScript    0.602256"
      ]
     },
     "execution_count": 10,
     "metadata": {},
     "output_type": "execute_result"
    }
   ],
   "source": [
    "lang_per_year[2020]"
   ]
  },
  {
   "cell_type": "code",
   "execution_count": 11,
   "metadata": {},
   "outputs": [
    {
     "name": "stdout",
     "output_type": "stream",
     "text": [
      "<class 'pandas.core.frame.DataFrame'>\n",
      "RangeIndex: 10 entries, 0 to 9\n",
      "Data columns (total 3 columns):\n",
      " #   Column      Non-Null Count  Dtype  \n",
      "---  ------      --------------  -----  \n",
      " 0   year        10 non-null     int64  \n",
      " 1   language    10 non-null     object \n",
      " 2   percentage  10 non-null     float64\n",
      "dtypes: float64(1), int64(1), object(1)\n",
      "memory usage: 368.0+ bytes\n"
     ]
    }
   ],
   "source": [
    "lang_per_year[2020].info()"
   ]
  },
  {
   "cell_type": "markdown",
   "metadata": {},
   "source": [
    "### Viz - Common languages evolution"
   ]
  },
  {
   "cell_type": "code",
   "execution_count": 12,
   "metadata": {},
   "outputs": [],
   "source": [
    "concat_programming_languages = pd.concat(lang_per_year.values(), ignore_index=True)"
   ]
  },
  {
   "cell_type": "code",
   "execution_count": 17,
   "metadata": {},
   "outputs": [
    {
     "data": {
      "application/vnd.plotly.v1+json": {
       "config": {
        "plotlyServerURL": "https://plotly.com"
       },
       "data": [
        {
         "alignmentgroup": "True",
         "customdata": [
          [
           2011,
           "Ruby",
           0.10131532172058301
          ],
          [
           2011,
           "Python",
           0.20440810522573766
          ],
          [
           2011,
           "C++",
           0.2630643441166015
          ],
          [
           2011,
           "C",
           0.2634198364735158
          ],
          [
           2011,
           "PHP",
           0.28012797724848915
          ],
          [
           2011,
           "Java",
           0.306078919303235
          ],
          [
           2011,
           "C#",
           0.48062566654816924
          ],
          [
           2011,
           "CSS",
           0.4820476359758265
          ],
          [
           2011,
           "JavaScript",
           0.504443654461429
          ],
          [
           2011,
           "SQL",
           0.5734091717028084
          ]
         ],
         "hovertemplate": "%{y}: %{x:.2%}<br><extra></extra>",
         "legendgroup": "",
         "marker": {
          "color": "rgb(255, 231, 169)"
         },
         "name": "",
         "offsetgroup": "",
         "orientation": "h",
         "showlegend": false,
         "text": [
          0.10131532172058301,
          0.20440810522573766,
          0.2630643441166015,
          0.2634198364735158,
          0.28012797724848915,
          0.306078919303235,
          0.48062566654816924,
          0.4820476359758265,
          0.504443654461429,
          0.5734091717028084
         ],
         "textposition": "outside",
         "texttemplate": "%{text:.2%}",
         "type": "bar",
         "x": [
          0.10131532172058301,
          0.20440810522573766,
          0.2630643441166015,
          0.2634198364735158,
          0.28012797724848915,
          0.306078919303235,
          0.48062566654816924,
          0.4820476359758265,
          0.504443654461429,
          0.5734091717028084
         ],
         "xaxis": "x",
         "y": [
          "Ruby",
          "Python",
          "C++",
          "C",
          "PHP",
          "Java",
          "C#",
          "CSS",
          "JavaScript",
          "SQL"
         ],
         "yaxis": "y"
        }
       ],
       "frames": [
        {
         "data": [
          {
           "alignmentgroup": "True",
           "customdata": [
            [
             2011,
             "Ruby",
             0.10131532172058301
            ],
            [
             2011,
             "Python",
             0.20440810522573766
            ],
            [
             2011,
             "C++",
             0.2630643441166015
            ],
            [
             2011,
             "C",
             0.2634198364735158
            ],
            [
             2011,
             "PHP",
             0.28012797724848915
            ],
            [
             2011,
             "Java",
             0.306078919303235
            ],
            [
             2011,
             "C#",
             0.48062566654816924
            ],
            [
             2011,
             "CSS",
             0.4820476359758265
            ],
            [
             2011,
             "JavaScript",
             0.504443654461429
            ],
            [
             2011,
             "SQL",
             0.5734091717028084
            ]
           ],
           "hovertemplate": "%{y}: %{x:.2%}<br><extra></extra>",
           "legendgroup": "",
           "marker": {
            "color": "rgb(255, 231, 169)"
           },
           "name": "",
           "offsetgroup": "",
           "orientation": "h",
           "showlegend": false,
           "text": [
            0.10131532172058301,
            0.20440810522573766,
            0.2630643441166015,
            0.2634198364735158,
            0.28012797724848915,
            0.306078919303235,
            0.48062566654816924,
            0.4820476359758265,
            0.504443654461429,
            0.5734091717028084
           ],
           "textposition": "outside",
           "type": "bar",
           "x": [
            0.10131532172058301,
            0.20440810522573766,
            0.2630643441166015,
            0.2634198364735158,
            0.28012797724848915,
            0.306078919303235,
            0.48062566654816924,
            0.4820476359758265,
            0.504443654461429,
            0.5734091717028084
           ],
           "xaxis": "x",
           "y": [
            "Ruby",
            "Python",
            "C++",
            "C",
            "PHP",
            "Java",
            "C#",
            "CSS",
            "JavaScript",
            "SQL"
           ],
           "yaxis": "y"
          }
         ],
         "name": "2011"
        },
        {
         "data": [
          {
           "alignmentgroup": "True",
           "customdata": [
            [
             2012,
             "Python",
             0.19381707512413904
            ],
            [
             2012,
             "C",
             0.23770623097869614
            ],
            [
             2012,
             "C++",
             0.24443376581771584
            ],
            [
             2012,
             "PHP",
             0.30834534678840303
            ],
            [
             2012,
             "HTML5",
             0.3450264296011533
            ],
            [
             2012,
             "Java",
             0.3761012333813872
            ],
            [
             2012,
             "C#",
             0.39532276149287204
            ],
            [
             2012,
             "CSS",
             0.45234662822361044
            ],
            [
             2012,
             "JavaScript",
             0.5008809867051097
            ],
            [
             2012,
             "SQL",
             0.5276309466602594
            ]
           ],
           "hovertemplate": "%{y}: %{x:.2%}<br><extra></extra>",
           "legendgroup": "",
           "marker": {
            "color": "rgb(255, 231, 169)"
           },
           "name": "",
           "offsetgroup": "",
           "orientation": "h",
           "showlegend": false,
           "text": [
            0.19381707512413904,
            0.23770623097869614,
            0.24443376581771584,
            0.30834534678840303,
            0.3450264296011533,
            0.3761012333813872,
            0.39532276149287204,
            0.45234662822361044,
            0.5008809867051097,
            0.5276309466602594
           ],
           "textposition": "outside",
           "type": "bar",
           "x": [
            0.19381707512413904,
            0.23770623097869614,
            0.24443376581771584,
            0.30834534678840303,
            0.3450264296011533,
            0.3761012333813872,
            0.39532276149287204,
            0.45234662822361044,
            0.5008809867051097,
            0.5276309466602594
           ],
           "xaxis": "x",
           "y": [
            "Python",
            "C",
            "C++",
            "PHP",
            "HTML5",
            "Java",
            "C#",
            "CSS",
            "JavaScript",
            "SQL"
           ],
           "yaxis": "y"
          }
         ],
         "name": "2012"
        },
        {
         "data": [
          {
           "alignmentgroup": "True",
           "customdata": [
            [
             2013,
             "Ruby",
             0.08150277150482448
            ],
            [
             2013,
             "Objective-C",
             0.09802915212482037
            ],
            [
             2013,
             "C",
             0.1474029973311435
            ],
            [
             2013,
             "C++",
             0.1740915623075344
            ],
            [
             2013,
             "Python",
             0.19297885444467255
            ],
            [
             2013,
             "PHP",
             0.2385547115582016
            ],
            [
             2013,
             "Java",
             0.30999794703346334
            ],
            [
             2013,
             "C#",
             0.31071648532128926
            ],
            [
             2013,
             "SQL",
             0.4714637651406282
            ],
            [
             2013,
             "JavaScript",
             0.48603982755081093
            ]
           ],
           "hovertemplate": "%{y}: %{x:.2%}<br><extra></extra>",
           "legendgroup": "",
           "marker": {
            "color": "rgb(255, 231, 169)"
           },
           "name": "",
           "offsetgroup": "",
           "orientation": "h",
           "showlegend": false,
           "text": [
            0.08150277150482448,
            0.09802915212482037,
            0.1474029973311435,
            0.1740915623075344,
            0.19297885444467255,
            0.2385547115582016,
            0.30999794703346334,
            0.31071648532128926,
            0.4714637651406282,
            0.48603982755081093
           ],
           "textposition": "outside",
           "type": "bar",
           "x": [
            0.08150277150482448,
            0.09802915212482037,
            0.1474029973311435,
            0.1740915623075344,
            0.19297885444467255,
            0.2385547115582016,
            0.30999794703346334,
            0.31071648532128926,
            0.4714637651406282,
            0.48603982755081093
           ],
           "xaxis": "x",
           "y": [
            "Ruby",
            "Objective-C",
            "C",
            "C++",
            "Python",
            "PHP",
            "Java",
            "C#",
            "SQL",
            "JavaScript"
           ],
           "yaxis": "y"
          }
         ],
         "name": "2013"
        },
        {
         "data": [
          {
           "alignmentgroup": "True",
           "customdata": [
            [
             2014,
             "Ruby",
             0.07758733481617167
            ],
            [
             2014,
             "Objective-C",
             0.08831610624100485
            ],
            [
             2014,
             "C",
             0.15360460552139213
            ],
            [
             2014,
             "C++",
             0.18552924244406646
            ],
            [
             2014,
             "Python",
             0.19272536961925946
            ],
            [
             2014,
             "PHP",
             0.2237341358105456
            ],
            [
             2014,
             "C#",
             0.31113437132016225
            ],
            [
             2014,
             "Java",
             0.32434907758733483
            ],
            [
             2014,
             "SQL",
             0.4536176893889834
            ],
            [
             2014,
             "JavaScript",
             0.4949627109773649
            ]
           ],
           "hovertemplate": "%{y}: %{x:.2%}<br><extra></extra>",
           "legendgroup": "",
           "marker": {
            "color": "rgb(255, 231, 169)"
           },
           "name": "",
           "offsetgroup": "",
           "orientation": "h",
           "showlegend": false,
           "text": [
            0.07758733481617167,
            0.08831610624100485,
            0.15360460552139213,
            0.18552924244406646,
            0.19272536961925946,
            0.2237341358105456,
            0.31113437132016225,
            0.32434907758733483,
            0.4536176893889834,
            0.4949627109773649
           ],
           "textposition": "outside",
           "type": "bar",
           "x": [
            0.07758733481617167,
            0.08831610624100485,
            0.15360460552139213,
            0.18552924244406646,
            0.19272536961925946,
            0.2237341358105456,
            0.31113437132016225,
            0.32434907758733483,
            0.4536176893889834,
            0.4949627109773649
           ],
           "xaxis": "x",
           "y": [
            "Ruby",
            "Objective-C",
            "C",
            "C++",
            "Python",
            "PHP",
            "C#",
            "Java",
            "SQL",
            "JavaScript"
           ],
           "yaxis": "y"
          }
         ],
         "name": "2014"
        },
        {
         "data": [
          {
           "alignmentgroup": "True",
           "customdata": [
            [
             2015,
             "Ruby",
             0.06756239473281274
            ],
            [
             2015,
             "C++11",
             0.07085438677078548
            ],
            [
             2015,
             "C",
             0.1382636655948553
            ],
            [
             2015,
             "C++",
             0.17336548767416934
            ],
            [
             2015,
             "Python",
             0.20050528249885163
            ],
            [
             2015,
             "PHP",
             0.24992344204562855
            ],
            [
             2015,
             "C#",
             0.266000612463635
            ],
            [
             2015,
             "Java",
             0.31461491348951154
            ],
            [
             2015,
             "SQL",
             0.36131526565610167
            ],
            [
             2015,
             "JavaScript",
             0.45789312509569746
            ]
           ],
           "hovertemplate": "%{y}: %{x:.2%}<br><extra></extra>",
           "legendgroup": "",
           "marker": {
            "color": "rgb(255, 231, 169)"
           },
           "name": "",
           "offsetgroup": "",
           "orientation": "h",
           "showlegend": false,
           "text": [
            0.06756239473281274,
            0.07085438677078548,
            0.1382636655948553,
            0.17336548767416934,
            0.20050528249885163,
            0.24992344204562855,
            0.266000612463635,
            0.31461491348951154,
            0.36131526565610167,
            0.45789312509569746
           ],
           "textposition": "outside",
           "type": "bar",
           "x": [
            0.06756239473281274,
            0.07085438677078548,
            0.1382636655948553,
            0.17336548767416934,
            0.20050528249885163,
            0.24992344204562855,
            0.266000612463635,
            0.31461491348951154,
            0.36131526565610167,
            0.45789312509569746
           ],
           "xaxis": "x",
           "y": [
            "Ruby",
            "C++11",
            "C",
            "C++",
            "Python",
            "PHP",
            "C#",
            "Java",
            "SQL",
            "JavaScript"
           ],
           "yaxis": "y"
          }
         ],
         "name": "2015"
        },
        {
         "data": [
          {
           "alignmentgroup": "True",
           "customdata": [
            [
             2016,
             "Objective-C",
             0.05714795645190077
            ],
            [
             2016,
             "Ruby",
             0.078225950383723
            ],
            [
             2016,
             "C",
             0.13703373192932358
            ],
            [
             2016,
             "C++",
             0.17114046046760664
            ],
            [
             2016,
             "Python",
             0.2192039978582902
            ],
            [
             2016,
             "PHP",
             0.22809209352132787
            ],
            [
             2016,
             "C#",
             0.27276459039800105
            ],
            [
             2016,
             "Java",
             0.3202213100124933
            ],
            [
             2016,
             "SQL",
             0.3922184543994289
            ],
            [
             2016,
             "JavaScript",
             0.48875602355880776
            ]
           ],
           "hovertemplate": "%{y}: %{x:.2%}<br><extra></extra>",
           "legendgroup": "",
           "marker": {
            "color": "rgb(255, 231, 169)"
           },
           "name": "",
           "offsetgroup": "",
           "orientation": "h",
           "showlegend": false,
           "text": [
            0.05714795645190077,
            0.078225950383723,
            0.13703373192932358,
            0.17114046046760664,
            0.2192039978582902,
            0.22809209352132787,
            0.27276459039800105,
            0.3202213100124933,
            0.3922184543994289,
            0.48875602355880776
           ],
           "textposition": "outside",
           "type": "bar",
           "x": [
            0.05714795645190077,
            0.078225950383723,
            0.13703373192932358,
            0.17114046046760664,
            0.2192039978582902,
            0.22809209352132787,
            0.27276459039800105,
            0.3202213100124933,
            0.3922184543994289,
            0.48875602355880776
           ],
           "xaxis": "x",
           "y": [
            "Objective-C",
            "Ruby",
            "C",
            "C++",
            "Python",
            "PHP",
            "C#",
            "Java",
            "SQL",
            "JavaScript"
           ],
           "yaxis": "y"
          }
         ],
         "name": "2016"
        },
        {
         "data": [
          {
           "alignmentgroup": "True",
           "customdata": [
            [
             2017,
             "Ruby",
             0.06467932752179327
            ],
            [
             2017,
             "TypeScript",
             0.06787048567870485
            ],
            [
             2017,
             "C",
             0.13570205479452055
            ],
            [
             2017,
             "C++",
             0.15868228518057284
            ],
            [
             2017,
             "PHP",
             0.20022571606475717
            ],
            [
             2017,
             "Python",
             0.22773972602739725
            ],
            [
             2017,
             "C#",
             0.2427615193026152
            ],
            [
             2017,
             "Java",
             0.2826120797011208
            ],
            [
             2017,
             "SQL",
             0.3649206102117061
            ],
            [
             2017,
             "JavaScript",
             0.4451081880448319
            ]
           ],
           "hovertemplate": "%{y}: %{x:.2%}<br><extra></extra>",
           "legendgroup": "",
           "marker": {
            "color": "rgb(255, 231, 169)"
           },
           "name": "",
           "offsetgroup": "",
           "orientation": "h",
           "showlegend": false,
           "text": [
            0.06467932752179327,
            0.06787048567870485,
            0.13570205479452055,
            0.15868228518057284,
            0.20022571606475717,
            0.22773972602739725,
            0.2427615193026152,
            0.2826120797011208,
            0.3649206102117061,
            0.4451081880448319
           ],
           "textposition": "outside",
           "type": "bar",
           "x": [
            0.06467932752179327,
            0.06787048567870485,
            0.13570205479452055,
            0.15868228518057284,
            0.20022571606475717,
            0.22773972602739725,
            0.2427615193026152,
            0.2826120797011208,
            0.3649206102117061,
            0.4451081880448319
           ],
           "xaxis": "x",
           "y": [
            "Ruby",
            "TypeScript",
            "C",
            "C++",
            "PHP",
            "Python",
            "C#",
            "Java",
            "SQL",
            "JavaScript"
           ],
           "yaxis": "y"
          }
         ],
         "name": "2017"
        },
        {
         "data": [
          {
           "alignmentgroup": "True",
           "customdata": [
            [
             2018,
             "C",
             0.18250973648272723
            ],
            [
             2018,
             "C++",
             0.20102169844722068
            ],
            [
             2018,
             "PHP",
             0.24349805270345456
            ],
            [
             2018,
             "C#",
             0.2726619796671893
            ],
            [
             2018,
             "Python",
             0.30710636791259927
            ],
            [
             2018,
             "Java",
             0.35932426280916496
            ],
            [
             2018,
             "SQL",
             0.4518739568054221
            ],
            [
             2018,
             "CSS",
             0.515694704364979
            ],
            [
             2018,
             "HTML",
             0.542491527995549
            ],
            [
             2018,
             "JavaScript",
             0.5531940721258409
            ]
           ],
           "hovertemplate": "%{y}: %{x:.2%}<br><extra></extra>",
           "legendgroup": "",
           "marker": {
            "color": "rgb(255, 231, 169)"
           },
           "name": "",
           "offsetgroup": "",
           "orientation": "h",
           "showlegend": false,
           "text": [
            0.18250973648272723,
            0.20102169844722068,
            0.24349805270345456,
            0.2726619796671893,
            0.30710636791259927,
            0.35932426280916496,
            0.4518739568054221,
            0.515694704364979,
            0.542491527995549,
            0.5531940721258409
           ],
           "textposition": "outside",
           "type": "bar",
           "x": [
            0.18250973648272723,
            0.20102169844722068,
            0.24349805270345456,
            0.2726619796671893,
            0.30710636791259927,
            0.35932426280916496,
            0.4518739568054221,
            0.515694704364979,
            0.542491527995549,
            0.5531940721258409
           ],
           "xaxis": "x",
           "y": [
            "C",
            "C++",
            "PHP",
            "C#",
            "Python",
            "Java",
            "SQL",
            "CSS",
            "HTML",
            "JavaScript"
           ],
           "yaxis": "y"
          }
         ],
         "name": "2018"
        },
        {
         "data": [
          {
           "alignmentgroup": "True",
           "customdata": [
            [
             2019,
             "C",
             0.20270467918499602
            ],
            [
             2019,
             "TypeScript",
             0.2083975563381074
            ],
            [
             2019,
             "C++",
             0.23091029780722974
            ],
            [
             2019,
             "PHP",
             0.25910466568410156
            ],
            [
             2019,
             "C#",
             0.30486144707086843
            ],
            [
             2019,
             "Java",
             0.404093021162652
            ],
            [
             2019,
             "Python",
             0.41001091322300104
            ],
            [
             2019,
             "SQL",
             0.5349054374852334
            ],
            [
             2019,
             "HTML/CSS",
             0.6240338422420485
            ],
            [
             2019,
             "JavaScript",
             0.6662578895851851
            ]
           ],
           "hovertemplate": "%{y}: %{x:.2%}<br><extra></extra>",
           "legendgroup": "",
           "marker": {
            "color": "rgb(255, 231, 169)"
           },
           "name": "",
           "offsetgroup": "",
           "orientation": "h",
           "showlegend": false,
           "text": [
            0.20270467918499602,
            0.2083975563381074,
            0.23091029780722974,
            0.25910466568410156,
            0.30486144707086843,
            0.404093021162652,
            0.41001091322300104,
            0.5349054374852334,
            0.6240338422420485,
            0.6662578895851851
           ],
           "textposition": "outside",
           "type": "bar",
           "x": [
            0.20270467918499602,
            0.2083975563381074,
            0.23091029780722974,
            0.25910466568410156,
            0.30486144707086843,
            0.404093021162652,
            0.41001091322300104,
            0.5349054374852334,
            0.6240338422420485,
            0.6662578895851851
           ],
           "xaxis": "x",
           "y": [
            "C",
            "TypeScript",
            "C++",
            "PHP",
            "C#",
            "Java",
            "Python",
            "SQL",
            "HTML/CSS",
            "JavaScript"
           ],
           "yaxis": "y"
          }
         ],
         "name": "2019"
        },
        {
         "data": [
          {
           "alignmentgroup": "True",
           "customdata": [
            [
             2020,
             "C",
             0.19371402863747073
            ],
            [
             2020,
             "C++",
             0.21264020105179876
            ],
            [
             2020,
             "TypeScript",
             0.2261522470951428
            ],
            [
             2020,
             "PHP",
             0.23280743395231224
            ],
            [
             2020,
             "C#",
             0.27987465289089525
            ],
            [
             2020,
             "Java",
             0.3579528707280371
            ],
            [
             2020,
             "Python",
             0.392283706427142
            ],
            [
             2020,
             "SQL",
             0.48731791315679246
            ],
            [
             2020,
             "HTML/CSS",
             0.5612851181334451
            ],
            [
             2020,
             "JavaScript",
             0.602255627433642
            ]
           ],
           "hovertemplate": "%{y}: %{x:.2%}<br><extra></extra>",
           "legendgroup": "",
           "marker": {
            "color": "rgb(255, 231, 169)"
           },
           "name": "",
           "offsetgroup": "",
           "orientation": "h",
           "showlegend": false,
           "text": [
            0.19371402863747073,
            0.21264020105179876,
            0.2261522470951428,
            0.23280743395231224,
            0.27987465289089525,
            0.3579528707280371,
            0.392283706427142,
            0.48731791315679246,
            0.5612851181334451,
            0.602255627433642
           ],
           "textposition": "outside",
           "type": "bar",
           "x": [
            0.19371402863747073,
            0.21264020105179876,
            0.2261522470951428,
            0.23280743395231224,
            0.27987465289089525,
            0.3579528707280371,
            0.392283706427142,
            0.48731791315679246,
            0.5612851181334451,
            0.602255627433642
           ],
           "xaxis": "x",
           "y": [
            "C",
            "C++",
            "TypeScript",
            "PHP",
            "C#",
            "Java",
            "Python",
            "SQL",
            "HTML/CSS",
            "JavaScript"
           ],
           "yaxis": "y"
          }
         ],
         "name": "2020"
        }
       ],
       "layout": {
        "autosize": true,
        "barmode": "relative",
        "legend": {
         "tracegroupgap": 0
        },
        "margin": {
         "l": 140,
         "t": 60
        },
        "plot_bgcolor": "rgba(0, 0, 0, 0)",
        "showlegend": false,
        "sliders": [
         {
          "active": 0,
          "currentvalue": {
           "font": {
            "size": 20
           },
           "prefix": "Year:",
           "visible": true,
           "xanchor": "right"
          },
          "len": 0.9,
          "pad": {
           "b": 10,
           "t": 60
          },
          "steps": [
           {
            "args": [
             [
              "2011"
             ],
             {
              "frame": {
               "duration": 400,
               "redraw": true
              },
              "fromcurrent": true,
              "mode": "immediate",
              "transition": {
               "duration": 400,
               "easing": "cubic-in-out"
              }
             }
            ],
            "label": "2011",
            "method": "animate"
           },
           {
            "args": [
             [
              "2012"
             ],
             {
              "frame": {
               "duration": 400,
               "redraw": true
              },
              "fromcurrent": true,
              "mode": "immediate",
              "transition": {
               "duration": 400,
               "easing": "cubic-in-out"
              }
             }
            ],
            "label": "2012",
            "method": "animate"
           },
           {
            "args": [
             [
              "2013"
             ],
             {
              "frame": {
               "duration": 400,
               "redraw": true
              },
              "fromcurrent": true,
              "mode": "immediate",
              "transition": {
               "duration": 400,
               "easing": "cubic-in-out"
              }
             }
            ],
            "label": "2013",
            "method": "animate"
           },
           {
            "args": [
             [
              "2014"
             ],
             {
              "frame": {
               "duration": 400,
               "redraw": true
              },
              "fromcurrent": true,
              "mode": "immediate",
              "transition": {
               "duration": 400,
               "easing": "cubic-in-out"
              }
             }
            ],
            "label": "2014",
            "method": "animate"
           },
           {
            "args": [
             [
              "2015"
             ],
             {
              "frame": {
               "duration": 400,
               "redraw": true
              },
              "fromcurrent": true,
              "mode": "immediate",
              "transition": {
               "duration": 400,
               "easing": "cubic-in-out"
              }
             }
            ],
            "label": "2015",
            "method": "animate"
           },
           {
            "args": [
             [
              "2016"
             ],
             {
              "frame": {
               "duration": 400,
               "redraw": true
              },
              "fromcurrent": true,
              "mode": "immediate",
              "transition": {
               "duration": 400,
               "easing": "cubic-in-out"
              }
             }
            ],
            "label": "2016",
            "method": "animate"
           },
           {
            "args": [
             [
              "2017"
             ],
             {
              "frame": {
               "duration": 400,
               "redraw": true
              },
              "fromcurrent": true,
              "mode": "immediate",
              "transition": {
               "duration": 400,
               "easing": "cubic-in-out"
              }
             }
            ],
            "label": "2017",
            "method": "animate"
           },
           {
            "args": [
             [
              "2018"
             ],
             {
              "frame": {
               "duration": 400,
               "redraw": true
              },
              "fromcurrent": true,
              "mode": "immediate",
              "transition": {
               "duration": 400,
               "easing": "cubic-in-out"
              }
             }
            ],
            "label": "2018",
            "method": "animate"
           },
           {
            "args": [
             [
              "2019"
             ],
             {
              "frame": {
               "duration": 400,
               "redraw": true
              },
              "fromcurrent": true,
              "mode": "immediate",
              "transition": {
               "duration": 400,
               "easing": "cubic-in-out"
              }
             }
            ],
            "label": "2019",
            "method": "animate"
           },
           {
            "args": [
             [
              "2020"
             ],
             {
              "frame": {
               "duration": 400,
               "redraw": true
              },
              "fromcurrent": true,
              "mode": "immediate",
              "transition": {
               "duration": 400,
               "easing": "cubic-in-out"
              }
             }
            ],
            "label": "2020",
            "method": "animate"
           }
          ],
          "x": 0,
          "xanchor": "left",
          "y": 0,
          "yanchor": "top"
         }
        ],
        "template": {
         "data": {
          "bar": [
           {
            "error_x": {
             "color": "#2a3f5f"
            },
            "error_y": {
             "color": "#2a3f5f"
            },
            "marker": {
             "line": {
              "color": "#E5ECF6",
              "width": 0.5
             }
            },
            "type": "bar"
           }
          ],
          "barpolar": [
           {
            "marker": {
             "line": {
              "color": "#E5ECF6",
              "width": 0.5
             }
            },
            "type": "barpolar"
           }
          ],
          "carpet": [
           {
            "aaxis": {
             "endlinecolor": "#2a3f5f",
             "gridcolor": "white",
             "linecolor": "white",
             "minorgridcolor": "white",
             "startlinecolor": "#2a3f5f"
            },
            "baxis": {
             "endlinecolor": "#2a3f5f",
             "gridcolor": "white",
             "linecolor": "white",
             "minorgridcolor": "white",
             "startlinecolor": "#2a3f5f"
            },
            "type": "carpet"
           }
          ],
          "choropleth": [
           {
            "colorbar": {
             "outlinewidth": 0,
             "ticks": ""
            },
            "type": "choropleth"
           }
          ],
          "contour": [
           {
            "colorbar": {
             "outlinewidth": 0,
             "ticks": ""
            },
            "colorscale": [
             [
              0,
              "#0d0887"
             ],
             [
              0.1111111111111111,
              "#46039f"
             ],
             [
              0.2222222222222222,
              "#7201a8"
             ],
             [
              0.3333333333333333,
              "#9c179e"
             ],
             [
              0.4444444444444444,
              "#bd3786"
             ],
             [
              0.5555555555555556,
              "#d8576b"
             ],
             [
              0.6666666666666666,
              "#ed7953"
             ],
             [
              0.7777777777777778,
              "#fb9f3a"
             ],
             [
              0.8888888888888888,
              "#fdca26"
             ],
             [
              1,
              "#f0f921"
             ]
            ],
            "type": "contour"
           }
          ],
          "contourcarpet": [
           {
            "colorbar": {
             "outlinewidth": 0,
             "ticks": ""
            },
            "type": "contourcarpet"
           }
          ],
          "heatmap": [
           {
            "colorbar": {
             "outlinewidth": 0,
             "ticks": ""
            },
            "colorscale": [
             [
              0,
              "#0d0887"
             ],
             [
              0.1111111111111111,
              "#46039f"
             ],
             [
              0.2222222222222222,
              "#7201a8"
             ],
             [
              0.3333333333333333,
              "#9c179e"
             ],
             [
              0.4444444444444444,
              "#bd3786"
             ],
             [
              0.5555555555555556,
              "#d8576b"
             ],
             [
              0.6666666666666666,
              "#ed7953"
             ],
             [
              0.7777777777777778,
              "#fb9f3a"
             ],
             [
              0.8888888888888888,
              "#fdca26"
             ],
             [
              1,
              "#f0f921"
             ]
            ],
            "type": "heatmap"
           }
          ],
          "heatmapgl": [
           {
            "colorbar": {
             "outlinewidth": 0,
             "ticks": ""
            },
            "colorscale": [
             [
              0,
              "#0d0887"
             ],
             [
              0.1111111111111111,
              "#46039f"
             ],
             [
              0.2222222222222222,
              "#7201a8"
             ],
             [
              0.3333333333333333,
              "#9c179e"
             ],
             [
              0.4444444444444444,
              "#bd3786"
             ],
             [
              0.5555555555555556,
              "#d8576b"
             ],
             [
              0.6666666666666666,
              "#ed7953"
             ],
             [
              0.7777777777777778,
              "#fb9f3a"
             ],
             [
              0.8888888888888888,
              "#fdca26"
             ],
             [
              1,
              "#f0f921"
             ]
            ],
            "type": "heatmapgl"
           }
          ],
          "histogram": [
           {
            "marker": {
             "colorbar": {
              "outlinewidth": 0,
              "ticks": ""
             }
            },
            "type": "histogram"
           }
          ],
          "histogram2d": [
           {
            "colorbar": {
             "outlinewidth": 0,
             "ticks": ""
            },
            "colorscale": [
             [
              0,
              "#0d0887"
             ],
             [
              0.1111111111111111,
              "#46039f"
             ],
             [
              0.2222222222222222,
              "#7201a8"
             ],
             [
              0.3333333333333333,
              "#9c179e"
             ],
             [
              0.4444444444444444,
              "#bd3786"
             ],
             [
              0.5555555555555556,
              "#d8576b"
             ],
             [
              0.6666666666666666,
              "#ed7953"
             ],
             [
              0.7777777777777778,
              "#fb9f3a"
             ],
             [
              0.8888888888888888,
              "#fdca26"
             ],
             [
              1,
              "#f0f921"
             ]
            ],
            "type": "histogram2d"
           }
          ],
          "histogram2dcontour": [
           {
            "colorbar": {
             "outlinewidth": 0,
             "ticks": ""
            },
            "colorscale": [
             [
              0,
              "#0d0887"
             ],
             [
              0.1111111111111111,
              "#46039f"
             ],
             [
              0.2222222222222222,
              "#7201a8"
             ],
             [
              0.3333333333333333,
              "#9c179e"
             ],
             [
              0.4444444444444444,
              "#bd3786"
             ],
             [
              0.5555555555555556,
              "#d8576b"
             ],
             [
              0.6666666666666666,
              "#ed7953"
             ],
             [
              0.7777777777777778,
              "#fb9f3a"
             ],
             [
              0.8888888888888888,
              "#fdca26"
             ],
             [
              1,
              "#f0f921"
             ]
            ],
            "type": "histogram2dcontour"
           }
          ],
          "mesh3d": [
           {
            "colorbar": {
             "outlinewidth": 0,
             "ticks": ""
            },
            "type": "mesh3d"
           }
          ],
          "parcoords": [
           {
            "line": {
             "colorbar": {
              "outlinewidth": 0,
              "ticks": ""
             }
            },
            "type": "parcoords"
           }
          ],
          "pie": [
           {
            "automargin": true,
            "type": "pie"
           }
          ],
          "scatter": [
           {
            "marker": {
             "colorbar": {
              "outlinewidth": 0,
              "ticks": ""
             }
            },
            "type": "scatter"
           }
          ],
          "scatter3d": [
           {
            "line": {
             "colorbar": {
              "outlinewidth": 0,
              "ticks": ""
             }
            },
            "marker": {
             "colorbar": {
              "outlinewidth": 0,
              "ticks": ""
             }
            },
            "type": "scatter3d"
           }
          ],
          "scattercarpet": [
           {
            "marker": {
             "colorbar": {
              "outlinewidth": 0,
              "ticks": ""
             }
            },
            "type": "scattercarpet"
           }
          ],
          "scattergeo": [
           {
            "marker": {
             "colorbar": {
              "outlinewidth": 0,
              "ticks": ""
             }
            },
            "type": "scattergeo"
           }
          ],
          "scattergl": [
           {
            "marker": {
             "colorbar": {
              "outlinewidth": 0,
              "ticks": ""
             }
            },
            "type": "scattergl"
           }
          ],
          "scattermapbox": [
           {
            "marker": {
             "colorbar": {
              "outlinewidth": 0,
              "ticks": ""
             }
            },
            "type": "scattermapbox"
           }
          ],
          "scatterpolar": [
           {
            "marker": {
             "colorbar": {
              "outlinewidth": 0,
              "ticks": ""
             }
            },
            "type": "scatterpolar"
           }
          ],
          "scatterpolargl": [
           {
            "marker": {
             "colorbar": {
              "outlinewidth": 0,
              "ticks": ""
             }
            },
            "type": "scatterpolargl"
           }
          ],
          "scatterternary": [
           {
            "marker": {
             "colorbar": {
              "outlinewidth": 0,
              "ticks": ""
             }
            },
            "type": "scatterternary"
           }
          ],
          "surface": [
           {
            "colorbar": {
             "outlinewidth": 0,
             "ticks": ""
            },
            "colorscale": [
             [
              0,
              "#0d0887"
             ],
             [
              0.1111111111111111,
              "#46039f"
             ],
             [
              0.2222222222222222,
              "#7201a8"
             ],
             [
              0.3333333333333333,
              "#9c179e"
             ],
             [
              0.4444444444444444,
              "#bd3786"
             ],
             [
              0.5555555555555556,
              "#d8576b"
             ],
             [
              0.6666666666666666,
              "#ed7953"
             ],
             [
              0.7777777777777778,
              "#fb9f3a"
             ],
             [
              0.8888888888888888,
              "#fdca26"
             ],
             [
              1,
              "#f0f921"
             ]
            ],
            "type": "surface"
           }
          ],
          "table": [
           {
            "cells": {
             "fill": {
              "color": "#EBF0F8"
             },
             "line": {
              "color": "white"
             }
            },
            "header": {
             "fill": {
              "color": "#C8D4E3"
             },
             "line": {
              "color": "white"
             }
            },
            "type": "table"
           }
          ]
         },
         "layout": {
          "annotationdefaults": {
           "arrowcolor": "#2a3f5f",
           "arrowhead": 0,
           "arrowwidth": 1
          },
          "coloraxis": {
           "colorbar": {
            "outlinewidth": 0,
            "ticks": ""
           }
          },
          "colorscale": {
           "diverging": [
            [
             0,
             "#8e0152"
            ],
            [
             0.1,
             "#c51b7d"
            ],
            [
             0.2,
             "#de77ae"
            ],
            [
             0.3,
             "#f1b6da"
            ],
            [
             0.4,
             "#fde0ef"
            ],
            [
             0.5,
             "#f7f7f7"
            ],
            [
             0.6,
             "#e6f5d0"
            ],
            [
             0.7,
             "#b8e186"
            ],
            [
             0.8,
             "#7fbc41"
            ],
            [
             0.9,
             "#4d9221"
            ],
            [
             1,
             "#276419"
            ]
           ],
           "sequential": [
            [
             0,
             "#0d0887"
            ],
            [
             0.1111111111111111,
             "#46039f"
            ],
            [
             0.2222222222222222,
             "#7201a8"
            ],
            [
             0.3333333333333333,
             "#9c179e"
            ],
            [
             0.4444444444444444,
             "#bd3786"
            ],
            [
             0.5555555555555556,
             "#d8576b"
            ],
            [
             0.6666666666666666,
             "#ed7953"
            ],
            [
             0.7777777777777778,
             "#fb9f3a"
            ],
            [
             0.8888888888888888,
             "#fdca26"
            ],
            [
             1,
             "#f0f921"
            ]
           ],
           "sequentialminus": [
            [
             0,
             "#0d0887"
            ],
            [
             0.1111111111111111,
             "#46039f"
            ],
            [
             0.2222222222222222,
             "#7201a8"
            ],
            [
             0.3333333333333333,
             "#9c179e"
            ],
            [
             0.4444444444444444,
             "#bd3786"
            ],
            [
             0.5555555555555556,
             "#d8576b"
            ],
            [
             0.6666666666666666,
             "#ed7953"
            ],
            [
             0.7777777777777778,
             "#fb9f3a"
            ],
            [
             0.8888888888888888,
             "#fdca26"
            ],
            [
             1,
             "#f0f921"
            ]
           ]
          },
          "colorway": [
           "#636efa",
           "#EF553B",
           "#00cc96",
           "#ab63fa",
           "#FFA15A",
           "#19d3f3",
           "#FF6692",
           "#B6E880",
           "#FF97FF",
           "#FECB52"
          ],
          "font": {
           "color": "#2a3f5f"
          },
          "geo": {
           "bgcolor": "white",
           "lakecolor": "white",
           "landcolor": "#E5ECF6",
           "showlakes": true,
           "showland": true,
           "subunitcolor": "white"
          },
          "hoverlabel": {
           "align": "left"
          },
          "hovermode": "closest",
          "mapbox": {
           "style": "light"
          },
          "paper_bgcolor": "white",
          "plot_bgcolor": "#E5ECF6",
          "polar": {
           "angularaxis": {
            "gridcolor": "white",
            "linecolor": "white",
            "ticks": ""
           },
           "bgcolor": "#E5ECF6",
           "radialaxis": {
            "gridcolor": "white",
            "linecolor": "white",
            "ticks": ""
           }
          },
          "scene": {
           "xaxis": {
            "backgroundcolor": "#E5ECF6",
            "gridcolor": "white",
            "gridwidth": 2,
            "linecolor": "white",
            "showbackground": true,
            "ticks": "",
            "zerolinecolor": "white"
           },
           "yaxis": {
            "backgroundcolor": "#E5ECF6",
            "gridcolor": "white",
            "gridwidth": 2,
            "linecolor": "white",
            "showbackground": true,
            "ticks": "",
            "zerolinecolor": "white"
           },
           "zaxis": {
            "backgroundcolor": "#E5ECF6",
            "gridcolor": "white",
            "gridwidth": 2,
            "linecolor": "white",
            "showbackground": true,
            "ticks": "",
            "zerolinecolor": "white"
           }
          },
          "shapedefaults": {
           "line": {
            "color": "#2a3f5f"
           }
          },
          "ternary": {
           "aaxis": {
            "gridcolor": "white",
            "linecolor": "white",
            "ticks": ""
           },
           "baxis": {
            "gridcolor": "white",
            "linecolor": "white",
            "ticks": ""
           },
           "bgcolor": "#E5ECF6",
           "caxis": {
            "gridcolor": "white",
            "linecolor": "white",
            "ticks": ""
           }
          },
          "title": {
           "x": 0.05
          },
          "xaxis": {
           "automargin": true,
           "gridcolor": "white",
           "linecolor": "white",
           "ticks": "",
           "title": {
            "standoff": 15
           },
           "zerolinecolor": "white",
           "zerolinewidth": 2
          },
          "yaxis": {
           "automargin": true,
           "gridcolor": "white",
           "linecolor": "white",
           "ticks": "",
           "title": {
            "standoff": 15
           },
           "zerolinecolor": "white",
           "zerolinewidth": 2
          }
         }
        },
        "title": {
         "text": "Programming Languages Distribution",
         "x": 0.5,
         "xanchor": "center",
         "yanchor": "top"
        },
        "updatemenus": [
         {
          "direction": "left",
          "pad": {
           "r": 10,
           "t": 70
          },
          "showactive": false,
          "type": "buttons",
          "x": 0.1,
          "xanchor": "right",
          "y": 0,
          "yanchor": "top"
         }
        ],
        "xaxis": {
         "anchor": "y",
         "domain": [
          0,
          1
         ],
         "range": [
          0,
          0.72
         ],
         "showgrid": false,
         "showline": false,
         "showticklabels": false,
         "title": {
          "text": "Percentage"
         },
         "type": "linear",
         "zeroline": false
        },
        "yaxis": {
         "anchor": "x",
         "autorange": true,
         "domain": [
          0,
          1
         ],
         "range": [
          -0.5,
          9.5
         ],
         "showgrid": false,
         "showline": false,
         "tickcolor": "white",
         "ticklen": 8,
         "ticks": "outside",
         "title": {
          "text": ""
         },
         "type": "category",
         "zeroline": false
        }
       }
      },
      "image/png": "[encoded data removed]",
      "text/html": [
       "<div>\n",
       "        \n",
       "        \n",
       "            <div id=\"f75687c3-8dbf-481b-bdb8-0edf0a7ccb9b\" class=\"plotly-graph-div\" style=\"height:525px; width:100%;\"></div>\n",
       "            <script type=\"text/javascript\">\n",
       "                require([\"plotly\"], function(Plotly) {\n",
       "                    window.PLOTLYENV=window.PLOTLYENV || {};\n",
       "                    \n",
       "                if (document.getElementById(\"f75687c3-8dbf-481b-bdb8-0edf0a7ccb9b\")) {\n",
       "                    Plotly.newPlot(\n",
       "                        'f75687c3-8dbf-481b-bdb8-0edf0a7ccb9b',\n",
       "                        [{\"alignmentgroup\": \"True\", \"customdata\": [[2011, \"Ruby\", 0.10131532172058301], [2011, \"Python\", 0.20440810522573766], [2011, \"C++\", 0.2630643441166015], [2011, \"C\", 0.2634198364735158], [2011, \"PHP\", 0.28012797724848915], [2011, \"Java\", 0.306078919303235], [2011, \"C#\", 0.48062566654816924], [2011, \"CSS\", 0.4820476359758265], [2011, \"JavaScript\", 0.504443654461429], [2011, \"SQL\", 0.5734091717028084]], \"hovertemplate\": \"%{y}: %{x:.2%}<br><extra></extra>\", \"legendgroup\": \"\", \"marker\": {\"color\": \"rgb(255, 231, 169)\"}, \"name\": \"\", \"offsetgroup\": \"\", \"orientation\": \"h\", \"showlegend\": false, \"text\": [0.10131532172058301, 0.20440810522573766, 0.2630643441166015, 0.2634198364735158, 0.28012797724848915, 0.306078919303235, 0.48062566654816924, 0.4820476359758265, 0.504443654461429, 0.5734091717028084], \"textposition\": \"outside\", \"texttemplate\": \"%{text:.2%}\", \"type\": \"bar\", \"x\": [0.10131532172058301, 0.20440810522573766, 0.2630643441166015, 0.2634198364735158, 0.28012797724848915, 0.306078919303235, 0.48062566654816924, 0.4820476359758265, 0.504443654461429, 0.5734091717028084], \"xaxis\": \"x\", \"y\": [\"Ruby\", \"Python\", \"C++\", \"C\", \"PHP\", \"Java\", \"C#\", \"CSS\", \"JavaScript\", \"SQL\"], \"yaxis\": \"y\"}],\n",
       "                        {\"barmode\": \"relative\", \"legend\": {\"tracegroupgap\": 0}, \"margin\": {\"l\": 140, \"t\": 60}, \"plot_bgcolor\": \"rgba(0,0,0,0)\", \"showlegend\": false, \"sliders\": [{\"active\": 0, \"currentvalue\": {\"font\": {\"size\": 20}, \"prefix\": \"Year:\", \"visible\": true, \"xanchor\": \"right\"}, \"len\": 0.9, \"pad\": {\"b\": 10, \"t\": 60}, \"steps\": [{\"args\": [[\"2011\"], {\"frame\": {\"duration\": 400, \"redraw\": true}, \"fromcurrent\": true, \"mode\": \"immediate\", \"transition\": {\"duration\": 400, \"easing\": \"cubic-in-out\"}}], \"label\": \"2011\", \"method\": \"animate\"}, {\"args\": [[\"2012\"], {\"frame\": {\"duration\": 400, \"redraw\": true}, \"fromcurrent\": true, \"mode\": \"immediate\", \"transition\": {\"duration\": 400, \"easing\": \"cubic-in-out\"}}], \"label\": \"2012\", \"method\": \"animate\"}, {\"args\": [[\"2013\"], {\"frame\": {\"duration\": 400, \"redraw\": true}, \"fromcurrent\": true, \"mode\": \"immediate\", \"transition\": {\"duration\": 400, \"easing\": \"cubic-in-out\"}}], \"label\": \"2013\", \"method\": \"animate\"}, {\"args\": [[\"2014\"], {\"frame\": {\"duration\": 400, \"redraw\": true}, \"fromcurrent\": true, \"mode\": \"immediate\", \"transition\": {\"duration\": 400, \"easing\": \"cubic-in-out\"}}], \"label\": \"2014\", \"method\": \"animate\"}, {\"args\": [[\"2015\"], {\"frame\": {\"duration\": 400, \"redraw\": true}, \"fromcurrent\": true, \"mode\": \"immediate\", \"transition\": {\"duration\": 400, \"easing\": \"cubic-in-out\"}}], \"label\": \"2015\", \"method\": \"animate\"}, {\"args\": [[\"2016\"], {\"frame\": {\"duration\": 400, \"redraw\": true}, \"fromcurrent\": true, \"mode\": \"immediate\", \"transition\": {\"duration\": 400, \"easing\": \"cubic-in-out\"}}], \"label\": \"2016\", \"method\": \"animate\"}, {\"args\": [[\"2017\"], {\"frame\": {\"duration\": 400, \"redraw\": true}, \"fromcurrent\": true, \"mode\": \"immediate\", \"transition\": {\"duration\": 400, \"easing\": \"cubic-in-out\"}}], \"label\": \"2017\", \"method\": \"animate\"}, {\"args\": [[\"2018\"], {\"frame\": {\"duration\": 400, \"redraw\": true}, \"fromcurrent\": true, \"mode\": \"immediate\", \"transition\": {\"duration\": 400, \"easing\": \"cubic-in-out\"}}], \"label\": \"2018\", \"method\": \"animate\"}, {\"args\": [[\"2019\"], {\"frame\": {\"duration\": 400, \"redraw\": true}, \"fromcurrent\": true, \"mode\": \"immediate\", \"transition\": {\"duration\": 400, \"easing\": \"cubic-in-out\"}}], \"label\": \"2019\", \"method\": \"animate\"}, {\"args\": [[\"2020\"], {\"frame\": {\"duration\": 400, \"redraw\": true}, \"fromcurrent\": true, \"mode\": \"immediate\", \"transition\": {\"duration\": 400, \"easing\": \"cubic-in-out\"}}], \"label\": \"2020\", \"method\": \"animate\"}], \"x\": 0, \"xanchor\": \"left\", \"y\": 0, \"yanchor\": \"top\"}], \"template\": {\"data\": {\"bar\": [{\"error_x\": {\"color\": \"#2a3f5f\"}, \"error_y\": {\"color\": \"#2a3f5f\"}, \"marker\": {\"line\": {\"color\": \"#E5ECF6\", \"width\": 0.5}}, \"type\": \"bar\"}], \"barpolar\": [{\"marker\": {\"line\": {\"color\": \"#E5ECF6\", \"width\": 0.5}}, \"type\": \"barpolar\"}], \"carpet\": [{\"aaxis\": {\"endlinecolor\": \"#2a3f5f\", \"gridcolor\": \"white\", \"linecolor\": \"white\", \"minorgridcolor\": \"white\", \"startlinecolor\": \"#2a3f5f\"}, \"baxis\": {\"endlinecolor\": \"#2a3f5f\", \"gridcolor\": \"white\", \"linecolor\": \"white\", \"minorgridcolor\": \"white\", \"startlinecolor\": \"#2a3f5f\"}, \"type\": \"carpet\"}], \"choropleth\": [{\"colorbar\": {\"outlinewidth\": 0, \"ticks\": \"\"}, \"type\": \"choropleth\"}], \"contour\": [{\"colorbar\": {\"outlinewidth\": 0, \"ticks\": \"\"}, \"colorscale\": [[0.0, \"#0d0887\"], [0.1111111111111111, \"#46039f\"], [0.2222222222222222, \"#7201a8\"], [0.3333333333333333, \"#9c179e\"], [0.4444444444444444, \"#bd3786\"], [0.5555555555555556, \"#d8576b\"], [0.6666666666666666, \"#ed7953\"], [0.7777777777777778, \"#fb9f3a\"], [0.8888888888888888, \"#fdca26\"], [1.0, \"#f0f921\"]], \"type\": \"contour\"}], \"contourcarpet\": [{\"colorbar\": {\"outlinewidth\": 0, \"ticks\": \"\"}, \"type\": \"contourcarpet\"}], \"heatmap\": [{\"colorbar\": {\"outlinewidth\": 0, \"ticks\": \"\"}, \"colorscale\": [[0.0, \"#0d0887\"], [0.1111111111111111, \"#46039f\"], [0.2222222222222222, \"#7201a8\"], [0.3333333333333333, \"#9c179e\"], [0.4444444444444444, \"#bd3786\"], [0.5555555555555556, \"#d8576b\"], [0.6666666666666666, \"#ed7953\"], [0.7777777777777778, \"#fb9f3a\"], [0.8888888888888888, \"#fdca26\"], [1.0, \"#f0f921\"]], \"type\": \"heatmap\"}], \"heatmapgl\": [{\"colorbar\": {\"outlinewidth\": 0, \"ticks\": \"\"}, \"colorscale\": [[0.0, \"#0d0887\"], [0.1111111111111111, \"#46039f\"], [0.2222222222222222, \"#7201a8\"], [0.3333333333333333, \"#9c179e\"], [0.4444444444444444, \"#bd3786\"], [0.5555555555555556, \"#d8576b\"], [0.6666666666666666, \"#ed7953\"], [0.7777777777777778, \"#fb9f3a\"], [0.8888888888888888, \"#fdca26\"], [1.0, \"#f0f921\"]], \"type\": \"heatmapgl\"}], \"histogram\": [{\"marker\": {\"colorbar\": {\"outlinewidth\": 0, \"ticks\": \"\"}}, \"type\": \"histogram\"}], \"histogram2d\": [{\"colorbar\": {\"outlinewidth\": 0, \"ticks\": \"\"}, \"colorscale\": [[0.0, \"#0d0887\"], [0.1111111111111111, \"#46039f\"], [0.2222222222222222, \"#7201a8\"], [0.3333333333333333, \"#9c179e\"], [0.4444444444444444, \"#bd3786\"], [0.5555555555555556, \"#d8576b\"], [0.6666666666666666, \"#ed7953\"], [0.7777777777777778, \"#fb9f3a\"], [0.8888888888888888, \"#fdca26\"], [1.0, \"#f0f921\"]], \"type\": \"histogram2d\"}], \"histogram2dcontour\": [{\"colorbar\": {\"outlinewidth\": 0, \"ticks\": \"\"}, \"colorscale\": [[0.0, \"#0d0887\"], [0.1111111111111111, \"#46039f\"], [0.2222222222222222, \"#7201a8\"], [0.3333333333333333, \"#9c179e\"], [0.4444444444444444, \"#bd3786\"], [0.5555555555555556, \"#d8576b\"], [0.6666666666666666, \"#ed7953\"], [0.7777777777777778, \"#fb9f3a\"], [0.8888888888888888, \"#fdca26\"], [1.0, \"#f0f921\"]], \"type\": \"histogram2dcontour\"}], \"mesh3d\": [{\"colorbar\": {\"outlinewidth\": 0, \"ticks\": \"\"}, \"type\": \"mesh3d\"}], \"parcoords\": [{\"line\": {\"colorbar\": {\"outlinewidth\": 0, \"ticks\": \"\"}}, \"type\": \"parcoords\"}], \"pie\": [{\"automargin\": true, \"type\": \"pie\"}], \"scatter\": [{\"marker\": {\"colorbar\": {\"outlinewidth\": 0, \"ticks\": \"\"}}, \"type\": \"scatter\"}], \"scatter3d\": [{\"line\": {\"colorbar\": {\"outlinewidth\": 0, \"ticks\": \"\"}}, \"marker\": {\"colorbar\": {\"outlinewidth\": 0, \"ticks\": \"\"}}, \"type\": \"scatter3d\"}], \"scattercarpet\": [{\"marker\": {\"colorbar\": {\"outlinewidth\": 0, \"ticks\": \"\"}}, \"type\": \"scattercarpet\"}], \"scattergeo\": [{\"marker\": {\"colorbar\": {\"outlinewidth\": 0, \"ticks\": \"\"}}, \"type\": \"scattergeo\"}], \"scattergl\": [{\"marker\": {\"colorbar\": {\"outlinewidth\": 0, \"ticks\": \"\"}}, \"type\": \"scattergl\"}], \"scattermapbox\": [{\"marker\": {\"colorbar\": {\"outlinewidth\": 0, \"ticks\": \"\"}}, \"type\": \"scattermapbox\"}], \"scatterpolar\": [{\"marker\": {\"colorbar\": {\"outlinewidth\": 0, \"ticks\": \"\"}}, \"type\": \"scatterpolar\"}], \"scatterpolargl\": [{\"marker\": {\"colorbar\": {\"outlinewidth\": 0, \"ticks\": \"\"}}, \"type\": \"scatterpolargl\"}], \"scatterternary\": [{\"marker\": {\"colorbar\": {\"outlinewidth\": 0, \"ticks\": \"\"}}, \"type\": \"scatterternary\"}], \"surface\": [{\"colorbar\": {\"outlinewidth\": 0, \"ticks\": \"\"}, \"colorscale\": [[0.0, \"#0d0887\"], [0.1111111111111111, \"#46039f\"], [0.2222222222222222, \"#7201a8\"], [0.3333333333333333, \"#9c179e\"], [0.4444444444444444, \"#bd3786\"], [0.5555555555555556, \"#d8576b\"], [0.6666666666666666, \"#ed7953\"], [0.7777777777777778, \"#fb9f3a\"], [0.8888888888888888, \"#fdca26\"], [1.0, \"#f0f921\"]], \"type\": \"surface\"}], \"table\": [{\"cells\": {\"fill\": {\"color\": \"#EBF0F8\"}, \"line\": {\"color\": \"white\"}}, \"header\": {\"fill\": {\"color\": \"#C8D4E3\"}, \"line\": {\"color\": \"white\"}}, \"type\": \"table\"}]}, \"layout\": {\"annotationdefaults\": {\"arrowcolor\": \"#2a3f5f\", \"arrowhead\": 0, \"arrowwidth\": 1}, \"coloraxis\": {\"colorbar\": {\"outlinewidth\": 0, \"ticks\": \"\"}}, \"colorscale\": {\"diverging\": [[0, \"#8e0152\"], [0.1, \"#c51b7d\"], [0.2, \"#de77ae\"], [0.3, \"#f1b6da\"], [0.4, \"#fde0ef\"], [0.5, \"#f7f7f7\"], [0.6, \"#e6f5d0\"], [0.7, \"#b8e186\"], [0.8, \"#7fbc41\"], [0.9, \"#4d9221\"], [1, \"#276419\"]], \"sequential\": [[0.0, \"#0d0887\"], [0.1111111111111111, \"#46039f\"], [0.2222222222222222, \"#7201a8\"], [0.3333333333333333, \"#9c179e\"], [0.4444444444444444, \"#bd3786\"], [0.5555555555555556, \"#d8576b\"], [0.6666666666666666, \"#ed7953\"], [0.7777777777777778, \"#fb9f3a\"], [0.8888888888888888, \"#fdca26\"], [1.0, \"#f0f921\"]], \"sequentialminus\": [[0.0, \"#0d0887\"], [0.1111111111111111, \"#46039f\"], [0.2222222222222222, \"#7201a8\"], [0.3333333333333333, \"#9c179e\"], [0.4444444444444444, \"#bd3786\"], [0.5555555555555556, \"#d8576b\"], [0.6666666666666666, \"#ed7953\"], [0.7777777777777778, \"#fb9f3a\"], [0.8888888888888888, \"#fdca26\"], [1.0, \"#f0f921\"]]}, \"colorway\": [\"#636efa\", \"#EF553B\", \"#00cc96\", \"#ab63fa\", \"#FFA15A\", \"#19d3f3\", \"#FF6692\", \"#B6E880\", \"#FF97FF\", \"#FECB52\"], \"font\": {\"color\": \"#2a3f5f\"}, \"geo\": {\"bgcolor\": \"white\", \"lakecolor\": \"white\", \"landcolor\": \"#E5ECF6\", \"showlakes\": true, \"showland\": true, \"subunitcolor\": \"white\"}, \"hoverlabel\": {\"align\": \"left\"}, \"hovermode\": \"closest\", \"mapbox\": {\"style\": \"light\"}, \"paper_bgcolor\": \"white\", \"plot_bgcolor\": \"#E5ECF6\", \"polar\": {\"angularaxis\": {\"gridcolor\": \"white\", \"linecolor\": \"white\", \"ticks\": \"\"}, \"bgcolor\": \"#E5ECF6\", \"radialaxis\": {\"gridcolor\": \"white\", \"linecolor\": \"white\", \"ticks\": \"\"}}, \"scene\": {\"xaxis\": {\"backgroundcolor\": \"#E5ECF6\", \"gridcolor\": \"white\", \"gridwidth\": 2, \"linecolor\": \"white\", \"showbackground\": true, \"ticks\": \"\", \"zerolinecolor\": \"white\"}, \"yaxis\": {\"backgroundcolor\": \"#E5ECF6\", \"gridcolor\": \"white\", \"gridwidth\": 2, \"linecolor\": \"white\", \"showbackground\": true, \"ticks\": \"\", \"zerolinecolor\": \"white\"}, \"zaxis\": {\"backgroundcolor\": \"#E5ECF6\", \"gridcolor\": \"white\", \"gridwidth\": 2, \"linecolor\": \"white\", \"showbackground\": true, \"ticks\": \"\", \"zerolinecolor\": \"white\"}}, \"shapedefaults\": {\"line\": {\"color\": \"#2a3f5f\"}}, \"ternary\": {\"aaxis\": {\"gridcolor\": \"white\", \"linecolor\": \"white\", \"ticks\": \"\"}, \"baxis\": {\"gridcolor\": \"white\", \"linecolor\": \"white\", \"ticks\": \"\"}, \"bgcolor\": \"#E5ECF6\", \"caxis\": {\"gridcolor\": \"white\", \"linecolor\": \"white\", \"ticks\": \"\"}}, \"title\": {\"x\": 0.05}, \"xaxis\": {\"automargin\": true, \"gridcolor\": \"white\", \"linecolor\": \"white\", \"ticks\": \"\", \"title\": {\"standoff\": 15}, \"zerolinecolor\": \"white\", \"zerolinewidth\": 2}, \"yaxis\": {\"automargin\": true, \"gridcolor\": \"white\", \"linecolor\": \"white\", \"ticks\": \"\", \"title\": {\"standoff\": 15}, \"zerolinecolor\": \"white\", \"zerolinewidth\": 2}}}, \"title\": {\"text\": \"Programming Languages Distribution\", \"x\": 0.5, \"xanchor\": \"center\", \"yanchor\": \"top\"}, \"updatemenus\": [{\"direction\": \"left\", \"pad\": {\"r\": 10, \"t\": 70}, \"showactive\": false, \"type\": \"buttons\", \"x\": 0.1, \"xanchor\": \"right\", \"y\": 0, \"yanchor\": \"top\"}], \"xaxis\": {\"anchor\": \"y\", \"domain\": [0.0, 1.0], \"range\": [0, 0.72], \"showgrid\": false, \"showline\": false, \"showticklabels\": false, \"title\": {\"text\": \"Percentage\"}, \"zeroline\": false}, \"yaxis\": {\"anchor\": \"x\", \"domain\": [0.0, 1.0], \"showgrid\": false, \"showline\": false, \"tickcolor\": \"white\", \"ticklen\": 8, \"ticks\": \"outside\", \"title\": {\"text\": \"\"}, \"zeroline\": false}},\n",
       "                        {\"responsive\": true}\n",
       "                    ).then(function(){\n",
       "                            Plotly.addFrames('f75687c3-8dbf-481b-bdb8-0edf0a7ccb9b', [{\"data\": [{\"alignmentgroup\": \"True\", \"customdata\": [[2011, \"Ruby\", 0.10131532172058301], [2011, \"Python\", 0.20440810522573766], [2011, \"C++\", 0.2630643441166015], [2011, \"C\", 0.2634198364735158], [2011, \"PHP\", 0.28012797724848915], [2011, \"Java\", 0.306078919303235], [2011, \"C#\", 0.48062566654816924], [2011, \"CSS\", 0.4820476359758265], [2011, \"JavaScript\", 0.504443654461429], [2011, \"SQL\", 0.5734091717028084]], \"hovertemplate\": \"%{y}: %{x:.2%}<br><extra></extra>\", \"legendgroup\": \"\", \"marker\": {\"color\": \"rgb(255, 231, 169)\"}, \"name\": \"\", \"offsetgroup\": \"\", \"orientation\": \"h\", \"showlegend\": false, \"text\": [0.10131532172058301, 0.20440810522573766, 0.2630643441166015, 0.2634198364735158, 0.28012797724848915, 0.306078919303235, 0.48062566654816924, 0.4820476359758265, 0.504443654461429, 0.5734091717028084], \"textposition\": \"outside\", \"x\": [0.10131532172058301, 0.20440810522573766, 0.2630643441166015, 0.2634198364735158, 0.28012797724848915, 0.306078919303235, 0.48062566654816924, 0.4820476359758265, 0.504443654461429, 0.5734091717028084], \"xaxis\": \"x\", \"y\": [\"Ruby\", \"Python\", \"C++\", \"C\", \"PHP\", \"Java\", \"C#\", \"CSS\", \"JavaScript\", \"SQL\"], \"yaxis\": \"y\", \"type\": \"bar\"}], \"name\": \"2011\"}, {\"data\": [{\"alignmentgroup\": \"True\", \"customdata\": [[2012, \"Python\", 0.19381707512413904], [2012, \"C\", 0.23770623097869614], [2012, \"C++\", 0.24443376581771584], [2012, \"PHP\", 0.30834534678840303], [2012, \"HTML5\", 0.3450264296011533], [2012, \"Java\", 0.3761012333813872], [2012, \"C#\", 0.39532276149287204], [2012, \"CSS\", 0.45234662822361044], [2012, \"JavaScript\", 0.5008809867051097], [2012, \"SQL\", 0.5276309466602594]], \"hovertemplate\": \"%{y}: %{x:.2%}<br><extra></extra>\", \"legendgroup\": \"\", \"marker\": {\"color\": \"rgb(255, 231, 169)\"}, \"name\": \"\", \"offsetgroup\": \"\", \"orientation\": \"h\", \"showlegend\": false, \"text\": [0.19381707512413904, 0.23770623097869614, 0.24443376581771584, 0.30834534678840303, 0.3450264296011533, 0.3761012333813872, 0.39532276149287204, 0.45234662822361044, 0.5008809867051097, 0.5276309466602594], \"textposition\": \"outside\", \"x\": [0.19381707512413904, 0.23770623097869614, 0.24443376581771584, 0.30834534678840303, 0.3450264296011533, 0.3761012333813872, 0.39532276149287204, 0.45234662822361044, 0.5008809867051097, 0.5276309466602594], \"xaxis\": \"x\", \"y\": [\"Python\", \"C\", \"C++\", \"PHP\", \"HTML5\", \"Java\", \"C#\", \"CSS\", \"JavaScript\", \"SQL\"], \"yaxis\": \"y\", \"type\": \"bar\"}], \"name\": \"2012\"}, {\"data\": [{\"alignmentgroup\": \"True\", \"customdata\": [[2013, \"Ruby\", 0.08150277150482448], [2013, \"Objective-C\", 0.09802915212482037], [2013, \"C\", 0.1474029973311435], [2013, \"C++\", 0.1740915623075344], [2013, \"Python\", 0.19297885444467255], [2013, \"PHP\", 0.2385547115582016], [2013, \"Java\", 0.30999794703346334], [2013, \"C#\", 0.31071648532128926], [2013, \"SQL\", 0.4714637651406282], [2013, \"JavaScript\", 0.48603982755081093]], \"hovertemplate\": \"%{y}: %{x:.2%}<br><extra></extra>\", \"legendgroup\": \"\", \"marker\": {\"color\": \"rgb(255, 231, 169)\"}, \"name\": \"\", \"offsetgroup\": \"\", \"orientation\": \"h\", \"showlegend\": false, \"text\": [0.08150277150482448, 0.09802915212482037, 0.1474029973311435, 0.1740915623075344, 0.19297885444467255, 0.2385547115582016, 0.30999794703346334, 0.31071648532128926, 0.4714637651406282, 0.48603982755081093], \"textposition\": \"outside\", \"x\": [0.08150277150482448, 0.09802915212482037, 0.1474029973311435, 0.1740915623075344, 0.19297885444467255, 0.2385547115582016, 0.30999794703346334, 0.31071648532128926, 0.4714637651406282, 0.48603982755081093], \"xaxis\": \"x\", \"y\": [\"Ruby\", \"Objective-C\", \"C\", \"C++\", \"Python\", \"PHP\", \"Java\", \"C#\", \"SQL\", \"JavaScript\"], \"yaxis\": \"y\", \"type\": \"bar\"}], \"name\": \"2013\"}, {\"data\": [{\"alignmentgroup\": \"True\", \"customdata\": [[2014, \"Ruby\", 0.07758733481617167], [2014, \"Objective-C\", 0.08831610624100485], [2014, \"C\", 0.15360460552139213], [2014, \"C++\", 0.18552924244406646], [2014, \"Python\", 0.19272536961925946], [2014, \"PHP\", 0.2237341358105456], [2014, \"C#\", 0.31113437132016225], [2014, \"Java\", 0.32434907758733483], [2014, \"SQL\", 0.4536176893889834], [2014, \"JavaScript\", 0.4949627109773649]], \"hovertemplate\": \"%{y}: %{x:.2%}<br><extra></extra>\", \"legendgroup\": \"\", \"marker\": {\"color\": \"rgb(255, 231, 169)\"}, \"name\": \"\", \"offsetgroup\": \"\", \"orientation\": \"h\", \"showlegend\": false, \"text\": [0.07758733481617167, 0.08831610624100485, 0.15360460552139213, 0.18552924244406646, 0.19272536961925946, 0.2237341358105456, 0.31113437132016225, 0.32434907758733483, 0.4536176893889834, 0.4949627109773649], \"textposition\": \"outside\", \"x\": [0.07758733481617167, 0.08831610624100485, 0.15360460552139213, 0.18552924244406646, 0.19272536961925946, 0.2237341358105456, 0.31113437132016225, 0.32434907758733483, 0.4536176893889834, 0.4949627109773649], \"xaxis\": \"x\", \"y\": [\"Ruby\", \"Objective-C\", \"C\", \"C++\", \"Python\", \"PHP\", \"C#\", \"Java\", \"SQL\", \"JavaScript\"], \"yaxis\": \"y\", \"type\": \"bar\"}], \"name\": \"2014\"}, {\"data\": [{\"alignmentgroup\": \"True\", \"customdata\": [[2015, \"Ruby\", 0.06756239473281274], [2015, \"C++11\", 0.07085438677078548], [2015, \"C\", 0.1382636655948553], [2015, \"C++\", 0.17336548767416934], [2015, \"Python\", 0.20050528249885163], [2015, \"PHP\", 0.24992344204562855], [2015, \"C#\", 0.266000612463635], [2015, \"Java\", 0.31461491348951154], [2015, \"SQL\", 0.36131526565610167], [2015, \"JavaScript\", 0.45789312509569746]], \"hovertemplate\": \"%{y}: %{x:.2%}<br><extra></extra>\", \"legendgroup\": \"\", \"marker\": {\"color\": \"rgb(255, 231, 169)\"}, \"name\": \"\", \"offsetgroup\": \"\", \"orientation\": \"h\", \"showlegend\": false, \"text\": [0.06756239473281274, 0.07085438677078548, 0.1382636655948553, 0.17336548767416934, 0.20050528249885163, 0.24992344204562855, 0.266000612463635, 0.31461491348951154, 0.36131526565610167, 0.45789312509569746], \"textposition\": \"outside\", \"x\": [0.06756239473281274, 0.07085438677078548, 0.1382636655948553, 0.17336548767416934, 0.20050528249885163, 0.24992344204562855, 0.266000612463635, 0.31461491348951154, 0.36131526565610167, 0.45789312509569746], \"xaxis\": \"x\", \"y\": [\"Ruby\", \"C++11\", \"C\", \"C++\", \"Python\", \"PHP\", \"C#\", \"Java\", \"SQL\", \"JavaScript\"], \"yaxis\": \"y\", \"type\": \"bar\"}], \"name\": \"2015\"}, {\"data\": [{\"alignmentgroup\": \"True\", \"customdata\": [[2016, \"Objective-C\", 0.05714795645190077], [2016, \"Ruby\", 0.078225950383723], [2016, \"C\", 0.13703373192932358], [2016, \"C++\", 0.17114046046760664], [2016, \"Python\", 0.2192039978582902], [2016, \"PHP\", 0.22809209352132787], [2016, \"C#\", 0.27276459039800105], [2016, \"Java\", 0.3202213100124933], [2016, \"SQL\", 0.3922184543994289], [2016, \"JavaScript\", 0.48875602355880776]], \"hovertemplate\": \"%{y}: %{x:.2%}<br><extra></extra>\", \"legendgroup\": \"\", \"marker\": {\"color\": \"rgb(255, 231, 169)\"}, \"name\": \"\", \"offsetgroup\": \"\", \"orientation\": \"h\", \"showlegend\": false, \"text\": [0.05714795645190077, 0.078225950383723, 0.13703373192932358, 0.17114046046760664, 0.2192039978582902, 0.22809209352132787, 0.27276459039800105, 0.3202213100124933, 0.3922184543994289, 0.48875602355880776], \"textposition\": \"outside\", \"x\": [0.05714795645190077, 0.078225950383723, 0.13703373192932358, 0.17114046046760664, 0.2192039978582902, 0.22809209352132787, 0.27276459039800105, 0.3202213100124933, 0.3922184543994289, 0.48875602355880776], \"xaxis\": \"x\", \"y\": [\"Objective-C\", \"Ruby\", \"C\", \"C++\", \"Python\", \"PHP\", \"C#\", \"Java\", \"SQL\", \"JavaScript\"], \"yaxis\": \"y\", \"type\": \"bar\"}], \"name\": \"2016\"}, {\"data\": [{\"alignmentgroup\": \"True\", \"customdata\": [[2017, \"Ruby\", 0.06467932752179327], [2017, \"TypeScript\", 0.06787048567870485], [2017, \"C\", 0.13570205479452055], [2017, \"C++\", 0.15868228518057284], [2017, \"PHP\", 0.20022571606475717], [2017, \"Python\", 0.22773972602739725], [2017, \"C#\", 0.2427615193026152], [2017, \"Java\", 0.2826120797011208], [2017, \"SQL\", 0.3649206102117061], [2017, \"JavaScript\", 0.4451081880448319]], \"hovertemplate\": \"%{y}: %{x:.2%}<br><extra></extra>\", \"legendgroup\": \"\", \"marker\": {\"color\": \"rgb(255, 231, 169)\"}, \"name\": \"\", \"offsetgroup\": \"\", \"orientation\": \"h\", \"showlegend\": false, \"text\": [0.06467932752179327, 0.06787048567870485, 0.13570205479452055, 0.15868228518057284, 0.20022571606475717, 0.22773972602739725, 0.2427615193026152, 0.2826120797011208, 0.3649206102117061, 0.4451081880448319], \"textposition\": \"outside\", \"x\": [0.06467932752179327, 0.06787048567870485, 0.13570205479452055, 0.15868228518057284, 0.20022571606475717, 0.22773972602739725, 0.2427615193026152, 0.2826120797011208, 0.3649206102117061, 0.4451081880448319], \"xaxis\": \"x\", \"y\": [\"Ruby\", \"TypeScript\", \"C\", \"C++\", \"PHP\", \"Python\", \"C#\", \"Java\", \"SQL\", \"JavaScript\"], \"yaxis\": \"y\", \"type\": \"bar\"}], \"name\": \"2017\"}, {\"data\": [{\"alignmentgroup\": \"True\", \"customdata\": [[2018, \"C\", 0.18250973648272723], [2018, \"C++\", 0.20102169844722068], [2018, \"PHP\", 0.24349805270345456], [2018, \"C#\", 0.2726619796671893], [2018, \"Python\", 0.30710636791259927], [2018, \"Java\", 0.35932426280916496], [2018, \"SQL\", 0.4518739568054221], [2018, \"CSS\", 0.515694704364979], [2018, \"HTML\", 0.542491527995549], [2018, \"JavaScript\", 0.5531940721258409]], \"hovertemplate\": \"%{y}: %{x:.2%}<br><extra></extra>\", \"legendgroup\": \"\", \"marker\": {\"color\": \"rgb(255, 231, 169)\"}, \"name\": \"\", \"offsetgroup\": \"\", \"orientation\": \"h\", \"showlegend\": false, \"text\": [0.18250973648272723, 0.20102169844722068, 0.24349805270345456, 0.2726619796671893, 0.30710636791259927, 0.35932426280916496, 0.4518739568054221, 0.515694704364979, 0.542491527995549, 0.5531940721258409], \"textposition\": \"outside\", \"x\": [0.18250973648272723, 0.20102169844722068, 0.24349805270345456, 0.2726619796671893, 0.30710636791259927, 0.35932426280916496, 0.4518739568054221, 0.515694704364979, 0.542491527995549, 0.5531940721258409], \"xaxis\": \"x\", \"y\": [\"C\", \"C++\", \"PHP\", \"C#\", \"Python\", \"Java\", \"SQL\", \"CSS\", \"HTML\", \"JavaScript\"], \"yaxis\": \"y\", \"type\": \"bar\"}], \"name\": \"2018\"}, {\"data\": [{\"alignmentgroup\": \"True\", \"customdata\": [[2019, \"C\", 0.20270467918499602], [2019, \"TypeScript\", 0.2083975563381074], [2019, \"C++\", 0.23091029780722974], [2019, \"PHP\", 0.25910466568410156], [2019, \"C#\", 0.30486144707086843], [2019, \"Java\", 0.404093021162652], [2019, \"Python\", 0.41001091322300104], [2019, \"SQL\", 0.5349054374852334], [2019, \"HTML/CSS\", 0.6240338422420485], [2019, \"JavaScript\", 0.6662578895851851]], \"hovertemplate\": \"%{y}: %{x:.2%}<br><extra></extra>\", \"legendgroup\": \"\", \"marker\": {\"color\": \"rgb(255, 231, 169)\"}, \"name\": \"\", \"offsetgroup\": \"\", \"orientation\": \"h\", \"showlegend\": false, \"text\": [0.20270467918499602, 0.2083975563381074, 0.23091029780722974, 0.25910466568410156, 0.30486144707086843, 0.404093021162652, 0.41001091322300104, 0.5349054374852334, 0.6240338422420485, 0.6662578895851851], \"textposition\": \"outside\", \"x\": [0.20270467918499602, 0.2083975563381074, 0.23091029780722974, 0.25910466568410156, 0.30486144707086843, 0.404093021162652, 0.41001091322300104, 0.5349054374852334, 0.6240338422420485, 0.6662578895851851], \"xaxis\": \"x\", \"y\": [\"C\", \"TypeScript\", \"C++\", \"PHP\", \"C#\", \"Java\", \"Python\", \"SQL\", \"HTML/CSS\", \"JavaScript\"], \"yaxis\": \"y\", \"type\": \"bar\"}], \"name\": \"2019\"}, {\"data\": [{\"alignmentgroup\": \"True\", \"customdata\": [[2020, \"C\", 0.19371402863747073], [2020, \"C++\", 0.21264020105179876], [2020, \"TypeScript\", 0.2261522470951428], [2020, \"PHP\", 0.23280743395231224], [2020, \"C#\", 0.27987465289089525], [2020, \"Java\", 0.3579528707280371], [2020, \"Python\", 0.392283706427142], [2020, \"SQL\", 0.48731791315679246], [2020, \"HTML/CSS\", 0.5612851181334451], [2020, \"JavaScript\", 0.602255627433642]], \"hovertemplate\": \"%{y}: %{x:.2%}<br><extra></extra>\", \"legendgroup\": \"\", \"marker\": {\"color\": \"rgb(255, 231, 169)\"}, \"name\": \"\", \"offsetgroup\": \"\", \"orientation\": \"h\", \"showlegend\": false, \"text\": [0.19371402863747073, 0.21264020105179876, 0.2261522470951428, 0.23280743395231224, 0.27987465289089525, 0.3579528707280371, 0.392283706427142, 0.48731791315679246, 0.5612851181334451, 0.602255627433642], \"textposition\": \"outside\", \"x\": [0.19371402863747073, 0.21264020105179876, 0.2261522470951428, 0.23280743395231224, 0.27987465289089525, 0.3579528707280371, 0.392283706427142, 0.48731791315679246, 0.5612851181334451, 0.602255627433642], \"xaxis\": \"x\", \"y\": [\"C\", \"C++\", \"TypeScript\", \"PHP\", \"C#\", \"Java\", \"Python\", \"SQL\", \"HTML/CSS\", \"JavaScript\"], \"yaxis\": \"y\", \"type\": \"bar\"}], \"name\": \"2020\"}]);\n",
       "                        }).then(function(){\n",
       "                            \n",
       "var gd = document.getElementById('f75687c3-8dbf-481b-bdb8-0edf0a7ccb9b');\n",
       "var x = new MutationObserver(function (mutations, observer) {{\n",
       "        var display = window.getComputedStyle(gd).display;\n",
       "        if (!display || display === 'none') {{\n",
       "            console.log([gd, 'removed!']);\n",
       "            Plotly.purge(gd);\n",
       "            observer.disconnect();\n",
       "        }}\n",
       "}});\n",
       "\n",
       "// Listen for the removal of the full notebook cells\n",
       "var notebookContainer = gd.closest('#notebook-container');\n",
       "if (notebookContainer) {{\n",
       "    x.observe(notebookContainer, {childList: true});\n",
       "}}\n",
       "\n",
       "// Listen for the clearing of the current output cell\n",
       "var outputEl = gd.closest('.output');\n",
       "if (outputEl) {{\n",
       "    x.observe(outputEl, {childList: true});\n",
       "}}\n",
       "\n",
       "                        })\n",
       "                };\n",
       "                });\n",
       "            </script>\n",
       "        </div>"
      ]
     },
     "metadata": {},
     "output_type": "display_data"
    }
   ],
   "source": [
    "fig = px.bar(\n",
    "    concat_programming_languages, x=\"percentage\", y=\"language\", text=\"percentage\",\n",
    "    animation_frame=\"year\", \n",
    "    color_discrete_sequence=['rgb(255, 231, 169)'],\n",
    "    hover_data={'year': False, 'language': True, 'percentage':':.2%',},\n",
    ")\n",
    "        \n",
    "slider_duration = 400\n",
    "for step in range(len(fig.layout.sliders[0].steps)):\n",
    "    fig.layout.sliders[0].steps[step].args[1]['transition'] = {\"duration\": slider_duration, \"easing\": \"cubic-in-out\"}\n",
    "    fig.layout.sliders[0].steps[step].args[1]['frame'] = {'duration': slider_duration, 'redraw': True}\n",
    "\n",
    "# button_duration = 1000\n",
    "# fig.layout.updatemenus[0].buttons[0].args[1][\"transition\"][\"duration\"] = button_duration\n",
    "# fig.layout.updatemenus[0].buttons[0].args[1][\"frame\"][\"duration\"] = button_duration\n",
    "fig.layout.updatemenus[0].buttons = None\n",
    "fig.layout.sliders[0]['x'] = 0\n",
    "fig.layout.sliders[0]['currentvalue'] = {\n",
    "    \"font\": {\"size\": 20},\n",
    "    \"prefix\": \"Year:\",\n",
    "    \"visible\": True,\n",
    "    \"xanchor\": \"right\"\n",
    "}\n",
    "\n",
    "textposition='outside'\n",
    "hovertemplate = \"%{y}: %{x:.2%}<br>\"+\"<extra></extra>\"\n",
    "for frame in fig.frames:\n",
    "    frame.data[0]['hovertemplate'] = hovertemplate\n",
    "    frame.data[0]['textposition'] = textposition\n",
    "\n",
    "fig.update_layout(\n",
    "    showlegend=False,\n",
    "    xaxis=dict(\n",
    "        showgrid=False,\n",
    "        showline=False,\n",
    "        zeroline=False,\n",
    "        showticklabels=False,\n",
    "        title='Percentage',\n",
    "        range=[0, 0.72]\n",
    "    ),\n",
    "    yaxis=dict(\n",
    "        title='',\n",
    "        showgrid=False,\n",
    "        showline=False,\n",
    "        zeroline=False,\n",
    "        ticks= \"outside\", \n",
    "        tickcolor= 'white', \n",
    "        ticklen= 8,\n",
    "    ),\n",
    "    title=dict(\n",
    "        text= \"Programming Languages Distribution\",\n",
    "        x=0.5,\n",
    "        xanchor='center',\n",
    "        yanchor='top'\n",
    "    ),\n",
    "    plot_bgcolor='rgba(0,0,0,0)',\n",
    "    margin= {'l': 140},\n",
    ")\n",
    "\n",
    "fig.update_traces(\n",
    "    texttemplate='%{text:.2%}',\n",
    "    textposition=textposition,\n",
    "    hovertemplate = hovertemplate\n",
    ")\n",
    "\n",
    "fig.show()"
   ]
  },
  {
   "cell_type": "code",
   "execution_count": 18,
   "metadata": {},
   "outputs": [
    {
     "data": {
      "text/plain": [
       "'https://plotly.com/~masharo/56/'"
      ]
     },
     "execution_count": 18,
     "metadata": {},
     "output_type": "execute_result"
    }
   ],
   "source": [
    "py.plot(fig, filename = 'stack-overflow-languages-over-year')"
   ]
  }
 ],
 "metadata": {
  "kernelspec": {
   "display_name": "Python 3",
   "language": "python",
   "name": "python3"
  },
  "language_info": {
   "codemirror_mode": {
    "name": "ipython",
    "version": 3
   },
   "file_extension": ".py",
   "mimetype": "text/x-python",
   "name": "python",
   "nbconvert_exporter": "python",
   "pygments_lexer": "ipython3",
   "version": "3.8.5"
  }
 },
 "nbformat": 4,
 "nbformat_minor": 4
}
