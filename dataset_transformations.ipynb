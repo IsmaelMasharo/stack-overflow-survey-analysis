{
 "cells": [
  {
   "cell_type": "code",
   "execution_count": 1,
   "metadata": {},
   "outputs": [],
   "source": [
    "import pandas as pd\n",
    "import numpy as np\n",
    "import matplotlib.pyplot as plt\n",
    "\n",
    "from pprint import pprint"
   ]
  },
  {
   "cell_type": "markdown",
   "metadata": {},
   "source": [
    "### Datasets load"
   ]
  },
  {
   "cell_type": "code",
   "execution_count": 2,
   "metadata": {},
   "outputs": [],
   "source": [
    "dataset_base_file_name = 'stack_overflow_datasets/survey_results_'\n",
    "dataset_years = list(range(2011,2021))"
   ]
  },
  {
   "cell_type": "code",
   "execution_count": 3,
   "metadata": {},
   "outputs": [],
   "source": [
    "# for the original dataset: encoding = \"ISO-8859-1\"\n",
    "dfs = {}\n",
    "for year in dataset_years:\n",
    "    name = f'{dataset_base_file_name}{year}.csv'\n",
    "    df = pd.read_csv(name, dtype=object)\n",
    "    df['year'] = year\n",
    "    dfs[year] = df"
   ]
  },
  {
   "cell_type": "markdown",
   "metadata": {},
   "source": [
    "### Renaming column name to snake case format"
   ]
  },
  {
   "cell_type": "code",
   "execution_count": 4,
   "metadata": {},
   "outputs": [],
   "source": [
    "import re\n",
    "def camel_to_snake(name):\n",
    "    # https://stackoverflow.com/a/1176023\n",
    "    name = name.replace(' ', '_').replace(\"'\", '').replace(':', '_').replace('?','')\n",
    "    name = re.sub('(.)([A-Z][a-z]+)', r'\\1_\\2', name)\n",
    "    name = re.sub('_+', r'_', name)\n",
    "    return re.sub('([a-z0-9])([A-Z])', r'\\1_\\2', name).lower()\n",
    "\n",
    "for df in dfs.values():\n",
    "    df.columns = map(lambda name: camel_to_snake(name), df.columns)"
   ]
  },
  {
   "cell_type": "markdown",
   "metadata": {},
   "source": [
    "### Dataset columns comparison helpers"
   ]
  },
  {
   "cell_type": "code",
   "execution_count": 5,
   "metadata": {},
   "outputs": [],
   "source": [
    "def print_year_dataset_cols_difference(base_year, years_against=[]):\n",
    "    df_to_compare_with = dfs\n",
    "    \n",
    "    if years_against:\n",
    "        df_to_compare_with = { year: dfs[year] for year in years_against }\n",
    "\n",
    "    columns_to_compare = set(dfs[base_year].columns.tolist())\n",
    "\n",
    "    for compared_year, compared_df in df_to_compare_with.items():\n",
    "        if compared_year <= base_year: continue\n",
    "        columns = compared_df.columns.tolist()\n",
    "        print(f'{base_year} columns not present in {compared_year}')\n",
    "        pprint(columns_to_compare - set(columns))\n",
    "        print('\\n')"
   ]
  },
  {
   "cell_type": "code",
   "execution_count": 6,
   "metadata": {},
   "outputs": [],
   "source": [
    "def print_similar_col_name(columns: list, years=[]):\n",
    "    df_to_compare_with = dfs\n",
    "    if years:\n",
    "        df_to_compare_with = { year: dfs[year] for year in years }\n",
    "\n",
    "    for year, df in df_to_compare_with.items():\n",
    "        print(year)\n",
    "        similar = set()\n",
    "        for name in columns:\n",
    "            similar.update([col for col in df.columns.tolist() if name in col])\n",
    "        pprint(similar)\n",
    "        print('\\n')"
   ]
  },
  {
   "cell_type": "markdown",
   "metadata": {},
   "source": [
    "### Questions persisted over years"
   ]
  },
  {
   "cell_type": "code",
   "execution_count": 7,
   "metadata": {
    "scrolled": true
   },
   "outputs": [
    {
     "name": "stdout",
     "output_type": "stream",
     "text": [
      "2011 columns not present in 2012\n",
      "{'programming_languages',\n",
      " 'programming_languages_oher',\n",
      " 'recommendation_likely_acted_upon',\n",
      " 'stackoverflow_sites_most_visited'}\n",
      "\n",
      "\n",
      "2011 columns not present in 2013\n",
      "{'programming_languages_oher',\n",
      " 'project_type',\n",
      " 'recommendation_likely_acted_upon',\n",
      " 'stackoverflow_sites_most_visited'}\n",
      "\n",
      "\n",
      "2011 columns not present in 2014\n",
      "{'company_size',\n",
      " 'job_satisfaction',\n",
      " 'programming_languages_oher',\n",
      " 'project_type',\n",
      " 'recommendation_likely_acted_upon',\n",
      " 'stackoverflow_sites_most_visited',\n",
      " 'techn_related_purchases_last_year'}\n",
      "\n",
      "\n",
      "2011 columns not present in 2015\n",
      "{'annual_compensation',\n",
      " 'company_size',\n",
      " 'outside_expenditures_budget',\n",
      " 'programming_languages',\n",
      " 'programming_languages_oher',\n",
      " 'project_type',\n",
      " 'purchase_involvement',\n",
      " 'purchase_involvement_type',\n",
      " 'recommendation_likely_acted_upon',\n",
      " 'stackoverflow_sites_most_visited',\n",
      " 'tech_products_own',\n",
      " 'tech_products_own_other',\n",
      " 'techn_related_purchases_last_year',\n",
      " 'usa_state'}\n",
      "\n",
      "\n",
      "2011 columns not present in 2016\n",
      "{'age',\n",
      " 'annual_compensation',\n",
      " 'company_size',\n",
      " 'os',\n",
      " 'outside_expenditures_budget',\n",
      " 'programming_languages',\n",
      " 'programming_languages_oher',\n",
      " 'project_type',\n",
      " 'purchase_involvement',\n",
      " 'purchase_involvement_type',\n",
      " 'recommendation_likely_acted_upon',\n",
      " 'stackoverflow_sites_most_visited',\n",
      " 'tech_products_own',\n",
      " 'tech_products_own_other',\n",
      " 'techn_related_purchases_last_year',\n",
      " 'usa_state',\n",
      " 'years_experience'}\n",
      "\n",
      "\n",
      "2011 columns not present in 2017\n",
      "{'age',\n",
      " 'annual_compensation',\n",
      " 'industry',\n",
      " 'occupation',\n",
      " 'os',\n",
      " 'outside_expenditures_budget',\n",
      " 'programming_languages',\n",
      " 'programming_languages_oher',\n",
      " 'project_type',\n",
      " 'purchase_involvement',\n",
      " 'purchase_involvement_type',\n",
      " 'recommendation_likely_acted_upon',\n",
      " 'stackoverflow_sites_most_visited',\n",
      " 'tech_products_own',\n",
      " 'tech_products_own_other',\n",
      " 'techn_related_purchases_last_year',\n",
      " 'usa_state',\n",
      " 'years_experience'}\n",
      "\n",
      "\n",
      "2011 columns not present in 2018\n",
      "{'annual_compensation',\n",
      " 'industry',\n",
      " 'occupation',\n",
      " 'os',\n",
      " 'outside_expenditures_budget',\n",
      " 'programming_languages',\n",
      " 'programming_languages_oher',\n",
      " 'project_type',\n",
      " 'purchase_involvement',\n",
      " 'purchase_involvement_type',\n",
      " 'recommendation_likely_acted_upon',\n",
      " 'stackoverflow_sites_most_visited',\n",
      " 'tech_products_own',\n",
      " 'tech_products_own_other',\n",
      " 'techn_related_purchases_last_year',\n",
      " 'usa_state',\n",
      " 'years_experience'}\n",
      "\n",
      "\n",
      "2011 columns not present in 2019\n",
      "{'annual_compensation',\n",
      " 'company_size',\n",
      " 'industry',\n",
      " 'job_satisfaction',\n",
      " 'occupation',\n",
      " 'os',\n",
      " 'outside_expenditures_budget',\n",
      " 'programming_languages',\n",
      " 'programming_languages_oher',\n",
      " 'project_type',\n",
      " 'purchase_involvement',\n",
      " 'purchase_involvement_type',\n",
      " 'recommendation_likely_acted_upon',\n",
      " 'stackoverflow_sites_most_visited',\n",
      " 'tech_products_own',\n",
      " 'tech_products_own_other',\n",
      " 'techn_related_purchases_last_year',\n",
      " 'usa_state',\n",
      " 'years_experience'}\n",
      "\n",
      "\n",
      "2011 columns not present in 2020\n",
      "{'annual_compensation',\n",
      " 'company_size',\n",
      " 'industry',\n",
      " 'job_satisfaction',\n",
      " 'occupation',\n",
      " 'os',\n",
      " 'outside_expenditures_budget',\n",
      " 'programming_languages',\n",
      " 'programming_languages_oher',\n",
      " 'project_type',\n",
      " 'purchase_involvement',\n",
      " 'purchase_involvement_type',\n",
      " 'recommendation_likely_acted_upon',\n",
      " 'stackoverflow_sites_most_visited',\n",
      " 'tech_products_own',\n",
      " 'tech_products_own_other',\n",
      " 'techn_related_purchases_last_year',\n",
      " 'usa_state',\n",
      " 'years_experience'}\n",
      "\n",
      "\n"
     ]
    }
   ],
   "source": [
    "print_year_dataset_cols_difference(2011)"
   ]
  },
  {
   "cell_type": "markdown",
   "metadata": {},
   "source": [
    "### Column names similarity\n",
    "Finding column names similarity based in some basic descriptors like:\n",
    "* `data`, `age`, `year`, `gender`, `experience`, `time`, `want`, `lang`"
   ]
  },
  {
   "cell_type": "code",
   "execution_count": 8,
   "metadata": {
    "scrolled": true
   },
   "outputs": [
    {
     "name": "stdout",
     "output_type": "stream",
     "text": [
      "2011\n",
      "{'programming_languages', 'programming_languages_oher'}\n",
      "\n",
      "\n",
      "2012\n",
      "{'programming_language_other', 'programming_language'}\n",
      "\n",
      "\n",
      "2013\n",
      "{'programming_languages_other', 'programming_languages'}\n",
      "\n",
      "\n",
      "2014\n",
      "{'programming_languages_other', 'programming_languages'}\n",
      "\n",
      "\n",
      "2015\n",
      "{'programming_language',\n",
      " 'programming_language_other',\n",
      " 'want_work_language',\n",
      " 'want_work_language_other'}\n",
      "\n",
      "\n",
      "2016\n",
      "set()\n",
      "\n",
      "\n",
      "2017\n",
      "{'want_work_language', 'have_worked_language'}\n",
      "\n",
      "\n",
      "2018\n",
      "{'language_desire_next_year', 'language_worked_with'}\n",
      "\n",
      "\n",
      "2019\n",
      "{'language_desire_next_year', 'language_worked_with'}\n",
      "\n",
      "\n",
      "2020\n",
      "{'language_desire_next_year', 'language_worked_with'}\n",
      "\n",
      "\n"
     ]
    }
   ],
   "source": [
    "print_similar_col_name(['language'], [])"
   ]
  },
  {
   "cell_type": "markdown",
   "metadata": {},
   "source": [
    "### Dataset head exploration"
   ]
  },
  {
   "cell_type": "code",
   "execution_count": 9,
   "metadata": {},
   "outputs": [
    {
     "data": {
      "text/html": [
       "<div>\n",
       "<style scoped>\n",
       "    .dataframe tbody tr th:only-of-type {\n",
       "        vertical-align: middle;\n",
       "    }\n",
       "\n",
       "    .dataframe tbody tr th {\n",
       "        vertical-align: top;\n",
       "    }\n",
       "\n",
       "    .dataframe thead th {\n",
       "        text-align: right;\n",
       "    }\n",
       "</style>\n",
       "<table border=\"1\" class=\"dataframe\">\n",
       "  <thead>\n",
       "    <tr style=\"text-align: right;\">\n",
       "      <th></th>\n",
       "      <th>respondent</th>\n",
       "      <th>professional</th>\n",
       "      <th>program_hobby</th>\n",
       "      <th>country</th>\n",
       "      <th>university</th>\n",
       "      <th>employment_status</th>\n",
       "      <th>formal_education</th>\n",
       "      <th>major_undergrad</th>\n",
       "      <th>home_remote</th>\n",
       "      <th>company_size</th>\n",
       "      <th>...</th>\n",
       "      <th>gender</th>\n",
       "      <th>highest_education_parents</th>\n",
       "      <th>race</th>\n",
       "      <th>survey_long</th>\n",
       "      <th>questions_interesting</th>\n",
       "      <th>questions_confusing</th>\n",
       "      <th>interested_answers</th>\n",
       "      <th>salary</th>\n",
       "      <th>expected_salary</th>\n",
       "      <th>year</th>\n",
       "    </tr>\n",
       "  </thead>\n",
       "  <tbody>\n",
       "    <tr>\n",
       "      <th>0</th>\n",
       "      <td>1</td>\n",
       "      <td>Student</td>\n",
       "      <td>Yes, both</td>\n",
       "      <td>United States</td>\n",
       "      <td>No</td>\n",
       "      <td>Not employed, and not looking for work</td>\n",
       "      <td>Secondary school</td>\n",
       "      <td>NaN</td>\n",
       "      <td>NaN</td>\n",
       "      <td>NaN</td>\n",
       "      <td>...</td>\n",
       "      <td>Male</td>\n",
       "      <td>High school</td>\n",
       "      <td>White or of European descent</td>\n",
       "      <td>Strongly disagree</td>\n",
       "      <td>Strongly agree</td>\n",
       "      <td>Disagree</td>\n",
       "      <td>Strongly agree</td>\n",
       "      <td>NaN</td>\n",
       "      <td>NaN</td>\n",
       "      <td>2017</td>\n",
       "    </tr>\n",
       "  </tbody>\n",
       "</table>\n",
       "<p>1 rows × 155 columns</p>\n",
       "</div>"
      ],
      "text/plain": [
       "  respondent professional program_hobby        country university  \\\n",
       "0          1      Student     Yes, both  United States         No   \n",
       "\n",
       "                        employment_status  formal_education major_undergrad  \\\n",
       "0  Not employed, and not looking for work  Secondary school             NaN   \n",
       "\n",
       "  home_remote company_size  ... gender highest_education_parents  \\\n",
       "0         NaN          NaN  ...   Male               High school   \n",
       "\n",
       "                           race        survey_long questions_interesting  \\\n",
       "0  White or of European descent  Strongly disagree        Strongly agree   \n",
       "\n",
       "  questions_confusing interested_answers salary expected_salary  year  \n",
       "0            Disagree     Strongly agree    NaN             NaN  2017  \n",
       "\n",
       "[1 rows x 155 columns]"
      ]
     },
     "execution_count": 9,
     "metadata": {},
     "output_type": "execute_result"
    }
   ],
   "source": [
    "dfs[2017].head(1)"
   ]
  },
  {
   "cell_type": "markdown",
   "metadata": {},
   "source": [
    "### Merging and transforming common columns"
   ]
  },
  {
   "cell_type": "markdown",
   "metadata": {},
   "source": [
    "* 2018 occupation is expressed in both student and employment questions, so lets merge these two"
   ]
  },
  {
   "cell_type": "code",
   "execution_count": 10,
   "metadata": {},
   "outputs": [],
   "source": [
    "dfs[2018].student.replace(['Yes, part-time', 'Yes, full-time', 'No'], ['student part-time', 'student full-time', 'Not student'], inplace=True)\n",
    "dfs[2018]['occupation'] = dfs[2018].student + ';' + dfs[2018].employment"
   ]
  },
  {
   "cell_type": "markdown",
   "metadata": {},
   "source": [
    "* 2017 remote status related questions `collaborate_remote, assess_job_remote, home_remote`"
   ]
  },
  {
   "cell_type": "code",
   "execution_count": 11,
   "metadata": {},
   "outputs": [
    {
     "data": {
      "text/plain": [
       "array([nan, 'Strongly disagree', 'Somewhat agree', 'Agree', 'Disagree',\n",
       "       'Strongly agree'], dtype=object)"
      ]
     },
     "metadata": {},
     "output_type": "display_data"
    },
    {
     "data": {
      "text/plain": [
       "array(['Very important', nan, 'Somewhat important',\n",
       "       'Not at all important', 'Important', 'Not very important'],\n",
       "      dtype=object)"
      ]
     },
     "metadata": {},
     "output_type": "display_data"
    },
    {
     "data": {
      "text/plain": [
       "array([nan, 'More than half, but not all, the time',\n",
       "       'Less than half the time, but at least one day each week', 'Never',\n",
       "       \"All or almost all the time (I'm full-time remote)\",\n",
       "       \"It's complicated\", 'A few days each month', 'About half the time'],\n",
       "      dtype=object)"
      ]
     },
     "metadata": {},
     "output_type": "display_data"
    }
   ],
   "source": [
    "display(dfs[2017]['collaborate_remote'].unique())\n",
    "display(dfs[2017]['assess_job_remote'].unique())\n",
    "display(dfs[2017]['home_remote'].unique())"
   ]
  },
  {
   "cell_type": "markdown",
   "metadata": {},
   "source": [
    "### Datasets columns renaming\n",
    "After exploring common names here's the final mapping."
   ]
  },
  {
   "cell_type": "code",
   "execution_count": 12,
   "metadata": {},
   "outputs": [],
   "source": [
    "for df in dfs.values():\n",
    "    columns_renamed={\n",
    "        'salary': 'annual_compensation',\n",
    "        'annueal_compensation': 'annual_compensation',\n",
    "        \n",
    "        'org_size': 'company_size',\n",
    "        \n",
    "        'years_code': 'years_experience', \n",
    "        'years_coding': 'years_experience', \n",
    "        'years_program': 'years_experience', \n",
    "        \n",
    "        'main_branch': 'occupation', \n",
    "        'professional': 'occupation',\n",
    "        \n",
    "        'training_and_education': 'education',\n",
    "        'education_types': 'education',\n",
    "        'ed_level': 'education',\n",
    "        \n",
    "        'remote': 'remote_status',\n",
    "        'work_remote': 'remote_status',\n",
    "        'home_remote': 'remote_status',\n",
    "        \n",
    "        'job_sat': 'job_satisfaction',\n",
    "        \n",
    "        'op_sys': 'os',\n",
    "        'operating_system': 'os',\n",
    "        'desktop_os': 'os',\n",
    "        \n",
    "        'age_range': 'age',\n",
    "        'company_size_range': 'company_size',\n",
    "        'experience_range': 'years_experience',\n",
    "        'salary_range': 'annual_compensation',\n",
    "        'team_size_range': 'team_size',\n",
    "        \n",
    "        'language_worked_with': 'programming_languages',\n",
    "        'have_worked_language': 'programming_languages',\n",
    "        'tech_do': 'programming_languages',\n",
    "        'programming_lalnguages': 'programming_languages',\n",
    "        'programming_language': 'programming_languages',\n",
    "        'programming_languages_oher': 'programming_languages_other',\n",
    "        'programming_language_other': 'programming_languages_other',\n",
    "        \n",
    "        'future_language_or_tech': 'want_work_language',\n",
    "        'tech_want': 'want_work_language',\n",
    "        'language_desire_next_year': 'want_work_language',\n",
    "        'new_tech_interests': 'want_work_language',\n",
    "        \n",
    "        'have_worked_database': 'database_worked_with',\n",
    "        'want_work_database': 'database_desire_work',\n",
    "        'database_desire_next_year': 'database_desire_work',\n",
    "        \n",
    "        'major_undergrad': 'undergrad_mayor', \n",
    " \n",
    "        'so_visit1st': 'stack_overflow_visit1st',\n",
    "        'so_visit_freq': 'stack_overflow_visit_freq',\n",
    "        'so_visit_to': 'stack_overflow_visit_to',\n",
    "        'so_find_answer': 'stack_overflow_find_answer',\n",
    "        'so_time_saved': 'stack_overflow_time_saved',\n",
    "        'so_how_much_time': 'stack_overflow_how_much_time',\n",
    "        'so_account': 'stack_overflow_account',\n",
    "        'so_part_freq': 'stack_overflow_part_freq',\n",
    "        'so_jobs': 'stack_overflow_jobs',\n",
    "        'so_comm': 'stack_overflow_comm',\n",
    "        'so_new_content': 'stack_overflow_new_content',\n",
    "        'so_region': 'stack_overflow_region',\n",
    "        'newso_sites': 'new_stack_overflow_sites'\n",
    "    }\n",
    "    df.rename(columns=columns_renamed, inplace=True)"
   ]
  },
  {
   "cell_type": "markdown",
   "metadata": {},
   "source": [
    "### Questions over time\n",
    "After exploring some common questions persisted over time, here's the final list of questions that will be used for analysis:\n",
    "\n",
    "`P: present`  \n",
    "`NP: not present`  \n",
    "`AP: always present`\n",
    "\n",
    "* `programming_languages`: AP\n",
    "* `country`: AP\n",
    "* `years_experience`: AP\n",
    "* `occupation`: AP\n",
    "\n",
    "\n",
    "* `age`: AP but 2017\n",
    "* `os`: AP but 2017\n",
    "* `job_satisfaction`: AP but 2014\n",
    "* `company_size`: AP but 2014, 2015\n",
    "\n",
    "\n",
    "* `want_work_language`: P since 2013\n",
    "* `gender`: P since 2014\n",
    "* `education`: P since 2015\n",
    "* `database_desire_work`: P since 2017\n",
    "* `database_worked_with`: P since 2017\n",
    "* `undergrad_major`: P since 2018\n",
    "\n",
    "\n",
    "* `remote_status`: P 2014-2017, 2019\n",
    "\n",
    "\n",
    "* `industry`: NP since 2017"
   ]
  },
  {
   "cell_type": "markdown",
   "metadata": {},
   "source": [
    "### Missing values per row per dataset\n",
    "Feature column for tracking percetage of missing rows per year dataset."
   ]
  },
  {
   "cell_type": "code",
   "execution_count": 13,
   "metadata": {},
   "outputs": [],
   "source": [
    "for df in dfs.values():\n",
    "    presence_values_percentage = df.apply(lambda x: x.count(), axis=1)/df.shape[1]*100\n",
    "    df['original_missing_values_per_row_percentage'] = 100 - presence_values_percentage\n",
    "    df['original_missing_values_per_row_percentage'] = df['original_missing_values_per_row_percentage'].round(2)"
   ]
  },
  {
   "cell_type": "code",
   "execution_count": 14,
   "metadata": {},
   "outputs": [
    {
     "data": {
      "text/plain": [
       "0.00      13\n",
       "4.55     243\n",
       "9.09     760\n",
       "13.64    839\n",
       "18.18    314\n",
       "22.73    303\n",
       "27.27     62\n",
       "31.82     23\n",
       "36.36     21\n",
       "40.91      9\n",
       "45.45     11\n",
       "50.00      8\n",
       "54.55     22\n",
       "59.09     18\n",
       "72.73     15\n",
       "77.27     68\n",
       "86.36     11\n",
       "90.91     73\n",
       "Name: original_missing_values_per_row_percentage, dtype: int64"
      ]
     },
     "execution_count": 14,
     "metadata": {},
     "output_type": "execute_result"
    }
   ],
   "source": [
    "dfs[2011]['original_missing_values_per_row_percentage'].value_counts().sort_index()"
   ]
  },
  {
   "cell_type": "markdown",
   "metadata": {},
   "source": [
    "### Merging datasets common questions"
   ]
  },
  {
   "cell_type": "code",
   "execution_count": 15,
   "metadata": {},
   "outputs": [],
   "source": [
    "features = [\n",
    "    'year', 'original_missing_values_per_row_percentage',\n",
    "    'country', 'programming_languages', 'programming_languages_other', 'years_experience', 'occupation',\n",
    "    'age', 'os', 'job_satisfaction', 'company_size',\n",
    "    'want_work_language', 'gender', 'education', 'database_desire_work', 'database_worked_with', 'undergrad_major',\n",
    "    'remote_status',\n",
    "    'industry'\n",
    "]"
   ]
  },
  {
   "cell_type": "code",
   "execution_count": 16,
   "metadata": {},
   "outputs": [],
   "source": [
    "concat_df = pd.concat([df for df in dfs.values()], ignore_index=True)[features]"
   ]
  },
  {
   "cell_type": "code",
   "execution_count": 17,
   "metadata": {},
   "outputs": [],
   "source": [
    "concat_df.to_csv('survey_report_concat_common_questions.csv', index=False)"
   ]
  }
 ],
 "metadata": {
  "kernelspec": {
   "display_name": "Python 3",
   "language": "python",
   "name": "python3"
  },
  "language_info": {
   "codemirror_mode": {
    "name": "ipython",
    "version": 3
   },
   "file_extension": ".py",
   "mimetype": "text/x-python",
   "name": "python",
   "nbconvert_exporter": "python",
   "pygments_lexer": "ipython3",
   "version": "3.8.5"
  }
 },
 "nbformat": 4,
 "nbformat_minor": 4
}
