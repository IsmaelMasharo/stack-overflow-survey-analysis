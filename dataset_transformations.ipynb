{
 "cells": [
  {
   "cell_type": "code",
   "execution_count": 1,
   "metadata": {},
   "outputs": [],
   "source": [
    "import pandas as pd\n",
    "import numpy as np\n",
    "import matplotlib.pyplot as plt\n",
    "\n",
    "from pprint import pprint\n",
    "\n",
    "from scripts.dataset_explorer import SODataSetExplorer"
   ]
  },
  {
   "cell_type": "markdown",
   "metadata": {},
   "source": [
    "### Datasets load"
   ]
  },
  {
   "cell_type": "code",
   "execution_count": 2,
   "metadata": {},
   "outputs": [],
   "source": [
    "df_explorer = SODataSetExplorer()"
   ]
  },
  {
   "cell_type": "markdown",
   "metadata": {},
   "source": [
    "### Comparing column across years"
   ]
  },
  {
   "cell_type": "code",
   "execution_count": 6,
   "metadata": {
    "scrolled": true
   },
   "outputs": [
    {
     "name": "stdout",
     "output_type": "stream",
     "text": [
      "2011 columns not present in 2012\n",
      "{'programming_languages',\n",
      " 'programming_languages_oher',\n",
      " 'recommendation_likely_acted_upon',\n",
      " 'stackoverflow_sites_most_visited'}\n",
      "\n",
      "\n",
      "2011 columns not present in 2013\n",
      "{'programming_languages_oher',\n",
      " 'project_type',\n",
      " 'recommendation_likely_acted_upon',\n",
      " 'stackoverflow_sites_most_visited'}\n",
      "\n",
      "\n",
      "2011 columns not present in 2014\n",
      "{'company_size',\n",
      " 'job_satisfaction',\n",
      " 'programming_languages_oher',\n",
      " 'project_type',\n",
      " 'recommendation_likely_acted_upon',\n",
      " 'stackoverflow_sites_most_visited',\n",
      " 'techn_related_purchases_last_year'}\n",
      "\n",
      "\n",
      "2011 columns not present in 2015\n",
      "{'annual_compensation',\n",
      " 'company_size',\n",
      " 'outside_expenditures_budget',\n",
      " 'programming_languages',\n",
      " 'programming_languages_oher',\n",
      " 'project_type',\n",
      " 'purchase_involvement',\n",
      " 'purchase_involvement_type',\n",
      " 'recommendation_likely_acted_upon',\n",
      " 'stackoverflow_sites_most_visited',\n",
      " 'tech_products_own',\n",
      " 'tech_products_own_other',\n",
      " 'techn_related_purchases_last_year',\n",
      " 'usa_state'}\n",
      "\n",
      "\n",
      "2011 columns not present in 2016\n",
      "{'age',\n",
      " 'annual_compensation',\n",
      " 'company_size',\n",
      " 'os',\n",
      " 'outside_expenditures_budget',\n",
      " 'programming_languages',\n",
      " 'programming_languages_oher',\n",
      " 'project_type',\n",
      " 'purchase_involvement',\n",
      " 'purchase_involvement_type',\n",
      " 'recommendation_likely_acted_upon',\n",
      " 'stackoverflow_sites_most_visited',\n",
      " 'tech_products_own',\n",
      " 'tech_products_own_other',\n",
      " 'techn_related_purchases_last_year',\n",
      " 'usa_state',\n",
      " 'years_experience'}\n",
      "\n",
      "\n",
      "2011 columns not present in 2017\n",
      "{'age',\n",
      " 'annual_compensation',\n",
      " 'industry',\n",
      " 'occupation',\n",
      " 'os',\n",
      " 'outside_expenditures_budget',\n",
      " 'programming_languages',\n",
      " 'programming_languages_oher',\n",
      " 'project_type',\n",
      " 'purchase_involvement',\n",
      " 'purchase_involvement_type',\n",
      " 'recommendation_likely_acted_upon',\n",
      " 'stackoverflow_sites_most_visited',\n",
      " 'tech_products_own',\n",
      " 'tech_products_own_other',\n",
      " 'techn_related_purchases_last_year',\n",
      " 'usa_state',\n",
      " 'years_experience'}\n",
      "\n",
      "\n",
      "2011 columns not present in 2018\n",
      "{'annual_compensation',\n",
      " 'industry',\n",
      " 'occupation',\n",
      " 'os',\n",
      " 'outside_expenditures_budget',\n",
      " 'programming_languages',\n",
      " 'programming_languages_oher',\n",
      " 'project_type',\n",
      " 'purchase_involvement',\n",
      " 'purchase_involvement_type',\n",
      " 'recommendation_likely_acted_upon',\n",
      " 'stackoverflow_sites_most_visited',\n",
      " 'tech_products_own',\n",
      " 'tech_products_own_other',\n",
      " 'techn_related_purchases_last_year',\n",
      " 'usa_state',\n",
      " 'years_experience'}\n",
      "\n",
      "\n",
      "2011 columns not present in 2019\n",
      "{'annual_compensation',\n",
      " 'company_size',\n",
      " 'industry',\n",
      " 'job_satisfaction',\n",
      " 'occupation',\n",
      " 'os',\n",
      " 'outside_expenditures_budget',\n",
      " 'programming_languages',\n",
      " 'programming_languages_oher',\n",
      " 'project_type',\n",
      " 'purchase_involvement',\n",
      " 'purchase_involvement_type',\n",
      " 'recommendation_likely_acted_upon',\n",
      " 'stackoverflow_sites_most_visited',\n",
      " 'tech_products_own',\n",
      " 'tech_products_own_other',\n",
      " 'techn_related_purchases_last_year',\n",
      " 'usa_state',\n",
      " 'years_experience'}\n",
      "\n",
      "\n",
      "2011 columns not present in 2020\n",
      "{'annual_compensation',\n",
      " 'company_size',\n",
      " 'industry',\n",
      " 'job_satisfaction',\n",
      " 'occupation',\n",
      " 'os',\n",
      " 'outside_expenditures_budget',\n",
      " 'programming_languages',\n",
      " 'programming_languages_oher',\n",
      " 'project_type',\n",
      " 'purchase_involvement',\n",
      " 'purchase_involvement_type',\n",
      " 'recommendation_likely_acted_upon',\n",
      " 'stackoverflow_sites_most_visited',\n",
      " 'tech_products_own',\n",
      " 'tech_products_own_other',\n",
      " 'techn_related_purchases_last_year',\n",
      " 'usa_state',\n",
      " 'years_experience'}\n",
      "\n",
      "\n"
     ]
    }
   ],
   "source": [
    "df_explorer.dataset_cols_difference(2011);"
   ]
  },
  {
   "cell_type": "markdown",
   "metadata": {},
   "source": [
    "### Column names similarity\n",
    "Finding column names similarity based in some basic descriptors like:\n",
    "* `data`, `age`, `year`, `gender`, `experience`, `time`, `want`, `lang`"
   ]
  },
  {
   "cell_type": "code",
   "execution_count": 5,
   "metadata": {
    "scrolled": true
   },
   "outputs": [
    {
     "name": "stdout",
     "output_type": "stream",
     "text": [
      "2011\n",
      "{'programming_languages', 'programming_languages_oher'}\n",
      "\n",
      "\n",
      "2012\n",
      "{'programming_language_other', 'programming_language'}\n",
      "\n",
      "\n",
      "2013\n",
      "{'programming_languages', 'programming_languages_other'}\n",
      "\n",
      "\n",
      "2014\n",
      "{'programming_languages', 'programming_languages_other'}\n",
      "\n",
      "\n",
      "2015\n",
      "{'programming_language',\n",
      " 'programming_language_other',\n",
      " 'want_work_language',\n",
      " 'want_work_language_other'}\n",
      "\n",
      "\n",
      "2016\n",
      "set()\n",
      "\n",
      "\n",
      "2017\n",
      "{'want_work_language', 'have_worked_language'}\n",
      "\n",
      "\n",
      "2018\n",
      "{'language_worked_with', 'language_desire_next_year'}\n",
      "\n",
      "\n",
      "2019\n",
      "{'language_worked_with', 'language_desire_next_year'}\n",
      "\n",
      "\n",
      "2020\n",
      "{'language_worked_with', 'language_desire_next_year'}\n",
      "\n",
      "\n"
     ]
    }
   ],
   "source": [
    "df_explorer.similar_columns(['language']);"
   ]
  },
  {
   "cell_type": "markdown",
   "metadata": {},
   "source": [
    "### Dataset head exploration"
   ]
  },
  {
   "cell_type": "code",
   "execution_count": 7,
   "metadata": {},
   "outputs": [
    {
     "data": {
      "text/html": [
       "<div>\n",
       "<style scoped>\n",
       "    .dataframe tbody tr th:only-of-type {\n",
       "        vertical-align: middle;\n",
       "    }\n",
       "\n",
       "    .dataframe tbody tr th {\n",
       "        vertical-align: top;\n",
       "    }\n",
       "\n",
       "    .dataframe thead th {\n",
       "        text-align: right;\n",
       "    }\n",
       "</style>\n",
       "<table border=\"1\" class=\"dataframe\">\n",
       "  <thead>\n",
       "    <tr style=\"text-align: right;\">\n",
       "      <th></th>\n",
       "      <th>respondent</th>\n",
       "      <th>professional</th>\n",
       "      <th>program_hobby</th>\n",
       "      <th>country</th>\n",
       "      <th>university</th>\n",
       "      <th>employment_status</th>\n",
       "      <th>formal_education</th>\n",
       "      <th>major_undergrad</th>\n",
       "      <th>home_remote</th>\n",
       "      <th>company_size</th>\n",
       "      <th>...</th>\n",
       "      <th>gender</th>\n",
       "      <th>highest_education_parents</th>\n",
       "      <th>race</th>\n",
       "      <th>survey_long</th>\n",
       "      <th>questions_interesting</th>\n",
       "      <th>questions_confusing</th>\n",
       "      <th>interested_answers</th>\n",
       "      <th>salary</th>\n",
       "      <th>expected_salary</th>\n",
       "      <th>year</th>\n",
       "    </tr>\n",
       "  </thead>\n",
       "  <tbody>\n",
       "    <tr>\n",
       "      <th>0</th>\n",
       "      <td>1</td>\n",
       "      <td>Student</td>\n",
       "      <td>Yes, both</td>\n",
       "      <td>United States</td>\n",
       "      <td>No</td>\n",
       "      <td>Not employed, and not looking for work</td>\n",
       "      <td>Secondary school</td>\n",
       "      <td>NaN</td>\n",
       "      <td>NaN</td>\n",
       "      <td>NaN</td>\n",
       "      <td>...</td>\n",
       "      <td>Male</td>\n",
       "      <td>High school</td>\n",
       "      <td>White or of European descent</td>\n",
       "      <td>Strongly disagree</td>\n",
       "      <td>Strongly agree</td>\n",
       "      <td>Disagree</td>\n",
       "      <td>Strongly agree</td>\n",
       "      <td>NaN</td>\n",
       "      <td>NaN</td>\n",
       "      <td>2017</td>\n",
       "    </tr>\n",
       "  </tbody>\n",
       "</table>\n",
       "<p>1 rows × 155 columns</p>\n",
       "</div>"
      ],
      "text/plain": [
       "  respondent professional program_hobby        country university  \\\n",
       "0          1      Student     Yes, both  United States         No   \n",
       "\n",
       "                        employment_status  formal_education major_undergrad  \\\n",
       "0  Not employed, and not looking for work  Secondary school             NaN   \n",
       "\n",
       "  home_remote company_size  ... gender highest_education_parents  \\\n",
       "0         NaN          NaN  ...   Male               High school   \n",
       "\n",
       "                           race        survey_long questions_interesting  \\\n",
       "0  White or of European descent  Strongly disagree        Strongly agree   \n",
       "\n",
       "  questions_confusing interested_answers salary expected_salary  year  \n",
       "0            Disagree     Strongly agree    NaN             NaN  2017  \n",
       "\n",
       "[1 rows x 155 columns]"
      ]
     },
     "execution_count": 7,
     "metadata": {},
     "output_type": "execute_result"
    }
   ],
   "source": [
    "df_explorer.datasets[2017].head(1)"
   ]
  },
  {
   "cell_type": "markdown",
   "metadata": {},
   "source": [
    "### Merging and transforming common columns"
   ]
  },
  {
   "cell_type": "markdown",
   "metadata": {},
   "source": [
    "* 2018 occupation is expressed in both student and employment questions, so lets merge these two"
   ]
  },
  {
   "cell_type": "code",
   "execution_count": 8,
   "metadata": {},
   "outputs": [],
   "source": [
    "df_explorer.datasets[2018].student.replace(\n",
    "    ['Yes, part-time', 'Yes, full-time', 'No'], \n",
    "    ['student part-time', 'student full-time', 'Not student'], \n",
    "    inplace=True\n",
    ")"
   ]
  },
  {
   "cell_type": "code",
   "execution_count": 9,
   "metadata": {},
   "outputs": [],
   "source": [
    "df_explorer.datasets[2018]['occupation'] = (\n",
    "    df_explorer.datasets[2018].student + ';' + \n",
    "    df_explorer.datasets[2018].employment\n",
    ")"
   ]
  },
  {
   "cell_type": "markdown",
   "metadata": {},
   "source": [
    "* 2017 remote status related questions `collaborate_remote, assess_job_remote, home_remote`.  \n",
    "\n",
    "  *home_remote* feature captures the time spent in remote work"
   ]
  },
  {
   "cell_type": "code",
   "execution_count": 10,
   "metadata": {},
   "outputs": [
    {
     "data": {
      "text/plain": [
       "array([nan, 'Strongly disagree', 'Somewhat agree', 'Agree', 'Disagree',\n",
       "       'Strongly agree'], dtype=object)"
      ]
     },
     "metadata": {},
     "output_type": "display_data"
    },
    {
     "data": {
      "text/plain": [
       "array(['Very important', nan, 'Somewhat important',\n",
       "       'Not at all important', 'Important', 'Not very important'],\n",
       "      dtype=object)"
      ]
     },
     "metadata": {},
     "output_type": "display_data"
    },
    {
     "data": {
      "text/plain": [
       "array([nan, 'More than half, but not all, the time',\n",
       "       'Less than half the time, but at least one day each week', 'Never',\n",
       "       \"All or almost all the time (I'm full-time remote)\",\n",
       "       \"It's complicated\", 'A few days each month', 'About half the time'],\n",
       "      dtype=object)"
      ]
     },
     "metadata": {},
     "output_type": "display_data"
    }
   ],
   "source": [
    "display(df_explorer.datasets[2017]['collaborate_remote'].unique())\n",
    "display(df_explorer.datasets[2017]['assess_job_remote'].unique())\n",
    "display(df_explorer.datasets[2017]['home_remote'].unique())"
   ]
  },
  {
   "cell_type": "markdown",
   "metadata": {},
   "source": [
    "### Datasets columns renaming\n",
    "After exploring common names here's the mapping taken.  \n",
    "*- **Note** This mapping is performed over the initial openrefine operation results*"
   ]
  },
  {
   "cell_type": "code",
   "execution_count": 11,
   "metadata": {},
   "outputs": [],
   "source": [
    "from scripts.column_rename import column_rename_mapping\n",
    "\n",
    "df_explorer.rename_columns(column_rename_mapping)"
   ]
  },
  {
   "cell_type": "markdown",
   "metadata": {},
   "source": [
    "### Questions over time\n",
    "After exploring some common questions persisted over time, here's the final list of questions that will be used for analysis:\n",
    "\n",
    "`P: present`  \n",
    "`NP: not present`  \n",
    "`AP: always present`\n",
    "\n",
    "* `programming_languages`: AP\n",
    "* `country`: AP\n",
    "* `years_experience`: AP\n",
    "* `occupation`: AP\n",
    "\n",
    "\n",
    "* `age`: AP but 2017\n",
    "* `os`: AP but 2017\n",
    "* `job_satisfaction`: AP but 2014\n",
    "* `company_size`: AP but 2014, 2015\n",
    "\n",
    "\n",
    "* `want_work_language`: P since 2013\n",
    "* `gender`: P since 2014\n",
    "* `education`: P since 2015\n",
    "* `database_desire_work`: P since 2017\n",
    "* `database_worked_with`: P since 2017\n",
    "* `undergrad_major`: P since 2018\n",
    "\n",
    "\n",
    "* `remote_status`: P 2014-2017, 2019\n",
    "\n",
    "\n",
    "* `industry`: NP since 2017"
   ]
  },
  {
   "cell_type": "markdown",
   "metadata": {},
   "source": [
    "### Missing values per row per dataset\n",
    "Feature column for tracking percetage of missing rows per year dataset."
   ]
  },
  {
   "cell_type": "code",
   "execution_count": 12,
   "metadata": {},
   "outputs": [],
   "source": [
    "for df in df_explorer.datasets.values():\n",
    "    presence_values_percentage = df.apply(lambda x: x.count(), axis=1)/df.shape[1]*100\n",
    "    df['original_missing_values_per_row_percentage'] = 100 - presence_values_percentage\n",
    "    df['original_missing_values_per_row_percentage'] = df['original_missing_values_per_row_percentage'].round(2)"
   ]
  },
  {
   "cell_type": "code",
   "execution_count": 13,
   "metadata": {},
   "outputs": [
    {
     "data": {
      "text/html": [
       "<div>\n",
       "<style scoped>\n",
       "    .dataframe tbody tr th:only-of-type {\n",
       "        vertical-align: middle;\n",
       "    }\n",
       "\n",
       "    .dataframe tbody tr th {\n",
       "        vertical-align: top;\n",
       "    }\n",
       "\n",
       "    .dataframe thead th {\n",
       "        text-align: right;\n",
       "    }\n",
       "</style>\n",
       "<table border=\"1\" class=\"dataframe\">\n",
       "  <thead>\n",
       "    <tr style=\"text-align: right;\">\n",
       "      <th></th>\n",
       "      <th>original_missing_values_per_row_percentage</th>\n",
       "    </tr>\n",
       "  </thead>\n",
       "  <tbody>\n",
       "    <tr>\n",
       "      <th>0.00</th>\n",
       "      <td>13</td>\n",
       "    </tr>\n",
       "    <tr>\n",
       "      <th>4.55</th>\n",
       "      <td>243</td>\n",
       "    </tr>\n",
       "    <tr>\n",
       "      <th>9.09</th>\n",
       "      <td>760</td>\n",
       "    </tr>\n",
       "    <tr>\n",
       "      <th>13.64</th>\n",
       "      <td>839</td>\n",
       "    </tr>\n",
       "    <tr>\n",
       "      <th>18.18</th>\n",
       "      <td>314</td>\n",
       "    </tr>\n",
       "    <tr>\n",
       "      <th>22.73</th>\n",
       "      <td>303</td>\n",
       "    </tr>\n",
       "    <tr>\n",
       "      <th>27.27</th>\n",
       "      <td>62</td>\n",
       "    </tr>\n",
       "    <tr>\n",
       "      <th>31.82</th>\n",
       "      <td>23</td>\n",
       "    </tr>\n",
       "    <tr>\n",
       "      <th>36.36</th>\n",
       "      <td>21</td>\n",
       "    </tr>\n",
       "    <tr>\n",
       "      <th>40.91</th>\n",
       "      <td>9</td>\n",
       "    </tr>\n",
       "    <tr>\n",
       "      <th>45.45</th>\n",
       "      <td>11</td>\n",
       "    </tr>\n",
       "    <tr>\n",
       "      <th>50.00</th>\n",
       "      <td>8</td>\n",
       "    </tr>\n",
       "    <tr>\n",
       "      <th>54.55</th>\n",
       "      <td>22</td>\n",
       "    </tr>\n",
       "    <tr>\n",
       "      <th>59.09</th>\n",
       "      <td>18</td>\n",
       "    </tr>\n",
       "    <tr>\n",
       "      <th>72.73</th>\n",
       "      <td>15</td>\n",
       "    </tr>\n",
       "    <tr>\n",
       "      <th>77.27</th>\n",
       "      <td>68</td>\n",
       "    </tr>\n",
       "    <tr>\n",
       "      <th>86.36</th>\n",
       "      <td>11</td>\n",
       "    </tr>\n",
       "    <tr>\n",
       "      <th>90.91</th>\n",
       "      <td>73</td>\n",
       "    </tr>\n",
       "  </tbody>\n",
       "</table>\n",
       "</div>"
      ],
      "text/plain": [
       "       original_missing_values_per_row_percentage\n",
       "0.00                                           13\n",
       "4.55                                          243\n",
       "9.09                                          760\n",
       "13.64                                         839\n",
       "18.18                                         314\n",
       "22.73                                         303\n",
       "27.27                                          62\n",
       "31.82                                          23\n",
       "36.36                                          21\n",
       "40.91                                           9\n",
       "45.45                                          11\n",
       "50.00                                           8\n",
       "54.55                                          22\n",
       "59.09                                          18\n",
       "72.73                                          15\n",
       "77.27                                          68\n",
       "86.36                                          11\n",
       "90.91                                          73"
      ]
     },
     "execution_count": 13,
     "metadata": {},
     "output_type": "execute_result"
    }
   ],
   "source": [
    "df_explorer.datasets[2011]['original_missing_values_per_row_percentage'].value_counts().to_frame().sort_index()"
   ]
  },
  {
   "cell_type": "markdown",
   "metadata": {},
   "source": [
    "### Merging datasets common questions"
   ]
  },
  {
   "cell_type": "code",
   "execution_count": 15,
   "metadata": {},
   "outputs": [],
   "source": [
    "features = [\n",
    "    'year', 'original_missing_values_per_row_percentage', \n",
    "    'programming_languages', 'programming_languages_other',\n",
    "    'country', 'years_experience', 'occupation',\n",
    "    'age', 'os', 'job_satisfaction', 'company_size',\n",
    "    'want_work_language', 'gender', 'education', 'database_desire_work', 'database_worked_with', 'undergrad_major',\n",
    "    'remote_status',\n",
    "    'industry'\n",
    "]"
   ]
  },
  {
   "cell_type": "code",
   "execution_count": 16,
   "metadata": {},
   "outputs": [],
   "source": [
    "concat_df = pd.concat([df for df in df_explorer.datasets.values()], ignore_index=True)[features]"
   ]
  },
  {
   "cell_type": "code",
   "execution_count": 17,
   "metadata": {},
   "outputs": [],
   "source": [
    "concat_df.to_csv('survey_report_concat_common_questions.csv', index=False)"
   ]
  }
 ],
 "metadata": {
  "kernelspec": {
   "display_name": "Python 3",
   "language": "python",
   "name": "python3"
  },
  "language_info": {
   "codemirror_mode": {
    "name": "ipython",
    "version": 3
   },
   "file_extension": ".py",
   "mimetype": "text/x-python",
   "name": "python",
   "nbconvert_exporter": "python",
   "pygments_lexer": "ipython3",
   "version": "3.8.5"
  }
 },
 "nbformat": 4,
 "nbformat_minor": 4
}
